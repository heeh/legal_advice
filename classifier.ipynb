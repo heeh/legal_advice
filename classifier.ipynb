{
 "cells": [
  {
   "cell_type": "markdown",
   "metadata": {
    "colab_type": "text",
    "id": "cXr-llCCp7_Z",
    "janus": {
     "all_versions_showing": false,
     "cell_hidden": false,
     "current_version": 0,
     "id": "906255c57419d",
     "named_versions": [],
     "output_hidden": false,
     "show_versions": false,
     "source_hidden": false,
     "versions": []
    }
   },
   "source": [
    "# Introduction\n",
    "* This program that classifies legal issues into a binary value for each National Subject Matter Index (NSMI). (https://nsmi.lsntap.org/browse-v2) \\\\\n",
    "\"Category\" means 20 indexes. \\\\\n",
    "\"Class\" means sub categories under the category.\n",
    "\n",
    "### Data\n",
    "* The data contains 2777 labeled articles. Each article has a binary value(0 or 1) that indicates if this article is related to a specific legal class. We ignore unlabeled entries when constructing a model.\n",
    "\n",
    "### Implementation\n",
    "* The program converts an article into tf-idf and applies multinomial Naive-Bayes model provided by scikit-learn. \n",
    "\n",
    "* After preprocessing data, we predict the model with 10-fold cross-validation.\n",
    "\n",
    "### Output\n",
    "* We calculate accuracy with bot categories(20) and classes(100+). \\\\\n",
    "\n",
    "See overall result is at the bottom of this notebook."
   ]
  },
  {
   "cell_type": "markdown",
   "metadata": {
    "colab_type": "text",
    "id": "LNIANhrjEzYE",
    "janus": {
     "all_versions_showing": false,
     "cell_hidden": false,
     "current_version": 0,
     "id": "c64b7d852eb46",
     "named_versions": [],
     "output_hidden": false,
     "show_versions": false,
     "source_hidden": false,
     "versions": []
    }
   },
   "source": [
    "# Data Preparation (DONE)"
   ]
  },
  {
   "cell_type": "code",
   "execution_count": 1,
   "metadata": {
    "colab": {},
    "colab_type": "code",
    "id": "YsbprkpElhDw",
    "janus": {
     "all_versions_showing": false,
     "cell_hidden": true,
     "current_version": 0,
     "id": "fbc1e35bd1c07",
     "named_versions": [],
     "output_hidden": true,
     "show_versions": false,
     "source_hidden": true,
     "versions": []
    }
   },
   "outputs": [
    {
     "name": "stdout",
     "output_type": "stream",
     "text": [
      "Requirement already satisfied: PrettyTable in /Users/heeh/.pyenv/versions/3.8.0/lib/python3.8/site-packages (0.7.2)\n",
      "Requirement already satisfied: pandas in /Users/heeh/.pyenv/versions/3.8.0/lib/python3.8/site-packages (1.0.1)\n",
      "Requirement already satisfied: python-dateutil>=2.6.1 in /Users/heeh/.pyenv/versions/3.8.0/lib/python3.8/site-packages (from pandas) (2.8.1)\n",
      "Requirement already satisfied: pytz>=2017.2 in /Users/heeh/.pyenv/versions/3.8.0/lib/python3.8/site-packages (from pandas) (2019.3)\n",
      "Requirement already satisfied: numpy>=1.13.3 in /Users/heeh/.pyenv/versions/3.8.0/lib/python3.8/site-packages (from pandas) (1.18.1)\n",
      "Requirement already satisfied: six>=1.5 in /Users/heeh/.pyenv/versions/3.8.0/lib/python3.8/site-packages (from python-dateutil>=2.6.1->pandas) (1.14.0)\n",
      "Requirement already satisfied: sklearn in /Users/heeh/.pyenv/versions/3.8.0/lib/python3.8/site-packages (0.0)\n",
      "Requirement already satisfied: scikit-learn in /Users/heeh/.pyenv/versions/3.8.0/lib/python3.8/site-packages (from sklearn) (0.22.2.post1)\n",
      "Requirement already satisfied: joblib>=0.11 in /Users/heeh/.pyenv/versions/3.8.0/lib/python3.8/site-packages (from scikit-learn->sklearn) (0.14.1)\n",
      "Requirement already satisfied: numpy>=1.11.0 in /Users/heeh/.pyenv/versions/3.8.0/lib/python3.8/site-packages (from scikit-learn->sklearn) (1.18.1)\n",
      "Requirement already satisfied: scipy>=0.17.0 in /Users/heeh/.pyenv/versions/3.8.0/lib/python3.8/site-packages (from scikit-learn->sklearn) (1.4.1)\n",
      "Requirement already satisfied: matplotlib in /Users/heeh/.pyenv/versions/3.8.0/lib/python3.8/site-packages (3.2.0)\n",
      "Requirement already satisfied: kiwisolver>=1.0.1 in /Users/heeh/.pyenv/versions/3.8.0/lib/python3.8/site-packages (from matplotlib) (1.1.0)\n",
      "Requirement already satisfied: pyparsing!=2.0.4,!=2.1.2,!=2.1.6,>=2.0.1 in /Users/heeh/.pyenv/versions/3.8.0/lib/python3.8/site-packages (from matplotlib) (2.4.6)\n",
      "Requirement already satisfied: cycler>=0.10 in /Users/heeh/.pyenv/versions/3.8.0/lib/python3.8/site-packages (from matplotlib) (0.10.0)\n",
      "Requirement already satisfied: numpy>=1.11 in /Users/heeh/.pyenv/versions/3.8.0/lib/python3.8/site-packages (from matplotlib) (1.18.1)\n",
      "Requirement already satisfied: python-dateutil>=2.1 in /Users/heeh/.pyenv/versions/3.8.0/lib/python3.8/site-packages (from matplotlib) (2.8.1)\n",
      "Requirement already satisfied: setuptools in /Users/heeh/.pyenv/versions/3.8.0/lib/python3.8/site-packages (from kiwisolver>=1.0.1->matplotlib) (41.2.0)\n",
      "Requirement already satisfied: six in /Users/heeh/.pyenv/versions/3.8.0/lib/python3.8/site-packages (from cycler>=0.10->matplotlib) (1.14.0)\n",
      "Requirement already satisfied: seaborn in /Users/heeh/.pyenv/versions/3.8.0/lib/python3.8/site-packages (0.10.0)\n",
      "Requirement already satisfied: matplotlib>=2.1.2 in /Users/heeh/.pyenv/versions/3.8.0/lib/python3.8/site-packages (from seaborn) (3.2.0)\n",
      "Requirement already satisfied: pandas>=0.22.0 in /Users/heeh/.pyenv/versions/3.8.0/lib/python3.8/site-packages (from seaborn) (1.0.1)\n",
      "Requirement already satisfied: scipy>=1.0.1 in /Users/heeh/.pyenv/versions/3.8.0/lib/python3.8/site-packages (from seaborn) (1.4.1)\n",
      "Requirement already satisfied: numpy>=1.13.3 in /Users/heeh/.pyenv/versions/3.8.0/lib/python3.8/site-packages (from seaborn) (1.18.1)\n",
      "Requirement already satisfied: cycler>=0.10 in /Users/heeh/.pyenv/versions/3.8.0/lib/python3.8/site-packages (from matplotlib>=2.1.2->seaborn) (0.10.0)\n",
      "Requirement already satisfied: python-dateutil>=2.1 in /Users/heeh/.pyenv/versions/3.8.0/lib/python3.8/site-packages (from matplotlib>=2.1.2->seaborn) (2.8.1)\n",
      "Requirement already satisfied: kiwisolver>=1.0.1 in /Users/heeh/.pyenv/versions/3.8.0/lib/python3.8/site-packages (from matplotlib>=2.1.2->seaborn) (1.1.0)\n",
      "Requirement already satisfied: pyparsing!=2.0.4,!=2.1.2,!=2.1.6,>=2.0.1 in /Users/heeh/.pyenv/versions/3.8.0/lib/python3.8/site-packages (from matplotlib>=2.1.2->seaborn) (2.4.6)\n",
      "Requirement already satisfied: pytz>=2017.2 in /Users/heeh/.pyenv/versions/3.8.0/lib/python3.8/site-packages (from pandas>=0.22.0->seaborn) (2019.3)\n",
      "Requirement already satisfied: six in /Users/heeh/.pyenv/versions/3.8.0/lib/python3.8/site-packages (from cycler>=0.10->matplotlib>=2.1.2->seaborn) (1.14.0)\n",
      "Requirement already satisfied: setuptools in /Users/heeh/.pyenv/versions/3.8.0/lib/python3.8/site-packages (from kiwisolver>=1.0.1->matplotlib>=2.1.2->seaborn) (41.2.0)\n",
      "Requirement already satisfied: tqdm in /Users/heeh/.pyenv/versions/3.8.0/lib/python3.8/site-packages (4.43.0)\n",
      "Requirement already satisfied: nltk in /Users/heeh/.pyenv/versions/3.8.0/lib/python3.8/site-packages (3.4.5)\n",
      "Requirement already satisfied: six in /Users/heeh/.pyenv/versions/3.8.0/lib/python3.8/site-packages (from nltk) (1.14.0)\n",
      "/Users/heeh/.pyenv/versions/3.8.0/lib/python3.8/runpy.py:125: RuntimeWarning: 'nltk.downloader' found in sys.modules after import of package 'nltk', but prior to execution of 'nltk.downloader'; this may result in unpredictable behaviour\n",
      "  warn(RuntimeWarning(msg))\n",
      "[nltk_data] Downloading package stopwords to /Users/heeh/nltk_data...\n",
      "[nltk_data]   Package stopwords is already up-to-date!\n",
      "[nltk_data] Downloading package punkt to /Users/heeh/nltk_data...\n",
      "[nltk_data]   Package punkt is already up-to-date!\n"
     ]
    },
    {
     "name": "stderr",
     "output_type": "stream",
     "text": [
      "/Users/heeh/.pyenv/versions/3.8.0/lib/python3.8/site-packages/pandas/compat/__init__.py:117: UserWarning: Could not import the lzma module. Your installed Python is incomplete. Attempting to use lzma compression will result in a RuntimeError.\n",
      "  warnings.warn(msg)\n"
     ]
    },
    {
     "name": "stdout",
     "output_type": "stream",
     "text": [
      "DONE\n"
     ]
    }
   ],
   "source": [
    "!pip3 install PrettyTable\n",
    "!pip3 install pandas\n",
    "!pip3 install sklearn\n",
    "!pip3 install matplotlib\n",
    "!pip3 install seaborn\n",
    "!pip3 install tqdm\n",
    "!pip3 install nltk\n",
    "!python3 -m nltk.downloader stopwords punkt\n",
    "\n",
    "import os\n",
    "import sys\n",
    "import pandas as pd\n",
    "from collections import Counter\n",
    "from sklearn.feature_extraction.text import TfidfVectorizer\n",
    "from sklearn.naive_bayes import MultinomialNB\n",
    "from sklearn.pipeline import make_pipeline\n",
    "from sklearn.metrics import confusion_matrix\n",
    "from sklearn.metrics import accuracy_score\n",
    "import numpy as np\n",
    "import matplotlib.pyplot as plt\n",
    "import seaborn as sns; sns.set()\n",
    "pd.options.display.max_rows = 100\n",
    "pd.set_option('display.max_columns', None) \n",
    "print(\"DONE\")"
   ]
  },
  {
   "cell_type": "code",
   "execution_count": 2,
   "metadata": {
    "colab": {
     "base_uri": "https://localhost:8080/",
     "height": 504
    },
    "colab_type": "code",
    "executionInfo": {
     "elapsed": 2953,
     "status": "ok",
     "timestamp": 1582551057054,
     "user": {
      "displayName": "Hee Hwang",
      "photoUrl": "",
      "userId": "05361436400321274076"
     },
     "user_tz": 300
    },
    "id": "6XZZPmUtlhGg",
    "janus": {
     "all_versions_showing": false,
     "cell_hidden": true,
     "current_version": 0,
     "id": "b4140f133d1e6",
     "named_versions": [],
     "output_hidden": true,
     "show_versions": false,
     "source_hidden": true,
     "versions": []
    },
    "outputId": "161dab3f-ad00-4e8a-8bb5-99b9f7504581"
   },
   "outputs": [
    {
     "name": "stdout",
     "output_type": "stream",
     "text": [
      "<class 'pandas.core.frame.DataFrame'>\n",
      "RangeIndex: 2777 entries, 0 to 2776\n",
      "Columns: 109 entries, _id to WO-09-00-00-00\n",
      "dtypes: float64(107), object(2)\n",
      "memory usage: 2.3+ MB\n"
     ]
    },
    {
     "data": {
      "text/html": [
       "<div>\n",
       "<style scoped>\n",
       "    .dataframe tbody tr th:only-of-type {\n",
       "        vertical-align: middle;\n",
       "    }\n",
       "\n",
       "    .dataframe tbody tr th {\n",
       "        vertical-align: top;\n",
       "    }\n",
       "\n",
       "    .dataframe thead th {\n",
       "        text-align: right;\n",
       "    }\n",
       "</style>\n",
       "<table border=\"1\" class=\"dataframe\">\n",
       "  <thead>\n",
       "    <tr style=\"text-align: right;\">\n",
       "      <th></th>\n",
       "      <th>_id</th>\n",
       "      <th>full_text</th>\n",
       "      <th>BE-00-00-00-00</th>\n",
       "      <th>BE-01-00-00-00</th>\n",
       "    </tr>\n",
       "  </thead>\n",
       "  <tbody>\n",
       "    <tr>\n",
       "      <th>0</th>\n",
       "      <td>5b60e59cda52255c20cff794</td>\n",
       "      <td>Will he serve time?. Long story short my broth...</td>\n",
       "      <td>0.0</td>\n",
       "      <td>0.0</td>\n",
       "    </tr>\n",
       "    <tr>\n",
       "      <th>1</th>\n",
       "      <td>5b60e59cda52255c20cff79a</td>\n",
       "      <td>Groundwater leaking out of street 24/7. Ground...</td>\n",
       "      <td>0.0</td>\n",
       "      <td>0.0</td>\n",
       "    </tr>\n",
       "    <tr>\n",
       "      <th>2</th>\n",
       "      <td>5b60e59cda52255c20cff7a0</td>\n",
       "      <td>How do I get my mom's license taken away. My m...</td>\n",
       "      <td>0.0</td>\n",
       "      <td>0.0</td>\n",
       "    </tr>\n",
       "    <tr>\n",
       "      <th>3</th>\n",
       "      <td>5b60e59cda52255c20cff7bf</td>\n",
       "      <td>My boss hasn't paid me. What do i do?. I work ...</td>\n",
       "      <td>NaN</td>\n",
       "      <td>NaN</td>\n",
       "    </tr>\n",
       "    <tr>\n",
       "      <th>4</th>\n",
       "      <td>5b60e59cda52255c20cff7b8</td>\n",
       "      <td>[Texas] I signed a non-compete contract, but t...</td>\n",
       "      <td>0.0</td>\n",
       "      <td>0.0</td>\n",
       "    </tr>\n",
       "    <tr>\n",
       "      <th>...</th>\n",
       "      <td>...</td>\n",
       "      <td>...</td>\n",
       "      <td>...</td>\n",
       "      <td>...</td>\n",
       "    </tr>\n",
       "    <tr>\n",
       "      <th>2772</th>\n",
       "      <td>5b60e66dda52255c20df433f</td>\n",
       "      <td>Do you and your parents get deported because o...</td>\n",
       "      <td>0.0</td>\n",
       "      <td>0.0</td>\n",
       "    </tr>\n",
       "    <tr>\n",
       "      <th>2773</th>\n",
       "      <td>5b60e66dda52255c20df43ae</td>\n",
       "      <td>Wondering the legality of a minor (me) being a...</td>\n",
       "      <td>0.0</td>\n",
       "      <td>0.0</td>\n",
       "    </tr>\n",
       "    <tr>\n",
       "      <th>2774</th>\n",
       "      <td>5b60e66dda52255c20df4462</td>\n",
       "      <td>Can I sue a billion dollar company in small cl...</td>\n",
       "      <td>0.0</td>\n",
       "      <td>0.0</td>\n",
       "    </tr>\n",
       "    <tr>\n",
       "      <th>2775</th>\n",
       "      <td>5b60e66dda52255c20df4448</td>\n",
       "      <td>Sued by creditor and currently in settlement n...</td>\n",
       "      <td>0.0</td>\n",
       "      <td>0.0</td>\n",
       "    </tr>\n",
       "    <tr>\n",
       "      <th>2776</th>\n",
       "      <td>5b60e66dda52255c20df4491</td>\n",
       "      <td>(CA) Sales job. Income based on performance. A...</td>\n",
       "      <td>0.0</td>\n",
       "      <td>0.0</td>\n",
       "    </tr>\n",
       "  </tbody>\n",
       "</table>\n",
       "<p>2777 rows × 4 columns</p>\n",
       "</div>"
      ],
      "text/plain": [
       "                           _id  \\\n",
       "0     5b60e59cda52255c20cff794   \n",
       "1     5b60e59cda52255c20cff79a   \n",
       "2     5b60e59cda52255c20cff7a0   \n",
       "3     5b60e59cda52255c20cff7bf   \n",
       "4     5b60e59cda52255c20cff7b8   \n",
       "...                        ...   \n",
       "2772  5b60e66dda52255c20df433f   \n",
       "2773  5b60e66dda52255c20df43ae   \n",
       "2774  5b60e66dda52255c20df4462   \n",
       "2775  5b60e66dda52255c20df4448   \n",
       "2776  5b60e66dda52255c20df4491   \n",
       "\n",
       "                                              full_text  BE-00-00-00-00  \\\n",
       "0     Will he serve time?. Long story short my broth...             0.0   \n",
       "1     Groundwater leaking out of street 24/7. Ground...             0.0   \n",
       "2     How do I get my mom's license taken away. My m...             0.0   \n",
       "3     My boss hasn't paid me. What do i do?. I work ...             NaN   \n",
       "4     [Texas] I signed a non-compete contract, but t...             0.0   \n",
       "...                                                 ...             ...   \n",
       "2772  Do you and your parents get deported because o...             0.0   \n",
       "2773  Wondering the legality of a minor (me) being a...             0.0   \n",
       "2774  Can I sue a billion dollar company in small cl...             0.0   \n",
       "2775  Sued by creditor and currently in settlement n...             0.0   \n",
       "2776  (CA) Sales job. Income based on performance. A...             0.0   \n",
       "\n",
       "      BE-01-00-00-00  \n",
       "0                0.0  \n",
       "1                0.0  \n",
       "2                0.0  \n",
       "3                NaN  \n",
       "4                0.0  \n",
       "...              ...  \n",
       "2772             0.0  \n",
       "2773             0.0  \n",
       "2774             0.0  \n",
       "2775             0.0  \n",
       "2776             0.0  \n",
       "\n",
       "[2777 rows x 4 columns]"
      ]
     },
     "execution_count": 2,
     "metadata": {},
     "output_type": "execute_result"
    }
   ],
   "source": [
    "url = 'https://raw.githubusercontent.com/heeh/legal_issue_classification/master/2019-12-06_95p-confidence_binary.csv'\n",
    "df = pd.read_csv(url)\n",
    "df.info()\n",
    "df.iloc[:,:4]"
   ]
  },
  {
   "cell_type": "markdown",
   "metadata": {
    "janus": {
     "all_versions_showing": false,
     "cell_hidden": false,
     "current_version": 0,
     "id": "1c9646a6871a5",
     "named_versions": [],
     "output_hidden": false,
     "show_versions": false,
     "source_hidden": false,
     "versions": []
    }
   },
   "source": [
    "## Null and Rowsum Check"
   ]
  },
  {
   "cell_type": "code",
   "execution_count": 3,
   "metadata": {
    "colab": {
     "base_uri": "https://localhost:8080/",
     "height": 1000
    },
    "colab_type": "code",
    "executionInfo": {
     "elapsed": 8575,
     "status": "ok",
     "timestamp": 1582551062684,
     "user": {
      "displayName": "Hee Hwang",
      "photoUrl": "",
      "userId": "05361436400321274076"
     },
     "user_tz": 300
    },
    "id": "LWh8RtxFlhKT",
    "janus": {
     "all_versions_showing": false,
     "cell_hidden": true,
     "current_version": 0,
     "id": "46f3ebdce3ec5",
     "named_versions": [],
     "output_hidden": true,
     "show_versions": false,
     "source_hidden": true,
     "versions": []
    },
    "outputId": "8a2616da-2389-4142-c19a-4fadc1b86d66"
   },
   "outputs": [],
   "source": [
    "\n",
    "#Null Check\n",
    "#df.isnull().sum()\n",
    "\n",
    "# Class Check - Remove every column that has zero sum. \n",
    "df = df.loc[:, df.sum(axis=0, skipna=True) != 0]\n",
    "temp = df.sum(axis = 0, skipna = True)\n",
    "\n",
    "\n",
    "#df.info()\n"
   ]
  },
  {
   "cell_type": "markdown",
   "metadata": {
    "janus": {
     "all_versions_showing": false,
     "cell_hidden": false,
     "current_version": 0,
     "id": "6b5f506275a07",
     "named_versions": [],
     "output_hidden": false,
     "show_versions": false,
     "source_hidden": false,
     "versions": []
    }
   },
   "source": [
    "# Remove columns that have <10 positive classes"
   ]
  },
  {
   "cell_type": "code",
   "execution_count": 4,
   "metadata": {
    "janus": {
     "all_versions_showing": false,
     "cell_hidden": true,
     "current_version": 0,
     "id": "da6bfdef8ea13",
     "named_versions": [],
     "output_hidden": true,
     "show_versions": false,
     "source_hidden": true,
     "versions": []
    }
   },
   "outputs": [
    {
     "name": "stdout",
     "output_type": "stream",
     "text": [
      "88\n",
      "36\n",
      "['_id', 'full_text', 'BE-00-00-00-00', 'BU-00-00-00-00', 'CO-00-00-00-00', 'CR-00-00-00-00', 'CR-01-00-00-00', 'CR-04-00-00-00', 'CR-06-00-00-00', 'CR-10-00-00-00', 'ED-00-00-00-00', 'ES-00-00-00-00', 'ES-01-00-00-00', 'ES-03-00-00-00', 'FA-00-00-00-00', 'FA-05-00-00-00', 'FA-06-00-00-00', 'FA-07-00-00-00', 'GO-00-00-00-00', 'HE-00-00-00-00', 'HO-00-00-00-00', 'HO-06-00-00-00', 'HO-09-00-00-00', 'IM-00-00-00-00', 'MO-00-00-00-00', 'MO-02-00-00-00', 'MO-07-00-00-00', 'MO-10-00-00-00', 'RI-00-00-00-00', 'TO-00-00-00-00', 'TR-00-00-00-00', 'TR-01-00-00-00', 'TR-02-00-00-00', 'TR-03-00-00-00', 'TR-04-00-00-00', 'TR-05-00-00-00', 'WO-00-00-00-00', 'WO-03-00-00-00']\n",
      "38\n"
     ]
    },
    {
     "data": {
      "text/plain": [
       "_id               5b60e59cda52255c20cff7945b60e59cda52255c20cff7...\n",
       "full_text         Will he serve time?. Long story short my broth...\n",
       "BE-00-00-00-00                                                   27\n",
       "BU-00-00-00-00                                                   93\n",
       "CO-00-00-00-00                                                  106\n",
       "CR-00-00-00-00                                                  302\n",
       "CR-01-00-00-00                                                   12\n",
       "CR-04-00-00-00                                                   13\n",
       "CR-06-00-00-00                                                   11\n",
       "CR-10-00-00-00                                                   11\n",
       "ED-00-00-00-00                                                   24\n",
       "ES-00-00-00-00                                                   78\n",
       "ES-01-00-00-00                                                   10\n",
       "ES-03-00-00-00                                                   13\n",
       "FA-00-00-00-00                                                  357\n",
       "FA-05-00-00-00                                                   10\n",
       "FA-06-00-00-00                                                   10\n",
       "FA-07-00-00-00                                                   41\n",
       "GO-00-00-00-00                                                   13\n",
       "HE-00-00-00-00                                                  122\n",
       "HO-00-00-00-00                                                  550\n",
       "HO-06-00-00-00                                                   34\n",
       "HO-09-00-00-00                                                   27\n",
       "IM-00-00-00-00                                                   36\n",
       "MO-00-00-00-00                                                  366\n",
       "MO-02-00-00-00                                                   12\n",
       "MO-07-00-00-00                                                   13\n",
       "MO-10-00-00-00                                                   11\n",
       "RI-00-00-00-00                                                   22\n",
       "TO-00-00-00-00                                                  230\n",
       "TR-00-00-00-00                                                  260\n",
       "TR-01-00-00-00                                                   22\n",
       "TR-02-00-00-00                                                   29\n",
       "TR-03-00-00-00                                                   17\n",
       "TR-04-00-00-00                                                   20\n",
       "TR-05-00-00-00                                                   31\n",
       "WO-00-00-00-00                                                  387\n",
       "WO-03-00-00-00                                                   10\n",
       "dtype: object"
      ]
     },
     "execution_count": 4,
     "metadata": {},
     "output_type": "execute_result"
    }
   ],
   "source": [
    "oldCols = list(df.columns)\n",
    "print(len(oldCols))\n",
    "\n",
    "newCols = []\n",
    "for i,x in temp[2:].items():\n",
    "    if x >= 10:\n",
    "        newCols.append(i)\n",
    "        \n",
    "print(len(newCols))\n",
    "\n",
    "cols = oldCols[:2] + newCols\n",
    "\n",
    "print(cols)\n",
    "print(len(cols))\n",
    "\n",
    "df = df[cols]\n",
    "\n",
    "df.sum(axis=0, skipna=True)"
   ]
  },
  {
   "cell_type": "markdown",
   "metadata": {
    "colab_type": "text",
    "id": "zB9yYBXlrN7p",
    "janus": {
     "all_versions_showing": false,
     "cell_hidden": false,
     "current_version": 0,
     "id": "8f56427cc56eb",
     "named_versions": [],
     "output_hidden": false,
     "show_versions": false,
     "source_hidden": false,
     "versions": []
    }
   },
   "source": [
    "# Tiny Example: Crime and Prison(CR-00-00-00-00)\n"
   ]
  },
  {
   "cell_type": "markdown",
   "metadata": {
    "colab_type": "text",
    "id": "KoY-GYaJeHkk",
    "janus": {
     "all_versions_showing": false,
     "cell_hidden": false,
     "current_version": 0,
     "id": "cf617134b9c83",
     "named_versions": [],
     "output_hidden": false,
     "show_versions": false,
     "source_hidden": false,
     "versions": []
    }
   },
   "source": [
    "## Preprocessing (DONE)"
   ]
  },
  {
   "cell_type": "code",
   "execution_count": 5,
   "metadata": {
    "colab": {
     "base_uri": "https://localhost:8080/",
     "height": 663
    },
    "colab_type": "code",
    "executionInfo": {
     "elapsed": 8562,
     "status": "ok",
     "timestamp": 1582551062685,
     "user": {
      "displayName": "Hee Hwang",
      "photoUrl": "",
      "userId": "05361436400321274076"
     },
     "user_tz": 300
    },
    "id": "8WqotY32rOEs",
    "janus": {
     "all_versions_showing": false,
     "cell_hidden": true,
     "current_version": 0,
     "id": "455af60adbcad",
     "named_versions": [],
     "output_hidden": true,
     "show_versions": false,
     "source_hidden": true,
     "versions": []
    },
    "outputId": "b16f4dc2-bb9c-43d8-ad00-083a13c9b77e"
   },
   "outputs": [],
   "source": [
    "from collections import defaultdict\n",
    "verbose = True\n",
    "def preprocessing(dfset: defaultdict, cls: str):\n",
    "    dfset[cls] = df.loc[:, ['_id', 'full_text', cls]]\n",
    "    labels = dfset[cls].iloc[:,2]\n",
    "    if verbose:\n",
    "        print(\"------------Before dropping nan----------------------------------------\")\n",
    "        print(dfset[cls].iloc[:,1:])\n",
    "        print(labels.value_counts(dropna=False))\n",
    "    \n",
    "    dfset[cls] = dfset[cls].dropna()\n",
    "    labels = dfset[cls].iloc[:,2]\n",
    "    if verbose:\n",
    "        print(\"\\n------------After dropping nan---------------------------------------\")\n",
    "        print(dfset[cls].iloc[:,1:])\n",
    "        print(labels.value_counts(dropna=False))\n",
    "\n"
   ]
  },
  {
   "cell_type": "markdown",
   "metadata": {
    "janus": {
     "all_versions_showing": false,
     "cell_hidden": false,
     "current_version": 0,
     "id": "11459136fca6",
     "named_versions": [],
     "output_hidden": false,
     "show_versions": false,
     "source_hidden": false,
     "versions": []
    }
   },
   "source": [
    "## Data Preparation"
   ]
  },
  {
   "cell_type": "code",
   "execution_count": 6,
   "metadata": {
    "janus": {
     "all_versions_showing": false,
     "cell_hidden": true,
     "current_version": 0,
     "id": "11e5448bf4137",
     "named_versions": [],
     "output_hidden": true,
     "show_versions": false,
     "source_hidden": true,
     "versions": []
    }
   },
   "outputs": [
    {
     "name": "stdout",
     "output_type": "stream",
     "text": [
      "------------Before dropping nan----------------------------------------\n",
      "                                              full_text  CR-00-00-00-00\n",
      "0     Will he serve time?. Long story short my broth...             1.0\n",
      "1     Groundwater leaking out of street 24/7. Ground...             0.0\n",
      "2     How do I get my mom's license taken away. My m...             NaN\n",
      "3     My boss hasn't paid me. What do i do?. I work ...             0.0\n",
      "4     [Texas] I signed a non-compete contract, but t...             0.0\n",
      "...                                                 ...             ...\n",
      "2772  Do you and your parents get deported because o...             1.0\n",
      "2773  Wondering the legality of a minor (me) being a...             0.0\n",
      "2774  Can I sue a billion dollar company in small cl...             0.0\n",
      "2775  Sued by creditor and currently in settlement n...             0.0\n",
      "2776  (CA) Sales job. Income based on performance. A...             0.0\n",
      "\n",
      "[2777 rows x 2 columns]\n",
      "0.0    1377\n",
      "NaN    1098\n",
      "1.0     302\n",
      "Name: CR-00-00-00-00, dtype: int64\n",
      "\n",
      "------------After dropping nan---------------------------------------\n",
      "                                              full_text  CR-00-00-00-00\n",
      "0     Will he serve time?. Long story short my broth...             1.0\n",
      "1     Groundwater leaking out of street 24/7. Ground...             0.0\n",
      "3     My boss hasn't paid me. What do i do?. I work ...             0.0\n",
      "4     [Texas] I signed a non-compete contract, but t...             0.0\n",
      "6     Eviction. I got an eviction notice from my lan...             0.0\n",
      "...                                                 ...             ...\n",
      "2772  Do you and your parents get deported because o...             1.0\n",
      "2773  Wondering the legality of a minor (me) being a...             0.0\n",
      "2774  Can I sue a billion dollar company in small cl...             0.0\n",
      "2775  Sued by creditor and currently in settlement n...             0.0\n",
      "2776  (CA) Sales job. Income based on performance. A...             0.0\n",
      "\n",
      "[1679 rows x 2 columns]\n",
      "0.0    1377\n",
      "1.0     302\n",
      "Name: CR-00-00-00-00, dtype: int64\n"
     ]
    }
   ],
   "source": [
    "\n",
    "cls = 'CR-00-00-00-00'\n",
    "dfset = defaultdict() \n",
    "preprocessing(dfset, cls)    \n",
    "\n",
    "#    model[cls] = make_pipeline(TfidfVectorizer(), MultinomialNB())\n",
    "tinydf = dfset[cls]\n",
    "X = tinydf['full_text'].values\n",
    "Y = tinydf[cls].values\n"
   ]
  },
  {
   "cell_type": "markdown",
   "metadata": {},
   "source": [
    "# TF-IDF"
   ]
  },
  {
   "cell_type": "markdown",
   "metadata": {
    "janus": {
     "all_versions_showing": false,
     "cell_hidden": false,
     "current_version": 0,
     "id": "c3f6dd86ac10d",
     "named_versions": [],
     "output_hidden": false,
     "show_versions": false,
     "source_hidden": false,
     "versions": []
    }
   },
   "source": [
    "## TF-IDF using stopwords, ngram, and C value"
   ]
  },
  {
   "cell_type": "code",
   "execution_count": 7,
   "metadata": {
    "janus": {
     "all_versions_showing": false,
     "cell_hidden": true,
     "current_version": 0,
     "id": "722be740702ee",
     "named_versions": [],
     "output_hidden": true,
     "show_versions": false,
     "source_hidden": true,
     "versions": []
    }
   },
   "outputs": [
    {
     "name": "stdout",
     "output_type": "stream",
     "text": [
      "accuracy : 0.9148\n",
      "precision: 0.6333\n",
      "recall   : 0.8261\n",
      "fscore   : 0.7170\n",
      "TF-IDF Dimension:  127258\n"
     ]
    }
   ],
   "source": [
    "import sys\n",
    "from sklearn.linear_model import LogisticRegression\n",
    "from sklearn.metrics import precision_recall_fscore_support as score\n",
    "from sklearn.model_selection import GridSearchCV\n",
    "from sklearn.metrics import log_loss, make_scorer\n",
    "p = len(X) // 10 * 9\n",
    "#tfidf_vect = TfidfVectorizer(stop_words='english', ngram_range=(1, 2), max_df=300 )\n",
    "tfidf_vect = TfidfVectorizer(stop_words='english', ngram_range=(1, 2), max_df=0.3)\n",
    "tfidf_vect.fit(X[0:p])\n",
    "X_train_tfidf_vect = tfidf_vect.transform(X[0:p])\n",
    "X_test_tfidf_vect = tfidf_vect.transform(X[p:])\n",
    "\n",
    "model = LogisticRegression(penalty='l1', solver='liblinear', class_weight='balanced')\n",
    "model.fit(X_train_tfidf_vect, Y[0:p])\n",
    "preds = model.predict(X_test_tfidf_vect)\n",
    "precision, recall, fscore, support = score(Y[p:], preds, average='binary')\n",
    "print('accuracy : {0:.4f}'.format(accuracy_score(Y[p:], preds)))\n",
    "print('precision: {0:.4f}'.format(precision))\n",
    "print('recall   : {0:.4f}'.format(recall))\n",
    "print('fscore   : {0:.4f}'.format(fscore))\n",
    "\n",
    "print(\"TF-IDF Dimension: \", len(tfidf_vect.vocabulary_))\n"
   ]
  },
  {
   "cell_type": "markdown",
   "metadata": {},
   "source": [
    "## Optimize model using gridsearch, cross validation, and log_loss"
   ]
  },
  {
   "cell_type": "code",
   "execution_count": 8,
   "metadata": {},
   "outputs": [
    {
     "name": "stdout",
     "output_type": "stream",
     "text": [
      "LogisticRegression(C=2048.0, class_weight='balanced', dual=False,\n",
      "                   fit_intercept=True, intercept_scaling=1, l1_ratio=None,\n",
      "                   max_iter=1000, multi_class='auto', n_jobs=None, penalty='l1',\n",
      "                   random_state=None, solver='liblinear', tol=0.0001, verbose=0,\n",
      "                   warm_start=False)\n",
      "accuracy : 0.9375\n",
      "precision: 0.7727\n",
      "recall   : 0.7391\n",
      "fscore   : 0.7556\n"
     ]
    }
   ],
   "source": [
    "parameters = {'C': [1.0/2.0**reg for reg in np.arange(-12, 12)]}\n",
    "lr = LogisticRegression(penalty='l1', solver='liblinear', class_weight='balanced', max_iter=1000)\n",
    "grid_search = GridSearchCV(lr, parameters, cv=10, refit=True, \n",
    "                           scoring=make_scorer(log_loss, greater_is_better=False))\n",
    "grid_search.fit(X_train_tfidf_vect, Y[:p])\n",
    "best_model = grid_search.best_estimator_\n",
    "print(best_model)\n",
    "\n",
    "preds = best_model.predict(X_test_tfidf_vect)\n",
    "precision, recall, fscore, support = score(Y[p:], preds, average='binary')\n",
    "print('accuracy : {0:.4f}'.format(accuracy_score(Y[p:], preds)))\n",
    "print('precision: {0:.4f}'.format(precision))\n",
    "print('recall   : {0:.4f}'.format(recall))\n",
    "print('fscore   : {0:.4f}'.format(fscore))"
   ]
  },
  {
   "cell_type": "markdown",
   "metadata": {
    "janus": {
     "all_versions_showing": false,
     "cell_hidden": true,
     "current_version": 0,
     "id": "8dd4a61345312",
     "named_versions": [],
     "output_hidden": true,
     "show_versions": false,
     "source_hidden": true,
     "versions": []
    }
   },
   "source": [
    "## TF-IDF + Logistic Regression on CR-00-00-00-00"
   ]
  },
  {
   "cell_type": "code",
   "execution_count": 9,
   "metadata": {
    "janus": {
     "all_versions_showing": false,
     "cell_hidden": false,
     "current_version": 0,
     "id": "92abe0eecdd5d",
     "named_versions": [],
     "output_hidden": false,
     "show_versions": false,
     "source_hidden": false,
     "versions": []
    }
   },
   "outputs": [
    {
     "name": "stdout",
     "output_type": "stream",
     "text": [
      "------------------------------------\n",
      "\n",
      "0.0    1377\n",
      "1.0     302\n",
      "Name: CR-00-00-00-00, dtype: int64\n",
      "data set size 1679\n"
     ]
    },
    {
     "data": {
      "text/plain": [
       "(0.8886, 0.6667, 0.7616, 0.711, 302)"
      ]
     },
     "execution_count": 9,
     "metadata": {},
     "output_type": "execute_result"
    }
   ],
   "source": [
    "from sklearn.model_selection import KFold\n",
    "from sklearn.metrics import accuracy_score\n",
    "from sklearn.metrics import precision_score\n",
    "from sklearn.metrics import recall_score\n",
    "from sklearn.metrics import f1_score\n",
    "from sklearn.metrics import precision_recall_fscore_support as score\n",
    "from sklearn.linear_model import LogisticRegression\n",
    "\n",
    "def predict_by_class_tfidf(dfset: defaultdict,cls: str, model) -> float:\n",
    "    preprocessing(dfset, cls)\n",
    "    tinydf = dfset[cls]\n",
    "    X = tinydf['full_text'].values\n",
    "    Y = tinydf[cls].values\n",
    "    print('------------------------------------\\n')\n",
    "    labels = dfset[cls].iloc[:,2]\n",
    "    print(labels.value_counts(dropna=False))\n",
    "\n",
    "    kfold = KFold(n_splits=10)\n",
    "    print('data set size', len(X))\n",
    "    numdoc[cls] = len(X)\n",
    "    n_iter = 0\n",
    "    acc_list = []\n",
    "    pre_list = []\n",
    "    rec_list = []\n",
    "    fsc_list = []\n",
    "    sup_list = []\n",
    "    preds = [0] * len(Y)\n",
    "\n",
    "    for train_index, test_index in kfold.split(X, Y):\n",
    "        X_train, X_test = X[train_index], X[test_index] \n",
    "        Y_train, Y_test = Y[train_index], Y[test_index] \n",
    "        \n",
    "        tfidf_vect = TfidfVectorizer(stop_words='english', ngram_range=(1, 2), max_df=0.3)\n",
    "        tfidf_vect.fit(X_train)\n",
    "        X_train_tfidf = tfidf_vect.transform(X_train)\n",
    "        X_test_tfidf = tfidf_vect.transform(X_test)\n",
    "        \n",
    "        model.fit(X_train_tfidf, Y_train)\n",
    "        out = model.predict(X_test_tfidf)\n",
    "        i = 0\n",
    "        for x in test_index:\n",
    "            preds[x] = out[i]\n",
    "            i += 1\n",
    "        n_iter += 1\n",
    "        \n",
    "    accuracy = accuracy_score(Y, preds)\n",
    "    precision, recall, fscore, support = score(Y, preds)\n",
    "    # accuracy: (tp + tn) / (p + n)\n",
    "    # precision tp / (tp + fp)\n",
    "    # recall: tp / (tp + fn)\n",
    "    # f1: 2 tp / (2 tp + fp + fn)\n",
    "    accuracy = np.round(accuracy, 4)\n",
    "    precision[1] = np.round(precision[1], 4)\n",
    "    recall[1] = np.round(recall[1], 4)\n",
    "    fscore[1] = np.round(fscore[1], 4)\n",
    "    support[1] = np.round(support[1], 4)    \n",
    "    return (accuracy, precision[1], recall[1], fscore[1], support[1])\n",
    "\n",
    "verbose = False \n",
    "numdoc = defaultdict()\n",
    "model = LogisticRegression(penalty='l1', solver='liblinear', class_weight='balanced', max_iter=1000)\n",
    "cls = 'CR-00-00-00-00'\n",
    "\n",
    "predict_by_class_tfidf(dfset, cls, model)"
   ]
  },
  {
   "cell_type": "markdown",
   "metadata": {},
   "source": [
    "## TFIDF Hyperparameter Selection "
   ]
  },
  {
   "cell_type": "code",
   "execution_count": 10,
   "metadata": {},
   "outputs": [],
   "source": [
    "from tqdm import tqdm\n",
    "\n",
    "classifier = defaultdict()\n",
    "\n",
    "\n",
    "def predict_by_class_gridcv(dfset: defaultdict,cls: str):\n",
    "    preprocessing(dfset, cls)\n",
    "    tinydf = dfset[cls]\n",
    "    X = tinydf['full_text'].values\n",
    "    Y = tinydf[cls].values\n",
    "    print('------------------------------------\\n')\n",
    "    labels = dfset[cls].iloc[:,2]\n",
    "    print(labels.value_counts(dropna=False))\n",
    "\n",
    "    kfold = KFold(n_splits=10)\n",
    "    print('data set size', len(X))\n",
    "    numdoc[cls] = len(X)\n",
    "    n_iter = 0\n",
    "    acc_list = []\n",
    "    pre_list = []\n",
    "    rec_list = []\n",
    "    fsc_list = []\n",
    "    sup_list = []\n",
    "    preds = [0] * len(Y)\n",
    "    probs = [0] * len(Y)\n",
    "    \n",
    "    best_recall = 0\n",
    "    best_accuracy = 0\n",
    "    best_precision = 0\n",
    "    best_fscore = 0\n",
    "    best_support = 0\n",
    "    best_model = 0\n",
    "    \n",
    "    best_logloss = 1\n",
    "    \n",
    "    for c in tqdm([1.0/2.0**reg for reg in np.arange(-12, 12)]):\n",
    "        print('C:', c)\n",
    "        model = LogisticRegression(penalty='l1', solver='liblinear', class_weight='balanced', C = c)\n",
    "    \n",
    "        for train_index, test_index in kfold.split(X, Y):\n",
    "            X_train, X_test = X[train_index], X[test_index] \n",
    "            Y_train, Y_test = Y[train_index], Y[test_index] \n",
    "\n",
    "            tfidf_vect = TfidfVectorizer(stop_words='english', ngram_range=(1, 2), max_df=0.3)\n",
    "            tfidf_vect.fit(X_train)\n",
    "            X_train_tfidf = tfidf_vect.transform(X_train)\n",
    "            X_test_tfidf = tfidf_vect.transform(X_test)\n",
    "\n",
    "            model.fit(X_train_tfidf, Y_train)\n",
    "            out = model.predict(X_test_tfidf)\n",
    "            prob = model.predict_proba(X_test_tfidf)\n",
    "            i = 0\n",
    "            for x in test_index:\n",
    "                preds[x] = out[i]\n",
    "                probs[x] = prob[i]\n",
    "                i += 1\n",
    "            n_iter += 1\n",
    "\n",
    "        \n",
    "        custom_logloss = log_loss(Y, probs)\n",
    "        print(custom_logloss)\n",
    "        \n",
    "        \n",
    "        \n",
    "        \n",
    "        accuracy = accuracy_score(Y, preds)\n",
    "        precision, recall, fscore, support = score(Y, preds)\n",
    "        # accuracy: (tp + tn) / (p + n)\n",
    "        # precision tp / (tp + fp)\n",
    "        # recall: tp / (tp + fn)\n",
    "        # f1: 2 tp / (2 tp + fp + fn)\n",
    "        accuracy = np.round(accuracy, 4)\n",
    "        precision[1] = np.round(precision[1], 4)\n",
    "        recall[1] = np.round(recall[1], 4)\n",
    "        fscore[1] = np.round(fscore[1], 4)\n",
    "        support[1] = np.round(support[1], 4)    \n",
    "#        print(accuracy, precision[1], recall[1], fscore[1], support[1])\n",
    "        \n",
    "        #if best_recall < recall[1]: #For best recall score\n",
    "        if best_logloss > custom_logloss: \n",
    "            best_logloss = custom_logloss\n",
    "            best_accuracy = accuracy\n",
    "            best_recall = recall[1]\n",
    "            best_precision = precision[1]\n",
    "            best_fscore = fscore[1]\n",
    "            best_support = support[1]\n",
    "            best_model = model\n",
    "            \n",
    "    classifier[cls] = best_model\n",
    "    return (best_accuracy, best_precision, best_recall, best_fscore, best_support)\n",
    "\n",
    "\n",
    "numdoc = defaultdict()\n",
    "\n",
    "cls = 'CR-00-00-00-00'\n",
    "\n",
    "#print(predict_by_class_gridcv(dfset, cls))"
   ]
  },
  {
   "cell_type": "markdown",
   "metadata": {},
   "source": [
    "# GloVE"
   ]
  },
  {
   "cell_type": "markdown",
   "metadata": {
    "janus": {
     "all_versions_showing": false,
     "cell_hidden": false,
     "current_version": 0,
     "id": "0484da46afac2",
     "named_versions": [],
     "output_hidden": false,
     "show_versions": false,
     "source_hidden": false,
     "versions": []
    }
   },
   "source": [
    "## Download and Load GloVe"
   ]
  },
  {
   "cell_type": "code",
   "execution_count": 11,
   "metadata": {
    "janus": {
     "all_versions_showing": false,
     "cell_hidden": true,
     "current_version": 0,
     "id": "dfd2a43208cde",
     "named_versions": [],
     "output_hidden": true,
     "show_versions": false,
     "source_hidden": true,
     "versions": []
    }
   },
   "outputs": [
    {
     "name": "stderr",
     "output_type": "stream",
     "text": [
      "400000it [00:05, 74883.96it/s]"
     ]
    },
    {
     "name": "stdout",
     "output_type": "stream",
     "text": [
      "Found 400000 word vectors.\n"
     ]
    },
    {
     "name": "stderr",
     "output_type": "stream",
     "text": [
      "\n"
     ]
    }
   ],
   "source": [
    "#!wget http://nlp.stanford.edu/data/glove.6B.zip\n",
    "#!unzip glove.6B.zip\n",
    "import numpy as np\n",
    "import pandas as pd\n",
    "\n",
    "\n",
    "from sklearn.feature_extraction.text import TfidfVectorizer\n",
    "from sklearn.linear_model import LogisticRegression\n",
    "from sklearn.model_selection import cross_val_score\n",
    "from scipy.sparse import hstack\n",
    "\n",
    "\n",
    "\n",
    "from nltk import word_tokenize\n",
    "from nltk.corpus import stopwords\n",
    "from nltk import punkt\n",
    "stop_words = stopwords.words('english')\n",
    "from tqdm import tqdm\n",
    "\n",
    "import sys\n",
    "from sklearn.linear_model import LogisticRegression\n",
    "from sklearn.metrics import precision_recall_fscore_support as score\n",
    "from sklearn.model_selection import GridSearchCV\n",
    "from sklearn.metrics import log_loss, make_scorer\n",
    "\n",
    "\n",
    "\n",
    "embeddings_index = {}\n",
    "f = open('glove.6B.50d.txt', encoding=\"utf8\")\n",
    "for line in tqdm(f):\n",
    "    values = line.split()\n",
    "    word = values[0]\n",
    "    try:\n",
    "        coefs = np.asarray(values[1:], dtype='float32')\n",
    "        embeddings_index[word] = coefs\n",
    "    except ValueError:\n",
    "        pass\n",
    "f.close()\n",
    "print('Found %s word vectors.' % len(embeddings_index))"
   ]
  },
  {
   "cell_type": "markdown",
   "metadata": {
    "janus": {
     "all_versions_showing": false,
     "cell_hidden": false,
     "current_version": 0,
     "id": "80878b118e62d",
     "named_versions": [],
     "output_hidden": false,
     "show_versions": false,
     "source_hidden": false,
     "versions": []
    }
   },
   "source": [
    "## GloVe Train & Predict"
   ]
  },
  {
   "cell_type": "code",
   "execution_count": 12,
   "metadata": {
    "janus": {
     "all_versions_showing": false,
     "cell_hidden": false,
     "current_version": 0,
     "id": "effddb85e9eee",
     "named_versions": [],
     "output_hidden": false,
     "show_versions": false,
     "source_hidden": false,
     "versions": []
    },
    "scrolled": true
   },
   "outputs": [
    {
     "name": "stderr",
     "output_type": "stream",
     "text": [
      "  3%|▎         | 49/1503 [00:00<00:03, 481.38it/s]"
     ]
    },
    {
     "name": "stdout",
     "output_type": "stream",
     "text": [
      "Checkpoint1 - Data Read Complete\n"
     ]
    },
    {
     "name": "stderr",
     "output_type": "stream",
     "text": [
      "100%|██████████| 1503/1503 [00:03<00:00, 499.56it/s]\n",
      " 27%|██▋       | 48/176 [00:00<00:00, 475.92it/s]"
     ]
    },
    {
     "name": "stdout",
     "output_type": "stream",
     "text": [
      "Mean Train Word Hit Rate(\\%) 99.58181372991224\n"
     ]
    },
    {
     "name": "stderr",
     "output_type": "stream",
     "text": [
      "100%|██████████| 176/176 [00:00<00:00, 544.17it/s]\n"
     ]
    },
    {
     "name": "stdout",
     "output_type": "stream",
     "text": [
      "Mean Test Word Hit Rate(\\%) 99.61077662227088\n",
      "Checkpoint2 -Normalized Vector for Sentences are created\n",
      "[0. 0. 0. 1. 0. 0. 0. 0. 0. 0. 1. 1. 0. 0. 0. 0. 0. 0. 0. 0. 0. 0. 0. 1.\n",
      " 1. 0. 0. 0. 0. 0. 1. 0. 1. 0. 0. 0. 0. 0. 1. 0. 1. 0. 1. 0. 0. 0. 0. 0.\n",
      " 0. 0. 0. 0. 0. 1. 0. 0. 1. 0. 0. 0. 0. 0. 0. 1. 0. 0. 0. 1. 0. 0. 0. 0.\n",
      " 0. 1. 0. 0. 0. 1. 0. 0. 0. 0. 1. 0. 1. 1. 0. 0. 0. 0. 1. 0. 0. 0. 0. 0.\n",
      " 1. 1. 0. 0. 1. 0. 0. 0. 0. 1. 0. 1. 0. 0. 0. 0. 0. 0. 1. 0. 1. 0. 0. 1.\n",
      " 1. 1. 0. 1. 0. 0. 0. 1. 0. 0. 0. 0. 1. 0. 0. 1. 1. 0. 1. 0. 0. 0. 1. 0.\n",
      " 0. 0. 0. 0. 0. 0. 0. 1. 0. 0. 1. 0. 0. 0. 1. 0. 0. 0. 0. 0. 0. 1. 1. 0.\n",
      " 0. 0. 0. 1. 0. 0. 0. 0.]\n",
      "accuracy: 0.875\n",
      "precision: [0.9924812  0.51162791]\n",
      "recall: [0.8627451  0.95652174]\n",
      "fscore: [0.92307692 0.66666667]\n",
      "support: [153  23]\n"
     ]
    }
   ],
   "source": [
    "cls = 'CR-00-00-00-00'\n",
    "\n",
    "\n",
    "\n",
    "# Train and Test Split\n",
    "p = len(X) // 10 * 9\n",
    "train_text = X[:p]\n",
    "test_text = X[p:]\n",
    "\n",
    "\n",
    "print(\"Checkpoint1 - Data Read Complete\")\n",
    "\n",
    "\n",
    "hit = 0\n",
    "all_words = 0\n",
    "# this function creates a normalized vector for the whole sentence\n",
    "def sent2vec(s):\n",
    "    global hit, all_words\n",
    "    words = str(s).lower()\n",
    "    words = word_tokenize(words)\n",
    "    words = [w for w in words if not w in stop_words]\n",
    "    words = [w for w in words if w.isalpha()]\n",
    "    M = []\n",
    "    for w in words:\n",
    "        try:\n",
    "            M.append(embeddings_index[w])\n",
    "        except:\n",
    "            continue\n",
    "    hit += len(M)\n",
    "    all_words += len(words)\n",
    "    \n",
    "    M = np.array(M)\n",
    "    v = M.sum(axis=0)\n",
    "    if type(v) != np.ndarray:\n",
    "        return np.zeros(300)\n",
    "    return v / np.sqrt((v ** 2).sum())\n",
    "\n",
    "# create sentence vectors using the above function for training and validation set\n",
    "xtrain_glove = [sent2vec(x) for x in tqdm(train_text)]\n",
    "\n",
    "print('Mean Train Word Hit Rate(\\%)', hit / all_words * 100)\n",
    "hit = 0\n",
    "all_words = 0\n",
    "\n",
    "xtest_glove = [sent2vec(x) for x in tqdm(test_text)]\n",
    "print('Mean Test Word Hit Rate(\\%)', hit / all_words * 100)\n",
    "\n",
    "print('Checkpoint2 -Normalized Vector for Sentences are created')\n",
    "\n",
    "xtrain_glove = np.array(xtrain_glove)\n",
    "xtest_glove = np.array(xtest_glove)\n",
    "\n",
    "model = LogisticRegression(penalty='l1', solver='liblinear', class_weight='balanced')\n",
    "\n",
    "train_target = Y[:p]\n",
    "test_target = Y[p:]\n",
    "\n",
    "model.fit(xtrain_glove, train_target)\n",
    "preds = model.predict(xtest_glove)\n",
    "\n",
    "print(preds)\n",
    "accuracy = accuracy_score(test_target, preds)\n",
    "precision, recall, fscore, support = score(test_target, preds)\n",
    "print('accuracy: {}'.format(accuracy))\n",
    "print('precision: {}'.format(precision))\n",
    "print('recall: {}'.format(recall))\n",
    "print('fscore: {}'.format(fscore))\n",
    "print('support: {}'.format(support))"
   ]
  },
  {
   "cell_type": "markdown",
   "metadata": {
    "janus": {
     "all_versions_showing": false,
     "cell_hidden": false,
     "current_version": 0,
     "id": "36c031454b0fc",
     "named_versions": [],
     "output_hidden": false,
     "show_versions": false,
     "source_hidden": false,
     "versions": []
    }
   },
   "source": [
    "## GloVE + Logistic Regression on CR-00-00-00-00"
   ]
  },
  {
   "cell_type": "code",
   "execution_count": 22,
   "metadata": {
    "janus": {
     "all_versions_showing": false,
     "cell_hidden": false,
     "current_version": 0,
     "id": "b4c41c9fe8b0c",
     "named_versions": [],
     "output_hidden": false,
     "show_versions": false,
     "source_hidden": false,
     "versions": []
    }
   },
   "outputs": [
    {
     "name": "stderr",
     "output_type": "stream",
     "text": [
      "100%|██████████| 1679/1679 [00:03<00:00, 523.38it/s]\n"
     ]
    },
    {
     "name": "stdout",
     "output_type": "stream",
     "text": [
      "------------------------------------\n",
      "\n",
      "0.0    1377\n",
      "1.0     302\n",
      "Name: CR-00-00-00-00, dtype: int64\n",
      "data set size 1679\n",
      "Checkpoint2 -Normalized Vector for Sentences are created\n",
      "0.3465\n"
     ]
    },
    {
     "data": {
      "text/plain": [
       "(0.8582, 0.5717, 0.8444, 0.6818, 302, 0.3465)"
      ]
     },
     "execution_count": 22,
     "metadata": {},
     "output_type": "execute_result"
    }
   ],
   "source": [
    "from sklearn.model_selection import KFold\n",
    "from sklearn.model_selection import StratifiedKFold\n",
    "from sklearn.metrics import accuracy_score\n",
    "from sklearn.metrics import precision_score\n",
    "from sklearn.metrics import recall_score\n",
    "from sklearn.metrics import f1_score\n",
    "from sklearn.metrics import precision_recall_fscore_support as score\n",
    "from sklearn.linear_model import LogisticRegression\n",
    "from sklearn.metrics import make_scorer\n",
    "\n",
    "verbose = False\n",
    "    \n",
    "numdoc = defaultdict()\n",
    "\n",
    "classifier = defaultdict()\n",
    "\n",
    "    \n",
    "def predict_by_class_glove(dfset: defaultdict,cls: str) -> float:\n",
    "    preprocessing(dfset, cls)\n",
    "    tinydf = dfset[cls]\n",
    "    X = tinydf['full_text'].values\n",
    "    Y = tinydf[cls].values\n",
    "    X_glove = [sent2vec(x) for x in tqdm(X)]\n",
    "    X_glove = np.array(X_glove)\n",
    "\n",
    "    print('------------------------------------\\n')\n",
    "    labels = dfset[cls].iloc[:,2]\n",
    "    print(labels.value_counts(dropna=False))\n",
    "\n",
    "    # 10-fold separation with train and test \n",
    "    #kfold = KFold(n_splits=10)\n",
    "    kfold = KFold(n_splits=10)\n",
    "    print('data set size', len(X))\n",
    "    numdoc[cls] = len(X)\n",
    "    n_iter = 0\n",
    "    acc_list = []\n",
    "    pre_list = []\n",
    "    rec_list = []\n",
    "    fsc_list = []\n",
    "    sup_list = []\n",
    "\n",
    "    \n",
    "    preds = [0] * len(Y)\n",
    "    probs = [0] * len(Y)\n",
    "    \n",
    "    print('Checkpoint2 -Normalized Vector for Sentences are created')\n",
    "    \n",
    "\n",
    "\n",
    "    for train_index, test_index in kfold.split(X_glove, Y):\n",
    "\n",
    "        X_train, X_test = X_glove[train_index], X_glove[test_index] \n",
    "        Y_train, Y_test = Y[train_index], Y[test_index]\n",
    "\n",
    "        # Scikit-Learn\n",
    "        classifier[cls] = LogisticRegression(penalty='l1', solver='liblinear', class_weight='balanced', max_iter=1000)\n",
    "        classifier[cls].fit(X_train, Y_train)\n",
    "        out = classifier[cls].predict(X_test)\n",
    "        prob = classifier[cls].predict_proba(X_test)\n",
    "        \n",
    "        \n",
    "\n",
    "        #print(len(out))\n",
    "        i = 0\n",
    "        for x in test_index:\n",
    "            preds[x] = out[i]\n",
    "            probs[x] = prob[i]\n",
    "            i += 1\n",
    "            \n",
    "        #print(preds)\n",
    "\n",
    "        n_iter += 1\n",
    "        \n",
    "    \n",
    "    custom_logloss = np.round(log_loss(Y, probs), 4)\n",
    "    print(custom_logloss)\n",
    "    \n",
    "    accuracy = accuracy_score(Y, preds)\n",
    "    precision, recall, fscore, support = score(Y, preds)\n",
    "    # accuracy: (tp + tn) / (p + n)\n",
    "    # precision tp / (tp + fp)\n",
    "    # recall:   tp / (tp + fn)\n",
    "    # f1: 2 tp / (2 tp + fp + fn)\n",
    "    accuracy = np.round(accuracy, 4)\n",
    "    precision[1] = np.round(precision[1], 4)\n",
    "    recall[1] = np.round(recall[1], 4)\n",
    "    fscore[1] = np.round(fscore[1], 4)\n",
    "    support[1] = np.round(support[1], 4)\n",
    "    \n",
    "    \n",
    "    return (accuracy, precision[1], recall[1], fscore[1], support[1], custom_logloss)\n",
    "\n",
    "\n",
    "\n",
    "#cls = 'BE-00-00-00-00'\n",
    "cls = 'CR-00-00-00-00'\n",
    "predict_by_class_glove(dfset, cls)"
   ]
  },
  {
   "cell_type": "markdown",
   "metadata": {},
   "source": [
    "## GloVe GridSearch"
   ]
  },
  {
   "cell_type": "code",
   "execution_count": 14,
   "metadata": {},
   "outputs": [],
   "source": [
    "from sklearn.model_selection import KFold\n",
    "from sklearn.model_selection import StratifiedKFold\n",
    "from sklearn.metrics import accuracy_score\n",
    "from sklearn.metrics import precision_score\n",
    "from sklearn.metrics import recall_score\n",
    "from sklearn.metrics import f1_score\n",
    "from sklearn.metrics import precision_recall_fscore_support as score\n",
    "from sklearn.linear_model import LogisticRegression\n",
    "from sklearn.metrics import make_scorer\n",
    "\n",
    "verbose = False\n",
    "numdoc = defaultdict()\n",
    "classifier = defaultdict()\n",
    "\n",
    "    \n",
    "def predict_by_class_glove_grid(dfset: defaultdict,cls: str) -> float:\n",
    "    preprocessing(dfset, cls)\n",
    "    tinydf = dfset[cls]\n",
    "    X = tinydf['full_text'].values\n",
    "    Y = tinydf[cls].values\n",
    "    X_glove = [sent2vec(x) for x in tqdm(X)]\n",
    "    X_glove = np.array(X_glove)\n",
    "\n",
    "    print('------------------------------------\\n')\n",
    "    labels = dfset[cls].iloc[:,2]\n",
    "    print(labels.value_counts(dropna=False))\n",
    "    kfold = KFold(n_splits=10)\n",
    "    print('data set size', len(X))\n",
    "    numdoc[cls] = len(X)\n",
    "    n_iter = 0\n",
    "    acc_list = []\n",
    "    pre_list = []\n",
    "    rec_list = []\n",
    "    fsc_list = []\n",
    "    sup_list = []\n",
    "\n",
    "    \n",
    "    preds = [0] * len(Y)\n",
    "    probs = [0] * len(Y)\n",
    "\n",
    "    best_recall = 0\n",
    "    best_accuracy = 0\n",
    "    best_precision = 0\n",
    "    best_fscore = 0\n",
    "    best_support = 0\n",
    "    best_model = 0\n",
    "    \n",
    "    best_logloss = 1\n",
    "    \n",
    "    model = None\n",
    "\n",
    "    for c in tqdm([1.0/2.0**reg for reg in np.arange(-12, 12)]):\n",
    "        print('C:', c)\n",
    "        model = LogisticRegression(penalty='l1', solver='liblinear', class_weight='balanced', max_iter=1000, C = c)\n",
    "        \n",
    "        for train_index, test_index in tqdm(kfold.split(X_glove, Y)):\n",
    "            X_train, X_test = X_glove[train_index], X_glove[test_index] \n",
    "            Y_train, Y_test = Y[train_index], Y[test_index]\n",
    "            model.fit(X_train, Y_train)\n",
    "            out = model.predict(X_test)\n",
    "            prob = model.predict_proba(X_test)\n",
    "\n",
    "            i = 0\n",
    "            for x in test_index:\n",
    "                preds[x] = out[i]\n",
    "                probs[x] = prob[i]\n",
    "                i += 1\n",
    "            n_iter += 1\n",
    "\n",
    "            \n",
    "            \n",
    "        custom_logloss = log_loss(Y, probs)\n",
    "        print(custom_logloss)\n",
    "\n",
    "        accuracy = accuracy_score(Y, preds)\n",
    "        precision, recall, fscore, support = score(Y, preds)\n",
    "        # accuracy: (tp + tn) / (p + n)\n",
    "        # precision tp / (tp + fp)\n",
    "        # recall:   tp / (tp + fn)\n",
    "        # f1: 2 tp / (2 tp + fp + fn)\n",
    "        accuracy = np.round(accuracy, 4)\n",
    "        precision[1] = np.round(precision[1], 4)\n",
    "        recall[1] = np.round(recall[1], 4)\n",
    "        fscore[1] = np.round(fscore[1], 4)\n",
    "        support[1] = np.round(support[1], 4)\n",
    "\n",
    "\n",
    "#        if best_recall < recall[1]:\n",
    "        if best_logloss > custom_logloss:\n",
    "            best_logloss = custom_logloss\n",
    "            \n",
    "            best_accuracy = accuracy\n",
    "            best_recall = recall[1]\n",
    "            best_precision = precision[1]\n",
    "            best_fscore = fscore[1]\n",
    "            best_support = support[1]\n",
    "            best_model = model\n",
    "            \n",
    "    classifier[cls] = best_model\n",
    "    return (best_accuracy, best_precision, best_recall, best_fscore, best_support)\n",
    "\n",
    "cls = 'CR-00-00-00-00'\n",
    "#print(predict_by_class_glove_grid(dfset, cls))"
   ]
  },
  {
   "cell_type": "markdown",
   "metadata": {
    "colab_type": "text",
    "id": "ZqPjMWHLfCWn",
    "janus": {
     "all_versions_showing": false,
     "cell_hidden": false,
     "current_version": 0,
     "id": "6d16c3e0c6dac",
     "named_versions": [],
     "output_hidden": false,
     "show_versions": false,
     "source_hidden": false,
     "versions": []
    }
   },
   "source": [
    "# Entire Data "
   ]
  },
  {
   "cell_type": "markdown",
   "metadata": {
    "colab_type": "text",
    "id": "QLxJKWdxfQEs",
    "janus": {
     "all_versions_showing": false,
     "cell_hidden": false,
     "current_version": 0,
     "id": "1f636377bc915",
     "named_versions": [],
     "output_hidden": false,
     "show_versions": false,
     "source_hidden": false,
     "versions": []
    }
   },
   "source": [
    "## Build Models and Calculating Accuracies"
   ]
  },
  {
   "cell_type": "code",
   "execution_count": 23,
   "metadata": {
    "colab": {},
    "colab_type": "code",
    "id": "nJUvNbLprOTe",
    "janus": {
     "all_versions_showing": false,
     "cell_hidden": true,
     "current_version": 0,
     "id": "381e7a94d7c67",
     "named_versions": [],
     "output_hidden": true,
     "show_versions": false,
     "source_hidden": true,
     "versions": []
    }
   },
   "outputs": [
    {
     "name": "stderr",
     "output_type": "stream",
     "text": [
      "  0%|          | 0/36 [00:00<?, ?it/s]\n",
      "  0%|          | 0/1848 [00:00<?, ?it/s]\u001b[A\n",
      "  3%|▎         | 47/1848 [00:00<00:03, 463.25it/s]\u001b[A"
     ]
    },
    {
     "name": "stdout",
     "output_type": "stream",
     "text": [
      "Index(['BE-00-00-00-00', 'BU-00-00-00-00', 'CO-00-00-00-00', 'CR-00-00-00-00',\n",
      "       'CR-01-00-00-00', 'CR-04-00-00-00', 'CR-06-00-00-00', 'CR-10-00-00-00',\n",
      "       'ED-00-00-00-00', 'ES-00-00-00-00', 'ES-01-00-00-00', 'ES-03-00-00-00',\n",
      "       'FA-00-00-00-00', 'FA-05-00-00-00', 'FA-06-00-00-00', 'FA-07-00-00-00',\n",
      "       'GO-00-00-00-00', 'HE-00-00-00-00', 'HO-00-00-00-00', 'HO-06-00-00-00',\n",
      "       'HO-09-00-00-00', 'IM-00-00-00-00', 'MO-00-00-00-00', 'MO-02-00-00-00',\n",
      "       'MO-07-00-00-00', 'MO-10-00-00-00', 'RI-00-00-00-00', 'TO-00-00-00-00',\n",
      "       'TR-00-00-00-00', 'TR-01-00-00-00', 'TR-02-00-00-00', 'TR-03-00-00-00',\n",
      "       'TR-04-00-00-00', 'TR-05-00-00-00', 'WO-00-00-00-00', 'WO-03-00-00-00'],\n",
      "      dtype='object')\n"
     ]
    },
    {
     "name": "stderr",
     "output_type": "stream",
     "text": [
      "\n",
      "  5%|▍         | 88/1848 [00:00<00:03, 443.38it/s]\u001b[A\n",
      "  8%|▊         | 144/1848 [00:00<00:03, 472.64it/s]\u001b[A\n",
      " 11%|█         | 201/1848 [00:00<00:03, 496.41it/s]\u001b[A\n",
      " 13%|█▎        | 246/1848 [00:00<00:03, 481.14it/s]\u001b[A\n",
      " 17%|█▋        | 306/1848 [00:00<00:03, 509.92it/s]\u001b[A\n",
      " 20%|█▉        | 368/1848 [00:00<00:02, 538.53it/s]\u001b[A\n",
      " 23%|██▎       | 422/1848 [00:00<00:02, 536.40it/s]\u001b[A\n",
      " 26%|██▌       | 474/1848 [00:00<00:02, 496.95it/s]\u001b[A\n",
      " 29%|██▊       | 528/1848 [00:01<00:02, 507.94it/s]\u001b[A\n",
      " 32%|███▏      | 589/1848 [00:01<00:02, 534.78it/s]\u001b[A\n",
      " 35%|███▍      | 643/1848 [00:01<00:02, 504.71it/s]\u001b[A\n",
      " 38%|███▊      | 694/1848 [00:01<00:02, 478.93it/s]\u001b[A\n",
      " 40%|████      | 743/1848 [00:01<00:02, 467.48it/s]\u001b[A\n",
      " 43%|████▎     | 791/1848 [00:01<00:02, 464.11it/s]\u001b[A\n",
      " 46%|████▌     | 851/1848 [00:01<00:02, 497.53it/s]\u001b[A\n",
      " 49%|████▉     | 903/1848 [00:01<00:01, 504.03it/s]\u001b[A\n",
      " 52%|█████▏    | 961/1848 [00:01<00:01, 522.84it/s]\u001b[A\n",
      " 55%|█████▍    | 1014/1848 [00:01<00:01, 514.11it/s]\u001b[A\n",
      " 58%|█████▊    | 1066/1848 [00:02<00:01, 501.29it/s]\u001b[A\n",
      " 60%|██████    | 1118/1848 [00:02<00:01, 506.13it/s]\u001b[A\n",
      " 64%|██████▎   | 1178/1848 [00:02<00:01, 527.15it/s]\u001b[A\n",
      " 67%|██████▋   | 1232/1848 [00:02<00:01, 507.62it/s]\u001b[A\n",
      " 69%|██████▉   | 1284/1848 [00:02<00:01, 476.24it/s]\u001b[A\n",
      " 72%|███████▏  | 1333/1848 [00:02<00:01, 464.84it/s]\u001b[A\n",
      " 75%|███████▌  | 1386/1848 [00:02<00:00, 481.93it/s]\u001b[A\n",
      " 78%|███████▊  | 1435/1848 [00:02<00:00, 463.73it/s]\u001b[A\n",
      " 80%|████████  | 1482/1848 [00:02<00:00, 459.40it/s]\u001b[A\n",
      " 83%|████████▎ | 1529/1848 [00:03<00:00, 455.73it/s]\u001b[A\n",
      " 85%|████████▌ | 1575/1848 [00:03<00:00, 428.31it/s]\u001b[A\n",
      " 88%|████████▊ | 1632/1848 [00:03<00:00, 462.52it/s]\u001b[A\n",
      " 91%|█████████ | 1680/1848 [00:03<00:00, 451.71it/s]\u001b[A\n",
      " 93%|█████████▎| 1727/1848 [00:03<00:00, 454.06it/s]\u001b[A\n",
      " 97%|█████████▋| 1786/1848 [00:03<00:00, 483.67it/s]\u001b[A\n",
      "100%|██████████| 1848/1848 [00:03<00:00, 495.47it/s]\u001b[A\n"
     ]
    },
    {
     "name": "stdout",
     "output_type": "stream",
     "text": [
      "------------------------------------\n",
      "\n",
      "0.0    1821\n",
      "1.0      27\n",
      "Name: BE-00-00-00-00, dtype: int64\n",
      "data set size 1848\n",
      "Checkpoint2 -Normalized Vector for Sentences are created\n"
     ]
    },
    {
     "name": "stderr",
     "output_type": "stream",
     "text": [
      "  3%|▎         | 1/36 [00:15<09:03, 15.52s/it]\n",
      "  0%|          | 0/1590 [00:00<?, ?it/s]\u001b[A\n",
      "  3%|▎         | 43/1590 [00:00<00:03, 426.24it/s]\u001b[A"
     ]
    },
    {
     "name": "stdout",
     "output_type": "stream",
     "text": [
      "0.2951\n",
      "statistics (0.8761, 0.0861, 0.7778, 0.155, 27, 0.2951)\n"
     ]
    },
    {
     "name": "stderr",
     "output_type": "stream",
     "text": [
      "\n",
      "  6%|▋         | 103/1590 [00:00<00:03, 466.27it/s]\u001b[A\n",
      " 10%|▉         | 156/1590 [00:00<00:02, 483.59it/s]\u001b[A\n",
      " 13%|█▎        | 199/1590 [00:00<00:02, 465.02it/s]\u001b[A\n",
      " 16%|█▋        | 261/1590 [00:00<00:02, 502.39it/s]\u001b[A\n",
      " 20%|█▉        | 312/1590 [00:00<00:02, 501.51it/s]\u001b[A\n",
      " 23%|██▎       | 365/1590 [00:00<00:02, 508.44it/s]\u001b[A\n",
      " 26%|██▌       | 414/1590 [00:00<00:02, 486.61it/s]\u001b[A\n",
      " 30%|██▉       | 470/1590 [00:00<00:02, 504.69it/s]\u001b[A\n",
      " 33%|███▎      | 521/1590 [00:01<00:02, 504.23it/s]\u001b[A\n",
      " 36%|███▌      | 574/1590 [00:01<00:01, 509.22it/s]\u001b[A\n",
      " 39%|███▉      | 625/1590 [00:01<00:02, 481.42it/s]\u001b[A\n",
      " 42%|████▏     | 674/1590 [00:01<00:01, 475.81it/s]\u001b[A\n",
      " 45%|████▌     | 722/1590 [00:01<00:01, 464.52it/s]\u001b[A\n",
      " 49%|████▉     | 782/1590 [00:01<00:01, 496.38it/s]\u001b[A\n",
      " 52%|█████▏    | 833/1590 [00:01<00:01, 493.02it/s]\u001b[A\n",
      " 56%|█████▌    | 890/1590 [00:01<00:01, 513.47it/s]\u001b[A\n",
      " 59%|█████▉    | 942/1590 [00:01<00:01, 509.05it/s]\u001b[A\n",
      " 63%|██████▎   | 994/1590 [00:01<00:01, 481.06it/s]\u001b[A\n",
      " 66%|██████▌   | 1050/1590 [00:02<00:01, 498.68it/s]\u001b[A\n",
      " 69%|██████▉   | 1101/1590 [00:02<00:00, 498.98it/s]\u001b[A\n",
      " 72%|███████▏  | 1152/1590 [00:02<00:00, 472.56it/s]\u001b[A\n",
      " 76%|███████▌  | 1203/1590 [00:02<00:00, 476.01it/s]\u001b[A\n",
      " 79%|███████▉  | 1258/1590 [00:02<00:00, 494.44it/s]\u001b[A\n",
      " 82%|████████▏ | 1308/1590 [00:02<00:00, 481.12it/s]\u001b[A\n",
      " 85%|████████▌ | 1357/1590 [00:02<00:00, 468.65it/s]\u001b[A\n",
      " 88%|████████▊ | 1405/1590 [00:02<00:00, 440.87it/s]\u001b[A\n",
      " 91%|█████████ | 1450/1590 [00:02<00:00, 437.17it/s]\u001b[A\n",
      " 95%|█████████▍| 1504/1590 [00:03<00:00, 458.72it/s]\u001b[A\n",
      "100%|██████████| 1590/1590 [00:03<00:00, 489.08it/s]\u001b[A\n"
     ]
    },
    {
     "name": "stdout",
     "output_type": "stream",
     "text": [
      "------------------------------------\n",
      "\n",
      "0.0    1497\n",
      "1.0      93\n",
      "Name: BU-00-00-00-00, dtype: int64\n",
      "data set size 1590\n",
      "Checkpoint2 -Normalized Vector for Sentences are created\n"
     ]
    },
    {
     "name": "stderr",
     "output_type": "stream",
     "text": [
      "  6%|▌         | 2/36 [00:27<08:06, 14.32s/it]\n",
      "  0%|          | 0/1164 [00:00<?, ?it/s]\u001b[A\n",
      "  4%|▍         | 47/1164 [00:00<00:02, 460.85it/s]\u001b[A"
     ]
    },
    {
     "name": "stdout",
     "output_type": "stream",
     "text": [
      "0.2169\n",
      "statistics (0.9277, 0.4421, 0.9032, 0.5936, 93, 0.2169)\n"
     ]
    },
    {
     "name": "stderr",
     "output_type": "stream",
     "text": [
      "\n",
      "  9%|▉         | 105/1164 [00:00<00:02, 488.34it/s]\u001b[A\n",
      " 13%|█▎        | 156/1164 [00:00<00:02, 491.20it/s]\u001b[A\n",
      " 18%|█▊        | 214/1164 [00:00<00:01, 514.54it/s]\u001b[A\n",
      " 23%|██▎       | 269/1164 [00:00<00:01, 515.57it/s]\u001b[A\n",
      " 28%|██▊       | 328/1164 [00:00<00:01, 535.17it/s]\u001b[A\n",
      " 33%|███▎      | 386/1164 [00:00<00:01, 545.54it/s]\u001b[A\n",
      " 38%|███▊      | 438/1164 [00:00<00:01, 527.86it/s]\u001b[A\n",
      " 42%|████▏     | 489/1164 [00:00<00:01, 497.74it/s]\u001b[A\n",
      " 46%|████▌     | 538/1164 [00:01<00:01, 489.92it/s]\u001b[A\n",
      " 51%|█████▏    | 599/1164 [00:01<00:01, 520.27it/s]\u001b[A\n",
      " 56%|█████▌    | 652/1164 [00:01<00:00, 522.97it/s]\u001b[A\n",
      " 61%|██████    | 705/1164 [00:01<00:00, 513.04it/s]\u001b[A\n",
      " 65%|██████▌   | 757/1164 [00:01<00:00, 509.14it/s]\u001b[A\n",
      " 69%|██████▉   | 808/1164 [00:01<00:00, 471.57it/s]\u001b[A\n",
      " 74%|███████▎  | 857/1164 [00:01<00:00, 469.46it/s]\u001b[A\n",
      " 78%|███████▊  | 905/1164 [00:01<00:00, 470.83it/s]\u001b[A\n",
      " 82%|████████▏ | 953/1164 [00:01<00:00, 472.31it/s]\u001b[A\n",
      " 86%|████████▌ | 1001/1164 [00:01<00:00, 462.68it/s]\u001b[A\n",
      " 90%|█████████ | 1048/1164 [00:02<00:00, 444.27it/s]\u001b[A\n",
      " 95%|█████████▍| 1101/1164 [00:02<00:00, 466.32it/s]\u001b[A\n",
      "100%|██████████| 1164/1164 [00:02<00:00, 498.81it/s]\u001b[A\n"
     ]
    },
    {
     "name": "stdout",
     "output_type": "stream",
     "text": [
      "------------------------------------\n",
      "\n",
      "0.0    1058\n",
      "1.0     106\n",
      "Name: CO-00-00-00-00, dtype: int64\n",
      "data set size 1164\n",
      "Checkpoint2 -Normalized Vector for Sentences are created\n"
     ]
    },
    {
     "name": "stderr",
     "output_type": "stream",
     "text": [
      "  8%|▊         | 3/36 [00:29<05:57, 10.83s/it]\n",
      "  0%|          | 0/1679 [00:00<?, ?it/s]\u001b[A\n",
      "  3%|▎         | 52/1679 [00:00<00:03, 510.79it/s]\u001b[A"
     ]
    },
    {
     "name": "stdout",
     "output_type": "stream",
     "text": [
      "0.3644\n",
      "statistics (0.8703, 0.3923, 0.7736, 0.5206, 106, 0.3644)\n"
     ]
    },
    {
     "name": "stderr",
     "output_type": "stream",
     "text": [
      "\n",
      "  6%|▌         | 93/1679 [00:00<00:03, 474.39it/s]\u001b[A\n",
      "  9%|▉         | 152/1679 [00:00<00:03, 503.77it/s]\u001b[A\n",
      " 12%|█▏        | 203/1679 [00:00<00:02, 497.12it/s]\u001b[A\n",
      " 16%|█▌        | 261/1679 [00:00<00:02, 518.56it/s]\u001b[A\n",
      " 19%|█▉        | 319/1679 [00:00<00:02, 534.26it/s]\u001b[A\n",
      " 22%|██▏       | 376/1679 [00:00<00:02, 542.51it/s]\u001b[A\n",
      " 25%|██▌       | 427/1679 [00:00<00:02, 506.13it/s]\u001b[A\n",
      " 29%|██▉       | 492/1679 [00:00<00:02, 539.96it/s]\u001b[A\n",
      " 33%|███▎      | 550/1679 [00:01<00:02, 548.74it/s]\u001b[A\n",
      " 36%|███▌      | 605/1679 [00:01<00:02, 516.47it/s]\u001b[A\n",
      " 39%|███▉      | 657/1679 [00:01<00:02, 484.96it/s]\u001b[A\n",
      " 42%|████▏     | 708/1679 [00:01<00:01, 487.66it/s]\u001b[A\n",
      " 45%|████▌     | 759/1679 [00:01<00:01, 493.77it/s]\u001b[A\n",
      " 48%|████▊     | 814/1679 [00:01<00:01, 507.90it/s]\u001b[A\n",
      " 52%|█████▏    | 871/1679 [00:01<00:01, 522.65it/s]\u001b[A\n",
      " 55%|█████▌    | 924/1679 [00:01<00:01, 516.92it/s]\u001b[A\n",
      " 58%|█████▊    | 976/1679 [00:01<00:01, 478.14it/s]\u001b[A\n",
      " 62%|██████▏   | 1041/1679 [00:02<00:01, 516.27it/s]\u001b[A\n",
      " 65%|██████▌   | 1095/1679 [00:02<00:01, 508.33it/s]\u001b[A\n",
      " 68%|██████▊   | 1147/1679 [00:02<00:01, 480.09it/s]\u001b[A\n",
      " 72%|███████▏  | 1202/1679 [00:02<00:00, 498.80it/s]\u001b[A\n",
      " 75%|███████▍  | 1253/1679 [00:02<00:00, 501.92it/s]\u001b[A\n",
      " 78%|███████▊  | 1304/1679 [00:02<00:00, 474.74it/s]\u001b[A\n",
      " 81%|████████  | 1353/1679 [00:02<00:00, 461.37it/s]\u001b[A\n",
      " 83%|████████▎ | 1400/1679 [00:02<00:00, 454.82it/s]\u001b[A\n",
      " 86%|████████▌ | 1446/1679 [00:02<00:00, 451.01it/s]\u001b[A\n",
      " 89%|████████▉ | 1498/1679 [00:03<00:00, 459.57it/s]\u001b[A\n",
      " 92%|█████████▏| 1545/1679 [00:03<00:00, 452.62it/s]\u001b[A\n",
      " 96%|█████████▌| 1608/1679 [00:03<00:00, 494.37it/s]\u001b[A\n",
      "100%|██████████| 1679/1679 [00:03<00:00, 503.27it/s]\u001b[A\n"
     ]
    },
    {
     "name": "stdout",
     "output_type": "stream",
     "text": [
      "------------------------------------\n",
      "\n",
      "0.0    1377\n",
      "1.0     302\n",
      "Name: CR-00-00-00-00, dtype: int64\n",
      "data set size 1679\n",
      "Checkpoint2 -Normalized Vector for Sentences are created\n"
     ]
    },
    {
     "name": "stderr",
     "output_type": "stream",
     "text": [
      " 11%|█         | 4/36 [00:40<05:48, 10.88s/it]\n",
      "  0%|          | 0/1393 [00:00<?, ?it/s]\u001b[A\n",
      "  3%|▎         | 44/1393 [00:00<00:03, 398.79it/s]\u001b[A"
     ]
    },
    {
     "name": "stdout",
     "output_type": "stream",
     "text": [
      "0.3465\n",
      "statistics (0.8582, 0.5717, 0.8444, 0.6818, 302, 0.3465)\n"
     ]
    },
    {
     "name": "stderr",
     "output_type": "stream",
     "text": [
      "\n",
      "  7%|▋         | 102/1393 [00:00<00:02, 439.73it/s]\u001b[A\n",
      " 11%|█         | 154/1393 [00:00<00:02, 459.74it/s]\u001b[A\n",
      " 15%|█▌        | 209/1393 [00:00<00:02, 480.84it/s]\u001b[A\n",
      " 19%|█▉        | 265/1393 [00:00<00:02, 497.68it/s]\u001b[A\n",
      " 23%|██▎       | 320/1393 [00:00<00:02, 511.40it/s]\u001b[A\n",
      " 27%|██▋       | 372/1393 [00:00<00:01, 511.45it/s]\u001b[A\n",
      " 31%|███       | 435/1393 [00:00<00:01, 541.01it/s]\u001b[A\n",
      " 35%|███▌      | 488/1393 [00:00<00:01, 517.97it/s]\u001b[A\n",
      " 39%|███▊      | 539/1393 [00:01<00:01, 486.10it/s]\u001b[A\n",
      " 42%|████▏     | 588/1393 [00:01<00:01, 486.92it/s]\u001b[A\n",
      " 46%|████▌     | 639/1393 [00:01<00:01, 491.35it/s]\u001b[A\n",
      " 50%|████▉     | 695/1393 [00:01<00:01, 507.83it/s]\u001b[A\n",
      " 54%|█████▍    | 753/1393 [00:01<00:01, 525.75it/s]\u001b[A\n",
      " 58%|█████▊    | 806/1393 [00:01<00:01, 497.96it/s]\u001b[A\n",
      " 62%|██████▏   | 866/1393 [00:01<00:01, 524.41it/s]\u001b[A\n",
      " 66%|██████▌   | 920/1393 [00:01<00:00, 513.00it/s]\u001b[A\n",
      " 70%|██████▉   | 972/1393 [00:01<00:00, 484.71it/s]\u001b[A\n",
      " 74%|███████▎  | 1025/1393 [00:02<00:00, 497.24it/s]\u001b[A\n",
      " 77%|███████▋  | 1076/1393 [00:02<00:00, 497.93it/s]\u001b[A\n",
      " 81%|████████  | 1127/1393 [00:02<00:00, 481.41it/s]\u001b[A\n",
      " 84%|████████▍ | 1176/1393 [00:02<00:00, 470.43it/s]\u001b[A\n",
      " 88%|████████▊ | 1230/1393 [00:02<00:00, 487.62it/s]\u001b[A\n",
      " 92%|█████████▏| 1280/1393 [00:02<00:00, 473.62it/s]\u001b[A\n",
      "100%|██████████| 1393/1393 [00:02<00:00, 507.59it/s]\u001b[A\n"
     ]
    },
    {
     "name": "stdout",
     "output_type": "stream",
     "text": [
      "------------------------------------\n",
      "\n",
      "0.0    1381\n",
      "1.0      12\n",
      "Name: CR-01-00-00-00, dtype: int64\n",
      "data set size 1393\n",
      "Checkpoint2 -Normalized Vector for Sentences are created\n"
     ]
    },
    {
     "name": "stderr",
     "output_type": "stream",
     "text": [
      " 14%|█▍        | 5/36 [00:50<05:22, 10.41s/it]\n",
      "  0%|          | 0/1402 [00:00<?, ?it/s]\u001b[A\n",
      "  3%|▎         | 44/1402 [00:00<00:03, 388.45it/s]\u001b[A"
     ]
    },
    {
     "name": "stdout",
     "output_type": "stream",
     "text": [
      "0.3339\n",
      "statistics (0.8622, 0.0161, 0.25, 0.0303, 12, 0.3339)\n"
     ]
    },
    {
     "name": "stderr",
     "output_type": "stream",
     "text": [
      "\n",
      "  7%|▋         | 103/1402 [00:00<00:03, 431.72it/s]\u001b[A\n",
      " 11%|█         | 156/1402 [00:00<00:02, 456.36it/s]\u001b[A\n",
      " 15%|█▌        | 211/1402 [00:00<00:02, 479.96it/s]\u001b[A\n",
      " 19%|█▉        | 266/1402 [00:00<00:02, 497.39it/s]\u001b[A\n",
      " 23%|██▎       | 323/1402 [00:00<00:02, 516.68it/s]\u001b[A\n",
      " 27%|██▋       | 376/1402 [00:00<00:01, 520.29it/s]\u001b[A\n",
      " 31%|███▏      | 441/1402 [00:00<00:01, 551.76it/s]\u001b[A\n",
      " 35%|███▌      | 495/1402 [00:00<00:01, 532.70it/s]\u001b[A\n",
      " 39%|███▉      | 548/1402 [00:01<00:01, 495.45it/s]\u001b[A\n",
      " 43%|████▎     | 598/1402 [00:01<00:01, 483.94it/s]\u001b[A\n",
      " 47%|████▋     | 657/1402 [00:01<00:01, 511.38it/s]\u001b[A\n",
      " 51%|█████     | 709/1402 [00:01<00:01, 503.21it/s]\u001b[A\n",
      " 55%|█████▍    | 771/1402 [00:01<00:01, 520.70it/s]\u001b[A\n",
      " 59%|█████▉    | 824/1402 [00:01<00:01, 496.91it/s]\u001b[A\n",
      " 63%|██████▎   | 889/1402 [00:01<00:00, 533.39it/s]\u001b[A\n",
      " 67%|██████▋   | 944/1402 [00:01<00:00, 498.82it/s]\u001b[A\n",
      " 71%|███████   | 996/1402 [00:01<00:00, 499.01it/s]\u001b[A\n",
      " 75%|███████▍  | 1047/1402 [00:02<00:00, 491.87it/s]\u001b[A\n",
      " 78%|███████▊  | 1097/1402 [00:02<00:00, 485.28it/s]\u001b[A\n",
      " 82%|████████▏ | 1146/1402 [00:02<00:00, 472.95it/s]\u001b[A\n",
      " 85%|████████▌ | 1195/1402 [00:02<00:00, 473.74it/s]\u001b[A\n",
      " 89%|████████▊ | 1244/1402 [00:02<00:00, 478.13it/s]\u001b[A\n",
      " 92%|█████████▏| 1293/1402 [00:02<00:00, 470.42it/s]\u001b[A\n",
      "100%|██████████| 1402/1402 [00:02<00:00, 509.63it/s]\u001b[A\n"
     ]
    },
    {
     "name": "stdout",
     "output_type": "stream",
     "text": [
      "------------------------------------\n",
      "\n",
      "0.0    1389\n",
      "1.0      13\n",
      "Name: CR-04-00-00-00, dtype: int64\n",
      "data set size 1402\n",
      "Checkpoint2 -Normalized Vector for Sentences are created\n"
     ]
    },
    {
     "name": "stderr",
     "output_type": "stream",
     "text": [
      " 17%|█▋        | 6/36 [00:59<05:02, 10.09s/it]\n",
      "  0%|          | 0/1404 [00:00<?, ?it/s]\u001b[A\n",
      "  3%|▎         | 44/1404 [00:00<00:03, 405.61it/s]\u001b[A"
     ]
    },
    {
     "name": "stdout",
     "output_type": "stream",
     "text": [
      "0.3722\n",
      "statistics (0.8559, 0.0299, 0.4615, 0.0561, 13, 0.3722)\n"
     ]
    },
    {
     "name": "stderr",
     "output_type": "stream",
     "text": [
      "\n",
      "  7%|▋         | 101/1404 [00:00<00:02, 443.65it/s]\u001b[A\n",
      " 11%|█         | 153/1404 [00:00<00:02, 463.87it/s]\u001b[A\n",
      " 15%|█▍        | 207/1404 [00:00<00:02, 483.40it/s]\u001b[A\n",
      " 19%|█▊        | 262/1404 [00:00<00:02, 500.49it/s]\u001b[A\n",
      " 23%|██▎       | 317/1404 [00:00<00:02, 512.42it/s]\u001b[A\n",
      " 26%|██▌       | 368/1404 [00:00<00:02, 510.20it/s]\u001b[A\n",
      " 31%|███       | 437/1404 [00:00<00:01, 545.91it/s]\u001b[A\n",
      " 35%|███▍      | 491/1404 [00:00<00:01, 531.47it/s]\u001b[A\n",
      " 39%|███▊      | 544/1404 [00:01<00:01, 494.83it/s]\u001b[A\n",
      " 42%|████▏     | 595/1404 [00:01<00:01, 495.05it/s]\u001b[A\n",
      " 46%|████▌     | 646/1404 [00:01<00:01, 497.76it/s]\u001b[A\n",
      " 50%|████▉     | 700/1404 [00:01<00:01, 509.17it/s]\u001b[A\n",
      " 54%|█████▍    | 756/1404 [00:01<00:01, 520.57it/s]\u001b[A\n",
      " 58%|█████▊    | 809/1404 [00:01<00:01, 505.91it/s]\u001b[A\n",
      " 62%|██████▏   | 864/1404 [00:01<00:01, 512.64it/s]\u001b[A\n",
      " 65%|██████▌   | 917/1404 [00:01<00:00, 516.09it/s]\u001b[A\n",
      " 69%|██████▉   | 969/1404 [00:01<00:00, 485.13it/s]\u001b[A\n",
      " 73%|███████▎  | 1020/1404 [00:01<00:00, 489.29it/s]\u001b[A\n",
      " 76%|███████▋  | 1073/1404 [00:02<00:00, 500.69it/s]\u001b[A\n",
      " 80%|████████  | 1124/1404 [00:02<00:00, 492.29it/s]\u001b[A\n",
      " 84%|████████▎ | 1174/1404 [00:02<00:00, 471.18it/s]\u001b[A\n",
      " 88%|████████▊ | 1229/1404 [00:02<00:00, 491.18it/s]\u001b[A\n",
      " 91%|█████████ | 1279/1404 [00:02<00:00, 481.15it/s]\u001b[A\n",
      " 95%|█████████▍| 1333/1404 [00:02<00:00, 495.11it/s]\u001b[A\n",
      "100%|██████████| 1404/1404 [00:02<00:00, 508.46it/s]\u001b[A\n"
     ]
    },
    {
     "name": "stdout",
     "output_type": "stream",
     "text": [
      "------------------------------------\n",
      "\n",
      "0.0    1393\n",
      "1.0      11\n",
      "Name: CR-06-00-00-00, dtype: int64\n",
      "data set size 1404\n",
      "Checkpoint2 -Normalized Vector for Sentences are created\n"
     ]
    },
    {
     "name": "stderr",
     "output_type": "stream",
     "text": [
      " 19%|█▉        | 7/36 [01:04<04:11,  8.68s/it]\n",
      "  0%|          | 0/1969 [00:00<?, ?it/s]\u001b[A\n",
      "  3%|▎         | 53/1969 [00:00<00:03, 518.57it/s]\u001b[A"
     ]
    },
    {
     "name": "stdout",
     "output_type": "stream",
     "text": [
      "0.2744\n",
      "statistics (0.8917, 0.0331, 0.4545, 0.0617, 11, 0.2744)\n"
     ]
    },
    {
     "name": "stderr",
     "output_type": "stream",
     "text": [
      "\n",
      "  5%|▍         | 97/1969 [00:00<00:03, 490.14it/s]\u001b[A\n",
      "  8%|▊         | 156/1969 [00:00<00:03, 516.05it/s]\u001b[A\n",
      " 11%|█         | 210/1969 [00:00<00:03, 521.28it/s]\u001b[A\n",
      " 13%|█▎        | 262/1969 [00:00<00:03, 516.87it/s]\u001b[A\n",
      " 16%|█▋        | 323/1969 [00:00<00:03, 540.82it/s]\u001b[A\n",
      " 19%|█▉        | 373/1969 [00:00<00:03, 527.59it/s]\u001b[A\n",
      " 22%|██▏       | 431/1969 [00:00<00:02, 540.90it/s]\u001b[A\n",
      " 25%|██▍       | 483/1969 [00:00<00:03, 495.06it/s]\u001b[A\n",
      " 27%|██▋       | 532/1969 [00:01<00:02, 488.05it/s]\u001b[A\n",
      " 30%|██▉       | 590/1969 [00:01<00:02, 511.85it/s]\u001b[A\n",
      " 33%|███▎      | 643/1969 [00:01<00:02, 515.55it/s]\u001b[A\n",
      " 35%|███▌      | 695/1969 [00:01<00:02, 509.85it/s]\u001b[A\n",
      " 38%|███▊      | 746/1969 [00:01<00:02, 470.58it/s]\u001b[A\n",
      " 40%|████      | 797/1969 [00:01<00:02, 480.07it/s]\u001b[A\n",
      " 43%|████▎     | 846/1969 [00:01<00:02, 474.33it/s]\u001b[A\n",
      " 46%|████▌     | 910/1969 [00:01<00:02, 512.24it/s]\u001b[A\n",
      " 49%|████▉     | 963/1969 [00:01<00:01, 507.16it/s]\u001b[A\n",
      " 52%|█████▏    | 1023/1969 [00:01<00:01, 531.84it/s]\u001b[A\n",
      " 55%|█████▍    | 1078/1969 [00:02<00:01, 524.11it/s]\u001b[A\n",
      " 57%|█████▋    | 1132/1969 [00:02<00:01, 490.51it/s]\u001b[A\n",
      " 61%|██████    | 1193/1969 [00:02<00:01, 521.11it/s]\u001b[A\n",
      " 63%|██████▎   | 1247/1969 [00:02<00:01, 507.16it/s]\u001b[A\n",
      " 66%|██████▌   | 1299/1969 [00:02<00:01, 491.05it/s]\u001b[A\n",
      " 69%|██████▊   | 1349/1969 [00:02<00:01, 485.61it/s]\u001b[A\n",
      " 71%|███████   | 1400/1969 [00:02<00:01, 490.98it/s]\u001b[A\n",
      " 74%|███████▍  | 1453/1969 [00:02<00:01, 493.63it/s]\u001b[A\n",
      " 76%|███████▋  | 1503/1969 [00:02<00:00, 484.70it/s]\u001b[A\n",
      " 79%|███████▉  | 1557/1969 [00:03<00:00, 488.75it/s]\u001b[A\n",
      " 82%|████████▏ | 1607/1969 [00:03<00:00, 474.10it/s]\u001b[A\n",
      " 84%|████████▍ | 1655/1969 [00:03<00:00, 448.60it/s]\u001b[A\n",
      " 87%|████████▋ | 1708/1969 [00:03<00:00, 469.97it/s]\u001b[A\n",
      " 89%|████████▉ | 1756/1969 [00:03<00:00, 467.66it/s]\u001b[A\n",
      " 92%|█████████▏| 1807/1969 [00:03<00:00, 479.01it/s]\u001b[A\n",
      " 94%|█████████▍| 1859/1969 [00:03<00:00, 489.99it/s]\u001b[A\n",
      "100%|██████████| 1969/1969 [00:03<00:00, 505.16it/s]\u001b[A\n"
     ]
    },
    {
     "name": "stdout",
     "output_type": "stream",
     "text": [
      "------------------------------------\n",
      "\n",
      "0.0    1958\n",
      "1.0      11\n",
      "Name: CR-10-00-00-00, dtype: int64\n",
      "data set size 1969\n",
      "Checkpoint2 -Normalized Vector for Sentences are created\n"
     ]
    },
    {
     "name": "stderr",
     "output_type": "stream",
     "text": [
      " 22%|██▏       | 8/36 [01:19<04:50, 10.38s/it]\n",
      "  0%|          | 0/1813 [00:00<?, ?it/s]\u001b[A\n",
      "  3%|▎         | 49/1813 [00:00<00:04, 402.86it/s]\u001b[A"
     ]
    },
    {
     "name": "stdout",
     "output_type": "stream",
     "text": [
      "0.2691\n",
      "statistics (0.8913, 0.0144, 0.2727, 0.0273, 11, 0.2691)\n"
     ]
    },
    {
     "name": "stderr",
     "output_type": "stream",
     "text": [
      "\n",
      "  6%|▌         | 100/1813 [00:00<00:04, 427.60it/s]\u001b[A\n",
      "  8%|▊         | 151/1813 [00:00<00:03, 446.27it/s]\u001b[A\n",
      " 11%|█▏        | 205/1813 [00:00<00:03, 467.19it/s]\u001b[A\n",
      " 14%|█▍        | 256/1813 [00:00<00:03, 479.10it/s]\u001b[A\n",
      " 17%|█▋        | 313/1813 [00:00<00:02, 501.95it/s]\u001b[A\n",
      " 20%|█▉        | 362/1813 [00:00<00:02, 498.16it/s]\u001b[A\n",
      " 23%|██▎       | 412/1813 [00:00<00:02, 496.26it/s]\u001b[A\n",
      " 25%|██▌       | 460/1813 [00:00<00:02, 473.02it/s]\u001b[A\n",
      " 28%|██▊       | 514/1813 [00:01<00:02, 490.22it/s]\u001b[A\n",
      " 32%|███▏      | 572/1813 [00:01<00:02, 507.91it/s]\u001b[A\n",
      " 34%|███▍      | 623/1813 [00:01<00:02, 500.36it/s]\u001b[A\n",
      " 37%|███▋      | 673/1813 [00:01<00:02, 475.39it/s]\u001b[A\n",
      " 40%|███▉      | 721/1813 [00:01<00:02, 463.70it/s]\u001b[A\n",
      " 42%|████▏     | 770/1813 [00:01<00:02, 467.73it/s]\u001b[A\n",
      " 46%|████▌     | 826/1813 [00:01<00:02, 491.63it/s]\u001b[A\n",
      " 49%|████▊     | 883/1813 [00:01<00:01, 509.06it/s]\u001b[A\n",
      " 52%|█████▏    | 937/1813 [00:01<00:01, 516.74it/s]\u001b[A\n",
      " 55%|█████▍    | 991/1813 [00:01<00:01, 519.74it/s]\u001b[A\n",
      " 58%|█████▊    | 1044/1813 [00:02<00:01, 504.71it/s]\u001b[A\n",
      " 60%|██████    | 1095/1813 [00:02<00:01, 482.17it/s]\u001b[A\n",
      " 64%|██████▎   | 1155/1813 [00:02<00:01, 511.62it/s]\u001b[A\n",
      " 67%|██████▋   | 1207/1813 [00:02<00:01, 484.43it/s]\u001b[A\n",
      " 69%|██████▉   | 1257/1813 [00:02<00:01, 466.05it/s]\u001b[A\n",
      " 72%|███████▏  | 1306/1813 [00:02<00:01, 472.04it/s]\u001b[A\n",
      " 75%|███████▌  | 1364/1813 [00:02<00:00, 496.96it/s]\u001b[A\n",
      " 78%|███████▊  | 1415/1813 [00:02<00:00, 477.88it/s]\u001b[A\n",
      " 81%|████████  | 1469/1813 [00:02<00:00, 492.00it/s]\u001b[A\n",
      " 84%|████████▍ | 1519/1813 [00:03<00:00, 489.54it/s]\u001b[A\n",
      " 87%|████████▋ | 1569/1813 [00:03<00:00, 474.71it/s]\u001b[A\n",
      " 89%|████████▉ | 1617/1813 [00:03<00:00, 431.38it/s]\u001b[A\n",
      " 92%|█████████▏| 1666/1813 [00:03<00:00, 447.24it/s]\u001b[A\n",
      " 95%|█████████▍| 1721/1813 [00:03<00:00, 471.87it/s]\u001b[A\n",
      "100%|██████████| 1813/1813 [00:03<00:00, 487.29it/s]\u001b[A\n"
     ]
    },
    {
     "name": "stdout",
     "output_type": "stream",
     "text": [
      "------------------------------------\n",
      "\n",
      "0.0    1789\n",
      "1.0      24\n",
      "Name: ED-00-00-00-00, dtype: int64\n",
      "data set size 1813\n",
      "Checkpoint2 -Normalized Vector for Sentences are created\n"
     ]
    },
    {
     "name": "stderr",
     "output_type": "stream",
     "text": [
      " 25%|██▌       | 9/36 [01:23<03:53,  8.64s/it]\n",
      "  0%|          | 0/1944 [00:00<?, ?it/s]\u001b[A\n",
      "  3%|▎         | 52/1944 [00:00<00:03, 516.48it/s]\u001b[A"
     ]
    },
    {
     "name": "stdout",
     "output_type": "stream",
     "text": [
      "0.2142\n",
      "statistics (0.9338, 0.1308, 0.7083, 0.2208, 24, 0.2142)\n"
     ]
    },
    {
     "name": "stderr",
     "output_type": "stream",
     "text": [
      "\n",
      "  5%|▍         | 95/1944 [00:00<00:03, 486.89it/s]\u001b[A\n",
      "  8%|▊         | 153/1944 [00:00<00:03, 511.33it/s]\u001b[A\n",
      " 11%|█         | 206/1944 [00:00<00:03, 516.56it/s]\u001b[A\n",
      " 13%|█▎        | 250/1944 [00:00<00:03, 489.43it/s]\u001b[A\n",
      " 16%|█▌        | 310/1944 [00:00<00:03, 516.79it/s]\u001b[A\n",
      " 19%|█▉        | 365/1944 [00:00<00:03, 523.45it/s]\u001b[A\n",
      " 22%|██▏       | 421/1944 [00:00<00:02, 533.15it/s]\u001b[A\n",
      " 24%|██▍       | 475/1944 [00:00<00:02, 532.98it/s]\u001b[A\n",
      " 27%|██▋       | 527/1944 [00:01<00:02, 497.68it/s]\u001b[A\n",
      " 30%|███       | 585/1944 [00:01<00:02, 515.21it/s]\u001b[A\n",
      " 33%|███▎      | 643/1944 [00:01<00:02, 532.99it/s]\u001b[A\n",
      " 36%|███▌      | 697/1944 [00:01<00:02, 499.88it/s]\u001b[A\n",
      " 38%|███▊      | 748/1944 [00:01<00:02, 470.79it/s]\u001b[A\n",
      " 41%|████      | 799/1944 [00:01<00:02, 480.76it/s]\u001b[A\n",
      " 44%|████▎     | 848/1944 [00:01<00:02, 474.67it/s]\u001b[A\n",
      " 47%|████▋     | 908/1944 [00:01<00:02, 504.84it/s]\u001b[A\n",
      " 49%|████▉     | 960/1944 [00:01<00:01, 505.02it/s]\u001b[A\n",
      " 52%|█████▏    | 1016/1944 [00:01<00:01, 518.98it/s]\u001b[A\n",
      " 55%|█████▍    | 1069/1944 [00:02<00:01, 511.17it/s]\u001b[A\n",
      " 58%|█████▊    | 1121/1944 [00:02<00:01, 484.33it/s]\u001b[A\n",
      " 61%|██████    | 1179/1944 [00:02<00:01, 508.48it/s]\u001b[A\n",
      " 63%|██████▎   | 1232/1944 [00:02<00:01, 513.58it/s]\u001b[A\n",
      " 66%|██████▌   | 1284/1944 [00:02<00:01, 503.78it/s]\u001b[A\n",
      " 69%|██████▊   | 1335/1944 [00:02<00:01, 479.91it/s]\u001b[A\n",
      " 71%|███████   | 1384/1944 [00:02<00:01, 479.03it/s]\u001b[A\n",
      " 74%|███████▍  | 1435/1944 [00:02<00:01, 487.50it/s]\u001b[A\n",
      " 76%|███████▋  | 1485/1944 [00:02<00:00, 478.63it/s]\u001b[A\n",
      " 79%|███████▉  | 1535/1944 [00:03<00:00, 484.07it/s]\u001b[A\n",
      " 81%|████████▏ | 1584/1944 [00:03<00:00, 478.36it/s]\u001b[A\n",
      " 84%|████████▍ | 1632/1944 [00:03<00:00, 442.01it/s]\u001b[A\n",
      " 87%|████████▋ | 1683/1944 [00:03<00:00, 458.77it/s]\u001b[A\n",
      " 89%|████████▉ | 1736/1944 [00:03<00:00, 476.42it/s]\u001b[A\n",
      " 92%|█████████▏| 1785/1944 [00:03<00:00, 471.29it/s]\u001b[A\n",
      " 94%|█████████▍| 1837/1944 [00:03<00:00, 484.70it/s]\u001b[A\n",
      "100%|██████████| 1944/1944 [00:03<00:00, 500.25it/s]\u001b[A\n"
     ]
    },
    {
     "name": "stdout",
     "output_type": "stream",
     "text": [
      "------------------------------------\n",
      "\n",
      "0.0    1866\n",
      "1.0      78\n",
      "Name: ES-00-00-00-00, dtype: int64\n",
      "data set size 1944\n",
      "Checkpoint2 -Normalized Vector for Sentences are created\n"
     ]
    },
    {
     "name": "stderr",
     "output_type": "stream",
     "text": [
      " 28%|██▊       | 10/36 [01:28<03:15,  7.52s/it]\n",
      "  0%|          | 0/1876 [00:00<?, ?it/s]\u001b[A\n",
      "  3%|▎         | 56/1876 [00:00<00:03, 555.40it/s]\u001b[A"
     ]
    },
    {
     "name": "stdout",
     "output_type": "stream",
     "text": [
      "0.2675\n",
      "statistics (0.8904, 0.2433, 0.8205, 0.3754, 78, 0.2675)\n"
     ]
    },
    {
     "name": "stderr",
     "output_type": "stream",
     "text": [
      "\n",
      "  5%|▌         | 99/1876 [00:00<00:03, 508.48it/s]\u001b[A\n",
      "  8%|▊         | 157/1876 [00:00<00:03, 525.10it/s]\u001b[A\n",
      " 11%|█         | 208/1876 [00:00<00:03, 519.32it/s]\u001b[A\n",
      " 14%|█▎        | 257/1876 [00:00<00:03, 508.68it/s]\u001b[A\n",
      " 17%|█▋        | 316/1876 [00:00<00:02, 527.46it/s]\u001b[A\n",
      " 20%|██        | 376/1876 [00:00<00:02, 547.20it/s]\u001b[A\n",
      " 23%|██▎       | 430/1876 [00:00<00:02, 541.35it/s]\u001b[A\n",
      " 26%|██▌       | 482/1876 [00:00<00:02, 497.70it/s]\u001b[A\n",
      " 29%|██▊       | 539/1876 [00:01<00:02, 516.83it/s]\u001b[A\n",
      " 32%|███▏      | 599/1876 [00:01<00:02, 538.49it/s]\u001b[A\n",
      " 35%|███▍      | 653/1876 [00:01<00:02, 513.22it/s]\u001b[A\n",
      " 38%|███▊      | 705/1876 [00:01<00:02, 490.72it/s]\u001b[A\n",
      " 40%|████      | 755/1876 [00:01<00:02, 475.71it/s]\u001b[A\n",
      " 43%|████▎     | 805/1876 [00:01<00:02, 477.80it/s]\u001b[A\n",
      " 46%|████▌     | 865/1876 [00:01<00:01, 506.57it/s]\u001b[A\n",
      " 49%|████▉     | 920/1876 [00:01<00:01, 518.84it/s]\u001b[A\n",
      " 52%|█████▏    | 974/1876 [00:01<00:01, 523.71it/s]\u001b[A\n",
      " 55%|█████▍    | 1027/1876 [00:01<00:01, 517.49it/s]\u001b[A\n",
      " 58%|█████▊    | 1080/1876 [00:02<00:01, 505.66it/s]\u001b[A\n",
      " 61%|██████    | 1135/1876 [00:02<00:01, 518.13it/s]\u001b[A\n",
      " 63%|██████▎   | 1188/1876 [00:02<00:01, 514.16it/s]\u001b[A\n",
      " 66%|██████▌   | 1240/1876 [00:02<00:01, 505.98it/s]\u001b[A\n",
      " 69%|██████▉   | 1291/1876 [00:02<00:01, 486.83it/s]\u001b[A\n",
      " 71%|███████▏  | 1340/1876 [00:02<00:01, 480.91it/s]\u001b[A\n",
      " 74%|███████▍  | 1391/1876 [00:02<00:00, 488.01it/s]\u001b[A\n",
      " 77%|███████▋  | 1440/1876 [00:02<00:00, 483.28it/s]\u001b[A\n",
      " 79%|███████▉  | 1490/1876 [00:02<00:00, 487.70it/s]\u001b[A\n",
      " 82%|████████▏ | 1539/1876 [00:03<00:00, 471.09it/s]\u001b[A\n",
      " 85%|████████▍ | 1587/1876 [00:03<00:00, 434.37it/s]\u001b[A\n",
      " 88%|████████▊ | 1644/1876 [00:03<00:00, 467.02it/s]\u001b[A\n",
      " 90%|█████████ | 1692/1876 [00:03<00:00, 467.44it/s]\u001b[A\n",
      " 93%|█████████▎| 1740/1876 [00:03<00:00, 458.38it/s]\u001b[A\n",
      " 96%|█████████▌| 1802/1876 [00:03<00:00, 493.04it/s]\u001b[A\n",
      "100%|██████████| 1876/1876 [00:03<00:00, 502.95it/s]\u001b[A\n"
     ]
    },
    {
     "name": "stdout",
     "output_type": "stream",
     "text": [
      "------------------------------------\n",
      "\n",
      "0.0    1866\n",
      "1.0      10\n",
      "Name: ES-01-00-00-00, dtype: int64\n",
      "data set size 1876\n",
      "Checkpoint2 -Normalized Vector for Sentences are created\n"
     ]
    },
    {
     "name": "stderr",
     "output_type": "stream",
     "text": [
      " 31%|███       | 11/36 [01:36<03:12,  7.69s/it]\n",
      "  0%|          | 0/1992 [00:00<?, ?it/s]\u001b[A\n",
      "  3%|▎         | 53/1992 [00:00<00:03, 523.96it/s]\u001b[A"
     ]
    },
    {
     "name": "stdout",
     "output_type": "stream",
     "text": [
      "0.1872\n",
      "statistics (0.9264, 0.0362, 0.5, 0.0676, 10, 0.1872)\n"
     ]
    },
    {
     "name": "stderr",
     "output_type": "stream",
     "text": [
      "\n",
      "  5%|▍         | 95/1992 [00:00<00:03, 485.10it/s]\u001b[A\n",
      "  8%|▊         | 153/1992 [00:00<00:03, 509.21it/s]\u001b[A\n",
      " 10%|█         | 207/1992 [00:00<00:03, 517.85it/s]\u001b[A\n",
      " 13%|█▎        | 253/1992 [00:00<00:03, 496.93it/s]\u001b[A\n",
      " 16%|█▌        | 312/1992 [00:00<00:03, 520.42it/s]\u001b[A\n",
      " 18%|█▊        | 365/1992 [00:00<00:03, 522.31it/s]\u001b[A\n",
      " 21%|██▏       | 425/1992 [00:00<00:02, 536.00it/s]\u001b[A\n",
      " 24%|██▍       | 478/1992 [00:00<00:02, 533.13it/s]\u001b[A\n",
      " 27%|██▋       | 530/1992 [00:01<00:02, 504.48it/s]\u001b[A\n",
      " 29%|██▉       | 586/1992 [00:01<00:02, 518.13it/s]\u001b[A\n",
      " 32%|███▏      | 645/1992 [00:01<00:02, 535.06it/s]\u001b[A\n",
      " 35%|███▌      | 699/1992 [00:01<00:02, 522.43it/s]\u001b[A\n",
      " 38%|███▊      | 752/1992 [00:01<00:02, 497.41it/s]\u001b[A\n",
      " 40%|████      | 802/1992 [00:01<00:02, 480.72it/s]\u001b[A\n",
      " 43%|████▎     | 851/1992 [00:01<00:02, 474.25it/s]\u001b[A\n",
      " 46%|████▌     | 915/1992 [00:01<00:02, 512.45it/s]\u001b[A\n",
      " 49%|████▊     | 969/1992 [00:01<00:01, 513.75it/s]\u001b[A\n",
      " 51%|█████▏    | 1024/1992 [00:01<00:01, 520.60it/s]\u001b[A\n",
      " 54%|█████▍    | 1077/1992 [00:02<00:01, 517.19it/s]\u001b[A\n",
      " 57%|█████▋    | 1130/1992 [00:02<00:01, 493.06it/s]\u001b[A\n",
      " 60%|█████▉    | 1189/1992 [00:02<00:01, 515.47it/s]\u001b[A\n",
      " 62%|██████▏   | 1244/1992 [00:02<00:01, 523.15it/s]\u001b[A\n",
      " 65%|██████▌   | 1297/1992 [00:02<00:01, 508.11it/s]\u001b[A\n",
      " 68%|██████▊   | 1349/1992 [00:02<00:01, 482.98it/s]\u001b[A\n",
      " 70%|███████   | 1400/1992 [00:02<00:01, 489.27it/s]\u001b[A\n",
      " 73%|███████▎  | 1451/1992 [00:02<00:01, 495.27it/s]\u001b[A\n",
      " 75%|███████▌  | 1501/1992 [00:02<00:00, 493.17it/s]\u001b[A\n",
      " 78%|███████▊  | 1551/1992 [00:03<00:00, 493.63it/s]\u001b[A\n",
      " 80%|████████  | 1601/1992 [00:03<00:00, 474.51it/s]\u001b[A\n",
      " 83%|████████▎ | 1649/1992 [00:03<00:00, 448.34it/s]\u001b[A\n",
      " 85%|████████▌ | 1695/1992 [00:03<00:00, 446.66it/s]\u001b[A\n",
      " 88%|████████▊ | 1743/1992 [00:03<00:00, 456.02it/s]\u001b[A\n",
      " 90%|████████▉ | 1790/1992 [00:03<00:00, 458.86it/s]\u001b[A\n",
      " 92%|█████████▏| 1837/1992 [00:03<00:00, 446.48it/s]\u001b[A\n",
      " 95%|█████████▌| 1895/1992 [00:03<00:00, 478.43it/s]\u001b[A\n",
      "100%|██████████| 1992/1992 [00:03<00:00, 502.43it/s]\u001b[A\n"
     ]
    },
    {
     "name": "stdout",
     "output_type": "stream",
     "text": [
      "------------------------------------\n",
      "\n",
      "0.0    1979\n",
      "1.0      13\n",
      "Name: ES-03-00-00-00, dtype: int64\n",
      "data set size 1992\n",
      "Checkpoint2 -Normalized Vector for Sentences are created\n"
     ]
    },
    {
     "name": "stderr",
     "output_type": "stream",
     "text": [
      " 33%|███▎      | 12/36 [01:56<04:33, 11.41s/it]\n",
      "  0%|          | 0/2042 [00:00<?, ?it/s]\u001b[A\n",
      "  3%|▎         | 53/2042 [00:00<00:03, 509.69it/s]\u001b[A"
     ]
    },
    {
     "name": "stdout",
     "output_type": "stream",
     "text": [
      "0.2653\n",
      "statistics (0.88, 0.0292, 0.5385, 0.0553, 13, 0.2653)\n"
     ]
    },
    {
     "name": "stderr",
     "output_type": "stream",
     "text": [
      "\n",
      "  5%|▍         | 95/2042 [00:00<00:04, 475.25it/s]\u001b[A\n",
      "  8%|▊         | 154/2042 [00:00<00:03, 504.50it/s]\u001b[A\n",
      " 10%|█         | 206/2042 [00:00<00:03, 507.45it/s]\u001b[A\n",
      " 12%|█▏        | 252/2042 [00:00<00:03, 491.39it/s]\u001b[A\n",
      " 15%|█▌        | 312/2042 [00:00<00:03, 518.51it/s]\u001b[A\n",
      " 18%|█▊        | 365/2042 [00:00<00:03, 521.78it/s]\u001b[A\n",
      " 21%|██        | 421/2042 [00:00<00:03, 531.68it/s]\u001b[A\n",
      " 23%|██▎       | 474/2042 [00:00<00:02, 526.37it/s]\u001b[A\n",
      " 26%|██▌       | 525/2042 [00:01<00:03, 493.07it/s]\u001b[A\n",
      " 28%|██▊       | 580/2042 [00:01<00:02, 508.06it/s]\u001b[A\n",
      " 31%|███       | 637/2042 [00:01<00:02, 521.22it/s]\u001b[A\n",
      " 34%|███▎      | 689/2042 [00:01<00:02, 514.01it/s]\u001b[A\n",
      " 36%|███▋      | 741/2042 [00:01<00:02, 484.76it/s]\u001b[A\n",
      " 39%|███▊      | 790/2042 [00:01<00:02, 476.30it/s]\u001b[A\n",
      " 41%|████      | 838/2042 [00:01<00:02, 466.43it/s]\u001b[A\n",
      " 44%|████▍     | 896/2042 [00:01<00:02, 493.10it/s]\u001b[A\n",
      " 46%|████▋     | 946/2042 [00:01<00:02, 491.72it/s]\u001b[A\n",
      " 49%|████▉     | 1003/2042 [00:01<00:02, 510.04it/s]\u001b[A\n",
      " 52%|█████▏    | 1055/2042 [00:02<00:01, 507.11it/s]\u001b[A\n",
      " 54%|█████▍    | 1107/2042 [00:02<00:01, 491.60it/s]\u001b[A\n",
      " 57%|█████▋    | 1158/2042 [00:02<00:01, 495.47it/s]\u001b[A\n",
      " 60%|█████▉    | 1215/2042 [00:02<00:01, 515.62it/s]\u001b[A\n",
      " 62%|██████▏   | 1268/2042 [00:02<00:01, 517.51it/s]\u001b[A\n",
      " 65%|██████▍   | 1321/2042 [00:02<00:01, 483.29it/s]\u001b[A\n",
      " 67%|██████▋   | 1370/2042 [00:02<00:01, 483.37it/s]\u001b[A\n",
      " 69%|██████▉   | 1419/2042 [00:02<00:01, 469.48it/s]\u001b[A\n",
      " 72%|███████▏  | 1475/2042 [00:02<00:01, 493.31it/s]\u001b[A\n",
      " 75%|███████▍  | 1525/2042 [00:03<00:01, 485.13it/s]\u001b[A\n",
      " 77%|███████▋  | 1577/2042 [00:03<00:00, 494.08it/s]\u001b[A\n",
      " 80%|███████▉  | 1627/2042 [00:03<00:00, 471.40it/s]\u001b[A\n",
      " 82%|████████▏ | 1675/2042 [00:03<00:00, 435.99it/s]\u001b[A\n",
      " 84%|████████▍ | 1720/2042 [00:03<00:00, 429.49it/s]\u001b[A\n",
      " 86%|████████▋ | 1764/2042 [00:03<00:00, 427.74it/s]\u001b[A\n",
      " 89%|████████▉ | 1821/2042 [00:03<00:00, 461.68it/s]\u001b[A\n",
      " 92%|█████████▏| 1869/2042 [00:03<00:00, 458.35it/s]\u001b[A\n",
      " 94%|█████████▍| 1919/2042 [00:03<00:00, 470.00it/s]\u001b[A\n",
      " 97%|█████████▋| 1972/2042 [00:04<00:00, 485.67it/s]\u001b[A\n",
      "100%|██████████| 2042/2042 [00:04<00:00, 494.19it/s]\u001b[A\n"
     ]
    },
    {
     "name": "stdout",
     "output_type": "stream",
     "text": [
      "------------------------------------\n",
      "\n",
      "0.0    1685\n",
      "1.0     357\n",
      "Name: FA-00-00-00-00, dtype: int64\n",
      "data set size 2042\n",
      "Checkpoint2 -Normalized Vector for Sentences are created\n"
     ]
    },
    {
     "name": "stderr",
     "output_type": "stream",
     "text": [
      " 36%|███▌      | 13/36 [02:03<03:51, 10.06s/it]\n",
      "  0%|          | 0/2011 [00:00<?, ?it/s]\u001b[A\n",
      "  3%|▎         | 56/2011 [00:00<00:03, 550.99it/s]\u001b[A"
     ]
    },
    {
     "name": "stdout",
     "output_type": "stream",
     "text": [
      "0.3053\n",
      "statistics (0.8869, 0.626, 0.8768, 0.7305, 357, 0.3053)\n"
     ]
    },
    {
     "name": "stderr",
     "output_type": "stream",
     "text": [
      "\n",
      "  5%|▍         | 98/2011 [00:00<00:03, 502.71it/s]\u001b[A\n",
      "  8%|▊         | 153/2011 [00:00<00:03, 513.92it/s]\u001b[A\n",
      " 10%|█         | 209/2011 [00:00<00:03, 525.60it/s]\u001b[A\n",
      " 13%|█▎        | 259/2011 [00:00<00:03, 513.12it/s]\u001b[A\n",
      " 16%|█▌        | 316/2011 [00:00<00:03, 528.33it/s]\u001b[A\n",
      " 19%|█▊        | 374/2011 [00:00<00:03, 541.78it/s]\u001b[A\n",
      " 22%|██▏       | 433/2011 [00:00<00:02, 553.85it/s]\u001b[A\n",
      " 24%|██▍       | 486/2011 [00:00<00:02, 524.23it/s]\u001b[A\n",
      " 27%|██▋       | 537/2011 [00:01<00:02, 502.46it/s]\u001b[A\n",
      " 30%|██▉       | 595/2011 [00:01<00:02, 523.24it/s]\u001b[A\n",
      " 32%|███▏      | 649/2011 [00:01<00:02, 525.62it/s]\u001b[A\n",
      " 35%|███▍      | 702/2011 [00:01<00:02, 514.33it/s]\u001b[A\n",
      " 37%|███▋      | 754/2011 [00:01<00:02, 490.59it/s]\u001b[A\n",
      " 40%|███▉      | 804/2011 [00:01<00:02, 478.87it/s]\u001b[A\n",
      " 42%|████▏     | 853/2011 [00:01<00:02, 472.36it/s]\u001b[A\n",
      " 45%|████▌     | 915/2011 [00:01<00:02, 507.86it/s]\u001b[A\n",
      " 48%|████▊     | 968/2011 [00:01<00:02, 514.26it/s]\u001b[A\n",
      " 51%|█████     | 1023/2011 [00:01<00:01, 522.86it/s]\u001b[A\n",
      " 54%|█████▎    | 1076/2011 [00:02<00:01, 510.48it/s]\u001b[A\n",
      " 56%|█████▌    | 1128/2011 [00:02<00:01, 497.38it/s]\u001b[A\n",
      " 59%|█████▉    | 1182/2011 [00:02<00:01, 506.52it/s]\u001b[A\n",
      " 62%|██████▏   | 1243/2011 [00:02<00:01, 532.24it/s]\u001b[A\n",
      " 64%|██████▍   | 1297/2011 [00:02<00:01, 506.81it/s]\u001b[A\n",
      " 67%|██████▋   | 1349/2011 [00:02<00:01, 481.35it/s]\u001b[A\n",
      " 70%|██████▉   | 1398/2011 [00:02<00:01, 466.57it/s]\u001b[A\n",
      " 72%|███████▏  | 1455/2011 [00:02<00:01, 493.27it/s]\u001b[A\n",
      " 75%|███████▍  | 1508/2011 [00:02<00:01, 498.09it/s]\u001b[A\n",
      " 78%|███████▊  | 1559/2011 [00:03<00:00, 500.68it/s]\u001b[A\n",
      " 80%|████████  | 1610/2011 [00:03<00:00, 496.04it/s]\u001b[A\n",
      " 83%|████████▎ | 1660/2011 [00:03<00:00, 458.93it/s]\u001b[A\n",
      " 85%|████████▍ | 1707/2011 [00:03<00:00, 442.24it/s]\u001b[A\n",
      " 87%|████████▋ | 1752/2011 [00:03<00:00, 437.22it/s]\u001b[A\n",
      " 89%|████████▉ | 1797/2011 [00:03<00:00, 438.83it/s]\u001b[A\n",
      " 92%|█████████▏| 1847/2011 [00:03<00:00, 452.52it/s]\u001b[A\n",
      " 95%|█████████▍| 1904/2011 [00:03<00:00, 478.98it/s]\u001b[A\n",
      "100%|██████████| 2011/2011 [00:04<00:00, 502.66it/s]\u001b[A\n"
     ]
    },
    {
     "name": "stdout",
     "output_type": "stream",
     "text": [
      "------------------------------------\n",
      "\n",
      "0.0    2001\n",
      "1.0      10\n",
      "Name: FA-05-00-00-00, dtype: int64\n",
      "data set size 2011\n",
      "Checkpoint2 -Normalized Vector for Sentences are created\n"
     ]
    },
    {
     "name": "stderr",
     "output_type": "stream",
     "text": [
      " 39%|███▉      | 14/36 [02:16<04:01, 11.00s/it]\n",
      "  0%|          | 0/1791 [00:00<?, ?it/s]\u001b[A\n",
      "  3%|▎         | 55/1791 [00:00<00:03, 547.49it/s]\u001b[A"
     ]
    },
    {
     "name": "stdout",
     "output_type": "stream",
     "text": [
      "0.246\n",
      "statistics (0.9035, 0.0306, 0.6, 0.0583, 10, 0.246)\n"
     ]
    },
    {
     "name": "stderr",
     "output_type": "stream",
     "text": [
      "\n",
      "  5%|▌         | 96/1791 [00:00<00:03, 495.50it/s]\u001b[A\n",
      "  8%|▊         | 147/1791 [00:00<00:03, 499.61it/s]\u001b[A\n",
      " 11%|█▏        | 204/1791 [00:00<00:03, 518.78it/s]\u001b[A\n",
      " 15%|█▍        | 260/1791 [00:00<00:02, 527.73it/s]\u001b[A\n",
      " 18%|█▊        | 316/1791 [00:00<00:02, 536.55it/s]\u001b[A\n",
      " 21%|██        | 378/1791 [00:00<00:02, 558.53it/s]\u001b[A\n",
      " 24%|██▍       | 430/1791 [00:00<00:02, 535.31it/s]\u001b[A\n",
      " 27%|██▋       | 481/1791 [00:00<00:02, 515.09it/s]\u001b[A\n",
      " 30%|███       | 541/1791 [00:01<00:02, 536.42it/s]\u001b[A\n",
      " 33%|███▎      | 594/1791 [00:01<00:02, 516.69it/s]\u001b[A\n",
      " 36%|███▌      | 646/1791 [00:01<00:02, 489.16it/s]\u001b[A\n",
      " 39%|███▉      | 695/1791 [00:01<00:02, 477.45it/s]\u001b[A\n",
      " 42%|████▏     | 744/1791 [00:01<00:02, 480.05it/s]\u001b[A\n",
      " 45%|████▌     | 806/1791 [00:01<00:01, 513.25it/s]\u001b[A\n",
      " 48%|████▊     | 858/1791 [00:01<00:01, 503.79it/s]\u001b[A\n",
      " 51%|█████▏    | 918/1791 [00:01<00:01, 528.64it/s]\u001b[A\n",
      " 54%|█████▍    | 972/1791 [00:01<00:01, 504.67it/s]\u001b[A\n",
      " 57%|█████▋    | 1024/1791 [00:01<00:01, 492.12it/s]\u001b[A\n",
      " 61%|██████    | 1086/1791 [00:02<00:01, 523.96it/s]\u001b[A\n",
      " 64%|██████▎   | 1140/1791 [00:02<00:01, 511.76it/s]\u001b[A\n",
      " 67%|██████▋   | 1192/1791 [00:02<00:01, 483.84it/s]\u001b[A\n",
      " 69%|██████▉   | 1242/1791 [00:02<00:01, 471.52it/s]\u001b[A\n",
      " 72%|███████▏  | 1296/1791 [00:02<00:01, 489.72it/s]\u001b[A\n",
      " 75%|███████▌  | 1346/1791 [00:02<00:00, 478.68it/s]\u001b[A\n",
      " 78%|███████▊  | 1396/1791 [00:02<00:00, 482.36it/s]\u001b[A\n",
      " 81%|████████  | 1447/1791 [00:02<00:00, 489.78it/s]\u001b[A\n",
      " 84%|████████▎ | 1497/1791 [00:02<00:00, 461.97it/s]\u001b[A\n",
      " 86%|████████▌ | 1544/1791 [00:03<00:00, 453.41it/s]\u001b[A\n",
      " 89%|████████▉ | 1596/1791 [00:03<00:00, 461.17it/s]\u001b[A\n",
      " 92%|█████████▏| 1645/1791 [00:03<00:00, 464.41it/s]\u001b[A\n",
      " 95%|█████████▍| 1699/1791 [00:03<00:00, 480.10it/s]\u001b[A\n",
      "100%|██████████| 1791/1791 [00:03<00:00, 503.32it/s]\u001b[A\n"
     ]
    },
    {
     "name": "stdout",
     "output_type": "stream",
     "text": [
      "------------------------------------\n",
      "\n",
      "0.0    1781\n",
      "1.0      10\n",
      "Name: FA-06-00-00-00, dtype: int64\n",
      "data set size 1791\n",
      "Checkpoint2 -Normalized Vector for Sentences are created\n"
     ]
    },
    {
     "name": "stderr",
     "output_type": "stream",
     "text": [
      " 42%|████▏     | 15/36 [02:22<03:16,  9.34s/it]\n",
      "  0%|          | 0/1968 [00:00<?, ?it/s]\u001b[A\n",
      "  3%|▎         | 53/1968 [00:00<00:03, 513.32it/s]\u001b[A"
     ]
    },
    {
     "name": "stdout",
     "output_type": "stream",
     "text": [
      "0.2615\n",
      "statistics (0.8984, 0.0275, 0.5, 0.0521, 10, 0.2615)\n"
     ]
    },
    {
     "name": "stderr",
     "output_type": "stream",
     "text": [
      "\n",
      "  5%|▍         | 95/1968 [00:00<00:03, 477.84it/s]\u001b[A\n",
      "  8%|▊         | 155/1968 [00:00<00:03, 507.30it/s]\u001b[A\n",
      " 11%|█         | 210/1968 [00:00<00:03, 519.03it/s]\u001b[A\n",
      " 13%|█▎        | 258/1968 [00:00<00:03, 505.86it/s]\u001b[A\n",
      " 16%|█▌        | 315/1968 [00:00<00:03, 521.93it/s]\u001b[A\n",
      " 19%|█▉        | 370/1968 [00:00<00:03, 527.11it/s]\u001b[A\n",
      " 22%|██▏       | 428/1968 [00:00<00:02, 539.99it/s]\u001b[A\n",
      " 24%|██▍       | 480/1968 [00:00<00:02, 504.96it/s]\u001b[A\n",
      " 27%|██▋       | 530/1968 [00:01<00:02, 495.51it/s]\u001b[A\n",
      " 30%|██▉       | 589/1968 [00:01<00:02, 515.48it/s]\u001b[A\n",
      " 33%|███▎      | 643/1968 [00:01<00:02, 522.47it/s]\u001b[A\n",
      " 35%|███▌      | 695/1968 [00:01<00:02, 516.69it/s]\u001b[A\n",
      " 38%|███▊      | 747/1968 [00:01<00:02, 476.60it/s]\u001b[A\n",
      " 41%|████      | 800/1968 [00:01<00:02, 490.96it/s]\u001b[A\n",
      " 43%|████▎     | 850/1968 [00:01<00:02, 483.50it/s]\u001b[A\n",
      " 46%|████▋     | 913/1968 [00:01<00:02, 519.58it/s]\u001b[A\n",
      " 49%|████▉     | 966/1968 [00:01<00:01, 507.83it/s]\u001b[A\n",
      " 52%|█████▏    | 1022/1968 [00:01<00:01, 522.23it/s]\u001b[A\n",
      " 55%|█████▍    | 1075/1968 [00:02<00:01, 517.81it/s]\u001b[A\n",
      " 57%|█████▋    | 1128/1968 [00:02<00:01, 479.83it/s]\u001b[A\n",
      " 61%|██████    | 1191/1968 [00:02<00:01, 516.43it/s]\u001b[A\n",
      " 63%|██████▎   | 1245/1968 [00:02<00:01, 502.70it/s]\u001b[A\n",
      " 66%|██████▌   | 1297/1968 [00:02<00:01, 491.16it/s]\u001b[A\n",
      " 68%|██████▊   | 1347/1968 [00:02<00:01, 481.69it/s]\u001b[A\n",
      " 71%|███████   | 1398/1968 [00:02<00:01, 489.82it/s]\u001b[A\n",
      " 74%|███████▍  | 1453/1968 [00:02<00:01, 501.35it/s]\u001b[A\n",
      " 76%|███████▋  | 1504/1968 [00:02<00:00, 479.47it/s]\u001b[A\n",
      " 79%|███████▉  | 1558/1968 [00:03<00:00, 483.44it/s]\u001b[A\n",
      " 82%|████████▏ | 1607/1968 [00:03<00:00, 469.73it/s]\u001b[A\n",
      " 84%|████████▍ | 1655/1968 [00:03<00:00, 450.02it/s]\u001b[A\n",
      " 87%|████████▋ | 1706/1968 [00:03<00:00, 465.28it/s]\u001b[A\n",
      " 89%|████████▉ | 1754/1968 [00:03<00:00, 465.34it/s]\u001b[A\n",
      " 92%|█████████▏| 1807/1968 [00:03<00:00, 478.71it/s]\u001b[A\n",
      " 94%|█████████▍| 1857/1968 [00:03<00:00, 484.43it/s]\u001b[A\n",
      "100%|██████████| 1968/1968 [00:03<00:00, 504.04it/s]\u001b[A\n"
     ]
    },
    {
     "name": "stdout",
     "output_type": "stream",
     "text": [
      "------------------------------------\n",
      "\n",
      "0.0    1927\n",
      "1.0      41\n",
      "Name: FA-07-00-00-00, dtype: int64\n",
      "data set size 1968\n",
      "Checkpoint2 -Normalized Vector for Sentences are created\n"
     ]
    },
    {
     "name": "stderr",
     "output_type": "stream",
     "text": [
      " 44%|████▍     | 16/36 [02:50<04:58, 14.91s/it]\n",
      "  0%|          | 0/1517 [00:00<?, ?it/s]\u001b[A\n",
      "  3%|▎         | 41/1517 [00:00<00:03, 405.37it/s]\u001b[A"
     ]
    },
    {
     "name": "stdout",
     "output_type": "stream",
     "text": [
      "0.392\n",
      "statistics (0.8166, 0.0745, 0.6829, 0.1343, 41, 0.392)\n"
     ]
    },
    {
     "name": "stderr",
     "output_type": "stream",
     "text": [
      "\n",
      "  6%|▋         | 95/1517 [00:00<00:03, 436.87it/s]\u001b[A\n",
      " 10%|▉         | 151/1517 [00:00<00:02, 465.14it/s]\u001b[A\n",
      " 13%|█▎        | 202/1517 [00:00<00:02, 477.23it/s]\u001b[A\n",
      " 17%|█▋        | 258/1517 [00:00<00:02, 497.55it/s]\u001b[A\n",
      " 20%|██        | 310/1517 [00:00<00:02, 503.67it/s]\u001b[A\n",
      " 24%|██▎       | 358/1517 [00:00<00:02, 494.16it/s]\u001b[A\n",
      " 27%|██▋       | 405/1517 [00:00<00:02, 483.25it/s]\u001b[A\n",
      " 30%|███       | 460/1517 [00:00<00:02, 501.35it/s]\u001b[A\n",
      " 34%|███▍      | 516/1517 [00:01<00:01, 511.87it/s]\u001b[A\n",
      " 37%|███▋      | 567/1517 [00:01<00:01, 476.03it/s]\u001b[A\n",
      " 41%|████      | 615/1517 [00:01<00:01, 460.33it/s]\u001b[A\n",
      " 44%|████▍     | 665/1517 [00:01<00:01, 470.96it/s]\u001b[A\n",
      " 47%|████▋     | 719/1517 [00:01<00:01, 488.92it/s]\u001b[A\n",
      " 51%|█████     | 772/1517 [00:01<00:01, 497.73it/s]\u001b[A\n",
      " 55%|█████▍    | 828/1517 [00:01<00:01, 514.54it/s]\u001b[A\n",
      " 58%|█████▊    | 883/1517 [00:01<00:01, 514.22it/s]\u001b[A\n",
      " 62%|██████▏   | 935/1517 [00:01<00:01, 492.44it/s]\u001b[A\n",
      " 65%|██████▌   | 989/1517 [00:01<00:01, 500.89it/s]\u001b[A\n",
      " 69%|██████▊   | 1040/1517 [00:02<00:00, 503.44it/s]\u001b[A\n",
      " 72%|███████▏  | 1091/1517 [00:02<00:00, 482.12it/s]\u001b[A\n",
      " 75%|███████▌  | 1140/1517 [00:02<00:00, 473.92it/s]\u001b[A\n",
      " 79%|███████▊  | 1191/1517 [00:02<00:00, 483.79it/s]\u001b[A\n",
      " 82%|████████▏ | 1240/1517 [00:02<00:00, 472.48it/s]\u001b[A\n",
      " 85%|████████▍ | 1289/1517 [00:02<00:00, 477.43it/s]\u001b[A\n",
      " 88%|████████▊ | 1337/1517 [00:02<00:00, 454.63it/s]\u001b[A\n",
      " 91%|█████████ | 1383/1517 [00:02<00:00, 430.28it/s]\u001b[A\n",
      " 95%|█████████▍| 1436/1517 [00:02<00:00, 452.23it/s]\u001b[A\n",
      "100%|██████████| 1517/1517 [00:03<00:00, 486.36it/s]\u001b[A\n"
     ]
    },
    {
     "name": "stdout",
     "output_type": "stream",
     "text": [
      "------------------------------------\n",
      "\n",
      "0.0    1504\n",
      "1.0      13\n",
      "Name: GO-00-00-00-00, dtype: int64\n",
      "data set size 1517\n",
      "Checkpoint2 -Normalized Vector for Sentences are created\n"
     ]
    },
    {
     "name": "stderr",
     "output_type": "stream",
     "text": [
      " 47%|████▋     | 17/36 [02:56<03:51, 12.17s/it]\n",
      "  0%|          | 0/1900 [00:00<?, ?it/s]\u001b[A\n",
      "  3%|▎         | 55/1900 [00:00<00:03, 524.71it/s]\u001b[A"
     ]
    },
    {
     "name": "stdout",
     "output_type": "stream",
     "text": [
      "0.3374\n",
      "statistics (0.8662, 0.0103, 0.1538, 0.0193, 13, 0.3374)\n"
     ]
    },
    {
     "name": "stderr",
     "output_type": "stream",
     "text": [
      "\n",
      "  5%|▌         | 96/1900 [00:00<00:03, 480.97it/s]\u001b[A\n",
      "  8%|▊         | 152/1900 [00:00<00:03, 498.32it/s]\u001b[A\n",
      " 11%|█         | 210/1900 [00:00<00:03, 519.84it/s]\u001b[A\n",
      " 14%|█▍        | 264/1900 [00:00<00:03, 523.41it/s]\u001b[A\n",
      " 17%|█▋        | 323/1900 [00:00<00:02, 540.77it/s]\u001b[A\n",
      " 20%|██        | 384/1900 [00:00<00:02, 558.29it/s]\u001b[A\n",
      " 23%|██▎       | 436/1900 [00:00<00:02, 527.45it/s]\u001b[A\n",
      " 26%|██▌       | 487/1900 [00:00<00:02, 509.59it/s]\u001b[A\n",
      " 29%|██▊       | 542/1900 [00:01<00:02, 519.19it/s]\u001b[A\n",
      " 31%|███▏      | 598/1900 [00:01<00:02, 527.01it/s]\u001b[A\n",
      " 34%|███▍      | 651/1900 [00:01<00:02, 511.75it/s]\u001b[A\n",
      " 37%|███▋      | 702/1900 [00:01<00:02, 492.55it/s]\u001b[A\n",
      " 40%|███▉      | 752/1900 [00:01<00:02, 488.41it/s]\u001b[A\n",
      " 42%|████▏     | 801/1900 [00:01<00:02, 482.74it/s]\u001b[A\n",
      " 45%|████▌     | 862/1900 [00:01<00:02, 512.34it/s]\u001b[A\n",
      " 48%|████▊     | 914/1900 [00:01<00:01, 502.89it/s]\u001b[A\n",
      " 51%|█████     | 972/1900 [00:01<00:01, 522.77it/s]\u001b[A\n",
      " 54%|█████▍    | 1025/1900 [00:01<00:01, 507.68it/s]\u001b[A\n",
      " 57%|█████▋    | 1077/1900 [00:02<00:01, 496.67it/s]\u001b[A\n",
      " 60%|█████▉    | 1138/1900 [00:02<00:01, 524.80it/s]\u001b[A\n",
      " 63%|██████▎   | 1192/1900 [00:02<00:01, 504.32it/s]\u001b[A\n",
      " 65%|██████▌   | 1244/1900 [00:02<00:01, 495.48it/s]\u001b[A\n",
      " 68%|██████▊   | 1295/1900 [00:02<00:01, 474.04it/s]\u001b[A\n",
      " 71%|███████   | 1343/1900 [00:02<00:01, 467.90it/s]\u001b[A\n",
      " 73%|███████▎  | 1391/1900 [00:02<00:01, 456.67it/s]\u001b[A\n",
      " 76%|███████▌  | 1439/1900 [00:02<00:01, 460.92it/s]\u001b[A\n",
      " 78%|███████▊  | 1486/1900 [00:02<00:00, 463.55it/s]\u001b[A\n",
      " 81%|████████  | 1533/1900 [00:03<00:00, 456.36it/s]\u001b[A\n",
      " 83%|████████▎ | 1579/1900 [00:03<00:00, 442.16it/s]\u001b[A\n",
      " 86%|████████▌ | 1627/1900 [00:03<00:00, 452.78it/s]\u001b[A\n",
      " 89%|████████▊ | 1682/1900 [00:03<00:00, 477.29it/s]\u001b[A\n",
      " 91%|█████████ | 1732/1900 [00:03<00:00, 480.88it/s]\u001b[A\n",
      " 94%|█████████▎| 1781/1900 [00:03<00:00, 483.16it/s]\u001b[A\n",
      " 97%|█████████▋| 1840/1900 [00:03<00:00, 509.60it/s]\u001b[A\n",
      "100%|██████████| 1900/1900 [00:03<00:00, 500.40it/s]\u001b[A\n"
     ]
    },
    {
     "name": "stdout",
     "output_type": "stream",
     "text": [
      "------------------------------------\n",
      "\n",
      "0.0    1778\n",
      "1.0     122\n",
      "Name: HE-00-00-00-00, dtype: int64\n",
      "data set size 1900\n",
      "Checkpoint2 -Normalized Vector for Sentences are created\n"
     ]
    },
    {
     "name": "stderr",
     "output_type": "stream",
     "text": [
      " 50%|█████     | 18/36 [03:02<03:08, 10.46s/it]\n",
      "  0%|          | 0/2132 [00:00<?, ?it/s]\u001b[A\n",
      "  3%|▎         | 56/2132 [00:00<00:03, 557.14it/s]\u001b[A"
     ]
    },
    {
     "name": "stdout",
     "output_type": "stream",
     "text": [
      "0.2289\n",
      "statistics (0.9316, 0.4825, 0.9016, 0.6286, 122, 0.2289)\n"
     ]
    },
    {
     "name": "stderr",
     "output_type": "stream",
     "text": [
      "\n",
      "  5%|▍         | 96/2132 [00:00<00:04, 493.08it/s]\u001b[A\n",
      "  7%|▋         | 155/2132 [00:00<00:03, 515.30it/s]\u001b[A\n",
      " 10%|▉         | 206/2132 [00:00<00:03, 513.16it/s]\u001b[A\n",
      " 12%|█▏        | 253/2132 [00:00<00:03, 498.55it/s]\u001b[A\n",
      " 14%|█▍        | 307/2132 [00:00<00:03, 509.58it/s]\u001b[A\n",
      " 17%|█▋        | 364/2132 [00:00<00:03, 521.33it/s]\u001b[A\n",
      " 20%|█▉        | 422/2132 [00:00<00:03, 537.01it/s]\u001b[A\n",
      " 22%|██▏       | 473/2132 [00:00<00:03, 515.10it/s]\u001b[A\n",
      " 25%|██▍       | 523/2132 [00:01<00:03, 499.89it/s]\u001b[A\n",
      " 27%|██▋       | 577/2132 [00:01<00:03, 508.16it/s]\u001b[A\n",
      " 30%|██▉       | 635/2132 [00:01<00:02, 525.80it/s]\u001b[A\n",
      " 32%|███▏      | 688/2132 [00:01<00:02, 516.05it/s]\u001b[A\n",
      " 35%|███▍      | 740/2132 [00:01<00:02, 481.03it/s]\u001b[A\n",
      " 37%|███▋      | 789/2132 [00:01<00:02, 468.11it/s]\u001b[A\n",
      " 39%|███▉      | 837/2132 [00:01<00:02, 470.25it/s]\u001b[A\n",
      " 42%|████▏     | 893/2132 [00:01<00:02, 492.89it/s]\u001b[A\n",
      " 44%|████▍     | 948/2132 [00:01<00:02, 507.57it/s]\u001b[A\n",
      " 47%|████▋     | 1005/2132 [00:01<00:02, 524.31it/s]\u001b[A\n",
      " 50%|████▉     | 1059/2132 [00:02<00:02, 528.76it/s]\u001b[A\n",
      " 52%|█████▏    | 1113/2132 [00:02<00:02, 504.92it/s]\u001b[A\n",
      " 55%|█████▍    | 1165/2132 [00:02<00:01, 508.44it/s]\u001b[A\n",
      " 57%|█████▋    | 1223/2132 [00:02<00:01, 525.81it/s]\u001b[A\n",
      " 60%|█████▉    | 1276/2132 [00:02<00:01, 524.01it/s]\u001b[A\n",
      " 62%|██████▏   | 1329/2132 [00:02<00:01, 492.15it/s]\u001b[A\n",
      " 65%|██████▍   | 1379/2132 [00:02<00:01, 493.81it/s]\u001b[A\n",
      " 67%|██████▋   | 1429/2132 [00:02<00:01, 476.62it/s]\u001b[A\n",
      " 69%|██████▉   | 1479/2132 [00:02<00:01, 482.49it/s]\u001b[A\n",
      " 72%|███████▏  | 1528/2132 [00:03<00:01, 468.30it/s]\u001b[A\n",
      " 74%|███████▍  | 1578/2132 [00:03<00:01, 475.90it/s]\u001b[A\n",
      " 76%|███████▋  | 1626/2132 [00:03<00:01, 474.15it/s]\u001b[A\n",
      " 79%|███████▊  | 1674/2132 [00:03<00:01, 451.75it/s]\u001b[A\n",
      " 81%|████████  | 1720/2132 [00:03<00:00, 442.99it/s]\u001b[A\n",
      " 83%|████████▎ | 1765/2132 [00:03<00:00, 429.78it/s]\u001b[A\n",
      " 85%|████████▍ | 1809/2132 [00:03<00:00, 420.52it/s]\u001b[A\n",
      " 87%|████████▋ | 1861/2132 [00:03<00:00, 444.74it/s]\u001b[A\n",
      " 89%|████████▉ | 1907/2132 [00:03<00:00, 444.98it/s]\u001b[A\n",
      " 92%|█████████▏| 1952/2132 [00:04<00:00, 440.50it/s]\u001b[A\n",
      " 94%|█████████▎| 1998/2132 [00:04<00:00, 445.06it/s]\u001b[A\n",
      " 96%|█████████▋| 2056/2132 [00:04<00:00, 477.33it/s]\u001b[A\n",
      "100%|██████████| 2132/2132 [00:04<00:00, 490.21it/s]\u001b[A\n"
     ]
    },
    {
     "name": "stdout",
     "output_type": "stream",
     "text": [
      "------------------------------------\n",
      "\n",
      "0.0    1582\n",
      "1.0     550\n",
      "Name: HO-00-00-00-00, dtype: int64\n",
      "data set size 2132\n",
      "Checkpoint2 -Normalized Vector for Sentences are created\n"
     ]
    },
    {
     "name": "stderr",
     "output_type": "stream",
     "text": [
      " 53%|█████▎    | 19/36 [03:16<03:17, 11.61s/it]\n",
      "  0%|          | 0/1662 [00:00<?, ?it/s]\u001b[A\n",
      "  3%|▎         | 50/1662 [00:00<00:03, 499.87it/s]\u001b[A"
     ]
    },
    {
     "name": "stdout",
     "output_type": "stream",
     "text": [
      "0.2645\n",
      "statistics (0.9128, 0.7935, 0.8945, 0.841, 550, 0.2645)\n"
     ]
    },
    {
     "name": "stderr",
     "output_type": "stream",
     "text": [
      "\n",
      "  7%|▋         | 114/1662 [00:00<00:02, 534.56it/s]\u001b[A\n",
      " 10%|▉         | 165/1662 [00:00<00:02, 525.59it/s]\u001b[A\n",
      " 13%|█▎        | 212/1662 [00:00<00:02, 506.61it/s]\u001b[A\n",
      " 16%|█▋        | 272/1662 [00:00<00:02, 530.26it/s]\u001b[A\n",
      " 20%|█▉        | 329/1662 [00:00<00:02, 540.24it/s]\u001b[A\n",
      " 23%|██▎       | 379/1662 [00:00<00:02, 517.62it/s]\u001b[A\n",
      " 26%|██▌       | 431/1662 [00:00<00:02, 517.26it/s]\u001b[A\n",
      " 29%|██▉       | 490/1662 [00:00<00:02, 535.58it/s]\u001b[A\n",
      " 33%|███▎      | 542/1662 [00:01<00:02, 525.10it/s]\u001b[A\n",
      " 36%|███▌      | 594/1662 [00:01<00:02, 496.14it/s]\u001b[A\n",
      " 39%|███▉      | 646/1662 [00:01<00:02, 497.37it/s]\u001b[A\n",
      " 42%|████▏     | 700/1662 [00:01<00:01, 506.82it/s]\u001b[A\n",
      " 45%|████▌     | 755/1662 [00:01<00:01, 518.49it/s]\u001b[A\n",
      " 49%|████▉     | 815/1662 [00:01<00:01, 538.93it/s]\u001b[A\n",
      " 52%|█████▏    | 870/1662 [00:01<00:01, 540.39it/s]\u001b[A\n",
      " 56%|█████▌    | 925/1662 [00:01<00:01, 517.06it/s]\u001b[A\n",
      " 59%|█████▉    | 985/1662 [00:01<00:01, 537.58it/s]\u001b[A\n",
      " 63%|██████▎   | 1040/1662 [00:01<00:01, 516.13it/s]\u001b[A\n",
      " 66%|██████▌   | 1093/1662 [00:02<00:01, 483.16it/s]\u001b[A\n",
      " 69%|██████▉   | 1144/1662 [00:02<00:01, 490.83it/s]\u001b[A\n",
      " 72%|███████▏  | 1200/1662 [00:02<00:00, 509.32it/s]\u001b[A\n",
      " 75%|███████▌  | 1252/1662 [00:02<00:00, 507.47it/s]\u001b[A\n",
      " 78%|███████▊  | 1304/1662 [00:02<00:00, 476.64it/s]\u001b[A\n",
      " 81%|████████▏ | 1353/1662 [00:02<00:00, 450.47it/s]\u001b[A\n",
      " 84%|████████▍ | 1399/1662 [00:02<00:00, 445.56it/s]\u001b[A\n",
      " 88%|████████▊ | 1461/1662 [00:02<00:00, 480.74it/s]\u001b[A\n",
      " 91%|█████████ | 1511/1662 [00:02<00:00, 456.33it/s]\u001b[A\n",
      " 94%|█████████▍| 1562/1662 [00:03<00:00, 467.50it/s]\u001b[A\n",
      "100%|██████████| 1662/1662 [00:03<00:00, 510.23it/s]\u001b[A\n"
     ]
    },
    {
     "name": "stdout",
     "output_type": "stream",
     "text": [
      "------------------------------------\n",
      "\n",
      "0.0    1628\n",
      "1.0      34\n",
      "Name: HO-06-00-00-00, dtype: int64\n",
      "data set size 1662\n",
      "Checkpoint2 -Normalized Vector for Sentences are created\n"
     ]
    },
    {
     "name": "stderr",
     "output_type": "stream",
     "text": [
      " 56%|█████▌    | 20/36 [03:21<02:32,  9.55s/it]\n",
      "  0%|          | 0/1653 [00:00<?, ?it/s]\u001b[A\n",
      "  3%|▎         | 56/1653 [00:00<00:02, 548.91it/s]\u001b[A"
     ]
    },
    {
     "name": "stdout",
     "output_type": "stream",
     "text": [
      "0.315\n",
      "statistics (0.8935, 0.1295, 0.7353, 0.2203, 34, 0.315)\n"
     ]
    },
    {
     "name": "stderr",
     "output_type": "stream",
     "text": [
      "\n",
      "  7%|▋         | 118/1653 [00:00<00:02, 567.69it/s]\u001b[A\n",
      " 10%|█         | 170/1653 [00:00<00:02, 552.07it/s]\u001b[A\n",
      " 13%|█▎        | 220/1653 [00:00<00:02, 534.73it/s]\u001b[A\n",
      " 17%|█▋        | 281/1653 [00:00<00:02, 538.86it/s]\u001b[A\n",
      " 21%|██        | 344/1653 [00:00<00:02, 561.39it/s]\u001b[A\n",
      " 24%|██▍       | 395/1653 [00:00<00:02, 513.12it/s]\u001b[A\n",
      " 27%|██▋       | 453/1653 [00:00<00:02, 527.78it/s]\u001b[A\n",
      " 31%|███       | 510/1653 [00:00<00:02, 539.18it/s]\u001b[A\n",
      " 34%|███▍      | 564/1653 [00:01<00:02, 538.70it/s]\u001b[A\n",
      " 37%|███▋      | 617/1653 [00:01<00:02, 491.28it/s]\u001b[A\n",
      " 40%|████      | 669/1653 [00:01<00:01, 496.51it/s]\u001b[A\n",
      " 44%|████▍     | 727/1653 [00:01<00:01, 517.38it/s]\u001b[A\n",
      " 48%|████▊     | 787/1653 [00:01<00:01, 538.00it/s]\u001b[A\n",
      " 51%|█████     | 844/1653 [00:01<00:01, 545.41it/s]\u001b[A\n",
      " 54%|█████▍    | 899/1653 [00:01<00:01, 512.08it/s]\u001b[A\n",
      " 58%|█████▊    | 956/1653 [00:01<00:01, 526.04it/s]\u001b[A\n",
      " 61%|██████    | 1010/1653 [00:01<00:01, 513.30it/s]\u001b[A\n",
      " 64%|██████▍   | 1062/1653 [00:02<00:01, 509.18it/s]\u001b[A\n",
      " 67%|██████▋   | 1114/1653 [00:02<00:01, 495.82it/s]\u001b[A\n",
      " 70%|███████   | 1165/1653 [00:02<00:00, 499.31it/s]\u001b[A\n",
      " 74%|███████▎  | 1216/1653 [00:02<00:00, 496.30it/s]\u001b[A\n",
      " 77%|███████▋  | 1268/1653 [00:02<00:00, 502.56it/s]\u001b[A\n",
      " 80%|███████▉  | 1319/1653 [00:02<00:00, 491.80it/s]\u001b[A\n",
      " 83%|████████▎ | 1369/1653 [00:02<00:00, 437.81it/s]\u001b[A\n",
      " 86%|████████▋ | 1429/1653 [00:02<00:00, 475.93it/s]\u001b[A\n",
      " 89%|████████▉ | 1479/1653 [00:02<00:00, 463.26it/s]\u001b[A\n",
      " 92%|█████████▏| 1527/1653 [00:03<00:00, 454.09it/s]\u001b[A\n",
      " 96%|█████████▌| 1585/1653 [00:03<00:00, 484.19it/s]\u001b[A\n",
      "100%|██████████| 1653/1653 [00:03<00:00, 512.59it/s]\u001b[A\n"
     ]
    },
    {
     "name": "stdout",
     "output_type": "stream",
     "text": [
      "------------------------------------\n",
      "\n",
      "0.0    1626\n",
      "1.0      27\n",
      "Name: HO-09-00-00-00, dtype: int64\n",
      "data set size 1653\n",
      "Checkpoint2 -Normalized Vector for Sentences are created\n"
     ]
    },
    {
     "name": "stderr",
     "output_type": "stream",
     "text": [
      " 58%|█████▊    | 21/36 [03:29<02:15,  9.00s/it]\n",
      "  0%|          | 0/1964 [00:00<?, ?it/s]\u001b[A\n",
      "  3%|▎         | 56/1964 [00:00<00:03, 557.44it/s]\u001b[A"
     ]
    },
    {
     "name": "stdout",
     "output_type": "stream",
     "text": [
      "0.239\n",
      "statistics (0.9226, 0.1469, 0.7778, 0.2471, 27, 0.239)\n"
     ]
    },
    {
     "name": "stderr",
     "output_type": "stream",
     "text": [
      "\n",
      "  5%|▍         | 96/1964 [00:00<00:03, 494.84it/s]\u001b[A\n",
      "  8%|▊         | 152/1964 [00:00<00:03, 512.64it/s]\u001b[A\n",
      " 10%|█         | 204/1964 [00:00<00:03, 513.87it/s]\u001b[A\n",
      " 13%|█▎        | 249/1964 [00:00<00:03, 492.83it/s]\u001b[A\n",
      " 16%|█▌        | 310/1964 [00:00<00:03, 520.33it/s]\u001b[A\n",
      " 19%|█▊        | 367/1964 [00:00<00:03, 529.97it/s]\u001b[A\n",
      " 22%|██▏       | 425/1964 [00:00<00:02, 543.63it/s]\u001b[A\n",
      " 24%|██▍       | 477/1964 [00:00<00:02, 527.73it/s]\u001b[A\n",
      " 27%|██▋       | 529/1964 [00:01<00:02, 492.09it/s]\u001b[A\n",
      " 30%|██▉       | 588/1964 [00:01<00:02, 515.31it/s]\u001b[A\n",
      " 33%|███▎      | 642/1964 [00:01<00:02, 522.09it/s]\u001b[A\n",
      " 35%|███▌      | 695/1964 [00:01<00:02, 515.49it/s]\u001b[A\n",
      " 38%|███▊      | 747/1964 [00:01<00:02, 476.86it/s]\u001b[A\n",
      " 41%|████      | 796/1964 [00:01<00:02, 479.64it/s]\u001b[A\n",
      " 43%|████▎     | 845/1964 [00:01<00:02, 472.20it/s]\u001b[A\n",
      " 46%|████▌     | 907/1964 [00:01<00:02, 505.31it/s]\u001b[A\n",
      " 49%|████▉     | 960/1964 [00:01<00:01, 506.93it/s]\u001b[A\n",
      " 52%|█████▏    | 1016/1964 [00:01<00:01, 520.05it/s]\u001b[A\n",
      " 54%|█████▍    | 1069/1964 [00:02<00:01, 512.19it/s]\u001b[A\n",
      " 57%|█████▋    | 1121/1964 [00:02<00:01, 490.58it/s]\u001b[A\n",
      " 60%|█████▉    | 1173/1964 [00:02<00:01, 497.75it/s]\u001b[A\n",
      " 63%|██████▎   | 1235/1964 [00:02<00:01, 526.95it/s]\u001b[A\n",
      " 66%|██████▌   | 1289/1964 [00:02<00:01, 503.44it/s]\u001b[A\n",
      " 68%|██████▊   | 1341/1964 [00:02<00:01, 480.66it/s]\u001b[A\n",
      " 71%|███████   | 1390/1964 [00:02<00:01, 468.70it/s]\u001b[A\n",
      " 73%|███████▎  | 1441/1964 [00:02<00:01, 479.25it/s]\u001b[A\n",
      " 76%|███████▌  | 1490/1964 [00:02<00:01, 472.84it/s]\u001b[A\n",
      " 78%|███████▊  | 1539/1964 [00:03<00:00, 477.21it/s]\u001b[A\n",
      " 81%|████████  | 1587/1964 [00:03<00:00, 468.88it/s]\u001b[A\n",
      " 83%|████████▎ | 1635/1964 [00:03<00:00, 445.61it/s]\u001b[A\n",
      " 86%|████████▌ | 1684/1964 [00:03<00:00, 457.54it/s]\u001b[A\n",
      " 88%|████████▊ | 1737/1964 [00:03<00:00, 475.93it/s]\u001b[A\n",
      " 91%|█████████ | 1786/1964 [00:03<00:00, 468.84it/s]\u001b[A\n",
      " 93%|█████████▎| 1834/1964 [00:03<00:00, 471.27it/s]\u001b[A\n",
      " 96%|█████████▋| 1892/1964 [00:03<00:00, 497.77it/s]\u001b[A\n",
      "100%|██████████| 1964/1964 [00:03<00:00, 498.76it/s]\u001b[A\n"
     ]
    },
    {
     "name": "stdout",
     "output_type": "stream",
     "text": [
      "------------------------------------\n",
      "\n",
      "0.0    1928\n",
      "1.0      36\n",
      "Name: IM-00-00-00-00, dtype: int64\n",
      "data set size 1964\n",
      "Checkpoint2 -Normalized Vector for Sentences are created\n"
     ]
    },
    {
     "name": "stderr",
     "output_type": "stream",
     "text": [
      " 61%|██████    | 22/36 [03:37<02:01,  8.65s/it]\n",
      "  0%|          | 0/1429 [00:00<?, ?it/s]\u001b[A\n",
      "  3%|▎         | 46/1429 [00:00<00:03, 442.32it/s]\u001b[A"
     ]
    },
    {
     "name": "stdout",
     "output_type": "stream",
     "text": [
      "0.2065\n",
      "statistics (0.9333, 0.1854, 0.7778, 0.2995, 36, 0.2065)\n"
     ]
    },
    {
     "name": "stderr",
     "output_type": "stream",
     "text": [
      "\n",
      "  7%|▋         | 100/1429 [00:00<00:02, 467.68it/s]\u001b[A\n",
      " 11%|█         | 157/1429 [00:00<00:02, 493.14it/s]\u001b[A\n",
      " 14%|█▍        | 204/1429 [00:00<00:02, 484.54it/s]\u001b[A\n",
      " 18%|█▊        | 263/1429 [00:00<00:02, 510.84it/s]\u001b[A\n",
      " 23%|██▎       | 324/1429 [00:00<00:02, 535.35it/s]\u001b[A\n",
      " 26%|██▌       | 374/1429 [00:00<00:02, 497.67it/s]\u001b[A\n",
      " 30%|██▉       | 427/1429 [00:00<00:01, 506.76it/s]\u001b[A\n",
      " 34%|███▎      | 481/1429 [00:00<00:01, 514.19it/s]\u001b[A\n",
      " 37%|███▋      | 532/1429 [00:01<00:01, 505.76it/s]\u001b[A\n",
      " 41%|████      | 582/1429 [00:01<00:01, 496.50it/s]\u001b[A\n",
      " 44%|████▍     | 632/1429 [00:01<00:01, 488.77it/s]\u001b[A\n",
      " 48%|████▊     | 690/1429 [00:01<00:01, 512.88it/s]\u001b[A\n",
      " 52%|█████▏    | 744/1429 [00:01<00:01, 518.14it/s]\u001b[A\n",
      " 56%|█████▌    | 796/1429 [00:01<00:01, 518.69it/s]\u001b[A\n",
      " 59%|█████▉    | 848/1429 [00:01<00:01, 501.75it/s]\u001b[A\n",
      " 64%|██████▎   | 908/1429 [00:01<00:00, 527.50it/s]\u001b[A\n",
      " 67%|██████▋   | 962/1429 [00:01<00:00, 506.01it/s]\u001b[A\n",
      " 71%|███████   | 1014/1429 [00:01<00:00, 482.60it/s]\u001b[A\n",
      " 75%|███████▍  | 1069/1429 [00:02<00:00, 498.56it/s]\u001b[A\n",
      " 78%|███████▊  | 1120/1429 [00:02<00:00, 486.83it/s]\u001b[A\n",
      " 82%|████████▏ | 1170/1429 [00:02<00:00, 489.43it/s]\u001b[A\n",
      " 85%|████████▌ | 1220/1429 [00:02<00:00, 480.05it/s]\u001b[A\n",
      " 89%|████████▉ | 1271/1429 [00:02<00:00, 487.58it/s]\u001b[A\n",
      " 92%|█████████▏| 1320/1429 [00:02<00:00, 470.56it/s]\u001b[A\n",
      " 96%|█████████▌| 1373/1429 [00:02<00:00, 484.60it/s]\u001b[A\n",
      "100%|██████████| 1429/1429 [00:02<00:00, 504.32it/s]\u001b[A\n"
     ]
    },
    {
     "name": "stdout",
     "output_type": "stream",
     "text": [
      "------------------------------------\n",
      "\n",
      "0.0    1063\n",
      "1.0     366\n",
      "Name: MO-00-00-00-00, dtype: int64\n",
      "data set size 1429\n",
      "Checkpoint2 -Normalized Vector for Sentences are created\n"
     ]
    },
    {
     "name": "stderr",
     "output_type": "stream",
     "text": [
      " 64%|██████▍   | 23/36 [03:41<01:35,  7.31s/it]\n",
      "  0%|          | 0/1949 [00:00<?, ?it/s]\u001b[A\n",
      "  3%|▎         | 56/1949 [00:00<00:03, 550.76it/s]\u001b[A"
     ]
    },
    {
     "name": "stdout",
     "output_type": "stream",
     "text": [
      "0.4226\n",
      "statistics (0.8258, 0.6206, 0.8224, 0.7074, 366, 0.4226)\n"
     ]
    },
    {
     "name": "stderr",
     "output_type": "stream",
     "text": [
      "\n",
      "  5%|▌         | 100/1949 [00:00<00:03, 508.46it/s]\u001b[A\n",
      "  8%|▊         | 156/1949 [00:00<00:03, 519.58it/s]\u001b[A\n",
      " 11%|█         | 217/1949 [00:00<00:03, 531.78it/s]\u001b[A\n",
      " 14%|█▍        | 268/1949 [00:00<00:03, 524.77it/s]\u001b[A\n",
      " 17%|█▋        | 329/1949 [00:00<00:02, 547.43it/s]\u001b[A\n",
      " 20%|██        | 393/1949 [00:00<00:02, 568.95it/s]\u001b[A\n",
      " 23%|██▎       | 446/1949 [00:00<00:02, 541.68it/s]\u001b[A\n",
      " 26%|██▌       | 498/1949 [00:00<00:02, 514.18it/s]\u001b[A\n",
      " 28%|██▊       | 555/1949 [00:01<00:02, 528.06it/s]\u001b[A\n",
      " 32%|███▏      | 615/1949 [00:01<00:02, 546.78it/s]\u001b[A\n",
      " 34%|███▍      | 670/1949 [00:01<00:02, 529.03it/s]\u001b[A\n",
      " 37%|███▋      | 723/1949 [00:01<00:02, 502.74it/s]\u001b[A\n",
      " 40%|███▉      | 774/1949 [00:01<00:02, 501.31it/s]\u001b[A\n",
      " 42%|████▏     | 825/1949 [00:01<00:02, 489.41it/s]\u001b[A\n",
      " 46%|████▌     | 891/1949 [00:01<00:02, 528.67it/s]\u001b[A\n",
      " 48%|████▊     | 945/1949 [00:01<00:01, 516.64it/s]\u001b[A\n",
      " 51%|█████▏    | 1003/1949 [00:01<00:01, 533.88it/s]\u001b[A\n",
      " 54%|█████▍    | 1058/1949 [00:02<00:01, 522.43it/s]\u001b[A\n",
      " 57%|█████▋    | 1111/1949 [00:02<00:01, 494.81it/s]\u001b[A\n",
      " 60%|██████    | 1175/1949 [00:02<00:01, 525.69it/s]\u001b[A\n",
      " 63%|██████▎   | 1229/1949 [00:02<00:01, 514.62it/s]\u001b[A\n",
      " 66%|██████▌   | 1282/1949 [00:02<00:01, 501.73it/s]\u001b[A\n",
      " 68%|██████▊   | 1333/1949 [00:02<00:01, 485.40it/s]\u001b[A\n",
      " 71%|███████   | 1383/1949 [00:02<00:01, 477.90it/s]\u001b[A\n",
      " 74%|███████▎  | 1435/1949 [00:02<00:01, 488.09it/s]\u001b[A\n",
      " 76%|███████▌  | 1485/1949 [00:02<00:00, 488.80it/s]\u001b[A\n",
      " 79%|███████▉  | 1535/1949 [00:02<00:00, 485.81it/s]\u001b[A\n",
      " 81%|████████▏ | 1584/1949 [00:03<00:00, 476.97it/s]\u001b[A\n",
      " 84%|████████▎ | 1632/1949 [00:03<00:00, 455.37it/s]\u001b[A\n",
      " 86%|████████▌ | 1678/1949 [00:03<00:00, 433.46it/s]\u001b[A\n",
      " 89%|████████▉ | 1734/1949 [00:03<00:00, 463.85it/s]\u001b[A\n",
      " 91%|█████████▏| 1782/1949 [00:03<00:00, 454.10it/s]\u001b[A\n",
      " 94%|█████████▍| 1832/1949 [00:03<00:00, 464.11it/s]\u001b[A\n",
      " 97%|█████████▋| 1891/1949 [00:03<00:00, 494.47it/s]\u001b[A\n",
      "100%|██████████| 1949/1949 [00:03<00:00, 506.82it/s]\u001b[A\n"
     ]
    },
    {
     "name": "stdout",
     "output_type": "stream",
     "text": [
      "------------------------------------\n",
      "\n",
      "0.0    1937\n",
      "1.0      12\n",
      "Name: MO-02-00-00-00, dtype: int64\n",
      "data set size 1949\n",
      "Checkpoint2 -Normalized Vector for Sentences are created\n"
     ]
    },
    {
     "name": "stderr",
     "output_type": "stream",
     "text": [
      " 67%|██████▋   | 24/36 [03:46<01:18,  6.57s/it]\n",
      "  0%|          | 0/1129 [00:00<?, ?it/s]\u001b[A\n",
      "  4%|▍         | 47/1129 [00:00<00:02, 461.47it/s]\u001b[A"
     ]
    },
    {
     "name": "stdout",
     "output_type": "stream",
     "text": [
      "0.2327\n",
      "statistics (0.9174, 0.0429, 0.5833, 0.08, 12, 0.2327)\n"
     ]
    },
    {
     "name": "stderr",
     "output_type": "stream",
     "text": [
      "\n",
      "  9%|▊         | 98/1129 [00:00<00:02, 473.22it/s]\u001b[A\n",
      " 13%|█▎        | 146/1129 [00:00<00:02, 474.11it/s]\u001b[A\n",
      " 19%|█▉        | 213/1129 [00:00<00:01, 519.46it/s]\u001b[A\n",
      " 24%|██▍       | 273/1129 [00:00<00:01, 540.78it/s]\u001b[A\n",
      " 28%|██▊       | 321/1129 [00:00<00:01, 518.35it/s]\u001b[A\n",
      " 34%|███▎      | 379/1129 [00:00<00:01, 534.68it/s]\u001b[A\n",
      " 38%|███▊      | 430/1129 [00:00<00:01, 513.77it/s]\u001b[A\n",
      " 43%|████▎     | 480/1129 [00:00<00:01, 492.26it/s]\u001b[A\n",
      " 47%|████▋     | 536/1129 [00:01<00:01, 509.63it/s]\u001b[A\n",
      " 53%|█████▎    | 594/1129 [00:01<00:01, 525.62it/s]\u001b[A\n",
      " 57%|█████▋    | 648/1129 [00:01<00:00, 528.54it/s]\u001b[A\n",
      " 62%|██████▏   | 701/1129 [00:01<00:00, 520.22it/s]\u001b[A\n",
      " 67%|██████▋   | 757/1129 [00:01<00:00, 530.62it/s]\u001b[A\n",
      " 72%|███████▏  | 811/1129 [00:01<00:00, 488.33it/s]\u001b[A\n",
      " 77%|███████▋  | 866/1129 [00:01<00:00, 502.99it/s]\u001b[A\n",
      " 81%|████████▏ | 919/1129 [00:01<00:00, 509.60it/s]\u001b[A\n",
      " 86%|████████▌ | 971/1129 [00:01<00:00, 486.21it/s]\u001b[A\n",
      " 91%|█████████ | 1023/1129 [00:01<00:00, 487.84it/s]\u001b[A\n",
      "100%|██████████| 1129/1129 [00:02<00:00, 518.65it/s]\u001b[A\n"
     ]
    },
    {
     "name": "stdout",
     "output_type": "stream",
     "text": [
      "------------------------------------\n",
      "\n",
      "0.0    1116\n",
      "1.0      13\n",
      "Name: MO-07-00-00-00, dtype: int64\n",
      "data set size 1129\n",
      "Checkpoint2 -Normalized Vector for Sentences are created\n"
     ]
    },
    {
     "name": "stderr",
     "output_type": "stream",
     "text": [
      " 69%|██████▉   | 25/36 [03:49<01:00,  5.50s/it]\n",
      "  0%|          | 0/1106 [00:00<?, ?it/s]\u001b[A\n",
      "  4%|▍         | 45/1106 [00:00<00:02, 445.66it/s]\u001b[A"
     ]
    },
    {
     "name": "stdout",
     "output_type": "stream",
     "text": [
      "0.2485\n",
      "statistics (0.9176, 0.0918, 0.6923, 0.1622, 13, 0.2485)\n"
     ]
    },
    {
     "name": "stderr",
     "output_type": "stream",
     "text": [
      "\n",
      "  9%|▉         | 98/1106 [00:00<00:02, 467.29it/s]\u001b[A\n",
      " 13%|█▎        | 144/1106 [00:00<00:02, 464.97it/s]\u001b[A\n",
      " 19%|█▉        | 210/1106 [00:00<00:01, 509.83it/s]\u001b[A\n",
      " 24%|██▍       | 268/1106 [00:00<00:01, 527.08it/s]\u001b[A\n",
      " 28%|██▊       | 315/1106 [00:00<00:01, 507.51it/s]\u001b[A\n",
      " 34%|███▍      | 376/1106 [00:00<00:01, 534.21it/s]\u001b[A\n",
      " 39%|███▊      | 427/1106 [00:00<00:01, 512.43it/s]\u001b[A\n",
      " 43%|████▎     | 477/1106 [00:00<00:01, 490.55it/s]\u001b[A\n",
      " 48%|████▊     | 536/1106 [00:01<00:01, 514.30it/s]\u001b[A\n",
      " 54%|█████▍    | 599/1106 [00:01<00:00, 542.85it/s]\u001b[A\n",
      " 59%|█████▉    | 654/1106 [00:01<00:00, 526.73it/s]\u001b[A\n",
      " 64%|██████▍   | 707/1106 [00:01<00:00, 527.39it/s]\u001b[A\n",
      " 69%|██████▊   | 760/1106 [00:01<00:00, 525.44it/s]\u001b[A\n",
      " 74%|███████▎  | 813/1106 [00:01<00:00, 503.67it/s]\u001b[A\n",
      " 78%|███████▊  | 864/1106 [00:01<00:00, 500.80it/s]\u001b[A\n",
      " 83%|████████▎ | 917/1106 [00:01<00:00, 506.47it/s]\u001b[A\n",
      " 88%|████████▊ | 968/1106 [00:01<00:00, 503.53it/s]\u001b[A\n",
      " 92%|█████████▏| 1021/1106 [00:01<00:00, 510.92it/s]\u001b[A\n",
      "100%|██████████| 1106/1106 [00:02<00:00, 525.30it/s]\u001b[A\n"
     ]
    },
    {
     "name": "stdout",
     "output_type": "stream",
     "text": [
      "------------------------------------\n",
      "\n",
      "0.0    1095\n",
      "1.0      11\n",
      "Name: MO-10-00-00-00, dtype: int64\n",
      "data set size 1106\n",
      "Checkpoint2 -Normalized Vector for Sentences are created\n"
     ]
    },
    {
     "name": "stderr",
     "output_type": "stream",
     "text": [
      " 72%|███████▏  | 26/36 [03:53<00:52,  5.29s/it]\n",
      "  0%|          | 0/1396 [00:00<?, ?it/s]\u001b[A\n",
      "  3%|▎         | 42/1396 [00:00<00:03, 408.55it/s]\u001b[A"
     ]
    },
    {
     "name": "stdout",
     "output_type": "stream",
     "text": [
      "0.3188\n",
      "statistics (0.8662, 0.021, 0.2727, 0.039, 11, 0.3188)\n"
     ]
    },
    {
     "name": "stderr",
     "output_type": "stream",
     "text": [
      "\n",
      "  7%|▋         | 98/1396 [00:00<00:02, 444.21it/s]\u001b[A\n",
      " 11%|█         | 152/1396 [00:00<00:02, 467.13it/s]\u001b[A\n",
      " 15%|█▍        | 206/1396 [00:00<00:02, 484.72it/s]\u001b[A\n",
      " 19%|█▉        | 264/1396 [00:00<00:02, 507.89it/s]\u001b[A\n",
      " 23%|██▎       | 322/1396 [00:00<00:02, 520.87it/s]\u001b[A\n",
      " 27%|██▋       | 370/1396 [00:00<00:02, 494.47it/s]\u001b[A\n",
      " 30%|███       | 425/1396 [00:00<00:01, 508.76it/s]\u001b[A\n",
      " 35%|███▍      | 483/1396 [00:00<00:01, 526.96it/s]\u001b[A\n",
      " 38%|███▊      | 535/1396 [00:01<00:01, 506.48it/s]\u001b[A\n",
      " 42%|████▏     | 586/1396 [00:01<00:01, 474.96it/s]\u001b[A\n",
      " 45%|████▌     | 635/1396 [00:01<00:01, 477.26it/s]\u001b[A\n",
      " 50%|████▉     | 693/1396 [00:01<00:01, 503.74it/s]\u001b[A\n",
      " 54%|█████▍    | 751/1396 [00:01<00:01, 517.45it/s]\u001b[A\n",
      " 58%|█████▊    | 807/1396 [00:01<00:01, 529.03it/s]\u001b[A\n",
      " 62%|██████▏   | 861/1396 [00:01<00:01, 504.26it/s]\u001b[A\n",
      " 65%|██████▌   | 912/1396 [00:01<00:00, 504.38it/s]\u001b[A\n",
      " 69%|██████▉   | 968/1396 [00:01<00:00, 519.22it/s]\u001b[A\n",
      " 73%|███████▎  | 1021/1396 [00:01<00:00, 505.77it/s]\u001b[A\n",
      " 77%|███████▋  | 1072/1396 [00:02<00:00, 504.07it/s]\u001b[A\n",
      " 80%|████████  | 1123/1396 [00:02<00:00, 504.15it/s]\u001b[A\n",
      " 84%|████████▍ | 1174/1396 [00:02<00:00, 498.53it/s]\u001b[A\n",
      " 88%|████████▊ | 1224/1396 [00:02<00:00, 469.87it/s]\u001b[A\n",
      " 91%|█████████ | 1272/1396 [00:02<00:00, 447.67it/s]\u001b[A\n",
      " 95%|█████████▍| 1322/1396 [00:02<00:00, 460.63it/s]\u001b[A\n",
      "100%|██████████| 1396/1396 [00:02<00:00, 501.58it/s]\u001b[A\n"
     ]
    },
    {
     "name": "stdout",
     "output_type": "stream",
     "text": [
      "------------------------------------\n",
      "\n",
      "0.0    1374\n",
      "1.0      22\n",
      "Name: RI-00-00-00-00, dtype: int64\n",
      "data set size 1396\n",
      "Checkpoint2 -Normalized Vector for Sentences are created\n"
     ]
    },
    {
     "name": "stderr",
     "output_type": "stream",
     "text": [
      " 75%|███████▌  | 27/36 [03:57<00:42,  4.73s/it]\n",
      "  0%|          | 0/1257 [00:00<?, ?it/s]\u001b[A\n",
      "  4%|▎         | 44/1257 [00:00<00:02, 438.12it/s]\u001b[A"
     ]
    },
    {
     "name": "stdout",
     "output_type": "stream",
     "text": [
      "0.4229\n",
      "statistics (0.8001, 0.0394, 0.5, 0.0731, 22, 0.4229)\n"
     ]
    },
    {
     "name": "stderr",
     "output_type": "stream",
     "text": [
      "\n",
      "  8%|▊         | 101/1257 [00:00<00:02, 466.35it/s]\u001b[A\n",
      " 13%|█▎        | 159/1257 [00:00<00:02, 495.44it/s]\u001b[A\n",
      " 18%|█▊        | 230/1257 [00:00<00:01, 543.99it/s]\u001b[A\n",
      " 23%|██▎       | 287/1257 [00:00<00:01, 550.94it/s]\u001b[A\n",
      " 27%|██▋       | 344/1257 [00:00<00:01, 553.71it/s]\u001b[A\n",
      " 32%|███▏      | 403/1257 [00:00<00:01, 561.99it/s]\u001b[A\n",
      " 36%|███▋      | 457/1257 [00:00<00:01, 555.03it/s]\u001b[A\n",
      " 41%|████      | 511/1257 [00:00<00:01, 521.27it/s]\u001b[A\n",
      " 45%|████▍     | 563/1257 [00:01<00:01, 518.89it/s]\u001b[A\n",
      " 50%|████▉     | 625/1257 [00:01<00:01, 544.35it/s]\u001b[A\n",
      " 54%|█████▍    | 680/1257 [00:01<00:01, 545.74it/s]\u001b[A\n",
      " 59%|█████▊    | 736/1257 [00:01<00:00, 548.53it/s]\u001b[A\n",
      " 64%|██████▎   | 800/1257 [00:01<00:00, 569.44it/s]\u001b[A\n",
      " 69%|██████▉   | 866/1257 [00:01<00:00, 590.04it/s]\u001b[A\n",
      " 74%|███████▎  | 926/1257 [00:01<00:00, 554.67it/s]\u001b[A\n",
      " 78%|███████▊  | 983/1257 [00:01<00:00, 526.58it/s]\u001b[A\n",
      " 82%|████████▏ | 1037/1257 [00:01<00:00, 502.22it/s]\u001b[A\n",
      " 87%|████████▋ | 1088/1257 [00:02<00:00, 478.86it/s]\u001b[A\n",
      " 91%|█████████ | 1139/1257 [00:02<00:00, 486.98it/s]\u001b[A\n",
      "100%|██████████| 1257/1257 [00:02<00:00, 545.52it/s]\u001b[A\n",
      " 78%|███████▊  | 28/36 [03:59<00:32,  4.05s/it]\n",
      "  0%|          | 0/2006 [00:00<?, ?it/s]\u001b[A"
     ]
    },
    {
     "name": "stdout",
     "output_type": "stream",
     "text": [
      "------------------------------------\n",
      "\n",
      "0.0    1027\n",
      "1.0     230\n",
      "Name: TO-00-00-00-00, dtype: int64\n",
      "data set size 1257\n",
      "Checkpoint2 -Normalized Vector for Sentences are created\n",
      "0.4034\n",
      "statistics (0.8218, 0.5083, 0.8, 0.6216, 230, 0.4034)\n"
     ]
    },
    {
     "name": "stderr",
     "output_type": "stream",
     "text": [
      "\n",
      "  3%|▎         | 53/2006 [00:00<00:03, 528.33it/s]\u001b[A\n",
      "  5%|▍         | 96/2006 [00:00<00:03, 494.12it/s]\u001b[A\n",
      "  8%|▊         | 153/2006 [00:00<00:03, 509.41it/s]\u001b[A\n",
      " 10%|█         | 205/2006 [00:00<00:03, 511.83it/s]\u001b[A\n",
      " 13%|█▎        | 257/2006 [00:00<00:03, 510.96it/s]\u001b[A\n",
      " 16%|█▌        | 316/2006 [00:00<00:03, 531.42it/s]\u001b[A\n",
      " 18%|█▊        | 370/2006 [00:00<00:03, 533.23it/s]\u001b[A\n",
      " 21%|██▏       | 427/2006 [00:00<00:02, 542.88it/s]\u001b[A\n",
      " 24%|██▍       | 479/2006 [00:00<00:03, 495.48it/s]\u001b[A\n",
      " 26%|██▋       | 531/2006 [00:01<00:02, 497.11it/s]\u001b[A\n",
      " 30%|██▉       | 592/2006 [00:01<00:02, 524.56it/s]\u001b[A\n",
      " 32%|███▏      | 645/2006 [00:01<00:02, 519.34it/s]\u001b[A\n",
      " 35%|███▍      | 697/2006 [00:01<00:02, 487.30it/s]\u001b[A\n",
      " 37%|███▋      | 747/2006 [00:01<00:02, 454.80it/s]\u001b[A\n",
      " 40%|███▉      | 796/2006 [00:01<00:02, 464.19it/s]\u001b[A\n",
      " 42%|████▏     | 845/2006 [00:01<00:02, 471.12it/s]\u001b[A\n",
      " 45%|████▌     | 906/2006 [00:01<00:02, 505.65it/s]\u001b[A\n",
      " 48%|████▊     | 958/2006 [00:01<00:02, 504.13it/s]\u001b[A\n",
      " 51%|█████     | 1017/2006 [00:01<00:01, 526.62it/s]\u001b[A\n",
      " 53%|█████▎    | 1071/2006 [00:02<00:01, 514.17it/s]\u001b[A\n",
      " 56%|█████▌    | 1124/2006 [00:02<00:01, 483.93it/s]\u001b[A\n",
      " 59%|█████▉    | 1185/2006 [00:02<00:01, 514.61it/s]\u001b[A\n",
      " 62%|██████▏   | 1238/2006 [00:02<00:01, 512.60it/s]\u001b[A\n",
      " 64%|██████▍   | 1291/2006 [00:02<00:01, 498.64it/s]\u001b[A\n",
      " 67%|██████▋   | 1342/2006 [00:02<00:01, 489.52it/s]\u001b[A\n",
      " 69%|██████▉   | 1392/2006 [00:02<00:01, 489.25it/s]\u001b[A\n",
      " 72%|███████▏  | 1442/2006 [00:02<00:01, 491.18it/s]\u001b[A\n",
      " 74%|███████▍  | 1493/2006 [00:02<00:01, 494.93it/s]\u001b[A\n",
      " 77%|███████▋  | 1543/2006 [00:03<00:00, 472.53it/s]\u001b[A\n",
      " 80%|███████▉  | 1597/2006 [00:03<00:00, 490.73it/s]\u001b[A\n",
      " 82%|████████▏ | 1647/2006 [00:03<00:00, 486.34it/s]\u001b[A\n",
      " 85%|████████▍ | 1696/2006 [00:03<00:00, 449.75it/s]\u001b[A\n",
      " 87%|████████▋ | 1743/2006 [00:03<00:00, 450.85it/s]\u001b[A\n",
      " 90%|████████▉ | 1800/2006 [00:03<00:00, 479.24it/s]\u001b[A\n",
      " 92%|█████████▏| 1849/2006 [00:03<00:00, 467.09it/s]\u001b[A\n",
      " 95%|█████████▍| 1903/2006 [00:03<00:00, 486.70it/s]\u001b[A\n",
      "100%|██████████| 2006/2006 [00:04<00:00, 500.39it/s]\u001b[A\n"
     ]
    },
    {
     "name": "stdout",
     "output_type": "stream",
     "text": [
      "------------------------------------\n",
      "\n",
      "0.0    1746\n",
      "1.0     260\n",
      "Name: TR-00-00-00-00, dtype: int64\n",
      "data set size 2006\n",
      "Checkpoint2 -Normalized Vector for Sentences are created\n"
     ]
    },
    {
     "name": "stderr",
     "output_type": "stream",
     "text": [
      " 81%|████████  | 29/36 [04:07<00:35,  5.06s/it]\n",
      "  0%|          | 0/1827 [00:00<?, ?it/s]\u001b[A\n",
      "  3%|▎         | 53/1827 [00:00<00:03, 528.41it/s]\u001b[A"
     ]
    },
    {
     "name": "stdout",
     "output_type": "stream",
     "text": [
      "0.2269\n",
      "statistics (0.9297, 0.6695, 0.9038, 0.7692, 260, 0.2269)\n"
     ]
    },
    {
     "name": "stderr",
     "output_type": "stream",
     "text": [
      "\n",
      "  5%|▍         | 91/1827 [00:00<00:03, 472.04it/s]\u001b[A\n",
      "  8%|▊         | 147/1827 [00:00<00:03, 494.64it/s]\u001b[A\n",
      " 11%|█         | 204/1827 [00:00<00:03, 513.73it/s]\u001b[A\n",
      " 14%|█▍        | 260/1827 [00:00<00:02, 524.10it/s]\u001b[A\n",
      " 17%|█▋        | 314/1827 [00:00<00:02, 520.20it/s]\u001b[A\n",
      " 20%|██        | 372/1827 [00:00<00:02, 532.99it/s]\u001b[A\n",
      " 23%|██▎       | 422/1827 [00:00<00:02, 521.33it/s]\u001b[A\n",
      " 26%|██▌       | 472/1827 [00:00<00:02, 489.17it/s]\u001b[A\n",
      " 29%|██▉       | 528/1827 [00:01<00:02, 507.51it/s]\u001b[A\n",
      " 32%|███▏      | 582/1827 [00:01<00:02, 515.33it/s]\u001b[A\n",
      " 35%|███▍      | 633/1827 [00:01<00:02, 502.29it/s]\u001b[A\n",
      " 37%|███▋      | 683/1827 [00:01<00:02, 461.73it/s]\u001b[A\n",
      " 40%|███▉      | 730/1827 [00:01<00:02, 450.75it/s]\u001b[A\n",
      " 43%|████▎     | 787/1827 [00:01<00:02, 480.02it/s]\u001b[A\n",
      " 46%|████▌     | 841/1827 [00:01<00:01, 494.09it/s]\u001b[A\n",
      " 49%|████▉     | 892/1827 [00:01<00:01, 497.59it/s]\u001b[A\n",
      " 52%|█████▏    | 946/1827 [00:01<00:01, 509.08it/s]\u001b[A\n",
      " 55%|█████▍    | 998/1827 [00:01<00:01, 499.08it/s]\u001b[A\n",
      " 57%|█████▋    | 1049/1827 [00:02<00:01, 494.81it/s]\u001b[A\n",
      " 61%|██████    | 1112/1827 [00:02<00:01, 528.61it/s]\u001b[A\n",
      " 64%|██████▍   | 1166/1827 [00:02<00:01, 519.43it/s]\u001b[A\n",
      " 67%|██████▋   | 1219/1827 [00:02<00:01, 512.43it/s]\u001b[A\n",
      " 70%|██████▉   | 1271/1827 [00:02<00:01, 500.61it/s]\u001b[A\n",
      " 72%|███████▏  | 1322/1827 [00:02<00:01, 488.65it/s]\u001b[A\n",
      " 75%|███████▌  | 1372/1827 [00:02<00:00, 480.36it/s]\u001b[A\n",
      " 78%|███████▊  | 1421/1827 [00:02<00:00, 467.55it/s]\u001b[A\n",
      " 81%|████████  | 1473/1827 [00:02<00:00, 477.94it/s]\u001b[A\n",
      " 83%|████████▎ | 1522/1827 [00:03<00:00, 476.57it/s]\u001b[A\n",
      " 86%|████████▌ | 1570/1827 [00:03<00:00, 468.03it/s]\u001b[A\n",
      " 89%|████████▊ | 1621/1827 [00:03<00:00, 479.19it/s]\u001b[A\n",
      " 91%|█████████▏| 1670/1827 [00:03<00:00, 470.31it/s]\u001b[A\n",
      " 94%|█████████▍| 1718/1827 [00:03<00:00, 472.18it/s]\u001b[A\n",
      "100%|██████████| 1827/1827 [00:03<00:00, 498.36it/s]\u001b[A\n"
     ]
    },
    {
     "name": "stdout",
     "output_type": "stream",
     "text": [
      "------------------------------------\n",
      "\n",
      "0.0    1805\n",
      "1.0      22\n",
      "Name: TR-01-00-00-00, dtype: int64\n",
      "data set size 1827\n",
      "Checkpoint2 -Normalized Vector for Sentences are created\n"
     ]
    },
    {
     "name": "stderr",
     "output_type": "stream",
     "text": [
      " 83%|████████▎ | 30/36 [04:12<00:30,  5.01s/it]\n",
      "  0%|          | 0/1819 [00:00<?, ?it/s]\u001b[A\n",
      "  3%|▎         | 49/1819 [00:00<00:03, 483.85it/s]\u001b[A"
     ]
    },
    {
     "name": "stdout",
     "output_type": "stream",
     "text": [
      "0.2149\n",
      "statistics (0.9267, 0.1216, 0.8182, 0.2118, 22, 0.2149)\n"
     ]
    },
    {
     "name": "stderr",
     "output_type": "stream",
     "text": [
      "\n",
      "  5%|▍         | 88/1819 [00:00<00:03, 446.16it/s]\u001b[A\n",
      "  8%|▊         | 144/1819 [00:00<00:03, 474.47it/s]\u001b[A\n",
      " 11%|█         | 202/1819 [00:00<00:03, 499.25it/s]\u001b[A\n",
      " 14%|█▍        | 256/1819 [00:00<00:03, 510.14it/s]\u001b[A\n",
      " 17%|█▋        | 307/1819 [00:00<00:03, 503.90it/s]\u001b[A\n",
      " 20%|█▉        | 362/1819 [00:00<00:02, 516.13it/s]\u001b[A\n",
      " 23%|██▎       | 411/1819 [00:00<00:02, 487.75it/s]\u001b[A\n",
      " 25%|██▌       | 458/1819 [00:00<00:02, 465.45it/s]\u001b[A\n",
      " 28%|██▊       | 507/1819 [00:01<00:02, 472.01it/s]\u001b[A\n",
      " 31%|███       | 563/1819 [00:01<00:02, 494.82it/s]\u001b[A\n",
      " 34%|███▎      | 613/1819 [00:01<00:02, 474.37it/s]\u001b[A\n",
      " 36%|███▋      | 661/1819 [00:01<00:02, 452.38it/s]\u001b[A\n",
      " 39%|███▉      | 707/1819 [00:01<00:02, 442.89it/s]\u001b[A\n",
      " 42%|████▏     | 755/1819 [00:01<00:02, 453.17it/s]\u001b[A\n",
      " 45%|████▍     | 816/1819 [00:01<00:02, 488.20it/s]\u001b[A\n",
      " 48%|████▊     | 867/1819 [00:01<00:01, 493.11it/s]\u001b[A\n",
      " 51%|█████     | 922/1819 [00:01<00:01, 507.89it/s]\u001b[A\n",
      " 54%|█████▎    | 974/1819 [00:01<00:01, 500.19it/s]\u001b[A\n",
      " 56%|█████▋    | 1025/1819 [00:02<00:01, 486.25it/s]\u001b[A\n",
      " 60%|█████▉    | 1086/1819 [00:02<00:01, 517.20it/s]\u001b[A\n",
      " 63%|██████▎   | 1139/1819 [00:02<00:01, 516.83it/s]\u001b[A\n",
      " 66%|██████▌   | 1192/1819 [00:02<00:01, 500.35it/s]\u001b[A\n",
      " 68%|██████▊   | 1243/1819 [00:02<00:01, 491.28it/s]\u001b[A\n",
      " 71%|███████   | 1295/1819 [00:02<00:01, 496.32it/s]\u001b[A\n",
      " 74%|███████▍  | 1346/1819 [00:02<00:00, 499.46it/s]\u001b[A\n",
      " 77%|███████▋  | 1397/1819 [00:02<00:00, 467.12it/s]\u001b[A\n",
      " 80%|███████▉  | 1448/1819 [00:02<00:00, 478.71it/s]\u001b[A\n",
      " 82%|████████▏ | 1497/1819 [00:03<00:00, 472.93it/s]\u001b[A\n",
      " 85%|████████▍ | 1545/1819 [00:03<00:00, 449.54it/s]\u001b[A\n",
      " 88%|████████▊ | 1599/1819 [00:03<00:00, 470.31it/s]\u001b[A\n",
      " 91%|█████████ | 1647/1819 [00:03<00:00, 458.10it/s]\u001b[A\n",
      " 93%|█████████▎| 1695/1819 [00:03<00:00, 462.85it/s]\u001b[A\n",
      " 96%|█████████▋| 1751/1819 [00:03<00:00, 488.02it/s]\u001b[A\n",
      "100%|██████████| 1819/1819 [00:03<00:00, 488.91it/s]\u001b[A\n"
     ]
    },
    {
     "name": "stdout",
     "output_type": "stream",
     "text": [
      "------------------------------------\n",
      "\n",
      "0.0    1790\n",
      "1.0      29\n",
      "Name: TR-02-00-00-00, dtype: int64\n",
      "data set size 1819\n",
      "Checkpoint2 -Normalized Vector for Sentences are created\n"
     ]
    },
    {
     "name": "stderr",
     "output_type": "stream",
     "text": [
      " 86%|████████▌ | 31/36 [04:18<00:26,  5.34s/it]\n",
      "  0%|          | 0/1821 [00:00<?, ?it/s]\u001b[A\n",
      "  3%|▎         | 53/1821 [00:00<00:03, 513.81it/s]\u001b[A"
     ]
    },
    {
     "name": "stdout",
     "output_type": "stream",
     "text": [
      "0.2701\n",
      "statistics (0.9021, 0.1058, 0.6897, 0.1835, 29, 0.2701)\n"
     ]
    },
    {
     "name": "stderr",
     "output_type": "stream",
     "text": [
      "\n",
      "  5%|▌         | 93/1821 [00:00<00:03, 468.14it/s]\u001b[A\n",
      "  8%|▊         | 150/1821 [00:00<00:03, 492.16it/s]\u001b[A\n",
      " 11%|█▏        | 208/1821 [00:00<00:03, 515.32it/s]\u001b[A\n",
      " 14%|█▍        | 264/1821 [00:00<00:02, 520.44it/s]\u001b[A\n",
      " 17%|█▋        | 316/1821 [00:00<00:02, 518.83it/s]\u001b[A\n",
      " 21%|██        | 376/1821 [00:00<00:02, 539.10it/s]\u001b[A\n",
      " 23%|██▎       | 427/1821 [00:00<00:02, 506.02it/s]\u001b[A\n",
      " 26%|██▌       | 476/1821 [00:00<00:02, 494.80it/s]\u001b[A\n",
      " 29%|██▉       | 530/1821 [00:01<00:02, 505.39it/s]\u001b[A\n",
      " 32%|███▏      | 583/1821 [00:01<00:02, 510.42it/s]\u001b[A\n",
      " 35%|███▍      | 634/1821 [00:01<00:02, 488.34it/s]\u001b[A\n",
      " 38%|███▊      | 683/1821 [00:01<00:02, 462.55it/s]\u001b[A\n",
      " 40%|████      | 730/1821 [00:01<00:02, 452.34it/s]\u001b[A\n",
      " 43%|████▎     | 785/1821 [00:01<00:02, 475.40it/s]\u001b[A\n",
      " 46%|████▌     | 840/1821 [00:01<00:01, 493.74it/s]\u001b[A\n",
      " 49%|████▉     | 895/1821 [00:01<00:01, 507.13it/s]\u001b[A\n",
      " 52%|█████▏    | 948/1821 [00:01<00:01, 512.90it/s]\u001b[A\n",
      " 55%|█████▍    | 1000/1821 [00:01<00:01, 506.67it/s]\u001b[A\n",
      " 58%|█████▊    | 1051/1821 [00:02<00:01, 500.43it/s]\u001b[A\n",
      " 61%|██████    | 1111/1821 [00:02<00:01, 525.74it/s]\u001b[A\n",
      " 64%|██████▍   | 1165/1821 [00:02<00:01, 514.69it/s]\u001b[A\n",
      " 67%|██████▋   | 1217/1821 [00:02<00:01, 509.59it/s]\u001b[A\n",
      " 70%|██████▉   | 1269/1821 [00:02<00:01, 502.68it/s]\u001b[A\n",
      " 72%|███████▏  | 1320/1821 [00:02<00:01, 494.81it/s]\u001b[A\n",
      " 75%|███████▌  | 1370/1821 [00:02<00:00, 484.29it/s]\u001b[A\n",
      " 78%|███████▊  | 1419/1821 [00:02<00:00, 473.16it/s]\u001b[A\n",
      " 81%|████████  | 1471/1821 [00:02<00:00, 479.65it/s]\u001b[A\n",
      " 83%|████████▎ | 1520/1821 [00:03<00:00, 478.77it/s]\u001b[A\n",
      " 86%|████████▌ | 1568/1821 [00:03<00:00, 473.95it/s]\u001b[A\n",
      " 89%|████████▉ | 1618/1821 [00:03<00:00, 479.31it/s]\u001b[A\n",
      " 92%|█████████▏| 1667/1821 [00:03<00:00, 474.47it/s]\u001b[A\n",
      " 94%|█████████▍| 1717/1821 [00:03<00:00, 480.19it/s]\u001b[A\n",
      "100%|██████████| 1821/1821 [00:03<00:00, 499.81it/s]\u001b[A\n"
     ]
    },
    {
     "name": "stdout",
     "output_type": "stream",
     "text": [
      "------------------------------------\n",
      "\n",
      "0.0    1804\n",
      "1.0      17\n",
      "Name: TR-03-00-00-00, dtype: int64\n",
      "data set size 1821\n",
      "Checkpoint2 -Normalized Vector for Sentences are created\n"
     ]
    },
    {
     "name": "stderr",
     "output_type": "stream",
     "text": [
      " 89%|████████▉ | 32/36 [04:22<00:20,  5.04s/it]\n",
      "  0%|          | 0/1815 [00:00<?, ?it/s]\u001b[A\n",
      "  3%|▎         | 55/1815 [00:00<00:03, 543.95it/s]\u001b[A"
     ]
    },
    {
     "name": "stdout",
     "output_type": "stream",
     "text": [
      "0.2104\n",
      "statistics (0.9308, 0.084, 0.6471, 0.1486, 17, 0.2104)\n"
     ]
    },
    {
     "name": "stderr",
     "output_type": "stream",
     "text": [
      "\n",
      "  5%|▌         | 93/1815 [00:00<00:03, 479.37it/s]\u001b[A\n",
      "  8%|▊         | 148/1815 [00:00<00:03, 498.16it/s]\u001b[A\n",
      " 11%|█▏        | 206/1815 [00:00<00:03, 519.53it/s]\u001b[A\n",
      " 14%|█▍        | 261/1815 [00:00<00:02, 523.00it/s]\u001b[A\n",
      " 17%|█▋        | 313/1815 [00:00<00:02, 519.74it/s]\u001b[A\n",
      " 20%|██        | 370/1815 [00:00<00:02, 532.95it/s]\u001b[A\n",
      " 23%|██▎       | 420/1815 [00:00<00:02, 506.17it/s]\u001b[A\n",
      " 26%|██▌       | 469/1815 [00:00<00:02, 491.95it/s]\u001b[A\n",
      " 29%|██▉       | 523/1815 [00:01<00:02, 503.35it/s]\u001b[A\n",
      " 32%|███▏      | 575/1815 [00:01<00:02, 508.23it/s]\u001b[A\n",
      " 34%|███▍      | 626/1815 [00:01<00:02, 498.55it/s]\u001b[A\n",
      " 37%|███▋      | 676/1815 [00:01<00:02, 458.11it/s]\u001b[A\n",
      " 40%|███▉      | 723/1815 [00:01<00:02, 451.04it/s]\u001b[A\n",
      " 43%|████▎     | 780/1815 [00:01<00:02, 479.06it/s]\u001b[A\n",
      " 46%|████▌     | 836/1815 [00:01<00:01, 498.86it/s]\u001b[A\n",
      " 49%|████▉     | 894/1815 [00:01<00:01, 515.63it/s]\u001b[A\n",
      " 52%|█████▏    | 947/1815 [00:01<00:01, 518.07it/s]\u001b[A\n",
      " 55%|█████▌    | 1000/1815 [00:01<00:01, 498.68it/s]\u001b[A\n",
      " 58%|█████▊    | 1056/1815 [00:02<00:01, 514.64it/s]\u001b[A\n",
      " 62%|██████▏   | 1117/1815 [00:02<00:01, 532.17it/s]\u001b[A\n",
      " 65%|██████▍   | 1171/1815 [00:02<00:01, 508.56it/s]\u001b[A\n",
      " 67%|██████▋   | 1223/1815 [00:02<00:01, 494.47it/s]\u001b[A\n",
      " 70%|███████   | 1274/1815 [00:02<00:01, 498.28it/s]\u001b[A\n",
      " 73%|███████▎  | 1325/1815 [00:02<00:00, 491.19it/s]\u001b[A\n",
      " 76%|███████▌  | 1375/1815 [00:02<00:00, 471.47it/s]\u001b[A\n",
      " 78%|███████▊  | 1423/1815 [00:02<00:00, 471.02it/s]\u001b[A\n",
      " 81%|████████  | 1471/1815 [00:02<00:00, 471.98it/s]\u001b[A\n",
      " 84%|████████▎ | 1519/1815 [00:03<00:00, 468.80it/s]\u001b[A\n",
      " 86%|████████▋ | 1567/1815 [00:03<00:00, 471.32it/s]\u001b[A\n",
      " 89%|████████▉ | 1618/1815 [00:03<00:00, 481.48it/s]\u001b[A\n",
      " 92%|█████████▏| 1667/1815 [00:03<00:00, 465.36it/s]\u001b[A\n",
      " 95%|█████████▍| 1722/1815 [00:03<00:00, 484.26it/s]\u001b[A\n",
      "100%|██████████| 1815/1815 [00:03<00:00, 498.91it/s]\u001b[A\n"
     ]
    },
    {
     "name": "stdout",
     "output_type": "stream",
     "text": [
      "------------------------------------\n",
      "\n",
      "0.0    1795\n",
      "1.0      20\n",
      "Name: TR-04-00-00-00, dtype: int64\n",
      "data set size 1815\n",
      "Checkpoint2 -Normalized Vector for Sentences are created\n"
     ]
    },
    {
     "name": "stderr",
     "output_type": "stream",
     "text": [
      " 92%|█████████▏| 33/36 [04:27<00:15,  5.06s/it]\n",
      "  0%|          | 0/1816 [00:00<?, ?it/s]\u001b[A\n",
      "  3%|▎         | 55/1816 [00:00<00:03, 541.92it/s]\u001b[A"
     ]
    },
    {
     "name": "stdout",
     "output_type": "stream",
     "text": [
      "0.1832\n",
      "statistics (0.9433, 0.1391, 0.8, 0.237, 20, 0.1832)\n"
     ]
    },
    {
     "name": "stderr",
     "output_type": "stream",
     "text": [
      "\n",
      "  5%|▌         | 92/1816 [00:00<00:03, 474.62it/s]\u001b[A\n",
      "  8%|▊         | 147/1816 [00:00<00:03, 494.35it/s]\u001b[A\n",
      " 11%|█▏        | 207/1816 [00:00<00:03, 521.57it/s]\u001b[A\n",
      " 14%|█▍        | 259/1816 [00:00<00:03, 518.51it/s]\u001b[A\n",
      " 17%|█▋        | 312/1816 [00:00<00:02, 518.75it/s]\u001b[A\n",
      " 20%|██        | 369/1816 [00:00<00:02, 532.65it/s]\u001b[A\n",
      " 23%|██▎       | 419/1816 [00:00<00:02, 514.18it/s]\u001b[A\n",
      " 26%|██▌       | 468/1816 [00:00<00:02, 477.94it/s]\u001b[A\n",
      " 29%|██▉       | 524/1816 [00:01<00:02, 499.30it/s]\u001b[A\n",
      " 32%|███▏      | 579/1816 [00:01<00:02, 512.78it/s]\u001b[A\n",
      " 35%|███▍      | 630/1816 [00:01<00:02, 485.45it/s]\u001b[A\n",
      " 37%|███▋      | 679/1816 [00:01<00:02, 457.82it/s]\u001b[A\n",
      " 40%|███▉      | 726/1816 [00:01<00:02, 454.64it/s]\u001b[A\n",
      " 43%|████▎     | 782/1816 [00:01<00:02, 481.46it/s]\u001b[A\n",
      " 46%|████▌     | 837/1816 [00:01<00:01, 498.13it/s]\u001b[A\n",
      " 49%|████▉     | 891/1816 [00:01<00:01, 509.59it/s]\u001b[A\n",
      " 52%|█████▏    | 946/1816 [00:01<00:01, 520.49it/s]\u001b[A\n",
      " 55%|█████▌    | 999/1816 [00:01<00:01, 506.40it/s]\u001b[A\n",
      " 58%|█████▊    | 1050/1816 [00:02<00:01, 505.82it/s]\u001b[A\n",
      " 61%|██████    | 1108/1816 [00:02<00:01, 524.28it/s]\u001b[A\n",
      " 64%|██████▍   | 1161/1816 [00:02<00:01, 512.90it/s]\u001b[A\n",
      " 67%|██████▋   | 1213/1816 [00:02<00:01, 509.03it/s]\u001b[A\n",
      " 70%|██████▉   | 1265/1816 [00:02<00:01, 502.17it/s]\u001b[A\n",
      " 72%|███████▏  | 1316/1816 [00:02<00:01, 477.50it/s]\u001b[A\n",
      " 75%|███████▌  | 1365/1816 [00:02<00:00, 466.46it/s]\u001b[A\n",
      " 78%|███████▊  | 1412/1816 [00:02<00:00, 449.46it/s]\u001b[A\n",
      " 81%|████████  | 1465/1816 [00:02<00:00, 469.90it/s]\u001b[A\n",
      " 83%|████████▎ | 1513/1816 [00:03<00:00, 458.77it/s]\u001b[A\n",
      " 86%|████████▌ | 1560/1816 [00:03<00:00, 435.72it/s]\u001b[A\n",
      " 89%|████████▉ | 1614/1816 [00:03<00:00, 461.40it/s]\u001b[A\n",
      " 91%|█████████▏| 1661/1816 [00:03<00:00, 453.89it/s]\u001b[A\n",
      " 94%|█████████▍| 1710/1816 [00:03<00:00, 463.06it/s]\u001b[A\n",
      "100%|██████████| 1816/1816 [00:03<00:00, 491.45it/s]\u001b[A\n"
     ]
    },
    {
     "name": "stdout",
     "output_type": "stream",
     "text": [
      "------------------------------------\n",
      "\n",
      "0.0    1785\n",
      "1.0      31\n",
      "Name: TR-05-00-00-00, dtype: int64\n",
      "data set size 1816\n",
      "Checkpoint2 -Normalized Vector for Sentences are created\n"
     ]
    },
    {
     "name": "stderr",
     "output_type": "stream",
     "text": [
      " 94%|█████████▍| 34/36 [04:32<00:10,  5.06s/it]\n",
      "  0%|          | 0/1991 [00:00<?, ?it/s]\u001b[A\n",
      "  3%|▎         | 52/1991 [00:00<00:03, 518.66it/s]\u001b[A"
     ]
    },
    {
     "name": "stdout",
     "output_type": "stream",
     "text": [
      "0.1727\n",
      "statistics (0.9466, 0.2203, 0.8387, 0.349, 31, 0.1727)\n"
     ]
    },
    {
     "name": "stderr",
     "output_type": "stream",
     "text": [
      "\n",
      "  5%|▍         | 93/1991 [00:00<00:03, 480.21it/s]\u001b[A\n",
      "  7%|▋         | 147/1991 [00:00<00:03, 496.57it/s]\u001b[A\n",
      " 10%|▉         | 199/1991 [00:00<00:03, 503.25it/s]\u001b[A\n",
      " 12%|█▏        | 244/1991 [00:00<00:03, 485.68it/s]\u001b[A\n",
      " 15%|█▌        | 302/1991 [00:00<00:03, 509.79it/s]\u001b[A\n",
      " 18%|█▊        | 359/1991 [00:00<00:03, 520.41it/s]\u001b[A\n",
      " 21%|██        | 414/1991 [00:00<00:02, 528.09it/s]\u001b[A\n",
      " 23%|██▎       | 465/1991 [00:00<00:03, 503.63it/s]\u001b[A\n",
      " 26%|██▌       | 514/1991 [00:01<00:03, 488.80it/s]\u001b[A\n",
      " 29%|██▊       | 570/1991 [00:01<00:02, 507.19it/s]\u001b[A\n",
      " 31%|███▏      | 624/1991 [00:01<00:02, 514.19it/s]\u001b[A\n",
      " 34%|███▍      | 676/1991 [00:01<00:02, 483.76it/s]\u001b[A\n",
      " 36%|███▋      | 725/1991 [00:01<00:02, 458.36it/s]\u001b[A\n",
      " 39%|███▉      | 775/1991 [00:01<00:02, 462.36it/s]\u001b[A\n",
      " 42%|████▏     | 829/1991 [00:01<00:02, 480.59it/s]\u001b[A\n",
      " 44%|████▍     | 884/1991 [00:01<00:02, 497.32it/s]\u001b[A\n",
      " 47%|████▋     | 935/1991 [00:01<00:02, 497.13it/s]\u001b[A\n",
      " 50%|████▉     | 993/1991 [00:01<00:01, 518.73it/s]\u001b[A\n",
      " 53%|█████▎    | 1046/1991 [00:02<00:01, 501.67it/s]\u001b[A\n",
      " 55%|█████▌    | 1097/1991 [00:02<00:01, 490.60it/s]\u001b[A\n",
      " 58%|█████▊    | 1157/1991 [00:02<00:01, 517.00it/s]\u001b[A\n",
      " 61%|██████    | 1210/1991 [00:02<00:01, 511.81it/s]\u001b[A\n",
      " 63%|██████▎   | 1262/1991 [00:02<00:01, 490.55it/s]\u001b[A\n",
      " 66%|██████▌   | 1312/1991 [00:02<00:01, 482.70it/s]\u001b[A\n",
      " 68%|██████▊   | 1361/1991 [00:02<00:01, 472.28it/s]\u001b[A\n",
      " 71%|███████   | 1413/1991 [00:02<00:01, 477.73it/s]\u001b[A\n",
      " 74%|███████▎  | 1465/1991 [00:02<00:01, 478.74it/s]\u001b[A\n",
      " 76%|███████▌  | 1514/1991 [00:03<00:01, 472.80it/s]\u001b[A\n",
      " 78%|███████▊  | 1562/1991 [00:03<00:00, 431.05it/s]\u001b[A\n",
      " 81%|████████  | 1608/1991 [00:03<00:00, 437.26it/s]\u001b[A\n",
      " 83%|████████▎ | 1653/1991 [00:03<00:00, 436.04it/s]\u001b[A\n",
      " 86%|████████▌ | 1708/1991 [00:03<00:00, 460.90it/s]\u001b[A\n",
      " 88%|████████▊ | 1755/1991 [00:03<00:00, 462.10it/s]\u001b[A\n",
      " 91%|█████████ | 1802/1991 [00:03<00:00, 449.17it/s]\u001b[A\n",
      " 93%|█████████▎| 1849/1991 [00:03<00:00, 455.20it/s]\u001b[A\n",
      " 96%|█████████▌| 1908/1991 [00:03<00:00, 485.36it/s]\u001b[A\n",
      "100%|██████████| 1991/1991 [00:04<00:00, 487.12it/s]\u001b[A\n"
     ]
    },
    {
     "name": "stdout",
     "output_type": "stream",
     "text": [
      "------------------------------------\n",
      "\n",
      "0.0    1604\n",
      "1.0     387\n",
      "Name: WO-00-00-00-00, dtype: int64\n",
      "data set size 1991\n",
      "Checkpoint2 -Normalized Vector for Sentences are created\n"
     ]
    },
    {
     "name": "stderr",
     "output_type": "stream",
     "text": [
      " 97%|█████████▋| 35/36 [04:52<00:09,  9.61s/it]\n",
      "  0%|          | 0/1617 [00:00<?, ?it/s]\u001b[A\n",
      "  3%|▎         | 52/1617 [00:00<00:03, 519.85it/s]\u001b[A"
     ]
    },
    {
     "name": "stdout",
     "output_type": "stream",
     "text": [
      "0.3673\n",
      "statistics (0.8564, 0.5927, 0.8346, 0.6931, 387, 0.3673)\n"
     ]
    },
    {
     "name": "stderr",
     "output_type": "stream",
     "text": [
      "\n",
      "  6%|▌         | 91/1617 [00:00<00:03, 467.15it/s]\u001b[A\n",
      "  9%|▉         | 148/1617 [00:00<00:02, 492.22it/s]\u001b[A\n",
      " 13%|█▎        | 203/1617 [00:00<00:02, 506.54it/s]\u001b[A\n",
      " 16%|█▌        | 255/1617 [00:00<00:02, 509.85it/s]\u001b[A\n",
      " 19%|█▉        | 310/1617 [00:00<00:02, 519.62it/s]\u001b[A\n",
      " 23%|██▎       | 368/1617 [00:00<00:02, 533.80it/s]\u001b[A\n",
      " 26%|██▌       | 418/1617 [00:00<00:02, 489.64it/s]\u001b[A\n",
      " 29%|██▉       | 474/1617 [00:00<00:02, 507.23it/s]\u001b[A\n",
      " 33%|███▎      | 530/1617 [00:01<00:02, 521.10it/s]\u001b[A\n",
      " 36%|███▌      | 582/1617 [00:01<00:02, 466.71it/s]\u001b[A\n",
      " 39%|███▉      | 630/1617 [00:01<00:02, 449.19it/s]\u001b[A\n",
      " 42%|████▏     | 678/1617 [00:01<00:02, 454.29it/s]\u001b[A\n",
      " 46%|████▌     | 740/1617 [00:01<00:01, 493.11it/s]\u001b[A\n",
      " 49%|████▉     | 797/1617 [00:01<00:01, 513.42it/s]\u001b[A\n",
      " 53%|█████▎    | 851/1617 [00:01<00:01, 505.73it/s]\u001b[A\n",
      " 56%|█████▌    | 903/1617 [00:01<00:01, 508.61it/s]\u001b[A\n",
      " 59%|█████▉    | 955/1617 [00:01<00:01, 511.74it/s]\u001b[A\n",
      " 62%|██████▏   | 1009/1617 [00:02<00:01, 517.68it/s]\u001b[A\n",
      " 66%|██████▌   | 1062/1617 [00:02<00:01, 512.22it/s]\u001b[A\n",
      " 69%|██████▉   | 1114/1617 [00:02<00:01, 490.72it/s]\u001b[A\n",
      " 72%|███████▏  | 1164/1617 [00:02<00:00, 487.64it/s]\u001b[A\n",
      " 75%|███████▌  | 1214/1617 [00:02<00:00, 482.06it/s]\u001b[A\n",
      " 78%|███████▊  | 1263/1617 [00:02<00:00, 456.98it/s]\u001b[A\n",
      " 81%|████████  | 1310/1617 [00:02<00:00, 428.29it/s]\u001b[A\n",
      " 84%|████████▍ | 1356/1617 [00:02<00:00, 434.92it/s]\u001b[A\n",
      " 87%|████████▋ | 1403/1617 [00:02<00:00, 443.59it/s]\u001b[A\n",
      " 90%|████████▉ | 1453/1617 [00:02<00:00, 458.05it/s]\u001b[A\n",
      " 93%|█████████▎| 1500/1617 [00:03<00:00, 455.19it/s]\u001b[A\n",
      "100%|██████████| 1617/1617 [00:03<00:00, 493.38it/s]\u001b[A\n"
     ]
    },
    {
     "name": "stdout",
     "output_type": "stream",
     "text": [
      "------------------------------------\n",
      "\n",
      "0.0    1607\n",
      "1.0      10\n",
      "Name: WO-03-00-00-00, dtype: int64\n",
      "data set size 1617\n",
      "Checkpoint2 -Normalized Vector for Sentences are created\n"
     ]
    },
    {
     "name": "stderr",
     "output_type": "stream",
     "text": [
      "100%|██████████| 36/36 [05:00<00:00,  8.34s/it]"
     ]
    },
    {
     "name": "stdout",
     "output_type": "stream",
     "text": [
      "0.3207\n",
      "statistics (0.8615, 0.0046, 0.1, 0.0088, 10, 0.3207)\n"
     ]
    },
    {
     "name": "stderr",
     "output_type": "stream",
     "text": [
      "\n"
     ]
    }
   ],
   "source": [
    "import warnings\n",
    "import sklearn.exceptions\n",
    "warnings.filterwarnings(\"ignore\", category=sklearn.exceptions.UndefinedMetricWarning)\n",
    "\n",
    "class_list = df.columns[2:]\n",
    "print(class_list)\n",
    "verbose = False\n",
    "stat_dict = defaultdict() \n",
    "for cls in tqdm(class_list):\n",
    "    preprocessing(dfset, cls)\n",
    "    ret = predict_by_class_glove(dfset, cls)\n",
    "#    ret = predict_by_class_gridcv(dfset, cls)\n",
    "    stat_dict[cls] = ret \n",
    "    print('statistics' , ret)"
   ]
  },
  {
   "cell_type": "markdown",
   "metadata": {
    "janus": {
     "all_versions_showing": false,
     "cell_hidden": false,
     "current_version": 0,
     "id": "1342ba687f607",
     "named_versions": [],
     "output_hidden": false,
     "show_versions": false,
     "source_hidden": false,
     "versions": []
    }
   },
   "source": [
    "## Distribution"
   ]
  },
  {
   "cell_type": "code",
   "execution_count": 24,
   "metadata": {
    "janus": {
     "all_versions_showing": false,
     "cell_hidden": true,
     "current_version": 0,
     "id": "6611849a9aa39",
     "named_versions": [],
     "output_hidden": true,
     "show_versions": false,
     "source_hidden": true,
     "versions": []
    }
   },
   "outputs": [
    {
     "name": "stdout",
     "output_type": "stream",
     "text": [
      "Requirement already satisfied: prettytable in /Users/heeh/.pyenv/versions/3.8.0/lib/python3.8/site-packages (0.7.2)\n",
      "+----------------+----------+-----------+--------+----------+---------+----------+-------------+\n",
      "|     class      | accuracy | precision | recall | F1 score | support | log_loss | |documents| |\n",
      "+----------------+----------+-----------+--------+----------+---------+----------+-------------+\n",
      "| BE-00-00-00-00 |   0.8761 |    0.0861 | 0.7778 |    0.155 |      27 |  0.2951  |     1848    |\n",
      "| BU-00-00-00-00 |   0.9277 |    0.4421 | 0.9032 |   0.5936 |      93 |  0.2169  |     1590    |\n",
      "| CO-00-00-00-00 |   0.8703 |    0.3923 | 0.7736 |   0.5206 |     106 |  0.3644  |     1164    |\n",
      "| CR-00-00-00-00 |   0.8582 |    0.5717 | 0.8444 |   0.6818 |     302 |  0.3465  |     1679    |\n",
      "| CR-01-00-00-00 |   0.8622 |    0.0161 |   0.25 |   0.0303 |      12 |  0.3339  |     1393    |\n",
      "| CR-04-00-00-00 |   0.8559 |    0.0299 | 0.4615 |   0.0561 |      13 |  0.3722  |     1402    |\n",
      "| CR-06-00-00-00 |   0.8917 |    0.0331 | 0.4545 |   0.0617 |      11 |  0.2744  |     1404    |\n",
      "| CR-10-00-00-00 |   0.8913 |    0.0144 | 0.2727 |   0.0273 |      11 |  0.2691  |     1969    |\n",
      "| ED-00-00-00-00 |   0.9338 |    0.1308 | 0.7083 |   0.2208 |      24 |  0.2142  |     1813    |\n",
      "| ES-00-00-00-00 |   0.8904 |    0.2433 | 0.8205 |   0.3754 |      78 |  0.2675  |     1944    |\n",
      "| ES-01-00-00-00 |   0.9264 |    0.0362 |    0.5 |   0.0676 |      10 |  0.1872  |     1876    |\n",
      "| ES-03-00-00-00 |     0.88 |    0.0292 | 0.5385 |   0.0553 |      13 |  0.2653  |     1992    |\n",
      "| FA-00-00-00-00 |   0.8869 |     0.626 | 0.8768 |   0.7305 |     357 |  0.3053  |     2042    |\n",
      "| FA-05-00-00-00 |   0.9035 |    0.0306 |    0.6 |   0.0583 |      10 |  0.246   |     2011    |\n",
      "| FA-06-00-00-00 |   0.8984 |    0.0275 |    0.5 |   0.0521 |      10 |  0.2615  |     1791    |\n",
      "| FA-07-00-00-00 |   0.8166 |    0.0745 | 0.6829 |   0.1343 |      41 |  0.392   |     1968    |\n",
      "| GO-00-00-00-00 |   0.8662 |    0.0103 | 0.1538 |   0.0193 |      13 |  0.3374  |     1517    |\n",
      "| HE-00-00-00-00 |   0.9316 |    0.4825 | 0.9016 |   0.6286 |     122 |  0.2289  |     1900    |\n",
      "| HO-00-00-00-00 |   0.9128 |    0.7935 | 0.8945 |    0.841 |     550 |  0.2645  |     2132    |\n",
      "| HO-06-00-00-00 |   0.8935 |    0.1295 | 0.7353 |   0.2203 |      34 |  0.315   |     1662    |\n",
      "| HO-09-00-00-00 |   0.9226 |    0.1469 | 0.7778 |   0.2471 |      27 |  0.239   |     1653    |\n",
      "| IM-00-00-00-00 |   0.9333 |    0.1854 | 0.7778 |   0.2995 |      36 |  0.2065  |     1964    |\n",
      "| MO-00-00-00-00 |   0.8258 |    0.6206 | 0.8224 |   0.7074 |     366 |  0.4226  |     1429    |\n",
      "| MO-02-00-00-00 |   0.9174 |    0.0429 | 0.5833 |     0.08 |      12 |  0.2327  |     1949    |\n",
      "| MO-07-00-00-00 |   0.9176 |    0.0918 | 0.6923 |   0.1622 |      13 |  0.2485  |     1129    |\n",
      "| MO-10-00-00-00 |   0.8662 |     0.021 | 0.2727 |    0.039 |      11 |  0.3188  |     1106    |\n",
      "| RI-00-00-00-00 |   0.8001 |    0.0394 |    0.5 |   0.0731 |      22 |  0.4229  |     1396    |\n",
      "| TO-00-00-00-00 |   0.8218 |    0.5083 |    0.8 |   0.6216 |     230 |  0.4034  |     1257    |\n",
      "| TR-00-00-00-00 |   0.9297 |    0.6695 | 0.9038 |   0.7692 |     260 |  0.2269  |     2006    |\n",
      "| TR-01-00-00-00 |   0.9267 |    0.1216 | 0.8182 |   0.2118 |      22 |  0.2149  |     1827    |\n",
      "| TR-02-00-00-00 |   0.9021 |    0.1058 | 0.6897 |   0.1835 |      29 |  0.2701  |     1819    |\n",
      "| TR-03-00-00-00 |   0.9308 |     0.084 | 0.6471 |   0.1486 |      17 |  0.2104  |     1821    |\n",
      "| TR-04-00-00-00 |   0.9433 |    0.1391 |    0.8 |    0.237 |      20 |  0.1832  |     1815    |\n",
      "| TR-05-00-00-00 |   0.9466 |    0.2203 | 0.8387 |    0.349 |      31 |  0.1727  |     1816    |\n",
      "| WO-00-00-00-00 |   0.8564 |    0.5927 | 0.8346 |   0.6931 |     387 |  0.3673  |     1991    |\n",
      "| WO-03-00-00-00 |   0.8615 |    0.0046 |    0.1 |   0.0088 |      10 |  0.3207  |     1617    |\n",
      "+----------------+----------+-----------+--------+----------+---------+----------+-------------+\n"
     ]
    }
   ],
   "source": [
    "!python3 -m pip install prettytable\n",
    "from prettytable import PrettyTable\n",
    "t = PrettyTable([\"class\", \"accuracy\", \"precision\", \"recall\", \"F1 score\", \"support\", \"log_loss\", \"|documents|\"])\n",
    "#t.align[\"class\"] = \"r\"\n",
    "t.align[\"accuracy\"] = \"r\"\n",
    "t.align[\"precision\"] = \"r\"\n",
    "t.align[\"recall\"] = \"r\"\n",
    "t.align[\"F1 score\"] = \"r\"\n",
    "t.align[\"support\"] = \"r\"\n",
    "for k,v in stat_dict.items():\n",
    "    t.add_row([k, v[0], v[1], v[2], v[3], v[4], v[5], numdoc[k]])\n",
    "    \n",
    "print(t)"
   ]
  },
  {
   "cell_type": "markdown",
   "metadata": {
    "colab_type": "text",
    "id": "N1tu4jFOrOaf",
    "janus": {
     "all_versions_showing": false,
     "cell_hidden": false,
     "current_version": 0,
     "id": "ba74459e4e83b",
     "named_versions": [],
     "output_hidden": false,
     "show_versions": false,
     "source_hidden": false,
     "versions": []
    }
   },
   "source": [
    "## Plotting for Top10 classes"
   ]
  },
  {
   "cell_type": "code",
   "execution_count": 25,
   "metadata": {
    "colab": {},
    "colab_type": "code",
    "id": "r4sGK9DsrOhR",
    "janus": {
     "all_versions_showing": false,
     "cell_hidden": true,
     "current_version": 0,
     "id": "120b319cdd3d",
     "named_versions": [],
     "output_hidden": true,
     "show_versions": false,
     "source_hidden": true,
     "versions": []
    }
   },
   "outputs": [
    {
     "data": {
      "image/png": "[encoded data removed]",
      "text/plain": [
       "<Figure size 640x480 with 1 Axes>"
      ]
     },
     "metadata": {},
     "output_type": "display_data"
    }
   ],
   "source": [
    "#for k,v in accuracy_dict.items():\n",
    "#    print(k,v)\n",
    "#sys.exit()\n",
    "import collections\n",
    "import matplotlib.pyplot as plt\n",
    "import numpy as np\n",
    "\n",
    "# Fixing random state for reproducibility\n",
    "np.random.seed(19680801)\n",
    "\n",
    "\n",
    "plt.rcdefaults()\n",
    "fig, ax = plt.subplots()\n",
    "\n",
    "# Example data\n",
    "y_pos = np.arange(10)\n",
    "error = 0 \n",
    "\n",
    "recall_dict = defaultdict()\n",
    "for k,v in stat_dict.items():\n",
    "    recall_dict[k] = v[2]\n",
    "\n",
    "sorted_x = sorted(recall_dict.items(), key=lambda kv: kv[1], reverse=True)\n",
    "topcat_dict = collections.OrderedDict(sorted_x)\n",
    "#print(topcat_dict)\n",
    "\n",
    "keyList = []\n",
    "valList = []\n",
    "for kv in topcat_dict.items():\n",
    "    keyList.append(kv[0])\n",
    "    valList.append(kv[1])\n",
    "\n",
    "ax.barh(y_pos[:10], valList[:10], xerr=error, align='center')\n",
    "ax.set_yticks(y_pos)\n",
    "ax.set_yticklabels(keyList[:10])\n",
    "ax.invert_yaxis()  # labels read top-to-bottom\n",
    "ax.set_xlabel('Recall')\n",
    "ax.set_title('Top10 Recall Scores')\n",
    "\n",
    "plt.show()"
   ]
  },
  {
   "cell_type": "markdown",
   "metadata": {
    "janus": {
     "all_versions_showing": false,
     "cell_hidden": false,
     "current_version": 0,
     "id": "3128d732afee1",
     "named_versions": [],
     "output_hidden": false,
     "show_versions": false,
     "source_hidden": false,
     "versions": []
    }
   },
   "source": [
    "## Bottom 10"
   ]
  },
  {
   "cell_type": "code",
   "execution_count": 26,
   "metadata": {
    "janus": {
     "all_versions_showing": false,
     "cell_hidden": true,
     "current_version": 0,
     "id": "7631c8aa247f3",
     "named_versions": [],
     "output_hidden": true,
     "show_versions": false,
     "source_hidden": true,
     "versions": []
    },
    "scrolled": true
   },
   "outputs": [
    {
     "data": {
      "image/png": "[encoded data removed]",
      "text/plain": [
       "<Figure size 640x480 with 1 Axes>"
      ]
     },
     "metadata": {},
     "output_type": "display_data"
    }
   ],
   "source": [
    "#for k,v in accuracy_dict.items():\n",
    "#    print(k,v)\n",
    "#sys.exit()\n",
    "import collections\n",
    "import matplotlib.pyplot as plt\n",
    "import numpy as np\n",
    "\n",
    "# Fixing random state for reproducibility\n",
    "np.random.seed(19680801)\n",
    "\n",
    "\n",
    "plt.rcdefaults()\n",
    "fig, ax = plt.subplots()\n",
    "\n",
    "# Example data\n",
    "y_pos = np.arange(10)\n",
    "error = 0 \n",
    "\n",
    "recall_dict = defaultdict()\n",
    "for k,v in stat_dict.items():\n",
    "    recall_dict[k] = v[2]\n",
    "    \n",
    "sorted_x = sorted(recall_dict.items(), key=lambda kv: kv[1])\n",
    "topcat_dict = collections.OrderedDict(sorted_x)\n",
    "#print(topcat_dict)\n",
    "\n",
    "keyList = []\n",
    "valList = []\n",
    "for kv in topcat_dict.items():\n",
    "    keyList.append(kv[0])\n",
    "    valList.append(kv[1])\n",
    "\n",
    "\n",
    "\n",
    "\n",
    "ax.barh(y_pos[:10], valList[:10], xerr=error, align='center')\n",
    "ax.set_yticks(y_pos)\n",
    "ax.set_yticklabels(keyList[:10])\n",
    "ax.invert_yaxis()  # labels read top-to-bottom\n",
    "ax.set_xlabel('Recall')\n",
    "ax.set_title('Bottom 10 Recall Scores')\n",
    "\n",
    "plt.show()"
   ]
  },
  {
   "cell_type": "markdown",
   "metadata": {
    "janus": {
     "all_versions_showing": false,
     "cell_hidden": false,
     "current_version": 0,
     "id": "b32f8fe86d67c",
     "named_versions": [],
     "output_hidden": false,
     "show_versions": false,
     "source_hidden": false,
     "versions": []
    }
   },
   "source": [
    "## Recall Distribution"
   ]
  },
  {
   "cell_type": "code",
   "execution_count": 27,
   "metadata": {
    "janus": {
     "all_versions_showing": false,
     "cell_hidden": true,
     "current_version": 0,
     "id": "c55860008c8bc",
     "named_versions": [],
     "output_hidden": true,
     "show_versions": false,
     "source_hidden": true,
     "versions": []
    }
   },
   "outputs": [
    {
     "name": "stdout",
     "output_type": "stream",
     "text": [
      "    Recall\n",
      "0    77.78\n",
      "1    90.32\n",
      "2    77.36\n",
      "3    84.44\n",
      "4    25.00\n",
      "5    46.15\n",
      "6    45.45\n",
      "7    27.27\n",
      "8    70.83\n",
      "9    82.05\n",
      "10   50.00\n",
      "11   53.85\n",
      "12   87.68\n",
      "13   60.00\n",
      "14   50.00\n",
      "15   68.29\n",
      "16   15.38\n",
      "17   90.16\n",
      "18   89.45\n",
      "19   73.53\n",
      "20   77.78\n",
      "21   77.78\n",
      "22   82.24\n",
      "23   58.33\n",
      "24   69.23\n",
      "25   27.27\n",
      "26   50.00\n",
      "27   80.00\n",
      "28   90.38\n",
      "29   81.82\n",
      "30   68.97\n",
      "31   64.71\n",
      "32   80.00\n",
      "33   83.87\n",
      "34   83.46\n",
      "35   10.00\n"
     ]
    },
    {
     "data": {
      "image/png": "[encoded data removed]",
      "text/plain": [
       "<Figure size 640x480 with 1 Axes>"
      ]
     },
     "metadata": {},
     "output_type": "display_data"
    }
   ],
   "source": [
    "import pylab as pl\n",
    "\n",
    "recall_dict = defaultdict()\n",
    "for k,v in stat_dict.items():\n",
    "    recall_dict[k] = v[2]\n",
    "\n",
    "recall_list = []\n",
    "for k,v in recall_dict.items():\n",
    "    recall_list.append(v*100)\n",
    "   \n",
    "d = {'Recall': recall_list}\n",
    "tinydf = pd.DataFrame(data=d)\n",
    "\n",
    "\n",
    "\n",
    "hist = tinydf.hist(edgecolor='black', bins = [0,10,20,30,40,50,60,70,80,90,100])\n",
    "pl.title(\"Recall Distribution\")\n",
    "pl.xlabel(\"Recall Score(%)\")\n",
    "pl.ylabel(\"Number of Classes\")\n",
    "print(tinydf)"
   ]
  },
  {
   "cell_type": "markdown",
   "metadata": {},
   "source": [
    "## log_loss histogram"
   ]
  },
  {
   "cell_type": "code",
   "execution_count": 34,
   "metadata": {},
   "outputs": [
    {
     "name": "stdout",
     "output_type": "stream",
     "text": [
      "    logloss\n",
      "0    0.2951\n",
      "1    0.2169\n",
      "2    0.3644\n",
      "3    0.3465\n",
      "4    0.3339\n",
      "5    0.3722\n",
      "6    0.2744\n",
      "7    0.2691\n",
      "8    0.2142\n",
      "9    0.2675\n",
      "10   0.1872\n",
      "11   0.2653\n",
      "12   0.3053\n",
      "13   0.2460\n",
      "14   0.2615\n",
      "15   0.3920\n",
      "16   0.3374\n",
      "17   0.2289\n",
      "18   0.2645\n",
      "19   0.3150\n",
      "20   0.2390\n",
      "21   0.2065\n",
      "22   0.4226\n",
      "23   0.2327\n",
      "24   0.2485\n",
      "25   0.3188\n",
      "26   0.4229\n",
      "27   0.4034\n",
      "28   0.2269\n",
      "29   0.2149\n",
      "30   0.2701\n",
      "31   0.2104\n",
      "32   0.1832\n",
      "33   0.1727\n",
      "34   0.3673\n",
      "35   0.3207\n"
     ]
    },
    {
     "data": {
      "image/png": "[encoded data removed]",
      "text/plain": [
       "<Figure size 640x480 with 1 Axes>"
      ]
     },
     "metadata": {},
     "output_type": "display_data"
    }
   ],
   "source": [
    "import pylab as pl\n",
    "\n",
    "logloss_dict = defaultdict()\n",
    "for k,v in stat_dict.items():\n",
    "    logloss_dict[k] = v[5]\n",
    "\n",
    "logloss_list = []\n",
    "for k,v in logloss_dict.items():\n",
    "    logloss_list.append(v)\n",
    "   \n",
    "d = {'logloss': logloss_list}\n",
    "tinydf = pd.DataFrame(data=d)\n",
    "\n",
    "hist = tinydf.hist(edgecolor='black', bins = [0.0,0.1,0.2,0.3,0.4,0.5,0.6,0.7,0.8,0.9,1.0])\n",
    "pl.title(\"Log Loss Distribution\")\n",
    "pl.xlabel(\"Log Loss Score\")\n",
    "pl.ylabel(\"Number of Classes\")\n",
    "print(tinydf)"
   ]
  },
  {
   "cell_type": "markdown",
   "metadata": {
    "colab_type": "text",
    "id": "6opsKxImIb5b",
    "janus": {
     "all_versions_showing": false,
     "cell_hidden": false,
     "current_version": 0,
     "id": "4b997c0e2f005",
     "named_versions": [],
     "output_hidden": false,
     "show_versions": false,
     "source_hidden": false,
     "versions": []
    }
   },
   "source": [
    "# Custom Input Prediction"
   ]
  },
  {
   "cell_type": "code",
   "execution_count": 44,
   "metadata": {
    "colab": {},
    "colab_type": "code",
    "id": "Qro-3iB4IiEy",
    "janus": {
     "all_versions_showing": false,
     "cell_hidden": false,
     "current_version": 0,
     "id": "5f2ad812917d3",
     "named_versions": [],
     "output_hidden": false,
     "show_versions": false,
     "source_hidden": false,
     "versions": []
    },
    "scrolled": true
   },
   "outputs": [
    {
     "name": "stdout",
     "output_type": "stream",
     "text": [
      "How do I get my mom's license taken away. My mom is 66, on disability for multiple sclerosis. She's been unable to work for about a decade. She has cataracts. She has neuropathy. She has 0 reaction time. She has had a fender bender on every single corner of her last car, which my brother then totaled. She also has no night vision. She also falls asleep all the time. ALMOST like like narcolepsy. It's mostly her overextending herself, but she will nod off driving or sleep in parking lots til she feels ok. She also has lymphedema in her legs which are swollen enough to impede driving. The last year she was driving she received 19 red light tickets. She agreed not to drive. And the insurance paid for her car. Now she's bought a new one, about 6 months later. Our relationship is terrible. I hate her. But I want her licence taken away before she kills or cripples someone(s). I'm no contact with her, but my brother still tries and he cares about this a lot. I've spoken with the DMV IN MY state, not very helpful. Can i contact her insurance? Do I contact the police? Has this happened to anyone\n",
      "CR-01-00-00-00 [1.] 0.7047\n",
      "CR-04-00-00-00 [1.] 0.8014\n",
      "CR-10-00-00-00 [1.] 0.6478\n",
      "FA-07-00-00-00 [1.] 0.735\n",
      "GO-00-00-00-00 [1.] 0.5066\n",
      "HE-00-00-00-00 [1.] 0.5504\n",
      "RI-00-00-00-00 [1.] 0.5023\n",
      "TO-00-00-00-00 [1.] 0.7125\n",
      "TR-00-00-00-00 [1.] 0.6557\n",
      "TR-01-00-00-00 [1.] 0.6143\n",
      "TR-03-00-00-00 [1.] 0.5042\n"
     ]
    }
   ],
   "source": [
    "text = \"How do I get my mom's license taken away. My mom is 66, on disability for multiple sclerosis. She's been unable to work for about a decade. She has cataracts. She has neuropathy. She has 0 reaction time. She has had a fender bender on every single corner of her last car, which my brother then totaled. She also has no night vision. She also falls asleep all the time. ALMOST like like narcolepsy. It's mostly her overextending herself, but she will nod off driving or sleep in parking lots til she feels ok. She also has lymphedema in her legs which are swollen enough to impede driving. The last year she was driving she received 19 red light tickets. She agreed not to drive. And the insurance paid for her car. Now she's bought a new one, about 6 months later. Our relationship is terrible. I hate her. But I want her licence taken away before she kills or cripples someone(s). I'm no contact with her, but my brother still tries and he cares about this a lot. I've spoken with the DMV IN MY state, not very helpful. Can i contact her insurance? Do I contact the police? Has this happened to anyone\"\n",
    "\n",
    "print(text)\n",
    "input = sent2vec(text)\n",
    "input = np.array(input)\n",
    "\n",
    "predictions = defaultdict() \n",
    "prob = defaultdict()\n",
    "c_logloss = defaultdict()\n",
    "\n",
    "for cls in class_list:\n",
    "    predictions[cls] = classifier[cls].predict([input])\n",
    "    prob[cls] = classifier[cls].predict_proba([input])\n",
    "\n",
    "for k,v in predictions.items():   \n",
    "    if v > 0:\n",
    "        print(k, v, end = ' ')\n",
    "        print(np.round(prob[k][0][1], 4))\n"
   ]
  }
 ],
 "metadata": {
  "accelerator": "GPU",
  "colab": {
   "authorship_tag": "ABX9TyNEs8q1mzt8F3PvZ4WJe7iF",
   "name": "legal_issue_classifier.ipynb",
   "provenance": [],
   "toc_visible": true
  },
  "janus": {
   "filepaths": [
    [
     "ccbc57fe",
     1582755372683,
     1583617048644
    ]
   ],
   "janus_markers": [
    {
     "ids": [
      "fbc1e35bd1c07",
      "b4140f133d1e6"
     ],
     "markerName": "Hidden Cells",
     "showing": false
    },
    {
     "ids": [
      "46f3ebdce3ec5"
     ],
     "markerName": "Hidden Cells",
     "showing": false
    },
    {
     "ids": [
      "da6bfdef8ea13"
     ],
     "markerName": "Hidden Cells",
     "showing": false
    },
    {
     "ids": [
      "455af60adbcad"
     ],
     "markerName": "Hidden Cells",
     "showing": false
    },
    {
     "ids": [
      "11e5448bf4137"
     ],
     "markerName": "Hidden Cells",
     "showing": false
    },
    {
     "ids": [
      "722be740702ee"
     ],
     "markerName": "Hidden Cells",
     "showing": false
    },
    {
     "ids": [
      "dfd2a43208cde"
     ],
     "markerName": "Hidden Cells",
     "showing": false
    },
    {
     "ids": [
      "8dd4a61345312"
     ],
     "markerName": "Hidden Cells",
     "showing": false
    },
    {
     "ids": [
      "381e7a94d7c67"
     ],
     "markerName": "Hidden Cells",
     "showing": false
    },
    {
     "ids": [
      "6611849a9aa39"
     ],
     "markerName": "Hidden Cells",
     "showing": false
    },
    {
     "ids": [
      "120b319cdd3d"
     ],
     "markerName": "Hidden Cells",
     "showing": false
    },
    {
     "ids": [
      "7631c8aa247f3"
     ],
     "markerName": "Hidden Cells",
     "showing": false
    },
    {
     "ids": [
      "c55860008c8bc"
     ],
     "markerName": "Hidden Cells",
     "showing": false
    }
   ],
   "track_history": true
  },
  "kernelspec": {
   "display_name": "Python 3",
   "language": "python",
   "name": "python3"
  },
  "language_info": {
   "codemirror_mode": {
    "name": "ipython",
    "version": 3
   },
   "file_extension": ".py",
   "mimetype": "text/x-python",
   "name": "python",
   "nbconvert_exporter": "python",
   "pygments_lexer": "ipython3",
   "version": "3.8.0"
  }
 },
 "nbformat": 4,
 "nbformat_minor": 1
}
