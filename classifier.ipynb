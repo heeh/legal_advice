{
 "cells": [
  {
   "cell_type": "markdown",
   "metadata": {
    "colab_type": "text",
    "id": "cXr-llCCp7_Z",
    "janus": {
     "all_versions_showing": false,
     "cell_hidden": false,
     "current_version": 0,
     "id": "906255c57419d",
     "named_versions": [],
     "output_hidden": false,
     "show_versions": false,
     "source_hidden": false,
     "versions": []
    }
   },
   "source": [
    "# Introduction\n",
    "* This program that classifies legal issues into a binary value for each National Subject Matter Index (NSMI). (https://nsmi.lsntap.org/browse-v2) \\\\\n",
    "\"Category\" means 20 indexes. \\\\\n",
    "\"Class\" means sub categories under the category.\n",
    "\n",
    "### Data\n",
    "* The data contains 2777 labeled articles. Each article has a binary value(0 or 1) that indicates if this article is related to a specific legal class. We ignore unlabeled entries when constructing a model.\n",
    "\n",
    "### Implementation\n",
    "* The program converts an article into tf-idf and applies multinomial Naive-Bayes model provided by scikit-learn. \n",
    "\n",
    "* After preprocessing data, we predict the model with 10-fold cross-validation.\n",
    "\n",
    "### Output\n",
    "* We calculate accuracy with bot categories(20) and classes(100+). \\\\\n",
    "\n",
    "See overall result is at the bottom of this notebook."
   ]
  },
  {
   "cell_type": "markdown",
   "metadata": {
    "colab_type": "text",
    "id": "LNIANhrjEzYE",
    "janus": {
     "all_versions_showing": false,
     "cell_hidden": false,
     "current_version": 0,
     "id": "c64b7d852eb46",
     "named_versions": [],
     "output_hidden": false,
     "show_versions": false,
     "source_hidden": false,
     "versions": []
    }
   },
   "source": [
    "# Data Preparation (DONE)"
   ]
  },
  {
   "cell_type": "code",
   "execution_count": 1,
   "metadata": {
    "colab": {},
    "colab_type": "code",
    "id": "YsbprkpElhDw",
    "janus": {
     "all_versions_showing": false,
     "cell_hidden": true,
     "current_version": 0,
     "id": "fbc1e35bd1c07",
     "named_versions": [],
     "output_hidden": true,
     "show_versions": false,
     "source_hidden": true,
     "versions": []
    }
   },
   "outputs": [
    {
     "name": "stdout",
     "output_type": "stream",
     "text": [
      "Requirement already satisfied: PrettyTable in /Users/heeh/.pyenv/versions/3.8.0/lib/python3.8/site-packages (0.7.2)\n",
      "Requirement already satisfied: pandas in /Users/heeh/.pyenv/versions/3.8.0/lib/python3.8/site-packages (1.0.1)\n",
      "Requirement already satisfied: python-dateutil>=2.6.1 in /Users/heeh/.pyenv/versions/3.8.0/lib/python3.8/site-packages (from pandas) (2.8.1)\n",
      "Requirement already satisfied: pytz>=2017.2 in /Users/heeh/.pyenv/versions/3.8.0/lib/python3.8/site-packages (from pandas) (2019.3)\n",
      "Requirement already satisfied: numpy>=1.13.3 in /Users/heeh/.pyenv/versions/3.8.0/lib/python3.8/site-packages (from pandas) (1.18.1)\n",
      "Requirement already satisfied: six>=1.5 in /Users/heeh/.pyenv/versions/3.8.0/lib/python3.8/site-packages (from python-dateutil>=2.6.1->pandas) (1.14.0)\n",
      "Requirement already satisfied: sklearn in /Users/heeh/.pyenv/versions/3.8.0/lib/python3.8/site-packages (0.0)\n",
      "Requirement already satisfied: scikit-learn in /Users/heeh/.pyenv/versions/3.8.0/lib/python3.8/site-packages (from sklearn) (0.22.2.post1)\n",
      "Requirement already satisfied: scipy>=0.17.0 in /Users/heeh/.pyenv/versions/3.8.0/lib/python3.8/site-packages (from scikit-learn->sklearn) (1.4.1)\n",
      "Requirement already satisfied: numpy>=1.11.0 in /Users/heeh/.pyenv/versions/3.8.0/lib/python3.8/site-packages (from scikit-learn->sklearn) (1.18.1)\n",
      "Requirement already satisfied: joblib>=0.11 in /Users/heeh/.pyenv/versions/3.8.0/lib/python3.8/site-packages (from scikit-learn->sklearn) (0.14.1)\n",
      "Requirement already satisfied: matplotlib in /Users/heeh/.pyenv/versions/3.8.0/lib/python3.8/site-packages (3.2.0)\n",
      "Requirement already satisfied: pyparsing!=2.0.4,!=2.1.2,!=2.1.6,>=2.0.1 in /Users/heeh/.pyenv/versions/3.8.0/lib/python3.8/site-packages (from matplotlib) (2.4.6)\n",
      "Requirement already satisfied: kiwisolver>=1.0.1 in /Users/heeh/.pyenv/versions/3.8.0/lib/python3.8/site-packages (from matplotlib) (1.1.0)\n",
      "Requirement already satisfied: cycler>=0.10 in /Users/heeh/.pyenv/versions/3.8.0/lib/python3.8/site-packages (from matplotlib) (0.10.0)\n",
      "Requirement already satisfied: numpy>=1.11 in /Users/heeh/.pyenv/versions/3.8.0/lib/python3.8/site-packages (from matplotlib) (1.18.1)\n",
      "Requirement already satisfied: python-dateutil>=2.1 in /Users/heeh/.pyenv/versions/3.8.0/lib/python3.8/site-packages (from matplotlib) (2.8.1)\n",
      "Requirement already satisfied: setuptools in /Users/heeh/.pyenv/versions/3.8.0/lib/python3.8/site-packages (from kiwisolver>=1.0.1->matplotlib) (41.2.0)\n",
      "Requirement already satisfied: six in /Users/heeh/.pyenv/versions/3.8.0/lib/python3.8/site-packages (from cycler>=0.10->matplotlib) (1.14.0)\n",
      "Requirement already satisfied: seaborn in /Users/heeh/.pyenv/versions/3.8.0/lib/python3.8/site-packages (0.10.0)\n",
      "Requirement already satisfied: matplotlib>=2.1.2 in /Users/heeh/.pyenv/versions/3.8.0/lib/python3.8/site-packages (from seaborn) (3.2.0)\n",
      "Requirement already satisfied: pandas>=0.22.0 in /Users/heeh/.pyenv/versions/3.8.0/lib/python3.8/site-packages (from seaborn) (1.0.1)\n",
      "Requirement already satisfied: numpy>=1.13.3 in /Users/heeh/.pyenv/versions/3.8.0/lib/python3.8/site-packages (from seaborn) (1.18.1)\n",
      "Requirement already satisfied: scipy>=1.0.1 in /Users/heeh/.pyenv/versions/3.8.0/lib/python3.8/site-packages (from seaborn) (1.4.1)\n",
      "Requirement already satisfied: python-dateutil>=2.1 in /Users/heeh/.pyenv/versions/3.8.0/lib/python3.8/site-packages (from matplotlib>=2.1.2->seaborn) (2.8.1)\n",
      "Requirement already satisfied: cycler>=0.10 in /Users/heeh/.pyenv/versions/3.8.0/lib/python3.8/site-packages (from matplotlib>=2.1.2->seaborn) (0.10.0)\n",
      "Requirement already satisfied: kiwisolver>=1.0.1 in /Users/heeh/.pyenv/versions/3.8.0/lib/python3.8/site-packages (from matplotlib>=2.1.2->seaborn) (1.1.0)\n",
      "Requirement already satisfied: pyparsing!=2.0.4,!=2.1.2,!=2.1.6,>=2.0.1 in /Users/heeh/.pyenv/versions/3.8.0/lib/python3.8/site-packages (from matplotlib>=2.1.2->seaborn) (2.4.6)\n",
      "Requirement already satisfied: pytz>=2017.2 in /Users/heeh/.pyenv/versions/3.8.0/lib/python3.8/site-packages (from pandas>=0.22.0->seaborn) (2019.3)\n",
      "Requirement already satisfied: six>=1.5 in /Users/heeh/.pyenv/versions/3.8.0/lib/python3.8/site-packages (from python-dateutil>=2.1->matplotlib>=2.1.2->seaborn) (1.14.0)\n",
      "Requirement already satisfied: setuptools in /Users/heeh/.pyenv/versions/3.8.0/lib/python3.8/site-packages (from kiwisolver>=1.0.1->matplotlib>=2.1.2->seaborn) (41.2.0)\n"
     ]
    },
    {
     "name": "stderr",
     "output_type": "stream",
     "text": [
      "/Users/heeh/.pyenv/versions/3.8.0/lib/python3.8/site-packages/pandas/compat/__init__.py:117: UserWarning: Could not import the lzma module. Your installed Python is incomplete. Attempting to use lzma compression will result in a RuntimeError.\n",
      "  warnings.warn(msg)\n"
     ]
    },
    {
     "name": "stdout",
     "output_type": "stream",
     "text": [
      "DONE\n"
     ]
    }
   ],
   "source": [
    "!pip3 install PrettyTable\n",
    "!pip3 install pandas\n",
    "!pip3 install sklearn\n",
    "!pip3 install matplotlib\n",
    "!pip3 install seaborn\n",
    "\n",
    "import os\n",
    "import sys\n",
    "import pandas as pd\n",
    "from collections import Counter\n",
    "from sklearn.feature_extraction.text import TfidfVectorizer\n",
    "from sklearn.naive_bayes import MultinomialNB\n",
    "from sklearn.pipeline import make_pipeline\n",
    "from sklearn.metrics import confusion_matrix\n",
    "from sklearn.metrics import accuracy_score\n",
    "import numpy as np\n",
    "import matplotlib.pyplot as plt\n",
    "import seaborn as sns; sns.set()\n",
    "pd.options.display.max_rows = 100\n",
    "pd.set_option('display.max_columns', None) \n",
    "print(\"DONE\")"
   ]
  },
  {
   "cell_type": "code",
   "execution_count": 2,
   "metadata": {
    "colab": {
     "base_uri": "https://localhost:8080/",
     "height": 504
    },
    "colab_type": "code",
    "executionInfo": {
     "elapsed": 2953,
     "status": "ok",
     "timestamp": 1582551057054,
     "user": {
      "displayName": "Hee Hwang",
      "photoUrl": "",
      "userId": "05361436400321274076"
     },
     "user_tz": 300
    },
    "id": "6XZZPmUtlhGg",
    "janus": {
     "all_versions_showing": false,
     "cell_hidden": true,
     "current_version": 0,
     "id": "b4140f133d1e6",
     "named_versions": [],
     "output_hidden": true,
     "show_versions": false,
     "source_hidden": true,
     "versions": []
    },
    "outputId": "161dab3f-ad00-4e8a-8bb5-99b9f7504581"
   },
   "outputs": [
    {
     "name": "stdout",
     "output_type": "stream",
     "text": [
      "<class 'pandas.core.frame.DataFrame'>\n",
      "RangeIndex: 2777 entries, 0 to 2776\n",
      "Columns: 109 entries, _id to WO-09-00-00-00\n",
      "dtypes: float64(107), object(2)\n",
      "memory usage: 2.3+ MB\n"
     ]
    },
    {
     "data": {
      "text/html": [
       "<div>\n",
       "<style scoped>\n",
       "    .dataframe tbody tr th:only-of-type {\n",
       "        vertical-align: middle;\n",
       "    }\n",
       "\n",
       "    .dataframe tbody tr th {\n",
       "        vertical-align: top;\n",
       "    }\n",
       "\n",
       "    .dataframe thead th {\n",
       "        text-align: right;\n",
       "    }\n",
       "</style>\n",
       "<table border=\"1\" class=\"dataframe\">\n",
       "  <thead>\n",
       "    <tr style=\"text-align: right;\">\n",
       "      <th></th>\n",
       "      <th>_id</th>\n",
       "      <th>full_text</th>\n",
       "      <th>BE-00-00-00-00</th>\n",
       "      <th>BE-01-00-00-00</th>\n",
       "    </tr>\n",
       "  </thead>\n",
       "  <tbody>\n",
       "    <tr>\n",
       "      <th>0</th>\n",
       "      <td>5b60e59cda52255c20cff794</td>\n",
       "      <td>Will he serve time?. Long story short my broth...</td>\n",
       "      <td>0.0</td>\n",
       "      <td>0.0</td>\n",
       "    </tr>\n",
       "    <tr>\n",
       "      <th>1</th>\n",
       "      <td>5b60e59cda52255c20cff79a</td>\n",
       "      <td>Groundwater leaking out of street 24/7. Ground...</td>\n",
       "      <td>0.0</td>\n",
       "      <td>0.0</td>\n",
       "    </tr>\n",
       "    <tr>\n",
       "      <th>2</th>\n",
       "      <td>5b60e59cda52255c20cff7a0</td>\n",
       "      <td>How do I get my mom's license taken away. My m...</td>\n",
       "      <td>0.0</td>\n",
       "      <td>0.0</td>\n",
       "    </tr>\n",
       "    <tr>\n",
       "      <th>3</th>\n",
       "      <td>5b60e59cda52255c20cff7bf</td>\n",
       "      <td>My boss hasn't paid me. What do i do?. I work ...</td>\n",
       "      <td>NaN</td>\n",
       "      <td>NaN</td>\n",
       "    </tr>\n",
       "    <tr>\n",
       "      <th>4</th>\n",
       "      <td>5b60e59cda52255c20cff7b8</td>\n",
       "      <td>[Texas] I signed a non-compete contract, but t...</td>\n",
       "      <td>0.0</td>\n",
       "      <td>0.0</td>\n",
       "    </tr>\n",
       "    <tr>\n",
       "      <th>...</th>\n",
       "      <td>...</td>\n",
       "      <td>...</td>\n",
       "      <td>...</td>\n",
       "      <td>...</td>\n",
       "    </tr>\n",
       "    <tr>\n",
       "      <th>2772</th>\n",
       "      <td>5b60e66dda52255c20df433f</td>\n",
       "      <td>Do you and your parents get deported because o...</td>\n",
       "      <td>0.0</td>\n",
       "      <td>0.0</td>\n",
       "    </tr>\n",
       "    <tr>\n",
       "      <th>2773</th>\n",
       "      <td>5b60e66dda52255c20df43ae</td>\n",
       "      <td>Wondering the legality of a minor (me) being a...</td>\n",
       "      <td>0.0</td>\n",
       "      <td>0.0</td>\n",
       "    </tr>\n",
       "    <tr>\n",
       "      <th>2774</th>\n",
       "      <td>5b60e66dda52255c20df4462</td>\n",
       "      <td>Can I sue a billion dollar company in small cl...</td>\n",
       "      <td>0.0</td>\n",
       "      <td>0.0</td>\n",
       "    </tr>\n",
       "    <tr>\n",
       "      <th>2775</th>\n",
       "      <td>5b60e66dda52255c20df4448</td>\n",
       "      <td>Sued by creditor and currently in settlement n...</td>\n",
       "      <td>0.0</td>\n",
       "      <td>0.0</td>\n",
       "    </tr>\n",
       "    <tr>\n",
       "      <th>2776</th>\n",
       "      <td>5b60e66dda52255c20df4491</td>\n",
       "      <td>(CA) Sales job. Income based on performance. A...</td>\n",
       "      <td>0.0</td>\n",
       "      <td>0.0</td>\n",
       "    </tr>\n",
       "  </tbody>\n",
       "</table>\n",
       "<p>2777 rows × 4 columns</p>\n",
       "</div>"
      ],
      "text/plain": [
       "                           _id  \\\n",
       "0     5b60e59cda52255c20cff794   \n",
       "1     5b60e59cda52255c20cff79a   \n",
       "2     5b60e59cda52255c20cff7a0   \n",
       "3     5b60e59cda52255c20cff7bf   \n",
       "4     5b60e59cda52255c20cff7b8   \n",
       "...                        ...   \n",
       "2772  5b60e66dda52255c20df433f   \n",
       "2773  5b60e66dda52255c20df43ae   \n",
       "2774  5b60e66dda52255c20df4462   \n",
       "2775  5b60e66dda52255c20df4448   \n",
       "2776  5b60e66dda52255c20df4491   \n",
       "\n",
       "                                              full_text  BE-00-00-00-00  \\\n",
       "0     Will he serve time?. Long story short my broth...             0.0   \n",
       "1     Groundwater leaking out of street 24/7. Ground...             0.0   \n",
       "2     How do I get my mom's license taken away. My m...             0.0   \n",
       "3     My boss hasn't paid me. What do i do?. I work ...             NaN   \n",
       "4     [Texas] I signed a non-compete contract, but t...             0.0   \n",
       "...                                                 ...             ...   \n",
       "2772  Do you and your parents get deported because o...             0.0   \n",
       "2773  Wondering the legality of a minor (me) being a...             0.0   \n",
       "2774  Can I sue a billion dollar company in small cl...             0.0   \n",
       "2775  Sued by creditor and currently in settlement n...             0.0   \n",
       "2776  (CA) Sales job. Income based on performance. A...             0.0   \n",
       "\n",
       "      BE-01-00-00-00  \n",
       "0                0.0  \n",
       "1                0.0  \n",
       "2                0.0  \n",
       "3                NaN  \n",
       "4                0.0  \n",
       "...              ...  \n",
       "2772             0.0  \n",
       "2773             0.0  \n",
       "2774             0.0  \n",
       "2775             0.0  \n",
       "2776             0.0  \n",
       "\n",
       "[2777 rows x 4 columns]"
      ]
     },
     "execution_count": 2,
     "metadata": {},
     "output_type": "execute_result"
    }
   ],
   "source": [
    "url = 'https://raw.githubusercontent.com/heeh/legal_issue_classification/master/2019-12-06_95p-confidence_binary.csv'\n",
    "df = pd.read_csv(url)\n",
    "df.info()\n",
    "df.iloc[:,:4]"
   ]
  },
  {
   "cell_type": "markdown",
   "metadata": {
    "janus": {
     "all_versions_showing": false,
     "cell_hidden": false,
     "current_version": 0,
     "id": "1c9646a6871a5",
     "named_versions": [],
     "output_hidden": false,
     "show_versions": false,
     "source_hidden": false,
     "versions": []
    }
   },
   "source": [
    "## Null and Rowsum Check"
   ]
  },
  {
   "cell_type": "code",
   "execution_count": 3,
   "metadata": {
    "colab": {
     "base_uri": "https://localhost:8080/",
     "height": 1000
    },
    "colab_type": "code",
    "executionInfo": {
     "elapsed": 8575,
     "status": "ok",
     "timestamp": 1582551062684,
     "user": {
      "displayName": "Hee Hwang",
      "photoUrl": "",
      "userId": "05361436400321274076"
     },
     "user_tz": 300
    },
    "id": "LWh8RtxFlhKT",
    "janus": {
     "all_versions_showing": false,
     "cell_hidden": true,
     "current_version": 0,
     "id": "46f3ebdce3ec5",
     "named_versions": [],
     "output_hidden": true,
     "show_versions": false,
     "source_hidden": true,
     "versions": []
    },
    "outputId": "8a2616da-2389-4142-c19a-4fadc1b86d66"
   },
   "outputs": [],
   "source": [
    "\n",
    "#Null Check\n",
    "#df.isnull().sum()\n",
    "\n",
    "# Class Check - Remove every column that has zero sum. \n",
    "df = df.loc[:, df.sum(axis=0, skipna=True) != 0]\n",
    "temp = df.sum(axis = 0, skipna = True)\n",
    "\n",
    "\n",
    "#df.info()\n"
   ]
  },
  {
   "cell_type": "markdown",
   "metadata": {
    "janus": {
     "all_versions_showing": false,
     "cell_hidden": false,
     "current_version": 0,
     "id": "6b5f506275a07",
     "named_versions": [],
     "output_hidden": false,
     "show_versions": false,
     "source_hidden": false,
     "versions": []
    }
   },
   "source": [
    "# Remove columns that have <10 positive classes"
   ]
  },
  {
   "cell_type": "code",
   "execution_count": 4,
   "metadata": {
    "janus": {
     "all_versions_showing": false,
     "cell_hidden": true,
     "current_version": 0,
     "id": "da6bfdef8ea13",
     "named_versions": [],
     "output_hidden": true,
     "show_versions": false,
     "source_hidden": true,
     "versions": []
    }
   },
   "outputs": [
    {
     "name": "stdout",
     "output_type": "stream",
     "text": [
      "88\n",
      "36\n",
      "['_id', 'full_text', 'BE-00-00-00-00', 'BU-00-00-00-00', 'CO-00-00-00-00', 'CR-00-00-00-00', 'CR-01-00-00-00', 'CR-04-00-00-00', 'CR-06-00-00-00', 'CR-10-00-00-00', 'ED-00-00-00-00', 'ES-00-00-00-00', 'ES-01-00-00-00', 'ES-03-00-00-00', 'FA-00-00-00-00', 'FA-05-00-00-00', 'FA-06-00-00-00', 'FA-07-00-00-00', 'GO-00-00-00-00', 'HE-00-00-00-00', 'HO-00-00-00-00', 'HO-06-00-00-00', 'HO-09-00-00-00', 'IM-00-00-00-00', 'MO-00-00-00-00', 'MO-02-00-00-00', 'MO-07-00-00-00', 'MO-10-00-00-00', 'RI-00-00-00-00', 'TO-00-00-00-00', 'TR-00-00-00-00', 'TR-01-00-00-00', 'TR-02-00-00-00', 'TR-03-00-00-00', 'TR-04-00-00-00', 'TR-05-00-00-00', 'WO-00-00-00-00', 'WO-03-00-00-00']\n",
      "38\n"
     ]
    },
    {
     "data": {
      "text/plain": [
       "_id               5b60e59cda52255c20cff7945b60e59cda52255c20cff7...\n",
       "full_text         Will he serve time?. Long story short my broth...\n",
       "BE-00-00-00-00                                                   27\n",
       "BU-00-00-00-00                                                   93\n",
       "CO-00-00-00-00                                                  106\n",
       "CR-00-00-00-00                                                  302\n",
       "CR-01-00-00-00                                                   12\n",
       "CR-04-00-00-00                                                   13\n",
       "CR-06-00-00-00                                                   11\n",
       "CR-10-00-00-00                                                   11\n",
       "ED-00-00-00-00                                                   24\n",
       "ES-00-00-00-00                                                   78\n",
       "ES-01-00-00-00                                                   10\n",
       "ES-03-00-00-00                                                   13\n",
       "FA-00-00-00-00                                                  357\n",
       "FA-05-00-00-00                                                   10\n",
       "FA-06-00-00-00                                                   10\n",
       "FA-07-00-00-00                                                   41\n",
       "GO-00-00-00-00                                                   13\n",
       "HE-00-00-00-00                                                  122\n",
       "HO-00-00-00-00                                                  550\n",
       "HO-06-00-00-00                                                   34\n",
       "HO-09-00-00-00                                                   27\n",
       "IM-00-00-00-00                                                   36\n",
       "MO-00-00-00-00                                                  366\n",
       "MO-02-00-00-00                                                   12\n",
       "MO-07-00-00-00                                                   13\n",
       "MO-10-00-00-00                                                   11\n",
       "RI-00-00-00-00                                                   22\n",
       "TO-00-00-00-00                                                  230\n",
       "TR-00-00-00-00                                                  260\n",
       "TR-01-00-00-00                                                   22\n",
       "TR-02-00-00-00                                                   29\n",
       "TR-03-00-00-00                                                   17\n",
       "TR-04-00-00-00                                                   20\n",
       "TR-05-00-00-00                                                   31\n",
       "WO-00-00-00-00                                                  387\n",
       "WO-03-00-00-00                                                   10\n",
       "dtype: object"
      ]
     },
     "execution_count": 4,
     "metadata": {},
     "output_type": "execute_result"
    }
   ],
   "source": [
    "oldCols = list(df.columns)\n",
    "print(len(oldCols))\n",
    "\n",
    "newCols = []\n",
    "for i,x in temp[2:].items():\n",
    "    if x >= 10:\n",
    "        newCols.append(i)\n",
    "        \n",
    "print(len(newCols))\n",
    "\n",
    "cols = oldCols[:2] + newCols\n",
    "\n",
    "print(cols)\n",
    "print(len(cols))\n",
    "\n",
    "df = df[cols]\n",
    "\n",
    "df.sum(axis=0, skipna=True)"
   ]
  },
  {
   "cell_type": "markdown",
   "metadata": {
    "colab_type": "text",
    "id": "zB9yYBXlrN7p",
    "janus": {
     "all_versions_showing": false,
     "cell_hidden": false,
     "current_version": 0,
     "id": "8f56427cc56eb",
     "named_versions": [],
     "output_hidden": false,
     "show_versions": false,
     "source_hidden": false,
     "versions": []
    }
   },
   "source": [
    "# Tiny Example: Crime and Prison(CR-00-00-00-00)\n"
   ]
  },
  {
   "cell_type": "markdown",
   "metadata": {
    "colab_type": "text",
    "id": "KoY-GYaJeHkk",
    "janus": {
     "all_versions_showing": false,
     "cell_hidden": false,
     "current_version": 0,
     "id": "cf617134b9c83",
     "named_versions": [],
     "output_hidden": false,
     "show_versions": false,
     "source_hidden": false,
     "versions": []
    }
   },
   "source": [
    "## Preprocessing (DONE)"
   ]
  },
  {
   "cell_type": "code",
   "execution_count": 5,
   "metadata": {
    "colab": {
     "base_uri": "https://localhost:8080/",
     "height": 663
    },
    "colab_type": "code",
    "executionInfo": {
     "elapsed": 8562,
     "status": "ok",
     "timestamp": 1582551062685,
     "user": {
      "displayName": "Hee Hwang",
      "photoUrl": "",
      "userId": "05361436400321274076"
     },
     "user_tz": 300
    },
    "id": "8WqotY32rOEs",
    "janus": {
     "all_versions_showing": false,
     "cell_hidden": true,
     "current_version": 0,
     "id": "455af60adbcad",
     "named_versions": [],
     "output_hidden": true,
     "show_versions": false,
     "source_hidden": true,
     "versions": []
    },
    "outputId": "b16f4dc2-bb9c-43d8-ad00-083a13c9b77e"
   },
   "outputs": [],
   "source": [
    "from collections import defaultdict\n",
    "verbose = True\n",
    "def preprocessing(dfset: defaultdict, cls: str):\n",
    "    dfset[cls] = df.loc[:, ['_id', 'full_text', cls]]\n",
    "    labels = dfset[cls].iloc[:,2]\n",
    "    if verbose:\n",
    "        print(\"------------Before dropping nan----------------------------------------\")\n",
    "        print(dfset[cls].iloc[:,1:])\n",
    "        print(labels.value_counts(dropna=False))\n",
    "    \n",
    "    dfset[cls] = dfset[cls].dropna()\n",
    "    labels = dfset[cls].iloc[:,2]\n",
    "    if verbose:\n",
    "        print(\"\\n------------After dropping nan---------------------------------------\")\n",
    "        print(dfset[cls].iloc[:,1:])\n",
    "        print(labels.value_counts(dropna=False))\n",
    "\n"
   ]
  },
  {
   "cell_type": "markdown",
   "metadata": {
    "janus": {
     "all_versions_showing": false,
     "cell_hidden": false,
     "current_version": 0,
     "id": "11459136fca6",
     "named_versions": [],
     "output_hidden": false,
     "show_versions": false,
     "source_hidden": false,
     "versions": []
    }
   },
   "source": [
    "## Data Preparation"
   ]
  },
  {
   "cell_type": "code",
   "execution_count": 6,
   "metadata": {
    "janus": {
     "all_versions_showing": false,
     "cell_hidden": true,
     "current_version": 0,
     "id": "11e5448bf4137",
     "named_versions": [],
     "output_hidden": true,
     "show_versions": false,
     "source_hidden": true,
     "versions": []
    }
   },
   "outputs": [
    {
     "name": "stdout",
     "output_type": "stream",
     "text": [
      "------------Before dropping nan----------------------------------------\n",
      "                                              full_text  CR-00-00-00-00\n",
      "0     Will he serve time?. Long story short my broth...             1.0\n",
      "1     Groundwater leaking out of street 24/7. Ground...             0.0\n",
      "2     How do I get my mom's license taken away. My m...             NaN\n",
      "3     My boss hasn't paid me. What do i do?. I work ...             0.0\n",
      "4     [Texas] I signed a non-compete contract, but t...             0.0\n",
      "...                                                 ...             ...\n",
      "2772  Do you and your parents get deported because o...             1.0\n",
      "2773  Wondering the legality of a minor (me) being a...             0.0\n",
      "2774  Can I sue a billion dollar company in small cl...             0.0\n",
      "2775  Sued by creditor and currently in settlement n...             0.0\n",
      "2776  (CA) Sales job. Income based on performance. A...             0.0\n",
      "\n",
      "[2777 rows x 2 columns]\n",
      "0.0    1377\n",
      "NaN    1098\n",
      "1.0     302\n",
      "Name: CR-00-00-00-00, dtype: int64\n",
      "\n",
      "------------After dropping nan---------------------------------------\n",
      "                                              full_text  CR-00-00-00-00\n",
      "0     Will he serve time?. Long story short my broth...             1.0\n",
      "1     Groundwater leaking out of street 24/7. Ground...             0.0\n",
      "3     My boss hasn't paid me. What do i do?. I work ...             0.0\n",
      "4     [Texas] I signed a non-compete contract, but t...             0.0\n",
      "6     Eviction. I got an eviction notice from my lan...             0.0\n",
      "...                                                 ...             ...\n",
      "2772  Do you and your parents get deported because o...             1.0\n",
      "2773  Wondering the legality of a minor (me) being a...             0.0\n",
      "2774  Can I sue a billion dollar company in small cl...             0.0\n",
      "2775  Sued by creditor and currently in settlement n...             0.0\n",
      "2776  (CA) Sales job. Income based on performance. A...             0.0\n",
      "\n",
      "[1679 rows x 2 columns]\n",
      "0.0    1377\n",
      "1.0     302\n",
      "Name: CR-00-00-00-00, dtype: int64\n"
     ]
    }
   ],
   "source": [
    "\n",
    "cls = 'CR-00-00-00-00'\n",
    "dfset = defaultdict() \n",
    "preprocessing(dfset, cls)    \n",
    "\n",
    "#    model[cls] = make_pipeline(TfidfVectorizer(), MultinomialNB())\n",
    "tinydf = dfset[cls]\n",
    "X = tinydf['full_text'].values\n",
    "Y = tinydf[cls].values\n"
   ]
  },
  {
   "cell_type": "markdown",
   "metadata": {
    "janus": {
     "all_versions_showing": false,
     "cell_hidden": false,
     "current_version": 0,
     "id": "c3f6dd86ac10d",
     "named_versions": [],
     "output_hidden": false,
     "show_versions": false,
     "source_hidden": false,
     "versions": []
    }
   },
   "source": [
    "## TF-IDF using stopwords, ngram, and C value (TODO)"
   ]
  },
  {
   "cell_type": "code",
   "execution_count": 7,
   "metadata": {
    "janus": {
     "all_versions_showing": false,
     "cell_hidden": false,
     "current_version": 0,
     "id": "722be740702ee",
     "named_versions": [],
     "output_hidden": false,
     "show_versions": false,
     "source_hidden": false,
     "versions": []
    }
   },
   "outputs": [
    {
     "name": "stdout",
     "output_type": "stream",
     "text": [
      "accuracy : 0.9659\n",
      "precision: 0.9048\n",
      "recall   : 0.8261\n",
      "fscore   : 0.8636\n",
      "Fitting 3 folds for each of 5 candidates, totalling 15 fits\n"
     ]
    },
    {
     "name": "stderr",
     "output_type": "stream",
     "text": [
      "[Parallel(n_jobs=1)]: Using backend SequentialBackend with 1 concurrent workers.\n"
     ]
    },
    {
     "name": "stdout",
     "output_type": "stream",
     "text": [
      "{'C': 0.01}\n"
     ]
    },
    {
     "name": "stderr",
     "output_type": "stream",
     "text": [
      "[Parallel(n_jobs=1)]: Done  15 out of  15 | elapsed:    5.0s finished\n"
     ]
    }
   ],
   "source": [
    "import sys\n",
    "from sklearn.linear_model import LogisticRegression\n",
    "from sklearn.metrics import precision_recall_fscore_support as score\n",
    "p = len(X) // 10 * 9\n",
    "tfidf_vect = TfidfVectorizer(stop_words='english', ngram_range=(1, 2), max_df=300 )\n",
    "tfidf_vect.fit(X[0:p])\n",
    "X_train_tfidf_vect = tfidf_vect.transform(X[0:p])\n",
    "X_test_tfidf_vect = tfidf_vect.transform(X[p:])\n",
    "lr_clf = LogisticRegression(solver='lbfgs', class_weight='balanced')\n",
    "lr_clf.fit(X_train_tfidf_vect, Y[0:p])\n",
    "preds = lr_clf.predict(X_test_tfidf_vect)\n",
    "precision, recall, fscore, support = score(Y[p:], preds, average='binary')\n",
    "print('accuracy : {0:.4f}'.format(accuracy_score(Y[p:], preds)))\n",
    "print('precision: {0:.4f}'.format(precision))\n",
    "print('recall   : {0:.4f}'.format(recall))\n",
    "print('fscore   : {0:.4f}'.format(fscore))\n",
    "\n",
    "\n",
    "from sklearn.model_selection import GridSearchCV\n",
    "\n",
    "params = {'C':[0.01, 0.1, 1, 5, 10]}\n",
    "grid_cv_lr = GridSearchCV(lr_clf,param_grid=params, cv=3, scoring='accuracy', verbose=1)\n",
    "grid_cv_lr.fit(X_train_tfidf_vect, Y[:p])\n",
    "print(grid_cv_lr.best_params_)"
   ]
  },
  {
   "cell_type": "markdown",
   "metadata": {
    "janus": {
     "all_versions_showing": false,
     "cell_hidden": false,
     "current_version": 0,
     "id": "ce9f4cfe845d9",
     "named_versions": [],
     "output_hidden": false,
     "show_versions": false,
     "source_hidden": false,
     "versions": []
    }
   },
   "source": [
    "## Train & Predict (9:1 ratio) (DONE)"
   ]
  },
  {
   "cell_type": "code",
   "execution_count": 8,
   "metadata": {
    "janus": {
     "all_versions_showing": false,
     "cell_hidden": true,
     "current_version": 0,
     "id": "a2c6503ce54bd",
     "named_versions": [],
     "output_hidden": true,
     "show_versions": false,
     "source_hidden": true,
     "versions": []
    }
   },
   "outputs": [
    {
     "name": "stdout",
     "output_type": "stream",
     "text": [
      "[0. 0. 0. 0. 0. 0. 0. 0. 0. 0. 1. 1. 0. 0. 0. 0. 0. 0. 0. 0. 0. 0. 0. 1.\n",
      " 1. 0. 0. 0. 0. 0. 1. 0. 0. 0. 0. 0. 0. 0. 0. 0. 1. 0. 0. 0. 0. 0. 0. 0.\n",
      " 0. 0. 0. 0. 0. 0. 0. 0. 1. 0. 0. 0. 0. 0. 0. 1. 0. 0. 0. 0. 0. 0. 0. 0.\n",
      " 0. 1. 0. 0. 0. 1. 0. 1. 0. 0. 0. 0. 0. 1. 0. 0. 0. 0. 0. 0. 0. 0. 0. 0.\n",
      " 0. 0. 0. 0. 1. 0. 0. 0. 0. 1. 0. 0. 0. 0. 0. 0. 0. 0. 0. 0. 0. 0. 0. 1.\n",
      " 1. 0. 0. 0. 0. 0. 0. 1. 0. 0. 0. 0. 0. 0. 0. 0. 0. 0. 0. 0. 0. 0. 0. 0.\n",
      " 0. 0. 0. 0. 0. 0. 0. 1. 0. 0. 1. 0. 0. 0. 0. 0. 0. 0. 0. 0. 0. 0. 1. 0.\n",
      " 0. 0. 0. 1. 0. 0. 0. 0.]\n",
      "accuracy: 0.9659090909090909\n",
      "precision: [0.97419355 0.9047619 ]\n",
      "recall: [0.9869281  0.82608696]\n",
      "fscore: [0.98051948 0.86363636]\n",
      "support: [153  23]\n"
     ]
    }
   ],
   "source": [
    "from sklearn.pipeline import Pipeline\n",
    "\n",
    "model_dict = defaultdict()\n",
    "model_dict[cls] = Pipeline([\n",
    "    ('tfidf_vect', TfidfVectorizer(stop_words='english', ngram_range=(1,2), max_df=300)),\n",
    "    ('lr_clf', LogisticRegression(solver='lbfgs',class_weight='balanced', C=0.01))\n",
    "])\n",
    "p = len(X) // 10 * 9\n",
    "\n",
    "model_dict[cls].fit(X[0:p], Y[0:p])\n",
    "preds = model_dict[cls].predict(X[p:])\n",
    "print(preds)\n",
    "accuracy = accuracy_score(Y[p:], preds)\n",
    "precision, recall, fscore, support = score(Y[p:], preds)\n",
    "print('accuracy: {}'.format(accuracy))\n",
    "print('precision: {}'.format(precision))\n",
    "print('recall: {}'.format(recall))\n",
    "print('fscore: {}'.format(fscore))\n",
    "print('support: {}'.format(support))"
   ]
  },
  {
   "cell_type": "markdown",
   "metadata": {},
   "source": [
    "## Download GloVe"
   ]
  },
  {
   "cell_type": "code",
   "execution_count": 9,
   "metadata": {},
   "outputs": [],
   "source": [
    "#!wget http://nlp.stanford.edu/data/glove.6B.zip"
   ]
  },
  {
   "cell_type": "markdown",
   "metadata": {},
   "source": [
    "## Unzip"
   ]
  },
  {
   "cell_type": "code",
   "execution_count": 12,
   "metadata": {},
   "outputs": [],
   "source": [
    "#!unzip glove.6B.zip"
   ]
  },
  {
   "cell_type": "code",
   "execution_count": 14,
   "metadata": {},
   "outputs": [
    {
     "name": "stdout",
     "output_type": "stream",
     "text": [
      "[0. 0. 0. 0. 0. 0. 0. 0. 0. 0. 0. 0. 0. 0. 0. 0. 0. 0. 0. 0. 0. 0. 0. 0.\n",
      " 0. 0. 0. 0. 0. 0. 0. 0. 0. 0. 0. 0. 0. 0. 0. 0. 0. 0. 0. 0. 0. 0. 0. 0.\n",
      " 0. 0. 0. 0. 0. 0. 0. 0. 0. 0. 0. 0. 0. 0. 0. 0. 0. 0. 0. 0. 0. 0. 0. 0.\n",
      " 0. 0. 0. 0. 0. 0. 0. 0. 0. 0. 0. 0. 0. 0. 0. 0. 0. 0. 0. 0. 0. 0. 0. 0.\n",
      " 0. 0. 0. 0. 0. 0. 0. 0. 0. 0. 0. 0. 0. 0. 0. 0. 0. 0. 0. 0. 0. 0. 0. 0.\n",
      " 0. 0. 0. 0. 0. 0. 0. 0. 0. 0. 0. 0. 0. 0. 0. 0. 0. 0. 0. 0. 0. 0. 0. 0.\n",
      " 0. 0. 0. 0. 0. 0. 0. 0. 0. 0. 0. 0. 0. 0. 0. 0. 0. 0. 0. 0. 0. 0. 0. 0.\n",
      " 0. 0. 0. 0. 0. 0. 0. 0.]\n",
      "accuracy: 0.8693181818181818\n",
      "precision: [0.86931818 0.        ]\n",
      "recall: [1. 0.]\n",
      "fscore: [0.93009119 0.        ]\n",
      "support: [153  23]\n"
     ]
    },
    {
     "name": "stderr",
     "output_type": "stream",
     "text": [
      "/Users/heeh/.pyenv/versions/3.8.0/lib/python3.8/site-packages/sklearn/metrics/_classification.py:1272: UndefinedMetricWarning: Precision and F-score are ill-defined and being set to 0.0 in labels with no predicted samples. Use `zero_division` parameter to control this behavior.\n",
      "  _warn_prf(average, modifier, msg_start, len(result))\n"
     ]
    }
   ],
   "source": [
    "from sklearn.pipeline import Pipeline\n",
    "\n",
    "import numpy as np\n",
    "\n",
    "#with open(\"glove.6B.50d.txt\", \"rb\") as lines:\n",
    "#    w2v = {line.split()[0]: np.array(map(float, line.split()[1:]))\n",
    "#           for line in lines}\n",
    "w2v = {}\n",
    "with open(\"glove.6B.50d.txt\", \"rb\") as lines:\n",
    "    for line in lines:\n",
    "        val = []\n",
    "        key = line.split()[0]\n",
    "        raw = line.split()[1:]\n",
    "        for x in raw:\n",
    "            val.append(float(x))\n",
    "        w2v[key] = val\n",
    "\n",
    "\n",
    "'''    \n",
    "i = 0\n",
    "for k,v in w2v.items():\n",
    "    if i == 100:\n",
    "        break\n",
    "    print(k,v)\n",
    "    i += 1\n",
    "'''\n",
    "#sys.exit()\n",
    "class MeanEmbeddingVectorizer(object):\n",
    "    def __init__(self, word2vec):\n",
    "        self.word2vec = word2vec\n",
    "        # if a text is empty we should return a vector of zeros\n",
    "        # with the same dimensionality as all the other vectors\n",
    "        self.dim = 50\n",
    "\n",
    "\n",
    "    def fit(self, X, y):\n",
    "        return self\n",
    "\n",
    "    def transform(self, X):\n",
    "        return np.array([\n",
    "            np.mean([self.word2vec[w] for w in words if w in self.word2vec]\n",
    "                    or [np.zeros(self.dim)], axis=0)\n",
    "            for words in X\n",
    "        ])\n",
    "    \n",
    "\n",
    "\n",
    "model_dict = defaultdict()\n",
    "model_dict[cls] = Pipeline([\n",
    "    (\"word2vec vectorizer\", MeanEmbeddingVectorizer(w2v)),\n",
    "    ('lr_clf', LogisticRegression(solver='lbfgs',class_weight='balanced'))\n",
    "    \n",
    "])\n",
    "\n",
    "\n",
    "\n",
    "p = len(X) // 10 * 9\n",
    "model_dict[cls].fit(X[0:p], Y[0:p])\n",
    "preds = model_dict[cls].predict(X[p:])\n",
    "print(preds)\n",
    "accuracy = accuracy_score(Y[p:], preds)\n",
    "precision, recall, fscore, support = score(Y[p:], preds)\n",
    "print('accuracy: {}'.format(accuracy))\n",
    "print('precision: {}'.format(precision))\n",
    "print('recall: {}'.format(recall))\n",
    "print('fscore: {}'.format(fscore))\n",
    "print('support: {}'.format(support))"
   ]
  },
  {
   "cell_type": "markdown",
   "metadata": {
    "colab_type": "text",
    "id": "7RqERIo1eOdu",
    "janus": {
     "all_versions_showing": false,
     "cell_hidden": false,
     "current_version": 0,
     "id": "54de5a710ee16",
     "named_versions": [],
     "output_hidden": false,
     "show_versions": false,
     "source_hidden": false,
     "versions": []
    }
   },
   "source": [
    "## Calculating Accuracy of One class with 10-fold validation"
   ]
  },
  {
   "cell_type": "code",
   "execution_count": 15,
   "metadata": {
    "colab": {
     "base_uri": "https://localhost:8080/",
     "height": 303,
     "output_embedded_package_id": "1PxVUCnVQb8wuu4EFI-OwITdqWHj2CIGY"
    },
    "colab_type": "code",
    "executionInfo": {
     "elapsed": 5090,
     "status": "error",
     "timestamp": 1582551097612,
     "user": {
      "displayName": "Hee Hwang",
      "photoUrl": "",
      "userId": "05361436400321274076"
     },
     "user_tz": 300
    },
    "id": "nWu_bLQhAoyu",
    "janus": {
     "all_versions_showing": false,
     "cell_hidden": true,
     "current_version": 0,
     "id": "c9abba7f67965",
     "named_versions": [],
     "output_hidden": true,
     "show_versions": false,
     "source_hidden": true,
     "versions": []
    },
    "outputId": "397611e2-daea-40c2-8566-ff8e61176d35"
   },
   "outputs": [
    {
     "name": "stdout",
     "output_type": "stream",
     "text": [
      "------------Before dropping nan----------------------------------------\n",
      "                                              full_text  CR-00-00-00-00\n",
      "0     Will he serve time?. Long story short my broth...             1.0\n",
      "1     Groundwater leaking out of street 24/7. Ground...             0.0\n",
      "2     How do I get my mom's license taken away. My m...             NaN\n",
      "3     My boss hasn't paid me. What do i do?. I work ...             0.0\n",
      "4     [Texas] I signed a non-compete contract, but t...             0.0\n",
      "...                                                 ...             ...\n",
      "2772  Do you and your parents get deported because o...             1.0\n",
      "2773  Wondering the legality of a minor (me) being a...             0.0\n",
      "2774  Can I sue a billion dollar company in small cl...             0.0\n",
      "2775  Sued by creditor and currently in settlement n...             0.0\n",
      "2776  (CA) Sales job. Income based on performance. A...             0.0\n",
      "\n",
      "[2777 rows x 2 columns]\n",
      "0.0    1377\n",
      "NaN    1098\n",
      "1.0     302\n",
      "Name: CR-00-00-00-00, dtype: int64\n",
      "\n",
      "------------After dropping nan---------------------------------------\n",
      "                                              full_text  CR-00-00-00-00\n",
      "0     Will he serve time?. Long story short my broth...             1.0\n",
      "1     Groundwater leaking out of street 24/7. Ground...             0.0\n",
      "3     My boss hasn't paid me. What do i do?. I work ...             0.0\n",
      "4     [Texas] I signed a non-compete contract, but t...             0.0\n",
      "6     Eviction. I got an eviction notice from my lan...             0.0\n",
      "...                                                 ...             ...\n",
      "2772  Do you and your parents get deported because o...             1.0\n",
      "2773  Wondering the legality of a minor (me) being a...             0.0\n",
      "2774  Can I sue a billion dollar company in small cl...             0.0\n",
      "2775  Sued by creditor and currently in settlement n...             0.0\n",
      "2776  (CA) Sales job. Income based on performance. A...             0.0\n",
      "\n",
      "[1679 rows x 2 columns]\n",
      "0.0    1377\n",
      "1.0     302\n",
      "Name: CR-00-00-00-00, dtype: int64\n",
      "------------------------------------\n",
      "\n",
      "0.0    1377\n",
      "1.0     302\n",
      "Name: CR-00-00-00-00, dtype: int64\n",
      "data set size 1679\n"
     ]
    },
    {
     "data": {
      "text/plain": [
       "(0.9339, 0.8438, 0.7842, 0.8088, 30.2)"
      ]
     },
     "execution_count": 15,
     "metadata": {},
     "output_type": "execute_result"
    }
   ],
   "source": [
    "from sklearn.model_selection import KFold\n",
    "from sklearn.model_selection import StratifiedKFold\n",
    "from sklearn.metrics import accuracy_score\n",
    "from sklearn.metrics import precision_score\n",
    "from sklearn.metrics import recall_score\n",
    "from sklearn.metrics import f1_score\n",
    "from sklearn.metrics import precision_recall_fscore_support as score\n",
    "from sklearn.linear_model import LogisticRegression\n",
    "\n",
    "verbose = True\n",
    "    \n",
    "numdoc = defaultdict()\n",
    "def predict_by_class_force(dfset: defaultdict,cls: str) -> float:\n",
    "    global model_dict\n",
    "    preprocessing(dfset, cls)\n",
    "    #    model_dict[cls] = make_pipeline(TfidfVectorizer(), MultinomialNB())\n",
    "    tinydf = dfset[cls]\n",
    "    X = tinydf['full_text'].values\n",
    "    Y = tinydf[cls].values\n",
    "    \n",
    "\n",
    "    print('------------------------------------\\n')\n",
    "    labels = dfset[cls].iloc[:,2]\n",
    "    print(labels.value_counts(dropna=False))\n",
    "\n",
    "    # 10-fold separation with train and test \n",
    "    #kfold = KFold(n_splits=10)\n",
    "    skfold = StratifiedKFold(n_splits=10)\n",
    "    print('data set size', len(X))\n",
    "    numdoc[cls] = len(X)\n",
    "    n_iter = 0\n",
    "    acc_list = []\n",
    "    pre_list = []\n",
    "    rec_list = []\n",
    "    fsc_list = []\n",
    "    sup_list = []\n",
    "\n",
    "    for train_index, test_index in skfold.split(X, Y):\n",
    "#        print('#',n_iter)\n",
    "        X_train, X_test = X[train_index], X[test_index] \n",
    "        Y_train, Y_test = Y[train_index], Y[test_index]\n",
    "        model_dict[cls] = Pipeline([\n",
    "        ('tfidf_vect', TfidfVectorizer(stop_words='english', ngram_range=(1,2), max_df=300)),\n",
    "        ('lr_clf', LogisticRegression(solver='lbfgs', class_weight='balanced', C=0.01))\n",
    "        ])\n",
    "#        model_dict[cls] = make_pipeline(TfidfVectorizer(), MultinomialNB())\n",
    "        model_dict[cls].fit(X_train, Y_train)\n",
    "        preds = model_dict[cls].predict(X_test)\n",
    "        n_iter += 1\n",
    "        #recall = recall_score(Y_test, preds, average='binary')\n",
    "        accuracy = accuracy_score(Y_test, preds)\n",
    "        #precision, recall, fscore, support = score(Y_test, preds, average='binary')\n",
    "        precision, recall, fscore, support = score(Y_test, preds)\n",
    "\n",
    "        # accuracy: (tp + tn) / (p + n)\n",
    "        # precision tp / (tp + fp)\n",
    "        # recall: tp / (tp + fn)\n",
    "        # f1: 2 tp / (2 tp + fp + fn)\n",
    "\n",
    "        train_size = X_train.shape[0]\n",
    "        test_size = X_test.shape[0]\n",
    "        acc_list.append(accuracy)\n",
    "        pre_list.append(precision)\n",
    "        rec_list.append(recall)\n",
    "        fsc_list.append(fscore)\n",
    "        sup_list.append(support)\n",
    "\n",
    "    acc_mean = np.round(np.mean(acc_list), 4)\n",
    "    pre_mean = np.round(np.mean([x[1] for x in pre_list]), 4)\n",
    "    rec_mean = np.round(np.mean([x[1] for x in rec_list]), 4)\n",
    "    fsc_mean = np.round(np.mean([x[1] for x in fsc_list]), 4)\n",
    "    sup_mean = np.round(np.mean([x[1] for x in sup_list]), 4)\n",
    "    return (acc_mean, pre_mean, rec_mean, fsc_mean, sup_mean)\n",
    "\n",
    "#cls = 'BE-00-00-00-00'\n",
    "cls = 'CR-00-00-00-00'\n",
    "predict_by_class_force(dfset, cls)"
   ]
  },
  {
   "cell_type": "markdown",
   "metadata": {},
   "source": [
    "## Without Stratified K Fold"
   ]
  },
  {
   "cell_type": "code",
   "execution_count": 16,
   "metadata": {},
   "outputs": [
    {
     "name": "stdout",
     "output_type": "stream",
     "text": [
      "------------------------------------\n",
      "\n",
      "0.0    1377\n",
      "1.0     302\n",
      "Name: CR-00-00-00-00, dtype: int64\n",
      "data set size 1679\n"
     ]
    },
    {
     "data": {
      "text/plain": [
       "(0.9357, 0.844, 0.7881, 0.8151, 302)"
      ]
     },
     "execution_count": 16,
     "metadata": {},
     "output_type": "execute_result"
    }
   ],
   "source": [
    "from sklearn.model_selection import KFold\n",
    "from sklearn.model_selection import StratifiedKFold\n",
    "from sklearn.metrics import accuracy_score\n",
    "from sklearn.metrics import precision_score\n",
    "from sklearn.metrics import recall_score\n",
    "from sklearn.metrics import f1_score\n",
    "from sklearn.metrics import precision_recall_fscore_support as score\n",
    "from sklearn.linear_model import LogisticRegression\n",
    "\n",
    "verbose = False\n",
    "    \n",
    "numdoc = defaultdict()\n",
    "def predict_by_class(dfset: defaultdict,cls: str) -> float:\n",
    "    global model_dict\n",
    "    preprocessing(dfset, cls)\n",
    "    #    model_dict[cls] = make_pipeline(TfidfVectorizer(), MultinomialNB())\n",
    "    tinydf = dfset[cls]\n",
    "    X = tinydf['full_text'].values\n",
    "    Y = tinydf[cls].values\n",
    "    \n",
    "\n",
    "    print('------------------------------------\\n')\n",
    "    labels = dfset[cls].iloc[:,2]\n",
    "    print(labels.value_counts(dropna=False))\n",
    "\n",
    "    # 10-fold separation with train and test \n",
    "    #kfold = KFold(n_splits=10)\n",
    "    kfold = KFold(n_splits=10)\n",
    "    print('data set size', len(X))\n",
    "    numdoc[cls] = len(X)\n",
    "    n_iter = 0\n",
    "    acc_list = []\n",
    "    pre_list = []\n",
    "    rec_list = []\n",
    "    fsc_list = []\n",
    "    sup_list = []\n",
    "\n",
    "    \n",
    "    preds = [0] * len(Y)\n",
    "\n",
    "    for train_index, test_index in kfold.split(X, Y):\n",
    "        X_train, X_test = X[train_index], X[test_index] \n",
    "        Y_train, Y_test = Y[train_index], Y[test_index]\n",
    "        \n",
    "        model_dict[cls] = Pipeline([\n",
    "        ('tfidf_vect', TfidfVectorizer(stop_words='english', ngram_range=(1,2), max_df=300)),\n",
    "        ('lr_clf', LogisticRegression(solver='lbfgs', class_weight='balanced', C=0.01))\n",
    "        ])\n",
    "        model_dict[cls].fit(X_train, Y_train)\n",
    "        out = model_dict[cls].predict(X_test)\n",
    "\n",
    "        #print(len(out))\n",
    "        i = 0\n",
    "        for x in test_index:\n",
    "            preds[x] = out[i]\n",
    "            i += 1\n",
    "            \n",
    "        #print(preds)\n",
    "\n",
    "        n_iter += 1\n",
    "    accuracy = accuracy_score(Y, preds)\n",
    "    precision, recall, fscore, support = score(Y, preds)\n",
    "    # accuracy: (tp + tn) / (p + n)\n",
    "    # precision tp / (tp + fp)\n",
    "    # recall: tp / (tp + fn)\n",
    "    # f1: 2 tp / (2 tp + fp + fn)\n",
    "    accuracy = np.round(accuracy, 4)\n",
    "    precision[1] = np.round(precision[1], 4)\n",
    "    recall[1] = np.round(recall[1], 4)\n",
    "    fscore[1] = np.round(fscore[1], 4)\n",
    "    support[1] = np.round(support[1], 4)\n",
    "    \n",
    "    \n",
    "    return (accuracy, precision[1], recall[1], fscore[1], support[1])\n",
    "\n",
    "\n",
    "\n",
    "#cls = 'BE-00-00-00-00'\n",
    "cls = 'CR-00-00-00-00'\n",
    "predict_by_class(dfset, cls)"
   ]
  },
  {
   "cell_type": "markdown",
   "metadata": {
    "colab_type": "text",
    "id": "ZqPjMWHLfCWn",
    "janus": {
     "all_versions_showing": false,
     "cell_hidden": false,
     "current_version": 0,
     "id": "6d16c3e0c6dac",
     "named_versions": [],
     "output_hidden": false,
     "show_versions": false,
     "source_hidden": false,
     "versions": []
    }
   },
   "source": [
    "# Entire Data "
   ]
  },
  {
   "cell_type": "markdown",
   "metadata": {
    "colab_type": "text",
    "id": "QLxJKWdxfQEs",
    "janus": {
     "all_versions_showing": false,
     "cell_hidden": false,
     "current_version": 0,
     "id": "1f636377bc915",
     "named_versions": [],
     "output_hidden": false,
     "show_versions": false,
     "source_hidden": false,
     "versions": []
    }
   },
   "source": [
    "## Build Models and Calculating Accuracies"
   ]
  },
  {
   "cell_type": "code",
   "execution_count": 17,
   "metadata": {
    "colab": {},
    "colab_type": "code",
    "id": "nJUvNbLprOTe",
    "janus": {
     "all_versions_showing": false,
     "cell_hidden": true,
     "current_version": 0,
     "id": "381e7a94d7c67",
     "named_versions": [],
     "output_hidden": true,
     "show_versions": false,
     "source_hidden": true,
     "versions": []
    }
   },
   "outputs": [
    {
     "name": "stdout",
     "output_type": "stream",
     "text": [
      "Index(['BE-00-00-00-00', 'BU-00-00-00-00', 'CO-00-00-00-00', 'CR-00-00-00-00',\n",
      "       'CR-01-00-00-00', 'CR-04-00-00-00', 'CR-06-00-00-00', 'CR-10-00-00-00',\n",
      "       'ED-00-00-00-00', 'ES-00-00-00-00', 'ES-01-00-00-00', 'ES-03-00-00-00',\n",
      "       'FA-00-00-00-00', 'FA-05-00-00-00', 'FA-06-00-00-00', 'FA-07-00-00-00',\n",
      "       'GO-00-00-00-00', 'HE-00-00-00-00', 'HO-00-00-00-00', 'HO-06-00-00-00',\n",
      "       'HO-09-00-00-00', 'IM-00-00-00-00', 'MO-00-00-00-00', 'MO-02-00-00-00',\n",
      "       'MO-07-00-00-00', 'MO-10-00-00-00', 'RI-00-00-00-00', 'TO-00-00-00-00',\n",
      "       'TR-00-00-00-00', 'TR-01-00-00-00', 'TR-02-00-00-00', 'TR-03-00-00-00',\n",
      "       'TR-04-00-00-00', 'TR-05-00-00-00', 'WO-00-00-00-00', 'WO-03-00-00-00'],\n",
      "      dtype='object')\n",
      "------------------------------------\n",
      "\n",
      "0.0    1821\n",
      "1.0      27\n",
      "Name: BE-00-00-00-00, dtype: int64\n",
      "data set size 1848\n",
      "statistics (0.9859, 1.0, 0.037, 0.0714, 27)\n",
      "------------------------------------\n",
      "\n",
      "0.0    1497\n",
      "1.0      93\n",
      "Name: BU-00-00-00-00, dtype: int64\n",
      "data set size 1590\n",
      "statistics (0.9692, 0.94, 0.5054, 0.6573, 93)\n",
      "------------------------------------\n",
      "\n",
      "0.0    1058\n",
      "1.0     106\n",
      "Name: CO-00-00-00-00, dtype: int64\n",
      "data set size 1164\n",
      "statistics (0.9493, 0.8133, 0.5755, 0.674, 106)\n",
      "------------------------------------\n",
      "\n",
      "0.0    1377\n",
      "1.0     302\n",
      "Name: CR-00-00-00-00, dtype: int64\n",
      "data set size 1679\n",
      "statistics (0.9357, 0.844, 0.7881, 0.8151, 302)\n",
      "------------------------------------\n",
      "\n",
      "0.0    1381\n",
      "1.0      12\n",
      "Name: CR-01-00-00-00, dtype: int64\n",
      "data set size 1393\n",
      "statistics (0.9914, 0.0, 0.0, 0.0, 12)\n",
      "------------------------------------\n",
      "\n",
      "0.0    1389\n",
      "1.0      13\n",
      "Name: CR-04-00-00-00, dtype: int64\n",
      "data set size 1402\n",
      "statistics (0.9907, 0.0, 0.0, 0.0, 13)\n",
      "------------------------------------\n",
      "\n",
      "0.0    1393\n",
      "1.0      11\n",
      "Name: CR-06-00-00-00, dtype: int64\n",
      "data set size 1404\n",
      "statistics (0.9922, 0.0, 0.0, 0.0, 11)\n",
      "------------------------------------\n",
      "\n",
      "0.0    1958\n",
      "1.0      11\n",
      "Name: CR-10-00-00-00, dtype: int64\n",
      "data set size 1969\n",
      "statistics (0.9944, 0.0, 0.0, 0.0, 11)\n",
      "------------------------------------\n",
      "\n",
      "0.0    1789\n",
      "1.0      24\n",
      "Name: ED-00-00-00-00, dtype: int64\n",
      "data set size 1813\n",
      "statistics (0.9884, 0.8, 0.1667, 0.2759, 24)\n",
      "------------------------------------\n",
      "\n",
      "0.0    1866\n",
      "1.0      78\n",
      "Name: ES-00-00-00-00, dtype: int64\n",
      "data set size 1944\n",
      "statistics (0.9779, 0.7692, 0.641, 0.6993, 78)\n",
      "------------------------------------\n",
      "\n",
      "0.0    1866\n",
      "1.0      10\n",
      "Name: ES-01-00-00-00, dtype: int64\n",
      "data set size 1876\n",
      "statistics (0.9947, 0.0, 0.0, 0.0, 10)\n",
      "------------------------------------\n",
      "\n",
      "0.0    1979\n",
      "1.0      13\n",
      "Name: ES-03-00-00-00, dtype: int64\n",
      "data set size 1992\n",
      "statistics (0.9935, 0.0, 0.0, 0.0, 13)\n",
      "------------------------------------\n",
      "\n",
      "0.0    1685\n",
      "1.0     357\n",
      "Name: FA-00-00-00-00, dtype: int64\n",
      "data set size 2042\n",
      "statistics (0.9471, 0.8547, 0.8403, 0.8475, 357)\n",
      "------------------------------------\n",
      "\n",
      "0.0    2001\n",
      "1.0      10\n",
      "Name: FA-05-00-00-00, dtype: int64\n",
      "data set size 2011\n",
      "statistics (0.9935, 0.3846, 0.5, 0.4348, 10)\n",
      "------------------------------------\n",
      "\n",
      "0.0    1781\n",
      "1.0      10\n",
      "Name: FA-06-00-00-00, dtype: int64\n",
      "data set size 1791\n",
      "statistics (0.9944, 0.0, 0.0, 0.0, 10)\n",
      "------------------------------------\n",
      "\n",
      "0.0    1927\n",
      "1.0      41\n",
      "Name: FA-07-00-00-00, dtype: int64\n",
      "data set size 1968\n",
      "statistics (0.9822, 0.6875, 0.2683, 0.386, 41)\n",
      "------------------------------------\n",
      "\n",
      "0.0    1504\n",
      "1.0      13\n",
      "Name: GO-00-00-00-00, dtype: int64\n",
      "data set size 1517\n",
      "statistics (0.9914, 0.0, 0.0, 0.0, 13)\n",
      "------------------------------------\n",
      "\n",
      "0.0    1778\n",
      "1.0     122\n",
      "Name: HE-00-00-00-00, dtype: int64\n",
      "data set size 1900\n",
      "statistics (0.9695, 0.8265, 0.6639, 0.7364, 122)\n",
      "------------------------------------\n",
      "\n",
      "0.0    1582\n",
      "1.0     550\n",
      "Name: HO-00-00-00-00, dtype: int64\n",
      "data set size 2132\n",
      "statistics (0.9568, 0.9751, 0.8545, 0.9109, 550)\n",
      "------------------------------------\n",
      "\n",
      "0.0    1628\n",
      "1.0      34\n",
      "Name: HO-06-00-00-00, dtype: int64\n",
      "data set size 1662\n",
      "statistics (0.9874, 0.9333, 0.4118, 0.5714, 34)\n",
      "------------------------------------\n",
      "\n",
      "0.0    1626\n",
      "1.0      27\n",
      "Name: HO-09-00-00-00, dtype: int64\n",
      "data set size 1653\n",
      "statistics (0.9873, 1.0, 0.2222, 0.3636, 27)\n",
      "------------------------------------\n",
      "\n",
      "0.0    1928\n",
      "1.0      36\n",
      "Name: IM-00-00-00-00, dtype: int64\n",
      "data set size 1964\n",
      "statistics (0.9878, 0.9286, 0.3611, 0.52, 36)\n",
      "------------------------------------\n",
      "\n",
      "0.0    1063\n",
      "1.0     366\n",
      "Name: MO-00-00-00-00, dtype: int64\n",
      "data set size 1429\n",
      "statistics (0.9006, 0.8146, 0.7923, 0.8033, 366)\n",
      "------------------------------------\n",
      "\n",
      "0.0    1937\n",
      "1.0      12\n",
      "Name: MO-02-00-00-00, dtype: int64\n",
      "data set size 1949\n",
      "statistics (0.9938, 0.0, 0.0, 0.0, 12)\n",
      "------------------------------------\n",
      "\n",
      "0.0    1116\n",
      "1.0      13\n",
      "Name: MO-07-00-00-00, dtype: int64\n",
      "data set size 1129\n",
      "statistics (0.9911, 0.7143, 0.3846, 0.5, 13)\n",
      "------------------------------------\n",
      "\n",
      "0.0    1095\n",
      "1.0      11\n",
      "Name: MO-10-00-00-00, dtype: int64\n",
      "data set size 1106\n",
      "statistics (0.9892, 0.0, 0.0, 0.0, 11)\n",
      "------------------------------------\n",
      "\n",
      "0.0    1374\n",
      "1.0      22\n",
      "Name: RI-00-00-00-00, dtype: int64\n",
      "data set size 1396\n",
      "statistics (0.9842, 0.0, 0.0, 0.0, 22)\n",
      "------------------------------------\n",
      "\n",
      "0.0    1027\n",
      "1.0     230\n",
      "Name: TO-00-00-00-00, dtype: int64\n",
      "data set size 1257\n",
      "statistics (0.8942, 0.7156, 0.7, 0.7077, 230)\n",
      "------------------------------------\n",
      "\n",
      "0.0    1746\n",
      "1.0     260\n",
      "Name: TR-00-00-00-00, dtype: int64\n",
      "data set size 2006\n",
      "statistics (0.9621, 0.8358, 0.8808, 0.8577, 260)\n",
      "------------------------------------\n",
      "\n",
      "0.0    1805\n",
      "1.0      22\n",
      "Name: TR-01-00-00-00, dtype: int64\n",
      "data set size 1827\n",
      "statistics (0.9874, 0.4545, 0.2273, 0.303, 22)\n",
      "------------------------------------\n",
      "\n",
      "0.0    1790\n",
      "1.0      29\n",
      "Name: TR-02-00-00-00, dtype: int64\n",
      "data set size 1819\n",
      "statistics (0.9868, 0.6667, 0.3448, 0.4545, 29)\n",
      "------------------------------------\n",
      "\n",
      "0.0    1804\n",
      "1.0      17\n",
      "Name: TR-03-00-00-00, dtype: int64\n",
      "data set size 1821\n",
      "statistics (0.9912, 0.6667, 0.1176, 0.2, 17)\n",
      "------------------------------------\n",
      "\n",
      "0.0    1795\n",
      "1.0      20\n",
      "Name: TR-04-00-00-00, dtype: int64\n",
      "data set size 1815\n",
      "statistics (0.9884, 0.4615, 0.3, 0.3636, 20)\n",
      "------------------------------------\n",
      "\n",
      "0.0    1785\n",
      "1.0      31\n",
      "Name: TR-05-00-00-00, dtype: int64\n",
      "data set size 1816\n",
      "statistics (0.9846, 0.5333, 0.7742, 0.6316, 31)\n",
      "------------------------------------\n",
      "\n",
      "0.0    1604\n",
      "1.0     387\n",
      "Name: WO-00-00-00-00, dtype: int64\n",
      "data set size 1991\n",
      "statistics (0.9593, 0.9608, 0.8243, 0.8873, 387)\n",
      "------------------------------------\n",
      "\n",
      "0.0    1607\n",
      "1.0      10\n",
      "Name: WO-03-00-00-00, dtype: int64\n",
      "data set size 1617\n",
      "statistics (0.9938, 0.0, 0.0, 0.0, 10)\n"
     ]
    }
   ],
   "source": [
    "import warnings\n",
    "import sklearn.exceptions\n",
    "warnings.filterwarnings(\"ignore\", category=sklearn.exceptions.UndefinedMetricWarning)\n",
    "\n",
    "class_list = df.columns[2:]\n",
    "print(class_list)\n",
    "verbose = False\n",
    "stat_dict = defaultdict() \n",
    "for cls in class_list:\n",
    "    preprocessing(dfset, cls)\n",
    "    ret = predict_by_class(dfset, cls)\n",
    "    stat_dict[cls] = ret \n",
    "    print('statistics' , ret)"
   ]
  },
  {
   "cell_type": "markdown",
   "metadata": {
    "janus": {
     "all_versions_showing": false,
     "cell_hidden": false,
     "current_version": 0,
     "id": "1342ba687f607",
     "named_versions": [],
     "output_hidden": false,
     "show_versions": false,
     "source_hidden": false,
     "versions": []
    }
   },
   "source": [
    "## Distribution"
   ]
  },
  {
   "cell_type": "code",
   "execution_count": 18,
   "metadata": {
    "janus": {
     "all_versions_showing": false,
     "cell_hidden": false,
     "current_version": 0,
     "id": "6611849a9aa39",
     "named_versions": [],
     "output_hidden": false,
     "show_versions": false,
     "source_hidden": true,
     "versions": []
    }
   },
   "outputs": [
    {
     "name": "stdout",
     "output_type": "stream",
     "text": [
      "Requirement already satisfied: prettytable in /Users/heeh/.pyenv/versions/3.8.0/lib/python3.8/site-packages (0.7.2)\n",
      "+----------------+----------+-----------+--------+----------+---------+-------------+\n",
      "|     class      | accuracy | precision | recall | F1 score | support | |documents| |\n",
      "+----------------+----------+-----------+--------+----------+---------+-------------+\n",
      "| BE-00-00-00-00 |   0.9859 |       1.0 |  0.037 |   0.0714 |      27 |     1848    |\n",
      "| BU-00-00-00-00 |   0.9692 |      0.94 | 0.5054 |   0.6573 |      93 |     1590    |\n",
      "| CO-00-00-00-00 |   0.9493 |    0.8133 | 0.5755 |    0.674 |     106 |     1164    |\n",
      "| CR-00-00-00-00 |   0.9357 |     0.844 | 0.7881 |   0.8151 |     302 |     1679    |\n",
      "| CR-01-00-00-00 |   0.9914 |       0.0 |    0.0 |      0.0 |      12 |     1393    |\n",
      "| CR-04-00-00-00 |   0.9907 |       0.0 |    0.0 |      0.0 |      13 |     1402    |\n",
      "| CR-06-00-00-00 |   0.9922 |       0.0 |    0.0 |      0.0 |      11 |     1404    |\n",
      "| CR-10-00-00-00 |   0.9944 |       0.0 |    0.0 |      0.0 |      11 |     1969    |\n",
      "| ED-00-00-00-00 |   0.9884 |       0.8 | 0.1667 |   0.2759 |      24 |     1813    |\n",
      "| ES-00-00-00-00 |   0.9779 |    0.7692 |  0.641 |   0.6993 |      78 |     1944    |\n",
      "| ES-01-00-00-00 |   0.9947 |       0.0 |    0.0 |      0.0 |      10 |     1876    |\n",
      "| ES-03-00-00-00 |   0.9935 |       0.0 |    0.0 |      0.0 |      13 |     1992    |\n",
      "| FA-00-00-00-00 |   0.9471 |    0.8547 | 0.8403 |   0.8475 |     357 |     2042    |\n",
      "| FA-05-00-00-00 |   0.9935 |    0.3846 |    0.5 |   0.4348 |      10 |     2011    |\n",
      "| FA-06-00-00-00 |   0.9944 |       0.0 |    0.0 |      0.0 |      10 |     1791    |\n",
      "| FA-07-00-00-00 |   0.9822 |    0.6875 | 0.2683 |    0.386 |      41 |     1968    |\n",
      "| GO-00-00-00-00 |   0.9914 |       0.0 |    0.0 |      0.0 |      13 |     1517    |\n",
      "| HE-00-00-00-00 |   0.9695 |    0.8265 | 0.6639 |   0.7364 |     122 |     1900    |\n",
      "| HO-00-00-00-00 |   0.9568 |    0.9751 | 0.8545 |   0.9109 |     550 |     2132    |\n",
      "| HO-06-00-00-00 |   0.9874 |    0.9333 | 0.4118 |   0.5714 |      34 |     1662    |\n",
      "| HO-09-00-00-00 |   0.9873 |       1.0 | 0.2222 |   0.3636 |      27 |     1653    |\n",
      "| IM-00-00-00-00 |   0.9878 |    0.9286 | 0.3611 |     0.52 |      36 |     1964    |\n",
      "| MO-00-00-00-00 |   0.9006 |    0.8146 | 0.7923 |   0.8033 |     366 |     1429    |\n",
      "| MO-02-00-00-00 |   0.9938 |       0.0 |    0.0 |      0.0 |      12 |     1949    |\n",
      "| MO-07-00-00-00 |   0.9911 |    0.7143 | 0.3846 |      0.5 |      13 |     1129    |\n",
      "| MO-10-00-00-00 |   0.9892 |       0.0 |    0.0 |      0.0 |      11 |     1106    |\n",
      "| RI-00-00-00-00 |   0.9842 |       0.0 |    0.0 |      0.0 |      22 |     1396    |\n",
      "| TO-00-00-00-00 |   0.8942 |    0.7156 |    0.7 |   0.7077 |     230 |     1257    |\n",
      "| TR-00-00-00-00 |   0.9621 |    0.8358 | 0.8808 |   0.8577 |     260 |     2006    |\n",
      "| TR-01-00-00-00 |   0.9874 |    0.4545 | 0.2273 |    0.303 |      22 |     1827    |\n",
      "| TR-02-00-00-00 |   0.9868 |    0.6667 | 0.3448 |   0.4545 |      29 |     1819    |\n",
      "| TR-03-00-00-00 |   0.9912 |    0.6667 | 0.1176 |      0.2 |      17 |     1821    |\n",
      "| TR-04-00-00-00 |   0.9884 |    0.4615 |    0.3 |   0.3636 |      20 |     1815    |\n",
      "| TR-05-00-00-00 |   0.9846 |    0.5333 | 0.7742 |   0.6316 |      31 |     1816    |\n",
      "| WO-00-00-00-00 |   0.9593 |    0.9608 | 0.8243 |   0.8873 |     387 |     1991    |\n",
      "| WO-03-00-00-00 |   0.9938 |       0.0 |    0.0 |      0.0 |      10 |     1617    |\n",
      "+----------------+----------+-----------+--------+----------+---------+-------------+\n"
     ]
    }
   ],
   "source": [
    "!python3 -m pip install prettytable\n",
    "from prettytable import PrettyTable\n",
    "t = PrettyTable([\"class\", \"accuracy\", \"precision\", \"recall\", \"F1 score\", \"support\", \"|documents|\"])\n",
    "#t.align[\"class\"] = \"r\"\n",
    "t.align[\"accuracy\"] = \"r\"\n",
    "t.align[\"precision\"] = \"r\"\n",
    "t.align[\"recall\"] = \"r\"\n",
    "t.align[\"F1 score\"] = \"r\"\n",
    "t.align[\"support\"] = \"r\"\n",
    "for k,v in stat_dict.items():\n",
    "    t.add_row([k, v[0], v[1], v[2], v[3], v[4], numdoc[k]])\n",
    "    \n",
    "print(t)"
   ]
  },
  {
   "cell_type": "markdown",
   "metadata": {
    "colab_type": "text",
    "id": "N1tu4jFOrOaf",
    "janus": {
     "all_versions_showing": false,
     "cell_hidden": false,
     "current_version": 0,
     "id": "ba74459e4e83b",
     "named_versions": [],
     "output_hidden": false,
     "show_versions": false,
     "source_hidden": false,
     "versions": []
    }
   },
   "source": [
    "## Plotting for Top10 classes"
   ]
  },
  {
   "cell_type": "code",
   "execution_count": 19,
   "metadata": {
    "colab": {},
    "colab_type": "code",
    "id": "r4sGK9DsrOhR",
    "janus": {
     "all_versions_showing": false,
     "cell_hidden": true,
     "current_version": 0,
     "id": "120b319cdd3d",
     "named_versions": [],
     "output_hidden": true,
     "show_versions": false,
     "source_hidden": true,
     "versions": []
    }
   },
   "outputs": [
    {
     "data": {
      "image/png": "[encoded data removed]",
      "text/plain": [
       "<Figure size 640x480 with 1 Axes>"
      ]
     },
     "metadata": {},
     "output_type": "display_data"
    }
   ],
   "source": [
    "#for k,v in accuracy_dict.items():\n",
    "#    print(k,v)\n",
    "#sys.exit()\n",
    "import collections\n",
    "import matplotlib.pyplot as plt\n",
    "import numpy as np\n",
    "\n",
    "# Fixing random state for reproducibility\n",
    "np.random.seed(19680801)\n",
    "\n",
    "\n",
    "plt.rcdefaults()\n",
    "fig, ax = plt.subplots()\n",
    "\n",
    "# Example data\n",
    "y_pos = np.arange(10)\n",
    "error = 0 \n",
    "\n",
    "recall_dict = defaultdict()\n",
    "for k,v in stat_dict.items():\n",
    "    recall_dict[k] = v[2]\n",
    "\n",
    "sorted_x = sorted(recall_dict.items(), key=lambda kv: kv[1], reverse=True)\n",
    "topcat_dict = collections.OrderedDict(sorted_x)\n",
    "#print(topcat_dict)\n",
    "\n",
    "keyList = []\n",
    "valList = []\n",
    "for kv in topcat_dict.items():\n",
    "    keyList.append(kv[0])\n",
    "    valList.append(kv[1])\n",
    "\n",
    "ax.barh(y_pos[:10], valList[:10], xerr=error, align='center')\n",
    "ax.set_yticks(y_pos)\n",
    "ax.set_yticklabels(keyList[:10])\n",
    "ax.invert_yaxis()  # labels read top-to-bottom\n",
    "ax.set_xlabel('Recall')\n",
    "ax.set_title('Top10 Recall Scores')\n",
    "\n",
    "plt.show()"
   ]
  },
  {
   "cell_type": "markdown",
   "metadata": {
    "janus": {
     "all_versions_showing": false,
     "cell_hidden": false,
     "current_version": 0,
     "id": "3128d732afee1",
     "named_versions": [],
     "output_hidden": false,
     "show_versions": false,
     "source_hidden": false,
     "versions": []
    }
   },
   "source": [
    "## Bottom 20"
   ]
  },
  {
   "cell_type": "code",
   "execution_count": 20,
   "metadata": {
    "janus": {
     "all_versions_showing": false,
     "cell_hidden": true,
     "current_version": 0,
     "id": "7631c8aa247f3",
     "named_versions": [],
     "output_hidden": true,
     "show_versions": false,
     "source_hidden": true,
     "versions": []
    },
    "scrolled": true
   },
   "outputs": [
    {
     "data": {
      "image/png": "[encoded data removed]",
      "text/plain": [
       "<Figure size 640x480 with 1 Axes>"
      ]
     },
     "metadata": {},
     "output_type": "display_data"
    }
   ],
   "source": [
    "#for k,v in accuracy_dict.items():\n",
    "#    print(k,v)\n",
    "#sys.exit()\n",
    "import collections\n",
    "import matplotlib.pyplot as plt\n",
    "import numpy as np\n",
    "\n",
    "# Fixing random state for reproducibility\n",
    "np.random.seed(19680801)\n",
    "\n",
    "\n",
    "plt.rcdefaults()\n",
    "fig, ax = plt.subplots()\n",
    "\n",
    "# Example data\n",
    "y_pos = np.arange(20)\n",
    "error = 0 \n",
    "\n",
    "recall_dict = defaultdict()\n",
    "for k,v in stat_dict.items():\n",
    "    recall_dict[k] = v[2]\n",
    "    \n",
    "sorted_x = sorted(recall_dict.items(), key=lambda kv: kv[1])\n",
    "topcat_dict = collections.OrderedDict(sorted_x)\n",
    "#print(topcat_dict)\n",
    "\n",
    "keyList = []\n",
    "valList = []\n",
    "for kv in topcat_dict.items():\n",
    "    keyList.append(kv[0])\n",
    "    valList.append(kv[1])\n",
    "\n",
    "\n",
    "\n",
    "\n",
    "ax.barh(y_pos[:20], valList[:20], xerr=error, align='center')\n",
    "ax.set_yticks(y_pos)\n",
    "ax.set_yticklabels(keyList[:20])\n",
    "ax.invert_yaxis()  # labels read top-to-bottom\n",
    "ax.set_xlabel('Recall')\n",
    "ax.set_title('Bottom 20 Recall Scores')\n",
    "\n",
    "plt.show()"
   ]
  },
  {
   "cell_type": "markdown",
   "metadata": {
    "janus": {
     "all_versions_showing": false,
     "cell_hidden": false,
     "current_version": 0,
     "id": "b32f8fe86d67c",
     "named_versions": [],
     "output_hidden": false,
     "show_versions": false,
     "source_hidden": false,
     "versions": []
    }
   },
   "source": [
    "## Recall Distribution"
   ]
  },
  {
   "cell_type": "code",
   "execution_count": 21,
   "metadata": {
    "janus": {
     "all_versions_showing": false,
     "cell_hidden": false,
     "current_version": 0,
     "id": "c55860008c8bc",
     "named_versions": [],
     "output_hidden": false,
     "show_versions": false,
     "source_hidden": false,
     "versions": []
    }
   },
   "outputs": [
    {
     "name": "stdout",
     "output_type": "stream",
     "text": [
      "    Recall\n",
      "0     3.70\n",
      "1    50.54\n",
      "2    57.55\n",
      "3    78.81\n",
      "4     0.00\n",
      "5     0.00\n",
      "6     0.00\n",
      "7     0.00\n",
      "8    16.67\n",
      "9    64.10\n",
      "10    0.00\n",
      "11    0.00\n",
      "12   84.03\n",
      "13   50.00\n",
      "14    0.00\n",
      "15   26.83\n",
      "16    0.00\n",
      "17   66.39\n",
      "18   85.45\n",
      "19   41.18\n",
      "20   22.22\n",
      "21   36.11\n",
      "22   79.23\n",
      "23    0.00\n",
      "24   38.46\n",
      "25    0.00\n",
      "26    0.00\n",
      "27   70.00\n",
      "28   88.08\n",
      "29   22.73\n",
      "30   34.48\n",
      "31   11.76\n",
      "32   30.00\n",
      "33   77.42\n",
      "34   82.43\n",
      "35    0.00\n"
     ]
    },
    {
     "data": {
      "image/png": "[encoded data removed]",
      "text/plain": [
       "<Figure size 640x480 with 1 Axes>"
      ]
     },
     "metadata": {},
     "output_type": "display_data"
    }
   ],
   "source": [
    "import pylab as pl\n",
    "\n",
    "recall_dict = defaultdict()\n",
    "for k,v in stat_dict.items():\n",
    "    recall_dict[k] = v[2]\n",
    "\n",
    "\n",
    "recall_list = []\n",
    "for k,v in recall_dict.items():\n",
    "    recall_list.append(v*100)\n",
    "   \n",
    "d = {'Recall': recall_list}\n",
    "tinydf = pd.DataFrame(data=d)\n",
    "\n",
    "\n",
    "\n",
    "hist = tinydf.hist(edgecolor='black', bins = [0,10,20,30,40,50,60,70,80,90])\n",
    "pl.title(\"Recall Distribution\")\n",
    "pl.xlabel(\"Recall Score(%)\")\n",
    "pl.ylabel(\"Number of Classes\")\n",
    "print(tinydf)"
   ]
  },
  {
   "cell_type": "markdown",
   "metadata": {
    "colab_type": "text",
    "id": "6opsKxImIb5b",
    "janus": {
     "all_versions_showing": false,
     "cell_hidden": false,
     "current_version": 0,
     "id": "4b997c0e2f005",
     "named_versions": [],
     "output_hidden": false,
     "show_versions": false,
     "source_hidden": false,
     "versions": []
    }
   },
   "source": [
    "# Custom Input Prediction"
   ]
  },
  {
   "cell_type": "code",
   "execution_count": 38,
   "metadata": {
    "colab": {},
    "colab_type": "code",
    "id": "Qro-3iB4IiEy",
    "janus": {
     "all_versions_showing": false,
     "cell_hidden": false,
     "current_version": 0,
     "id": "5f2ad812917d3",
     "named_versions": [],
     "output_hidden": false,
     "show_versions": false,
     "source_hidden": false,
     "versions": []
    }
   },
   "outputs": [
    {
     "name": "stdout",
     "output_type": "stream",
     "text": [
      "How do I get my mom's license taken away. My mom is 66, on disability for multiple sclerosis. She's been unable to work for about a decade. She has cataracts. She has neuropathy. She has 0 reaction time. She has had a fender bender on every single corner of her last car, which my brother then totaled. She also has no night vision. She also falls asleep all the time. ALMOST like like narcolepsy. It's mostly her overextending herself, but she will nod off driving or sleep in parking lots til she feels ok. She also has lymphedema in her legs which are swollen enough to impede driving. The last year she was driving she received 19 red light tickets. She agreed not to drive. And the insurance paid for her car. Now she's bought a new one, about 6 months later. Our relationship is terrible. I hate her. But I want her licence taken away before she kills or cripples someone(s). I'm no contact with her, but my brother still tries and he cares about this a lot. I've spoken with the DMV IN MY state, not very helpful. Can i contact her insurance? Do I contact the police? Has this happened to anyone\n",
      "CR-00-00-00-00 [1.] 0.501\n",
      "MO-00-00-00-00 [1.] 0.5006\n",
      "TO-00-00-00-00 [1.] 0.5008\n",
      "TR-00-00-00-00 [1.] 0.5114\n",
      "TR-05-00-00-00 [1.] 0.5013\n"
     ]
    }
   ],
   "source": [
    "input = \"How do I get my mom's license taken away. My mom is 66, on disability for multiple sclerosis. She's been unable to work for about a decade. She has cataracts. She has neuropathy. She has 0 reaction time. She has had a fender bender on every single corner of her last car, which my brother then totaled. She also has no night vision. She also falls asleep all the time. ALMOST like like narcolepsy. It's mostly her overextending herself, but she will nod off driving or sleep in parking lots til she feels ok. She also has lymphedema in her legs which are swollen enough to impede driving. The last year she was driving she received 19 red light tickets. She agreed not to drive. And the insurance paid for her car. Now she's bought a new one, about 6 months later. Our relationship is terrible. I hate her. But I want her licence taken away before she kills or cripples someone(s). I'm no contact with her, but my brother still tries and he cares about this a lot. I've spoken with the DMV IN MY state, not very helpful. Can i contact her insurance? Do I contact the police? Has this happened to anyone\"\n",
    "\n",
    "print(input)\n",
    "predictions = defaultdict() \n",
    "\n",
    "prob = defaultdict()\n",
    "for cls in class_list:\n",
    "    predictions[cls] = model_dict[cls].predict([input])\n",
    "    prob[cls] = model_dict[cls].predict_proba([input])\n",
    "for k,v in predictions.items():\n",
    "    if v > 0:\n",
    "        print(k, v, end = ' ')\n",
    "        print(np.round(prob[k][0][1], 4))\n"
   ]
  }
 ],
 "metadata": {
  "accelerator": "GPU",
  "colab": {
   "authorship_tag": "ABX9TyNEs8q1mzt8F3PvZ4WJe7iF",
   "name": "legal_issue_classifier.ipynb",
   "provenance": [],
   "toc_visible": true
  },
  "janus": {
   "filepaths": [
    [
     "ccbc57fe",
     1582755372683,
     1582758755056
    ]
   ],
   "janus_markers": [
    {
     "ids": [
      "fbc1e35bd1c07",
      "b4140f133d1e6"
     ],
     "markerName": "Hidden Cells",
     "showing": false
    },
    {
     "ids": [
      "46f3ebdce3ec5"
     ],
     "markerName": "Hidden Cells",
     "showing": false
    },
    {
     "ids": [
      "da6bfdef8ea13"
     ],
     "markerName": "Hidden Cells",
     "showing": false
    },
    {
     "ids": [
      "455af60adbcad"
     ],
     "markerName": "Hidden Cells",
     "showing": false
    },
    {
     "ids": [
      "11e5448bf4137"
     ],
     "markerName": "Hidden Cells",
     "showing": false
    },
    {
     "ids": [
      "a2c6503ce54bd"
     ],
     "markerName": "Hidden Cells",
     "showing": false
    },
    {
     "ids": [
      "c9abba7f67965"
     ],
     "markerName": "Hidden Cells",
     "showing": false
    },
    {
     "ids": [
      "381e7a94d7c67"
     ],
     "markerName": "Hidden Cells",
     "showing": false
    },
    {
     "ids": [
      "6611849a9aa39"
     ],
     "markerName": "",
     "showing": false
    },
    {
     "ids": [
      "120b319cdd3d"
     ],
     "markerName": "",
     "showing": false
    },
    {
     "ids": [
      "120b319cdd3d"
     ],
     "markerName": "Hidden Cells",
     "showing": false
    },
    {
     "ids": [
      "7631c8aa247f3"
     ],
     "markerName": "Hidden Cells",
     "showing": false
    }
   ],
   "track_history": true
  },
  "kernelspec": {
   "display_name": "Python 3",
   "language": "python",
   "name": "python3"
  },
  "language_info": {
   "codemirror_mode": {
    "name": "ipython",
    "version": 3
   },
   "file_extension": ".py",
   "mimetype": "text/x-python",
   "name": "python",
   "nbconvert_exporter": "python",
   "pygments_lexer": "ipython3",
   "version": "3.8.0"
  }
 },
 "nbformat": 4,
 "nbformat_minor": 1
}
