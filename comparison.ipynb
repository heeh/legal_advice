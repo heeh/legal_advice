{
 "cells": [
  {
   "cell_type": "code",
   "execution_count": 2,
   "metadata": {},
   "outputs": [],
   "source": [
    "import numpy as np\n",
    "import pickle\n",
    "from prettytable import PrettyTable"
   ]
  },
  {
   "cell_type": "markdown",
   "metadata": {},
   "source": [
    "# LOAD FILES"
   ]
  },
  {
   "cell_type": "code",
   "execution_count": 12,
   "metadata": {},
   "outputs": [],
   "source": [
    "def loadFile(modelfile: str, statfile: str, ml, sl):    \n",
    "    with open(modelfile + \".pckl\", \"rb\") as f:\n",
    "        while True:\n",
    "            try:\n",
    "                ml.append(pickle.load(f))\n",
    "            except EOFError:\n",
    "                break\n",
    "    with open(statfile + \".pckl\", \"rb\") as f:\n",
    "        while True:\n",
    "            try:\n",
    "                sl.append(pickle.load(f))\n",
    "            except EOFError:\n",
    "                break\n",
    "\n",
    "            \n",
    "tfl1_models = []\n",
    "tfl2_models = []\n",
    "glol1_50d_models = []\n",
    "glol2_50d_models = []\n",
    "glol1_300d_models = []\n",
    "glol2_300d_models = []\n",
    "\n",
    "tfl1_stats = []\n",
    "tfl2_stats = []\n",
    "glol1_50d_stats = []\n",
    "glol2_50d_stats = []\n",
    "glol1_300d_stats = []\n",
    "glol2_300d_stats = []\n",
    "\n",
    "\n",
    "loadFile(\"models_tfidf_l1\", \"stats_tfidf_l1\", tfl1_models, tfl1_stats)\n",
    "loadFile(\"models_tfidf_l2\", \"stats_tfidf_l2\", tfl2_models, tfl2_stats)\n",
    "loadFile(\"models_glove_l1_50d\", \"stats_glove_l1_50d\", glol1_50d_models, glol1_50d_stats)\n",
    "loadFile(\"models_glove_l2_50d\", \"stats_glove_l2_50d\", glol2_50d_models, glol2_50d_stats)\n",
    "loadFile(\"models_glove_l1_300d\", \"stats_glove_l1_300d\", glol1_300d_models, glol1_300d_stats)\n",
    "loadFile(\"models_glove_l2_300d\", \"stats_glove_l2_300d\", glol2_300d_models, glol2_300d_stats)\n",
    "\n",
    "stat_list = []\n",
    "stat_list.append(tfl1_stats)\n",
    "stat_list.append(tfl2_stats)\n",
    "stat_list.append(glol1_50d_stats)\n",
    "stat_list.append(glol2_50d_stats)\n",
    "stat_list.append(glol1_300d_stats)\n",
    "stat_list.append(glol2_300d_stats)"
   ]
  },
  {
   "cell_type": "markdown",
   "metadata": {},
   "source": [
    "# Print Distribution"
   ]
  },
  {
   "cell_type": "code",
   "execution_count": 46,
   "metadata": {},
   "outputs": [],
   "source": [
    "names = ['TF-IDF L1', 'TF-IDF L2', 'GloVe 50d L1', 'GloVe 50d L2', 'GloVe 300d L1', 'GloVe 300d L2']\n",
    "def dist(stat_list):\n",
    "    t = PrettyTable([\"class\", \"accuracy\", \"precision\", \"recall\", \"F1 score\", \"support\", \"log_loss\", \"brier\", \"C\", \"|documents|\"])\n",
    "\n",
    "    t.align[\"model\"] = \"l\"\n",
    "    t.align[\"accuracy\"] = \"r\"\n",
    "    t.align[\"precision\"] = \"r\"\n",
    "    t.align[\"recall\"] = \"r\"\n",
    "    t.align[\"F1 score\"] = \"r\"\n",
    "    t.align[\"support\"] = \"r\"\n",
    "    t.align[\"log_loss\"] = \"r\"\n",
    "    t.align[\"brier_loss\"] = \"r\"\n",
    "    t.align[\"C\"] = \"r\"\n",
    "\n",
    "    mr4 = lambda l: np.round(np.mean(l), 4)\n",
    "    \n",
    "    mr0 = lambda l: np.round(np.mean(l))\n",
    "    \n",
    "    i = 0\n",
    "    for sl in stat_list:\n",
    "        acc_list = []\n",
    "        pre_list = []\n",
    "        rec_list = []\n",
    "        f1_list = []\n",
    "        sup_list = []\n",
    "        log_list = []\n",
    "        bri_list = []\n",
    "        c_list = []\n",
    "        numdoc_list = []\n",
    "        for kv in sl:\n",
    "\n",
    "\n",
    "            k = kv[0]\n",
    "            v = kv[1]\n",
    "            #t.add_row([k, v[0], v[1], v[2], v[3], v[4], v[5], v[6], v[7], v[8]])\n",
    "            acc_list.append(v[0])\n",
    "            pre_list.append(v[1])\n",
    "            rec_list.append(v[2])\n",
    "            f1_list.append(v[3])\n",
    "            sup_list.append(v[4])\n",
    "            log_list.append(v[5])\n",
    "            bri_list.append(v[6])\n",
    "            c_list.append(v[7])\n",
    "            numdoc_list.append(v[8])\n",
    "            \n",
    "        t.add_row([names[i], mr4(acc_list), mr4(pre_list), mr4(rec_list), mr4(f1_list), mr4(sup_list), mr4(log_list), mr4(bri_list), mr0(c_list), mr0(numdoc_list)])\n",
    "        i += 1\n",
    "    print(t)\n",
    "\n"
   ]
  },
  {
   "cell_type": "code",
   "execution_count": 47,
   "metadata": {},
   "outputs": [
    {
     "name": "stdout",
     "output_type": "stream",
     "text": [
      "+---------------+----------+-----------+--------+----------+---------+----------+--------+-------+-------------+\n",
      "|     class     | accuracy | precision | recall | F1 score | support | log_loss | brier  |     C | |documents| |\n",
      "+---------------+----------+-----------+--------+----------+---------+----------+--------+-------+-------------+\n",
      "|   TF-IDF L1   |   0.9743 |    0.5046 | 0.4144 |   0.4481 |    92.5 |   0.0842 | 0.0201 |  12.0 |    1714.0   |\n",
      "|   TF-IDF L2   |   0.9741 |    0.5526 | 0.2153 |   0.2804 |    92.5 |   0.0759 | 0.0194 |  57.0 |    1714.0   |\n",
      "|  GloVe 50d L1 |   0.9274 |    0.2457 | 0.5417 |   0.3171 |    92.5 |   0.2049 | 0.0521 |  13.0 |    1714.0   |\n",
      "|  GloVe 50d L2 |    0.924 |    0.2417 | 0.5597 |   0.3141 |    92.5 |   0.2081 | 0.0571 | 202.0 |    1714.0   |\n",
      "| GloVe 300d L1 |   0.9642 |     0.366 | 0.5208 |   0.4227 |    92.5 |   0.1086 | 0.0273 |  18.0 |    1714.0   |\n",
      "| GloVe 300d L2 |   0.9686 |    0.4003 | 0.5089 |   0.4434 |    92.5 |   0.0968 | 0.0242 | 269.0 |    1714.0   |\n",
      "+---------------+----------+-----------+--------+----------+---------+----------+--------+-------+-------------+\n"
     ]
    }
   ],
   "source": [
    "dist(stat_list)"
   ]
  }
 ],
 "metadata": {
  "kernelspec": {
   "display_name": "Python 3",
   "language": "python",
   "name": "python3"
  },
  "language_info": {
   "codemirror_mode": {
    "name": "ipython",
    "version": 3
   },
   "file_extension": ".py",
   "mimetype": "text/x-python",
   "name": "python",
   "nbconvert_exporter": "python",
   "pygments_lexer": "ipython3",
   "version": "3.8.0"
  }
 },
 "nbformat": 4,
 "nbformat_minor": 4
}
