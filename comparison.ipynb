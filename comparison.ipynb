{
 "cells": [
  {
   "cell_type": "code",
   "execution_count": 1,
   "metadata": {
    "janus": {
     "all_versions_showing": false,
     "cell_hidden": false,
     "current_version": 0,
     "id": "1e831c13f60c1",
     "named_versions": [],
     "output_hidden": false,
     "show_versions": false,
     "source_hidden": false,
     "versions": []
    }
   },
   "outputs": [],
   "source": [
    "import numpy as np\n",
    "import pickle\n",
    "from prettytable import PrettyTable"
   ]
  },
  {
   "cell_type": "markdown",
   "metadata": {
    "janus": {
     "all_versions_showing": false,
     "cell_hidden": false,
     "current_version": 0,
     "id": "09ef612dd48f9",
     "named_versions": [],
     "output_hidden": false,
     "show_versions": false,
     "source_hidden": false,
     "versions": []
    }
   },
   "source": [
    "# LOAD FILES"
   ]
  },
  {
   "cell_type": "code",
   "execution_count": 2,
   "metadata": {
    "janus": {
     "all_versions_showing": false,
     "cell_hidden": false,
     "current_version": 0,
     "id": "efbef9f1a51ef",
     "named_versions": [],
     "output_hidden": false,
     "show_versions": false,
     "source_hidden": false,
     "versions": []
    }
   },
   "outputs": [],
   "source": [
    "def loadFile(modelfile: str, statfile: str, ml, sl):    \n",
    "    with open(modelfile + \".pckl\", \"rb\") as f:\n",
    "        while True:\n",
    "            try:\n",
    "                ml.append(pickle.load(f))\n",
    "            except EOFError:\n",
    "                break\n",
    "    with open(statfile + \".pckl\", \"rb\") as f:\n",
    "        while True:\n",
    "            try:\n",
    "                sl.append(pickle.load(f))\n",
    "            except EOFError:\n",
    "                break\n",
    "\n",
    "            \n",
    "tfl1_models = []\n",
    "tfl2_models = []\n",
    "glol1_50d_models = []\n",
    "glol2_50d_models = []\n",
    "glol1_300d_models = []\n",
    "glol2_300d_models = []\n",
    "\n",
    "tfl1_stats = []\n",
    "tfl2_stats = []\n",
    "glol1_50d_stats = []\n",
    "glol2_50d_stats = []\n",
    "glol1_300d_stats = []\n",
    "glol2_300d_stats = []\n",
    "\n",
    "\n",
    "loadFile(\"models/models_tfidf_l1\", \"stats/stats_tfidf_l1\", tfl1_models, tfl1_stats)\n",
    "loadFile(\"models/models_tfidf_l2\", \"stats/stats_tfidf_l2\", tfl2_models, tfl2_stats)\n",
    "loadFile(\"models/models_glove_l1_50d\", \"stats/stats_glove_l1_50d\", glol1_50d_models, glol1_50d_stats)\n",
    "loadFile(\"models/models_glove_l2_50d\", \"stats/stats_glove_l2_50d\", glol2_50d_models, glol2_50d_stats)\n",
    "loadFile(\"models/models_glove_l1_300d\", \"stats/stats_glove_l1_300d\", glol1_300d_models, glol1_300d_stats)\n",
    "loadFile(\"models/models_glove_l2_300d\", \"stats/stats_glove_l2_300d\", glol2_300d_models, glol2_300d_stats)\n",
    "\n",
    "stat_list = []\n",
    "stat_list.append(tfl1_stats)\n",
    "stat_list.append(tfl2_stats)\n",
    "stat_list.append(glol1_50d_stats)\n",
    "stat_list.append(glol2_50d_stats)\n",
    "stat_list.append(glol1_300d_stats)\n",
    "stat_list.append(glol2_300d_stats)"
   ]
  },
  {
   "cell_type": "markdown",
   "metadata": {
    "janus": {
     "all_versions_showing": false,
     "cell_hidden": false,
     "current_version": 0,
     "id": "280a4f9cb748a",
     "named_versions": [],
     "output_hidden": false,
     "show_versions": false,
     "source_hidden": false,
     "versions": []
    }
   },
   "source": [
    "# Print Distribution"
   ]
  },
  {
   "cell_type": "code",
   "execution_count": 3,
   "metadata": {
    "janus": {
     "all_versions_showing": false,
     "cell_hidden": false,
     "current_version": 0,
     "id": "db8c1838719b",
     "named_versions": [],
     "output_hidden": false,
     "show_versions": false,
     "source_hidden": false,
     "versions": []
    }
   },
   "outputs": [],
   "source": [
    "names = ['TF-IDF L1', 'TF-IDF L2', 'GloVe 50d L1', 'GloVe 50d L2', 'GloVe 300d L1', 'GloVe 300d L2']\n",
    "def dist(stat_list):\n",
    "    t = PrettyTable([\"class\", \"accuracy\", \"precision\", \"recall\", \"F1\", \"sup\", \"log_loss\", \"brier\", \"C\", \"|doc|\"])\n",
    "\n",
    "    t.align[\"model\"] = \"l\"\n",
    "    t.align[\"accuracy\"] = \"r\"\n",
    "    t.align[\"precision\"] = \"r\"\n",
    "    t.align[\"recall\"] = \"r\"\n",
    "    t.align[\"F1 score\"] = \"r\"\n",
    "    t.align[\"support\"] = \"r\"\n",
    "    t.align[\"log_loss\"] = \"r\"\n",
    "    t.align[\"brier_loss\"] = \"r\"\n",
    "    t.align[\"C\"] = \"r\"\n",
    "\n",
    "    mr2 = lambda l: np.round(np.mean(l), 2)\n",
    "    mr4 = lambda l: np.round(np.mean(l), 4)\n",
    "\n",
    "    \n",
    "    mr0 = lambda l: np.round(np.mean(l))\n",
    "    \n",
    "    i = 0\n",
    "    for sl in stat_list:\n",
    "        acc_list = []\n",
    "        pre_list = []\n",
    "        rec_list = []\n",
    "        f1_list = []\n",
    "        sup_list = []\n",
    "        log_list = []\n",
    "        bri_list = []\n",
    "        c_list = []\n",
    "        numdoc_list = []\n",
    "        for kv in sl:\n",
    "\n",
    "\n",
    "            k = kv[0]\n",
    "            v = kv[1]\n",
    "            #t.add_row([k, v[0], v[1], v[2], v[3], v[4], v[5], v[6], v[7], v[8]])\n",
    "            acc_list.append(v[0])\n",
    "            pre_list.append(v[1])\n",
    "            rec_list.append(v[2])\n",
    "            f1_list.append(v[3])\n",
    "            sup_list.append(v[4])\n",
    "            log_list.append(v[5])\n",
    "            bri_list.append(v[6])\n",
    "            c_list.append(v[7])\n",
    "            numdoc_list.append(v[8])\n",
    "            \n",
    "        t.add_row([names[i], mr2(acc_list), mr2(pre_list), mr2(rec_list), mr2(f1_list), mr4(sup_list), mr4(log_list), mr4(bri_list), mr0(c_list), mr0(numdoc_list)])\n",
    "        i += 1\n",
    "    print(t)\n",
    "\n"
   ]
  },
  {
   "cell_type": "code",
   "execution_count": 4,
   "metadata": {
    "janus": {
     "all_versions_showing": false,
     "cell_hidden": false,
     "current_version": 0,
     "id": "95ac50cc54fd3",
     "named_versions": [],
     "output_hidden": false,
     "show_versions": false,
     "source_hidden": false,
     "versions": []
    }
   },
   "outputs": [
    {
     "name": "stdout",
     "output_type": "stream",
     "text": [
      "+---------------+----------+-----------+--------+------+------+----------+--------+-------+--------+\n",
      "|     class     | accuracy | precision | recall |  F1  | sup  | log_loss | brier  |     C | |doc|  |\n",
      "+---------------+----------+-----------+--------+------+------+----------+--------+-------+--------+\n",
      "|   TF-IDF L1   |     0.97 |      0.52 |   0.41 | 0.46 | 92.5 |   0.0829 | 0.0186 |  27.0 | 1714.0 |\n",
      "|   TF-IDF L2   |     0.97 |      0.55 |   0.22 | 0.28 | 92.5 |   0.0759 | 0.0194 |  57.0 | 1714.0 |\n",
      "|  GloVe 50d L1 |     0.93 |      0.25 |   0.54 | 0.32 | 92.5 |   0.2049 | 0.0521 |  13.0 | 1714.0 |\n",
      "|  GloVe 50d L2 |     0.92 |      0.24 |   0.56 | 0.31 | 92.5 |   0.2081 | 0.0571 | 202.0 | 1714.0 |\n",
      "| GloVe 300d L1 |     0.96 |      0.37 |   0.52 | 0.42 | 92.5 |   0.1086 | 0.0273 |  18.0 | 1714.0 |\n",
      "| GloVe 300d L2 |     0.97 |       0.4 |   0.51 | 0.44 | 92.5 |   0.0968 | 0.0242 | 269.0 | 1714.0 |\n",
      "+---------------+----------+-----------+--------+------+------+----------+--------+-------+--------+\n"
     ]
    }
   ],
   "source": [
    "dist(stat_list)"
   ]
  }
 ],
 "metadata": {
  "janus": {
   "filepaths": [
    [
     "25a8eafb",
     1585676317755,
     1586034914155
    ]
   ],
   "janus_markers": [],
   "track_history": true
  },
  "kernelspec": {
   "display_name": "Python 3",
   "language": "python",
   "name": "python3"
  },
  "language_info": {
   "codemirror_mode": {
    "name": "ipython",
    "version": 3
   },
   "file_extension": ".py",
   "mimetype": "text/x-python",
   "name": "python",
   "nbconvert_exporter": "python",
   "pygments_lexer": "ipython3",
   "version": "3.8.0"
  }
 },
 "nbformat": 4,
 "nbformat_minor": 4
}
