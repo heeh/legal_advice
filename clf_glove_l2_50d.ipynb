{
 "cells": [
  {
   "cell_type": "markdown",
   "metadata": {
    "colab_type": "text",
    "id": "cXr-llCCp7_Z",
    "janus": {
     "all_versions_showing": false,
     "cell_hidden": false,
     "current_version": 0,
     "id": "906255c57419d",
     "named_versions": [],
     "output_hidden": false,
     "show_versions": false,
     "source_hidden": false,
     "versions": []
    }
   },
   "source": [
    "# Introduction\n",
    "* This program that classifies legal issues into a binary value for each National Subject Matter Index (NSMI). (https://nsmi.lsntap.org/browse-v2) \\\\\n",
    "\"Category\" means 20 indexes. \\\\\n",
    "\"Class\" means sub categories under the category.\n",
    "\n",
    "### Data\n",
    "* The data contains 2777 labeled articles. Each article has a binary value(0 or 1) that indicates if this article is related to a specific legal class. We ignore unlabeled entries when constructing a model.\n",
    "\n",
    "### Implementation\n",
    "* The program converts an article into tf-idf and applies multinomial Naive-Bayes model provided by scikit-learn. \n",
    "\n",
    "* After preprocessing data, we predict the model with 10-fold cross-validation.\n",
    "\n",
    "### Output\n",
    "* We calculate accuracy with bot categories(20) and classes(100+). \\\\\n",
    "\n",
    "See overall result is at the bottom of this notebook."
   ]
  },
  {
   "cell_type": "markdown",
   "metadata": {
    "colab_type": "text",
    "id": "LNIANhrjEzYE",
    "janus": {
     "all_versions_showing": false,
     "cell_hidden": false,
     "current_version": 0,
     "id": "c64b7d852eb46",
     "named_versions": [],
     "output_hidden": false,
     "show_versions": false,
     "source_hidden": false,
     "versions": []
    }
   },
   "source": [
    "# Data Preparation (DONE)"
   ]
  },
  {
   "cell_type": "code",
   "execution_count": 1,
   "metadata": {
    "colab": {},
    "colab_type": "code",
    "id": "YsbprkpElhDw",
    "janus": {
     "all_versions_showing": false,
     "cell_hidden": true,
     "current_version": 0,
     "id": "fbc1e35bd1c07",
     "named_versions": [],
     "output_hidden": true,
     "show_versions": false,
     "source_hidden": true,
     "versions": []
    }
   },
   "outputs": [
    {
     "name": "stdout",
     "output_type": "stream",
     "text": [
      "Requirement already satisfied: PrettyTable in /Users/heeh/.pyenv/versions/3.8.0/lib/python3.8/site-packages (0.7.2)\n",
      "Requirement already satisfied: pandas in /Users/heeh/.pyenv/versions/3.8.0/lib/python3.8/site-packages (1.0.1)\n",
      "Requirement already satisfied: pytz>=2017.2 in /Users/heeh/.pyenv/versions/3.8.0/lib/python3.8/site-packages (from pandas) (2019.3)\n",
      "Requirement already satisfied: numpy>=1.13.3 in /Users/heeh/.pyenv/versions/3.8.0/lib/python3.8/site-packages (from pandas) (1.18.1)\n",
      "Requirement already satisfied: python-dateutil>=2.6.1 in /Users/heeh/.pyenv/versions/3.8.0/lib/python3.8/site-packages (from pandas) (2.8.1)\n",
      "Requirement already satisfied: six>=1.5 in /Users/heeh/.pyenv/versions/3.8.0/lib/python3.8/site-packages (from python-dateutil>=2.6.1->pandas) (1.14.0)\n",
      "Requirement already satisfied: sklearn in /Users/heeh/.pyenv/versions/3.8.0/lib/python3.8/site-packages (0.0)\n",
      "Requirement already satisfied: scikit-learn in /Users/heeh/.pyenv/versions/3.8.0/lib/python3.8/site-packages (from sklearn) (0.22.2.post1)\n",
      "Requirement already satisfied: numpy>=1.11.0 in /Users/heeh/.pyenv/versions/3.8.0/lib/python3.8/site-packages (from scikit-learn->sklearn) (1.18.1)\n",
      "Requirement already satisfied: joblib>=0.11 in /Users/heeh/.pyenv/versions/3.8.0/lib/python3.8/site-packages (from scikit-learn->sklearn) (0.14.1)\n",
      "Requirement already satisfied: scipy>=0.17.0 in /Users/heeh/.pyenv/versions/3.8.0/lib/python3.8/site-packages (from scikit-learn->sklearn) (1.4.1)\n",
      "Requirement already satisfied: matplotlib in /Users/heeh/.pyenv/versions/3.8.0/lib/python3.8/site-packages (3.2.0)\n",
      "Requirement already satisfied: python-dateutil>=2.1 in /Users/heeh/.pyenv/versions/3.8.0/lib/python3.8/site-packages (from matplotlib) (2.8.1)\n",
      "Requirement already satisfied: pyparsing!=2.0.4,!=2.1.2,!=2.1.6,>=2.0.1 in /Users/heeh/.pyenv/versions/3.8.0/lib/python3.8/site-packages (from matplotlib) (2.4.6)\n",
      "Requirement already satisfied: cycler>=0.10 in /Users/heeh/.pyenv/versions/3.8.0/lib/python3.8/site-packages (from matplotlib) (0.10.0)\n",
      "Requirement already satisfied: numpy>=1.11 in /Users/heeh/.pyenv/versions/3.8.0/lib/python3.8/site-packages (from matplotlib) (1.18.1)\n",
      "Requirement already satisfied: kiwisolver>=1.0.1 in /Users/heeh/.pyenv/versions/3.8.0/lib/python3.8/site-packages (from matplotlib) (1.1.0)\n",
      "Requirement already satisfied: six>=1.5 in /Users/heeh/.pyenv/versions/3.8.0/lib/python3.8/site-packages (from python-dateutil>=2.1->matplotlib) (1.14.0)\n",
      "Requirement already satisfied: setuptools in /Users/heeh/.pyenv/versions/3.8.0/lib/python3.8/site-packages (from kiwisolver>=1.0.1->matplotlib) (41.2.0)\n",
      "Requirement already satisfied: seaborn in /Users/heeh/.pyenv/versions/3.8.0/lib/python3.8/site-packages (0.10.0)\n",
      "Requirement already satisfied: matplotlib>=2.1.2 in /Users/heeh/.pyenv/versions/3.8.0/lib/python3.8/site-packages (from seaborn) (3.2.0)\n",
      "Requirement already satisfied: scipy>=1.0.1 in /Users/heeh/.pyenv/versions/3.8.0/lib/python3.8/site-packages (from seaborn) (1.4.1)\n",
      "Requirement already satisfied: pandas>=0.22.0 in /Users/heeh/.pyenv/versions/3.8.0/lib/python3.8/site-packages (from seaborn) (1.0.1)\n",
      "Requirement already satisfied: numpy>=1.13.3 in /Users/heeh/.pyenv/versions/3.8.0/lib/python3.8/site-packages (from seaborn) (1.18.1)\n",
      "Requirement already satisfied: python-dateutil>=2.1 in /Users/heeh/.pyenv/versions/3.8.0/lib/python3.8/site-packages (from matplotlib>=2.1.2->seaborn) (2.8.1)\n",
      "Requirement already satisfied: cycler>=0.10 in /Users/heeh/.pyenv/versions/3.8.0/lib/python3.8/site-packages (from matplotlib>=2.1.2->seaborn) (0.10.0)\n",
      "Requirement already satisfied: pyparsing!=2.0.4,!=2.1.2,!=2.1.6,>=2.0.1 in /Users/heeh/.pyenv/versions/3.8.0/lib/python3.8/site-packages (from matplotlib>=2.1.2->seaborn) (2.4.6)\n",
      "Requirement already satisfied: kiwisolver>=1.0.1 in /Users/heeh/.pyenv/versions/3.8.0/lib/python3.8/site-packages (from matplotlib>=2.1.2->seaborn) (1.1.0)\n",
      "Requirement already satisfied: pytz>=2017.2 in /Users/heeh/.pyenv/versions/3.8.0/lib/python3.8/site-packages (from pandas>=0.22.0->seaborn) (2019.3)\n",
      "Requirement already satisfied: six>=1.5 in /Users/heeh/.pyenv/versions/3.8.0/lib/python3.8/site-packages (from python-dateutil>=2.1->matplotlib>=2.1.2->seaborn) (1.14.0)\n",
      "Requirement already satisfied: setuptools in /Users/heeh/.pyenv/versions/3.8.0/lib/python3.8/site-packages (from kiwisolver>=1.0.1->matplotlib>=2.1.2->seaborn) (41.2.0)\n",
      "Requirement already satisfied: tqdm in /Users/heeh/.pyenv/versions/3.8.0/lib/python3.8/site-packages (4.43.0)\n",
      "Requirement already satisfied: nltk in /Users/heeh/.pyenv/versions/3.8.0/lib/python3.8/site-packages (3.4.5)\n",
      "Requirement already satisfied: six in /Users/heeh/.pyenv/versions/3.8.0/lib/python3.8/site-packages (from nltk) (1.14.0)\n",
      "/Users/heeh/.pyenv/versions/3.8.0/lib/python3.8/runpy.py:125: RuntimeWarning: 'nltk.downloader' found in sys.modules after import of package 'nltk', but prior to execution of 'nltk.downloader'; this may result in unpredictable behaviour\n",
      "  warn(RuntimeWarning(msg))\n",
      "[nltk_data] Downloading package stopwords to /Users/heeh/nltk_data...\n",
      "[nltk_data]   Package stopwords is already up-to-date!\n",
      "[nltk_data] Downloading package punkt to /Users/heeh/nltk_data...\n",
      "[nltk_data]   Package punkt is already up-to-date!\n",
      "Requirement already satisfied: prettytable in /Users/heeh/.pyenv/versions/3.8.0/lib/python3.8/site-packages (0.7.2)\n"
     ]
    },
    {
     "name": "stderr",
     "output_type": "stream",
     "text": [
      "/Users/heeh/.pyenv/versions/3.8.0/lib/python3.8/site-packages/pandas/compat/__init__.py:117: UserWarning: Could not import the lzma module. Your installed Python is incomplete. Attempting to use lzma compression will result in a RuntimeError.\n",
      "  warnings.warn(msg)\n"
     ]
    },
    {
     "name": "stdout",
     "output_type": "stream",
     "text": [
      "DONE\n"
     ]
    }
   ],
   "source": [
    "SOLVER = 'liblinear' \n",
    "PENALTY = \"l2\"\n",
    "\n",
    "\n",
    "!pip3 install PrettyTable\n",
    "!pip3 install pandas\n",
    "!pip3 install sklearn\n",
    "!pip3 install matplotlib\n",
    "!pip3 install seaborn\n",
    "!pip3 install tqdm\n",
    "!pip3 install nltk\n",
    "!python3 -m nltk.downloader stopwords punkt\n",
    "!python3 -m pip install prettytable\n",
    "\n",
    "import os\n",
    "import sys\n",
    "import numpy as np\n",
    "import pandas as pd\n",
    "from collections import Counter\n",
    "from collections import defaultdict\n",
    "\n",
    "import sklearn.exceptions\n",
    "import warnings\n",
    "warnings.filterwarnings(\"ignore\", category=sklearn.exceptions.UndefinedMetricWarning)\n",
    "from sklearn.linear_model import LogisticRegression\n",
    "from sklearn.metrics import confusion_matrix\n",
    "from sklearn.metrics import accuracy_score\n",
    "from sklearn.metrics import precision_recall_fscore_support as score\n",
    "from sklearn.metrics import log_loss, make_scorer\n",
    "from sklearn.metrics import accuracy_score, precision_score, recall_score, f1_score\n",
    "from sklearn.metrics import make_scorer\n",
    "from sklearn.metrics import brier_score_loss\n",
    "from sklearn.model_selection import cross_val_score\n",
    "from sklearn.model_selection import GridSearchCV\n",
    "from sklearn.model_selection import KFold\n",
    "\n",
    "import matplotlib.pyplot as plt\n",
    "import seaborn as sns; sns.set()\n",
    "pd.options.display.max_rows = 100\n",
    "pd.set_option('display.max_columns', None) \n",
    "\n",
    "import collections\n",
    "import matplotlib.pyplot as plt\n",
    "import pylab as pl\n",
    "\n",
    "\n",
    "from nltk import word_tokenize\n",
    "from nltk.corpus import stopwords\n",
    "from nltk import punkt\n",
    "stop_words = stopwords.words('english')\n",
    "\n",
    "from tqdm.notebook import tqdm\n",
    "import collections\n",
    "from prettytable import PrettyTable\n",
    "\n",
    "\n",
    "print(\"DONE\")"
   ]
  },
  {
   "cell_type": "code",
   "execution_count": 2,
   "metadata": {
    "colab": {
     "base_uri": "https://localhost:8080/",
     "height": 504
    },
    "colab_type": "code",
    "executionInfo": {
     "elapsed": 2953,
     "status": "ok",
     "timestamp": 1582551057054,
     "user": {
      "displayName": "Hee Hwang",
      "photoUrl": "",
      "userId": "05361436400321274076"
     },
     "user_tz": 300
    },
    "id": "6XZZPmUtlhGg",
    "janus": {
     "all_versions_showing": false,
     "cell_hidden": true,
     "current_version": 0,
     "id": "b4140f133d1e6",
     "named_versions": [],
     "output_hidden": true,
     "show_versions": false,
     "source_hidden": true,
     "versions": []
    },
    "outputId": "161dab3f-ad00-4e8a-8bb5-99b9f7504581"
   },
   "outputs": [
    {
     "name": "stdout",
     "output_type": "stream",
     "text": [
      "<class 'pandas.core.frame.DataFrame'>\n",
      "RangeIndex: 2777 entries, 0 to 2776\n",
      "Columns: 109 entries, _id to WO-09-00-00-00\n",
      "dtypes: float64(107), object(2)\n",
      "memory usage: 2.3+ MB\n"
     ]
    },
    {
     "data": {
      "text/html": [
       "<div>\n",
       "<style scoped>\n",
       "    .dataframe tbody tr th:only-of-type {\n",
       "        vertical-align: middle;\n",
       "    }\n",
       "\n",
       "    .dataframe tbody tr th {\n",
       "        vertical-align: top;\n",
       "    }\n",
       "\n",
       "    .dataframe thead th {\n",
       "        text-align: right;\n",
       "    }\n",
       "</style>\n",
       "<table border=\"1\" class=\"dataframe\">\n",
       "  <thead>\n",
       "    <tr style=\"text-align: right;\">\n",
       "      <th></th>\n",
       "      <th>_id</th>\n",
       "      <th>full_text</th>\n",
       "      <th>BE-00-00-00-00</th>\n",
       "      <th>BE-01-00-00-00</th>\n",
       "    </tr>\n",
       "  </thead>\n",
       "  <tbody>\n",
       "    <tr>\n",
       "      <th>0</th>\n",
       "      <td>5b60e59cda52255c20cff794</td>\n",
       "      <td>Will he serve time?. Long story short my broth...</td>\n",
       "      <td>0.0</td>\n",
       "      <td>0.0</td>\n",
       "    </tr>\n",
       "    <tr>\n",
       "      <th>1</th>\n",
       "      <td>5b60e59cda52255c20cff79a</td>\n",
       "      <td>Groundwater leaking out of street 24/7. Ground...</td>\n",
       "      <td>0.0</td>\n",
       "      <td>0.0</td>\n",
       "    </tr>\n",
       "    <tr>\n",
       "      <th>2</th>\n",
       "      <td>5b60e59cda52255c20cff7a0</td>\n",
       "      <td>How do I get my mom's license taken away. My m...</td>\n",
       "      <td>0.0</td>\n",
       "      <td>0.0</td>\n",
       "    </tr>\n",
       "    <tr>\n",
       "      <th>3</th>\n",
       "      <td>5b60e59cda52255c20cff7bf</td>\n",
       "      <td>My boss hasn't paid me. What do i do?. I work ...</td>\n",
       "      <td>NaN</td>\n",
       "      <td>NaN</td>\n",
       "    </tr>\n",
       "    <tr>\n",
       "      <th>4</th>\n",
       "      <td>5b60e59cda52255c20cff7b8</td>\n",
       "      <td>[Texas] I signed a non-compete contract, but t...</td>\n",
       "      <td>0.0</td>\n",
       "      <td>0.0</td>\n",
       "    </tr>\n",
       "    <tr>\n",
       "      <th>...</th>\n",
       "      <td>...</td>\n",
       "      <td>...</td>\n",
       "      <td>...</td>\n",
       "      <td>...</td>\n",
       "    </tr>\n",
       "    <tr>\n",
       "      <th>2772</th>\n",
       "      <td>5b60e66dda52255c20df433f</td>\n",
       "      <td>Do you and your parents get deported because o...</td>\n",
       "      <td>0.0</td>\n",
       "      <td>0.0</td>\n",
       "    </tr>\n",
       "    <tr>\n",
       "      <th>2773</th>\n",
       "      <td>5b60e66dda52255c20df43ae</td>\n",
       "      <td>Wondering the legality of a minor (me) being a...</td>\n",
       "      <td>0.0</td>\n",
       "      <td>0.0</td>\n",
       "    </tr>\n",
       "    <tr>\n",
       "      <th>2774</th>\n",
       "      <td>5b60e66dda52255c20df4462</td>\n",
       "      <td>Can I sue a billion dollar company in small cl...</td>\n",
       "      <td>0.0</td>\n",
       "      <td>0.0</td>\n",
       "    </tr>\n",
       "    <tr>\n",
       "      <th>2775</th>\n",
       "      <td>5b60e66dda52255c20df4448</td>\n",
       "      <td>Sued by creditor and currently in settlement n...</td>\n",
       "      <td>0.0</td>\n",
       "      <td>0.0</td>\n",
       "    </tr>\n",
       "    <tr>\n",
       "      <th>2776</th>\n",
       "      <td>5b60e66dda52255c20df4491</td>\n",
       "      <td>(CA) Sales job. Income based on performance. A...</td>\n",
       "      <td>0.0</td>\n",
       "      <td>0.0</td>\n",
       "    </tr>\n",
       "  </tbody>\n",
       "</table>\n",
       "<p>2777 rows × 4 columns</p>\n",
       "</div>"
      ],
      "text/plain": [
       "                           _id  \\\n",
       "0     5b60e59cda52255c20cff794   \n",
       "1     5b60e59cda52255c20cff79a   \n",
       "2     5b60e59cda52255c20cff7a0   \n",
       "3     5b60e59cda52255c20cff7bf   \n",
       "4     5b60e59cda52255c20cff7b8   \n",
       "...                        ...   \n",
       "2772  5b60e66dda52255c20df433f   \n",
       "2773  5b60e66dda52255c20df43ae   \n",
       "2774  5b60e66dda52255c20df4462   \n",
       "2775  5b60e66dda52255c20df4448   \n",
       "2776  5b60e66dda52255c20df4491   \n",
       "\n",
       "                                              full_text  BE-00-00-00-00  \\\n",
       "0     Will he serve time?. Long story short my broth...             0.0   \n",
       "1     Groundwater leaking out of street 24/7. Ground...             0.0   \n",
       "2     How do I get my mom's license taken away. My m...             0.0   \n",
       "3     My boss hasn't paid me. What do i do?. I work ...             NaN   \n",
       "4     [Texas] I signed a non-compete contract, but t...             0.0   \n",
       "...                                                 ...             ...   \n",
       "2772  Do you and your parents get deported because o...             0.0   \n",
       "2773  Wondering the legality of a minor (me) being a...             0.0   \n",
       "2774  Can I sue a billion dollar company in small cl...             0.0   \n",
       "2775  Sued by creditor and currently in settlement n...             0.0   \n",
       "2776  (CA) Sales job. Income based on performance. A...             0.0   \n",
       "\n",
       "      BE-01-00-00-00  \n",
       "0                0.0  \n",
       "1                0.0  \n",
       "2                0.0  \n",
       "3                NaN  \n",
       "4                0.0  \n",
       "...              ...  \n",
       "2772             0.0  \n",
       "2773             0.0  \n",
       "2774             0.0  \n",
       "2775             0.0  \n",
       "2776             0.0  \n",
       "\n",
       "[2777 rows x 4 columns]"
      ]
     },
     "execution_count": 2,
     "metadata": {},
     "output_type": "execute_result"
    }
   ],
   "source": [
    "url = 'https://raw.githubusercontent.com/heeh/legal_issue_classification/master/2019-12-06_95p-confidence_binary.csv'\n",
    "df = pd.read_csv(url)\n",
    "df.info()\n",
    "df.iloc[:,:4]"
   ]
  },
  {
   "cell_type": "markdown",
   "metadata": {
    "janus": {
     "all_versions_showing": false,
     "cell_hidden": false,
     "current_version": 0,
     "id": "1c9646a6871a5",
     "named_versions": [],
     "output_hidden": false,
     "show_versions": false,
     "source_hidden": false,
     "versions": []
    }
   },
   "source": [
    "## Null and Rowsum Check"
   ]
  },
  {
   "cell_type": "code",
   "execution_count": 3,
   "metadata": {
    "colab": {
     "base_uri": "https://localhost:8080/",
     "height": 1000
    },
    "colab_type": "code",
    "executionInfo": {
     "elapsed": 8575,
     "status": "ok",
     "timestamp": 1582551062684,
     "user": {
      "displayName": "Hee Hwang",
      "photoUrl": "",
      "userId": "05361436400321274076"
     },
     "user_tz": 300
    },
    "id": "LWh8RtxFlhKT",
    "janus": {
     "all_versions_showing": false,
     "cell_hidden": true,
     "current_version": 0,
     "id": "46f3ebdce3ec5",
     "named_versions": [],
     "output_hidden": true,
     "show_versions": false,
     "source_hidden": true,
     "versions": []
    },
    "outputId": "8a2616da-2389-4142-c19a-4fadc1b86d66"
   },
   "outputs": [],
   "source": [
    "\n",
    "#Null Check\n",
    "#df.isnull().sum()\n",
    "\n",
    "# Class Check - Remove every column that has zero sum. \n",
    "df = df.loc[:, df.sum(axis=0, skipna=True) != 0]\n",
    "temp = df.sum(axis = 0, skipna = True)\n",
    "\n",
    "\n",
    "#df.info()\n"
   ]
  },
  {
   "cell_type": "markdown",
   "metadata": {
    "janus": {
     "all_versions_showing": false,
     "cell_hidden": false,
     "current_version": 0,
     "id": "6b5f506275a07",
     "named_versions": [],
     "output_hidden": false,
     "show_versions": false,
     "source_hidden": false,
     "versions": []
    }
   },
   "source": [
    "# Remove columns that have <10 positive classes"
   ]
  },
  {
   "cell_type": "code",
   "execution_count": 4,
   "metadata": {
    "janus": {
     "all_versions_showing": false,
     "cell_hidden": true,
     "current_version": 0,
     "id": "da6bfdef8ea13",
     "named_versions": [],
     "output_hidden": true,
     "show_versions": false,
     "source_hidden": true,
     "versions": []
    }
   },
   "outputs": [
    {
     "name": "stdout",
     "output_type": "stream",
     "text": [
      "88\n",
      "36\n",
      "['_id', 'full_text', 'BE-00-00-00-00', 'BU-00-00-00-00', 'CO-00-00-00-00', 'CR-00-00-00-00', 'CR-01-00-00-00', 'CR-04-00-00-00', 'CR-06-00-00-00', 'CR-10-00-00-00', 'ED-00-00-00-00', 'ES-00-00-00-00', 'ES-01-00-00-00', 'ES-03-00-00-00', 'FA-00-00-00-00', 'FA-05-00-00-00', 'FA-06-00-00-00', 'FA-07-00-00-00', 'GO-00-00-00-00', 'HE-00-00-00-00', 'HO-00-00-00-00', 'HO-06-00-00-00', 'HO-09-00-00-00', 'IM-00-00-00-00', 'MO-00-00-00-00', 'MO-02-00-00-00', 'MO-07-00-00-00', 'MO-10-00-00-00', 'RI-00-00-00-00', 'TO-00-00-00-00', 'TR-00-00-00-00', 'TR-01-00-00-00', 'TR-02-00-00-00', 'TR-03-00-00-00', 'TR-04-00-00-00', 'TR-05-00-00-00', 'WO-00-00-00-00', 'WO-03-00-00-00']\n",
      "38\n"
     ]
    },
    {
     "data": {
      "text/plain": [
       "_id               5b60e59cda52255c20cff7945b60e59cda52255c20cff7...\n",
       "full_text         Will he serve time?. Long story short my broth...\n",
       "BE-00-00-00-00                                                   27\n",
       "BU-00-00-00-00                                                   93\n",
       "CO-00-00-00-00                                                  106\n",
       "CR-00-00-00-00                                                  302\n",
       "CR-01-00-00-00                                                   12\n",
       "CR-04-00-00-00                                                   13\n",
       "CR-06-00-00-00                                                   11\n",
       "CR-10-00-00-00                                                   11\n",
       "ED-00-00-00-00                                                   24\n",
       "ES-00-00-00-00                                                   78\n",
       "ES-01-00-00-00                                                   10\n",
       "ES-03-00-00-00                                                   13\n",
       "FA-00-00-00-00                                                  357\n",
       "FA-05-00-00-00                                                   10\n",
       "FA-06-00-00-00                                                   10\n",
       "FA-07-00-00-00                                                   41\n",
       "GO-00-00-00-00                                                   13\n",
       "HE-00-00-00-00                                                  122\n",
       "HO-00-00-00-00                                                  550\n",
       "HO-06-00-00-00                                                   34\n",
       "HO-09-00-00-00                                                   27\n",
       "IM-00-00-00-00                                                   36\n",
       "MO-00-00-00-00                                                  366\n",
       "MO-02-00-00-00                                                   12\n",
       "MO-07-00-00-00                                                   13\n",
       "MO-10-00-00-00                                                   11\n",
       "RI-00-00-00-00                                                   22\n",
       "TO-00-00-00-00                                                  230\n",
       "TR-00-00-00-00                                                  260\n",
       "TR-01-00-00-00                                                   22\n",
       "TR-02-00-00-00                                                   29\n",
       "TR-03-00-00-00                                                   17\n",
       "TR-04-00-00-00                                                   20\n",
       "TR-05-00-00-00                                                   31\n",
       "WO-00-00-00-00                                                  387\n",
       "WO-03-00-00-00                                                   10\n",
       "dtype: object"
      ]
     },
     "execution_count": 4,
     "metadata": {},
     "output_type": "execute_result"
    }
   ],
   "source": [
    "oldCols = list(df.columns)\n",
    "print(len(oldCols))\n",
    "\n",
    "newCols = []\n",
    "for i,x in temp[2:].items():\n",
    "    if x >= 10:\n",
    "        newCols.append(i)\n",
    "        \n",
    "print(len(newCols))\n",
    "\n",
    "cols = oldCols[:2] + newCols\n",
    "\n",
    "print(cols)\n",
    "print(len(cols))\n",
    "\n",
    "df = df[cols]\n",
    "\n",
    "df.sum(axis=0, skipna=True)"
   ]
  },
  {
   "cell_type": "markdown",
   "metadata": {
    "colab_type": "text",
    "id": "zB9yYBXlrN7p",
    "janus": {
     "all_versions_showing": false,
     "cell_hidden": false,
     "current_version": 0,
     "id": "8f56427cc56eb",
     "named_versions": [],
     "output_hidden": false,
     "show_versions": false,
     "source_hidden": false,
     "versions": []
    }
   },
   "source": [
    "# Tiny Example: Crime and Prison(CR-00-00-00-00)\n"
   ]
  },
  {
   "cell_type": "markdown",
   "metadata": {
    "colab_type": "text",
    "id": "KoY-GYaJeHkk",
    "janus": {
     "all_versions_showing": false,
     "cell_hidden": false,
     "current_version": 0,
     "id": "cf617134b9c83",
     "named_versions": [],
     "output_hidden": false,
     "show_versions": false,
     "source_hidden": false,
     "versions": []
    }
   },
   "source": [
    "## Preprocessing (DONE)"
   ]
  },
  {
   "cell_type": "code",
   "execution_count": 5,
   "metadata": {
    "colab": {
     "base_uri": "https://localhost:8080/",
     "height": 663
    },
    "colab_type": "code",
    "executionInfo": {
     "elapsed": 8562,
     "status": "ok",
     "timestamp": 1582551062685,
     "user": {
      "displayName": "Hee Hwang",
      "photoUrl": "",
      "userId": "05361436400321274076"
     },
     "user_tz": 300
    },
    "id": "8WqotY32rOEs",
    "janus": {
     "all_versions_showing": false,
     "cell_hidden": true,
     "current_version": 0,
     "id": "455af60adbcad",
     "named_versions": [],
     "output_hidden": true,
     "show_versions": false,
     "source_hidden": true,
     "versions": []
    },
    "outputId": "b16f4dc2-bb9c-43d8-ad00-083a13c9b77e"
   },
   "outputs": [],
   "source": [
    "\n",
    "verbose = True\n",
    "def preprocessing(dfset: defaultdict, cls: str):\n",
    "    dfset[cls] = df.loc[:, ['_id', 'full_text', cls]]\n",
    "    labels = dfset[cls].iloc[:,2]\n",
    "    if verbose:\n",
    "        print(\"------------Before dropping nan----------------------------------------\")\n",
    "        print(dfset[cls].iloc[:,1:])\n",
    "        print(labels.value_counts(dropna=False))\n",
    "    \n",
    "    dfset[cls] = dfset[cls].dropna()\n",
    "    labels = dfset[cls].iloc[:,2]\n",
    "    if verbose:\n",
    "        print(\"\\n------------After dropping nan---------------------------------------\")\n",
    "        print(dfset[cls].iloc[:,1:])\n",
    "        print(labels.value_counts(dropna=False))\n",
    "\n"
   ]
  },
  {
   "cell_type": "markdown",
   "metadata": {
    "janus": {
     "all_versions_showing": false,
     "cell_hidden": false,
     "current_version": 0,
     "id": "11459136fca6",
     "named_versions": [],
     "output_hidden": false,
     "show_versions": false,
     "source_hidden": false,
     "versions": []
    }
   },
   "source": [
    "## Data Preparation"
   ]
  },
  {
   "cell_type": "code",
   "execution_count": 6,
   "metadata": {
    "janus": {
     "all_versions_showing": false,
     "cell_hidden": true,
     "current_version": 0,
     "id": "11e5448bf4137",
     "named_versions": [],
     "output_hidden": true,
     "show_versions": false,
     "source_hidden": true,
     "versions": []
    }
   },
   "outputs": [
    {
     "name": "stdout",
     "output_type": "stream",
     "text": [
      "------------Before dropping nan----------------------------------------\n",
      "                                              full_text  CR-00-00-00-00\n",
      "0     Will he serve time?. Long story short my broth...             1.0\n",
      "1     Groundwater leaking out of street 24/7. Ground...             0.0\n",
      "2     How do I get my mom's license taken away. My m...             NaN\n",
      "3     My boss hasn't paid me. What do i do?. I work ...             0.0\n",
      "4     [Texas] I signed a non-compete contract, but t...             0.0\n",
      "...                                                 ...             ...\n",
      "2772  Do you and your parents get deported because o...             1.0\n",
      "2773  Wondering the legality of a minor (me) being a...             0.0\n",
      "2774  Can I sue a billion dollar company in small cl...             0.0\n",
      "2775  Sued by creditor and currently in settlement n...             0.0\n",
      "2776  (CA) Sales job. Income based on performance. A...             0.0\n",
      "\n",
      "[2777 rows x 2 columns]\n",
      "0.0    1377\n",
      "NaN    1098\n",
      "1.0     302\n",
      "Name: CR-00-00-00-00, dtype: int64\n",
      "\n",
      "------------After dropping nan---------------------------------------\n",
      "                                              full_text  CR-00-00-00-00\n",
      "0     Will he serve time?. Long story short my broth...             1.0\n",
      "1     Groundwater leaking out of street 24/7. Ground...             0.0\n",
      "3     My boss hasn't paid me. What do i do?. I work ...             0.0\n",
      "4     [Texas] I signed a non-compete contract, but t...             0.0\n",
      "6     Eviction. I got an eviction notice from my lan...             0.0\n",
      "...                                                 ...             ...\n",
      "2772  Do you and your parents get deported because o...             1.0\n",
      "2773  Wondering the legality of a minor (me) being a...             0.0\n",
      "2774  Can I sue a billion dollar company in small cl...             0.0\n",
      "2775  Sued by creditor and currently in settlement n...             0.0\n",
      "2776  (CA) Sales job. Income based on performance. A...             0.0\n",
      "\n",
      "[1679 rows x 2 columns]\n",
      "0.0    1377\n",
      "1.0     302\n",
      "Name: CR-00-00-00-00, dtype: int64\n"
     ]
    }
   ],
   "source": [
    "cls = 'CR-00-00-00-00'\n",
    "dfset = defaultdict() \n",
    "preprocessing(dfset, cls)    \n",
    "\n",
    "#    model[cls] = make_pipeline(TfidfVectorizer(), MultinomialNB())\n",
    "tinydf = dfset[cls]\n",
    "X = tinydf['full_text'].values\n",
    "Y = tinydf[cls].values"
   ]
  },
  {
   "cell_type": "markdown",
   "metadata": {},
   "source": [
    "# GloVE"
   ]
  },
  {
   "cell_type": "markdown",
   "metadata": {
    "janus": {
     "all_versions_showing": false,
     "cell_hidden": false,
     "current_version": 0,
     "id": "0484da46afac2",
     "named_versions": [],
     "output_hidden": false,
     "show_versions": false,
     "source_hidden": false,
     "versions": []
    }
   },
   "source": [
    "## Download and Load GloVe"
   ]
  },
  {
   "cell_type": "code",
   "execution_count": 7,
   "metadata": {
    "janus": {
     "all_versions_showing": false,
     "cell_hidden": true,
     "current_version": 0,
     "id": "dfd2a43208cde",
     "named_versions": [],
     "output_hidden": true,
     "show_versions": false,
     "source_hidden": true,
     "versions": []
    }
   },
   "outputs": [
    {
     "data": {
      "application/vnd.jupyter.widget-view+json": {
       "model_id": "d23c1b32eb914033bcfc24e24375e97f",
       "version_major": 2,
       "version_minor": 0
      },
      "text/plain": [
       "HBox(children=(FloatProgress(value=1.0, bar_style='info', max=1.0), HTML(value='')))"
      ]
     },
     "metadata": {},
     "output_type": "display_data"
    },
    {
     "name": "stdout",
     "output_type": "stream",
     "text": [
      "\n",
      "Found 400000 word vectors.\n"
     ]
    }
   ],
   "source": [
    "#!wget http://nlp.stanford.edu/data/glove.6B.zip\n",
    "#!unzip glove.6B.zip\n",
    "\n",
    "embeddings_index = {}\n",
    "f = open('glove.6B.50d.txt', encoding=\"utf8\")\n",
    "for line in tqdm(f):\n",
    "    values = line.split()\n",
    "    word = values[0]\n",
    "    try:\n",
    "        coefs = np.asarray(values[1:], dtype='float32')\n",
    "        embeddings_index[word] = coefs\n",
    "    except ValueError:\n",
    "        pass\n",
    "f.close()\n",
    "print('Found %s word vectors.' % len(embeddings_index))"
   ]
  },
  {
   "cell_type": "markdown",
   "metadata": {
    "janus": {
     "all_versions_showing": false,
     "cell_hidden": false,
     "current_version": 0,
     "id": "80878b118e62d",
     "named_versions": [],
     "output_hidden": false,
     "show_versions": false,
     "source_hidden": false,
     "versions": []
    }
   },
   "source": [
    "## GloVe Train & Predict"
   ]
  },
  {
   "cell_type": "code",
   "execution_count": 8,
   "metadata": {
    "janus": {
     "all_versions_showing": false,
     "cell_hidden": false,
     "current_version": 0,
     "id": "effddb85e9eee",
     "named_versions": [],
     "output_hidden": false,
     "show_versions": false,
     "source_hidden": false,
     "versions": []
    },
    "scrolled": true
   },
   "outputs": [
    {
     "name": "stdout",
     "output_type": "stream",
     "text": [
      "Checkpoint1 - Data Read Complete\n"
     ]
    },
    {
     "data": {
      "application/vnd.jupyter.widget-view+json": {
       "model_id": "644fc809d35d44788f632c8e62d0ff44",
       "version_major": 2,
       "version_minor": 0
      },
      "text/plain": [
       "HBox(children=(FloatProgress(value=0.0, max=1503.0), HTML(value='')))"
      ]
     },
     "metadata": {},
     "output_type": "display_data"
    },
    {
     "name": "stdout",
     "output_type": "stream",
     "text": [
      "\n",
      "Mean Train Word Hit Rate(\\%) 99.58181372991224\n"
     ]
    },
    {
     "data": {
      "application/vnd.jupyter.widget-view+json": {
       "model_id": "375e040418034c108edbea68f4ad85b2",
       "version_major": 2,
       "version_minor": 0
      },
      "text/plain": [
       "HBox(children=(FloatProgress(value=0.0, max=176.0), HTML(value='')))"
      ]
     },
     "metadata": {},
     "output_type": "display_data"
    },
    {
     "name": "stdout",
     "output_type": "stream",
     "text": [
      "\n",
      "Mean Test Word Hit Rate(\\%) 99.61077662227088\n",
      "Checkpoint2 -Normalized Vector for Sentences are created\n",
      "[0. 0. 0. 1. 0. 0. 0. 0. 0. 0. 1. 1. 0. 0. 0. 0. 0. 0. 0. 0. 0. 0. 0. 1.\n",
      " 1. 0. 0. 0. 0. 0. 1. 0. 1. 0. 0. 0. 0. 0. 0. 0. 1. 0. 1. 0. 0. 0. 0. 1.\n",
      " 0. 0. 0. 0. 0. 0. 0. 0. 1. 0. 0. 0. 0. 0. 0. 1. 0. 0. 0. 1. 0. 0. 0. 0.\n",
      " 0. 1. 0. 0. 0. 1. 0. 0. 0. 0. 1. 0. 0. 1. 0. 0. 0. 0. 1. 0. 0. 0. 0. 0.\n",
      " 1. 0. 0. 0. 1. 0. 0. 0. 0. 1. 0. 1. 0. 0. 0. 0. 0. 0. 1. 0. 1. 0. 0. 1.\n",
      " 1. 1. 0. 1. 0. 0. 0. 1. 0. 0. 0. 1. 1. 0. 0. 1. 1. 0. 1. 0. 0. 0. 1. 0.\n",
      " 0. 0. 0. 0. 0. 0. 0. 1. 0. 0. 1. 1. 0. 0. 0. 0. 0. 0. 0. 0. 0. 0. 1. 0.\n",
      " 0. 0. 0. 1. 1. 0. 0. 0.]\n",
      "accuracy: 0.875\n",
      "precision: [0.98518519 0.51219512]\n",
      "recall: [0.86928105 0.91304348]\n",
      "fscore: [0.92361111 0.65625   ]\n",
      "support: [153  23]\n"
     ]
    }
   ],
   "source": [
    "cls = 'CR-00-00-00-00'\n",
    "\n",
    "\n",
    "\n",
    "# Train and Test Split\n",
    "p = len(X) // 10 * 9\n",
    "train_text = X[:p]\n",
    "test_text = X[p:]\n",
    "\n",
    "\n",
    "print(\"Checkpoint1 - Data Read Complete\")\n",
    "\n",
    "\n",
    "hit = 0\n",
    "all_words = 0\n",
    "# this function creates a normalized vector for the whole sentence\n",
    "def sent2vec(s):\n",
    "    global hit, all_words\n",
    "    words = str(s).lower()\n",
    "    words = word_tokenize(words)\n",
    "    words = [w for w in words if not w in stop_words]\n",
    "    words = [w for w in words if w.isalpha()]\n",
    "    M = []\n",
    "    for w in words:\n",
    "        try:\n",
    "            M.append(embeddings_index[w])\n",
    "        except:\n",
    "            continue\n",
    "    hit += len(M)\n",
    "    all_words += len(words)\n",
    "    \n",
    "    M = np.array(M)\n",
    "    v = M.sum(axis=0)\n",
    "    if type(v) != np.ndarray:\n",
    "        return np.zeros(300)\n",
    "    return v / np.sqrt((v ** 2).sum())\n",
    "\n",
    "# create sentence vectors using the above function for training and validation set\n",
    "xtrain_glove = [sent2vec(x) for x in tqdm(train_text)]\n",
    "\n",
    "print('Mean Train Word Hit Rate(\\%)', hit / all_words * 100)\n",
    "hit = 0\n",
    "all_words = 0\n",
    "\n",
    "xtest_glove = [sent2vec(x) for x in tqdm(test_text)]\n",
    "print('Mean Test Word Hit Rate(\\%)', hit / all_words * 100)\n",
    "\n",
    "print('Checkpoint2 -Normalized Vector for Sentences are created')\n",
    "\n",
    "xtrain_glove = np.array(xtrain_glove)\n",
    "xtest_glove = np.array(xtest_glove)\n",
    "\n",
    "model = LogisticRegression(penalty=PENALTY, solver=SOLVER, class_weight='balanced')\n",
    "\n",
    "train_target = Y[:p]\n",
    "test_target = Y[p:]\n",
    "\n",
    "model.fit(xtrain_glove, train_target)\n",
    "preds = model.predict(xtest_glove)\n",
    "\n",
    "print(preds)\n",
    "accuracy = accuracy_score(test_target, preds)\n",
    "precision, recall, fscore, support = score(test_target, preds)\n",
    "print('accuracy: {}'.format(accuracy))\n",
    "print('precision: {}'.format(precision))\n",
    "print('recall: {}'.format(recall))\n",
    "print('fscore: {}'.format(fscore))\n",
    "print('support: {}'.format(support))"
   ]
  },
  {
   "cell_type": "markdown",
   "metadata": {
    "janus": {
     "all_versions_showing": false,
     "cell_hidden": false,
     "current_version": 0,
     "id": "36c031454b0fc",
     "named_versions": [],
     "output_hidden": false,
     "show_versions": false,
     "source_hidden": false,
     "versions": []
    }
   },
   "source": [
    "## GloVE + Logistic Regression on CR-00-00-00-00"
   ]
  },
  {
   "cell_type": "code",
   "execution_count": 9,
   "metadata": {
    "janus": {
     "all_versions_showing": false,
     "cell_hidden": false,
     "current_version": 0,
     "id": "b4c41c9fe8b0c",
     "named_versions": [],
     "output_hidden": false,
     "show_versions": false,
     "source_hidden": false,
     "versions": []
    }
   },
   "outputs": [
    {
     "data": {
      "application/vnd.jupyter.widget-view+json": {
       "model_id": "ab19018737874a8099e2b4e2f34d9248",
       "version_major": 2,
       "version_minor": 0
      },
      "text/plain": [
       "HBox(children=(FloatProgress(value=0.0, max=1679.0), HTML(value='')))"
      ]
     },
     "metadata": {},
     "output_type": "display_data"
    },
    {
     "name": "stdout",
     "output_type": "stream",
     "text": [
      "\n",
      "------------------------------------\n",
      "\n",
      "0.0    1377\n",
      "1.0     302\n",
      "Name: CR-00-00-00-00, dtype: int64\n",
      "data set size 1679\n",
      "Checkpoint2 -Normalized Vector for Sentences are created\n",
      "logloss: 0.4172\n",
      "brierloss:  0.127\n"
     ]
    },
    {
     "data": {
      "text/plain": [
       "(0.8577, 0.5692, 0.8576, 0.6843, 302, 0.4172, 0.127)"
      ]
     },
     "execution_count": 9,
     "metadata": {},
     "output_type": "execute_result"
    }
   ],
   "source": [
    "\n",
    "verbose = False\n",
    "    \n",
    "numdoc = defaultdict()\n",
    "\n",
    "classifier = defaultdict()\n",
    "\n",
    "    \n",
    "def predict_by_class_glove(dfset: defaultdict,cls: str) -> float:\n",
    "    global PENALTY, SOLVER\n",
    "    preprocessing(dfset, cls)\n",
    "    tinydf = dfset[cls]\n",
    "    X = tinydf['full_text'].values\n",
    "    Y = tinydf[cls].values\n",
    "    X_glove = [sent2vec(x) for x in tqdm(X)]\n",
    "    X_glove = np.array(X_glove)\n",
    "    \n",
    "    \n",
    "    print('------------------------------------\\n')\n",
    "    labels = dfset[cls].iloc[:,2]\n",
    "    print(labels.value_counts(dropna=False))\n",
    "\n",
    "    # 10-fold separation with train and test \n",
    "    #kfold = KFold(n_splits=10)\n",
    "    kfold = KFold(n_splits=10)\n",
    "    print('data set size', len(X_glove))\n",
    "    numdoc[cls] = len(X_glove)\n",
    "    n_iter = 0\n",
    "    acc_list = []\n",
    "    pre_list = []\n",
    "    rec_list = []\n",
    "    fsc_list = []\n",
    "    sup_list = []\n",
    "\n",
    "    \n",
    "    preds = [0] * len(Y)\n",
    "    probs = [0] * len(Y)\n",
    "    \n",
    "    print('Checkpoint2 -Normalized Vector for Sentences are created')\n",
    "    \n",
    "\n",
    "\n",
    "    for train_index, test_index in kfold.split(X_glove, Y):\n",
    "\n",
    "        X_train, X_test = X_glove[train_index], X_glove[test_index] \n",
    "        Y_train, Y_test = Y[train_index], Y[test_index]\n",
    "\n",
    "        # Scikit-Learn\n",
    "        classifier[cls] = LogisticRegression(penalty=PENALTY, solver=SOLVER, class_weight='balanced', max_iter=2000)\n",
    "        classifier[cls].fit(X_train, Y_train)\n",
    "        out = classifier[cls].predict(X_test)\n",
    "        prob = classifier[cls].predict_proba(X_test)[:,1]\n",
    "        \n",
    "        \n",
    "\n",
    "        #print(len(out))\n",
    "        i = 0\n",
    "        for x in test_index:\n",
    "            preds[x] = out[i]\n",
    "            probs[x] = prob[i]\n",
    "            i += 1\n",
    "            \n",
    "        #print(preds)\n",
    "\n",
    "        n_iter += 1\n",
    "        \n",
    "    custom_logloss = np.round(log_loss(Y, probs), 4)\n",
    "    custom_brierloss = np.round(brier_score_loss(Y, probs), 4)\n",
    "    print('logloss:', custom_logloss)\n",
    "    print('brierloss: ',custom_brierloss)\n",
    "    \n",
    "    accuracy = accuracy_score(Y, preds)\n",
    "    precision, recall, fscore, support = score(Y, preds)\n",
    "    # accuracy: (tp + tn) / (p + n)\n",
    "    # precision tp / (tp + fp)\n",
    "    # recall:   tp / (tp + fn)\n",
    "    # f1: 2 tp / (2 tp + fp + fn)\n",
    "    accuracy = np.round(accuracy, 4)\n",
    "    precision[1] = np.round(precision[1], 4)\n",
    "    recall[1] = np.round(recall[1], 4)\n",
    "    fscore[1] = np.round(fscore[1], 4)\n",
    "    support[1] = np.round(support[1], 4)\n",
    "    \n",
    "    \n",
    "    return (accuracy, precision[1], recall[1], fscore[1], support[1], custom_logloss, custom_brierloss)\n",
    "\n",
    "\n",
    "\n",
    "#cls = 'BE-00-00-00-00'\n",
    "cls = 'CR-00-00-00-00'\n",
    "predict_by_class_glove(dfset, cls)"
   ]
  },
  {
   "cell_type": "markdown",
   "metadata": {},
   "source": [
    "## GloVe GridSearch"
   ]
  },
  {
   "cell_type": "code",
   "execution_count": 10,
   "metadata": {},
   "outputs": [],
   "source": [
    "verbose = False\n",
    "numdoc = defaultdict()\n",
    "classifier = defaultdict()\n",
    "\n",
    "    \n",
    "def predict_by_class_glove_grid(dfset: defaultdict,cls: str) -> float:\n",
    "    global PENALTY, SOLVER\n",
    "    preprocessing(dfset, cls)\n",
    "    tinydf = dfset[cls]\n",
    "    X = tinydf['full_text'].values\n",
    "    Y = tinydf[cls].values\n",
    "    X_glove = [sent2vec(x) for x in tqdm(X)]\n",
    "    X_glove = np.array(X_glove)\n",
    "\n",
    "    print('------------------------------------\\n')\n",
    "    labels = dfset[cls].iloc[:,2]\n",
    "    print(labels.value_counts(dropna=False))\n",
    "    kfold = KFold(n_splits=10)\n",
    "    print('data set size', len(X_glove))\n",
    "    numdoc[cls] = len(X_glove)\n",
    "    n_iter = 0\n",
    "    acc_list = []\n",
    "    pre_list = []\n",
    "    rec_list = []\n",
    "    fsc_list = []\n",
    "    sup_list = []\n",
    "\n",
    "    \n",
    "    preds = [0] * len(Y)\n",
    "    probs = [0] * len(Y)\n",
    "\n",
    "    best_recall = 0\n",
    "    best_accuracy = 0\n",
    "    best_precision = 0\n",
    "    best_fscore = 0\n",
    "    best_support = 0\n",
    "    best_model = 0\n",
    "    best_c = 0\n",
    "    \n",
    "    best_logloss = 1\n",
    "    best_brierloss = 1\n",
    "    \n",
    "    model = None\n",
    "\n",
    "\n",
    "    for reg in range(-8, 1):\n",
    "        \n",
    "        c = 1.0/2.0**reg\n",
    "\n",
    "        model = LogisticRegression(penalty=PENALTY, solver=SOLVER, class_weight='balanced', max_iter=2000, C = c)\n",
    "        \n",
    "        for train_index, test_index in kfold.split(X_glove, Y):\n",
    "            X_train, X_test = X_glove[train_index], X_glove[test_index] \n",
    "            Y_train, Y_test = Y[train_index], Y[test_index]\n",
    "            model.fit(X_train, Y_train)\n",
    "            out = model.predict(X_test)\n",
    "            prob = model.predict_proba(X_test)[:,1]\n",
    "\n",
    "            i = 0\n",
    "            for x in test_index:\n",
    "                preds[x] = out[i]\n",
    "                probs[x] = prob[i]\n",
    "                i += 1\n",
    "            n_iter += 1\n",
    "\n",
    "            \n",
    "        custom_logloss = np.round(log_loss(Y, probs), 4)\n",
    "        custom_brierloss = np.round(brier_score_loss(Y, probs), 4)  \n",
    "        \n",
    "        c_list.append(reg)\n",
    "        loss_list.append(custom_logloss)\n",
    "        print('C:', c, end=' ')\n",
    "        print(custom_logloss)\n",
    "\n",
    "        accuracy = accuracy_score(Y, preds)\n",
    "        precision, recall, fscore, support = score(Y, preds)\n",
    "        # accuracy: (tp + tn) / (p + n)\n",
    "        # precision tp / (tp + fp)\n",
    "        # recall:   tp / (tp + fn)\n",
    "        # f1: 2 tp / (2 tp + fp + fn)\n",
    "        accuracy = np.round(accuracy, 4)\n",
    "        precision[1] = np.round(precision[1], 4)\n",
    "        recall[1] = np.round(recall[1], 4)\n",
    "        fscore[1] = np.round(fscore[1], 4)\n",
    "        support[1] = np.round(support[1], 4)\n",
    "\n",
    "#        if best_recall < recall[1]:\n",
    "        if best_logloss > custom_logloss:\n",
    "            best_logloss = custom_logloss\n",
    "            best_accuracy = accuracy\n",
    "            best_recall = recall[1]\n",
    "            best_precision = precision[1]\n",
    "            best_fscore = fscore[1]\n",
    "            best_support = support[1]\n",
    "            best_model = model\n",
    "            best_c = c\n",
    "        if best_brierloss > custom_brierloss:\n",
    "            best_brierloss = custom_brierloss\n",
    "            \n",
    "    classifier[cls] = best_model\n",
    "    return (best_accuracy, best_precision, best_recall, best_fscore, best_support, best_logloss, best_brierloss, best_c, numdoc[cls])\n",
    "\n"
   ]
  },
  {
   "cell_type": "code",
   "execution_count": 11,
   "metadata": {},
   "outputs": [
    {
     "data": {
      "application/vnd.jupyter.widget-view+json": {
       "model_id": "21867d3bccd644c7ba4a86f463f61359",
       "version_major": 2,
       "version_minor": 0
      },
      "text/plain": [
       "HBox(children=(FloatProgress(value=0.0, max=1679.0), HTML(value='')))"
      ]
     },
     "metadata": {},
     "output_type": "display_data"
    },
    {
     "name": "stdout",
     "output_type": "stream",
     "text": [
      "\n",
      "------------------------------------\n",
      "\n",
      "0.0    1377\n",
      "1.0     302\n",
      "Name: CR-00-00-00-00, dtype: int64\n",
      "data set size 1679\n",
      "C: 256.0 0.3041\n",
      "C: 128.0 0.3024\n",
      "C: 64.0 0.3023\n",
      "C: 32.0 0.3056\n",
      "C: 16.0 0.3136\n",
      "C: 8.0 0.3279\n",
      "C: 4.0 0.3493\n",
      "C: 2.0 0.3788\n",
      "C: 1.0 0.4172\n",
      "(0.8749, 0.6106, 0.8411, 0.7075, 302, 0.3023, 0.0907, 64.0, 1679)\n"
     ]
    },
    {
     "data": {
      "image/png": "[encoded data removed]",
      "text/plain": [
       "<Figure size 432x288 with 1 Axes>"
      ]
     },
     "metadata": {},
     "output_type": "display_data"
    },
    {
     "name": "stdout",
     "output_type": "stream",
     "text": [
      "64.0\n"
     ]
    }
   ],
   "source": [
    "c_list = []\n",
    "loss_list = []\n",
    "\n",
    "cls = 'CR-00-00-00-00'\n",
    "print(predict_by_class_glove_grid(dfset, cls))\n",
    "\n",
    "\n",
    "\n",
    "# plotting the points  \n",
    "plt.plot(range(-8,1), loss_list)  \n",
    "plt.xlabel('reg values') \n",
    "plt.ylabel('log_loss') \n",
    "plt.title('Hyperparameter Selection') \n",
    "plt.show() \n",
    "print(classifier[cls].C)"
   ]
  },
  {
   "cell_type": "markdown",
   "metadata": {
    "colab_type": "text",
    "id": "ZqPjMWHLfCWn",
    "janus": {
     "all_versions_showing": false,
     "cell_hidden": false,
     "current_version": 0,
     "id": "6d16c3e0c6dac",
     "named_versions": [],
     "output_hidden": false,
     "show_versions": false,
     "source_hidden": false,
     "versions": []
    }
   },
   "source": [
    "# Entire Data "
   ]
  },
  {
   "cell_type": "markdown",
   "metadata": {
    "colab_type": "text",
    "id": "QLxJKWdxfQEs",
    "janus": {
     "all_versions_showing": false,
     "cell_hidden": false,
     "current_version": 0,
     "id": "1f636377bc915",
     "named_versions": [],
     "output_hidden": false,
     "show_versions": false,
     "source_hidden": false,
     "versions": []
    }
   },
   "source": [
    "## Build Models and Calculating Accuracies"
   ]
  },
  {
   "cell_type": "code",
   "execution_count": 12,
   "metadata": {
    "colab": {},
    "colab_type": "code",
    "id": "nJUvNbLprOTe",
    "janus": {
     "all_versions_showing": false,
     "cell_hidden": true,
     "current_version": 0,
     "id": "381e7a94d7c67",
     "named_versions": [],
     "output_hidden": true,
     "show_versions": false,
     "source_hidden": true,
     "versions": []
    }
   },
   "outputs": [
    {
     "name": "stdout",
     "output_type": "stream",
     "text": [
      "Index(['BE-00-00-00-00', 'BU-00-00-00-00', 'CO-00-00-00-00', 'CR-00-00-00-00',\n",
      "       'CR-01-00-00-00', 'CR-04-00-00-00', 'CR-06-00-00-00', 'CR-10-00-00-00',\n",
      "       'ED-00-00-00-00', 'ES-00-00-00-00', 'ES-01-00-00-00', 'ES-03-00-00-00',\n",
      "       'FA-00-00-00-00', 'FA-05-00-00-00', 'FA-06-00-00-00', 'FA-07-00-00-00',\n",
      "       'GO-00-00-00-00', 'HE-00-00-00-00', 'HO-00-00-00-00', 'HO-06-00-00-00',\n",
      "       'HO-09-00-00-00', 'IM-00-00-00-00', 'MO-00-00-00-00', 'MO-02-00-00-00',\n",
      "       'MO-07-00-00-00', 'MO-10-00-00-00', 'RI-00-00-00-00', 'TO-00-00-00-00',\n",
      "       'TR-00-00-00-00', 'TR-01-00-00-00', 'TR-02-00-00-00', 'TR-03-00-00-00',\n",
      "       'TR-04-00-00-00', 'TR-05-00-00-00', 'WO-00-00-00-00', 'WO-03-00-00-00'],\n",
      "      dtype='object')\n"
     ]
    },
    {
     "data": {
      "application/vnd.jupyter.widget-view+json": {
       "model_id": "4844417266a8452c84fdd84bf233cfa2",
       "version_major": 2,
       "version_minor": 0
      },
      "text/plain": [
       "HBox(children=(FloatProgress(value=0.0, max=36.0), HTML(value='')))"
      ]
     },
     "metadata": {},
     "output_type": "display_data"
    },
    {
     "data": {
      "application/vnd.jupyter.widget-view+json": {
       "model_id": "f5e8816f3c7b44c3a418c529219474d8",
       "version_major": 2,
       "version_minor": 0
      },
      "text/plain": [
       "HBox(children=(FloatProgress(value=0.0, max=1848.0), HTML(value='')))"
      ]
     },
     "metadata": {},
     "output_type": "display_data"
    },
    {
     "name": "stdout",
     "output_type": "stream",
     "text": [
      "\n",
      "------------------------------------\n",
      "\n",
      "0.0    1821\n",
      "1.0      27\n",
      "Name: BE-00-00-00-00, dtype: int64\n",
      "data set size 1848\n",
      "C: 256.0 0.1996\n",
      "C: 128.0 0.2026\n",
      "C: 64.0 0.2108\n",
      "C: 32.0 0.225\n",
      "C: 16.0 0.2461\n",
      "C: 8.0 0.2742\n",
      "C: 4.0 0.3093\n",
      "C: 2.0 0.3512\n",
      "C: 1.0 0.4004\n",
      "statistics (0.9302, 0.1304, 0.6667, 0.2182, 27, 0.1996, 0.0532, 256.0, 1848)\n"
     ]
    },
    {
     "data": {
      "application/vnd.jupyter.widget-view+json": {
       "model_id": "cef3cfd201404fc889ddd39291376939",
       "version_major": 2,
       "version_minor": 0
      },
      "text/plain": [
       "HBox(children=(FloatProgress(value=0.0, max=1590.0), HTML(value='')))"
      ]
     },
     "metadata": {},
     "output_type": "display_data"
    },
    {
     "name": "stdout",
     "output_type": "stream",
     "text": [
      "\n",
      "------------------------------------\n",
      "\n",
      "0.0    1497\n",
      "1.0      93\n",
      "Name: BU-00-00-00-00, dtype: int64\n",
      "data set size 1590\n",
      "C: 256.0 0.1664\n",
      "C: 128.0 0.1666\n",
      "C: 64.0 0.1697\n",
      "C: 32.0 0.1754\n",
      "C: 16.0 0.1839\n",
      "C: 8.0 0.197\n",
      "C: 4.0 0.2168\n",
      "C: 2.0 0.2458\n",
      "C: 1.0 0.2862\n",
      "statistics (0.9396, 0.4909, 0.871, 0.6279, 93, 0.1664, 0.0465, 256.0, 1590)\n"
     ]
    },
    {
     "data": {
      "application/vnd.jupyter.widget-view+json": {
       "model_id": "cca8c55a2b55432f8f97bc671763e1d8",
       "version_major": 2,
       "version_minor": 0
      },
      "text/plain": [
       "HBox(children=(FloatProgress(value=0.0, max=1164.0), HTML(value='')))"
      ]
     },
     "metadata": {},
     "output_type": "display_data"
    },
    {
     "name": "stdout",
     "output_type": "stream",
     "text": [
      "\n",
      "------------------------------------\n",
      "\n",
      "0.0    1058\n",
      "1.0     106\n",
      "Name: CO-00-00-00-00, dtype: int64\n",
      "data set size 1164\n",
      "C: 256.0 0.3081\n",
      "C: 128.0 0.3049\n",
      "C: 64.0 0.304\n",
      "C: 32.0 0.3077\n",
      "C: 16.0 0.3181\n",
      "C: 8.0 0.3367\n",
      "C: 4.0 0.3642\n",
      "C: 2.0 0.4007\n",
      "C: 1.0 0.4461\n",
      "statistics (0.8935, 0.4521, 0.8019, 0.5782, 106, 0.304, 0.0877, 64.0, 1164)\n"
     ]
    },
    {
     "data": {
      "application/vnd.jupyter.widget-view+json": {
       "model_id": "d6190d52b6a14cf59b7da32a739970a3",
       "version_major": 2,
       "version_minor": 0
      },
      "text/plain": [
       "HBox(children=(FloatProgress(value=0.0, max=1679.0), HTML(value='')))"
      ]
     },
     "metadata": {},
     "output_type": "display_data"
    },
    {
     "name": "stdout",
     "output_type": "stream",
     "text": [
      "\n",
      "------------------------------------\n",
      "\n",
      "0.0    1377\n",
      "1.0     302\n",
      "Name: CR-00-00-00-00, dtype: int64\n",
      "data set size 1679\n",
      "C: 256.0 0.3041\n",
      "C: 128.0 0.3024\n",
      "C: 64.0 0.3023\n",
      "C: 32.0 0.3056\n",
      "C: 16.0 0.3136\n",
      "C: 8.0 0.3279\n",
      "C: 4.0 0.3493\n",
      "C: 2.0 0.3788\n",
      "C: 1.0 0.4172\n",
      "statistics (0.8749, 0.6106, 0.8411, 0.7075, 302, 0.3023, 0.0907, 64.0, 1679)\n"
     ]
    },
    {
     "data": {
      "application/vnd.jupyter.widget-view+json": {
       "model_id": "996800f3de0c40279b311e0a28b650c0",
       "version_major": 2,
       "version_minor": 0
      },
      "text/plain": [
       "HBox(children=(FloatProgress(value=0.0, max=1393.0), HTML(value='')))"
      ]
     },
     "metadata": {},
     "output_type": "display_data"
    },
    {
     "name": "stdout",
     "output_type": "stream",
     "text": [
      "\n",
      "------------------------------------\n",
      "\n",
      "0.0    1381\n",
      "1.0      12\n",
      "Name: CR-01-00-00-00, dtype: int64\n",
      "data set size 1393\n",
      "C: 256.0 0.2066\n",
      "C: 128.0 0.2124\n",
      "C: 64.0 0.2258\n",
      "C: 32.0 0.2464\n",
      "C: 16.0 0.2741\n",
      "C: 8.0 0.309\n",
      "C: 4.0 0.3508\n",
      "C: 2.0 0.399\n",
      "C: 1.0 0.4526\n",
      "statistics (0.9296, 0.0222, 0.1667, 0.0392, 12, 0.2066, 0.054, 256.0, 1393)\n"
     ]
    },
    {
     "data": {
      "application/vnd.jupyter.widget-view+json": {
       "model_id": "6d3818da0bc8408ab234acb195413666",
       "version_major": 2,
       "version_minor": 0
      },
      "text/plain": [
       "HBox(children=(FloatProgress(value=0.0, max=1402.0), HTML(value='')))"
      ]
     },
     "metadata": {},
     "output_type": "display_data"
    },
    {
     "name": "stdout",
     "output_type": "stream",
     "text": [
      "\n",
      "------------------------------------\n",
      "\n",
      "0.0    1389\n",
      "1.0      13\n",
      "Name: CR-04-00-00-00, dtype: int64\n",
      "data set size 1402\n",
      "C: 256.0 0.2624\n",
      "C: 128.0 0.2721\n",
      "C: 64.0 0.2865\n",
      "C: 32.0 0.3053\n",
      "C: 16.0 0.329\n",
      "C: 8.0 0.3576\n",
      "C: 4.0 0.3912\n",
      "C: 2.0 0.4302\n",
      "C: 1.0 0.4744\n",
      "statistics (0.9158, 0.027, 0.2308, 0.0484, 13, 0.2624, 0.0685, 256.0, 1402)\n"
     ]
    },
    {
     "data": {
      "application/vnd.jupyter.widget-view+json": {
       "model_id": "556a2faded164b9b9a200093adadddfc",
       "version_major": 2,
       "version_minor": 0
      },
      "text/plain": [
       "HBox(children=(FloatProgress(value=0.0, max=1404.0), HTML(value='')))"
      ]
     },
     "metadata": {},
     "output_type": "display_data"
    },
    {
     "name": "stdout",
     "output_type": "stream",
     "text": [
      "\n",
      "------------------------------------\n",
      "\n",
      "0.0    1393\n",
      "1.0      11\n",
      "Name: CR-06-00-00-00, dtype: int64\n",
      "data set size 1404\n",
      "C: 256.0 0.1545\n",
      "C: 128.0 0.1657\n",
      "C: 64.0 0.1815\n",
      "C: 32.0 0.2026\n",
      "C: 16.0 0.2304\n",
      "C: 8.0 0.2655\n",
      "C: 4.0 0.3083\n",
      "C: 2.0 0.3588\n",
      "C: 1.0 0.4167\n",
      "statistics (0.9423, 0.0395, 0.2727, 0.069, 11, 0.1545, 0.042, 256.0, 1404)\n"
     ]
    },
    {
     "data": {
      "application/vnd.jupyter.widget-view+json": {
       "model_id": "52c5b82feffd499ca5bb03bdf1abd21e",
       "version_major": 2,
       "version_minor": 0
      },
      "text/plain": [
       "HBox(children=(FloatProgress(value=0.0, max=1969.0), HTML(value='')))"
      ]
     },
     "metadata": {},
     "output_type": "display_data"
    },
    {
     "name": "stdout",
     "output_type": "stream",
     "text": [
      "\n",
      "------------------------------------\n",
      "\n",
      "0.0    1958\n",
      "1.0      11\n",
      "Name: CR-10-00-00-00, dtype: int64\n",
      "data set size 1969\n",
      "C: 256.0 0.1737\n",
      "C: 128.0 0.1839\n",
      "C: 64.0 0.1978\n",
      "C: 32.0 0.2172\n",
      "C: 16.0 0.2428\n",
      "C: 8.0 0.2742\n",
      "C: 4.0 0.3117\n",
      "C: 2.0 0.3557\n",
      "C: 1.0 0.4065\n",
      "statistics (0.9431, 0.019, 0.1818, 0.0345, 11, 0.1737, 0.0437, 256.0, 1969)\n"
     ]
    },
    {
     "data": {
      "application/vnd.jupyter.widget-view+json": {
       "model_id": "03d094604a1c4b01a69e65d9cc4c90d7",
       "version_major": 2,
       "version_minor": 0
      },
      "text/plain": [
       "HBox(children=(FloatProgress(value=0.0, max=1813.0), HTML(value='')))"
      ]
     },
     "metadata": {},
     "output_type": "display_data"
    },
    {
     "name": "stdout",
     "output_type": "stream",
     "text": [
      "\n",
      "------------------------------------\n",
      "\n",
      "0.0    1789\n",
      "1.0      24\n",
      "Name: ED-00-00-00-00, dtype: int64\n",
      "data set size 1813\n",
      "C: 256.0 0.1264\n",
      "C: 128.0 0.1312\n",
      "C: 64.0 0.1398\n",
      "C: 32.0 0.1534\n",
      "C: 16.0 0.173\n",
      "C: 8.0 0.1997\n",
      "C: 4.0 0.2343\n",
      "C: 2.0 0.2777\n",
      "C: 1.0 0.3309\n",
      "statistics (0.963, 0.2133, 0.6667, 0.3232, 24, 0.1264, 0.029, 256.0, 1813)\n"
     ]
    },
    {
     "data": {
      "application/vnd.jupyter.widget-view+json": {
       "model_id": "5e3557d9a3994b60ae6be0e7c65273dd",
       "version_major": 2,
       "version_minor": 0
      },
      "text/plain": [
       "HBox(children=(FloatProgress(value=0.0, max=1944.0), HTML(value='')))"
      ]
     },
     "metadata": {},
     "output_type": "display_data"
    },
    {
     "name": "stdout",
     "output_type": "stream",
     "text": [
      "\n",
      "------------------------------------\n",
      "\n",
      "0.0    1866\n",
      "1.0      78\n",
      "Name: ES-00-00-00-00, dtype: int64\n",
      "data set size 1944\n",
      "C: 256.0 0.2141\n",
      "C: 128.0 0.2108\n",
      "C: 64.0 0.2122\n",
      "C: 32.0 0.2198\n",
      "C: 16.0 0.2345\n",
      "C: 8.0 0.2565\n",
      "C: 4.0 0.2858\n",
      "C: 2.0 0.3226\n",
      "C: 1.0 0.3675\n",
      "statistics (0.9136, 0.2955, 0.8333, 0.4362, 78, 0.2108, 0.0622, 128.0, 1944)\n"
     ]
    },
    {
     "data": {
      "application/vnd.jupyter.widget-view+json": {
       "model_id": "2d5edd64c933492cb5b04fcc493ef14b",
       "version_major": 2,
       "version_minor": 0
      },
      "text/plain": [
       "HBox(children=(FloatProgress(value=0.0, max=1876.0), HTML(value='')))"
      ]
     },
     "metadata": {},
     "output_type": "display_data"
    },
    {
     "name": "stdout",
     "output_type": "stream",
     "text": [
      "\n",
      "------------------------------------\n",
      "\n",
      "0.0    1866\n",
      "1.0      10\n",
      "Name: ES-01-00-00-00, dtype: int64\n",
      "data set size 1876\n",
      "C: 256.0 0.0877\n",
      "C: 128.0 0.0983\n",
      "C: 64.0 0.1131\n",
      "C: 32.0 0.1327\n",
      "C: 16.0 0.1585\n",
      "C: 8.0 0.192\n",
      "C: 4.0 0.2347\n",
      "C: 2.0 0.2869\n",
      "C: 1.0 0.3479\n",
      "statistics (0.967, 0.0517, 0.3, 0.0882, 10, 0.0877, 0.0238, 256.0, 1876)\n"
     ]
    },
    {
     "data": {
      "application/vnd.jupyter.widget-view+json": {
       "model_id": "57a0a200556f4f11817cb2eaa2fee010",
       "version_major": 2,
       "version_minor": 0
      },
      "text/plain": [
       "HBox(children=(FloatProgress(value=0.0, max=1992.0), HTML(value='')))"
      ]
     },
     "metadata": {},
     "output_type": "display_data"
    },
    {
     "name": "stdout",
     "output_type": "stream",
     "text": [
      "\n",
      "------------------------------------\n",
      "\n",
      "0.0    1979\n",
      "1.0      13\n",
      "Name: ES-03-00-00-00, dtype: int64\n",
      "data set size 1992\n",
      "C: 256.0 0.2039\n",
      "C: 128.0 0.2044\n",
      "C: 64.0 0.2105\n",
      "C: 32.0 0.2223\n",
      "C: 16.0 0.24\n",
      "C: 8.0 0.2639\n",
      "C: 4.0 0.2934\n",
      "C: 2.0 0.3284\n",
      "C: 1.0 0.3698\n",
      "statistics (0.9357, 0.0325, 0.3077, 0.0588, 13, 0.2039, 0.0505, 256.0, 1992)\n"
     ]
    },
    {
     "data": {
      "application/vnd.jupyter.widget-view+json": {
       "model_id": "0a121c65080543959e254e63500754cc",
       "version_major": 2,
       "version_minor": 0
      },
      "text/plain": [
       "HBox(children=(FloatProgress(value=0.0, max=2042.0), HTML(value='')))"
      ]
     },
     "metadata": {},
     "output_type": "display_data"
    },
    {
     "name": "stdout",
     "output_type": "stream",
     "text": [
      "\n",
      "------------------------------------\n",
      "\n",
      "0.0    1685\n",
      "1.0     357\n",
      "Name: FA-00-00-00-00, dtype: int64\n",
      "data set size 2042\n",
      "C: 256.0 0.2564\n",
      "C: 128.0 0.2575\n",
      "C: 64.0 0.2611\n",
      "C: 32.0 0.2679\n",
      "C: 16.0 0.2785\n",
      "C: 8.0 0.294\n",
      "C: 4.0 0.3154\n",
      "C: 2.0 0.3445\n",
      "C: 1.0 0.3825\n",
      "statistics (0.8991, 0.6538, 0.8992, 0.7571, 357, 0.2564, 0.0758, 256.0, 2042)\n"
     ]
    },
    {
     "data": {
      "application/vnd.jupyter.widget-view+json": {
       "model_id": "c288778ab06f47d59a1ba8b5fdb5ffc6",
       "version_major": 2,
       "version_minor": 0
      },
      "text/plain": [
       "HBox(children=(FloatProgress(value=0.0, max=2011.0), HTML(value='')))"
      ]
     },
     "metadata": {},
     "output_type": "display_data"
    },
    {
     "name": "stdout",
     "output_type": "stream",
     "text": [
      "\n",
      "------------------------------------\n",
      "\n",
      "0.0    2001\n",
      "1.0      10\n",
      "Name: FA-05-00-00-00, dtype: int64\n",
      "data set size 2011\n",
      "C: 256.0 0.138\n",
      "C: 128.0 0.1493\n",
      "C: 64.0 0.1651\n",
      "C: 32.0 0.1852\n",
      "C: 16.0 0.2101\n",
      "C: 8.0 0.24\n",
      "C: 4.0 0.2746\n",
      "C: 2.0 0.3141\n",
      "C: 1.0 0.3596\n",
      "statistics (0.9582, 0.0256, 0.2, 0.0455, 10, 0.138, 0.0347, 256.0, 2011)\n"
     ]
    },
    {
     "data": {
      "application/vnd.jupyter.widget-view+json": {
       "model_id": "5624127eb495482c914750ca6f746e3e",
       "version_major": 2,
       "version_minor": 0
      },
      "text/plain": [
       "HBox(children=(FloatProgress(value=0.0, max=1791.0), HTML(value='')))"
      ]
     },
     "metadata": {},
     "output_type": "display_data"
    },
    {
     "name": "stdout",
     "output_type": "stream",
     "text": [
      "\n",
      "------------------------------------\n",
      "\n",
      "0.0    1781\n",
      "1.0      10\n",
      "Name: FA-06-00-00-00, dtype: int64\n",
      "data set size 1791\n",
      "C: 256.0 0.1511\n",
      "C: 128.0 0.1623\n",
      "C: 64.0 0.1782\n",
      "C: 32.0 0.1979\n",
      "C: 16.0 0.2217\n",
      "C: 8.0 0.2502\n",
      "C: 4.0 0.2847\n",
      "C: 2.0 0.3261\n",
      "C: 1.0 0.3751\n",
      "statistics (0.9531, 0.0375, 0.3, 0.0667, 10, 0.1511, 0.0382, 256.0, 1791)\n"
     ]
    },
    {
     "data": {
      "application/vnd.jupyter.widget-view+json": {
       "model_id": "375e8b6a1c6e4382818ab8a588439e72",
       "version_major": 2,
       "version_minor": 0
      },
      "text/plain": [
       "HBox(children=(FloatProgress(value=0.0, max=1968.0), HTML(value='')))"
      ]
     },
     "metadata": {},
     "output_type": "display_data"
    },
    {
     "name": "stdout",
     "output_type": "stream",
     "text": [
      "\n",
      "------------------------------------\n",
      "\n",
      "0.0    1927\n",
      "1.0      41\n",
      "Name: FA-07-00-00-00, dtype: int64\n",
      "data set size 1968\n",
      "C: 256.0 0.3277\n",
      "C: 128.0 0.3285\n",
      "C: 64.0 0.3337\n",
      "C: 32.0 0.3437\n",
      "C: 16.0 0.358\n",
      "C: 8.0 0.3764\n",
      "C: 4.0 0.3981\n",
      "C: 2.0 0.4226\n",
      "C: 1.0 0.4505\n",
      "statistics (0.8613, 0.0857, 0.5854, 0.1495, 41, 0.3277, 0.0992, 256.0, 1968)\n"
     ]
    },
    {
     "data": {
      "application/vnd.jupyter.widget-view+json": {
       "model_id": "b87b168f42cd491b89e45cab1cf942bf",
       "version_major": 2,
       "version_minor": 0
      },
      "text/plain": [
       "HBox(children=(FloatProgress(value=0.0, max=1517.0), HTML(value='')))"
      ]
     },
     "metadata": {},
     "output_type": "display_data"
    },
    {
     "name": "stdout",
     "output_type": "stream",
     "text": [
      "\n",
      "------------------------------------\n",
      "\n",
      "0.0    1504\n",
      "1.0      13\n",
      "Name: GO-00-00-00-00, dtype: int64\n",
      "data set size 1517\n",
      "C: 256.0 0.2298\n",
      "C: 128.0 0.2369\n",
      "C: 64.0 0.2503\n",
      "C: 32.0 0.2689\n",
      "C: 16.0 0.2932\n",
      "C: 8.0 0.3241\n",
      "C: 4.0 0.3623\n",
      "C: 2.0 0.4079\n",
      "C: 1.0 0.4594\n",
      "statistics (0.9288, 0.0202, 0.1538, 0.0357, 13, 0.2298, 0.0556, 256.0, 1517)\n"
     ]
    },
    {
     "data": {
      "application/vnd.jupyter.widget-view+json": {
       "model_id": "502ddab6ebde4616b6e2e5856415ee86",
       "version_major": 2,
       "version_minor": 0
      },
      "text/plain": [
       "HBox(children=(FloatProgress(value=0.0, max=1900.0), HTML(value='')))"
      ]
     },
     "metadata": {},
     "output_type": "display_data"
    },
    {
     "name": "stdout",
     "output_type": "stream",
     "text": [
      "\n",
      "------------------------------------\n",
      "\n",
      "0.0    1778\n",
      "1.0     122\n",
      "Name: HE-00-00-00-00, dtype: int64\n",
      "data set size 1900\n",
      "C: 256.0 0.1864\n",
      "C: 128.0 0.1833\n",
      "C: 64.0 0.1836\n",
      "C: 32.0 0.1882\n",
      "C: 16.0 0.1981\n",
      "C: 8.0 0.215\n",
      "C: 4.0 0.2409\n",
      "C: 2.0 0.2776\n",
      "C: 1.0 0.3261\n",
      "statistics (0.9384, 0.5121, 0.8689, 0.6444, 122, 0.1833, 0.0501, 128.0, 1900)\n"
     ]
    },
    {
     "data": {
      "application/vnd.jupyter.widget-view+json": {
       "model_id": "69f6cd28368b4c848049b864fad11980",
       "version_major": 2,
       "version_minor": 0
      },
      "text/plain": [
       "HBox(children=(FloatProgress(value=0.0, max=2132.0), HTML(value='')))"
      ]
     },
     "metadata": {},
     "output_type": "display_data"
    },
    {
     "name": "stdout",
     "output_type": "stream",
     "text": [
      "\n",
      "------------------------------------\n",
      "\n",
      "0.0    1582\n",
      "1.0     550\n",
      "Name: HO-00-00-00-00, dtype: int64\n",
      "data set size 2132\n",
      "C: 256.0 0.2193\n",
      "C: 128.0 0.2206\n",
      "C: 64.0 0.2229\n",
      "C: 32.0 0.2284\n",
      "C: 16.0 0.2395\n",
      "C: 8.0 0.2583\n",
      "C: 4.0 0.2868\n",
      "C: 2.0 0.3265\n",
      "C: 1.0 0.3775\n",
      "statistics (0.9278, 0.8225, 0.9182, 0.8677, 550, 0.2193, 0.0606, 256.0, 2132)\n"
     ]
    },
    {
     "data": {
      "application/vnd.jupyter.widget-view+json": {
       "model_id": "5581b222eb1445e8b0fc054862f924ce",
       "version_major": 2,
       "version_minor": 0
      },
      "text/plain": [
       "HBox(children=(FloatProgress(value=0.0, max=1662.0), HTML(value='')))"
      ]
     },
     "metadata": {},
     "output_type": "display_data"
    },
    {
     "name": "stdout",
     "output_type": "stream",
     "text": [
      "\n",
      "------------------------------------\n",
      "\n",
      "0.0    1628\n",
      "1.0      34\n",
      "Name: HO-06-00-00-00, dtype: int64\n",
      "data set size 1662\n",
      "C: 256.0 0.2663\n",
      "C: 128.0 0.2649\n",
      "C: 64.0 0.267\n",
      "C: 32.0 0.2736\n",
      "C: 16.0 0.2863\n",
      "C: 8.0 0.3069\n",
      "C: 4.0 0.337\n",
      "C: 2.0 0.3773\n",
      "C: 1.0 0.4271\n",
      "statistics (0.9031, 0.1371, 0.7059, 0.2297, 34, 0.2649, 0.0728, 128.0, 1662)\n"
     ]
    },
    {
     "data": {
      "application/vnd.jupyter.widget-view+json": {
       "model_id": "ac52194b081a4ee5ae13268c6024fdbc",
       "version_major": 2,
       "version_minor": 0
      },
      "text/plain": [
       "HBox(children=(FloatProgress(value=0.0, max=1653.0), HTML(value='')))"
      ]
     },
     "metadata": {},
     "output_type": "display_data"
    },
    {
     "name": "stdout",
     "output_type": "stream",
     "text": [
      "\n",
      "------------------------------------\n",
      "\n",
      "0.0    1626\n",
      "1.0      27\n",
      "Name: HO-09-00-00-00, dtype: int64\n",
      "data set size 1653\n",
      "C: 256.0 0.1779\n",
      "C: 128.0 0.1763\n",
      "C: 64.0 0.1806\n",
      "C: 32.0 0.1912\n",
      "C: 16.0 0.2085\n",
      "C: 8.0 0.2333\n",
      "C: 4.0 0.2661\n",
      "C: 2.0 0.3077\n",
      "C: 1.0 0.358\n",
      "statistics (0.9413, 0.1698, 0.6667, 0.2707, 27, 0.1763, 0.0459, 128.0, 1653)\n"
     ]
    },
    {
     "data": {
      "application/vnd.jupyter.widget-view+json": {
       "model_id": "1689c7a5465d475781ce1250989bb1c2",
       "version_major": 2,
       "version_minor": 0
      },
      "text/plain": [
       "HBox(children=(FloatProgress(value=0.0, max=1964.0), HTML(value='')))"
      ]
     },
     "metadata": {},
     "output_type": "display_data"
    },
    {
     "name": "stdout",
     "output_type": "stream",
     "text": [
      "\n",
      "------------------------------------\n",
      "\n",
      "0.0    1928\n",
      "1.0      36\n",
      "Name: IM-00-00-00-00, dtype: int64\n",
      "data set size 1964\n",
      "C: 256.0 0.1226\n",
      "C: 128.0 0.1283\n",
      "C: 64.0 0.1381\n",
      "C: 32.0 0.1521\n",
      "C: 16.0 0.1712\n",
      "C: 8.0 0.1964\n",
      "C: 4.0 0.2289\n",
      "C: 2.0 0.2697\n",
      "C: 1.0 0.3198\n",
      "statistics (0.9577, 0.2718, 0.7778, 0.4029, 36, 0.1226, 0.0327, 256.0, 1964)\n"
     ]
    },
    {
     "data": {
      "application/vnd.jupyter.widget-view+json": {
       "model_id": "769674ee23b24a588e5f8915a0005bff",
       "version_major": 2,
       "version_minor": 0
      },
      "text/plain": [
       "HBox(children=(FloatProgress(value=0.0, max=1429.0), HTML(value='')))"
      ]
     },
     "metadata": {},
     "output_type": "display_data"
    },
    {
     "name": "stdout",
     "output_type": "stream",
     "text": [
      "\n",
      "------------------------------------\n",
      "\n",
      "0.0    1063\n",
      "1.0     366\n",
      "Name: MO-00-00-00-00, dtype: int64\n",
      "data set size 1429\n",
      "C: 256.0 0.3778\n",
      "C: 128.0 0.377\n",
      "C: 64.0 0.3774\n",
      "C: 32.0 0.3804\n",
      "C: 16.0 0.3873\n",
      "C: 8.0 0.3998\n",
      "C: 4.0 0.4194\n",
      "C: 2.0 0.4471\n",
      "C: 1.0 0.4826\n",
      "statistics (0.8279, 0.631, 0.7896, 0.7015, 366, 0.377, 0.1186, 128.0, 1429)\n"
     ]
    },
    {
     "data": {
      "application/vnd.jupyter.widget-view+json": {
       "model_id": "fb647d3eaa0f47a38f0f0a64cad888a9",
       "version_major": 2,
       "version_minor": 0
      },
      "text/plain": [
       "HBox(children=(FloatProgress(value=0.0, max=1949.0), HTML(value='')))"
      ]
     },
     "metadata": {},
     "output_type": "display_data"
    },
    {
     "name": "stdout",
     "output_type": "stream",
     "text": [
      "\n",
      "------------------------------------\n",
      "\n",
      "0.0    1937\n",
      "1.0      12\n",
      "Name: MO-02-00-00-00, dtype: int64\n",
      "data set size 1949\n",
      "C: 256.0 0.1386\n",
      "C: 128.0 0.1438\n",
      "C: 64.0 0.1547\n",
      "C: 32.0 0.1714\n",
      "C: 16.0 0.1942\n",
      "C: 8.0 0.224\n",
      "C: 4.0 0.2613\n",
      "C: 2.0 0.3069\n",
      "C: 1.0 0.361\n",
      "statistics (0.959, 0.0526, 0.3333, 0.0909, 12, 0.1386, 0.0319, 256.0, 1949)\n"
     ]
    },
    {
     "data": {
      "application/vnd.jupyter.widget-view+json": {
       "model_id": "3f15bdb86cae4843903b623d4de2b5c7",
       "version_major": 2,
       "version_minor": 0
      },
      "text/plain": [
       "HBox(children=(FloatProgress(value=0.0, max=1129.0), HTML(value='')))"
      ]
     },
     "metadata": {},
     "output_type": "display_data"
    },
    {
     "name": "stdout",
     "output_type": "stream",
     "text": [
      "\n",
      "------------------------------------\n",
      "\n",
      "0.0    1116\n",
      "1.0      13\n",
      "Name: MO-07-00-00-00, dtype: int64\n",
      "data set size 1129\n",
      "C: 256.0 0.104\n",
      "C: 128.0 0.1188\n",
      "C: 64.0 0.1377\n",
      "C: 32.0 0.1614\n",
      "C: 16.0 0.1918\n",
      "C: 8.0 0.2296\n",
      "C: 4.0 0.2749\n",
      "C: 2.0 0.3276\n",
      "C: 1.0 0.3876\n",
      "statistics (0.9601, 0.1522, 0.5385, 0.2373, 13, 0.104, 0.0295, 256.0, 1129)\n"
     ]
    },
    {
     "data": {
      "application/vnd.jupyter.widget-view+json": {
       "model_id": "5b73f668a87f4e24aadedfd84933c07e",
       "version_major": 2,
       "version_minor": 0
      },
      "text/plain": [
       "HBox(children=(FloatProgress(value=0.0, max=1106.0), HTML(value='')))"
      ]
     },
     "metadata": {},
     "output_type": "display_data"
    },
    {
     "name": "stdout",
     "output_type": "stream",
     "text": [
      "\n",
      "------------------------------------\n",
      "\n",
      "0.0    1095\n",
      "1.0      11\n",
      "Name: MO-10-00-00-00, dtype: int64\n",
      "data set size 1106\n",
      "C: 256.0 0.1898\n",
      "C: 128.0 0.1981\n",
      "C: 64.0 0.2129\n",
      "C: 32.0 0.2342\n",
      "C: 16.0 0.262\n",
      "C: 8.0 0.2967\n",
      "C: 4.0 0.3391\n",
      "C: 2.0 0.3894\n",
      "C: 1.0 0.4465\n",
      "statistics (0.9385, 0.0328, 0.1818, 0.0556, 11, 0.1898, 0.0481, 256.0, 1106)\n"
     ]
    },
    {
     "data": {
      "application/vnd.jupyter.widget-view+json": {
       "model_id": "7f4d4fb14c0b47a697da0564145c04b2",
       "version_major": 2,
       "version_minor": 0
      },
      "text/plain": [
       "HBox(children=(FloatProgress(value=0.0, max=1396.0), HTML(value='')))"
      ]
     },
     "metadata": {},
     "output_type": "display_data"
    },
    {
     "name": "stdout",
     "output_type": "stream",
     "text": [
      "\n",
      "------------------------------------\n",
      "\n",
      "0.0    1374\n",
      "1.0      22\n",
      "Name: RI-00-00-00-00, dtype: int64\n",
      "data set size 1396\n",
      "C: 256.0 0.375\n",
      "C: 128.0 0.3687\n",
      "C: 64.0 0.368\n",
      "C: 32.0 0.3727\n",
      "C: 16.0 0.3829\n",
      "C: 8.0 0.3995\n",
      "C: 4.0 0.4231\n",
      "C: 2.0 0.4537\n",
      "C: 1.0 0.4908\n",
      "statistics (0.8481, 0.0343, 0.3182, 0.0619, 22, 0.368, 0.1013, 64.0, 1396)\n"
     ]
    },
    {
     "data": {
      "application/vnd.jupyter.widget-view+json": {
       "model_id": "8e6512dd4c8e473b84c930cc8857f86d",
       "version_major": 2,
       "version_minor": 0
      },
      "text/plain": [
       "HBox(children=(FloatProgress(value=0.0, max=1257.0), HTML(value='')))"
      ]
     },
     "metadata": {},
     "output_type": "display_data"
    },
    {
     "name": "stdout",
     "output_type": "stream",
     "text": [
      "\n",
      "------------------------------------\n",
      "\n",
      "0.0    1027\n",
      "1.0     230\n",
      "Name: TO-00-00-00-00, dtype: int64\n",
      "data set size 1257\n",
      "C: 256.0 0.3706\n",
      "C: 128.0 0.3685\n",
      "C: 64.0 0.3659\n",
      "C: 32.0 0.3652\n",
      "C: 16.0 0.3696\n",
      "C: 8.0 0.3812\n",
      "C: 4.0 0.4013\n",
      "C: 2.0 0.43\n",
      "C: 1.0 0.4662\n",
      "statistics (0.8369, 0.5358, 0.813, 0.6459, 230, 0.3652, 0.1148, 32.0, 1257)\n"
     ]
    },
    {
     "data": {
      "application/vnd.jupyter.widget-view+json": {
       "model_id": "c051de2392f44742be23b3a4fc4383b8",
       "version_major": 2,
       "version_minor": 0
      },
      "text/plain": [
       "HBox(children=(FloatProgress(value=0.0, max=2006.0), HTML(value='')))"
      ]
     },
     "metadata": {},
     "output_type": "display_data"
    },
    {
     "name": "stdout",
     "output_type": "stream",
     "text": [
      "\n",
      "------------------------------------\n",
      "\n",
      "0.0    1746\n",
      "1.0     260\n",
      "Name: TR-00-00-00-00, dtype: int64\n",
      "data set size 2006\n",
      "C: 256.0 0.1923\n",
      "C: 128.0 0.1918\n",
      "C: 64.0 0.1926\n",
      "C: 32.0 0.1963\n",
      "C: 16.0 0.2046\n",
      "C: 8.0 0.2197\n",
      "C: 4.0 0.2436\n",
      "C: 2.0 0.2781\n",
      "C: 1.0 0.3244\n",
      "statistics (0.9327, 0.6781, 0.9154, 0.7791, 260, 0.1918, 0.0525, 128.0, 2006)\n"
     ]
    },
    {
     "data": {
      "application/vnd.jupyter.widget-view+json": {
       "model_id": "f171861ad3e148ec87767162eb92a5ac",
       "version_major": 2,
       "version_minor": 0
      },
      "text/plain": [
       "HBox(children=(FloatProgress(value=0.0, max=1827.0), HTML(value='')))"
      ]
     },
     "metadata": {},
     "output_type": "display_data"
    },
    {
     "name": "stdout",
     "output_type": "stream",
     "text": [
      "\n",
      "------------------------------------\n",
      "\n",
      "0.0    1805\n",
      "1.0      22\n",
      "Name: TR-01-00-00-00, dtype: int64\n",
      "data set size 1827\n",
      "C: 256.0 0.1534\n",
      "C: 128.0 0.1547\n",
      "C: 64.0 0.1606\n",
      "C: 32.0 0.1701\n",
      "C: 16.0 0.1835\n",
      "C: 8.0 0.202\n",
      "C: 4.0 0.2274\n",
      "C: 2.0 0.2621\n",
      "C: 1.0 0.3079\n",
      "statistics (0.9568, 0.1724, 0.6818, 0.2752, 22, 0.1534, 0.0372, 256.0, 1827)\n"
     ]
    },
    {
     "data": {
      "application/vnd.jupyter.widget-view+json": {
       "model_id": "4c7b0a4074e345529c1f4f53ae5012e5",
       "version_major": 2,
       "version_minor": 0
      },
      "text/plain": [
       "HBox(children=(FloatProgress(value=0.0, max=1819.0), HTML(value='')))"
      ]
     },
     "metadata": {},
     "output_type": "display_data"
    },
    {
     "name": "stdout",
     "output_type": "stream",
     "text": [
      "\n",
      "------------------------------------\n",
      "\n",
      "0.0    1790\n",
      "1.0      29\n",
      "Name: TR-02-00-00-00, dtype: int64\n",
      "data set size 1819\n",
      "C: 256.0 0.2065\n",
      "C: 128.0 0.2051\n",
      "C: 64.0 0.2086\n",
      "C: 32.0 0.2176\n",
      "C: 16.0 0.2327\n",
      "C: 8.0 0.2543\n",
      "C: 4.0 0.2831\n",
      "C: 2.0 0.3202\n",
      "C: 1.0 0.3665\n",
      "statistics (0.9274, 0.1295, 0.6207, 0.2143, 29, 0.2051, 0.0554, 128.0, 1819)\n"
     ]
    },
    {
     "data": {
      "application/vnd.jupyter.widget-view+json": {
       "model_id": "9d51a0348c1448c88e12b5a2983dc196",
       "version_major": 2,
       "version_minor": 0
      },
      "text/plain": [
       "HBox(children=(FloatProgress(value=0.0, max=1821.0), HTML(value='')))"
      ]
     },
     "metadata": {},
     "output_type": "display_data"
    },
    {
     "name": "stdout",
     "output_type": "stream",
     "text": [
      "\n",
      "------------------------------------\n",
      "\n",
      "0.0    1804\n",
      "1.0      17\n",
      "Name: TR-03-00-00-00, dtype: int64\n",
      "data set size 1821\n",
      "C: 256.0 0.1232\n",
      "C: 128.0 0.1322\n",
      "C: 64.0 0.1441\n",
      "C: 32.0 0.1597\n",
      "C: 16.0 0.1798\n",
      "C: 8.0 0.2058\n",
      "C: 4.0 0.2397\n",
      "C: 2.0 0.2833\n",
      "C: 1.0 0.3375\n",
      "statistics (0.9539, 0.0964, 0.4706, 0.16, 17, 0.1232, 0.0327, 256.0, 1821)\n"
     ]
    },
    {
     "data": {
      "application/vnd.jupyter.widget-view+json": {
       "model_id": "30c3a0fcd5214624a0c556978c18cfdc",
       "version_major": 2,
       "version_minor": 0
      },
      "text/plain": [
       "HBox(children=(FloatProgress(value=0.0, max=1815.0), HTML(value='')))"
      ]
     },
     "metadata": {},
     "output_type": "display_data"
    },
    {
     "name": "stdout",
     "output_type": "stream",
     "text": [
      "\n",
      "------------------------------------\n",
      "\n",
      "0.0    1795\n",
      "1.0      20\n",
      "Name: TR-04-00-00-00, dtype: int64\n",
      "data set size 1815\n",
      "C: 256.0 0.1374\n",
      "C: 128.0 0.1333\n",
      "C: 64.0 0.1347\n",
      "C: 32.0 0.1421\n",
      "C: 16.0 0.1562\n",
      "C: 8.0 0.1782\n",
      "C: 4.0 0.2092\n",
      "C: 2.0 0.2508\n",
      "C: 1.0 0.3048\n",
      "statistics (0.9642, 0.1739, 0.6, 0.2697, 20, 0.1333, 0.0287, 128.0, 1815)\n"
     ]
    },
    {
     "data": {
      "application/vnd.jupyter.widget-view+json": {
       "model_id": "7a732c76d2af4d1bb061175c6ecb6818",
       "version_major": 2,
       "version_minor": 0
      },
      "text/plain": [
       "HBox(children=(FloatProgress(value=0.0, max=1816.0), HTML(value='')))"
      ]
     },
     "metadata": {},
     "output_type": "display_data"
    },
    {
     "name": "stdout",
     "output_type": "stream",
     "text": [
      "\n",
      "------------------------------------\n",
      "\n",
      "0.0    1785\n",
      "1.0      31\n",
      "Name: TR-05-00-00-00, dtype: int64\n",
      "data set size 1816\n",
      "C: 256.0 0.1098\n",
      "C: 128.0 0.1148\n",
      "C: 64.0 0.1218\n",
      "C: 32.0 0.1313\n",
      "C: 16.0 0.1449\n",
      "C: 8.0 0.1644\n",
      "C: 4.0 0.1917\n",
      "C: 2.0 0.2292\n",
      "C: 1.0 0.2786\n",
      "statistics (0.962, 0.2738, 0.7419, 0.4, 31, 0.1098, 0.0278, 256.0, 1816)\n"
     ]
    },
    {
     "data": {
      "application/vnd.jupyter.widget-view+json": {
       "model_id": "a7136caa91eb46d08d54e4ce02954a79",
       "version_major": 2,
       "version_minor": 0
      },
      "text/plain": [
       "HBox(children=(FloatProgress(value=0.0, max=1991.0), HTML(value='')))"
      ]
     },
     "metadata": {},
     "output_type": "display_data"
    },
    {
     "name": "stdout",
     "output_type": "stream",
     "text": [
      "\n",
      "------------------------------------\n",
      "\n",
      "0.0    1604\n",
      "1.0     387\n",
      "Name: WO-00-00-00-00, dtype: int64\n",
      "data set size 1991\n",
      "C: 256.0 0.3219\n",
      "C: 128.0 0.322\n",
      "C: 64.0 0.3235\n",
      "C: 32.0 0.3281\n",
      "C: 16.0 0.3385\n",
      "C: 8.0 0.3568\n",
      "C: 4.0 0.3847\n",
      "C: 2.0 0.4223\n",
      "C: 1.0 0.4686\n",
      "statistics (0.8639, 0.6103, 0.8295, 0.7032, 387, 0.3219, 0.0988, 256.0, 1991)\n"
     ]
    },
    {
     "data": {
      "application/vnd.jupyter.widget-view+json": {
       "model_id": "449e95bccaf744279d9013475e294277",
       "version_major": 2,
       "version_minor": 0
      },
      "text/plain": [
       "HBox(children=(FloatProgress(value=0.0, max=1617.0), HTML(value='')))"
      ]
     },
     "metadata": {},
     "output_type": "display_data"
    },
    {
     "name": "stdout",
     "output_type": "stream",
     "text": [
      "\n",
      "------------------------------------\n",
      "\n",
      "0.0    1607\n",
      "1.0      10\n",
      "Name: WO-03-00-00-00, dtype: int64\n",
      "data set size 1617\n",
      "C: 256.0 0.2454\n",
      "C: 128.0 0.2414\n",
      "C: 64.0 0.2458\n",
      "C: 32.0 0.2596\n",
      "C: 16.0 0.2833\n",
      "C: 8.0 0.3167\n",
      "C: 4.0 0.3597\n",
      "C: 2.0 0.4108\n",
      "C: 1.0 0.4671\n",
      "statistics (0.9147, 0.0077, 0.1, 0.0143, 10, 0.2414, 0.0617, 128.0, 1617)\n",
      "\n"
     ]
    }
   ],
   "source": [
    "\n",
    "\n",
    "class_list = df.columns[2:]\n",
    "print(class_list)\n",
    "verbose = False\n",
    "stat_dict = defaultdict() \n",
    "for cls in tqdm(class_list):\n",
    "    ret = predict_by_class_glove_grid(dfset, cls)\n",
    "    stat_dict[cls] = ret \n",
    "    print('statistics' , ret)"
   ]
  },
  {
   "cell_type": "code",
   "execution_count": 13,
   "metadata": {},
   "outputs": [],
   "source": [
    "import pickle\n",
    "with open(\"models_glove_l2_50d.pckl\", \"wb\") as f:\n",
    "    for val in classifier.items():\n",
    "         pickle.dump(val, f)\n",
    "            \n",
    "            \n",
    "with open(\"stats_glove_l2_50d.pckl\", \"wb\") as f:\n",
    "    for val in stat_dict.items():\n",
    "         pickle.dump(val, f)"
   ]
  },
  {
   "cell_type": "markdown",
   "metadata": {},
   "source": [
    "## C Values"
   ]
  },
  {
   "cell_type": "code",
   "execution_count": 14,
   "metadata": {},
   "outputs": [
    {
     "name": "stdout",
     "output_type": "stream",
     "text": [
      "256.0\n",
      "256.0\n",
      "64.0\n",
      "64.0\n",
      "256.0\n",
      "256.0\n",
      "256.0\n",
      "256.0\n",
      "256.0\n",
      "128.0\n",
      "256.0\n",
      "256.0\n",
      "256.0\n",
      "256.0\n",
      "256.0\n",
      "256.0\n",
      "256.0\n",
      "128.0\n",
      "256.0\n",
      "128.0\n",
      "128.0\n",
      "256.0\n",
      "128.0\n",
      "256.0\n",
      "256.0\n",
      "256.0\n",
      "64.0\n",
      "32.0\n",
      "128.0\n",
      "256.0\n",
      "128.0\n",
      "256.0\n",
      "128.0\n",
      "256.0\n",
      "256.0\n",
      "128.0\n"
     ]
    }
   ],
   "source": [
    "for cls in class_list:\n",
    "    print(classifier[cls].C)"
   ]
  },
  {
   "cell_type": "markdown",
   "metadata": {
    "janus": {
     "all_versions_showing": false,
     "cell_hidden": false,
     "current_version": 0,
     "id": "1342ba687f607",
     "named_versions": [],
     "output_hidden": false,
     "show_versions": false,
     "source_hidden": false,
     "versions": []
    }
   },
   "source": [
    "## Distribution"
   ]
  },
  {
   "cell_type": "code",
   "execution_count": 22,
   "metadata": {
    "janus": {
     "all_versions_showing": false,
     "cell_hidden": true,
     "current_version": 0,
     "id": "6611849a9aa39",
     "named_versions": [],
     "output_hidden": true,
     "show_versions": false,
     "source_hidden": true,
     "versions": []
    }
   },
   "outputs": [
    {
     "name": "stdout",
     "output_type": "stream",
     "text": [
      "+----------------+----------+-----------+--------+--------+-----+----------+------------+-------+-------------+\n",
      "|     class      | accuracy | precision | recall |   F1   | sup | log_loss | brier_loss |     C | |documents| |\n",
      "+----------------+----------+-----------+--------+--------+-----+----------+------------+-------+-------------+\n",
      "| BE-00-00-00-00 |   0.9302 |    0.1304 | 0.6667 | 0.2182 |  27 |   0.1996 |     0.0532 | 256.0 |     1848    |\n",
      "| BU-00-00-00-00 |   0.9396 |    0.4909 |  0.871 | 0.6279 |  93 |   0.1664 |     0.0465 | 256.0 |     1590    |\n",
      "| CO-00-00-00-00 |   0.8935 |    0.4521 | 0.8019 | 0.5782 | 106 |    0.304 |     0.0877 |  64.0 |     1164    |\n",
      "| CR-00-00-00-00 |   0.8749 |    0.6106 | 0.8411 | 0.7075 | 302 |   0.3023 |     0.0907 |  64.0 |     1679    |\n",
      "| CR-01-00-00-00 |   0.9296 |    0.0222 | 0.1667 | 0.0392 |  12 |   0.2066 |      0.054 | 256.0 |     1393    |\n",
      "| CR-04-00-00-00 |   0.9158 |     0.027 | 0.2308 | 0.0484 |  13 |   0.2624 |     0.0685 | 256.0 |     1402    |\n",
      "| CR-06-00-00-00 |   0.9423 |    0.0395 | 0.2727 | 0.069  |  11 |   0.1545 |      0.042 | 256.0 |     1404    |\n",
      "| CR-10-00-00-00 |   0.9431 |     0.019 | 0.1818 | 0.0345 |  11 |   0.1737 |     0.0437 | 256.0 |     1969    |\n",
      "| ED-00-00-00-00 |    0.963 |    0.2133 | 0.6667 | 0.3232 |  24 |   0.1264 |      0.029 | 256.0 |     1813    |\n",
      "| ES-00-00-00-00 |   0.9136 |    0.2955 | 0.8333 | 0.4362 |  78 |   0.2108 |     0.0622 | 128.0 |     1944    |\n",
      "| ES-01-00-00-00 |    0.967 |    0.0517 |    0.3 | 0.0882 |  10 |   0.0877 |     0.0238 | 256.0 |     1876    |\n",
      "| ES-03-00-00-00 |   0.9357 |    0.0325 | 0.3077 | 0.0588 |  13 |   0.2039 |     0.0505 | 256.0 |     1992    |\n",
      "| FA-00-00-00-00 |   0.8991 |    0.6538 | 0.8992 | 0.7571 | 357 |   0.2564 |     0.0758 | 256.0 |     2042    |\n",
      "| FA-05-00-00-00 |   0.9582 |    0.0256 |    0.2 | 0.0455 |  10 |    0.138 |     0.0347 | 256.0 |     2011    |\n",
      "| FA-06-00-00-00 |   0.9531 |    0.0375 |    0.3 | 0.0667 |  10 |   0.1511 |     0.0382 | 256.0 |     1791    |\n",
      "| FA-07-00-00-00 |   0.8613 |    0.0857 | 0.5854 | 0.1495 |  41 |   0.3277 |     0.0992 | 256.0 |     1968    |\n",
      "| GO-00-00-00-00 |   0.9288 |    0.0202 | 0.1538 | 0.0357 |  13 |   0.2298 |     0.0556 | 256.0 |     1517    |\n",
      "| HE-00-00-00-00 |   0.9384 |    0.5121 | 0.8689 | 0.6444 | 122 |   0.1833 |     0.0501 | 128.0 |     1900    |\n",
      "| HO-00-00-00-00 |   0.9278 |    0.8225 | 0.9182 | 0.8677 | 550 |   0.2193 |     0.0606 | 256.0 |     2132    |\n",
      "| HO-06-00-00-00 |   0.9031 |    0.1371 | 0.7059 | 0.2297 |  34 |   0.2649 |     0.0728 | 128.0 |     1662    |\n",
      "| HO-09-00-00-00 |   0.9413 |    0.1698 | 0.6667 | 0.2707 |  27 |   0.1763 |     0.0459 | 128.0 |     1653    |\n",
      "| IM-00-00-00-00 |   0.9577 |    0.2718 | 0.7778 | 0.4029 |  36 |   0.1226 |     0.0327 | 256.0 |     1964    |\n",
      "| MO-00-00-00-00 |   0.8279 |     0.631 | 0.7896 | 0.7015 | 366 |    0.377 |     0.1186 | 128.0 |     1429    |\n",
      "| MO-02-00-00-00 |    0.959 |    0.0526 | 0.3333 | 0.0909 |  12 |   0.1386 |     0.0319 | 256.0 |     1949    |\n",
      "| MO-07-00-00-00 |   0.9601 |    0.1522 | 0.5385 | 0.2373 |  13 |    0.104 |     0.0295 | 256.0 |     1129    |\n",
      "| MO-10-00-00-00 |   0.9385 |    0.0328 | 0.1818 | 0.0556 |  11 |   0.1898 |     0.0481 | 256.0 |     1106    |\n",
      "| RI-00-00-00-00 |   0.8481 |    0.0343 | 0.3182 | 0.0619 |  22 |    0.368 |     0.1013 |  64.0 |     1396    |\n",
      "| TO-00-00-00-00 |   0.8369 |    0.5358 |  0.813 | 0.6459 | 230 |   0.3652 |     0.1148 |  32.0 |     1257    |\n",
      "| TR-00-00-00-00 |   0.9327 |    0.6781 | 0.9154 | 0.7791 | 260 |   0.1918 |     0.0525 | 128.0 |     2006    |\n",
      "| TR-01-00-00-00 |   0.9568 |    0.1724 | 0.6818 | 0.2752 |  22 |   0.1534 |     0.0372 | 256.0 |     1827    |\n",
      "| TR-02-00-00-00 |   0.9274 |    0.1295 | 0.6207 | 0.2143 |  29 |   0.2051 |     0.0554 | 128.0 |     1819    |\n",
      "| TR-03-00-00-00 |   0.9539 |    0.0964 | 0.4706 |  0.16  |  17 |   0.1232 |     0.0327 | 256.0 |     1821    |\n",
      "| TR-04-00-00-00 |   0.9642 |    0.1739 |    0.6 | 0.2697 |  20 |   0.1333 |     0.0287 | 128.0 |     1815    |\n",
      "| TR-05-00-00-00 |    0.962 |    0.2738 | 0.7419 |  0.4   |  31 |   0.1098 |     0.0278 | 256.0 |     1816    |\n",
      "| WO-00-00-00-00 |   0.8639 |    0.6103 | 0.8295 | 0.7032 | 387 |   0.3219 |     0.0988 | 256.0 |     1991    |\n",
      "| WO-03-00-00-00 |   0.9147 |    0.0077 |    0.1 | 0.0143 |  10 |   0.2414 |     0.0617 | 128.0 |     1617    |\n",
      "+----------------+----------+-----------+--------+--------+-----+----------+------------+-------+-------------+\n"
     ]
    }
   ],
   "source": [
    "\n",
    "t = PrettyTable([\"class\", \"accuracy\", \"precision\", \"recall\", \"F1\", \"sup\", \"log_loss\", \"brier_loss\", \"C\", \"|documents|\"])\n",
    "#t.align[\"class\"] = \"r\"\n",
    "t.align[\"accuracy\"] = \"r\"\n",
    "t.align[\"precision\"] = \"r\"\n",
    "t.align[\"recall\"] = \"r\"\n",
    "t.align[\"F1 score\"] = \"r\"\n",
    "t.align[\"support\"] = \"r\"\n",
    "t.align[\"log_loss\"] = \"r\"\n",
    "t.align[\"brier_loss\"] = \"r\"\n",
    "t.align[\"C\"] = \"r\"\n",
    "\n",
    "for k,v in stat_dict.items():\n",
    "    t.add_row([k, v[0], v[1], v[2], v[3], v[4], v[5], v[6], v[7], numdoc[k]])\n",
    "    \n",
    "print(t)"
   ]
  },
  {
   "cell_type": "markdown",
   "metadata": {
    "colab_type": "text",
    "id": "N1tu4jFOrOaf",
    "janus": {
     "all_versions_showing": false,
     "cell_hidden": false,
     "current_version": 0,
     "id": "ba74459e4e83b",
     "named_versions": [],
     "output_hidden": false,
     "show_versions": false,
     "source_hidden": false,
     "versions": []
    }
   },
   "source": [
    "## Plotting for Top10 classes"
   ]
  },
  {
   "cell_type": "code",
   "execution_count": 16,
   "metadata": {
    "colab": {},
    "colab_type": "code",
    "id": "r4sGK9DsrOhR",
    "janus": {
     "all_versions_showing": false,
     "cell_hidden": true,
     "current_version": 0,
     "id": "120b319cdd3d",
     "named_versions": [],
     "output_hidden": true,
     "show_versions": false,
     "source_hidden": true,
     "versions": []
    }
   },
   "outputs": [
    {
     "data": {
      "image/png": "[encoded data removed]",
      "text/plain": [
       "<Figure size 640x480 with 1 Axes>"
      ]
     },
     "metadata": {},
     "output_type": "display_data"
    }
   ],
   "source": [
    "\n",
    "\n",
    "# Fixing random state for reproducibility\n",
    "np.random.seed(19680801)\n",
    "\n",
    "\n",
    "plt.rcdefaults()\n",
    "fig, ax = plt.subplots()\n",
    "\n",
    "# Example data\n",
    "y_pos = np.arange(10)\n",
    "error = 0 \n",
    "\n",
    "recall_dict = defaultdict()\n",
    "for k,v in stat_dict.items():\n",
    "    recall_dict[k] = v[2]\n",
    "\n",
    "sorted_x = sorted(recall_dict.items(), key=lambda kv: kv[1], reverse=True)\n",
    "topcat_dict = collections.OrderedDict(sorted_x)\n",
    "#print(topcat_dict)\n",
    "\n",
    "keyList = []\n",
    "valList = []\n",
    "for kv in topcat_dict.items():\n",
    "    keyList.append(kv[0])\n",
    "    valList.append(kv[1])\n",
    "\n",
    "ax.barh(y_pos[:10], valList[:10], xerr=error, align='center')\n",
    "ax.set_yticks(y_pos)\n",
    "ax.set_yticklabels(keyList[:10])\n",
    "ax.invert_yaxis()  # labels read top-to-bottom\n",
    "ax.set_xlabel('Recall')\n",
    "ax.set_title('Top10 Recall Scores')\n",
    "\n",
    "plt.show()"
   ]
  },
  {
   "cell_type": "markdown",
   "metadata": {
    "janus": {
     "all_versions_showing": false,
     "cell_hidden": false,
     "current_version": 0,
     "id": "3128d732afee1",
     "named_versions": [],
     "output_hidden": false,
     "show_versions": false,
     "source_hidden": false,
     "versions": []
    }
   },
   "source": [
    "## Bottom 10"
   ]
  },
  {
   "cell_type": "code",
   "execution_count": 17,
   "metadata": {
    "janus": {
     "all_versions_showing": false,
     "cell_hidden": true,
     "current_version": 0,
     "id": "7631c8aa247f3",
     "named_versions": [],
     "output_hidden": true,
     "show_versions": false,
     "source_hidden": true,
     "versions": []
    },
    "scrolled": true
   },
   "outputs": [
    {
     "data": {
      "image/png": "[encoded data removed]",
      "text/plain": [
       "<Figure size 640x480 with 1 Axes>"
      ]
     },
     "metadata": {},
     "output_type": "display_data"
    }
   ],
   "source": [
    "\n",
    "\n",
    "# Fixing random state for reproducibility\n",
    "np.random.seed(19680801)\n",
    "\n",
    "\n",
    "plt.rcdefaults()\n",
    "fig, ax = plt.subplots()\n",
    "\n",
    "# Example data\n",
    "y_pos = np.arange(10)\n",
    "error = 0 \n",
    "\n",
    "recall_dict = defaultdict()\n",
    "for k,v in stat_dict.items():\n",
    "    recall_dict[k] = v[2]\n",
    "    \n",
    "sorted_x = sorted(recall_dict.items(), key=lambda kv: kv[1])\n",
    "topcat_dict = collections.OrderedDict(sorted_x)\n",
    "#print(topcat_dict)\n",
    "\n",
    "keyList = []\n",
    "valList = []\n",
    "for kv in topcat_dict.items():\n",
    "    keyList.append(kv[0])\n",
    "    valList.append(kv[1])\n",
    "\n",
    "\n",
    "\n",
    "\n",
    "ax.barh(y_pos[:10], valList[:10], xerr=error, align='center')\n",
    "ax.set_yticks(y_pos)\n",
    "ax.set_yticklabels(keyList[:10])\n",
    "ax.invert_yaxis()  # labels read top-to-bottom\n",
    "ax.set_xlabel('Recall')\n",
    "ax.set_title('Bottom 10 Recall Scores')\n",
    "\n",
    "plt.show()"
   ]
  },
  {
   "cell_type": "markdown",
   "metadata": {
    "janus": {
     "all_versions_showing": false,
     "cell_hidden": false,
     "current_version": 0,
     "id": "b32f8fe86d67c",
     "named_versions": [],
     "output_hidden": false,
     "show_versions": false,
     "source_hidden": false,
     "versions": []
    }
   },
   "source": [
    "## Recall Distribution"
   ]
  },
  {
   "cell_type": "code",
   "execution_count": 18,
   "metadata": {
    "janus": {
     "all_versions_showing": false,
     "cell_hidden": true,
     "current_version": 0,
     "id": "c55860008c8bc",
     "named_versions": [],
     "output_hidden": true,
     "show_versions": false,
     "source_hidden": true,
     "versions": []
    }
   },
   "outputs": [
    {
     "name": "stdout",
     "output_type": "stream",
     "text": [
      "    Recall\n",
      "0    66.67\n",
      "1    87.10\n",
      "2    80.19\n",
      "3    84.11\n",
      "4    16.67\n",
      "5    23.08\n",
      "6    27.27\n",
      "7    18.18\n",
      "8    66.67\n",
      "9    83.33\n",
      "10   30.00\n",
      "11   30.77\n",
      "12   89.92\n",
      "13   20.00\n",
      "14   30.00\n",
      "15   58.54\n",
      "16   15.38\n",
      "17   86.89\n",
      "18   91.82\n",
      "19   70.59\n",
      "20   66.67\n",
      "21   77.78\n",
      "22   78.96\n",
      "23   33.33\n",
      "24   53.85\n",
      "25   18.18\n",
      "26   31.82\n",
      "27   81.30\n",
      "28   91.54\n",
      "29   68.18\n",
      "30   62.07\n",
      "31   47.06\n",
      "32   60.00\n",
      "33   74.19\n",
      "34   82.95\n",
      "35   10.00\n"
     ]
    },
    {
     "data": {
      "image/png": "[encoded data removed]",
      "text/plain": [
       "<Figure size 640x480 with 1 Axes>"
      ]
     },
     "metadata": {},
     "output_type": "display_data"
    }
   ],
   "source": [
    "import pylab as pl\n",
    "\n",
    "recall_dict = defaultdict()\n",
    "for k,v in stat_dict.items():\n",
    "    recall_dict[k] = v[2]\n",
    "\n",
    "recall_list = []\n",
    "for k,v in recall_dict.items():\n",
    "    recall_list.append(v*100)\n",
    "   \n",
    "d = {'Recall': recall_list}\n",
    "tinydf = pd.DataFrame(data=d)\n",
    "\n",
    "\n",
    "\n",
    "hist = tinydf.hist(edgecolor='black', bins = [0,10,20,30,40,50,60,70,80,90,100])\n",
    "pl.title(\"Recall Distribution\")\n",
    "pl.xlabel(\"Recall Score(%)\")\n",
    "pl.ylabel(\"Number of Classes\")\n",
    "print(tinydf)"
   ]
  },
  {
   "cell_type": "markdown",
   "metadata": {},
   "source": [
    "## log_loss histogram"
   ]
  },
  {
   "cell_type": "code",
   "execution_count": 19,
   "metadata": {},
   "outputs": [
    {
     "name": "stdout",
     "output_type": "stream",
     "text": [
      "    logloss\n",
      "0    0.1996\n",
      "1    0.1664\n",
      "2    0.3040\n",
      "3    0.3023\n",
      "4    0.2066\n",
      "5    0.2624\n",
      "6    0.1545\n",
      "7    0.1737\n",
      "8    0.1264\n",
      "9    0.2108\n",
      "10   0.0877\n",
      "11   0.2039\n",
      "12   0.2564\n",
      "13   0.1380\n",
      "14   0.1511\n",
      "15   0.3277\n",
      "16   0.2298\n",
      "17   0.1833\n",
      "18   0.2193\n",
      "19   0.2649\n",
      "20   0.1763\n",
      "21   0.1226\n",
      "22   0.3770\n",
      "23   0.1386\n",
      "24   0.1040\n",
      "25   0.1898\n",
      "26   0.3680\n",
      "27   0.3652\n",
      "28   0.1918\n",
      "29   0.1534\n",
      "30   0.2051\n",
      "31   0.1232\n",
      "32   0.1333\n",
      "33   0.1098\n",
      "34   0.3219\n",
      "35   0.2414\n"
     ]
    },
    {
     "data": {
      "image/png": "[encoded data removed]",
      "text/plain": [
       "<Figure size 640x480 with 1 Axes>"
      ]
     },
     "metadata": {},
     "output_type": "display_data"
    }
   ],
   "source": [
    "import pylab as pl\n",
    "\n",
    "logloss_dict = defaultdict()\n",
    "for k,v in stat_dict.items():\n",
    "    logloss_dict[k] = v[5]\n",
    "\n",
    "logloss_list = []\n",
    "for k,v in logloss_dict.items():\n",
    "    logloss_list.append(v)\n",
    "   \n",
    "d = {'logloss': logloss_list}\n",
    "tinydf = pd.DataFrame(data=d)\n",
    "\n",
    "hist = tinydf.hist(edgecolor='black', bins = [0.0,0.1,0.2,0.3,0.4,0.5,0.6,0.7,0.8,0.9,1.0])\n",
    "pl.title(\"Log Loss Distribution\")\n",
    "pl.xlabel(\"Log Loss Score\")\n",
    "pl.ylabel(\"Number of Classes\")\n",
    "print(tinydf)"
   ]
  },
  {
   "cell_type": "markdown",
   "metadata": {},
   "source": [
    "## Brier Score Loss"
   ]
  },
  {
   "cell_type": "code",
   "execution_count": 20,
   "metadata": {},
   "outputs": [
    {
     "name": "stdout",
     "output_type": "stream",
     "text": [
      "    brierloss\n",
      "0      0.0532\n",
      "1      0.0465\n",
      "2      0.0877\n",
      "3      0.0907\n",
      "4      0.0540\n",
      "5      0.0685\n",
      "6      0.0420\n",
      "7      0.0437\n",
      "8      0.0290\n",
      "9      0.0622\n",
      "10     0.0238\n",
      "11     0.0505\n",
      "12     0.0758\n",
      "13     0.0347\n",
      "14     0.0382\n",
      "15     0.0992\n",
      "16     0.0556\n",
      "17     0.0501\n",
      "18     0.0606\n",
      "19     0.0728\n",
      "20     0.0459\n",
      "21     0.0327\n",
      "22     0.1186\n",
      "23     0.0319\n",
      "24     0.0295\n",
      "25     0.0481\n",
      "26     0.1013\n",
      "27     0.1148\n",
      "28     0.0525\n",
      "29     0.0372\n",
      "30     0.0554\n",
      "31     0.0327\n",
      "32     0.0287\n",
      "33     0.0278\n",
      "34     0.0988\n",
      "35     0.0617\n"
     ]
    },
    {
     "data": {
      "image/png": "[encoded data removed]",
      "text/plain": [
       "<Figure size 640x480 with 1 Axes>"
      ]
     },
     "metadata": {},
     "output_type": "display_data"
    }
   ],
   "source": [
    "\n",
    "brierloss_dict = defaultdict()\n",
    "for k,v in stat_dict.items():\n",
    "    brierloss_dict[k] = v[6]\n",
    "\n",
    "brierloss_list = []\n",
    "for k,v in brierloss_dict.items():\n",
    "    brierloss_list.append(v)\n",
    "   \n",
    "d = {'brierloss': brierloss_list}\n",
    "tinydf = pd.DataFrame(data=d)\n",
    "\n",
    "hist = tinydf.hist(edgecolor='black', bins = [0.0,0.1,0.2,0.3,0.4,0.5,0.6,0.7,0.8,0.9,1.0])\n",
    "pl.title(\"Brier Loss Distribution\")\n",
    "pl.xlabel(\"Brier Loss Score\")\n",
    "pl.ylabel(\"Number of Classes\")\n",
    "print(tinydf)"
   ]
  },
  {
   "cell_type": "markdown",
   "metadata": {
    "colab_type": "text",
    "id": "6opsKxImIb5b",
    "janus": {
     "all_versions_showing": false,
     "cell_hidden": false,
     "current_version": 0,
     "id": "4b997c0e2f005",
     "named_versions": [],
     "output_hidden": false,
     "show_versions": false,
     "source_hidden": false,
     "versions": []
    }
   },
   "source": [
    "# Custom Input Prediction"
   ]
  },
  {
   "cell_type": "code",
   "execution_count": 21,
   "metadata": {
    "colab": {},
    "colab_type": "code",
    "id": "Qro-3iB4IiEy",
    "janus": {
     "all_versions_showing": false,
     "cell_hidden": false,
     "current_version": 0,
     "id": "5f2ad812917d3",
     "named_versions": [],
     "output_hidden": false,
     "show_versions": false,
     "source_hidden": false,
     "versions": []
    },
    "scrolled": true
   },
   "outputs": [
    {
     "name": "stdout",
     "output_type": "stream",
     "text": [
      "I had my car parked at work and someone stole my car. I went to report my car stolen at the police station but I got a call later saying I can’t report it stolen because a title change occurred. I never sold my car, never signed anything. I feel completely powerless and violated. I honestly don’t know what to do. If I find out who stole my car I will most likely snap because I don’t know what else to do. This has never happened to me. What legal steps can I take? Edit: I can’t find the title. My sister was coming back home from the army and I intended on giving her the car when she arrived. I most likely left the title in the car.\n",
      "CR-00-00-00-00 [1.] 0.782\n",
      "TO-00-00-00-00 [1.] 0.8144\n",
      "TR-00-00-00-00 [1.] 0.9934\n",
      "TR-01-00-00-00 [1.] 0.9629\n",
      "TR-02-00-00-00 [1.] 0.7371\n",
      "TR-03-00-00-00 [1.] 0.876\n",
      "TR-04-00-00-00 [1.] 0.9989\n",
      "TR-05-00-00-00 [1.] 0.6957\n"
     ]
    }
   ],
   "source": [
    "#text = \"How do I get my mom's license taken away. My mom is 66, on disability for multiple sclerosis. She's been unable to work for about a decade. She has cataracts. She has neuropathy. She has 0 reaction time. She has had a fender bender on every single corner of her last car, which my brother then totaled. She also has no night vision. She also falls asleep all the time. ALMOST like like narcolepsy. It's mostly her overextending herself, but she will nod off driving or sleep in parking lots til she feels ok. She also has lymphedema in her legs which are swollen enough to impede driving. The last year she was driving she received 19 red light tickets. She agreed not to drive. And the insurance paid for her car. Now she's bought a new one, about 6 months later. Our relationship is terrible. I hate her. But I want her licence taken away before she kills or cripples someone(s). I'm no contact with her, but my brother still tries and he cares about this a lot. I've spoken with the DMV IN MY state, not very helpful. Can i contact her insurance? Do I contact the police? Has this happened to anyone\"\n",
    "text = \"I had my car parked at work and someone stole my car. I went to report my car stolen at the police station but I got a call later saying I can’t report it stolen because a title change occurred. I never sold my car, never signed anything. I feel completely powerless and violated. I honestly don’t know what to do. If I find out who stole my car I will most likely snap because I don’t know what else to do. This has never happened to me. What legal steps can I take? Edit: I can’t find the title. My sister was coming back home from the army and I intended on giving her the car when she arrived. I most likely left the title in the car.\"\n",
    "print(text)\n",
    "input = sent2vec(text)\n",
    "input = np.array(input)\n",
    "\n",
    "predictions = defaultdict() \n",
    "prob = defaultdict()\n",
    "c_logloss = defaultdict()\n",
    "\n",
    "for cls in class_list:\n",
    "    predictions[cls] = classifier[cls].predict([input])\n",
    "    prob[cls] = classifier[cls].predict_proba([input])\n",
    "\n",
    "for k,v in predictions.items():   \n",
    "    if v > 0:\n",
    "        print(k, v, end = ' ')\n",
    "        print(np.round(prob[k][0][1], 4))\n"
   ]
  }
 ],
 "metadata": {
  "accelerator": "GPU",
  "colab": {
   "authorship_tag": "ABX9TyNEs8q1mzt8F3PvZ4WJe7iF",
   "name": "legal_issue_classifier.ipynb",
   "provenance": [],
   "toc_visible": true
  },
  "janus": {
   "filepaths": [
    [
     "ccbc57fe",
     1582755372683,
     1583617048644
    ]
   ],
   "janus_markers": [
    {
     "ids": [
      "fbc1e35bd1c07",
      "b4140f133d1e6"
     ],
     "markerName": "Hidden Cells",
     "showing": false
    },
    {
     "ids": [
      "46f3ebdce3ec5"
     ],
     "markerName": "Hidden Cells",
     "showing": false
    },
    {
     "ids": [
      "da6bfdef8ea13"
     ],
     "markerName": "Hidden Cells",
     "showing": false
    },
    {
     "ids": [
      "455af60adbcad"
     ],
     "markerName": "Hidden Cells",
     "showing": false
    },
    {
     "ids": [
      "11e5448bf4137"
     ],
     "markerName": "Hidden Cells",
     "showing": false
    },
    {
     "ids": [
      "722be740702ee"
     ],
     "markerName": "Hidden Cells",
     "showing": false
    },
    {
     "ids": [
      "dfd2a43208cde"
     ],
     "markerName": "Hidden Cells",
     "showing": false
    },
    {
     "ids": [
      "8dd4a61345312"
     ],
     "markerName": "Hidden Cells",
     "showing": false
    },
    {
     "ids": [
      "381e7a94d7c67"
     ],
     "markerName": "Hidden Cells",
     "showing": false
    },
    {
     "ids": [
      "6611849a9aa39"
     ],
     "markerName": "Hidden Cells",
     "showing": false
    },
    {
     "ids": [
      "120b319cdd3d"
     ],
     "markerName": "Hidden Cells",
     "showing": false
    },
    {
     "ids": [
      "7631c8aa247f3"
     ],
     "markerName": "Hidden Cells",
     "showing": false
    },
    {
     "ids": [
      "c55860008c8bc"
     ],
     "markerName": "Hidden Cells",
     "showing": false
    }
   ],
   "track_history": true
  },
  "kernelspec": {
   "display_name": "Python 3",
   "language": "python",
   "name": "python3"
  },
  "language_info": {
   "codemirror_mode": {
    "name": "ipython",
    "version": 3
   },
   "file_extension": ".py",
   "mimetype": "text/x-python",
   "name": "python",
   "nbconvert_exporter": "python",
   "pygments_lexer": "ipython3",
   "version": "3.8.0"
  }
 },
 "nbformat": 4,
 "nbformat_minor": 4
}
