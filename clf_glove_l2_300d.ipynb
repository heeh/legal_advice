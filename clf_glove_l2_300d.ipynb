{
 "cells": [
  {
   "cell_type": "markdown",
   "metadata": {
    "colab_type": "text",
    "id": "cXr-llCCp7_Z",
    "janus": {
     "all_versions_showing": false,
     "cell_hidden": false,
     "current_version": 0,
     "id": "906255c57419d",
     "named_versions": [],
     "output_hidden": false,
     "show_versions": false,
     "source_hidden": false,
     "versions": []
    }
   },
   "source": [
    "# Introduction\n",
    "* This program that classifies legal issues into a binary value for each National Subject Matter Index (NSMI). (https://nsmi.lsntap.org/browse-v2) \\\\\n",
    "\"Category\" means 20 indexes. \\\\\n",
    "\"Class\" means sub categories under the category.\n",
    "\n",
    "### Data\n",
    "* The data contains 2777 labeled articles. Each article has a binary value(0 or 1) that indicates if this article is related to a specific legal class. We ignore unlabeled entries when constructing a model.\n",
    "\n",
    "### Implementation\n",
    "* The program converts an article into tf-idf and applies multinomial Naive-Bayes model provided by scikit-learn. \n",
    "\n",
    "* After preprocessing data, we predict the model with 10-fold cross-validation.\n",
    "\n",
    "### Output\n",
    "* We calculate accuracy with bot categories(20) and classes(100+). \\\\\n",
    "\n",
    "See overall result is at the bottom of this notebook."
   ]
  },
  {
   "cell_type": "markdown",
   "metadata": {
    "colab_type": "text",
    "id": "LNIANhrjEzYE",
    "janus": {
     "all_versions_showing": false,
     "cell_hidden": false,
     "current_version": 0,
     "id": "c64b7d852eb46",
     "named_versions": [],
     "output_hidden": false,
     "show_versions": false,
     "source_hidden": false,
     "versions": []
    }
   },
   "source": [
    "# Data Preparation (DONE)"
   ]
  },
  {
   "cell_type": "code",
   "execution_count": 1,
   "metadata": {
    "colab": {},
    "colab_type": "code",
    "id": "YsbprkpElhDw",
    "janus": {
     "all_versions_showing": false,
     "cell_hidden": true,
     "current_version": 0,
     "id": "fbc1e35bd1c07",
     "named_versions": [],
     "output_hidden": true,
     "show_versions": false,
     "source_hidden": true,
     "versions": []
    }
   },
   "outputs": [
    {
     "name": "stdout",
     "output_type": "stream",
     "text": [
      "Requirement already satisfied: PrettyTable in /Users/heeh/.pyenv/versions/3.8.0/lib/python3.8/site-packages (0.7.2)\n",
      "Requirement already satisfied: pandas in /Users/heeh/.pyenv/versions/3.8.0/lib/python3.8/site-packages (1.0.1)\n",
      "Requirement already satisfied: pytz>=2017.2 in /Users/heeh/.pyenv/versions/3.8.0/lib/python3.8/site-packages (from pandas) (2019.3)\n",
      "Requirement already satisfied: numpy>=1.13.3 in /Users/heeh/.pyenv/versions/3.8.0/lib/python3.8/site-packages (from pandas) (1.18.1)\n",
      "Requirement already satisfied: python-dateutil>=2.6.1 in /Users/heeh/.pyenv/versions/3.8.0/lib/python3.8/site-packages (from pandas) (2.8.1)\n",
      "Requirement already satisfied: six>=1.5 in /Users/heeh/.pyenv/versions/3.8.0/lib/python3.8/site-packages (from python-dateutil>=2.6.1->pandas) (1.14.0)\n",
      "Requirement already satisfied: sklearn in /Users/heeh/.pyenv/versions/3.8.0/lib/python3.8/site-packages (0.0)\n",
      "Requirement already satisfied: scikit-learn in /Users/heeh/.pyenv/versions/3.8.0/lib/python3.8/site-packages (from sklearn) (0.22.2.post1)\n",
      "Requirement already satisfied: scipy>=0.17.0 in /Users/heeh/.pyenv/versions/3.8.0/lib/python3.8/site-packages (from scikit-learn->sklearn) (1.4.1)\n",
      "Requirement already satisfied: numpy>=1.11.0 in /Users/heeh/.pyenv/versions/3.8.0/lib/python3.8/site-packages (from scikit-learn->sklearn) (1.18.1)\n",
      "Requirement already satisfied: joblib>=0.11 in /Users/heeh/.pyenv/versions/3.8.0/lib/python3.8/site-packages (from scikit-learn->sklearn) (0.14.1)\n",
      "Requirement already satisfied: matplotlib in /Users/heeh/.pyenv/versions/3.8.0/lib/python3.8/site-packages (3.2.0)\n",
      "Requirement already satisfied: cycler>=0.10 in /Users/heeh/.pyenv/versions/3.8.0/lib/python3.8/site-packages (from matplotlib) (0.10.0)\n",
      "Requirement already satisfied: pyparsing!=2.0.4,!=2.1.2,!=2.1.6,>=2.0.1 in /Users/heeh/.pyenv/versions/3.8.0/lib/python3.8/site-packages (from matplotlib) (2.4.6)\n",
      "Requirement already satisfied: numpy>=1.11 in /Users/heeh/.pyenv/versions/3.8.0/lib/python3.8/site-packages (from matplotlib) (1.18.1)\n",
      "Requirement already satisfied: python-dateutil>=2.1 in /Users/heeh/.pyenv/versions/3.8.0/lib/python3.8/site-packages (from matplotlib) (2.8.1)\n",
      "Requirement already satisfied: kiwisolver>=1.0.1 in /Users/heeh/.pyenv/versions/3.8.0/lib/python3.8/site-packages (from matplotlib) (1.1.0)\n",
      "Requirement already satisfied: six in /Users/heeh/.pyenv/versions/3.8.0/lib/python3.8/site-packages (from cycler>=0.10->matplotlib) (1.14.0)\n",
      "Requirement already satisfied: setuptools in /Users/heeh/.pyenv/versions/3.8.0/lib/python3.8/site-packages (from kiwisolver>=1.0.1->matplotlib) (41.2.0)\n",
      "Requirement already satisfied: seaborn in /Users/heeh/.pyenv/versions/3.8.0/lib/python3.8/site-packages (0.10.0)\n",
      "Requirement already satisfied: scipy>=1.0.1 in /Users/heeh/.pyenv/versions/3.8.0/lib/python3.8/site-packages (from seaborn) (1.4.1)\n",
      "Requirement already satisfied: matplotlib>=2.1.2 in /Users/heeh/.pyenv/versions/3.8.0/lib/python3.8/site-packages (from seaborn) (3.2.0)\n",
      "Requirement already satisfied: pandas>=0.22.0 in /Users/heeh/.pyenv/versions/3.8.0/lib/python3.8/site-packages (from seaborn) (1.0.1)\n",
      "Requirement already satisfied: numpy>=1.13.3 in /Users/heeh/.pyenv/versions/3.8.0/lib/python3.8/site-packages (from seaborn) (1.18.1)\n",
      "Requirement already satisfied: cycler>=0.10 in /Users/heeh/.pyenv/versions/3.8.0/lib/python3.8/site-packages (from matplotlib>=2.1.2->seaborn) (0.10.0)\n",
      "Requirement already satisfied: pyparsing!=2.0.4,!=2.1.2,!=2.1.6,>=2.0.1 in /Users/heeh/.pyenv/versions/3.8.0/lib/python3.8/site-packages (from matplotlib>=2.1.2->seaborn) (2.4.6)\n",
      "Requirement already satisfied: kiwisolver>=1.0.1 in /Users/heeh/.pyenv/versions/3.8.0/lib/python3.8/site-packages (from matplotlib>=2.1.2->seaborn) (1.1.0)\n",
      "Requirement already satisfied: python-dateutil>=2.1 in /Users/heeh/.pyenv/versions/3.8.0/lib/python3.8/site-packages (from matplotlib>=2.1.2->seaborn) (2.8.1)\n",
      "Requirement already satisfied: pytz>=2017.2 in /Users/heeh/.pyenv/versions/3.8.0/lib/python3.8/site-packages (from pandas>=0.22.0->seaborn) (2019.3)\n",
      "Requirement already satisfied: six in /Users/heeh/.pyenv/versions/3.8.0/lib/python3.8/site-packages (from cycler>=0.10->matplotlib>=2.1.2->seaborn) (1.14.0)\n",
      "Requirement already satisfied: setuptools in /Users/heeh/.pyenv/versions/3.8.0/lib/python3.8/site-packages (from kiwisolver>=1.0.1->matplotlib>=2.1.2->seaborn) (41.2.0)\n",
      "Requirement already satisfied: tqdm in /Users/heeh/.pyenv/versions/3.8.0/lib/python3.8/site-packages (4.43.0)\n",
      "Requirement already satisfied: nltk in /Users/heeh/.pyenv/versions/3.8.0/lib/python3.8/site-packages (3.4.5)\n",
      "Requirement already satisfied: six in /Users/heeh/.pyenv/versions/3.8.0/lib/python3.8/site-packages (from nltk) (1.14.0)\n",
      "/Users/heeh/.pyenv/versions/3.8.0/lib/python3.8/runpy.py:125: RuntimeWarning: 'nltk.downloader' found in sys.modules after import of package 'nltk', but prior to execution of 'nltk.downloader'; this may result in unpredictable behaviour\n",
      "  warn(RuntimeWarning(msg))\n",
      "[nltk_data] Downloading package stopwords to /Users/heeh/nltk_data...\n",
      "[nltk_data]   Package stopwords is already up-to-date!\n",
      "[nltk_data] Downloading package punkt to /Users/heeh/nltk_data...\n",
      "[nltk_data]   Package punkt is already up-to-date!\n",
      "Requirement already satisfied: prettytable in /Users/heeh/.pyenv/versions/3.8.0/lib/python3.8/site-packages (0.7.2)\n"
     ]
    },
    {
     "name": "stderr",
     "output_type": "stream",
     "text": [
      "/Users/heeh/.pyenv/versions/3.8.0/lib/python3.8/site-packages/pandas/compat/__init__.py:117: UserWarning: Could not import the lzma module. Your installed Python is incomplete. Attempting to use lzma compression will result in a RuntimeError.\n",
      "  warnings.warn(msg)\n"
     ]
    },
    {
     "name": "stdout",
     "output_type": "stream",
     "text": [
      "DONE\n"
     ]
    }
   ],
   "source": [
    "SOLVER = 'liblinear' \n",
    "PENALTY = \"l2\"\n",
    "\n",
    "\n",
    "!pip3 install PrettyTable\n",
    "!pip3 install pandas\n",
    "!pip3 install sklearn\n",
    "!pip3 install matplotlib\n",
    "!pip3 install seaborn\n",
    "!pip3 install tqdm\n",
    "!pip3 install nltk\n",
    "!python3 -m nltk.downloader stopwords punkt\n",
    "!python3 -m pip install prettytable\n",
    "\n",
    "import os\n",
    "import sys\n",
    "import numpy as np\n",
    "import pandas as pd\n",
    "from collections import Counter\n",
    "from collections import defaultdict\n",
    "\n",
    "import sklearn.exceptions\n",
    "import warnings\n",
    "warnings.filterwarnings(\"ignore\", category=sklearn.exceptions.UndefinedMetricWarning)\n",
    "from sklearn.linear_model import LogisticRegression\n",
    "from sklearn.metrics import confusion_matrix\n",
    "from sklearn.metrics import accuracy_score\n",
    "from sklearn.metrics import precision_recall_fscore_support as score\n",
    "from sklearn.metrics import log_loss, make_scorer\n",
    "from sklearn.metrics import accuracy_score, precision_score, recall_score, f1_score\n",
    "from sklearn.metrics import make_scorer\n",
    "from sklearn.metrics import brier_score_loss\n",
    "from sklearn.model_selection import cross_val_score\n",
    "from sklearn.model_selection import GridSearchCV\n",
    "from sklearn.model_selection import KFold\n",
    "\n",
    "import matplotlib.pyplot as plt\n",
    "import seaborn as sns; sns.set()\n",
    "pd.options.display.max_rows = 100\n",
    "pd.set_option('display.max_columns', None) \n",
    "\n",
    "import collections\n",
    "import matplotlib.pyplot as plt\n",
    "import pylab as pl\n",
    "\n",
    "\n",
    "from nltk import word_tokenize\n",
    "from nltk.corpus import stopwords\n",
    "from nltk import punkt\n",
    "stop_words = stopwords.words('english')\n",
    "\n",
    "from tqdm.notebook import tqdm\n",
    "import collections\n",
    "from prettytable import PrettyTable\n",
    "\n",
    "\n",
    "print(\"DONE\")"
   ]
  },
  {
   "cell_type": "code",
   "execution_count": 2,
   "metadata": {
    "colab": {
     "base_uri": "https://localhost:8080/",
     "height": 504
    },
    "colab_type": "code",
    "executionInfo": {
     "elapsed": 2953,
     "status": "ok",
     "timestamp": 1582551057054,
     "user": {
      "displayName": "Hee Hwang",
      "photoUrl": "",
      "userId": "05361436400321274076"
     },
     "user_tz": 300
    },
    "id": "6XZZPmUtlhGg",
    "janus": {
     "all_versions_showing": false,
     "cell_hidden": true,
     "current_version": 0,
     "id": "b4140f133d1e6",
     "named_versions": [],
     "output_hidden": true,
     "show_versions": false,
     "source_hidden": true,
     "versions": []
    },
    "outputId": "161dab3f-ad00-4e8a-8bb5-99b9f7504581"
   },
   "outputs": [
    {
     "name": "stdout",
     "output_type": "stream",
     "text": [
      "<class 'pandas.core.frame.DataFrame'>\n",
      "RangeIndex: 2777 entries, 0 to 2776\n",
      "Columns: 109 entries, _id to WO-09-00-00-00\n",
      "dtypes: float64(107), object(2)\n",
      "memory usage: 2.3+ MB\n"
     ]
    },
    {
     "data": {
      "text/html": [
       "<div>\n",
       "<style scoped>\n",
       "    .dataframe tbody tr th:only-of-type {\n",
       "        vertical-align: middle;\n",
       "    }\n",
       "\n",
       "    .dataframe tbody tr th {\n",
       "        vertical-align: top;\n",
       "    }\n",
       "\n",
       "    .dataframe thead th {\n",
       "        text-align: right;\n",
       "    }\n",
       "</style>\n",
       "<table border=\"1\" class=\"dataframe\">\n",
       "  <thead>\n",
       "    <tr style=\"text-align: right;\">\n",
       "      <th></th>\n",
       "      <th>_id</th>\n",
       "      <th>full_text</th>\n",
       "      <th>BE-00-00-00-00</th>\n",
       "      <th>BE-01-00-00-00</th>\n",
       "    </tr>\n",
       "  </thead>\n",
       "  <tbody>\n",
       "    <tr>\n",
       "      <th>0</th>\n",
       "      <td>5b60e59cda52255c20cff794</td>\n",
       "      <td>Will he serve time?. Long story short my broth...</td>\n",
       "      <td>0.0</td>\n",
       "      <td>0.0</td>\n",
       "    </tr>\n",
       "    <tr>\n",
       "      <th>1</th>\n",
       "      <td>5b60e59cda52255c20cff79a</td>\n",
       "      <td>Groundwater leaking out of street 24/7. Ground...</td>\n",
       "      <td>0.0</td>\n",
       "      <td>0.0</td>\n",
       "    </tr>\n",
       "    <tr>\n",
       "      <th>2</th>\n",
       "      <td>5b60e59cda52255c20cff7a0</td>\n",
       "      <td>How do I get my mom's license taken away. My m...</td>\n",
       "      <td>0.0</td>\n",
       "      <td>0.0</td>\n",
       "    </tr>\n",
       "    <tr>\n",
       "      <th>3</th>\n",
       "      <td>5b60e59cda52255c20cff7bf</td>\n",
       "      <td>My boss hasn't paid me. What do i do?. I work ...</td>\n",
       "      <td>NaN</td>\n",
       "      <td>NaN</td>\n",
       "    </tr>\n",
       "    <tr>\n",
       "      <th>4</th>\n",
       "      <td>5b60e59cda52255c20cff7b8</td>\n",
       "      <td>[Texas] I signed a non-compete contract, but t...</td>\n",
       "      <td>0.0</td>\n",
       "      <td>0.0</td>\n",
       "    </tr>\n",
       "    <tr>\n",
       "      <th>...</th>\n",
       "      <td>...</td>\n",
       "      <td>...</td>\n",
       "      <td>...</td>\n",
       "      <td>...</td>\n",
       "    </tr>\n",
       "    <tr>\n",
       "      <th>2772</th>\n",
       "      <td>5b60e66dda52255c20df433f</td>\n",
       "      <td>Do you and your parents get deported because o...</td>\n",
       "      <td>0.0</td>\n",
       "      <td>0.0</td>\n",
       "    </tr>\n",
       "    <tr>\n",
       "      <th>2773</th>\n",
       "      <td>5b60e66dda52255c20df43ae</td>\n",
       "      <td>Wondering the legality of a minor (me) being a...</td>\n",
       "      <td>0.0</td>\n",
       "      <td>0.0</td>\n",
       "    </tr>\n",
       "    <tr>\n",
       "      <th>2774</th>\n",
       "      <td>5b60e66dda52255c20df4462</td>\n",
       "      <td>Can I sue a billion dollar company in small cl...</td>\n",
       "      <td>0.0</td>\n",
       "      <td>0.0</td>\n",
       "    </tr>\n",
       "    <tr>\n",
       "      <th>2775</th>\n",
       "      <td>5b60e66dda52255c20df4448</td>\n",
       "      <td>Sued by creditor and currently in settlement n...</td>\n",
       "      <td>0.0</td>\n",
       "      <td>0.0</td>\n",
       "    </tr>\n",
       "    <tr>\n",
       "      <th>2776</th>\n",
       "      <td>5b60e66dda52255c20df4491</td>\n",
       "      <td>(CA) Sales job. Income based on performance. A...</td>\n",
       "      <td>0.0</td>\n",
       "      <td>0.0</td>\n",
       "    </tr>\n",
       "  </tbody>\n",
       "</table>\n",
       "<p>2777 rows × 4 columns</p>\n",
       "</div>"
      ],
      "text/plain": [
       "                           _id  \\\n",
       "0     5b60e59cda52255c20cff794   \n",
       "1     5b60e59cda52255c20cff79a   \n",
       "2     5b60e59cda52255c20cff7a0   \n",
       "3     5b60e59cda52255c20cff7bf   \n",
       "4     5b60e59cda52255c20cff7b8   \n",
       "...                        ...   \n",
       "2772  5b60e66dda52255c20df433f   \n",
       "2773  5b60e66dda52255c20df43ae   \n",
       "2774  5b60e66dda52255c20df4462   \n",
       "2775  5b60e66dda52255c20df4448   \n",
       "2776  5b60e66dda52255c20df4491   \n",
       "\n",
       "                                              full_text  BE-00-00-00-00  \\\n",
       "0     Will he serve time?. Long story short my broth...             0.0   \n",
       "1     Groundwater leaking out of street 24/7. Ground...             0.0   \n",
       "2     How do I get my mom's license taken away. My m...             0.0   \n",
       "3     My boss hasn't paid me. What do i do?. I work ...             NaN   \n",
       "4     [Texas] I signed a non-compete contract, but t...             0.0   \n",
       "...                                                 ...             ...   \n",
       "2772  Do you and your parents get deported because o...             0.0   \n",
       "2773  Wondering the legality of a minor (me) being a...             0.0   \n",
       "2774  Can I sue a billion dollar company in small cl...             0.0   \n",
       "2775  Sued by creditor and currently in settlement n...             0.0   \n",
       "2776  (CA) Sales job. Income based on performance. A...             0.0   \n",
       "\n",
       "      BE-01-00-00-00  \n",
       "0                0.0  \n",
       "1                0.0  \n",
       "2                0.0  \n",
       "3                NaN  \n",
       "4                0.0  \n",
       "...              ...  \n",
       "2772             0.0  \n",
       "2773             0.0  \n",
       "2774             0.0  \n",
       "2775             0.0  \n",
       "2776             0.0  \n",
       "\n",
       "[2777 rows x 4 columns]"
      ]
     },
     "execution_count": 2,
     "metadata": {},
     "output_type": "execute_result"
    }
   ],
   "source": [
    "url = 'https://raw.githubusercontent.com/heeh/legal_issue_classification/master/2019-12-06_95p-confidence_binary.csv'\n",
    "df = pd.read_csv(url)\n",
    "df.info()\n",
    "df.iloc[:,:4]"
   ]
  },
  {
   "cell_type": "markdown",
   "metadata": {
    "janus": {
     "all_versions_showing": false,
     "cell_hidden": false,
     "current_version": 0,
     "id": "1c9646a6871a5",
     "named_versions": [],
     "output_hidden": false,
     "show_versions": false,
     "source_hidden": false,
     "versions": []
    }
   },
   "source": [
    "## Null and Rowsum Check"
   ]
  },
  {
   "cell_type": "code",
   "execution_count": 3,
   "metadata": {
    "colab": {
     "base_uri": "https://localhost:8080/",
     "height": 1000
    },
    "colab_type": "code",
    "executionInfo": {
     "elapsed": 8575,
     "status": "ok",
     "timestamp": 1582551062684,
     "user": {
      "displayName": "Hee Hwang",
      "photoUrl": "",
      "userId": "05361436400321274076"
     },
     "user_tz": 300
    },
    "id": "LWh8RtxFlhKT",
    "janus": {
     "all_versions_showing": false,
     "cell_hidden": true,
     "current_version": 0,
     "id": "46f3ebdce3ec5",
     "named_versions": [],
     "output_hidden": true,
     "show_versions": false,
     "source_hidden": true,
     "versions": []
    },
    "outputId": "8a2616da-2389-4142-c19a-4fadc1b86d66"
   },
   "outputs": [],
   "source": [
    "\n",
    "#Null Check\n",
    "#df.isnull().sum()\n",
    "\n",
    "# Class Check - Remove every column that has zero sum. \n",
    "df = df.loc[:, df.sum(axis=0, skipna=True) != 0]\n",
    "temp = df.sum(axis = 0, skipna = True)\n",
    "\n",
    "\n",
    "#df.info()\n"
   ]
  },
  {
   "cell_type": "markdown",
   "metadata": {
    "janus": {
     "all_versions_showing": false,
     "cell_hidden": false,
     "current_version": 0,
     "id": "6b5f506275a07",
     "named_versions": [],
     "output_hidden": false,
     "show_versions": false,
     "source_hidden": false,
     "versions": []
    }
   },
   "source": [
    "# Remove columns that have <10 positive classes"
   ]
  },
  {
   "cell_type": "code",
   "execution_count": 4,
   "metadata": {
    "janus": {
     "all_versions_showing": false,
     "cell_hidden": true,
     "current_version": 0,
     "id": "da6bfdef8ea13",
     "named_versions": [],
     "output_hidden": true,
     "show_versions": false,
     "source_hidden": true,
     "versions": []
    }
   },
   "outputs": [
    {
     "name": "stdout",
     "output_type": "stream",
     "text": [
      "88\n",
      "36\n",
      "['_id', 'full_text', 'BE-00-00-00-00', 'BU-00-00-00-00', 'CO-00-00-00-00', 'CR-00-00-00-00', 'CR-01-00-00-00', 'CR-04-00-00-00', 'CR-06-00-00-00', 'CR-10-00-00-00', 'ED-00-00-00-00', 'ES-00-00-00-00', 'ES-01-00-00-00', 'ES-03-00-00-00', 'FA-00-00-00-00', 'FA-05-00-00-00', 'FA-06-00-00-00', 'FA-07-00-00-00', 'GO-00-00-00-00', 'HE-00-00-00-00', 'HO-00-00-00-00', 'HO-06-00-00-00', 'HO-09-00-00-00', 'IM-00-00-00-00', 'MO-00-00-00-00', 'MO-02-00-00-00', 'MO-07-00-00-00', 'MO-10-00-00-00', 'RI-00-00-00-00', 'TO-00-00-00-00', 'TR-00-00-00-00', 'TR-01-00-00-00', 'TR-02-00-00-00', 'TR-03-00-00-00', 'TR-04-00-00-00', 'TR-05-00-00-00', 'WO-00-00-00-00', 'WO-03-00-00-00']\n",
      "38\n"
     ]
    },
    {
     "data": {
      "text/plain": [
       "_id               5b60e59cda52255c20cff7945b60e59cda52255c20cff7...\n",
       "full_text         Will he serve time?. Long story short my broth...\n",
       "BE-00-00-00-00                                                   27\n",
       "BU-00-00-00-00                                                   93\n",
       "CO-00-00-00-00                                                  106\n",
       "CR-00-00-00-00                                                  302\n",
       "CR-01-00-00-00                                                   12\n",
       "CR-04-00-00-00                                                   13\n",
       "CR-06-00-00-00                                                   11\n",
       "CR-10-00-00-00                                                   11\n",
       "ED-00-00-00-00                                                   24\n",
       "ES-00-00-00-00                                                   78\n",
       "ES-01-00-00-00                                                   10\n",
       "ES-03-00-00-00                                                   13\n",
       "FA-00-00-00-00                                                  357\n",
       "FA-05-00-00-00                                                   10\n",
       "FA-06-00-00-00                                                   10\n",
       "FA-07-00-00-00                                                   41\n",
       "GO-00-00-00-00                                                   13\n",
       "HE-00-00-00-00                                                  122\n",
       "HO-00-00-00-00                                                  550\n",
       "HO-06-00-00-00                                                   34\n",
       "HO-09-00-00-00                                                   27\n",
       "IM-00-00-00-00                                                   36\n",
       "MO-00-00-00-00                                                  366\n",
       "MO-02-00-00-00                                                   12\n",
       "MO-07-00-00-00                                                   13\n",
       "MO-10-00-00-00                                                   11\n",
       "RI-00-00-00-00                                                   22\n",
       "TO-00-00-00-00                                                  230\n",
       "TR-00-00-00-00                                                  260\n",
       "TR-01-00-00-00                                                   22\n",
       "TR-02-00-00-00                                                   29\n",
       "TR-03-00-00-00                                                   17\n",
       "TR-04-00-00-00                                                   20\n",
       "TR-05-00-00-00                                                   31\n",
       "WO-00-00-00-00                                                  387\n",
       "WO-03-00-00-00                                                   10\n",
       "dtype: object"
      ]
     },
     "execution_count": 4,
     "metadata": {},
     "output_type": "execute_result"
    }
   ],
   "source": [
    "oldCols = list(df.columns)\n",
    "print(len(oldCols))\n",
    "\n",
    "newCols = []\n",
    "for i,x in temp[2:].items():\n",
    "    if x >= 10:\n",
    "        newCols.append(i)\n",
    "        \n",
    "print(len(newCols))\n",
    "\n",
    "cols = oldCols[:2] + newCols\n",
    "\n",
    "print(cols)\n",
    "print(len(cols))\n",
    "\n",
    "df = df[cols]\n",
    "\n",
    "df.sum(axis=0, skipna=True)"
   ]
  },
  {
   "cell_type": "markdown",
   "metadata": {
    "colab_type": "text",
    "id": "zB9yYBXlrN7p",
    "janus": {
     "all_versions_showing": false,
     "cell_hidden": false,
     "current_version": 0,
     "id": "8f56427cc56eb",
     "named_versions": [],
     "output_hidden": false,
     "show_versions": false,
     "source_hidden": false,
     "versions": []
    }
   },
   "source": [
    "# Tiny Example: Crime and Prison(CR-00-00-00-00)\n"
   ]
  },
  {
   "cell_type": "markdown",
   "metadata": {
    "colab_type": "text",
    "id": "KoY-GYaJeHkk",
    "janus": {
     "all_versions_showing": false,
     "cell_hidden": false,
     "current_version": 0,
     "id": "cf617134b9c83",
     "named_versions": [],
     "output_hidden": false,
     "show_versions": false,
     "source_hidden": false,
     "versions": []
    }
   },
   "source": [
    "## Preprocessing (DONE)"
   ]
  },
  {
   "cell_type": "code",
   "execution_count": 5,
   "metadata": {
    "colab": {
     "base_uri": "https://localhost:8080/",
     "height": 663
    },
    "colab_type": "code",
    "executionInfo": {
     "elapsed": 8562,
     "status": "ok",
     "timestamp": 1582551062685,
     "user": {
      "displayName": "Hee Hwang",
      "photoUrl": "",
      "userId": "05361436400321274076"
     },
     "user_tz": 300
    },
    "id": "8WqotY32rOEs",
    "janus": {
     "all_versions_showing": false,
     "cell_hidden": true,
     "current_version": 0,
     "id": "455af60adbcad",
     "named_versions": [],
     "output_hidden": true,
     "show_versions": false,
     "source_hidden": true,
     "versions": []
    },
    "outputId": "b16f4dc2-bb9c-43d8-ad00-083a13c9b77e"
   },
   "outputs": [],
   "source": [
    "\n",
    "verbose = True\n",
    "def preprocessing(dfset: defaultdict, cls: str):\n",
    "    dfset[cls] = df.loc[:, ['_id', 'full_text', cls]]\n",
    "    labels = dfset[cls].iloc[:,2]\n",
    "    if verbose:\n",
    "        print(\"------------Before dropping nan----------------------------------------\")\n",
    "        print(dfset[cls].iloc[:,1:])\n",
    "        print(labels.value_counts(dropna=False))\n",
    "    \n",
    "    dfset[cls] = dfset[cls].dropna()\n",
    "    labels = dfset[cls].iloc[:,2]\n",
    "    if verbose:\n",
    "        print(\"\\n------------After dropping nan---------------------------------------\")\n",
    "        print(dfset[cls].iloc[:,1:])\n",
    "        print(labels.value_counts(dropna=False))\n",
    "\n"
   ]
  },
  {
   "cell_type": "markdown",
   "metadata": {
    "janus": {
     "all_versions_showing": false,
     "cell_hidden": false,
     "current_version": 0,
     "id": "11459136fca6",
     "named_versions": [],
     "output_hidden": false,
     "show_versions": false,
     "source_hidden": false,
     "versions": []
    }
   },
   "source": [
    "## Data Preparation"
   ]
  },
  {
   "cell_type": "code",
   "execution_count": 6,
   "metadata": {
    "janus": {
     "all_versions_showing": false,
     "cell_hidden": true,
     "current_version": 0,
     "id": "11e5448bf4137",
     "named_versions": [],
     "output_hidden": true,
     "show_versions": false,
     "source_hidden": true,
     "versions": []
    }
   },
   "outputs": [
    {
     "name": "stdout",
     "output_type": "stream",
     "text": [
      "------------Before dropping nan----------------------------------------\n",
      "                                              full_text  CR-00-00-00-00\n",
      "0     Will he serve time?. Long story short my broth...             1.0\n",
      "1     Groundwater leaking out of street 24/7. Ground...             0.0\n",
      "2     How do I get my mom's license taken away. My m...             NaN\n",
      "3     My boss hasn't paid me. What do i do?. I work ...             0.0\n",
      "4     [Texas] I signed a non-compete contract, but t...             0.0\n",
      "...                                                 ...             ...\n",
      "2772  Do you and your parents get deported because o...             1.0\n",
      "2773  Wondering the legality of a minor (me) being a...             0.0\n",
      "2774  Can I sue a billion dollar company in small cl...             0.0\n",
      "2775  Sued by creditor and currently in settlement n...             0.0\n",
      "2776  (CA) Sales job. Income based on performance. A...             0.0\n",
      "\n",
      "[2777 rows x 2 columns]\n",
      "0.0    1377\n",
      "NaN    1098\n",
      "1.0     302\n",
      "Name: CR-00-00-00-00, dtype: int64\n",
      "\n",
      "------------After dropping nan---------------------------------------\n",
      "                                              full_text  CR-00-00-00-00\n",
      "0     Will he serve time?. Long story short my broth...             1.0\n",
      "1     Groundwater leaking out of street 24/7. Ground...             0.0\n",
      "3     My boss hasn't paid me. What do i do?. I work ...             0.0\n",
      "4     [Texas] I signed a non-compete contract, but t...             0.0\n",
      "6     Eviction. I got an eviction notice from my lan...             0.0\n",
      "...                                                 ...             ...\n",
      "2772  Do you and your parents get deported because o...             1.0\n",
      "2773  Wondering the legality of a minor (me) being a...             0.0\n",
      "2774  Can I sue a billion dollar company in small cl...             0.0\n",
      "2775  Sued by creditor and currently in settlement n...             0.0\n",
      "2776  (CA) Sales job. Income based on performance. A...             0.0\n",
      "\n",
      "[1679 rows x 2 columns]\n",
      "0.0    1377\n",
      "1.0     302\n",
      "Name: CR-00-00-00-00, dtype: int64\n"
     ]
    }
   ],
   "source": [
    "cls = 'CR-00-00-00-00'\n",
    "dfset = defaultdict() \n",
    "preprocessing(dfset, cls)    \n",
    "\n",
    "#    model[cls] = make_pipeline(TfidfVectorizer(), MultinomialNB())\n",
    "tinydf = dfset[cls]\n",
    "X = tinydf['full_text'].values\n",
    "Y = tinydf[cls].values"
   ]
  },
  {
   "cell_type": "markdown",
   "metadata": {},
   "source": [
    "# GloVE"
   ]
  },
  {
   "cell_type": "markdown",
   "metadata": {
    "janus": {
     "all_versions_showing": false,
     "cell_hidden": false,
     "current_version": 0,
     "id": "0484da46afac2",
     "named_versions": [],
     "output_hidden": false,
     "show_versions": false,
     "source_hidden": false,
     "versions": []
    }
   },
   "source": [
    "## Download and Load GloVe"
   ]
  },
  {
   "cell_type": "code",
   "execution_count": 7,
   "metadata": {
    "janus": {
     "all_versions_showing": false,
     "cell_hidden": true,
     "current_version": 0,
     "id": "dfd2a43208cde",
     "named_versions": [],
     "output_hidden": true,
     "show_versions": false,
     "source_hidden": true,
     "versions": []
    }
   },
   "outputs": [
    {
     "data": {
      "application/vnd.jupyter.widget-view+json": {
       "model_id": "43bf50af86914a06a29d062e1edbe967",
       "version_major": 2,
       "version_minor": 0
      },
      "text/plain": [
       "HBox(children=(FloatProgress(value=1.0, bar_style='info', max=1.0), HTML(value='')))"
      ]
     },
     "metadata": {},
     "output_type": "display_data"
    },
    {
     "name": "stdout",
     "output_type": "stream",
     "text": [
      "\n",
      "Found 400000 word vectors.\n"
     ]
    }
   ],
   "source": [
    "#!wget http://nlp.stanford.edu/data/glove.6B.zip\n",
    "#!unzip glove.6B.zip\n",
    "\n",
    "embeddings_index = {}\n",
    "f = open('glove.6B.300d.txt', encoding=\"utf8\")\n",
    "for line in tqdm(f):\n",
    "    values = line.split()\n",
    "    word = values[0]\n",
    "    try:\n",
    "        coefs = np.asarray(values[1:], dtype='float32')\n",
    "        embeddings_index[word] = coefs\n",
    "    except ValueError:\n",
    "        pass\n",
    "f.close()\n",
    "print('Found %s word vectors.' % len(embeddings_index))"
   ]
  },
  {
   "cell_type": "markdown",
   "metadata": {
    "janus": {
     "all_versions_showing": false,
     "cell_hidden": false,
     "current_version": 0,
     "id": "80878b118e62d",
     "named_versions": [],
     "output_hidden": false,
     "show_versions": false,
     "source_hidden": false,
     "versions": []
    }
   },
   "source": [
    "## GloVe Train & Predict"
   ]
  },
  {
   "cell_type": "code",
   "execution_count": 8,
   "metadata": {
    "janus": {
     "all_versions_showing": false,
     "cell_hidden": false,
     "current_version": 0,
     "id": "effddb85e9eee",
     "named_versions": [],
     "output_hidden": false,
     "show_versions": false,
     "source_hidden": false,
     "versions": []
    },
    "scrolled": true
   },
   "outputs": [
    {
     "name": "stdout",
     "output_type": "stream",
     "text": [
      "Checkpoint1 - Data Read Complete\n"
     ]
    },
    {
     "data": {
      "application/vnd.jupyter.widget-view+json": {
       "model_id": "8a34e2d21eec4cd88cc6b71d449c5812",
       "version_major": 2,
       "version_minor": 0
      },
      "text/plain": [
       "HBox(children=(FloatProgress(value=0.0, max=1503.0), HTML(value='')))"
      ]
     },
     "metadata": {},
     "output_type": "display_data"
    },
    {
     "name": "stdout",
     "output_type": "stream",
     "text": [
      "\n",
      "Mean Train Word Hit Rate(\\%) 99.58181372991224\n"
     ]
    },
    {
     "data": {
      "application/vnd.jupyter.widget-view+json": {
       "model_id": "34b47ea521094cd4bae88f129cd9636e",
       "version_major": 2,
       "version_minor": 0
      },
      "text/plain": [
       "HBox(children=(FloatProgress(value=0.0, max=176.0), HTML(value='')))"
      ]
     },
     "metadata": {},
     "output_type": "display_data"
    },
    {
     "name": "stdout",
     "output_type": "stream",
     "text": [
      "\n",
      "Mean Test Word Hit Rate(\\%) 99.61077662227088\n",
      "Checkpoint2 -Normalized Vector for Sentences are created\n",
      "[0. 0. 1. 1. 1. 0. 0. 0. 0. 0. 1. 1. 0. 0. 0. 0. 0. 0. 0. 0. 0. 0. 0. 1.\n",
      " 1. 0. 0. 0. 0. 0. 1. 0. 0. 0. 0. 0. 0. 0. 0. 0. 1. 0. 1. 0. 0. 0. 0. 1.\n",
      " 0. 0. 0. 0. 0. 0. 0. 0. 1. 0. 0. 0. 0. 0. 0. 1. 0. 0. 0. 1. 0. 0. 0. 0.\n",
      " 0. 1. 0. 0. 0. 1. 0. 0. 0. 0. 1. 0. 0. 1. 0. 0. 0. 0. 0. 0. 0. 0. 0. 0.\n",
      " 0. 0. 0. 0. 1. 0. 0. 0. 0. 1. 0. 1. 0. 0. 0. 0. 0. 0. 1. 0. 1. 0. 0. 1.\n",
      " 1. 0. 0. 0. 0. 0. 0. 1. 0. 0. 0. 1. 1. 0. 0. 1. 1. 0. 0. 0. 0. 0. 1. 0.\n",
      " 0. 0. 0. 0. 0. 0. 0. 1. 0. 0. 1. 0. 0. 0. 1. 0. 0. 0. 0. 0. 0. 0. 1. 0.\n",
      " 0. 0. 0. 1. 0. 0. 0. 0.]\n",
      "accuracy: 0.9147727272727273\n",
      "precision: [0.99285714 0.61111111]\n",
      "recall: [0.90849673 0.95652174]\n",
      "fscore: [0.94880546 0.74576271]\n",
      "support: [153  23]\n"
     ]
    }
   ],
   "source": [
    "cls = 'CR-00-00-00-00'\n",
    "\n",
    "\n",
    "\n",
    "# Train and Test Split\n",
    "p = len(X) // 10 * 9\n",
    "train_text = X[:p]\n",
    "test_text = X[p:]\n",
    "\n",
    "\n",
    "print(\"Checkpoint1 - Data Read Complete\")\n",
    "\n",
    "\n",
    "hit = 0\n",
    "all_words = 0\n",
    "# this function creates a normalized vector for the whole sentence\n",
    "def sent2vec(s):\n",
    "    global hit, all_words\n",
    "    words = str(s).lower()\n",
    "    words = word_tokenize(words)\n",
    "    words = [w for w in words if not w in stop_words]\n",
    "    words = [w for w in words if w.isalpha()]\n",
    "    M = []\n",
    "    for w in words:\n",
    "        try:\n",
    "            M.append(embeddings_index[w])\n",
    "        except:\n",
    "            continue\n",
    "    hit += len(M)\n",
    "    all_words += len(words)\n",
    "    \n",
    "    M = np.array(M)\n",
    "    v = M.sum(axis=0)\n",
    "    if type(v) != np.ndarray:\n",
    "        return np.zeros(300)\n",
    "    return v / np.sqrt((v ** 2).sum())\n",
    "\n",
    "# create sentence vectors using the above function for training and validation set\n",
    "xtrain_glove = [sent2vec(x) for x in tqdm(train_text)]\n",
    "\n",
    "print('Mean Train Word Hit Rate(\\%)', hit / all_words * 100)\n",
    "hit = 0\n",
    "all_words = 0\n",
    "\n",
    "xtest_glove = [sent2vec(x) for x in tqdm(test_text)]\n",
    "print('Mean Test Word Hit Rate(\\%)', hit / all_words * 100)\n",
    "\n",
    "print('Checkpoint2 -Normalized Vector for Sentences are created')\n",
    "\n",
    "xtrain_glove = np.array(xtrain_glove)\n",
    "xtest_glove = np.array(xtest_glove)\n",
    "\n",
    "model = LogisticRegression(penalty=PENALTY, solver=SOLVER, class_weight='balanced')\n",
    "\n",
    "train_target = Y[:p]\n",
    "test_target = Y[p:]\n",
    "\n",
    "model.fit(xtrain_glove, train_target)\n",
    "preds = model.predict(xtest_glove)\n",
    "\n",
    "print(preds)\n",
    "accuracy = accuracy_score(test_target, preds)\n",
    "precision, recall, fscore, support = score(test_target, preds)\n",
    "print('accuracy: {}'.format(accuracy))\n",
    "print('precision: {}'.format(precision))\n",
    "print('recall: {}'.format(recall))\n",
    "print('fscore: {}'.format(fscore))\n",
    "print('support: {}'.format(support))"
   ]
  },
  {
   "cell_type": "markdown",
   "metadata": {
    "janus": {
     "all_versions_showing": false,
     "cell_hidden": false,
     "current_version": 0,
     "id": "36c031454b0fc",
     "named_versions": [],
     "output_hidden": false,
     "show_versions": false,
     "source_hidden": false,
     "versions": []
    }
   },
   "source": [
    "## GloVE + Logistic Regression on CR-00-00-00-00"
   ]
  },
  {
   "cell_type": "code",
   "execution_count": 9,
   "metadata": {
    "janus": {
     "all_versions_showing": false,
     "cell_hidden": false,
     "current_version": 0,
     "id": "b4c41c9fe8b0c",
     "named_versions": [],
     "output_hidden": false,
     "show_versions": false,
     "source_hidden": false,
     "versions": []
    }
   },
   "outputs": [
    {
     "data": {
      "application/vnd.jupyter.widget-view+json": {
       "model_id": "df83077b803d4dfc87d2c015e72183fa",
       "version_major": 2,
       "version_minor": 0
      },
      "text/plain": [
       "HBox(children=(FloatProgress(value=0.0, max=1679.0), HTML(value='')))"
      ]
     },
     "metadata": {},
     "output_type": "display_data"
    },
    {
     "name": "stdout",
     "output_type": "stream",
     "text": [
      "\n",
      "------------------------------------\n",
      "\n",
      "0.0    1377\n",
      "1.0     302\n",
      "Name: CR-00-00-00-00, dtype: int64\n",
      "data set size 1679\n",
      "Checkpoint2 -Normalized Vector for Sentences are created\n",
      "logloss: 0.3583\n",
      "brierloss:  0.1045\n"
     ]
    },
    {
     "data": {
      "text/plain": [
       "(0.8928, 0.6525, 0.8642, 0.7436, 302, 0.3583, 0.1045)"
      ]
     },
     "execution_count": 9,
     "metadata": {},
     "output_type": "execute_result"
    }
   ],
   "source": [
    "\n",
    "verbose = False\n",
    "    \n",
    "numdoc = defaultdict()\n",
    "\n",
    "classifier = defaultdict()\n",
    "\n",
    "    \n",
    "def predict_by_class_glove(dfset: defaultdict,cls: str) -> float:\n",
    "    global PENALTY, SOLVER\n",
    "    preprocessing(dfset, cls)\n",
    "    tinydf = dfset[cls]\n",
    "    X = tinydf['full_text'].values\n",
    "    Y = tinydf[cls].values\n",
    "    X_glove = [sent2vec(x) for x in tqdm(X)]\n",
    "    X_glove = np.array(X_glove)\n",
    "    \n",
    "    \n",
    "    print('------------------------------------\\n')\n",
    "    labels = dfset[cls].iloc[:,2]\n",
    "    print(labels.value_counts(dropna=False))\n",
    "\n",
    "    # 10-fold separation with train and test \n",
    "    #kfold = KFold(n_splits=10)\n",
    "    kfold = KFold(n_splits=10)\n",
    "    print('data set size', len(X_glove))\n",
    "    numdoc[cls] = len(X_glove)\n",
    "    n_iter = 0\n",
    "    acc_list = []\n",
    "    pre_list = []\n",
    "    rec_list = []\n",
    "    fsc_list = []\n",
    "    sup_list = []\n",
    "\n",
    "    \n",
    "    preds = [0] * len(Y)\n",
    "    probs = [0] * len(Y)\n",
    "    \n",
    "    print('Checkpoint2 -Normalized Vector for Sentences are created')\n",
    "    \n",
    "\n",
    "\n",
    "    for train_index, test_index in kfold.split(X_glove, Y):\n",
    "\n",
    "        X_train, X_test = X_glove[train_index], X_glove[test_index] \n",
    "        Y_train, Y_test = Y[train_index], Y[test_index]\n",
    "\n",
    "        # Scikit-Learn\n",
    "        classifier[cls] = LogisticRegression(penalty=PENALTY, solver=SOLVER, class_weight='balanced', max_iter=2000)\n",
    "        classifier[cls].fit(X_train, Y_train)\n",
    "        out = classifier[cls].predict(X_test)\n",
    "        prob = classifier[cls].predict_proba(X_test)[:,1]\n",
    "        \n",
    "        \n",
    "\n",
    "        #print(len(out))\n",
    "        i = 0\n",
    "        for x in test_index:\n",
    "            preds[x] = out[i]\n",
    "            probs[x] = prob[i]\n",
    "            i += 1\n",
    "            \n",
    "        #print(preds)\n",
    "\n",
    "        n_iter += 1\n",
    "        \n",
    "    custom_logloss = np.round(log_loss(Y, probs), 4)\n",
    "    custom_brierloss = np.round(brier_score_loss(Y, probs), 4)\n",
    "    print('logloss:', custom_logloss)\n",
    "    print('brierloss: ',custom_brierloss)\n",
    "    \n",
    "    accuracy = accuracy_score(Y, preds)\n",
    "    precision, recall, fscore, support = score(Y, preds)\n",
    "    # accuracy: (tp + tn) / (p + n)\n",
    "    # precision tp / (tp + fp)\n",
    "    # recall:   tp / (tp + fn)\n",
    "    # f1: 2 tp / (2 tp + fp + fn)\n",
    "    accuracy = np.round(accuracy, 4)\n",
    "    precision[1] = np.round(precision[1], 4)\n",
    "    recall[1] = np.round(recall[1], 4)\n",
    "    fscore[1] = np.round(fscore[1], 4)\n",
    "    support[1] = np.round(support[1], 4)\n",
    "    \n",
    "    \n",
    "    return (accuracy, precision[1], recall[1], fscore[1], support[1], custom_logloss, custom_brierloss)\n",
    "\n",
    "\n",
    "\n",
    "#cls = 'BE-00-00-00-00'\n",
    "cls = 'CR-00-00-00-00'\n",
    "predict_by_class_glove(dfset, cls)"
   ]
  },
  {
   "cell_type": "markdown",
   "metadata": {},
   "source": [
    "## GloVe GridSearch"
   ]
  },
  {
   "cell_type": "code",
   "execution_count": 13,
   "metadata": {},
   "outputs": [],
   "source": [
    "verbose = False\n",
    "numdoc = defaultdict()\n",
    "classifier = defaultdict()\n",
    "\n",
    "    \n",
    "def predict_by_class_glove_grid(dfset: defaultdict,cls: str) -> float:\n",
    "    global PENALTY, SOLVER\n",
    "    preprocessing(dfset, cls)\n",
    "    tinydf = dfset[cls]\n",
    "    X = tinydf['full_text'].values\n",
    "    Y = tinydf[cls].values\n",
    "    X_glove = [sent2vec(x) for x in tqdm(X)]\n",
    "    X_glove = np.array(X_glove)\n",
    "\n",
    "    print('------------------------------------\\n')\n",
    "    labels = dfset[cls].iloc[:,2]\n",
    "    print(labels.value_counts(dropna=False))\n",
    "    kfold = KFold(n_splits=10)\n",
    "    print('data set size', len(X_glove))\n",
    "    numdoc[cls] = len(X_glove)\n",
    "    n_iter = 0\n",
    "    acc_list = []\n",
    "    pre_list = []\n",
    "    rec_list = []\n",
    "    fsc_list = []\n",
    "    sup_list = []\n",
    "\n",
    "    \n",
    "    preds = [0] * len(Y)\n",
    "    probs = [0] * len(Y)\n",
    "\n",
    "    best_recall = 0\n",
    "    best_accuracy = 0\n",
    "    best_precision = 0\n",
    "    best_fscore = 0\n",
    "    best_support = 0\n",
    "    best_model = 0\n",
    "    best_c = 0\n",
    "    \n",
    "    best_logloss = 1\n",
    "    best_brierloss = 1\n",
    "    \n",
    "    model = None\n",
    "\n",
    "\n",
    "    for reg in range(-12, 1):\n",
    "        \n",
    "        c = 1.0/2.0**reg\n",
    "\n",
    "        model = LogisticRegression(penalty=PENALTY, solver=SOLVER, class_weight='balanced', max_iter=2000, C = c)\n",
    "        \n",
    "        for train_index, test_index in kfold.split(X_glove, Y):\n",
    "            X_train, X_test = X_glove[train_index], X_glove[test_index] \n",
    "            Y_train, Y_test = Y[train_index], Y[test_index]\n",
    "            model.fit(X_train, Y_train)\n",
    "            out = model.predict(X_test)\n",
    "            prob = model.predict_proba(X_test)[:,1]\n",
    "\n",
    "            i = 0\n",
    "            for x in test_index:\n",
    "                preds[x] = out[i]\n",
    "                probs[x] = prob[i]\n",
    "                i += 1\n",
    "            n_iter += 1\n",
    "\n",
    "            \n",
    "        custom_logloss = np.round(log_loss(Y, probs), 4)\n",
    "        custom_brierloss = np.round(brier_score_loss(Y, probs), 4)  \n",
    "        \n",
    "        c_list.append(reg)\n",
    "        loss_list.append(custom_logloss)\n",
    "        print('C:', c, end=' ')\n",
    "        print(custom_logloss)\n",
    "\n",
    "        accuracy = accuracy_score(Y, preds)\n",
    "        precision, recall, fscore, support = score(Y, preds)\n",
    "        # accuracy: (tp + tn) / (p + n)\n",
    "        # precision tp / (tp + fp)\n",
    "        # recall:   tp / (tp + fn)\n",
    "        # f1: 2 tp / (2 tp + fp + fn)\n",
    "        accuracy = np.round(accuracy, 4)\n",
    "        precision[1] = np.round(precision[1], 4)\n",
    "        recall[1] = np.round(recall[1], 4)\n",
    "        fscore[1] = np.round(fscore[1], 4)\n",
    "        support[1] = np.round(support[1], 4)\n",
    "\n",
    "#        if best_recall < recall[1]:\n",
    "        if best_logloss > custom_logloss:\n",
    "            best_logloss = custom_logloss\n",
    "            best_accuracy = accuracy\n",
    "            best_recall = recall[1]\n",
    "            best_precision = precision[1]\n",
    "            best_fscore = fscore[1]\n",
    "            best_support = support[1]\n",
    "            best_model = model\n",
    "            best_c = c\n",
    "        if best_brierloss > custom_brierloss:\n",
    "            best_brierloss = custom_brierloss\n",
    "            \n",
    "    classifier[cls] = best_model\n",
    "    return (best_accuracy, best_precision, best_recall, best_fscore, best_support, best_logloss, best_brierloss, best_c, numdoc[cls])\n",
    "\n"
   ]
  },
  {
   "cell_type": "code",
   "execution_count": 15,
   "metadata": {},
   "outputs": [
    {
     "data": {
      "application/vnd.jupyter.widget-view+json": {
       "model_id": "f1f0dd9e5ab64b1190151678af89a706",
       "version_major": 2,
       "version_minor": 0
      },
      "text/plain": [
       "HBox(children=(FloatProgress(value=0.0, max=1679.0), HTML(value='')))"
      ]
     },
     "metadata": {},
     "output_type": "display_data"
    },
    {
     "name": "stdout",
     "output_type": "stream",
     "text": [
      "\n",
      "------------------------------------\n",
      "\n",
      "0.0    1377\n",
      "1.0     302\n",
      "Name: CR-00-00-00-00, dtype: int64\n",
      "data set size 1679\n",
      "C: 4096.0 0.64\n",
      "C: 2048.0 0.4949\n",
      "C: 1024.0 0.3927\n",
      "C: 512.0 0.3253\n",
      "C: 256.0 0.2822\n",
      "C: 128.0 0.2562\n",
      "C: 64.0 0.243\n",
      "C: 32.0 0.2397\n",
      "C: 16.0 0.2455\n",
      "C: 8.0 0.26\n",
      "C: 4.0 0.2835\n",
      "C: 2.0 0.3163\n",
      "C: 1.0 0.3583\n",
      "(0.9148, 0.7131, 0.8808, 0.7881, 302, 0.2397, 0.0685, 32.0, 1679)\n"
     ]
    },
    {
     "data": {
      "image/png": "[encoded data removed]",
      "text/plain": [
       "<Figure size 432x288 with 1 Axes>"
      ]
     },
     "metadata": {},
     "output_type": "display_data"
    },
    {
     "name": "stdout",
     "output_type": "stream",
     "text": [
      "32.0\n"
     ]
    }
   ],
   "source": [
    "c_list = []\n",
    "loss_list = []\n",
    "\n",
    "cls = 'CR-00-00-00-00'\n",
    "print(predict_by_class_glove_grid(dfset, cls))\n",
    "\n",
    "\n",
    "\n",
    "# plotting the points  \n",
    "plt.plot(range(-12,1), loss_list)  \n",
    "plt.xlabel('reg values') \n",
    "plt.ylabel('log_loss') \n",
    "plt.title('Hyperparameter Selection') \n",
    "plt.show() \n",
    "print(classifier[cls].C)"
   ]
  },
  {
   "cell_type": "markdown",
   "metadata": {
    "colab_type": "text",
    "id": "ZqPjMWHLfCWn",
    "janus": {
     "all_versions_showing": false,
     "cell_hidden": false,
     "current_version": 0,
     "id": "6d16c3e0c6dac",
     "named_versions": [],
     "output_hidden": false,
     "show_versions": false,
     "source_hidden": false,
     "versions": []
    }
   },
   "source": [
    "# Entire Data "
   ]
  },
  {
   "cell_type": "markdown",
   "metadata": {
    "colab_type": "text",
    "id": "QLxJKWdxfQEs",
    "janus": {
     "all_versions_showing": false,
     "cell_hidden": false,
     "current_version": 0,
     "id": "1f636377bc915",
     "named_versions": [],
     "output_hidden": false,
     "show_versions": false,
     "source_hidden": false,
     "versions": []
    }
   },
   "source": [
    "## Build Models and Calculating Accuracies"
   ]
  },
  {
   "cell_type": "code",
   "execution_count": 16,
   "metadata": {
    "colab": {},
    "colab_type": "code",
    "id": "nJUvNbLprOTe",
    "janus": {
     "all_versions_showing": false,
     "cell_hidden": true,
     "current_version": 0,
     "id": "381e7a94d7c67",
     "named_versions": [],
     "output_hidden": true,
     "show_versions": false,
     "source_hidden": true,
     "versions": []
    }
   },
   "outputs": [
    {
     "name": "stdout",
     "output_type": "stream",
     "text": [
      "Index(['BE-00-00-00-00', 'BU-00-00-00-00', 'CO-00-00-00-00', 'CR-00-00-00-00',\n",
      "       'CR-01-00-00-00', 'CR-04-00-00-00', 'CR-06-00-00-00', 'CR-10-00-00-00',\n",
      "       'ED-00-00-00-00', 'ES-00-00-00-00', 'ES-01-00-00-00', 'ES-03-00-00-00',\n",
      "       'FA-00-00-00-00', 'FA-05-00-00-00', 'FA-06-00-00-00', 'FA-07-00-00-00',\n",
      "       'GO-00-00-00-00', 'HE-00-00-00-00', 'HO-00-00-00-00', 'HO-06-00-00-00',\n",
      "       'HO-09-00-00-00', 'IM-00-00-00-00', 'MO-00-00-00-00', 'MO-02-00-00-00',\n",
      "       'MO-07-00-00-00', 'MO-10-00-00-00', 'RI-00-00-00-00', 'TO-00-00-00-00',\n",
      "       'TR-00-00-00-00', 'TR-01-00-00-00', 'TR-02-00-00-00', 'TR-03-00-00-00',\n",
      "       'TR-04-00-00-00', 'TR-05-00-00-00', 'WO-00-00-00-00', 'WO-03-00-00-00'],\n",
      "      dtype='object')\n"
     ]
    },
    {
     "data": {
      "application/vnd.jupyter.widget-view+json": {
       "model_id": "2c42d2aca016478ea376df7fe736de81",
       "version_major": 2,
       "version_minor": 0
      },
      "text/plain": [
       "HBox(children=(FloatProgress(value=0.0, max=36.0), HTML(value='')))"
      ]
     },
     "metadata": {},
     "output_type": "display_data"
    },
    {
     "data": {
      "application/vnd.jupyter.widget-view+json": {
       "model_id": "520283fb5fdd426baf3dbd69ff639fcf",
       "version_major": 2,
       "version_minor": 0
      },
      "text/plain": [
       "HBox(children=(FloatProgress(value=0.0, max=1848.0), HTML(value='')))"
      ]
     },
     "metadata": {},
     "output_type": "display_data"
    },
    {
     "name": "stdout",
     "output_type": "stream",
     "text": [
      "\n",
      "------------------------------------\n",
      "\n",
      "0.0    1821\n",
      "1.0      27\n",
      "Name: BE-00-00-00-00, dtype: int64\n",
      "data set size 1848\n",
      "C: 4096.0 0.0867\n",
      "C: 2048.0 0.0805\n",
      "C: 1024.0 0.0756\n",
      "C: 512.0 0.0726\n",
      "C: 256.0 0.0725\n",
      "C: 128.0 0.0768\n",
      "C: 64.0 0.0867\n",
      "C: 32.0 0.1027\n",
      "C: 16.0 0.1258\n",
      "C: 8.0 0.1567\n",
      "C: 4.0 0.1963\n",
      "C: 2.0 0.245\n",
      "C: 1.0 0.3027\n",
      "statistics (0.9735, 0.2885, 0.5556, 0.3797, 27, 0.0725, 0.0178, 256.0, 1848)\n"
     ]
    },
    {
     "data": {
      "application/vnd.jupyter.widget-view+json": {
       "model_id": "71ca0b042a67453a80cef1a9065fd89f",
       "version_major": 2,
       "version_minor": 0
      },
      "text/plain": [
       "HBox(children=(FloatProgress(value=0.0, max=1590.0), HTML(value='')))"
      ]
     },
     "metadata": {},
     "output_type": "display_data"
    },
    {
     "name": "stdout",
     "output_type": "stream",
     "text": [
      "\n",
      "------------------------------------\n",
      "\n",
      "0.0    1497\n",
      "1.0      93\n",
      "Name: BU-00-00-00-00, dtype: int64\n",
      "data set size 1590\n",
      "C: 4096.0 0.1736\n",
      "C: 2048.0 0.1522\n",
      "C: 1024.0 0.1328\n",
      "C: 512.0 0.1163\n",
      "C: 256.0 0.1049\n",
      "C: 128.0 0.1005\n",
      "C: 64.0 0.1029\n",
      "C: 32.0 0.1112\n",
      "C: 16.0 0.1251\n",
      "C: 8.0 0.1444\n",
      "C: 4.0 0.1696\n",
      "C: 2.0 0.2019\n",
      "C: 1.0 0.2436\n",
      "statistics (0.9635, 0.64, 0.8602, 0.7339, 93, 0.1005, 0.0283, 128.0, 1590)\n"
     ]
    },
    {
     "data": {
      "application/vnd.jupyter.widget-view+json": {
       "model_id": "c6a5df659c6b4695a3c5c842ccd2819c",
       "version_major": 2,
       "version_minor": 0
      },
      "text/plain": [
       "HBox(children=(FloatProgress(value=0.0, max=1164.0), HTML(value='')))"
      ]
     },
     "metadata": {},
     "output_type": "display_data"
    },
    {
     "name": "stdout",
     "output_type": "stream",
     "text": [
      "\n",
      "------------------------------------\n",
      "\n",
      "0.0    1058\n",
      "1.0     106\n",
      "Name: CO-00-00-00-00, dtype: int64\n",
      "data set size 1164\n",
      "C: 4096.0 0.3233\n",
      "C: 2048.0 0.2771\n",
      "C: 1024.0 0.2399\n",
      "C: 512.0 0.2106\n",
      "C: 256.0 0.1897\n",
      "C: 128.0 0.1782\n",
      "C: 64.0 0.1764\n",
      "C: 32.0 0.1843\n",
      "C: 16.0 0.202\n",
      "C: 8.0 0.2288\n",
      "C: 4.0 0.2645\n",
      "C: 2.0 0.3093\n",
      "C: 1.0 0.3629\n",
      "statistics (0.9399, 0.6385, 0.783, 0.7034, 106, 0.1764, 0.0483, 64.0, 1164)\n"
     ]
    },
    {
     "data": {
      "application/vnd.jupyter.widget-view+json": {
       "model_id": "2a54b3aa0f1b42d1b4ec5542c225a61c",
       "version_major": 2,
       "version_minor": 0
      },
      "text/plain": [
       "HBox(children=(FloatProgress(value=0.0, max=1679.0), HTML(value='')))"
      ]
     },
     "metadata": {},
     "output_type": "display_data"
    },
    {
     "name": "stdout",
     "output_type": "stream",
     "text": [
      "\n",
      "------------------------------------\n",
      "\n",
      "0.0    1377\n",
      "1.0     302\n",
      "Name: CR-00-00-00-00, dtype: int64\n",
      "data set size 1679\n",
      "C: 4096.0 0.64\n",
      "C: 2048.0 0.4949\n",
      "C: 1024.0 0.3927\n",
      "C: 512.0 0.3253\n",
      "C: 256.0 0.2822\n",
      "C: 128.0 0.2562\n",
      "C: 64.0 0.243\n",
      "C: 32.0 0.2397\n",
      "C: 16.0 0.2455\n",
      "C: 8.0 0.26\n",
      "C: 4.0 0.2835\n",
      "C: 2.0 0.3163\n",
      "C: 1.0 0.3583\n",
      "statistics (0.9148, 0.7131, 0.8808, 0.7881, 302, 0.2397, 0.0685, 32.0, 1679)\n"
     ]
    },
    {
     "data": {
      "application/vnd.jupyter.widget-view+json": {
       "model_id": "1399e874bb794cb79567153019ee84a2",
       "version_major": 2,
       "version_minor": 0
      },
      "text/plain": [
       "HBox(children=(FloatProgress(value=0.0, max=1393.0), HTML(value='')))"
      ]
     },
     "metadata": {},
     "output_type": "display_data"
    },
    {
     "name": "stdout",
     "output_type": "stream",
     "text": [
      "\n",
      "------------------------------------\n",
      "\n",
      "0.0    1381\n",
      "1.0      12\n",
      "Name: CR-01-00-00-00, dtype: int64\n",
      "data set size 1393\n",
      "C: 4096.0 0.1192\n",
      "C: 2048.0 0.1091\n",
      "C: 1024.0 0.1001\n",
      "C: 512.0 0.0927\n",
      "C: 256.0 0.0878\n",
      "C: 128.0 0.0867\n",
      "C: 64.0 0.0911\n",
      "C: 32.0 0.103\n",
      "C: 16.0 0.1247\n",
      "C: 8.0 0.1581\n",
      "C: 4.0 0.2047\n",
      "C: 2.0 0.2644\n",
      "C: 1.0 0.3348\n",
      "statistics (0.9777, 0.0476, 0.0833, 0.0606, 12, 0.0867, 0.017, 128.0, 1393)\n"
     ]
    },
    {
     "data": {
      "application/vnd.jupyter.widget-view+json": {
       "model_id": "592bcd26ff7148e2be28590bfccd1b4d",
       "version_major": 2,
       "version_minor": 0
      },
      "text/plain": [
       "HBox(children=(FloatProgress(value=0.0, max=1402.0), HTML(value='')))"
      ]
     },
     "metadata": {},
     "output_type": "display_data"
    },
    {
     "name": "stdout",
     "output_type": "stream",
     "text": [
      "\n",
      "------------------------------------\n",
      "\n",
      "0.0    1389\n",
      "1.0      13\n",
      "Name: CR-04-00-00-00, dtype: int64\n",
      "data set size 1402\n",
      "C: 4096.0 0.1085\n",
      "C: 2048.0 0.1007\n",
      "C: 1024.0 0.0942\n",
      "C: 512.0 0.0897\n",
      "C: 256.0 0.0881\n",
      "C: 128.0 0.0909\n",
      "C: 64.0 0.0998\n",
      "C: 32.0 0.1169\n",
      "C: 16.0 0.1437\n",
      "C: 8.0 0.1815\n",
      "C: 4.0 0.2306\n",
      "C: 2.0 0.29\n",
      "C: 1.0 0.3567\n",
      "statistics (0.9772, 0.0476, 0.0769, 0.0588, 13, 0.0881, 0.0163, 256.0, 1402)\n"
     ]
    },
    {
     "data": {
      "application/vnd.jupyter.widget-view+json": {
       "model_id": "178fb2e906174c9d9eccbc09b3758bb0",
       "version_major": 2,
       "version_minor": 0
      },
      "text/plain": [
       "HBox(children=(FloatProgress(value=0.0, max=1404.0), HTML(value='')))"
      ]
     },
     "metadata": {},
     "output_type": "display_data"
    },
    {
     "name": "stdout",
     "output_type": "stream",
     "text": [
      "\n",
      "------------------------------------\n",
      "\n",
      "0.0    1393\n",
      "1.0      11\n",
      "Name: CR-06-00-00-00, dtype: int64\n",
      "data set size 1404\n",
      "C: 4096.0 0.0621\n",
      "C: 2048.0 0.0589\n",
      "C: 1024.0 0.0564\n",
      "C: 512.0 0.055\n",
      "C: 256.0 0.0554\n",
      "C: 128.0 0.0583\n",
      "C: 64.0 0.0652\n",
      "C: 32.0 0.0777\n",
      "C: 16.0 0.0979\n",
      "C: 8.0 0.1281\n",
      "C: 4.0 0.1703\n",
      "C: 2.0 0.2259\n",
      "C: 1.0 0.2944\n",
      "statistics (0.9872, 0.2308, 0.2727, 0.25, 11, 0.055, 0.0104, 512.0, 1404)\n"
     ]
    },
    {
     "data": {
      "application/vnd.jupyter.widget-view+json": {
       "model_id": "a27214f533494254b417ac5c83f27668",
       "version_major": 2,
       "version_minor": 0
      },
      "text/plain": [
       "HBox(children=(FloatProgress(value=0.0, max=1969.0), HTML(value='')))"
      ]
     },
     "metadata": {},
     "output_type": "display_data"
    },
    {
     "name": "stdout",
     "output_type": "stream",
     "text": [
      "\n",
      "------------------------------------\n",
      "\n",
      "0.0    1958\n",
      "1.0      11\n",
      "Name: CR-10-00-00-00, dtype: int64\n",
      "data set size 1969\n",
      "C: 4096.0 0.0834\n",
      "C: 2048.0 0.0774\n",
      "C: 1024.0 0.0721\n",
      "C: 512.0 0.068\n",
      "C: 256.0 0.0658\n",
      "C: 128.0 0.0665\n",
      "C: 64.0 0.0715\n",
      "C: 32.0 0.0825\n",
      "C: 16.0 0.1016\n",
      "C: 8.0 0.131\n",
      "C: 4.0 0.1724\n",
      "C: 2.0 0.2267\n",
      "C: 1.0 0.2928\n",
      "statistics (0.9843, 0.0455, 0.0909, 0.0606, 11, 0.0658, 0.0121, 256.0, 1969)\n"
     ]
    },
    {
     "data": {
      "application/vnd.jupyter.widget-view+json": {
       "model_id": "b8bc714883f64d8e8c6bbe0c476416a1",
       "version_major": 2,
       "version_minor": 0
      },
      "text/plain": [
       "HBox(children=(FloatProgress(value=0.0, max=1813.0), HTML(value='')))"
      ]
     },
     "metadata": {},
     "output_type": "display_data"
    },
    {
     "name": "stdout",
     "output_type": "stream",
     "text": [
      "\n",
      "------------------------------------\n",
      "\n",
      "0.0    1789\n",
      "1.0      24\n",
      "Name: ED-00-00-00-00, dtype: int64\n",
      "data set size 1813\n",
      "C: 4096.0 0.0592\n",
      "C: 2048.0 0.0547\n",
      "C: 1024.0 0.0508\n",
      "C: 512.0 0.0479\n",
      "C: 256.0 0.0466\n",
      "C: 128.0 0.0476\n",
      "C: 64.0 0.0517\n",
      "C: 32.0 0.0596\n",
      "C: 16.0 0.0726\n",
      "C: 8.0 0.0923\n",
      "C: 4.0 0.1213\n",
      "C: 2.0 0.1621\n",
      "C: 1.0 0.2166\n",
      "statistics (0.9862, 0.4848, 0.6667, 0.5614, 24, 0.0466, 0.0119, 256.0, 1813)\n"
     ]
    },
    {
     "data": {
      "application/vnd.jupyter.widget-view+json": {
       "model_id": "ca565c038bbb4b09be0a4ccd5f4bf194",
       "version_major": 2,
       "version_minor": 0
      },
      "text/plain": [
       "HBox(children=(FloatProgress(value=0.0, max=1944.0), HTML(value='')))"
      ]
     },
     "metadata": {},
     "output_type": "display_data"
    },
    {
     "name": "stdout",
     "output_type": "stream",
     "text": [
      "\n",
      "------------------------------------\n",
      "\n",
      "0.0    1866\n",
      "1.0      78\n",
      "Name: ES-00-00-00-00, dtype: int64\n",
      "data set size 1944\n",
      "C: 4096.0 0.0965\n",
      "C: 2048.0 0.0873\n",
      "C: 1024.0 0.0799\n",
      "C: 512.0 0.0753\n",
      "C: 256.0 0.0747\n",
      "C: 128.0 0.0793\n",
      "C: 64.0 0.0897\n",
      "C: 32.0 0.1062\n",
      "C: 16.0 0.1287\n",
      "C: 8.0 0.1578\n",
      "C: 4.0 0.1933\n",
      "C: 2.0 0.2359\n",
      "C: 1.0 0.286\n",
      "statistics (0.9717, 0.6162, 0.7821, 0.6893, 78, 0.0747, 0.0207, 256.0, 1944)\n"
     ]
    },
    {
     "data": {
      "application/vnd.jupyter.widget-view+json": {
       "model_id": "6d6590d1d2f7456589b6bee2074f7fc6",
       "version_major": 2,
       "version_minor": 0
      },
      "text/plain": [
       "HBox(children=(FloatProgress(value=0.0, max=1876.0), HTML(value='')))"
      ]
     },
     "metadata": {},
     "output_type": "display_data"
    },
    {
     "name": "stdout",
     "output_type": "stream",
     "text": [
      "\n",
      "------------------------------------\n",
      "\n",
      "0.0    1866\n",
      "1.0      10\n",
      "Name: ES-01-00-00-00, dtype: int64\n",
      "data set size 1876\n",
      "C: 4096.0 0.0462\n",
      "C: 2048.0 0.0436\n",
      "C: 1024.0 0.0415\n",
      "C: 512.0 0.0404\n",
      "C: 256.0 0.0406\n",
      "C: 128.0 0.0431\n",
      "C: 64.0 0.049\n",
      "C: 32.0 0.0596\n",
      "C: 16.0 0.0764\n",
      "C: 8.0 0.101\n",
      "C: 4.0 0.1353\n",
      "C: 2.0 0.1808\n",
      "C: 1.0 0.2388\n",
      "statistics (0.9888, 0.0769, 0.1, 0.087, 10, 0.0404, 0.0094, 512.0, 1876)\n"
     ]
    },
    {
     "data": {
      "application/vnd.jupyter.widget-view+json": {
       "model_id": "7530b85934c049b7a2497b93d87ad00a",
       "version_major": 2,
       "version_minor": 0
      },
      "text/plain": [
       "HBox(children=(FloatProgress(value=0.0, max=1992.0), HTML(value='')))"
      ]
     },
     "metadata": {},
     "output_type": "display_data"
    },
    {
     "name": "stdout",
     "output_type": "stream",
     "text": [
      "\n",
      "------------------------------------\n",
      "\n",
      "0.0    1979\n",
      "1.0      13\n",
      "Name: ES-03-00-00-00, dtype: int64\n",
      "data set size 1992\n",
      "C: 4096.0 0.0705\n",
      "C: 2048.0 0.0661\n",
      "C: 1024.0 0.0625\n",
      "C: 512.0 0.0604\n",
      "C: 256.0 0.0603\n",
      "C: 128.0 0.0635\n",
      "C: 64.0 0.0711\n",
      "C: 32.0 0.0845\n",
      "C: 16.0 0.105\n",
      "C: 8.0 0.1339\n",
      "C: 4.0 0.172\n",
      "C: 2.0 0.2191\n",
      "C: 1.0 0.2741\n",
      "statistics (0.9829, 0.1379, 0.3077, 0.1905, 13, 0.0603, 0.0119, 256.0, 1992)\n"
     ]
    },
    {
     "data": {
      "application/vnd.jupyter.widget-view+json": {
       "model_id": "f442ff0c21b24869a47c1b6d92b170ee",
       "version_major": 2,
       "version_minor": 0
      },
      "text/plain": [
       "HBox(children=(FloatProgress(value=0.0, max=2042.0), HTML(value='')))"
      ]
     },
     "metadata": {},
     "output_type": "display_data"
    },
    {
     "name": "stdout",
     "output_type": "stream",
     "text": [
      "\n",
      "------------------------------------\n",
      "\n",
      "0.0    1685\n",
      "1.0     357\n",
      "Name: FA-00-00-00-00, dtype: int64\n",
      "data set size 2042\n",
      "C: 4096.0 0.4268\n",
      "C: 2048.0 0.3428\n",
      "C: 1024.0 0.2801\n",
      "C: 512.0 0.2344\n",
      "C: 256.0 0.2031\n",
      "C: 128.0 0.1845\n",
      "C: 64.0 0.1767\n",
      "C: 32.0 0.1783\n",
      "C: 16.0 0.1881\n",
      "C: 8.0 0.2055\n",
      "C: 4.0 0.2305\n",
      "C: 2.0 0.2639\n",
      "C: 1.0 0.3065\n",
      "statistics (0.9324, 0.7564, 0.9048, 0.824, 357, 0.1767, 0.0508, 64.0, 2042)\n"
     ]
    },
    {
     "data": {
      "application/vnd.jupyter.widget-view+json": {
       "model_id": "9e8e8973b01f4d4fb383f93ab723976e",
       "version_major": 2,
       "version_minor": 0
      },
      "text/plain": [
       "HBox(children=(FloatProgress(value=0.0, max=2011.0), HTML(value='')))"
      ]
     },
     "metadata": {},
     "output_type": "display_data"
    },
    {
     "name": "stdout",
     "output_type": "stream",
     "text": [
      "\n",
      "------------------------------------\n",
      "\n",
      "0.0    2001\n",
      "1.0      10\n",
      "Name: FA-05-00-00-00, dtype: int64\n",
      "data set size 2011\n",
      "C: 4096.0 0.0632\n",
      "C: 2048.0 0.0585\n",
      "C: 1024.0 0.0547\n",
      "C: 512.0 0.0521\n",
      "C: 256.0 0.0514\n",
      "C: 128.0 0.0533\n",
      "C: 64.0 0.0589\n",
      "C: 32.0 0.0696\n",
      "C: 16.0 0.0867\n",
      "C: 8.0 0.1114\n",
      "C: 4.0 0.1441\n",
      "C: 2.0 0.1853\n",
      "C: 1.0 0.2356\n",
      "statistics (0.9876, 0.0588, 0.1, 0.0741, 10, 0.0514, 0.0087, 256.0, 2011)\n"
     ]
    },
    {
     "data": {
      "application/vnd.jupyter.widget-view+json": {
       "model_id": "e6a982f650e64beeb4b7565831ff426c",
       "version_major": 2,
       "version_minor": 0
      },
      "text/plain": [
       "HBox(children=(FloatProgress(value=0.0, max=1791.0), HTML(value='')))"
      ]
     },
     "metadata": {},
     "output_type": "display_data"
    },
    {
     "name": "stdout",
     "output_type": "stream",
     "text": [
      "\n",
      "------------------------------------\n",
      "\n",
      "0.0    1781\n",
      "1.0      10\n",
      "Name: FA-06-00-00-00, dtype: int64\n",
      "data set size 1791\n",
      "C: 4096.0 0.0461\n",
      "C: 2048.0 0.0439\n",
      "C: 1024.0 0.0427\n",
      "C: 512.0 0.0428\n",
      "C: 256.0 0.0449\n",
      "C: 128.0 0.05\n",
      "C: 64.0 0.0594\n",
      "C: 32.0 0.0745\n",
      "C: 16.0 0.097\n",
      "C: 8.0 0.128\n",
      "C: 4.0 0.1679\n",
      "C: 2.0 0.217\n",
      "C: 1.0 0.2754\n",
      "statistics (0.9894, 0.1538, 0.2, 0.1739, 10, 0.0427, 0.0077, 1024.0, 1791)\n"
     ]
    },
    {
     "data": {
      "application/vnd.jupyter.widget-view+json": {
       "model_id": "075c12bb6701403ba3e3228ffaefe795",
       "version_major": 2,
       "version_minor": 0
      },
      "text/plain": [
       "HBox(children=(FloatProgress(value=0.0, max=1968.0), HTML(value='')))"
      ]
     },
     "metadata": {},
     "output_type": "display_data"
    },
    {
     "name": "stdout",
     "output_type": "stream",
     "text": [
      "\n",
      "------------------------------------\n",
      "\n",
      "0.0    1927\n",
      "1.0      41\n",
      "Name: FA-07-00-00-00, dtype: int64\n",
      "data set size 1968\n",
      "C: 4096.0 0.1781\n",
      "C: 2048.0 0.1582\n",
      "C: 1024.0 0.1418\n",
      "C: 512.0 0.1316\n",
      "C: 256.0 0.1291\n",
      "C: 128.0 0.1343\n",
      "C: 64.0 0.1478\n",
      "C: 32.0 0.17\n",
      "C: 16.0 0.2004\n",
      "C: 8.0 0.238\n",
      "C: 4.0 0.2815\n",
      "C: 2.0 0.3285\n",
      "C: 1.0 0.3768\n",
      "statistics (0.9599, 0.2841, 0.6098, 0.3876, 41, 0.1291, 0.0302, 256.0, 1968)\n"
     ]
    },
    {
     "data": {
      "application/vnd.jupyter.widget-view+json": {
       "model_id": "1e637a303edb4b31a487b98025c34aa7",
       "version_major": 2,
       "version_minor": 0
      },
      "text/plain": [
       "HBox(children=(FloatProgress(value=0.0, max=1517.0), HTML(value='')))"
      ]
     },
     "metadata": {},
     "output_type": "display_data"
    },
    {
     "name": "stdout",
     "output_type": "stream",
     "text": [
      "\n",
      "------------------------------------\n",
      "\n",
      "0.0    1504\n",
      "1.0      13\n",
      "Name: GO-00-00-00-00, dtype: int64\n",
      "data set size 1517\n",
      "C: 4096.0 0.0834\n",
      "C: 2048.0 0.0774\n",
      "C: 1024.0 0.0724\n",
      "C: 512.0 0.069\n",
      "C: 256.0 0.068\n",
      "C: 128.0 0.0707\n",
      "C: 64.0 0.0787\n",
      "C: 32.0 0.0942\n",
      "C: 16.0 0.1193\n",
      "C: 8.0 0.1562\n",
      "C: 4.0 0.2059\n",
      "C: 2.0 0.2677\n",
      "C: 1.0 0.3392\n",
      "statistics (0.9809, 0.0556, 0.0769, 0.0645, 13, 0.068, 0.0149, 256.0, 1517)\n"
     ]
    },
    {
     "data": {
      "application/vnd.jupyter.widget-view+json": {
       "model_id": "5ff0558427554856b31bb3cd29934e3b",
       "version_major": 2,
       "version_minor": 0
      },
      "text/plain": [
       "HBox(children=(FloatProgress(value=0.0, max=1900.0), HTML(value='')))"
      ]
     },
     "metadata": {},
     "output_type": "display_data"
    },
    {
     "name": "stdout",
     "output_type": "stream",
     "text": [
      "\n",
      "------------------------------------\n",
      "\n",
      "0.0    1778\n",
      "1.0     122\n",
      "Name: HE-00-00-00-00, dtype: int64\n",
      "data set size 1900\n",
      "C: 4096.0 0.1152\n",
      "C: 2048.0 0.1038\n",
      "C: 1024.0 0.0942\n",
      "C: 512.0 0.0868\n",
      "C: 256.0 0.0828\n",
      "C: 128.0 0.0828\n",
      "C: 64.0 0.0875\n",
      "C: 32.0 0.0973\n",
      "C: 16.0 0.1127\n",
      "C: 8.0 0.1344\n",
      "C: 4.0 0.1639\n",
      "C: 2.0 0.2027\n",
      "C: 1.0 0.2524\n",
      "statistics (0.9779, 0.8125, 0.8525, 0.832, 122, 0.0828, 0.0208, 256.0, 1900)\n"
     ]
    },
    {
     "data": {
      "application/vnd.jupyter.widget-view+json": {
       "model_id": "96a2f6daed6a4baa868956c12b0935ad",
       "version_major": 2,
       "version_minor": 0
      },
      "text/plain": [
       "HBox(children=(FloatProgress(value=0.0, max=2132.0), HTML(value='')))"
      ]
     },
     "metadata": {},
     "output_type": "display_data"
    },
    {
     "name": "stdout",
     "output_type": "stream",
     "text": [
      "\n",
      "------------------------------------\n",
      "\n",
      "0.0    1582\n",
      "1.0     550\n",
      "Name: HO-00-00-00-00, dtype: int64\n",
      "data set size 2132\n",
      "C: 4096.0 0.2415\n",
      "C: 2048.0 0.1954\n",
      "C: 1024.0 0.1607\n",
      "C: 512.0 0.1362\n",
      "C: 256.0 0.1205\n",
      "C: 128.0 0.1125\n",
      "C: 64.0 0.1116\n",
      "C: 32.0 0.1174\n",
      "C: 16.0 0.13\n",
      "C: 8.0 0.1498\n",
      "C: 4.0 0.1781\n",
      "C: 2.0 0.2165\n",
      "C: 1.0 0.2671\n",
      "statistics (0.9639, 0.9201, 0.9418, 0.9308, 550, 0.1116, 0.0291, 64.0, 2132)\n"
     ]
    },
    {
     "data": {
      "application/vnd.jupyter.widget-view+json": {
       "model_id": "a47ed6c0104f498b82a071eca7dcb379",
       "version_major": 2,
       "version_minor": 0
      },
      "text/plain": [
       "HBox(children=(FloatProgress(value=0.0, max=1662.0), HTML(value='')))"
      ]
     },
     "metadata": {},
     "output_type": "display_data"
    },
    {
     "name": "stdout",
     "output_type": "stream",
     "text": [
      "\n",
      "------------------------------------\n",
      "\n",
      "0.0    1628\n",
      "1.0      34\n",
      "Name: HO-06-00-00-00, dtype: int64\n",
      "data set size 1662\n",
      "C: 4096.0 0.1199\n",
      "C: 2048.0 0.1094\n",
      "C: 1024.0 0.1002\n",
      "C: 512.0 0.0933\n",
      "C: 256.0 0.0905\n",
      "C: 128.0 0.0932\n",
      "C: 64.0 0.1022\n",
      "C: 32.0 0.1185\n",
      "C: 16.0 0.1427\n",
      "C: 8.0 0.1753\n",
      "C: 4.0 0.2166\n",
      "C: 2.0 0.2667\n",
      "C: 1.0 0.3259\n",
      "statistics (0.9759, 0.4348, 0.5882, 0.5, 34, 0.0905, 0.021, 256.0, 1662)\n"
     ]
    },
    {
     "data": {
      "application/vnd.jupyter.widget-view+json": {
       "model_id": "708624d172ff4e0cab3ce56a6e7f8cd3",
       "version_major": 2,
       "version_minor": 0
      },
      "text/plain": [
       "HBox(children=(FloatProgress(value=0.0, max=1653.0), HTML(value='')))"
      ]
     },
     "metadata": {},
     "output_type": "display_data"
    },
    {
     "name": "stdout",
     "output_type": "stream",
     "text": [
      "\n",
      "------------------------------------\n",
      "\n",
      "0.0    1626\n",
      "1.0      27\n",
      "Name: HO-09-00-00-00, dtype: int64\n",
      "data set size 1653\n",
      "C: 4096.0 0.0572\n",
      "C: 2048.0 0.0536\n",
      "C: 1024.0 0.0508\n",
      "C: 512.0 0.0492\n",
      "C: 256.0 0.0496\n",
      "C: 128.0 0.0529\n",
      "C: 64.0 0.0605\n",
      "C: 32.0 0.0738\n",
      "C: 16.0 0.0942\n",
      "C: 8.0 0.1224\n",
      "C: 4.0 0.1594\n",
      "C: 2.0 0.2062\n",
      "C: 1.0 0.2636\n",
      "statistics (0.9879, 0.6296, 0.6296, 0.6296, 27, 0.0492, 0.0094, 512.0, 1653)\n"
     ]
    },
    {
     "data": {
      "application/vnd.jupyter.widget-view+json": {
       "model_id": "906d2f49c77e4caa801443a4e163edaf",
       "version_major": 2,
       "version_minor": 0
      },
      "text/plain": [
       "HBox(children=(FloatProgress(value=0.0, max=1964.0), HTML(value='')))"
      ]
     },
     "metadata": {},
     "output_type": "display_data"
    },
    {
     "name": "stdout",
     "output_type": "stream",
     "text": [
      "\n",
      "------------------------------------\n",
      "\n",
      "0.0    1928\n",
      "1.0      36\n",
      "Name: IM-00-00-00-00, dtype: int64\n",
      "data set size 1964\n",
      "C: 4096.0 0.0433\n",
      "C: 2048.0 0.0407\n",
      "C: 1024.0 0.0387\n",
      "C: 512.0 0.0376\n",
      "C: 256.0 0.0377\n",
      "C: 128.0 0.0399\n",
      "C: 64.0 0.045\n",
      "C: 32.0 0.0542\n",
      "C: 16.0 0.0689\n",
      "C: 8.0 0.0904\n",
      "C: 4.0 0.1206\n",
      "C: 2.0 0.1611\n",
      "C: 1.0 0.2129\n",
      "statistics (0.9893, 0.7027, 0.7222, 0.7123, 36, 0.0376, 0.0089, 512.0, 1964)\n"
     ]
    },
    {
     "data": {
      "application/vnd.jupyter.widget-view+json": {
       "model_id": "9616e3d95d574f69877a963efcce0c2c",
       "version_major": 2,
       "version_minor": 0
      },
      "text/plain": [
       "HBox(children=(FloatProgress(value=0.0, max=1429.0), HTML(value='')))"
      ]
     },
     "metadata": {},
     "output_type": "display_data"
    },
    {
     "name": "stdout",
     "output_type": "stream",
     "text": [
      "\n",
      "------------------------------------\n",
      "\n",
      "0.0    1063\n",
      "1.0     366\n",
      "Name: MO-00-00-00-00, dtype: int64\n",
      "data set size 1429\n",
      "C: 4096.0 0.6591\n",
      "C: 2048.0 0.5313\n",
      "C: 1024.0 0.4414\n",
      "C: 512.0 0.3782\n",
      "C: 256.0 0.3352\n",
      "C: 128.0 0.3082\n",
      "C: 64.0 0.2943\n",
      "C: 32.0 0.2914\n",
      "C: 16.0 0.2981\n",
      "C: 8.0 0.3137\n",
      "C: 4.0 0.3381\n",
      "C: 2.0 0.3718\n",
      "C: 1.0 0.4148\n",
      "statistics (0.8803, 0.7283, 0.8497, 0.7844, 366, 0.2914, 0.0877, 32.0, 1429)\n"
     ]
    },
    {
     "data": {
      "application/vnd.jupyter.widget-view+json": {
       "model_id": "1a5044aa4a3d4f43b94d0d9c181dce5b",
       "version_major": 2,
       "version_minor": 0
      },
      "text/plain": [
       "HBox(children=(FloatProgress(value=0.0, max=1949.0), HTML(value='')))"
      ]
     },
     "metadata": {},
     "output_type": "display_data"
    },
    {
     "name": "stdout",
     "output_type": "stream",
     "text": [
      "\n",
      "------------------------------------\n",
      "\n",
      "0.0    1937\n",
      "1.0      12\n",
      "Name: MO-02-00-00-00, dtype: int64\n",
      "data set size 1949\n",
      "C: 4096.0 0.0544\n",
      "C: 2048.0 0.0506\n",
      "C: 1024.0 0.0477\n",
      "C: 512.0 0.0458\n",
      "C: 256.0 0.0459\n",
      "C: 128.0 0.0489\n",
      "C: 64.0 0.056\n",
      "C: 32.0 0.0682\n",
      "C: 16.0 0.0869\n",
      "C: 8.0 0.1138\n",
      "C: 4.0 0.1498\n",
      "C: 2.0 0.196\n",
      "C: 1.0 0.2535\n",
      "statistics (0.9877, 0.0714, 0.0833, 0.0769, 12, 0.0458, 0.0099, 512.0, 1949)\n"
     ]
    },
    {
     "data": {
      "application/vnd.jupyter.widget-view+json": {
       "model_id": "3c6b9eb38a6d44c58a5344c4ddfd769c",
       "version_major": 2,
       "version_minor": 0
      },
      "text/plain": [
       "HBox(children=(FloatProgress(value=0.0, max=1129.0), HTML(value='')))"
      ]
     },
     "metadata": {},
     "output_type": "display_data"
    },
    {
     "name": "stdout",
     "output_type": "stream",
     "text": [
      "\n",
      "------------------------------------\n",
      "\n",
      "0.0    1116\n",
      "1.0      13\n",
      "Name: MO-07-00-00-00, dtype: int64\n",
      "data set size 1129\n",
      "C: 4096.0 0.0571\n",
      "C: 2048.0 0.0533\n",
      "C: 1024.0 0.0502\n",
      "C: 512.0 0.0482\n",
      "C: 256.0 0.0478\n",
      "C: 128.0 0.0499\n",
      "C: 64.0 0.0556\n",
      "C: 32.0 0.0661\n",
      "C: 16.0 0.0828\n",
      "C: 8.0 0.108\n",
      "C: 4.0 0.1439\n",
      "C: 2.0 0.1924\n",
      "C: 1.0 0.2545\n",
      "statistics (0.9832, 0.3333, 0.4615, 0.3871, 13, 0.0478, 0.0128, 256.0, 1129)\n"
     ]
    },
    {
     "data": {
      "application/vnd.jupyter.widget-view+json": {
       "model_id": "607230911ecb4780a5277e5cbb0a7737",
       "version_major": 2,
       "version_minor": 0
      },
      "text/plain": [
       "HBox(children=(FloatProgress(value=0.0, max=1106.0), HTML(value='')))"
      ]
     },
     "metadata": {},
     "output_type": "display_data"
    },
    {
     "name": "stdout",
     "output_type": "stream",
     "text": [
      "\n",
      "------------------------------------\n",
      "\n",
      "0.0    1095\n",
      "1.0      11\n",
      "Name: MO-10-00-00-00, dtype: int64\n",
      "data set size 1106\n",
      "C: 4096.0 0.0566\n",
      "C: 2048.0 0.0534\n",
      "C: 1024.0 0.0511\n",
      "C: 512.0 0.0502\n",
      "C: 256.0 0.0514\n",
      "C: 128.0 0.0558\n",
      "C: 64.0 0.0648\n",
      "C: 32.0 0.0801\n",
      "C: 16.0 0.1035\n",
      "C: 8.0 0.1368\n",
      "C: 4.0 0.1819\n",
      "C: 2.0 0.2395\n",
      "C: 1.0 0.3092\n",
      "statistics (0.9864, 0.25, 0.1818, 0.2105, 11, 0.0502, 0.0107, 512.0, 1106)\n"
     ]
    },
    {
     "data": {
      "application/vnd.jupyter.widget-view+json": {
       "model_id": "01f92a9eeab24e1dab4f8e8da8c777de",
       "version_major": 2,
       "version_minor": 0
      },
      "text/plain": [
       "HBox(children=(FloatProgress(value=0.0, max=1396.0), HTML(value='')))"
      ]
     },
     "metadata": {},
     "output_type": "display_data"
    },
    {
     "name": "stdout",
     "output_type": "stream",
     "text": [
      "\n",
      "------------------------------------\n",
      "\n",
      "0.0    1374\n",
      "1.0      22\n",
      "Name: RI-00-00-00-00, dtype: int64\n",
      "data set size 1396\n",
      "C: 4096.0 0.1668\n",
      "C: 2048.0 0.1526\n",
      "C: 1024.0 0.1405\n",
      "C: 512.0 0.1314\n",
      "C: 256.0 0.127\n",
      "C: 128.0 0.129\n",
      "C: 64.0 0.1394\n",
      "C: 32.0 0.159\n",
      "C: 16.0 0.1885\n",
      "C: 8.0 0.2286\n",
      "C: 4.0 0.2786\n",
      "C: 2.0 0.3364\n",
      "C: 1.0 0.3987\n",
      "statistics (0.9656, 0.1389, 0.2273, 0.1724, 22, 0.127, 0.0265, 256.0, 1396)\n"
     ]
    },
    {
     "data": {
      "application/vnd.jupyter.widget-view+json": {
       "model_id": "cb47173b094d43e4b6e71f45cbaae78a",
       "version_major": 2,
       "version_minor": 0
      },
      "text/plain": [
       "HBox(children=(FloatProgress(value=0.0, max=1257.0), HTML(value='')))"
      ]
     },
     "metadata": {},
     "output_type": "display_data"
    },
    {
     "name": "stdout",
     "output_type": "stream",
     "text": [
      "\n",
      "------------------------------------\n",
      "\n",
      "0.0    1027\n",
      "1.0     230\n",
      "Name: TO-00-00-00-00, dtype: int64\n",
      "data set size 1257\n",
      "C: 4096.0 0.7019\n",
      "C: 2048.0 0.5364\n",
      "C: 1024.0 0.4348\n",
      "C: 512.0 0.3713\n",
      "C: 256.0 0.3301\n",
      "C: 128.0 0.3048\n",
      "C: 64.0 0.2921\n",
      "C: 32.0 0.2901\n",
      "C: 16.0 0.2978\n",
      "C: 8.0 0.3148\n",
      "C: 4.0 0.3412\n",
      "C: 2.0 0.3767\n",
      "C: 1.0 0.4203\n",
      "statistics (0.8719, 0.6095, 0.8348, 0.7046, 230, 0.2901, 0.0875, 32.0, 1257)\n"
     ]
    },
    {
     "data": {
      "application/vnd.jupyter.widget-view+json": {
       "model_id": "29ee905d265643b8bd5c17cd21f1b0a5",
       "version_major": 2,
       "version_minor": 0
      },
      "text/plain": [
       "HBox(children=(FloatProgress(value=0.0, max=2006.0), HTML(value='')))"
      ]
     },
     "metadata": {},
     "output_type": "display_data"
    },
    {
     "name": "stdout",
     "output_type": "stream",
     "text": [
      "\n",
      "------------------------------------\n",
      "\n",
      "0.0    1746\n",
      "1.0     260\n",
      "Name: TR-00-00-00-00, dtype: int64\n",
      "data set size 2006\n",
      "C: 4096.0 0.208\n",
      "C: 2048.0 0.178\n",
      "C: 1024.0 0.152\n",
      "C: 512.0 0.1313\n",
      "C: 256.0 0.1172\n",
      "C: 128.0 0.1104\n",
      "C: 64.0 0.1105\n",
      "C: 32.0 0.1163\n",
      "C: 16.0 0.1275\n",
      "C: 8.0 0.1445\n",
      "C: 4.0 0.1685\n",
      "C: 2.0 0.2013\n",
      "C: 1.0 0.2452\n",
      "statistics (0.9676, 0.8421, 0.9231, 0.8807, 260, 0.1104, 0.0282, 128.0, 2006)\n"
     ]
    },
    {
     "data": {
      "application/vnd.jupyter.widget-view+json": {
       "model_id": "f41a21ae6bef4f9aa3eabd48b99214af",
       "version_major": 2,
       "version_minor": 0
      },
      "text/plain": [
       "HBox(children=(FloatProgress(value=0.0, max=1827.0), HTML(value='')))"
      ]
     },
     "metadata": {},
     "output_type": "display_data"
    },
    {
     "name": "stdout",
     "output_type": "stream",
     "text": [
      "\n",
      "------------------------------------\n",
      "\n",
      "0.0    1805\n",
      "1.0      22\n",
      "Name: TR-01-00-00-00, dtype: int64\n",
      "data set size 1827\n",
      "C: 4096.0 0.0969\n",
      "C: 2048.0 0.089\n",
      "C: 1024.0 0.082\n",
      "C: 512.0 0.0762\n",
      "C: 256.0 0.0728\n",
      "C: 128.0 0.0728\n",
      "C: 64.0 0.0762\n",
      "C: 32.0 0.0838\n",
      "C: 16.0 0.0966\n",
      "C: 8.0 0.1154\n",
      "C: 4.0 0.1415\n",
      "C: 2.0 0.1764\n",
      "C: 1.0 0.2222\n",
      "statistics (0.9814, 0.3421, 0.5909, 0.4333, 22, 0.0728, 0.0145, 256.0, 1827)\n"
     ]
    },
    {
     "data": {
      "application/vnd.jupyter.widget-view+json": {
       "model_id": "b500b0b803a742729d9c8fd8bf7a04cc",
       "version_major": 2,
       "version_minor": 0
      },
      "text/plain": [
       "HBox(children=(FloatProgress(value=0.0, max=1819.0), HTML(value='')))"
      ]
     },
     "metadata": {},
     "output_type": "display_data"
    },
    {
     "name": "stdout",
     "output_type": "stream",
     "text": [
      "\n",
      "------------------------------------\n",
      "\n",
      "0.0    1790\n",
      "1.0      29\n",
      "Name: TR-02-00-00-00, dtype: int64\n",
      "data set size 1819\n",
      "C: 4096.0 0.1147\n",
      "C: 2048.0 0.1047\n",
      "C: 1024.0 0.096\n",
      "C: 512.0 0.0894\n",
      "C: 256.0 0.086\n",
      "C: 128.0 0.0875\n",
      "C: 64.0 0.0948\n",
      "C: 32.0 0.1086\n",
      "C: 16.0 0.1292\n",
      "C: 8.0 0.1567\n",
      "C: 4.0 0.1913\n",
      "C: 2.0 0.2333\n",
      "C: 1.0 0.2837\n",
      "statistics (0.9742, 0.3125, 0.5172, 0.3896, 29, 0.086, 0.0196, 256.0, 1819)\n"
     ]
    },
    {
     "data": {
      "application/vnd.jupyter.widget-view+json": {
       "model_id": "da5d6a32650448bd866788ba2ff37d11",
       "version_major": 2,
       "version_minor": 0
      },
      "text/plain": [
       "HBox(children=(FloatProgress(value=0.0, max=1821.0), HTML(value='')))"
      ]
     },
     "metadata": {},
     "output_type": "display_data"
    },
    {
     "name": "stdout",
     "output_type": "stream",
     "text": [
      "\n",
      "------------------------------------\n",
      "\n",
      "0.0    1804\n",
      "1.0      17\n",
      "Name: TR-03-00-00-00, dtype: int64\n",
      "data set size 1821\n",
      "C: 4096.0 0.0969\n",
      "C: 2048.0 0.0881\n",
      "C: 1024.0 0.0802\n",
      "C: 512.0 0.0733\n",
      "C: 256.0 0.0683\n",
      "C: 128.0 0.0666\n",
      "C: 64.0 0.07\n",
      "C: 32.0 0.0794\n",
      "C: 16.0 0.0954\n",
      "C: 8.0 0.1183\n",
      "C: 4.0 0.1489\n",
      "C: 2.0 0.1894\n",
      "C: 1.0 0.2422\n",
      "statistics (0.9819, 0.2143, 0.3529, 0.2667, 17, 0.0666, 0.0136, 128.0, 1821)\n"
     ]
    },
    {
     "data": {
      "application/vnd.jupyter.widget-view+json": {
       "model_id": "cb48951014054488a3e4b1f9babfd4b1",
       "version_major": 2,
       "version_minor": 0
      },
      "text/plain": [
       "HBox(children=(FloatProgress(value=0.0, max=1815.0), HTML(value='')))"
      ]
     },
     "metadata": {},
     "output_type": "display_data"
    },
    {
     "name": "stdout",
     "output_type": "stream",
     "text": [
      "\n",
      "------------------------------------\n",
      "\n",
      "0.0    1795\n",
      "1.0      20\n",
      "Name: TR-04-00-00-00, dtype: int64\n",
      "data set size 1815\n",
      "C: 4096.0 0.1023\n",
      "C: 2048.0 0.094\n",
      "C: 1024.0 0.0866\n",
      "C: 512.0 0.0804\n",
      "C: 256.0 0.0761\n",
      "C: 128.0 0.0751\n",
      "C: 64.0 0.0778\n",
      "C: 32.0 0.0847\n",
      "C: 16.0 0.0959\n",
      "C: 8.0 0.1125\n",
      "C: 4.0 0.1365\n",
      "C: 2.0 0.1707\n",
      "C: 1.0 0.2182\n",
      "statistics (0.9796, 0.2571, 0.45, 0.3273, 20, 0.0751, 0.0154, 128.0, 1815)\n"
     ]
    },
    {
     "data": {
      "application/vnd.jupyter.widget-view+json": {
       "model_id": "51d82922408d48d48196d4c932f13967",
       "version_major": 2,
       "version_minor": 0
      },
      "text/plain": [
       "HBox(children=(FloatProgress(value=0.0, max=1816.0), HTML(value='')))"
      ]
     },
     "metadata": {},
     "output_type": "display_data"
    },
    {
     "name": "stdout",
     "output_type": "stream",
     "text": [
      "\n",
      "------------------------------------\n",
      "\n",
      "0.0    1785\n",
      "1.0      31\n",
      "Name: TR-05-00-00-00, dtype: int64\n",
      "data set size 1816\n",
      "C: 4096.0 0.0432\n",
      "C: 2048.0 0.0408\n",
      "C: 1024.0 0.0391\n",
      "C: 512.0 0.0382\n",
      "C: 256.0 0.0388\n",
      "C: 128.0 0.0416\n",
      "C: 64.0 0.0473\n",
      "C: 32.0 0.056\n",
      "C: 16.0 0.0688\n",
      "C: 8.0 0.0867\n",
      "C: 4.0 0.1114\n",
      "C: 2.0 0.1446\n",
      "C: 1.0 0.1885\n",
      "statistics (0.989, 0.6486, 0.7742, 0.7059, 31, 0.0382, 0.0097, 512.0, 1816)\n"
     ]
    },
    {
     "data": {
      "application/vnd.jupyter.widget-view+json": {
       "model_id": "dd42580f2e9c4655a1b66d844652e9e9",
       "version_major": 2,
       "version_minor": 0
      },
      "text/plain": [
       "HBox(children=(FloatProgress(value=0.0, max=1991.0), HTML(value='')))"
      ]
     },
     "metadata": {},
     "output_type": "display_data"
    },
    {
     "name": "stdout",
     "output_type": "stream",
     "text": [
      "\n",
      "------------------------------------\n",
      "\n",
      "0.0    1604\n",
      "1.0     387\n",
      "Name: WO-00-00-00-00, dtype: int64\n",
      "data set size 1991\n",
      "C: 4096.0 0.4528\n",
      "C: 2048.0 0.3574\n",
      "C: 1024.0 0.2867\n",
      "C: 512.0 0.2359\n",
      "C: 256.0 0.2014\n",
      "C: 128.0 0.181\n",
      "C: 64.0 0.1724\n",
      "C: 32.0 0.1739\n",
      "C: 16.0 0.1848\n",
      "C: 8.0 0.2055\n",
      "C: 4.0 0.2366\n",
      "C: 2.0 0.2792\n",
      "C: 1.0 0.3338\n",
      "statistics (0.9432, 0.8309, 0.8889, 0.8589, 387, 0.1724, 0.0478, 64.0, 1991)\n"
     ]
    },
    {
     "data": {
      "application/vnd.jupyter.widget-view+json": {
       "model_id": "8e6f2851756247258391b09d21cc0107",
       "version_major": 2,
       "version_minor": 0
      },
      "text/plain": [
       "HBox(children=(FloatProgress(value=0.0, max=1617.0), HTML(value='')))"
      ]
     },
     "metadata": {},
     "output_type": "display_data"
    },
    {
     "name": "stdout",
     "output_type": "stream",
     "text": [
      "\n",
      "------------------------------------\n",
      "\n",
      "0.0    1607\n",
      "1.0      10\n",
      "Name: WO-03-00-00-00, dtype: int64\n",
      "data set size 1617\n",
      "C: 4096.0 0.0796\n",
      "C: 2048.0 0.0744\n",
      "C: 1024.0 0.0701\n",
      "C: 512.0 0.0671\n",
      "C: 256.0 0.0662\n",
      "C: 128.0 0.0683\n",
      "C: 64.0 0.0749\n",
      "C: 32.0 0.0879\n",
      "C: 16.0 0.1091\n",
      "C: 8.0 0.1407\n",
      "C: 4.0 0.1848\n",
      "C: 2.0 0.2429\n",
      "C: 1.0 0.3141\n",
      "statistics (0.9839, 0.0556, 0.1, 0.0714, 10, 0.0662, 0.0121, 256.0, 1617)\n",
      "\n"
     ]
    }
   ],
   "source": [
    "\n",
    "\n",
    "class_list = df.columns[2:]\n",
    "print(class_list)\n",
    "verbose = False\n",
    "stat_dict = defaultdict() \n",
    "for cls in tqdm(class_list):\n",
    "    ret = predict_by_class_glove_grid(dfset, cls)\n",
    "    stat_dict[cls] = ret \n",
    "    print('statistics' , ret)"
   ]
  },
  {
   "cell_type": "code",
   "execution_count": 17,
   "metadata": {},
   "outputs": [],
   "source": [
    "import pickle\n",
    "with open(\"models_glove_l2_300d.pckl\", \"wb\") as f:\n",
    "    for val in classifier.items():\n",
    "         pickle.dump(val, f)\n",
    "            \n",
    "            \n",
    "with open(\"stats_glove_l2_300d.pckl\", \"wb\") as f:\n",
    "    for val in stat_dict.items():\n",
    "         pickle.dump(val, f)"
   ]
  },
  {
   "cell_type": "markdown",
   "metadata": {},
   "source": [
    "## C Values"
   ]
  },
  {
   "cell_type": "code",
   "execution_count": 18,
   "metadata": {},
   "outputs": [
    {
     "name": "stdout",
     "output_type": "stream",
     "text": [
      "256.0\n",
      "128.0\n",
      "64.0\n",
      "32.0\n",
      "128.0\n",
      "256.0\n",
      "512.0\n",
      "256.0\n",
      "256.0\n",
      "256.0\n",
      "512.0\n",
      "256.0\n",
      "64.0\n",
      "256.0\n",
      "1024.0\n",
      "256.0\n",
      "256.0\n",
      "256.0\n",
      "64.0\n",
      "256.0\n",
      "512.0\n",
      "512.0\n",
      "32.0\n",
      "512.0\n",
      "256.0\n",
      "512.0\n",
      "256.0\n",
      "32.0\n",
      "128.0\n",
      "256.0\n",
      "256.0\n",
      "128.0\n",
      "128.0\n",
      "512.0\n",
      "64.0\n",
      "256.0\n"
     ]
    }
   ],
   "source": [
    "for cls in class_list:\n",
    "    print(classifier[cls].C)"
   ]
  },
  {
   "cell_type": "markdown",
   "metadata": {
    "janus": {
     "all_versions_showing": false,
     "cell_hidden": false,
     "current_version": 0,
     "id": "1342ba687f607",
     "named_versions": [],
     "output_hidden": false,
     "show_versions": false,
     "source_hidden": false,
     "versions": []
    }
   },
   "source": [
    "## Distribution"
   ]
  },
  {
   "cell_type": "code",
   "execution_count": 26,
   "metadata": {
    "janus": {
     "all_versions_showing": false,
     "cell_hidden": true,
     "current_version": 0,
     "id": "6611849a9aa39",
     "named_versions": [],
     "output_hidden": true,
     "show_versions": false,
     "source_hidden": true,
     "versions": []
    }
   },
   "outputs": [
    {
     "name": "stdout",
     "output_type": "stream",
     "text": [
      "+----------------+----------+-----------+--------+--------+-----+----------+------------+--------+-------------+\n",
      "|     class      | accuracy | precision | recall |   F1   | sup | log_loss | brier_loss |      C | |documents| |\n",
      "+----------------+----------+-----------+--------+--------+-----+----------+------------+--------+-------------+\n",
      "| BE-00-00-00-00 |   0.9735 |    0.2885 | 0.5556 | 0.3797 |  27 |   0.0725 |     0.0178 |  256.0 |     1848    |\n",
      "| BU-00-00-00-00 |   0.9635 |      0.64 | 0.8602 | 0.7339 |  93 |   0.1005 |     0.0283 |  128.0 |     1590    |\n",
      "| CO-00-00-00-00 |   0.9399 |    0.6385 |  0.783 | 0.7034 | 106 |   0.1764 |     0.0483 |   64.0 |     1164    |\n",
      "| CR-00-00-00-00 |   0.9148 |    0.7131 | 0.8808 | 0.7881 | 302 |   0.2397 |     0.0685 |   32.0 |     1679    |\n",
      "| CR-01-00-00-00 |   0.9777 |    0.0476 | 0.0833 | 0.0606 |  12 |   0.0867 |      0.017 |  128.0 |     1393    |\n",
      "| CR-04-00-00-00 |   0.9772 |    0.0476 | 0.0769 | 0.0588 |  13 |   0.0881 |     0.0163 |  256.0 |     1402    |\n",
      "| CR-06-00-00-00 |   0.9872 |    0.2308 | 0.2727 |  0.25  |  11 |    0.055 |     0.0104 |  512.0 |     1404    |\n",
      "| CR-10-00-00-00 |   0.9843 |    0.0455 | 0.0909 | 0.0606 |  11 |   0.0658 |     0.0121 |  256.0 |     1969    |\n",
      "| ED-00-00-00-00 |   0.9862 |    0.4848 | 0.6667 | 0.5614 |  24 |   0.0466 |     0.0119 |  256.0 |     1813    |\n",
      "| ES-00-00-00-00 |   0.9717 |    0.6162 | 0.7821 | 0.6893 |  78 |   0.0747 |     0.0207 |  256.0 |     1944    |\n",
      "| ES-01-00-00-00 |   0.9888 |    0.0769 |    0.1 | 0.087  |  10 |   0.0404 |     0.0094 |  512.0 |     1876    |\n",
      "| ES-03-00-00-00 |   0.9829 |    0.1379 | 0.3077 | 0.1905 |  13 |   0.0603 |     0.0119 |  256.0 |     1992    |\n",
      "| FA-00-00-00-00 |   0.9324 |    0.7564 | 0.9048 | 0.824  | 357 |   0.1767 |     0.0508 |   64.0 |     2042    |\n",
      "| FA-05-00-00-00 |   0.9876 |    0.0588 |    0.1 | 0.0741 |  10 |   0.0514 |     0.0087 |  256.0 |     2011    |\n",
      "| FA-06-00-00-00 |   0.9894 |    0.1538 |    0.2 | 0.1739 |  10 |   0.0427 |     0.0077 | 1024.0 |     1791    |\n",
      "| FA-07-00-00-00 |   0.9599 |    0.2841 | 0.6098 | 0.3876 |  41 |   0.1291 |     0.0302 |  256.0 |     1968    |\n",
      "| GO-00-00-00-00 |   0.9809 |    0.0556 | 0.0769 | 0.0645 |  13 |    0.068 |     0.0149 |  256.0 |     1517    |\n",
      "| HE-00-00-00-00 |   0.9779 |    0.8125 | 0.8525 | 0.832  | 122 |   0.0828 |     0.0208 |  256.0 |     1900    |\n",
      "| HO-00-00-00-00 |   0.9639 |    0.9201 | 0.9418 | 0.9308 | 550 |   0.1116 |     0.0291 |   64.0 |     2132    |\n",
      "| HO-06-00-00-00 |   0.9759 |    0.4348 | 0.5882 |  0.5   |  34 |   0.0905 |      0.021 |  256.0 |     1662    |\n",
      "| HO-09-00-00-00 |   0.9879 |    0.6296 | 0.6296 | 0.6296 |  27 |   0.0492 |     0.0094 |  512.0 |     1653    |\n",
      "| IM-00-00-00-00 |   0.9893 |    0.7027 | 0.7222 | 0.7123 |  36 |   0.0376 |     0.0089 |  512.0 |     1964    |\n",
      "| MO-00-00-00-00 |   0.8803 |    0.7283 | 0.8497 | 0.7844 | 366 |   0.2914 |     0.0877 |   32.0 |     1429    |\n",
      "| MO-02-00-00-00 |   0.9877 |    0.0714 | 0.0833 | 0.0769 |  12 |   0.0458 |     0.0099 |  512.0 |     1949    |\n",
      "| MO-07-00-00-00 |   0.9832 |    0.3333 | 0.4615 | 0.3871 |  13 |   0.0478 |     0.0128 |  256.0 |     1129    |\n",
      "| MO-10-00-00-00 |   0.9864 |      0.25 | 0.1818 | 0.2105 |  11 |   0.0502 |     0.0107 |  512.0 |     1106    |\n",
      "| RI-00-00-00-00 |   0.9656 |    0.1389 | 0.2273 | 0.1724 |  22 |    0.127 |     0.0265 |  256.0 |     1396    |\n",
      "| TO-00-00-00-00 |   0.8719 |    0.6095 | 0.8348 | 0.7046 | 230 |   0.2901 |     0.0875 |   32.0 |     1257    |\n",
      "| TR-00-00-00-00 |   0.9676 |    0.8421 | 0.9231 | 0.8807 | 260 |   0.1104 |     0.0282 |  128.0 |     2006    |\n",
      "| TR-01-00-00-00 |   0.9814 |    0.3421 | 0.5909 | 0.4333 |  22 |   0.0728 |     0.0145 |  256.0 |     1827    |\n",
      "| TR-02-00-00-00 |   0.9742 |    0.3125 | 0.5172 | 0.3896 |  29 |    0.086 |     0.0196 |  256.0 |     1819    |\n",
      "| TR-03-00-00-00 |   0.9819 |    0.2143 | 0.3529 | 0.2667 |  17 |   0.0666 |     0.0136 |  128.0 |     1821    |\n",
      "| TR-04-00-00-00 |   0.9796 |    0.2571 |   0.45 | 0.3273 |  20 |   0.0751 |     0.0154 |  128.0 |     1815    |\n",
      "| TR-05-00-00-00 |    0.989 |    0.6486 | 0.7742 | 0.7059 |  31 |   0.0382 |     0.0097 |  512.0 |     1816    |\n",
      "| WO-00-00-00-00 |   0.9432 |    0.8309 | 0.8889 | 0.8589 | 387 |   0.1724 |     0.0478 |   64.0 |     1991    |\n",
      "| WO-03-00-00-00 |   0.9839 |    0.0556 |    0.1 | 0.0714 |  10 |   0.0662 |     0.0121 |  256.0 |     1617    |\n",
      "+----------------+----------+-----------+--------+--------+-----+----------+------------+--------+-------------+\n"
     ]
    }
   ],
   "source": [
    "\n",
    "t = PrettyTable([\"class\", \"accuracy\", \"precision\", \"recall\", \"F1\", \"sup\", \"log_loss\", \"brier_loss\", \"C\", \"|documents|\"])\n",
    "#t.align[\"class\"] = \"r\"\n",
    "t.align[\"accuracy\"] = \"r\"\n",
    "t.align[\"precision\"] = \"r\"\n",
    "t.align[\"recall\"] = \"r\"\n",
    "t.align[\"F1 score\"] = \"r\"\n",
    "t.align[\"support\"] = \"r\"\n",
    "t.align[\"log_loss\"] = \"r\"\n",
    "t.align[\"brier_loss\"] = \"r\"\n",
    "t.align[\"C\"] = \"r\"\n",
    "\n",
    "for k,v in stat_dict.items():\n",
    "    t.add_row([k, v[0], v[1], v[2], v[3], v[4], v[5], v[6], v[7], numdoc[k]])\n",
    "    \n",
    "print(t)"
   ]
  },
  {
   "cell_type": "markdown",
   "metadata": {
    "colab_type": "text",
    "id": "N1tu4jFOrOaf",
    "janus": {
     "all_versions_showing": false,
     "cell_hidden": false,
     "current_version": 0,
     "id": "ba74459e4e83b",
     "named_versions": [],
     "output_hidden": false,
     "show_versions": false,
     "source_hidden": false,
     "versions": []
    }
   },
   "source": [
    "## Plotting for Top10 classes"
   ]
  },
  {
   "cell_type": "code",
   "execution_count": 20,
   "metadata": {
    "colab": {},
    "colab_type": "code",
    "id": "r4sGK9DsrOhR",
    "janus": {
     "all_versions_showing": false,
     "cell_hidden": true,
     "current_version": 0,
     "id": "120b319cdd3d",
     "named_versions": [],
     "output_hidden": true,
     "show_versions": false,
     "source_hidden": true,
     "versions": []
    }
   },
   "outputs": [
    {
     "data": {
      "image/png": "[encoded data removed]",
      "text/plain": [
       "<Figure size 640x480 with 1 Axes>"
      ]
     },
     "metadata": {},
     "output_type": "display_data"
    }
   ],
   "source": [
    "\n",
    "\n",
    "# Fixing random state for reproducibility\n",
    "np.random.seed(19680801)\n",
    "\n",
    "\n",
    "plt.rcdefaults()\n",
    "fig, ax = plt.subplots()\n",
    "\n",
    "# Example data\n",
    "y_pos = np.arange(10)\n",
    "error = 0 \n",
    "\n",
    "recall_dict = defaultdict()\n",
    "for k,v in stat_dict.items():\n",
    "    recall_dict[k] = v[2]\n",
    "\n",
    "sorted_x = sorted(recall_dict.items(), key=lambda kv: kv[1], reverse=True)\n",
    "topcat_dict = collections.OrderedDict(sorted_x)\n",
    "#print(topcat_dict)\n",
    "\n",
    "keyList = []\n",
    "valList = []\n",
    "for kv in topcat_dict.items():\n",
    "    keyList.append(kv[0])\n",
    "    valList.append(kv[1])\n",
    "\n",
    "ax.barh(y_pos[:10], valList[:10], xerr=error, align='center')\n",
    "ax.set_yticks(y_pos)\n",
    "ax.set_yticklabels(keyList[:10])\n",
    "ax.invert_yaxis()  # labels read top-to-bottom\n",
    "ax.set_xlabel('Recall')\n",
    "ax.set_title('Top10 Recall Scores')\n",
    "\n",
    "plt.show()"
   ]
  },
  {
   "cell_type": "markdown",
   "metadata": {
    "janus": {
     "all_versions_showing": false,
     "cell_hidden": false,
     "current_version": 0,
     "id": "3128d732afee1",
     "named_versions": [],
     "output_hidden": false,
     "show_versions": false,
     "source_hidden": false,
     "versions": []
    }
   },
   "source": [
    "## Bottom 10"
   ]
  },
  {
   "cell_type": "code",
   "execution_count": 21,
   "metadata": {
    "janus": {
     "all_versions_showing": false,
     "cell_hidden": true,
     "current_version": 0,
     "id": "7631c8aa247f3",
     "named_versions": [],
     "output_hidden": true,
     "show_versions": false,
     "source_hidden": true,
     "versions": []
    },
    "scrolled": true
   },
   "outputs": [
    {
     "data": {
      "image/png": "[encoded data removed]",
      "text/plain": [
       "<Figure size 640x480 with 1 Axes>"
      ]
     },
     "metadata": {},
     "output_type": "display_data"
    }
   ],
   "source": [
    "\n",
    "\n",
    "# Fixing random state for reproducibility\n",
    "np.random.seed(19680801)\n",
    "\n",
    "\n",
    "plt.rcdefaults()\n",
    "fig, ax = plt.subplots()\n",
    "\n",
    "# Example data\n",
    "y_pos = np.arange(10)\n",
    "error = 0 \n",
    "\n",
    "recall_dict = defaultdict()\n",
    "for k,v in stat_dict.items():\n",
    "    recall_dict[k] = v[2]\n",
    "    \n",
    "sorted_x = sorted(recall_dict.items(), key=lambda kv: kv[1])\n",
    "topcat_dict = collections.OrderedDict(sorted_x)\n",
    "#print(topcat_dict)\n",
    "\n",
    "keyList = []\n",
    "valList = []\n",
    "for kv in topcat_dict.items():\n",
    "    keyList.append(kv[0])\n",
    "    valList.append(kv[1])\n",
    "\n",
    "\n",
    "\n",
    "\n",
    "ax.barh(y_pos[:10], valList[:10], xerr=error, align='center')\n",
    "ax.set_yticks(y_pos)\n",
    "ax.set_yticklabels(keyList[:10])\n",
    "ax.invert_yaxis()  # labels read top-to-bottom\n",
    "ax.set_xlabel('Recall')\n",
    "ax.set_title('Bottom 10 Recall Scores')\n",
    "\n",
    "plt.show()"
   ]
  },
  {
   "cell_type": "markdown",
   "metadata": {
    "janus": {
     "all_versions_showing": false,
     "cell_hidden": false,
     "current_version": 0,
     "id": "b32f8fe86d67c",
     "named_versions": [],
     "output_hidden": false,
     "show_versions": false,
     "source_hidden": false,
     "versions": []
    }
   },
   "source": [
    "## Recall Distribution"
   ]
  },
  {
   "cell_type": "code",
   "execution_count": 22,
   "metadata": {
    "janus": {
     "all_versions_showing": false,
     "cell_hidden": true,
     "current_version": 0,
     "id": "c55860008c8bc",
     "named_versions": [],
     "output_hidden": true,
     "show_versions": false,
     "source_hidden": true,
     "versions": []
    }
   },
   "outputs": [
    {
     "name": "stdout",
     "output_type": "stream",
     "text": [
      "    Recall\n",
      "0    55.56\n",
      "1    86.02\n",
      "2    78.30\n",
      "3    88.08\n",
      "4     8.33\n",
      "5     7.69\n",
      "6    27.27\n",
      "7     9.09\n",
      "8    66.67\n",
      "9    78.21\n",
      "10   10.00\n",
      "11   30.77\n",
      "12   90.48\n",
      "13   10.00\n",
      "14   20.00\n",
      "15   60.98\n",
      "16    7.69\n",
      "17   85.25\n",
      "18   94.18\n",
      "19   58.82\n",
      "20   62.96\n",
      "21   72.22\n",
      "22   84.97\n",
      "23    8.33\n",
      "24   46.15\n",
      "25   18.18\n",
      "26   22.73\n",
      "27   83.48\n",
      "28   92.31\n",
      "29   59.09\n",
      "30   51.72\n",
      "31   35.29\n",
      "32   45.00\n",
      "33   77.42\n",
      "34   88.89\n",
      "35   10.00\n"
     ]
    },
    {
     "data": {
      "image/png": "[encoded data removed]",
      "text/plain": [
       "<Figure size 640x480 with 1 Axes>"
      ]
     },
     "metadata": {},
     "output_type": "display_data"
    }
   ],
   "source": [
    "import pylab as pl\n",
    "\n",
    "recall_dict = defaultdict()\n",
    "for k,v in stat_dict.items():\n",
    "    recall_dict[k] = v[2]\n",
    "\n",
    "recall_list = []\n",
    "for k,v in recall_dict.items():\n",
    "    recall_list.append(v*100)\n",
    "   \n",
    "d = {'Recall': recall_list}\n",
    "tinydf = pd.DataFrame(data=d)\n",
    "\n",
    "\n",
    "\n",
    "hist = tinydf.hist(edgecolor='black', bins = [0,10,20,30,40,50,60,70,80,90,100])\n",
    "pl.title(\"Recall Distribution\")\n",
    "pl.xlabel(\"Recall Score(%)\")\n",
    "pl.ylabel(\"Number of Classes\")\n",
    "print(tinydf)"
   ]
  },
  {
   "cell_type": "markdown",
   "metadata": {},
   "source": [
    "## log_loss histogram"
   ]
  },
  {
   "cell_type": "code",
   "execution_count": 23,
   "metadata": {},
   "outputs": [
    {
     "name": "stdout",
     "output_type": "stream",
     "text": [
      "    logloss\n",
      "0    0.0725\n",
      "1    0.1005\n",
      "2    0.1764\n",
      "3    0.2397\n",
      "4    0.0867\n",
      "5    0.0881\n",
      "6    0.0550\n",
      "7    0.0658\n",
      "8    0.0466\n",
      "9    0.0747\n",
      "10   0.0404\n",
      "11   0.0603\n",
      "12   0.1767\n",
      "13   0.0514\n",
      "14   0.0427\n",
      "15   0.1291\n",
      "16   0.0680\n",
      "17   0.0828\n",
      "18   0.1116\n",
      "19   0.0905\n",
      "20   0.0492\n",
      "21   0.0376\n",
      "22   0.2914\n",
      "23   0.0458\n",
      "24   0.0478\n",
      "25   0.0502\n",
      "26   0.1270\n",
      "27   0.2901\n",
      "28   0.1104\n",
      "29   0.0728\n",
      "30   0.0860\n",
      "31   0.0666\n",
      "32   0.0751\n",
      "33   0.0382\n",
      "34   0.1724\n",
      "35   0.0662\n"
     ]
    },
    {
     "data": {
      "image/png": "[encoded data removed]",
      "text/plain": [
       "<Figure size 640x480 with 1 Axes>"
      ]
     },
     "metadata": {},
     "output_type": "display_data"
    }
   ],
   "source": [
    "import pylab as pl\n",
    "\n",
    "logloss_dict = defaultdict()\n",
    "for k,v in stat_dict.items():\n",
    "    logloss_dict[k] = v[5]\n",
    "\n",
    "logloss_list = []\n",
    "for k,v in logloss_dict.items():\n",
    "    logloss_list.append(v)\n",
    "   \n",
    "d = {'logloss': logloss_list}\n",
    "tinydf = pd.DataFrame(data=d)\n",
    "\n",
    "hist = tinydf.hist(edgecolor='black', bins = [0.0,0.1,0.2,0.3,0.4,0.5,0.6,0.7,0.8,0.9,1.0])\n",
    "pl.title(\"Log Loss Distribution\")\n",
    "pl.xlabel(\"Log Loss Score\")\n",
    "pl.ylabel(\"Number of Classes\")\n",
    "print(tinydf)"
   ]
  },
  {
   "cell_type": "markdown",
   "metadata": {},
   "source": [
    "## Brier Score Loss"
   ]
  },
  {
   "cell_type": "code",
   "execution_count": 24,
   "metadata": {},
   "outputs": [
    {
     "name": "stdout",
     "output_type": "stream",
     "text": [
      "    brierloss\n",
      "0      0.0178\n",
      "1      0.0283\n",
      "2      0.0483\n",
      "3      0.0685\n",
      "4      0.0170\n",
      "5      0.0163\n",
      "6      0.0104\n",
      "7      0.0121\n",
      "8      0.0119\n",
      "9      0.0207\n",
      "10     0.0094\n",
      "11     0.0119\n",
      "12     0.0508\n",
      "13     0.0087\n",
      "14     0.0077\n",
      "15     0.0302\n",
      "16     0.0149\n",
      "17     0.0208\n",
      "18     0.0291\n",
      "19     0.0210\n",
      "20     0.0094\n",
      "21     0.0089\n",
      "22     0.0877\n",
      "23     0.0099\n",
      "24     0.0128\n",
      "25     0.0107\n",
      "26     0.0265\n",
      "27     0.0875\n",
      "28     0.0282\n",
      "29     0.0145\n",
      "30     0.0196\n",
      "31     0.0136\n",
      "32     0.0154\n",
      "33     0.0097\n",
      "34     0.0478\n",
      "35     0.0121\n"
     ]
    },
    {
     "data": {
      "image/png": "[encoded data removed]",
      "text/plain": [
       "<Figure size 640x480 with 1 Axes>"
      ]
     },
     "metadata": {},
     "output_type": "display_data"
    }
   ],
   "source": [
    "\n",
    "brierloss_dict = defaultdict()\n",
    "for k,v in stat_dict.items():\n",
    "    brierloss_dict[k] = v[6]\n",
    "\n",
    "brierloss_list = []\n",
    "for k,v in brierloss_dict.items():\n",
    "    brierloss_list.append(v)\n",
    "   \n",
    "d = {'brierloss': brierloss_list}\n",
    "tinydf = pd.DataFrame(data=d)\n",
    "\n",
    "hist = tinydf.hist(edgecolor='black', bins = [0.0,0.1,0.2,0.3,0.4,0.5,0.6,0.7,0.8,0.9,1.0])\n",
    "pl.title(\"Brier Loss Distribution\")\n",
    "pl.xlabel(\"Brier Loss Score\")\n",
    "pl.ylabel(\"Number of Classes\")\n",
    "print(tinydf)"
   ]
  },
  {
   "cell_type": "markdown",
   "metadata": {
    "colab_type": "text",
    "id": "6opsKxImIb5b",
    "janus": {
     "all_versions_showing": false,
     "cell_hidden": false,
     "current_version": 0,
     "id": "4b997c0e2f005",
     "named_versions": [],
     "output_hidden": false,
     "show_versions": false,
     "source_hidden": false,
     "versions": []
    }
   },
   "source": [
    "# Custom Input Prediction"
   ]
  },
  {
   "cell_type": "code",
   "execution_count": 25,
   "metadata": {
    "colab": {},
    "colab_type": "code",
    "id": "Qro-3iB4IiEy",
    "janus": {
     "all_versions_showing": false,
     "cell_hidden": false,
     "current_version": 0,
     "id": "5f2ad812917d3",
     "named_versions": [],
     "output_hidden": false,
     "show_versions": false,
     "source_hidden": false,
     "versions": []
    },
    "scrolled": true
   },
   "outputs": [
    {
     "name": "stdout",
     "output_type": "stream",
     "text": [
      "I had my car parked at work and someone stole my car. I went to report my car stolen at the police station but I got a call later saying I can’t report it stolen because a title change occurred. I never sold my car, never signed anything. I feel completely powerless and violated. I honestly don’t know what to do. If I find out who stole my car I will most likely snap because I don’t know what else to do. This has never happened to me. What legal steps can I take? Edit: I can’t find the title. My sister was coming back home from the army and I intended on giving her the car when she arrived. I most likely left the title in the car.\n",
      "CR-00-00-00-00 [1.] 0.8659\n",
      "CR-01-00-00-00 [1.] 0.9078\n",
      "MO-00-00-00-00 [1.] 0.6512\n",
      "TO-00-00-00-00 [1.] 0.9321\n",
      "TR-00-00-00-00 [1.] 0.9987\n",
      "TR-01-00-00-00 [1.] 0.6617\n",
      "TR-04-00-00-00 [1.] 0.9996\n",
      "TR-05-00-00-00 [1.] 0.649\n"
     ]
    }
   ],
   "source": [
    "#text = \"How do I get my mom's license taken away. My mom is 66, on disability for multiple sclerosis. She's been unable to work for about a decade. She has cataracts. She has neuropathy. She has 0 reaction time. She has had a fender bender on every single corner of her last car, which my brother then totaled. She also has no night vision. She also falls asleep all the time. ALMOST like like narcolepsy. It's mostly her overextending herself, but she will nod off driving or sleep in parking lots til she feels ok. She also has lymphedema in her legs which are swollen enough to impede driving. The last year she was driving she received 19 red light tickets. She agreed not to drive. And the insurance paid for her car. Now she's bought a new one, about 6 months later. Our relationship is terrible. I hate her. But I want her licence taken away before she kills or cripples someone(s). I'm no contact with her, but my brother still tries and he cares about this a lot. I've spoken with the DMV IN MY state, not very helpful. Can i contact her insurance? Do I contact the police? Has this happened to anyone\"\n",
    "text = \"I had my car parked at work and someone stole my car. I went to report my car stolen at the police station but I got a call later saying I can’t report it stolen because a title change occurred. I never sold my car, never signed anything. I feel completely powerless and violated. I honestly don’t know what to do. If I find out who stole my car I will most likely snap because I don’t know what else to do. This has never happened to me. What legal steps can I take? Edit: I can’t find the title. My sister was coming back home from the army and I intended on giving her the car when she arrived. I most likely left the title in the car.\"\n",
    "print(text)\n",
    "input = sent2vec(text)\n",
    "input = np.array(input)\n",
    "\n",
    "predictions = defaultdict() \n",
    "prob = defaultdict()\n",
    "c_logloss = defaultdict()\n",
    "\n",
    "for cls in class_list:\n",
    "    predictions[cls] = classifier[cls].predict([input])\n",
    "    prob[cls] = classifier[cls].predict_proba([input])\n",
    "\n",
    "for k,v in predictions.items():   \n",
    "    if v > 0:\n",
    "        print(k, v, end = ' ')\n",
    "        print(np.round(prob[k][0][1], 4))\n"
   ]
  }
 ],
 "metadata": {
  "accelerator": "GPU",
  "colab": {
   "authorship_tag": "ABX9TyNEs8q1mzt8F3PvZ4WJe7iF",
   "name": "legal_issue_classifier.ipynb",
   "provenance": [],
   "toc_visible": true
  },
  "janus": {
   "filepaths": [
    [
     "ccbc57fe",
     1582755372683,
     1583617048644
    ]
   ],
   "janus_markers": [
    {
     "ids": [
      "fbc1e35bd1c07",
      "b4140f133d1e6"
     ],
     "markerName": "Hidden Cells",
     "showing": false
    },
    {
     "ids": [
      "46f3ebdce3ec5"
     ],
     "markerName": "Hidden Cells",
     "showing": false
    },
    {
     "ids": [
      "da6bfdef8ea13"
     ],
     "markerName": "Hidden Cells",
     "showing": false
    },
    {
     "ids": [
      "455af60adbcad"
     ],
     "markerName": "Hidden Cells",
     "showing": false
    },
    {
     "ids": [
      "11e5448bf4137"
     ],
     "markerName": "Hidden Cells",
     "showing": false
    },
    {
     "ids": [
      "722be740702ee"
     ],
     "markerName": "Hidden Cells",
     "showing": false
    },
    {
     "ids": [
      "dfd2a43208cde"
     ],
     "markerName": "Hidden Cells",
     "showing": false
    },
    {
     "ids": [
      "8dd4a61345312"
     ],
     "markerName": "Hidden Cells",
     "showing": false
    },
    {
     "ids": [
      "381e7a94d7c67"
     ],
     "markerName": "Hidden Cells",
     "showing": false
    },
    {
     "ids": [
      "6611849a9aa39"
     ],
     "markerName": "Hidden Cells",
     "showing": false
    },
    {
     "ids": [
      "120b319cdd3d"
     ],
     "markerName": "Hidden Cells",
     "showing": false
    },
    {
     "ids": [
      "7631c8aa247f3"
     ],
     "markerName": "Hidden Cells",
     "showing": false
    },
    {
     "ids": [
      "c55860008c8bc"
     ],
     "markerName": "Hidden Cells",
     "showing": false
    }
   ],
   "track_history": true
  },
  "kernelspec": {
   "display_name": "Python 3",
   "language": "python",
   "name": "python3"
  },
  "language_info": {
   "codemirror_mode": {
    "name": "ipython",
    "version": 3
   },
   "file_extension": ".py",
   "mimetype": "text/x-python",
   "name": "python",
   "nbconvert_exporter": "python",
   "pygments_lexer": "ipython3",
   "version": "3.8.0"
  }
 },
 "nbformat": 4,
 "nbformat_minor": 4
}
