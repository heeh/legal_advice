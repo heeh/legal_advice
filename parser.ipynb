{
 "cells": [
  {
   "cell_type": "markdown",
   "metadata": {
    "janus": {
     "all_versions_showing": false,
     "cell_hidden": false,
     "current_version": 0,
     "id": "ef5b82f71049a",
     "named_versions": [],
     "output_hidden": false,
     "show_versions": false,
     "source_hidden": false,
     "versions": []
    }
   },
   "source": [
    "# Reddit Legal Advice Parser(4/20/2010 - 3/29/2020)"
   ]
  },
  {
   "cell_type": "markdown",
   "metadata": {
    "janus": {
     "all_versions_showing": false,
     "cell_hidden": false,
     "current_version": 0,
     "id": "b4ef25a12eb9e",
     "named_versions": [],
     "output_hidden": false,
     "show_versions": false,
     "source_hidden": false,
     "versions": []
    }
   },
   "source": [
    "## Load JSON"
   ]
  },
  {
   "cell_type": "code",
   "execution_count": 1,
   "metadata": {
    "janus": {
     "all_versions_showing": false,
     "cell_hidden": false,
     "current_version": 0,
     "id": "bbc2773fceb21",
     "named_versions": [],
     "output_hidden": false,
     "show_versions": false,
     "source_hidden": false,
     "versions": []
    }
   },
   "outputs": [
    {
     "name": "stdout",
     "output_type": "stream",
     "text": [
      "903050\n"
     ]
    }
   ],
   "source": [
    "import json\n",
    "\n",
    "\n",
    "def loadJSON():\n",
    "    with open(\"pretty_outfile.json\", \"r\") as f:\n",
    "        json_object = json.load(f)\n",
    "    return json_object\n",
    "\n",
    "json_object = loadJSON()\n",
    "print(len(json_object[\"data\"]))\n"
   ]
  },
  {
   "cell_type": "code",
   "execution_count": 2,
   "metadata": {
    "janus": {
     "all_versions_showing": false,
     "cell_hidden": false,
     "current_version": 0,
     "id": "aec1b0d058e71",
     "named_versions": [],
     "output_hidden": false,
     "show_versions": false,
     "source_hidden": false,
     "versions": []
    }
   },
   "outputs": [
    {
     "name": "stdout",
     "output_type": "stream",
     "text": [
      "903050\n",
      "\n",
      "{'created_utc': 1585518334, 'selftext': \"I'm starting a business selling machine-printed posters and tee shirts where the customer uploads an image of themselves to our website, a designer creates a digital drawing of that person and it is then printed and shipped to the person. question is, can i use a drawing that our designers make of a celebrity as an example of the art style? for clarity, this drawing will not be sold and will generate no monetary value directly as it serves no purpose other than showing the art style to people who visit our website. also, can i use the original image to show the contrast between the before and after or not? and what are the restrictions (if any) on who can i use (both as a normal pic and as a drawing)?\", 'id': 'frdzlt', 'title': 'Can i use a drawing of a celebrity on my website?'}\n"
     ]
    }
   ],
   "source": [
    "docs = json_object['data']\n",
    "\n",
    "print(len(docs))\n",
    "print()\n",
    "print(docs[-1])\n"
   ]
  },
  {
   "cell_type": "markdown",
   "metadata": {
    "janus": {
     "all_versions_showing": false,
     "cell_hidden": false,
     "current_version": 0,
     "id": "1bff0edecd28b",
     "named_versions": [],
     "output_hidden": false,
     "show_versions": false,
     "source_hidden": false,
     "versions": []
    }
   },
   "source": [
    "## Submissions per Year"
   ]
  },
  {
   "cell_type": "code",
   "execution_count": 3,
   "metadata": {
    "janus": {
     "all_versions_showing": false,
     "cell_hidden": false,
     "current_version": 0,
     "id": "aa162e8276414",
     "named_versions": [],
     "output_hidden": false,
     "show_versions": false,
     "source_hidden": false,
     "versions": []
    }
   },
   "outputs": [
    {
     "name": "stderr",
     "output_type": "stream",
     "text": [
      "/Users/heeh/.pyenv/versions/3.8.0/lib/python3.8/site-packages/pandas/compat/__init__.py:117: UserWarning: Could not import the lzma module. Your installed Python is incomplete. Attempting to use lzma compression will result in a RuntimeError.\n",
      "  warnings.warn(msg)\n"
     ]
    },
    {
     "name": "stdout",
     "output_type": "stream",
     "text": [
      "{2010: (1262322000, 1293858000), 2011: (1293858000, 1325394000), 2012: (1325394000, 1357016400), 2013: (1357016400, 1388552400), 2014: (1388552400, 1420088400), 2015: (1420088400, 1451624400), 2016: (1451624400, 1483246800), 2017: (1483246800, 1514782800), 2018: (1514782800, 1546318800), 2019: (1546318800, 1577854800), 2020: (1577854800, 1609477200)}\n",
      "{'created_utc': 1585518334, 'selftext': \"I'm starting a business selling machine-printed posters and tee shirts where the customer uploads an image of themselves to our website, a designer creates a digital drawing of that person and it is then printed and shipped to the person. question is, can i use a drawing that our designers make of a celebrity as an example of the art style? for clarity, this drawing will not be sold and will generate no monetary value directly as it serves no purpose other than showing the art style to people who visit our website. also, can i use the original image to show the contrast between the before and after or not? and what are the restrictions (if any) on who can i use (both as a normal pic and as a drawing)?\", 'id': 'frdzlt', 'title': 'Can i use a drawing of a celebrity on my website?'}\n",
      "cnt 901813\n",
      "noselftext 1237\n"
     ]
    }
   ],
   "source": [
    "import sys\n",
    "import datetime as dt\n",
    "import time\n",
    "from collections import defaultdict\n",
    "import pandas as pd\n",
    "import pylab as pl\n",
    "\n",
    "def utc2ymd(utc: str) -> str:\n",
    "    #return dt.datetime.utcfromtimestamp(utc).strftime(\"%Y/%m/%d %H:%M\")\n",
    "    return dt.datetime.utcfromtimestamp(utc).strftime(\"%Y-%m-%d\")\n",
    "\n",
    "def ymd2utc(ymd: str) -> int:\n",
    "    utc = dt.datetime.strptime(ymd, '%Y-%m-%d')\n",
    "    utc = time.mktime(utc.timetuple())\n",
    "    utc = int(utc)\n",
    "    return utc\n",
    "\n",
    "\n",
    "def pretty(d, indent=0):\n",
    "    print('------------------------------------')\n",
    "    print('id: ', d['id'])\n",
    "    ymd = utc2ymd(d['created_utc'])\n",
    "    print('created_utc:', d['created_utc'], ymd)\n",
    "    print('title:', d['title'])\n",
    "    print('selftext:', d['selftext'])\n",
    "    print('\\n')\n",
    "    print('------------------------------------')\n",
    "    \n",
    "\n",
    "\n",
    "utc_dict = {}\n",
    "num_docs = {}\n",
    "\n",
    "for year in range(2010, 2021):\n",
    "    ymd_after = str(year) + '-01-01'\n",
    "    ymd_before = str(year+1) + '-01-01'\n",
    "    utc_after = ymd2utc(ymd_after)\n",
    "    utc_before = ymd2utc(ymd_before)\n",
    "    utc_dict[year] = (utc_after, utc_before)\n",
    "\n",
    "print(utc_dict)\n",
    "\n",
    "\n",
    "for doc in docs:\n",
    "    \n",
    "    for k,v in utc_dict.items():\n",
    "        if v[0] <= doc['created_utc'] < v[1]:\n",
    "            if k in num_docs:\n",
    "                num_docs[int(k)] += 1\n",
    "            else:\n",
    "                num_docs[int(k)] = 1\n",
    "                \n",
    "cnt = 0\n",
    "noselftext = 0\n",
    "for doc in docs:\n",
    "    if \"selftext\" in doc:\n",
    "        cnt+= 1\n",
    "        pass\n",
    "    else:\n",
    "        noselftext += 1\n",
    "        #print(doc)\n",
    "\n",
    "print(doc)\n",
    "        \n",
    "print('cnt',cnt)\n",
    "print('noselftext',noselftext)\n",
    "\n",
    "                \n",
    "key_list = []\n",
    "val_list = []\n",
    "for k,v in num_docs.items():\n",
    "    key_list.append(k)\n",
    "    val_list.append(v)"
   ]
  },
  {
   "cell_type": "code",
   "execution_count": 4,
   "metadata": {
    "janus": {
     "all_versions_showing": false,
     "cell_hidden": false,
     "current_version": 0,
     "id": "f749165032f11",
     "named_versions": [],
     "output_hidden": false,
     "show_versions": false,
     "source_hidden": false,
     "versions": []
    }
   },
   "outputs": [
    {
     "name": "stdout",
     "output_type": "stream",
     "text": [
      "[8, 867, 5518, 19685, 42160, 82517, 109926, 133516, 188357, 255340, 65156]\n"
     ]
    },
    {
     "data": {
      "text/plain": [
       "Text(0, 0.5, 'Number of Submissions')"
      ]
     },
     "execution_count": 4,
     "metadata": {},
     "output_type": "execute_result"
    },
    {
     "data": {
      "image/png": "[encoded data removed]",
      "text/plain": [
       "<Figure size 432x288 with 1 Axes>"
      ]
     },
     "metadata": {},
     "output_type": "display_data"
    }
   ],
   "source": [
    "import matplotlib, matplotlib.pyplot as plt\n",
    "import pandas as pd\n",
    "print(val_list)\n",
    "matplotlib.style.use(\"ggplot\")\n",
    "plt.xkcd()\n",
    "#plt.rcdefaults()    \n",
    "plt.figure()\n",
    "\n",
    "plt.plot(key_list, val_list, \"-o\")\n",
    "plt.ylabel(\"Number of Submissions\")"
   ]
  },
  {
   "cell_type": "code",
   "execution_count": null,
   "metadata": {
    "janus": {
     "all_versions_showing": false,
     "cell_hidden": false,
     "current_version": 0,
     "id": "af787d0b02f47",
     "named_versions": [],
     "output_hidden": false,
     "show_versions": false,
     "source_hidden": false,
     "versions": []
    }
   },
   "outputs": [],
   "source": []
  }
 ],
 "metadata": {
  "janus": {
   "filepaths": [
    [
     "84d4d531",
     1585496143375,
     1585496197346
    ],
    [
     "8ca5e41d",
     1585496267859,
     1585671551210
    ]
   ],
   "janus_markers": [],
   "track_history": true
  },
  "kernelspec": {
   "display_name": "Python 3",
   "language": "python",
   "name": "python3"
  },
  "language_info": {
   "codemirror_mode": {
    "name": "ipython",
    "version": 3
   },
   "file_extension": ".py",
   "mimetype": "text/x-python",
   "name": "python",
   "nbconvert_exporter": "python",
   "pygments_lexer": "ipython3",
   "version": "3.8.0"
  }
 },
 "nbformat": 4,
 "nbformat_minor": 4
}
