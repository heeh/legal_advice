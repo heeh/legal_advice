{
 "cells": [
  {
   "cell_type": "markdown",
   "metadata": {
    "colab_type": "text",
    "id": "cXr-llCCp7_Z",
    "janus": {
     "all_versions_showing": false,
     "cell_hidden": false,
     "current_version": 0,
     "id": "906255c57419d",
     "named_versions": [],
     "output_hidden": false,
     "show_versions": false,
     "source_hidden": false,
     "versions": []
    }
   },
   "source": [
    "# Introduction\n",
    "* This program that classifies legal issues into a binary value for each National Subject Matter Index (NSMI). (https://nsmi.lsntap.org/browse-v2) \\\\\n",
    "\"Category\" means 20 indexes. \\\\\n",
    "\"Class\" means sub categories under the category.\n",
    "\n",
    "### Data\n",
    "* The data contains 2777 labeled articles. Each article has a binary value(0 or 1) that indicates if this article is related to a specific legal class. We ignore unlabeled entries when constructing a model.\n",
    "\n",
    "### Implementation\n",
    "* The program converts an article into tf-idf and applies multinomial Naive-Bayes model provided by scikit-learn. \n",
    "\n",
    "* After preprocessing data, we predict the model with 10-fold cross-validation.\n",
    "\n",
    "### Output\n",
    "* We calculate accuracy with bot categories(20) and classes(100+). \\\\\n",
    "\n",
    "See overall result is at the bottom of this notebook."
   ]
  },
  {
   "cell_type": "markdown",
   "metadata": {
    "colab_type": "text",
    "id": "LNIANhrjEzYE",
    "janus": {
     "all_versions_showing": false,
     "cell_hidden": false,
     "current_version": 0,
     "id": "c64b7d852eb46",
     "named_versions": [],
     "output_hidden": false,
     "show_versions": false,
     "source_hidden": false,
     "versions": []
    }
   },
   "source": [
    "# Data Preparation (DONE)"
   ]
  },
  {
   "cell_type": "code",
   "execution_count": 1,
   "metadata": {
    "colab": {},
    "colab_type": "code",
    "id": "YsbprkpElhDw",
    "janus": {
     "all_versions_showing": false,
     "cell_hidden": true,
     "current_version": 0,
     "id": "fbc1e35bd1c07",
     "named_versions": [],
     "output_hidden": true,
     "show_versions": false,
     "source_hidden": true,
     "versions": []
    }
   },
   "outputs": [
    {
     "name": "stdout",
     "output_type": "stream",
     "text": [
      "Requirement already satisfied: PrettyTable in /Users/heeh/.pyenv/versions/3.8.0/lib/python3.8/site-packages (0.7.2)\n",
      "Requirement already satisfied: pandas in /Users/heeh/.pyenv/versions/3.8.0/lib/python3.8/site-packages (1.0.1)\n",
      "Requirement already satisfied: pytz>=2017.2 in /Users/heeh/.pyenv/versions/3.8.0/lib/python3.8/site-packages (from pandas) (2019.3)\n",
      "Requirement already satisfied: python-dateutil>=2.6.1 in /Users/heeh/.pyenv/versions/3.8.0/lib/python3.8/site-packages (from pandas) (2.8.1)\n",
      "Requirement already satisfied: numpy>=1.13.3 in /Users/heeh/.pyenv/versions/3.8.0/lib/python3.8/site-packages (from pandas) (1.18.1)\n",
      "Requirement already satisfied: six>=1.5 in /Users/heeh/.pyenv/versions/3.8.0/lib/python3.8/site-packages (from python-dateutil>=2.6.1->pandas) (1.14.0)\n",
      "Requirement already satisfied: sklearn in /Users/heeh/.pyenv/versions/3.8.0/lib/python3.8/site-packages (0.0)\n",
      "Requirement already satisfied: scikit-learn in /Users/heeh/.pyenv/versions/3.8.0/lib/python3.8/site-packages (from sklearn) (0.22.2.post1)\n",
      "Requirement already satisfied: joblib>=0.11 in /Users/heeh/.pyenv/versions/3.8.0/lib/python3.8/site-packages (from scikit-learn->sklearn) (0.14.1)\n",
      "Requirement already satisfied: scipy>=0.17.0 in /Users/heeh/.pyenv/versions/3.8.0/lib/python3.8/site-packages (from scikit-learn->sklearn) (1.4.1)\n",
      "Requirement already satisfied: numpy>=1.11.0 in /Users/heeh/.pyenv/versions/3.8.0/lib/python3.8/site-packages (from scikit-learn->sklearn) (1.18.1)\n",
      "Requirement already satisfied: matplotlib in /Users/heeh/.pyenv/versions/3.8.0/lib/python3.8/site-packages (3.2.0)\n",
      "Requirement already satisfied: python-dateutil>=2.1 in /Users/heeh/.pyenv/versions/3.8.0/lib/python3.8/site-packages (from matplotlib) (2.8.1)\n",
      "Requirement already satisfied: pyparsing!=2.0.4,!=2.1.2,!=2.1.6,>=2.0.1 in /Users/heeh/.pyenv/versions/3.8.0/lib/python3.8/site-packages (from matplotlib) (2.4.6)\n",
      "Requirement already satisfied: numpy>=1.11 in /Users/heeh/.pyenv/versions/3.8.0/lib/python3.8/site-packages (from matplotlib) (1.18.1)\n",
      "Requirement already satisfied: kiwisolver>=1.0.1 in /Users/heeh/.pyenv/versions/3.8.0/lib/python3.8/site-packages (from matplotlib) (1.1.0)\n",
      "Requirement already satisfied: cycler>=0.10 in /Users/heeh/.pyenv/versions/3.8.0/lib/python3.8/site-packages (from matplotlib) (0.10.0)\n",
      "Requirement already satisfied: six>=1.5 in /Users/heeh/.pyenv/versions/3.8.0/lib/python3.8/site-packages (from python-dateutil>=2.1->matplotlib) (1.14.0)\n",
      "Requirement already satisfied: setuptools in /Users/heeh/.pyenv/versions/3.8.0/lib/python3.8/site-packages (from kiwisolver>=1.0.1->matplotlib) (41.2.0)\n",
      "Requirement already satisfied: seaborn in /Users/heeh/.pyenv/versions/3.8.0/lib/python3.8/site-packages (0.10.0)\n",
      "Requirement already satisfied: matplotlib>=2.1.2 in /Users/heeh/.pyenv/versions/3.8.0/lib/python3.8/site-packages (from seaborn) (3.2.0)\n",
      "Requirement already satisfied: pandas>=0.22.0 in /Users/heeh/.pyenv/versions/3.8.0/lib/python3.8/site-packages (from seaborn) (1.0.1)\n",
      "Requirement already satisfied: scipy>=1.0.1 in /Users/heeh/.pyenv/versions/3.8.0/lib/python3.8/site-packages (from seaborn) (1.4.1)\n",
      "Requirement already satisfied: numpy>=1.13.3 in /Users/heeh/.pyenv/versions/3.8.0/lib/python3.8/site-packages (from seaborn) (1.18.1)\n",
      "Requirement already satisfied: kiwisolver>=1.0.1 in /Users/heeh/.pyenv/versions/3.8.0/lib/python3.8/site-packages (from matplotlib>=2.1.2->seaborn) (1.1.0)\n",
      "Requirement already satisfied: cycler>=0.10 in /Users/heeh/.pyenv/versions/3.8.0/lib/python3.8/site-packages (from matplotlib>=2.1.2->seaborn) (0.10.0)\n",
      "Requirement already satisfied: pyparsing!=2.0.4,!=2.1.2,!=2.1.6,>=2.0.1 in /Users/heeh/.pyenv/versions/3.8.0/lib/python3.8/site-packages (from matplotlib>=2.1.2->seaborn) (2.4.6)\n",
      "Requirement already satisfied: python-dateutil>=2.1 in /Users/heeh/.pyenv/versions/3.8.0/lib/python3.8/site-packages (from matplotlib>=2.1.2->seaborn) (2.8.1)\n",
      "Requirement already satisfied: pytz>=2017.2 in /Users/heeh/.pyenv/versions/3.8.0/lib/python3.8/site-packages (from pandas>=0.22.0->seaborn) (2019.3)\n",
      "Requirement already satisfied: setuptools in /Users/heeh/.pyenv/versions/3.8.0/lib/python3.8/site-packages (from kiwisolver>=1.0.1->matplotlib>=2.1.2->seaborn) (41.2.0)\n",
      "Requirement already satisfied: six in /Users/heeh/.pyenv/versions/3.8.0/lib/python3.8/site-packages (from cycler>=0.10->matplotlib>=2.1.2->seaborn) (1.14.0)\n",
      "Requirement already satisfied: tqdm in /Users/heeh/.pyenv/versions/3.8.0/lib/python3.8/site-packages (4.43.0)\n",
      "Requirement already satisfied: nltk in /Users/heeh/.pyenv/versions/3.8.0/lib/python3.8/site-packages (3.4.5)\n",
      "Requirement already satisfied: six in /Users/heeh/.pyenv/versions/3.8.0/lib/python3.8/site-packages (from nltk) (1.14.0)\n",
      "/Users/heeh/.pyenv/versions/3.8.0/lib/python3.8/runpy.py:125: RuntimeWarning: 'nltk.downloader' found in sys.modules after import of package 'nltk', but prior to execution of 'nltk.downloader'; this may result in unpredictable behaviour\n",
      "  warn(RuntimeWarning(msg))\n",
      "[nltk_data] Downloading package stopwords to /Users/heeh/nltk_data...\n",
      "[nltk_data]   Package stopwords is already up-to-date!\n",
      "[nltk_data] Downloading package punkt to /Users/heeh/nltk_data...\n",
      "[nltk_data]   Package punkt is already up-to-date!\n"
     ]
    },
    {
     "name": "stderr",
     "output_type": "stream",
     "text": [
      "/Users/heeh/.pyenv/versions/3.8.0/lib/python3.8/site-packages/pandas/compat/__init__.py:117: UserWarning: Could not import the lzma module. Your installed Python is incomplete. Attempting to use lzma compression will result in a RuntimeError.\n",
      "  warnings.warn(msg)\n"
     ]
    },
    {
     "name": "stdout",
     "output_type": "stream",
     "text": [
      "DONE\n"
     ]
    }
   ],
   "source": [
    "!pip3 install PrettyTable\n",
    "!pip3 install pandas\n",
    "!pip3 install sklearn\n",
    "!pip3 install matplotlib\n",
    "!pip3 install seaborn\n",
    "!pip3 install tqdm\n",
    "!pip3 install nltk\n",
    "!python3 -m nltk.downloader stopwords punkt\n",
    "\n",
    "import os\n",
    "import sys\n",
    "import pandas as pd\n",
    "from collections import Counter\n",
    "from sklearn.feature_extraction.text import TfidfVectorizer\n",
    "from sklearn.naive_bayes import MultinomialNB\n",
    "from sklearn.pipeline import make_pipeline\n",
    "from sklearn.metrics import confusion_matrix\n",
    "from sklearn.metrics import accuracy_score\n",
    "import numpy as np\n",
    "import matplotlib.pyplot as plt\n",
    "import seaborn as sns; sns.set()\n",
    "pd.options.display.max_rows = 100\n",
    "pd.set_option('display.max_columns', None) \n",
    "print(\"DONE\")"
   ]
  },
  {
   "cell_type": "code",
   "execution_count": 2,
   "metadata": {
    "colab": {
     "base_uri": "https://localhost:8080/",
     "height": 504
    },
    "colab_type": "code",
    "executionInfo": {
     "elapsed": 2953,
     "status": "ok",
     "timestamp": 1582551057054,
     "user": {
      "displayName": "Hee Hwang",
      "photoUrl": "",
      "userId": "05361436400321274076"
     },
     "user_tz": 300
    },
    "id": "6XZZPmUtlhGg",
    "janus": {
     "all_versions_showing": false,
     "cell_hidden": true,
     "current_version": 0,
     "id": "b4140f133d1e6",
     "named_versions": [],
     "output_hidden": true,
     "show_versions": false,
     "source_hidden": true,
     "versions": []
    },
    "outputId": "161dab3f-ad00-4e8a-8bb5-99b9f7504581"
   },
   "outputs": [
    {
     "name": "stdout",
     "output_type": "stream",
     "text": [
      "<class 'pandas.core.frame.DataFrame'>\n",
      "RangeIndex: 2777 entries, 0 to 2776\n",
      "Columns: 109 entries, _id to WO-09-00-00-00\n",
      "dtypes: float64(107), object(2)\n",
      "memory usage: 2.3+ MB\n"
     ]
    },
    {
     "data": {
      "text/html": [
       "<div>\n",
       "<style scoped>\n",
       "    .dataframe tbody tr th:only-of-type {\n",
       "        vertical-align: middle;\n",
       "    }\n",
       "\n",
       "    .dataframe tbody tr th {\n",
       "        vertical-align: top;\n",
       "    }\n",
       "\n",
       "    .dataframe thead th {\n",
       "        text-align: right;\n",
       "    }\n",
       "</style>\n",
       "<table border=\"1\" class=\"dataframe\">\n",
       "  <thead>\n",
       "    <tr style=\"text-align: right;\">\n",
       "      <th></th>\n",
       "      <th>_id</th>\n",
       "      <th>full_text</th>\n",
       "      <th>BE-00-00-00-00</th>\n",
       "      <th>BE-01-00-00-00</th>\n",
       "    </tr>\n",
       "  </thead>\n",
       "  <tbody>\n",
       "    <tr>\n",
       "      <th>0</th>\n",
       "      <td>5b60e59cda52255c20cff794</td>\n",
       "      <td>Will he serve time?. Long story short my broth...</td>\n",
       "      <td>0.0</td>\n",
       "      <td>0.0</td>\n",
       "    </tr>\n",
       "    <tr>\n",
       "      <th>1</th>\n",
       "      <td>5b60e59cda52255c20cff79a</td>\n",
       "      <td>Groundwater leaking out of street 24/7. Ground...</td>\n",
       "      <td>0.0</td>\n",
       "      <td>0.0</td>\n",
       "    </tr>\n",
       "    <tr>\n",
       "      <th>2</th>\n",
       "      <td>5b60e59cda52255c20cff7a0</td>\n",
       "      <td>How do I get my mom's license taken away. My m...</td>\n",
       "      <td>0.0</td>\n",
       "      <td>0.0</td>\n",
       "    </tr>\n",
       "    <tr>\n",
       "      <th>3</th>\n",
       "      <td>5b60e59cda52255c20cff7bf</td>\n",
       "      <td>My boss hasn't paid me. What do i do?. I work ...</td>\n",
       "      <td>NaN</td>\n",
       "      <td>NaN</td>\n",
       "    </tr>\n",
       "    <tr>\n",
       "      <th>4</th>\n",
       "      <td>5b60e59cda52255c20cff7b8</td>\n",
       "      <td>[Texas] I signed a non-compete contract, but t...</td>\n",
       "      <td>0.0</td>\n",
       "      <td>0.0</td>\n",
       "    </tr>\n",
       "    <tr>\n",
       "      <th>...</th>\n",
       "      <td>...</td>\n",
       "      <td>...</td>\n",
       "      <td>...</td>\n",
       "      <td>...</td>\n",
       "    </tr>\n",
       "    <tr>\n",
       "      <th>2772</th>\n",
       "      <td>5b60e66dda52255c20df433f</td>\n",
       "      <td>Do you and your parents get deported because o...</td>\n",
       "      <td>0.0</td>\n",
       "      <td>0.0</td>\n",
       "    </tr>\n",
       "    <tr>\n",
       "      <th>2773</th>\n",
       "      <td>5b60e66dda52255c20df43ae</td>\n",
       "      <td>Wondering the legality of a minor (me) being a...</td>\n",
       "      <td>0.0</td>\n",
       "      <td>0.0</td>\n",
       "    </tr>\n",
       "    <tr>\n",
       "      <th>2774</th>\n",
       "      <td>5b60e66dda52255c20df4462</td>\n",
       "      <td>Can I sue a billion dollar company in small cl...</td>\n",
       "      <td>0.0</td>\n",
       "      <td>0.0</td>\n",
       "    </tr>\n",
       "    <tr>\n",
       "      <th>2775</th>\n",
       "      <td>5b60e66dda52255c20df4448</td>\n",
       "      <td>Sued by creditor and currently in settlement n...</td>\n",
       "      <td>0.0</td>\n",
       "      <td>0.0</td>\n",
       "    </tr>\n",
       "    <tr>\n",
       "      <th>2776</th>\n",
       "      <td>5b60e66dda52255c20df4491</td>\n",
       "      <td>(CA) Sales job. Income based on performance. A...</td>\n",
       "      <td>0.0</td>\n",
       "      <td>0.0</td>\n",
       "    </tr>\n",
       "  </tbody>\n",
       "</table>\n",
       "<p>2777 rows × 4 columns</p>\n",
       "</div>"
      ],
      "text/plain": [
       "                           _id  \\\n",
       "0     5b60e59cda52255c20cff794   \n",
       "1     5b60e59cda52255c20cff79a   \n",
       "2     5b60e59cda52255c20cff7a0   \n",
       "3     5b60e59cda52255c20cff7bf   \n",
       "4     5b60e59cda52255c20cff7b8   \n",
       "...                        ...   \n",
       "2772  5b60e66dda52255c20df433f   \n",
       "2773  5b60e66dda52255c20df43ae   \n",
       "2774  5b60e66dda52255c20df4462   \n",
       "2775  5b60e66dda52255c20df4448   \n",
       "2776  5b60e66dda52255c20df4491   \n",
       "\n",
       "                                              full_text  BE-00-00-00-00  \\\n",
       "0     Will he serve time?. Long story short my broth...             0.0   \n",
       "1     Groundwater leaking out of street 24/7. Ground...             0.0   \n",
       "2     How do I get my mom's license taken away. My m...             0.0   \n",
       "3     My boss hasn't paid me. What do i do?. I work ...             NaN   \n",
       "4     [Texas] I signed a non-compete contract, but t...             0.0   \n",
       "...                                                 ...             ...   \n",
       "2772  Do you and your parents get deported because o...             0.0   \n",
       "2773  Wondering the legality of a minor (me) being a...             0.0   \n",
       "2774  Can I sue a billion dollar company in small cl...             0.0   \n",
       "2775  Sued by creditor and currently in settlement n...             0.0   \n",
       "2776  (CA) Sales job. Income based on performance. A...             0.0   \n",
       "\n",
       "      BE-01-00-00-00  \n",
       "0                0.0  \n",
       "1                0.0  \n",
       "2                0.0  \n",
       "3                NaN  \n",
       "4                0.0  \n",
       "...              ...  \n",
       "2772             0.0  \n",
       "2773             0.0  \n",
       "2774             0.0  \n",
       "2775             0.0  \n",
       "2776             0.0  \n",
       "\n",
       "[2777 rows x 4 columns]"
      ]
     },
     "execution_count": 2,
     "metadata": {},
     "output_type": "execute_result"
    }
   ],
   "source": [
    "url = 'https://raw.githubusercontent.com/heeh/legal_issue_classification/master/2019-12-06_95p-confidence_binary.csv'\n",
    "df = pd.read_csv(url)\n",
    "df.info()\n",
    "df.iloc[:,:4]"
   ]
  },
  {
   "cell_type": "markdown",
   "metadata": {
    "janus": {
     "all_versions_showing": false,
     "cell_hidden": false,
     "current_version": 0,
     "id": "1c9646a6871a5",
     "named_versions": [],
     "output_hidden": false,
     "show_versions": false,
     "source_hidden": false,
     "versions": []
    }
   },
   "source": [
    "## Null and Rowsum Check"
   ]
  },
  {
   "cell_type": "code",
   "execution_count": 3,
   "metadata": {
    "colab": {
     "base_uri": "https://localhost:8080/",
     "height": 1000
    },
    "colab_type": "code",
    "executionInfo": {
     "elapsed": 8575,
     "status": "ok",
     "timestamp": 1582551062684,
     "user": {
      "displayName": "Hee Hwang",
      "photoUrl": "",
      "userId": "05361436400321274076"
     },
     "user_tz": 300
    },
    "id": "LWh8RtxFlhKT",
    "janus": {
     "all_versions_showing": false,
     "cell_hidden": true,
     "current_version": 0,
     "id": "46f3ebdce3ec5",
     "named_versions": [],
     "output_hidden": true,
     "show_versions": false,
     "source_hidden": true,
     "versions": []
    },
    "outputId": "8a2616da-2389-4142-c19a-4fadc1b86d66"
   },
   "outputs": [],
   "source": [
    "\n",
    "#Null Check\n",
    "#df.isnull().sum()\n",
    "\n",
    "# Class Check - Remove every column that has zero sum. \n",
    "df = df.loc[:, df.sum(axis=0, skipna=True) != 0]\n",
    "temp = df.sum(axis = 0, skipna = True)\n",
    "\n",
    "\n",
    "#df.info()\n"
   ]
  },
  {
   "cell_type": "markdown",
   "metadata": {
    "janus": {
     "all_versions_showing": false,
     "cell_hidden": false,
     "current_version": 0,
     "id": "6b5f506275a07",
     "named_versions": [],
     "output_hidden": false,
     "show_versions": false,
     "source_hidden": false,
     "versions": []
    }
   },
   "source": [
    "# Remove columns that have <10 positive classes"
   ]
  },
  {
   "cell_type": "code",
   "execution_count": 4,
   "metadata": {
    "janus": {
     "all_versions_showing": false,
     "cell_hidden": true,
     "current_version": 0,
     "id": "da6bfdef8ea13",
     "named_versions": [],
     "output_hidden": true,
     "show_versions": false,
     "source_hidden": true,
     "versions": []
    }
   },
   "outputs": [
    {
     "name": "stdout",
     "output_type": "stream",
     "text": [
      "88\n",
      "36\n",
      "['_id', 'full_text', 'BE-00-00-00-00', 'BU-00-00-00-00', 'CO-00-00-00-00', 'CR-00-00-00-00', 'CR-01-00-00-00', 'CR-04-00-00-00', 'CR-06-00-00-00', 'CR-10-00-00-00', 'ED-00-00-00-00', 'ES-00-00-00-00', 'ES-01-00-00-00', 'ES-03-00-00-00', 'FA-00-00-00-00', 'FA-05-00-00-00', 'FA-06-00-00-00', 'FA-07-00-00-00', 'GO-00-00-00-00', 'HE-00-00-00-00', 'HO-00-00-00-00', 'HO-06-00-00-00', 'HO-09-00-00-00', 'IM-00-00-00-00', 'MO-00-00-00-00', 'MO-02-00-00-00', 'MO-07-00-00-00', 'MO-10-00-00-00', 'RI-00-00-00-00', 'TO-00-00-00-00', 'TR-00-00-00-00', 'TR-01-00-00-00', 'TR-02-00-00-00', 'TR-03-00-00-00', 'TR-04-00-00-00', 'TR-05-00-00-00', 'WO-00-00-00-00', 'WO-03-00-00-00']\n",
      "38\n"
     ]
    },
    {
     "data": {
      "text/plain": [
       "_id               5b60e59cda52255c20cff7945b60e59cda52255c20cff7...\n",
       "full_text         Will he serve time?. Long story short my broth...\n",
       "BE-00-00-00-00                                                   27\n",
       "BU-00-00-00-00                                                   93\n",
       "CO-00-00-00-00                                                  106\n",
       "CR-00-00-00-00                                                  302\n",
       "CR-01-00-00-00                                                   12\n",
       "CR-04-00-00-00                                                   13\n",
       "CR-06-00-00-00                                                   11\n",
       "CR-10-00-00-00                                                   11\n",
       "ED-00-00-00-00                                                   24\n",
       "ES-00-00-00-00                                                   78\n",
       "ES-01-00-00-00                                                   10\n",
       "ES-03-00-00-00                                                   13\n",
       "FA-00-00-00-00                                                  357\n",
       "FA-05-00-00-00                                                   10\n",
       "FA-06-00-00-00                                                   10\n",
       "FA-07-00-00-00                                                   41\n",
       "GO-00-00-00-00                                                   13\n",
       "HE-00-00-00-00                                                  122\n",
       "HO-00-00-00-00                                                  550\n",
       "HO-06-00-00-00                                                   34\n",
       "HO-09-00-00-00                                                   27\n",
       "IM-00-00-00-00                                                   36\n",
       "MO-00-00-00-00                                                  366\n",
       "MO-02-00-00-00                                                   12\n",
       "MO-07-00-00-00                                                   13\n",
       "MO-10-00-00-00                                                   11\n",
       "RI-00-00-00-00                                                   22\n",
       "TO-00-00-00-00                                                  230\n",
       "TR-00-00-00-00                                                  260\n",
       "TR-01-00-00-00                                                   22\n",
       "TR-02-00-00-00                                                   29\n",
       "TR-03-00-00-00                                                   17\n",
       "TR-04-00-00-00                                                   20\n",
       "TR-05-00-00-00                                                   31\n",
       "WO-00-00-00-00                                                  387\n",
       "WO-03-00-00-00                                                   10\n",
       "dtype: object"
      ]
     },
     "execution_count": 4,
     "metadata": {},
     "output_type": "execute_result"
    }
   ],
   "source": [
    "oldCols = list(df.columns)\n",
    "print(len(oldCols))\n",
    "\n",
    "newCols = []\n",
    "for i,x in temp[2:].items():\n",
    "    if x >= 10:\n",
    "        newCols.append(i)\n",
    "        \n",
    "print(len(newCols))\n",
    "\n",
    "cols = oldCols[:2] + newCols\n",
    "\n",
    "print(cols)\n",
    "print(len(cols))\n",
    "\n",
    "df = df[cols]\n",
    "\n",
    "df.sum(axis=0, skipna=True)"
   ]
  },
  {
   "cell_type": "markdown",
   "metadata": {
    "colab_type": "text",
    "id": "zB9yYBXlrN7p",
    "janus": {
     "all_versions_showing": false,
     "cell_hidden": false,
     "current_version": 0,
     "id": "8f56427cc56eb",
     "named_versions": [],
     "output_hidden": false,
     "show_versions": false,
     "source_hidden": false,
     "versions": []
    }
   },
   "source": [
    "# Tiny Example: Crime and Prison(CR-00-00-00-00)\n"
   ]
  },
  {
   "cell_type": "markdown",
   "metadata": {
    "colab_type": "text",
    "id": "KoY-GYaJeHkk",
    "janus": {
     "all_versions_showing": false,
     "cell_hidden": false,
     "current_version": 0,
     "id": "cf617134b9c83",
     "named_versions": [],
     "output_hidden": false,
     "show_versions": false,
     "source_hidden": false,
     "versions": []
    }
   },
   "source": [
    "## Preprocessing (DONE)"
   ]
  },
  {
   "cell_type": "code",
   "execution_count": 5,
   "metadata": {
    "colab": {
     "base_uri": "https://localhost:8080/",
     "height": 663
    },
    "colab_type": "code",
    "executionInfo": {
     "elapsed": 8562,
     "status": "ok",
     "timestamp": 1582551062685,
     "user": {
      "displayName": "Hee Hwang",
      "photoUrl": "",
      "userId": "05361436400321274076"
     },
     "user_tz": 300
    },
    "id": "8WqotY32rOEs",
    "janus": {
     "all_versions_showing": false,
     "cell_hidden": true,
     "current_version": 0,
     "id": "455af60adbcad",
     "named_versions": [],
     "output_hidden": true,
     "show_versions": false,
     "source_hidden": true,
     "versions": []
    },
    "outputId": "b16f4dc2-bb9c-43d8-ad00-083a13c9b77e"
   },
   "outputs": [],
   "source": [
    "from collections import defaultdict\n",
    "verbose = True\n",
    "def preprocessing(dfset: defaultdict, cls: str):\n",
    "    dfset[cls] = df.loc[:, ['_id', 'full_text', cls]]\n",
    "    labels = dfset[cls].iloc[:,2]\n",
    "    if verbose:\n",
    "        print(\"------------Before dropping nan----------------------------------------\")\n",
    "        print(dfset[cls].iloc[:,1:])\n",
    "        print(labels.value_counts(dropna=False))\n",
    "    \n",
    "    dfset[cls] = dfset[cls].dropna()\n",
    "    labels = dfset[cls].iloc[:,2]\n",
    "    if verbose:\n",
    "        print(\"\\n------------After dropping nan---------------------------------------\")\n",
    "        print(dfset[cls].iloc[:,1:])\n",
    "        print(labels.value_counts(dropna=False))\n",
    "\n"
   ]
  },
  {
   "cell_type": "markdown",
   "metadata": {
    "janus": {
     "all_versions_showing": false,
     "cell_hidden": false,
     "current_version": 0,
     "id": "11459136fca6",
     "named_versions": [],
     "output_hidden": false,
     "show_versions": false,
     "source_hidden": false,
     "versions": []
    }
   },
   "source": [
    "## Data Preparation"
   ]
  },
  {
   "cell_type": "code",
   "execution_count": 6,
   "metadata": {
    "janus": {
     "all_versions_showing": false,
     "cell_hidden": true,
     "current_version": 0,
     "id": "11e5448bf4137",
     "named_versions": [],
     "output_hidden": true,
     "show_versions": false,
     "source_hidden": true,
     "versions": []
    }
   },
   "outputs": [
    {
     "name": "stdout",
     "output_type": "stream",
     "text": [
      "------------Before dropping nan----------------------------------------\n",
      "                                              full_text  CR-00-00-00-00\n",
      "0     Will he serve time?. Long story short my broth...             1.0\n",
      "1     Groundwater leaking out of street 24/7. Ground...             0.0\n",
      "2     How do I get my mom's license taken away. My m...             NaN\n",
      "3     My boss hasn't paid me. What do i do?. I work ...             0.0\n",
      "4     [Texas] I signed a non-compete contract, but t...             0.0\n",
      "...                                                 ...             ...\n",
      "2772  Do you and your parents get deported because o...             1.0\n",
      "2773  Wondering the legality of a minor (me) being a...             0.0\n",
      "2774  Can I sue a billion dollar company in small cl...             0.0\n",
      "2775  Sued by creditor and currently in settlement n...             0.0\n",
      "2776  (CA) Sales job. Income based on performance. A...             0.0\n",
      "\n",
      "[2777 rows x 2 columns]\n",
      "0.0    1377\n",
      "NaN    1098\n",
      "1.0     302\n",
      "Name: CR-00-00-00-00, dtype: int64\n",
      "\n",
      "------------After dropping nan---------------------------------------\n",
      "                                              full_text  CR-00-00-00-00\n",
      "0     Will he serve time?. Long story short my broth...             1.0\n",
      "1     Groundwater leaking out of street 24/7. Ground...             0.0\n",
      "3     My boss hasn't paid me. What do i do?. I work ...             0.0\n",
      "4     [Texas] I signed a non-compete contract, but t...             0.0\n",
      "6     Eviction. I got an eviction notice from my lan...             0.0\n",
      "...                                                 ...             ...\n",
      "2772  Do you and your parents get deported because o...             1.0\n",
      "2773  Wondering the legality of a minor (me) being a...             0.0\n",
      "2774  Can I sue a billion dollar company in small cl...             0.0\n",
      "2775  Sued by creditor and currently in settlement n...             0.0\n",
      "2776  (CA) Sales job. Income based on performance. A...             0.0\n",
      "\n",
      "[1679 rows x 2 columns]\n",
      "0.0    1377\n",
      "1.0     302\n",
      "Name: CR-00-00-00-00, dtype: int64\n"
     ]
    }
   ],
   "source": [
    "\n",
    "cls = 'CR-00-00-00-00'\n",
    "dfset = defaultdict() \n",
    "preprocessing(dfset, cls)    \n",
    "\n",
    "#    model[cls] = make_pipeline(TfidfVectorizer(), MultinomialNB())\n",
    "tinydf = dfset[cls]\n",
    "X = tinydf['full_text'].values\n",
    "Y = tinydf[cls].values\n"
   ]
  },
  {
   "cell_type": "markdown",
   "metadata": {},
   "source": [
    "# TF-IDF"
   ]
  },
  {
   "cell_type": "markdown",
   "metadata": {
    "janus": {
     "all_versions_showing": false,
     "cell_hidden": false,
     "current_version": 0,
     "id": "c3f6dd86ac10d",
     "named_versions": [],
     "output_hidden": false,
     "show_versions": false,
     "source_hidden": false,
     "versions": []
    }
   },
   "source": [
    "## TF-IDF using stopwords, ngram, and C value"
   ]
  },
  {
   "cell_type": "code",
   "execution_count": 7,
   "metadata": {
    "janus": {
     "all_versions_showing": false,
     "cell_hidden": true,
     "current_version": 0,
     "id": "722be740702ee",
     "named_versions": [],
     "output_hidden": true,
     "show_versions": false,
     "source_hidden": true,
     "versions": []
    }
   },
   "outputs": [
    {
     "name": "stdout",
     "output_type": "stream",
     "text": [
      "accuracy : 0.9148\n",
      "precision: 0.6333\n",
      "recall   : 0.8261\n",
      "fscore   : 0.7170\n",
      "TF-IDF Dimension:  127258\n"
     ]
    }
   ],
   "source": [
    "import sys\n",
    "from sklearn.linear_model import LogisticRegression\n",
    "from sklearn.metrics import precision_recall_fscore_support as score\n",
    "from sklearn.model_selection import GridSearchCV\n",
    "from sklearn.metrics import log_loss, make_scorer\n",
    "p = len(X) // 10 * 9\n",
    "#tfidf_vect = TfidfVectorizer(stop_words='english', ngram_range=(1, 2), max_df=300 )\n",
    "tfidf_vect = TfidfVectorizer(stop_words='english', ngram_range=(1, 2), max_df=0.3)\n",
    "tfidf_vect.fit(X[0:p])\n",
    "X_train_tfidf_vect = tfidf_vect.transform(X[0:p])\n",
    "X_test_tfidf_vect = tfidf_vect.transform(X[p:])\n",
    "\n",
    "model = LogisticRegression(penalty='l1', solver='liblinear', class_weight='balanced')\n",
    "model.fit(X_train_tfidf_vect, Y[0:p])\n",
    "preds = model.predict(X_test_tfidf_vect)\n",
    "precision, recall, fscore, support = score(Y[p:], preds, average='binary')\n",
    "print('accuracy : {0:.4f}'.format(accuracy_score(Y[p:], preds)))\n",
    "print('precision: {0:.4f}'.format(precision))\n",
    "print('recall   : {0:.4f}'.format(recall))\n",
    "print('fscore   : {0:.4f}'.format(fscore))\n",
    "\n",
    "print(\"TF-IDF Dimension: \", len(tfidf_vect.vocabulary_))\n"
   ]
  },
  {
   "cell_type": "markdown",
   "metadata": {},
   "source": [
    "## Optimize model using gridsearch, cross validation, and log_loss"
   ]
  },
  {
   "cell_type": "code",
   "execution_count": 8,
   "metadata": {},
   "outputs": [
    {
     "name": "stderr",
     "output_type": "stream",
     "text": [
      "/Users/heeh/.pyenv/versions/3.8.0/lib/python3.8/site-packages/sklearn/svm/_base.py:946: ConvergenceWarning: Liblinear failed to converge, increase the number of iterations.\n",
      "  warnings.warn(\"Liblinear failed to converge, increase \"\n"
     ]
    },
    {
     "name": "stdout",
     "output_type": "stream",
     "text": [
      "LogisticRegression(C=2048.0, class_weight='balanced', dual=False,\n",
      "                   fit_intercept=True, intercept_scaling=1, l1_ratio=None,\n",
      "                   max_iter=1000, multi_class='auto', n_jobs=None, penalty='l1',\n",
      "                   random_state=None, solver='liblinear', tol=0.0001, verbose=0,\n",
      "                   warm_start=False)\n",
      "accuracy : 0.9375\n",
      "precision: 0.7727\n",
      "recall   : 0.7391\n",
      "fscore   : 0.7556\n"
     ]
    }
   ],
   "source": [
    "parameters = {'C': [1.0/2.0**reg for reg in np.arange(-12, 12)]}\n",
    "lr = LogisticRegression(penalty='l1', solver='liblinear', class_weight='balanced', max_iter=1000)\n",
    "grid_search = GridSearchCV(lr, parameters, cv=10, refit=True, \n",
    "                           scoring=make_scorer(log_loss, greater_is_better=False))\n",
    "grid_search.fit(X_train_tfidf_vect, Y[:p])\n",
    "best_model = grid_search.best_estimator_\n",
    "print(best_model)\n",
    "\n",
    "preds = best_model.predict(X_test_tfidf_vect)\n",
    "precision, recall, fscore, support = score(Y[p:], preds, average='binary')\n",
    "print('accuracy : {0:.4f}'.format(accuracy_score(Y[p:], preds)))\n",
    "print('precision: {0:.4f}'.format(precision))\n",
    "print('recall   : {0:.4f}'.format(recall))\n",
    "print('fscore   : {0:.4f}'.format(fscore))"
   ]
  },
  {
   "cell_type": "markdown",
   "metadata": {
    "janus": {
     "all_versions_showing": false,
     "cell_hidden": true,
     "current_version": 0,
     "id": "8dd4a61345312",
     "named_versions": [],
     "output_hidden": true,
     "show_versions": false,
     "source_hidden": true,
     "versions": []
    }
   },
   "source": [
    "## TF-IDF + Logistic Regression on CR-00-00-00-00"
   ]
  },
  {
   "cell_type": "code",
   "execution_count": 9,
   "metadata": {
    "janus": {
     "all_versions_showing": false,
     "cell_hidden": false,
     "current_version": 0,
     "id": "92abe0eecdd5d",
     "named_versions": [],
     "output_hidden": false,
     "show_versions": false,
     "source_hidden": false,
     "versions": []
    }
   },
   "outputs": [
    {
     "name": "stdout",
     "output_type": "stream",
     "text": [
      "------------------------------------\n",
      "\n",
      "0.0    1377\n",
      "1.0     302\n",
      "Name: CR-00-00-00-00, dtype: int64\n",
      "data set size 1679\n"
     ]
    },
    {
     "data": {
      "text/plain": [
       "(0.8886, 0.6667, 0.7616, 0.711, 302)"
      ]
     },
     "execution_count": 9,
     "metadata": {},
     "output_type": "execute_result"
    }
   ],
   "source": [
    "from sklearn.model_selection import KFold\n",
    "from sklearn.metrics import accuracy_score\n",
    "from sklearn.metrics import precision_score\n",
    "from sklearn.metrics import recall_score\n",
    "from sklearn.metrics import f1_score\n",
    "from sklearn.metrics import precision_recall_fscore_support as score\n",
    "from sklearn.linear_model import LogisticRegression\n",
    "\n",
    "def predict_by_class_tfidf(dfset: defaultdict,cls: str, model) -> float:\n",
    "    preprocessing(dfset, cls)\n",
    "    tinydf = dfset[cls]\n",
    "    X = tinydf['full_text'].values\n",
    "    Y = tinydf[cls].values\n",
    "    print('------------------------------------\\n')\n",
    "    labels = dfset[cls].iloc[:,2]\n",
    "    print(labels.value_counts(dropna=False))\n",
    "\n",
    "    kfold = KFold(n_splits=10)\n",
    "    print('data set size', len(X))\n",
    "    numdoc[cls] = len(X)\n",
    "    n_iter = 0\n",
    "    acc_list = []\n",
    "    pre_list = []\n",
    "    rec_list = []\n",
    "    fsc_list = []\n",
    "    sup_list = []\n",
    "    preds = [0] * len(Y)\n",
    "\n",
    "    for train_index, test_index in kfold.split(X, Y):\n",
    "        X_train, X_test = X[train_index], X[test_index] \n",
    "        Y_train, Y_test = Y[train_index], Y[test_index] \n",
    "        \n",
    "        tfidf_vect = TfidfVectorizer(stop_words='english', ngram_range=(1, 2), max_df=0.3)\n",
    "        tfidf_vect.fit(X_train)\n",
    "        X_train_tfidf = tfidf_vect.transform(X_train)\n",
    "        X_test_tfidf = tfidf_vect.transform(X_test)\n",
    "        \n",
    "        model.fit(X_train_tfidf, Y_train)\n",
    "        out = model.predict(X_test_tfidf)\n",
    "        i = 0\n",
    "        for x in test_index:\n",
    "            preds[x] = out[i]\n",
    "            i += 1\n",
    "        n_iter += 1\n",
    "        \n",
    "    accuracy = accuracy_score(Y, preds)\n",
    "    precision, recall, fscore, support = score(Y, preds)\n",
    "    # accuracy: (tp + tn) / (p + n)\n",
    "    # precision tp / (tp + fp)\n",
    "    # recall: tp / (tp + fn)\n",
    "    # f1: 2 tp / (2 tp + fp + fn)\n",
    "    accuracy = np.round(accuracy, 4)\n",
    "    precision[1] = np.round(precision[1], 4)\n",
    "    recall[1] = np.round(recall[1], 4)\n",
    "    fscore[1] = np.round(fscore[1], 4)\n",
    "    support[1] = np.round(support[1], 4)    \n",
    "    return (accuracy, precision[1], recall[1], fscore[1], support[1])\n",
    "\n",
    "verbose = False \n",
    "numdoc = defaultdict()\n",
    "model = LogisticRegression(penalty='l1', solver='liblinear', class_weight='balanced', max_iter=1000)\n",
    "cls = 'CR-00-00-00-00'\n",
    "\n",
    "predict_by_class_tfidf(dfset, cls, model)"
   ]
  },
  {
   "cell_type": "markdown",
   "metadata": {},
   "source": [
    "## TFIDF Hyperparameter Selection "
   ]
  },
  {
   "cell_type": "code",
   "execution_count": 10,
   "metadata": {},
   "outputs": [],
   "source": [
    "from tqdm import tqdm\n",
    "\n",
    "classifier = defaultdict()\n",
    "\n",
    "\n",
    "def predict_by_class_gridcv(dfset: defaultdict,cls: str):\n",
    "    preprocessing(dfset, cls)\n",
    "    tinydf = dfset[cls]\n",
    "    X = tinydf['full_text'].values\n",
    "    Y = tinydf[cls].values\n",
    "    print('------------------------------------\\n')\n",
    "    labels = dfset[cls].iloc[:,2]\n",
    "    print(labels.value_counts(dropna=False))\n",
    "\n",
    "    kfold = KFold(n_splits=10)\n",
    "    print('data set size', len(X))\n",
    "    numdoc[cls] = len(X)\n",
    "    n_iter = 0\n",
    "    acc_list = []\n",
    "    pre_list = []\n",
    "    rec_list = []\n",
    "    fsc_list = []\n",
    "    sup_list = []\n",
    "    preds = [0] * len(Y)\n",
    "    probs = [0] * len(Y)\n",
    "    \n",
    "    best_recall = 0\n",
    "    best_accuracy = 0\n",
    "    best_precision = 0\n",
    "    best_fscore = 0\n",
    "    best_support = 0\n",
    "    best_model = 0\n",
    "    \n",
    "    best_logloss = 1\n",
    "    \n",
    "    for c in tqdm([1.0/2.0**reg for reg in np.arange(-12, 12)]):\n",
    "        print('C:', c)\n",
    "        model = LogisticRegression(penalty='l1', solver='liblinear', class_weight='balanced', C = c)\n",
    "    \n",
    "        for train_index, test_index in kfold.split(X, Y):\n",
    "            X_train, X_test = X[train_index], X[test_index] \n",
    "            Y_train, Y_test = Y[train_index], Y[test_index] \n",
    "\n",
    "            tfidf_vect = TfidfVectorizer(stop_words='english', ngram_range=(1, 2), max_df=0.3)\n",
    "            tfidf_vect.fit(X_train)\n",
    "            X_train_tfidf = tfidf_vect.transform(X_train)\n",
    "            X_test_tfidf = tfidf_vect.transform(X_test)\n",
    "\n",
    "            model.fit(X_train_tfidf, Y_train)\n",
    "            out = model.predict(X_test_tfidf)\n",
    "            prob = model.predict_proba(X_test_tfidf)\n",
    "            i = 0\n",
    "            for x in test_index:\n",
    "                preds[x] = out[i]\n",
    "                probs[x] = prob[i]\n",
    "                i += 1\n",
    "            n_iter += 1\n",
    "\n",
    "        \n",
    "        custom_logloss = log_loss(Y, probs)\n",
    "        print(custom_logloss)\n",
    "        \n",
    "        \n",
    "        \n",
    "        \n",
    "        accuracy = accuracy_score(Y, preds)\n",
    "        precision, recall, fscore, support = score(Y, preds)\n",
    "        # accuracy: (tp + tn) / (p + n)\n",
    "        # precision tp / (tp + fp)\n",
    "        # recall: tp / (tp + fn)\n",
    "        # f1: 2 tp / (2 tp + fp + fn)\n",
    "        accuracy = np.round(accuracy, 4)\n",
    "        precision[1] = np.round(precision[1], 4)\n",
    "        recall[1] = np.round(recall[1], 4)\n",
    "        fscore[1] = np.round(fscore[1], 4)\n",
    "        support[1] = np.round(support[1], 4)    \n",
    "#        print(accuracy, precision[1], recall[1], fscore[1], support[1])\n",
    "        \n",
    "        #if best_recall < recall[1]: #For best recall score\n",
    "        if best_logloss > custom_logloss: \n",
    "            best_logloss = custom_logloss\n",
    "            best_accuracy = accuracy\n",
    "            best_recall = recall[1]\n",
    "            best_precision = precision[1]\n",
    "            best_fscore = fscore[1]\n",
    "            best_support = support[1]\n",
    "            best_model = model\n",
    "            \n",
    "    classifier[cls] = best_model\n",
    "    return (best_accuracy, best_precision, best_recall, best_fscore, best_support)\n",
    "\n",
    "\n",
    "numdoc = defaultdict()\n",
    "\n",
    "cls = 'CR-00-00-00-00'\n",
    "\n",
    "#print(predict_by_class_gridcv(dfset, cls))"
   ]
  },
  {
   "cell_type": "markdown",
   "metadata": {},
   "source": [
    "# GloVE"
   ]
  },
  {
   "cell_type": "markdown",
   "metadata": {
    "janus": {
     "all_versions_showing": false,
     "cell_hidden": false,
     "current_version": 0,
     "id": "0484da46afac2",
     "named_versions": [],
     "output_hidden": false,
     "show_versions": false,
     "source_hidden": false,
     "versions": []
    }
   },
   "source": [
    "## Download and Load GloVe"
   ]
  },
  {
   "cell_type": "code",
   "execution_count": 11,
   "metadata": {
    "janus": {
     "all_versions_showing": false,
     "cell_hidden": true,
     "current_version": 0,
     "id": "dfd2a43208cde",
     "named_versions": [],
     "output_hidden": true,
     "show_versions": false,
     "source_hidden": true,
     "versions": []
    }
   },
   "outputs": [
    {
     "name": "stderr",
     "output_type": "stream",
     "text": [
      "400000it [00:05, 72110.71it/s]"
     ]
    },
    {
     "name": "stdout",
     "output_type": "stream",
     "text": [
      "Found 400000 word vectors.\n"
     ]
    },
    {
     "name": "stderr",
     "output_type": "stream",
     "text": [
      "\n"
     ]
    }
   ],
   "source": [
    "#!wget http://nlp.stanford.edu/data/glove.6B.zip\n",
    "#!unzip glove.6B.zip\n",
    "import numpy as np\n",
    "import pandas as pd\n",
    "\n",
    "\n",
    "from sklearn.feature_extraction.text import TfidfVectorizer\n",
    "from sklearn.linear_model import LogisticRegression\n",
    "from sklearn.model_selection import cross_val_score\n",
    "from scipy.sparse import hstack\n",
    "\n",
    "\n",
    "\n",
    "from nltk import word_tokenize\n",
    "from nltk.corpus import stopwords\n",
    "from nltk import punkt\n",
    "stop_words = stopwords.words('english')\n",
    "from tqdm import tqdm\n",
    "\n",
    "import sys\n",
    "from sklearn.linear_model import LogisticRegression\n",
    "from sklearn.metrics import precision_recall_fscore_support as score\n",
    "from sklearn.model_selection import GridSearchCV\n",
    "from sklearn.metrics import log_loss, make_scorer\n",
    "\n",
    "\n",
    "\n",
    "embeddings_index = {}\n",
    "f = open('glove.6B.50d.txt', encoding=\"utf8\")\n",
    "for line in tqdm(f):\n",
    "    values = line.split()\n",
    "    word = values[0]\n",
    "    try:\n",
    "        coefs = np.asarray(values[1:], dtype='float32')\n",
    "        embeddings_index[word] = coefs\n",
    "    except ValueError:\n",
    "        pass\n",
    "f.close()\n",
    "print('Found %s word vectors.' % len(embeddings_index))"
   ]
  },
  {
   "cell_type": "markdown",
   "metadata": {
    "janus": {
     "all_versions_showing": false,
     "cell_hidden": false,
     "current_version": 0,
     "id": "80878b118e62d",
     "named_versions": [],
     "output_hidden": false,
     "show_versions": false,
     "source_hidden": false,
     "versions": []
    }
   },
   "source": [
    "## GloVe Train & Predict"
   ]
  },
  {
   "cell_type": "code",
   "execution_count": 12,
   "metadata": {
    "janus": {
     "all_versions_showing": false,
     "cell_hidden": false,
     "current_version": 0,
     "id": "effddb85e9eee",
     "named_versions": [],
     "output_hidden": false,
     "show_versions": false,
     "source_hidden": false,
     "versions": []
    },
    "scrolled": true
   },
   "outputs": [
    {
     "name": "stderr",
     "output_type": "stream",
     "text": [
      "  3%|▎         | 50/1503 [00:00<00:02, 498.69it/s]"
     ]
    },
    {
     "name": "stdout",
     "output_type": "stream",
     "text": [
      "Checkpoint1 - Data Read Complete\n"
     ]
    },
    {
     "name": "stderr",
     "output_type": "stream",
     "text": [
      "100%|██████████| 1503/1503 [00:03<00:00, 488.54it/s]\n",
      " 24%|██▍       | 43/176 [00:00<00:00, 429.79it/s]"
     ]
    },
    {
     "name": "stdout",
     "output_type": "stream",
     "text": [
      "Mean Train Word Hit Rate(\\%) 99.58181372991224\n"
     ]
    },
    {
     "name": "stderr",
     "output_type": "stream",
     "text": [
      "100%|██████████| 176/176 [00:00<00:00, 527.15it/s]\n"
     ]
    },
    {
     "name": "stdout",
     "output_type": "stream",
     "text": [
      "Mean Test Word Hit Rate(\\%) 99.61077662227088\n",
      "Checkpoint2 -Normalized Vector for Sentences are created\n",
      "[0. 0. 0. 1. 0. 0. 0. 0. 0. 0. 1. 1. 0. 0. 0. 0. 0. 0. 0. 0. 0. 0. 0. 1.\n",
      " 1. 0. 0. 0. 0. 0. 1. 0. 1. 0. 0. 0. 0. 0. 1. 0. 1. 0. 1. 0. 0. 0. 0. 0.\n",
      " 0. 0. 0. 0. 0. 1. 0. 0. 1. 0. 0. 0. 0. 0. 0. 1. 0. 0. 0. 1. 0. 0. 0. 0.\n",
      " 0. 1. 0. 0. 0. 1. 0. 0. 0. 0. 1. 0. 1. 1. 0. 0. 0. 0. 1. 0. 0. 0. 0. 0.\n",
      " 1. 1. 0. 0. 1. 0. 0. 0. 0. 1. 0. 1. 0. 0. 0. 0. 0. 0. 1. 0. 1. 0. 0. 1.\n",
      " 1. 1. 0. 1. 0. 0. 0. 1. 0. 0. 0. 0. 1. 0. 0. 1. 1. 0. 1. 0. 0. 0. 1. 0.\n",
      " 0. 0. 0. 0. 0. 0. 0. 1. 0. 0. 1. 0. 0. 0. 1. 0. 0. 0. 0. 0. 0. 1. 1. 0.\n",
      " 0. 0. 0. 1. 0. 0. 0. 0.]\n",
      "accuracy: 0.875\n",
      "precision: [0.9924812  0.51162791]\n",
      "recall: [0.8627451  0.95652174]\n",
      "fscore: [0.92307692 0.66666667]\n",
      "support: [153  23]\n"
     ]
    }
   ],
   "source": [
    "cls = 'CR-00-00-00-00'\n",
    "\n",
    "\n",
    "\n",
    "# Train and Test Split\n",
    "p = len(X) // 10 * 9\n",
    "train_text = X[:p]\n",
    "test_text = X[p:]\n",
    "\n",
    "\n",
    "print(\"Checkpoint1 - Data Read Complete\")\n",
    "\n",
    "\n",
    "hit = 0\n",
    "all_words = 0\n",
    "# this function creates a normalized vector for the whole sentence\n",
    "def sent2vec(s):\n",
    "    global hit, all_words\n",
    "    words = str(s).lower()\n",
    "    words = word_tokenize(words)\n",
    "    words = [w for w in words if not w in stop_words]\n",
    "    words = [w for w in words if w.isalpha()]\n",
    "    M = []\n",
    "    for w in words:\n",
    "        try:\n",
    "            M.append(embeddings_index[w])\n",
    "        except:\n",
    "            continue\n",
    "    hit += len(M)\n",
    "    all_words += len(words)\n",
    "    \n",
    "    M = np.array(M)\n",
    "    v = M.sum(axis=0)\n",
    "    if type(v) != np.ndarray:\n",
    "        return np.zeros(300)\n",
    "    return v / np.sqrt((v ** 2).sum())\n",
    "\n",
    "# create sentence vectors using the above function for training and validation set\n",
    "xtrain_glove = [sent2vec(x) for x in tqdm(train_text)]\n",
    "\n",
    "print('Mean Train Word Hit Rate(\\%)', hit / all_words * 100)\n",
    "hit = 0\n",
    "all_words = 0\n",
    "\n",
    "xtest_glove = [sent2vec(x) for x in tqdm(test_text)]\n",
    "print('Mean Test Word Hit Rate(\\%)', hit / all_words * 100)\n",
    "\n",
    "print('Checkpoint2 -Normalized Vector for Sentences are created')\n",
    "\n",
    "xtrain_glove = np.array(xtrain_glove)\n",
    "xtest_glove = np.array(xtest_glove)\n",
    "\n",
    "model = LogisticRegression(penalty='l1', solver='liblinear', class_weight='balanced')\n",
    "\n",
    "train_target = Y[:p]\n",
    "test_target = Y[p:]\n",
    "\n",
    "model.fit(xtrain_glove, train_target)\n",
    "preds = model.predict(xtest_glove)\n",
    "\n",
    "print(preds)\n",
    "accuracy = accuracy_score(test_target, preds)\n",
    "precision, recall, fscore, support = score(test_target, preds)\n",
    "print('accuracy: {}'.format(accuracy))\n",
    "print('precision: {}'.format(precision))\n",
    "print('recall: {}'.format(recall))\n",
    "print('fscore: {}'.format(fscore))\n",
    "print('support: {}'.format(support))"
   ]
  },
  {
   "cell_type": "markdown",
   "metadata": {
    "janus": {
     "all_versions_showing": false,
     "cell_hidden": false,
     "current_version": 0,
     "id": "36c031454b0fc",
     "named_versions": [],
     "output_hidden": false,
     "show_versions": false,
     "source_hidden": false,
     "versions": []
    }
   },
   "source": [
    "## GloVE + Logistic Regression on CR-00-00-00-00"
   ]
  },
  {
   "cell_type": "code",
   "execution_count": 19,
   "metadata": {
    "janus": {
     "all_versions_showing": false,
     "cell_hidden": false,
     "current_version": 0,
     "id": "b4c41c9fe8b0c",
     "named_versions": [],
     "output_hidden": false,
     "show_versions": false,
     "source_hidden": false,
     "versions": []
    }
   },
   "outputs": [
    {
     "name": "stderr",
     "output_type": "stream",
     "text": [
      "100%|██████████| 1679/1679 [00:03<00:00, 518.04it/s]\n"
     ]
    },
    {
     "name": "stdout",
     "output_type": "stream",
     "text": [
      "------------------------------------\n",
      "\n",
      "0.0    1377\n",
      "1.0     302\n",
      "Name: CR-00-00-00-00, dtype: int64\n",
      "data set size 1679\n",
      "Checkpoint2 -Normalized Vector for Sentences are created\n",
      "logloss: 0.3465\n",
      "brierloss:  0.1049\n"
     ]
    },
    {
     "data": {
      "text/plain": [
       "(0.8582, 0.5717, 0.8444, 0.6818, 302, 0.3465, 0.1049)"
      ]
     },
     "execution_count": 19,
     "metadata": {},
     "output_type": "execute_result"
    }
   ],
   "source": [
    "from sklearn.model_selection import KFold\n",
    "from sklearn.model_selection import StratifiedKFold\n",
    "from sklearn.metrics import accuracy_score\n",
    "from sklearn.metrics import precision_score\n",
    "from sklearn.metrics import recall_score\n",
    "from sklearn.metrics import f1_score\n",
    "from sklearn.metrics import precision_recall_fscore_support as score\n",
    "from sklearn.linear_model import LogisticRegression\n",
    "from sklearn.metrics import make_scorer\n",
    "from sklearn.metrics import brier_score_loss\n",
    "\n",
    "verbose = False\n",
    "    \n",
    "numdoc = defaultdict()\n",
    "\n",
    "classifier = defaultdict()\n",
    "\n",
    "    \n",
    "def predict_by_class_glove(dfset: defaultdict,cls: str) -> float:\n",
    "    preprocessing(dfset, cls)\n",
    "    tinydf = dfset[cls]\n",
    "    X = tinydf['full_text'].values\n",
    "    Y = tinydf[cls].values\n",
    "    X_glove = [sent2vec(x) for x in tqdm(X)]\n",
    "    X_glove = np.array(X_glove)\n",
    "\n",
    "    print('------------------------------------\\n')\n",
    "    labels = dfset[cls].iloc[:,2]\n",
    "    print(labels.value_counts(dropna=False))\n",
    "\n",
    "    # 10-fold separation with train and test \n",
    "    #kfold = KFold(n_splits=10)\n",
    "    kfold = KFold(n_splits=10)\n",
    "    print('data set size', len(X))\n",
    "    numdoc[cls] = len(X)\n",
    "    n_iter = 0\n",
    "    acc_list = []\n",
    "    pre_list = []\n",
    "    rec_list = []\n",
    "    fsc_list = []\n",
    "    sup_list = []\n",
    "\n",
    "    \n",
    "    preds = [0] * len(Y)\n",
    "    probs = [0] * len(Y)\n",
    "    \n",
    "    print('Checkpoint2 -Normalized Vector for Sentences are created')\n",
    "    \n",
    "\n",
    "\n",
    "    for train_index, test_index in kfold.split(X_glove, Y):\n",
    "\n",
    "        X_train, X_test = X_glove[train_index], X_glove[test_index] \n",
    "        Y_train, Y_test = Y[train_index], Y[test_index]\n",
    "\n",
    "        # Scikit-Learn\n",
    "        classifier[cls] = LogisticRegression(penalty='l1', solver='liblinear', class_weight='balanced', max_iter=1000)\n",
    "        classifier[cls].fit(X_train, Y_train)\n",
    "        out = classifier[cls].predict(X_test)\n",
    "        prob = classifier[cls].predict_proba(X_test)[:,1]\n",
    "        \n",
    "        \n",
    "\n",
    "        #print(len(out))\n",
    "        i = 0\n",
    "        for x in test_index:\n",
    "            preds[x] = out[i]\n",
    "            probs[x] = prob[i]\n",
    "            i += 1\n",
    "            \n",
    "        #print(preds)\n",
    "\n",
    "        n_iter += 1\n",
    "        \n",
    "    custom_logloss = np.round(log_loss(Y, probs), 4)\n",
    "    custom_brierloss = np.round(brier_score_loss(Y, probs), 4)\n",
    "    print('logloss:', custom_logloss)\n",
    "    print('brierloss: ',custom_brierloss)\n",
    "    \n",
    "    accuracy = accuracy_score(Y, preds)\n",
    "    precision, recall, fscore, support = score(Y, preds)\n",
    "    # accuracy: (tp + tn) / (p + n)\n",
    "    # precision tp / (tp + fp)\n",
    "    # recall:   tp / (tp + fn)\n",
    "    # f1: 2 tp / (2 tp + fp + fn)\n",
    "    accuracy = np.round(accuracy, 4)\n",
    "    precision[1] = np.round(precision[1], 4)\n",
    "    recall[1] = np.round(recall[1], 4)\n",
    "    fscore[1] = np.round(fscore[1], 4)\n",
    "    support[1] = np.round(support[1], 4)\n",
    "    \n",
    "    \n",
    "    return (accuracy, precision[1], recall[1], fscore[1], support[1], custom_logloss, custom_brierloss)\n",
    "\n",
    "\n",
    "\n",
    "#cls = 'BE-00-00-00-00'\n",
    "cls = 'CR-00-00-00-00'\n",
    "predict_by_class_glove(dfset, cls)"
   ]
  },
  {
   "cell_type": "markdown",
   "metadata": {},
   "source": [
    "## GloVe GridSearch"
   ]
  },
  {
   "cell_type": "code",
   "execution_count": 20,
   "metadata": {},
   "outputs": [],
   "source": [
    "from sklearn.model_selection import KFold\n",
    "from sklearn.model_selection import StratifiedKFold\n",
    "from sklearn.metrics import accuracy_score\n",
    "from sklearn.metrics import precision_score\n",
    "from sklearn.metrics import recall_score\n",
    "from sklearn.metrics import f1_score\n",
    "from sklearn.metrics import precision_recall_fscore_support as score\n",
    "from sklearn.linear_model import LogisticRegression\n",
    "from sklearn.metrics import make_scorer\n",
    "\n",
    "verbose = False\n",
    "numdoc = defaultdict()\n",
    "classifier = defaultdict()\n",
    "\n",
    "    \n",
    "def predict_by_class_glove_grid(dfset: defaultdict,cls: str) -> float:\n",
    "    preprocessing(dfset, cls)\n",
    "    tinydf = dfset[cls]\n",
    "    X = tinydf['full_text'].values\n",
    "    Y = tinydf[cls].values\n",
    "    X_glove = [sent2vec(x) for x in tqdm(X)]\n",
    "    X_glove = np.array(X_glove)\n",
    "\n",
    "    print('------------------------------------\\n')\n",
    "    labels = dfset[cls].iloc[:,2]\n",
    "    print(labels.value_counts(dropna=False))\n",
    "    kfold = KFold(n_splits=10)\n",
    "    print('data set size', len(X))\n",
    "    numdoc[cls] = len(X)\n",
    "    n_iter = 0\n",
    "    acc_list = []\n",
    "    pre_list = []\n",
    "    rec_list = []\n",
    "    fsc_list = []\n",
    "    sup_list = []\n",
    "\n",
    "    \n",
    "    preds = [0] * len(Y)\n",
    "    probs = [0] * len(Y)\n",
    "\n",
    "    best_recall = 0\n",
    "    best_accuracy = 0\n",
    "    best_precision = 0\n",
    "    best_fscore = 0\n",
    "    best_support = 0\n",
    "    best_model = 0\n",
    "    \n",
    "    best_logloss = 1\n",
    "    \n",
    "    model = None\n",
    "\n",
    "    for c in tqdm([1.0/2.0**reg for reg in np.arange(-12, 12)]):\n",
    "        print('C:', c)\n",
    "        model = LogisticRegression(penalty='l1', solver='liblinear', class_weight='balanced', max_iter=1000, C = c)\n",
    "        \n",
    "        for train_index, test_index in tqdm(kfold.split(X_glove, Y)):\n",
    "            X_train, X_test = X_glove[train_index], X_glove[test_index] \n",
    "            Y_train, Y_test = Y[train_index], Y[test_index]\n",
    "            model.fit(X_train, Y_train)\n",
    "            out = model.predict(X_test)\n",
    "            prob = model.predict_proba(X_test)\n",
    "\n",
    "            i = 0\n",
    "            for x in test_index:\n",
    "                preds[x] = out[i]\n",
    "                probs[x] = prob[i]\n",
    "                i += 1\n",
    "            n_iter += 1\n",
    "\n",
    "            \n",
    "            \n",
    "        custom_logloss = log_loss(Y, probs)\n",
    "        print(custom_logloss)\n",
    "\n",
    "        accuracy = accuracy_score(Y, preds)\n",
    "        precision, recall, fscore, support = score(Y, preds)\n",
    "        # accuracy: (tp + tn) / (p + n)\n",
    "        # precision tp / (tp + fp)\n",
    "        # recall:   tp / (tp + fn)\n",
    "        # f1: 2 tp / (2 tp + fp + fn)\n",
    "        accuracy = np.round(accuracy, 4)\n",
    "        precision[1] = np.round(precision[1], 4)\n",
    "        recall[1] = np.round(recall[1], 4)\n",
    "        fscore[1] = np.round(fscore[1], 4)\n",
    "        support[1] = np.round(support[1], 4)\n",
    "\n",
    "\n",
    "#        if best_recall < recall[1]:\n",
    "        if best_logloss > custom_logloss:\n",
    "            best_logloss = custom_logloss\n",
    "            \n",
    "            best_accuracy = accuracy\n",
    "            best_recall = recall[1]\n",
    "            best_precision = precision[1]\n",
    "            best_fscore = fscore[1]\n",
    "            best_support = support[1]\n",
    "            best_model = model\n",
    "            \n",
    "    classifier[cls] = best_model\n",
    "    return (best_accuracy, best_precision, best_recall, best_fscore, best_support)\n",
    "\n",
    "cls = 'CR-00-00-00-00'\n",
    "#print(predict_by_class_glove_grid(dfset, cls))"
   ]
  },
  {
   "cell_type": "markdown",
   "metadata": {
    "colab_type": "text",
    "id": "ZqPjMWHLfCWn",
    "janus": {
     "all_versions_showing": false,
     "cell_hidden": false,
     "current_version": 0,
     "id": "6d16c3e0c6dac",
     "named_versions": [],
     "output_hidden": false,
     "show_versions": false,
     "source_hidden": false,
     "versions": []
    }
   },
   "source": [
    "# Entire Data "
   ]
  },
  {
   "cell_type": "markdown",
   "metadata": {
    "colab_type": "text",
    "id": "QLxJKWdxfQEs",
    "janus": {
     "all_versions_showing": false,
     "cell_hidden": false,
     "current_version": 0,
     "id": "1f636377bc915",
     "named_versions": [],
     "output_hidden": false,
     "show_versions": false,
     "source_hidden": false,
     "versions": []
    }
   },
   "source": [
    "## Build Models and Calculating Accuracies"
   ]
  },
  {
   "cell_type": "code",
   "execution_count": 21,
   "metadata": {
    "colab": {},
    "colab_type": "code",
    "id": "nJUvNbLprOTe",
    "janus": {
     "all_versions_showing": false,
     "cell_hidden": true,
     "current_version": 0,
     "id": "381e7a94d7c67",
     "named_versions": [],
     "output_hidden": true,
     "show_versions": false,
     "source_hidden": true,
     "versions": []
    }
   },
   "outputs": [
    {
     "name": "stderr",
     "output_type": "stream",
     "text": [
      "  0%|          | 0/36 [00:00<?, ?it/s]\n",
      "  0%|          | 0/1848 [00:00<?, ?it/s]\u001b[A\n",
      "  2%|▏         | 43/1848 [00:00<00:04, 425.23it/s]\u001b[A"
     ]
    },
    {
     "name": "stdout",
     "output_type": "stream",
     "text": [
      "Index(['BE-00-00-00-00', 'BU-00-00-00-00', 'CO-00-00-00-00', 'CR-00-00-00-00',\n",
      "       'CR-01-00-00-00', 'CR-04-00-00-00', 'CR-06-00-00-00', 'CR-10-00-00-00',\n",
      "       'ED-00-00-00-00', 'ES-00-00-00-00', 'ES-01-00-00-00', 'ES-03-00-00-00',\n",
      "       'FA-00-00-00-00', 'FA-05-00-00-00', 'FA-06-00-00-00', 'FA-07-00-00-00',\n",
      "       'GO-00-00-00-00', 'HE-00-00-00-00', 'HO-00-00-00-00', 'HO-06-00-00-00',\n",
      "       'HO-09-00-00-00', 'IM-00-00-00-00', 'MO-00-00-00-00', 'MO-02-00-00-00',\n",
      "       'MO-07-00-00-00', 'MO-10-00-00-00', 'RI-00-00-00-00', 'TO-00-00-00-00',\n",
      "       'TR-00-00-00-00', 'TR-01-00-00-00', 'TR-02-00-00-00', 'TR-03-00-00-00',\n",
      "       'TR-04-00-00-00', 'TR-05-00-00-00', 'WO-00-00-00-00', 'WO-03-00-00-00'],\n",
      "      dtype='object')\n"
     ]
    },
    {
     "name": "stderr",
     "output_type": "stream",
     "text": [
      "\n",
      "  4%|▍         | 75/1848 [00:00<00:04, 385.83it/s]\u001b[A\n",
      "  6%|▌         | 111/1848 [00:00<00:04, 373.60it/s]\u001b[A\n",
      "  9%|▊         | 161/1848 [00:00<00:04, 400.59it/s]\u001b[A\n",
      " 11%|█▏        | 211/1848 [00:00<00:03, 425.96it/s]\u001b[A\n",
      " 13%|█▎        | 248/1848 [00:00<00:03, 402.58it/s]\u001b[A\n",
      " 16%|█▌        | 298/1848 [00:00<00:03, 426.89it/s]\u001b[A\n",
      " 19%|█▊        | 346/1848 [00:00<00:03, 439.42it/s]\u001b[A\n",
      " 22%|██▏       | 400/1848 [00:00<00:03, 462.70it/s]\u001b[A\n",
      " 24%|██▍       | 446/1848 [00:01<00:03, 438.58it/s]\u001b[A\n",
      " 27%|██▋       | 490/1848 [00:01<00:03, 410.95it/s]\u001b[A\n",
      " 29%|██▉       | 539/1848 [00:01<00:03, 422.80it/s]\u001b[A\n",
      " 32%|███▏      | 592/1848 [00:01<00:02, 448.98it/s]\u001b[A\n",
      " 35%|███▍      | 638/1848 [00:01<00:02, 418.97it/s]\u001b[A\n",
      " 37%|███▋      | 681/1848 [00:01<00:02, 414.45it/s]\u001b[A\n",
      " 39%|███▉      | 724/1848 [00:01<00:02, 395.17it/s]\u001b[A\n",
      " 41%|████▏     | 765/1848 [00:01<00:02, 394.57it/s]\u001b[A\n",
      " 44%|████▎     | 805/1848 [00:01<00:02, 384.73it/s]\u001b[A\n",
      " 46%|████▋     | 855/1848 [00:02<00:02, 412.47it/s]\u001b[A\n",
      " 49%|████▊     | 898/1848 [00:02<00:02, 409.25it/s]\u001b[A\n",
      " 51%|█████     | 946/1848 [00:02<00:02, 427.69it/s]\u001b[A\n",
      " 54%|█████▎    | 991/1848 [00:02<00:01, 433.47it/s]\u001b[A\n",
      " 56%|█████▌    | 1035/1848 [00:02<00:01, 433.93it/s]\u001b[A\n",
      " 58%|█████▊    | 1079/1848 [00:02<00:01, 390.62it/s]\u001b[A\n",
      " 61%|██████    | 1122/1848 [00:02<00:01, 401.00it/s]\u001b[A\n",
      " 64%|██████▎   | 1174/1848 [00:02<00:01, 428.52it/s]\u001b[A\n",
      " 66%|██████▌   | 1218/1848 [00:02<00:01, 410.13it/s]\u001b[A\n",
      " 68%|██████▊   | 1260/1848 [00:03<00:01, 401.91it/s]\u001b[A\n",
      " 70%|███████   | 1301/1848 [00:03<00:01, 383.81it/s]\u001b[A\n",
      " 73%|███████▎  | 1341/1848 [00:03<00:01, 375.26it/s]\u001b[A\n",
      " 75%|███████▌  | 1389/1848 [00:03<00:01, 400.07it/s]\u001b[A\n",
      " 77%|███████▋  | 1430/1848 [00:03<00:01, 384.06it/s]\u001b[A\n",
      " 80%|███████▉  | 1470/1848 [00:03<00:00, 384.96it/s]\u001b[A\n",
      " 82%|████████▏ | 1509/1848 [00:03<00:00, 383.76it/s]\u001b[A\n",
      " 84%|████████▍ | 1548/1848 [00:03<00:00, 359.06it/s]\u001b[A\n",
      " 86%|████████▌ | 1588/1848 [00:03<00:00, 369.84it/s]\u001b[A\n",
      " 88%|████████▊ | 1633/1848 [00:03<00:00, 387.95it/s]\u001b[A\n",
      " 91%|█████████ | 1673/1848 [00:04<00:00, 378.22it/s]\u001b[A\n",
      " 93%|█████████▎| 1712/1848 [00:04<00:00, 366.84it/s]\u001b[A\n",
      " 95%|█████████▌| 1763/1848 [00:04<00:00, 399.18it/s]\u001b[A\n",
      "100%|██████████| 1848/1848 [00:04<00:00, 410.64it/s]\u001b[A\n"
     ]
    },
    {
     "name": "stdout",
     "output_type": "stream",
     "text": [
      "------------------------------------\n",
      "\n",
      "0.0    1821\n",
      "1.0      27\n",
      "Name: BE-00-00-00-00, dtype: int64\n",
      "data set size 1848\n",
      "Checkpoint2 -Normalized Vector for Sentences are created\n"
     ]
    },
    {
     "name": "stderr",
     "output_type": "stream",
     "text": [
      "  3%|▎         | 1/36 [00:16<09:33, 16.37s/it]\n",
      "  0%|          | 0/1590 [00:00<?, ?it/s]\u001b[A\n",
      "  3%|▎         | 40/1590 [00:00<00:04, 355.44it/s]\u001b[A"
     ]
    },
    {
     "name": "stdout",
     "output_type": "stream",
     "text": [
      "logloss: 0.2951\n",
      "brierloss:  0.0889\n",
      "statistics (0.8761, 0.0861, 0.7778, 0.155, 27, 0.2951, 0.0889)\n"
     ]
    },
    {
     "name": "stderr",
     "output_type": "stream",
     "text": [
      "\n",
      "  5%|▌         | 86/1590 [00:00<00:03, 380.86it/s]\u001b[A\n",
      "  8%|▊         | 135/1590 [00:00<00:03, 407.87it/s]\u001b[A\n",
      " 11%|█         | 178/1590 [00:00<00:03, 412.13it/s]\u001b[A\n",
      " 14%|█▍        | 225/1590 [00:00<00:03, 424.86it/s]\u001b[A\n",
      " 17%|█▋        | 275/1590 [00:00<00:02, 440.78it/s]\u001b[A\n",
      " 20%|██        | 322/1590 [00:00<00:02, 445.77it/s]\u001b[A\n",
      " 23%|██▎       | 365/1590 [00:00<00:02, 433.53it/s]\u001b[A\n",
      " 26%|██▌       | 407/1590 [00:00<00:02, 404.74it/s]\u001b[A\n",
      " 28%|██▊       | 451/1590 [00:01<00:02, 413.32it/s]\u001b[A\n",
      " 32%|███▏      | 503/1590 [00:01<00:02, 439.07it/s]\u001b[A\n",
      " 34%|███▍      | 547/1590 [00:01<00:02, 428.84it/s]\u001b[A\n",
      " 37%|███▋      | 590/1590 [00:01<00:02, 421.15it/s]\u001b[A\n",
      " 40%|███▉      | 633/1590 [00:01<00:02, 410.92it/s]\u001b[A\n",
      " 43%|████▎     | 677/1590 [00:01<00:02, 419.16it/s]\u001b[A\n",
      " 45%|████▌     | 720/1590 [00:01<00:02, 405.60it/s]\u001b[A\n",
      " 49%|████▊     | 774/1590 [00:01<00:01, 437.20it/s]\u001b[A\n",
      " 52%|█████▏    | 819/1590 [00:01<00:01, 434.90it/s]\u001b[A\n",
      " 55%|█████▍    | 868/1590 [00:01<00:01, 449.50it/s]\u001b[A\n",
      " 58%|█████▊    | 919/1590 [00:02<00:01, 464.61it/s]\u001b[A\n",
      " 61%|██████    | 966/1590 [00:02<00:01, 437.75it/s]\u001b[A\n",
      " 64%|██████▍   | 1015/1590 [00:02<00:01, 452.12it/s]\u001b[A\n",
      " 67%|██████▋   | 1064/1590 [00:02<00:01, 461.84it/s]\u001b[A\n",
      " 70%|██████▉   | 1111/1590 [00:02<00:01, 440.12it/s]\u001b[A\n",
      " 73%|███████▎  | 1156/1590 [00:02<00:01, 424.52it/s]\u001b[A\n",
      " 75%|███████▌  | 1200/1590 [00:02<00:00, 428.19it/s]\u001b[A\n",
      " 78%|███████▊  | 1244/1590 [00:02<00:00, 430.88it/s]\u001b[A\n",
      " 81%|████████  | 1288/1590 [00:02<00:00, 413.94it/s]\u001b[A\n",
      " 84%|████████▍ | 1333/1590 [00:03<00:00, 420.59it/s]\u001b[A\n",
      " 87%|████████▋ | 1376/1590 [00:03<00:00, 409.24it/s]\u001b[A\n",
      " 89%|████████▉ | 1418/1590 [00:03<00:00, 370.93it/s]\u001b[A\n",
      " 92%|█████████▏| 1457/1590 [00:03<00:00, 375.81it/s]\u001b[A\n",
      " 95%|█████████▍| 1505/1590 [00:03<00:00, 401.91it/s]\u001b[A\n",
      " 97%|█████████▋| 1547/1590 [00:03<00:00, 394.44it/s]\u001b[A\n",
      "100%|██████████| 1590/1590 [00:03<00:00, 425.08it/s]\u001b[A\n"
     ]
    },
    {
     "name": "stdout",
     "output_type": "stream",
     "text": [
      "------------------------------------\n",
      "\n",
      "0.0    1497\n",
      "1.0      93\n",
      "Name: BU-00-00-00-00, dtype: int64\n",
      "data set size 1590\n",
      "Checkpoint2 -Normalized Vector for Sentences are created\n"
     ]
    },
    {
     "name": "stderr",
     "output_type": "stream",
     "text": [
      "  6%|▌         | 2/36 [00:29<08:40, 15.32s/it]\n",
      "  0%|          | 0/1164 [00:00<?, ?it/s]\u001b[A\n",
      "  3%|▎         | 38/1164 [00:00<00:03, 375.24it/s]\u001b[A"
     ]
    },
    {
     "name": "stdout",
     "output_type": "stream",
     "text": [
      "logloss: 0.2169\n",
      "brierloss:  0.0604\n",
      "statistics (0.9277, 0.4421, 0.9032, 0.5936, 93, 0.2169, 0.0604)\n"
     ]
    },
    {
     "name": "stderr",
     "output_type": "stream",
     "text": [
      "\n",
      "  8%|▊         | 94/1164 [00:00<00:02, 414.11it/s]\u001b[A\n",
      " 12%|█▏        | 145/1164 [00:00<00:02, 436.74it/s]\u001b[A\n",
      " 16%|█▌        | 189/1164 [00:00<00:02, 437.20it/s]\u001b[A\n",
      " 20%|██        | 236/1164 [00:00<00:02, 445.50it/s]\u001b[A\n",
      " 24%|██▎       | 275/1164 [00:00<00:02, 406.64it/s]\u001b[A\n",
      " 29%|██▊       | 332/1164 [00:00<00:01, 444.22it/s]\u001b[A\n",
      " 33%|███▎      | 383/1164 [00:00<00:01, 459.92it/s]\u001b[A\n",
      " 37%|███▋      | 433/1164 [00:00<00:01, 469.64it/s]\u001b[A\n",
      " 41%|████      | 480/1164 [00:01<00:01, 464.54it/s]\u001b[A\n",
      " 45%|████▌     | 527/1164 [00:01<00:01, 456.21it/s]\u001b[A\n",
      " 51%|█████     | 589/1164 [00:01<00:01, 494.66it/s]\u001b[A\n",
      " 55%|█████▍    | 640/1164 [00:01<00:01, 492.25it/s]\u001b[A\n",
      " 59%|█████▉    | 691/1164 [00:01<00:00, 495.19it/s]\u001b[A\n",
      " 64%|██████▎   | 741/1164 [00:01<00:00, 490.74it/s]\u001b[A\n",
      " 68%|██████▊   | 791/1164 [00:01<00:00, 483.12it/s]\u001b[A\n",
      " 72%|███████▏  | 840/1164 [00:01<00:00, 468.61it/s]\u001b[A\n",
      " 76%|███████▋  | 888/1164 [00:01<00:00, 452.71it/s]\u001b[A\n",
      " 80%|████████  | 937/1164 [00:01<00:00, 462.42it/s]\u001b[A\n",
      " 85%|████████▍ | 987/1164 [00:02<00:00, 469.48it/s]\u001b[A\n",
      " 89%|████████▉ | 1035/1164 [00:02<00:00, 440.64it/s]\u001b[A\n",
      " 93%|█████████▎| 1083/1164 [00:02<00:00, 449.64it/s]\u001b[A\n",
      "100%|██████████| 1164/1164 [00:02<00:00, 471.54it/s]\u001b[A\n"
     ]
    },
    {
     "name": "stdout",
     "output_type": "stream",
     "text": [
      "------------------------------------\n",
      "\n",
      "0.0    1058\n",
      "1.0     106\n",
      "Name: CO-00-00-00-00, dtype: int64\n",
      "data set size 1164\n",
      "Checkpoint2 -Normalized Vector for Sentences are created\n"
     ]
    },
    {
     "name": "stderr",
     "output_type": "stream",
     "text": [
      "  8%|▊         | 3/36 [00:32<06:21, 11.57s/it]\n",
      "  0%|          | 0/1679 [00:00<?, ?it/s]\u001b[A\n",
      "  3%|▎         | 51/1679 [00:00<00:03, 509.81it/s]\u001b[A"
     ]
    },
    {
     "name": "stdout",
     "output_type": "stream",
     "text": [
      "logloss: 0.3644\n",
      "brierloss:  0.1087\n",
      "statistics (0.8703, 0.3923, 0.7736, 0.5206, 106, 0.3644, 0.1087)\n"
     ]
    },
    {
     "name": "stderr",
     "output_type": "stream",
     "text": [
      "\n",
      "  5%|▌         | 89/1679 [00:00<00:03, 462.24it/s]\u001b[A\n",
      "  9%|▉         | 147/1679 [00:00<00:03, 489.32it/s]\u001b[A\n",
      " 12%|█▏        | 201/1679 [00:00<00:02, 498.10it/s]\u001b[A\n",
      " 15%|█▌        | 256/1679 [00:00<00:02, 509.86it/s]\u001b[A\n",
      " 18%|█▊        | 306/1679 [00:00<00:02, 505.85it/s]\u001b[A\n",
      " 22%|██▏       | 361/1679 [00:00<00:02, 517.49it/s]\u001b[A\n",
      " 24%|██▍       | 409/1679 [00:00<00:02, 503.69it/s]\u001b[A\n",
      " 27%|██▋       | 460/1679 [00:00<00:02, 505.01it/s]\u001b[A\n",
      " 31%|███▏      | 525/1679 [00:01<00:02, 530.96it/s]\u001b[A\n",
      " 34%|███▍      | 578/1679 [00:01<00:02, 511.12it/s]\u001b[A\n",
      " 37%|███▋      | 629/1679 [00:01<00:02, 489.63it/s]\u001b[A\n",
      " 40%|████      | 678/1679 [00:01<00:02, 474.95it/s]\u001b[A\n",
      " 43%|████▎     | 726/1679 [00:01<00:02, 464.54it/s]\u001b[A\n",
      " 47%|████▋     | 787/1679 [00:01<00:01, 499.55it/s]\u001b[A\n",
      " 50%|████▉     | 838/1679 [00:01<00:01, 498.78it/s]\u001b[A\n",
      " 53%|█████▎    | 896/1679 [00:01<00:01, 519.01it/s]\u001b[A\n",
      " 57%|█████▋    | 949/1679 [00:01<00:01, 505.40it/s]\u001b[A\n",
      " 60%|█████▉    | 1001/1679 [00:01<00:01, 490.03it/s]\u001b[A\n",
      " 63%|██████▎   | 1061/1679 [00:02<00:01, 514.65it/s]\u001b[A\n",
      " 66%|██████▋   | 1114/1679 [00:02<00:01, 494.75it/s]\u001b[A\n",
      " 69%|██████▉   | 1165/1679 [00:02<00:01, 485.24it/s]\u001b[A\n",
      " 72%|███████▏  | 1217/1679 [00:02<00:00, 493.56it/s]\u001b[A\n",
      " 75%|███████▌  | 1267/1679 [00:02<00:00, 493.10it/s]\u001b[A\n",
      " 78%|███████▊  | 1317/1679 [00:02<00:00, 493.53it/s]\u001b[A\n",
      " 81%|████████▏ | 1367/1679 [00:02<00:00, 461.42it/s]\u001b[A\n",
      " 84%|████████▍ | 1414/1679 [00:02<00:00, 452.70it/s]\u001b[A\n",
      " 87%|████████▋ | 1460/1679 [00:02<00:00, 453.52it/s]\u001b[A\n",
      " 90%|████████▉ | 1507/1679 [00:03<00:00, 457.62it/s]\u001b[A\n",
      " 92%|█████████▏| 1553/1679 [00:03<00:00, 451.69it/s]\u001b[A\n",
      " 96%|█████████▌| 1614/1679 [00:03<00:00, 487.21it/s]\u001b[A\n",
      "100%|██████████| 1679/1679 [00:03<00:00, 495.02it/s]\u001b[A\n"
     ]
    },
    {
     "name": "stdout",
     "output_type": "stream",
     "text": [
      "------------------------------------\n",
      "\n",
      "0.0    1377\n",
      "1.0     302\n",
      "Name: CR-00-00-00-00, dtype: int64\n",
      "data set size 1679\n",
      "Checkpoint2 -Normalized Vector for Sentences are created\n"
     ]
    },
    {
     "name": "stderr",
     "output_type": "stream",
     "text": [
      " 11%|█         | 4/36 [00:43<06:10, 11.56s/it]\n",
      "  0%|          | 0/1393 [00:00<?, ?it/s]\u001b[A\n",
      "  3%|▎         | 44/1393 [00:00<00:03, 377.71it/s]\u001b[A"
     ]
    },
    {
     "name": "stdout",
     "output_type": "stream",
     "text": [
      "logloss: 0.3465\n",
      "brierloss:  0.1049\n",
      "statistics (0.8582, 0.5717, 0.8444, 0.6818, 302, 0.3465, 0.1049)\n"
     ]
    },
    {
     "name": "stderr",
     "output_type": "stream",
     "text": [
      "\n",
      "  7%|▋         | 100/1393 [00:00<00:03, 417.32it/s]\u001b[A\n",
      " 11%|█         | 150/1393 [00:00<00:02, 437.19it/s]\u001b[A\n",
      " 15%|█▍        | 207/1393 [00:00<00:02, 467.75it/s]\u001b[A\n",
      " 18%|█▊        | 255/1393 [00:00<00:02, 469.62it/s]\u001b[A\n",
      " 22%|██▏       | 302/1393 [00:00<00:02, 468.24it/s]\u001b[A\n",
      " 25%|██▍       | 346/1393 [00:00<00:02, 451.72it/s]\u001b[A\n",
      " 29%|██▉       | 403/1393 [00:00<00:02, 481.18it/s]\u001b[A\n",
      " 32%|███▏      | 452/1393 [00:00<00:01, 482.41it/s]\u001b[A\n",
      " 36%|███▌      | 500/1393 [00:01<00:01, 459.81it/s]\u001b[A\n",
      " 39%|███▉      | 546/1393 [00:01<00:01, 428.27it/s]\u001b[A\n",
      " 42%|████▏     | 592/1393 [00:01<00:01, 435.10it/s]\u001b[A\n",
      " 46%|████▌     | 636/1393 [00:01<00:01, 435.82it/s]\u001b[A\n",
      " 49%|████▉     | 683/1393 [00:01<00:01, 444.08it/s]\u001b[A\n",
      " 52%|█████▏    | 731/1393 [00:01<00:01, 454.27it/s]\u001b[A\n",
      " 56%|█████▌    | 782/1393 [00:01<00:01, 468.33it/s]\u001b[A\n",
      " 60%|█████▉    | 830/1393 [00:01<00:01, 464.54it/s]\u001b[A\n",
      " 64%|██████▍   | 891/1393 [00:01<00:01, 498.75it/s]\u001b[A\n",
      " 68%|██████▊   | 942/1393 [00:02<00:00, 467.25it/s]\u001b[A\n",
      " 71%|███████   | 990/1393 [00:02<00:00, 457.75it/s]\u001b[A\n",
      " 75%|███████▍  | 1042/1393 [00:02<00:00, 474.15it/s]\u001b[A\n",
      " 78%|███████▊  | 1091/1393 [00:02<00:00, 469.30it/s]\u001b[A\n",
      " 82%|████████▏ | 1139/1393 [00:02<00:00, 461.31it/s]\u001b[A\n",
      " 85%|████████▌ | 1186/1393 [00:02<00:00, 461.43it/s]\u001b[A\n",
      " 89%|████████▊ | 1235/1393 [00:02<00:00, 467.61it/s]\u001b[A\n",
      " 92%|█████████▏| 1283/1393 [00:02<00:00, 470.04it/s]\u001b[A\n",
      "100%|██████████| 1393/1393 [00:02<00:00, 476.29it/s]\u001b[A\n"
     ]
    },
    {
     "name": "stdout",
     "output_type": "stream",
     "text": [
      "------------------------------------\n",
      "\n",
      "0.0    1381\n",
      "1.0      12\n",
      "Name: CR-01-00-00-00, dtype: int64\n",
      "data set size 1393\n",
      "Checkpoint2 -Normalized Vector for Sentences are created\n"
     ]
    },
    {
     "name": "stderr",
     "output_type": "stream",
     "text": [
      " 14%|█▍        | 5/36 [00:53<05:44, 11.12s/it]\n",
      "  0%|          | 0/1402 [00:00<?, ?it/s]\u001b[A\n",
      "  3%|▎         | 44/1402 [00:00<00:03, 385.23it/s]\u001b[A"
     ]
    },
    {
     "name": "stdout",
     "output_type": "stream",
     "text": [
      "logloss: 0.3339\n",
      "brierloss:  0.1022\n",
      "statistics (0.8622, 0.0161, 0.25, 0.0303, 12, 0.3339, 0.1022)\n"
     ]
    },
    {
     "name": "stderr",
     "output_type": "stream",
     "text": [
      "\n",
      "  7%|▋         | 101/1402 [00:00<00:03, 425.86it/s]\u001b[A\n",
      " 11%|█         | 154/1402 [00:00<00:02, 452.42it/s]\u001b[A\n",
      " 15%|█▍        | 208/1402 [00:00<00:02, 472.52it/s]\u001b[A\n",
      " 19%|█▊        | 262/1402 [00:00<00:02, 489.90it/s]\u001b[A\n",
      " 23%|██▎       | 318/1402 [00:00<00:02, 507.14it/s]\u001b[A\n",
      " 26%|██▌       | 368/1402 [00:00<00:02, 504.21it/s]\u001b[A\n",
      " 31%|███       | 435/1402 [00:00<00:01, 541.80it/s]\u001b[A\n",
      " 35%|███▍      | 489/1402 [00:00<00:01, 524.91it/s]\u001b[A\n",
      " 39%|███▊      | 541/1402 [00:01<00:01, 494.53it/s]\u001b[A\n",
      " 42%|████▏     | 591/1402 [00:01<00:01, 494.66it/s]\u001b[A\n",
      " 46%|████▌     | 642/1402 [00:01<00:01, 497.78it/s]\u001b[A\n",
      " 50%|████▉     | 696/1402 [00:01<00:01, 508.29it/s]\u001b[A\n",
      " 54%|█████▎    | 753/1402 [00:01<00:01, 521.20it/s]\u001b[A\n",
      " 57%|█████▋    | 806/1402 [00:01<00:01, 500.35it/s]\u001b[A\n",
      " 61%|██████▏   | 860/1402 [00:01<00:01, 511.06it/s]\u001b[A\n",
      " 65%|██████▌   | 914/1402 [00:01<00:00, 516.86it/s]\u001b[A\n",
      " 69%|██████▉   | 966/1402 [00:01<00:00, 480.30it/s]\u001b[A\n",
      " 72%|███████▏  | 1015/1402 [00:02<00:00, 482.94it/s]\u001b[A\n",
      " 76%|███████▌  | 1066/1402 [00:02<00:00, 490.55it/s]\u001b[A\n",
      " 80%|███████▉  | 1118/1402 [00:02<00:00, 484.21it/s]\u001b[A\n",
      " 83%|████████▎ | 1167/1402 [00:02<00:00, 464.90it/s]\u001b[A\n",
      " 87%|████████▋ | 1214/1402 [00:02<00:00, 462.75it/s]\u001b[A\n",
      " 90%|████████▉ | 1261/1402 [00:02<00:00, 448.57it/s]\u001b[A\n",
      " 93%|█████████▎| 1307/1402 [00:02<00:00, 446.09it/s]\u001b[A\n",
      "100%|██████████| 1402/1402 [00:02<00:00, 496.49it/s]\u001b[A\n"
     ]
    },
    {
     "name": "stdout",
     "output_type": "stream",
     "text": [
      "------------------------------------\n",
      "\n",
      "0.0    1389\n",
      "1.0      13\n",
      "Name: CR-04-00-00-00, dtype: int64\n",
      "data set size 1402\n",
      "Checkpoint2 -Normalized Vector for Sentences are created\n"
     ]
    },
    {
     "name": "stderr",
     "output_type": "stream",
     "text": [
      " 17%|█▋        | 6/36 [01:03<05:21, 10.73s/it]\n",
      "  0%|          | 0/1404 [00:00<?, ?it/s]\u001b[A\n",
      "  3%|▎         | 43/1404 [00:00<00:03, 419.46it/s]\u001b[A"
     ]
    },
    {
     "name": "stdout",
     "output_type": "stream",
     "text": [
      "logloss: 0.3722\n",
      "brierloss:  0.113\n",
      "statistics (0.8559, 0.0299, 0.4615, 0.0561, 13, 0.3722, 0.113)\n"
     ]
    },
    {
     "name": "stderr",
     "output_type": "stream",
     "text": [
      "\n",
      "  6%|▋         | 88/1404 [00:00<00:03, 425.59it/s]\u001b[A\n",
      " 10%|█         | 142/1404 [00:00<00:02, 454.22it/s]\u001b[A\n",
      " 14%|█▍        | 200/1404 [00:00<00:02, 485.02it/s]\u001b[A\n",
      " 18%|█▊        | 253/1404 [00:00<00:02, 495.07it/s]\u001b[A\n",
      " 22%|██▏       | 310/1404 [00:00<00:02, 515.13it/s]\u001b[A\n",
      " 26%|██▌       | 360/1404 [00:00<00:02, 509.59it/s]\u001b[A\n",
      " 30%|███       | 422/1404 [00:00<00:01, 538.33it/s]\u001b[A\n",
      " 34%|███▍      | 475/1404 [00:00<00:01, 513.18it/s]\u001b[A\n",
      " 37%|███▋      | 526/1404 [00:01<00:01, 491.78it/s]\u001b[A\n",
      " 41%|████      | 578/1404 [00:01<00:01, 499.13it/s]\u001b[A\n",
      " 45%|████▍     | 628/1404 [00:01<00:01, 483.02it/s]\u001b[A\n",
      " 49%|████▊     | 682/1404 [00:01<00:01, 495.81it/s]\u001b[A\n",
      " 52%|█████▏    | 734/1404 [00:01<00:01, 500.91it/s]\u001b[A\n",
      " 56%|█████▌    | 785/1404 [00:01<00:01, 497.63it/s]\u001b[A\n",
      " 59%|█████▉    | 835/1404 [00:01<00:01, 480.73it/s]\u001b[A\n",
      " 64%|██████▍   | 898/1404 [00:01<00:00, 512.97it/s]\u001b[A\n",
      " 68%|██████▊   | 950/1404 [00:01<00:00, 478.54it/s]\u001b[A\n",
      " 71%|███████   | 999/1404 [00:02<00:00, 472.34it/s]\u001b[A\n",
      " 75%|███████▍  | 1051/1404 [00:02<00:00, 483.79it/s]\u001b[A\n",
      " 78%|███████▊  | 1100/1404 [00:02<00:00, 476.21it/s]\u001b[A\n",
      " 82%|████████▏ | 1149/1404 [00:02<00:00, 465.13it/s]\u001b[A\n",
      " 85%|████████▌ | 1197/1404 [00:02<00:00, 464.24it/s]\u001b[A\n",
      " 89%|████████▊ | 1246/1404 [00:02<00:00, 461.29it/s]\u001b[A\n",
      " 92%|█████████▏| 1293/1404 [00:02<00:00, 438.23it/s]\u001b[A\n",
      " 96%|█████████▌| 1349/1404 [00:02<00:00, 468.35it/s]\u001b[A\n",
      "100%|██████████| 1404/1404 [00:02<00:00, 489.98it/s]\u001b[A\n"
     ]
    },
    {
     "name": "stdout",
     "output_type": "stream",
     "text": [
      "------------------------------------\n",
      "\n",
      "0.0    1393\n",
      "1.0      11\n",
      "Name: CR-06-00-00-00, dtype: int64\n",
      "data set size 1404\n",
      "Checkpoint2 -Normalized Vector for Sentences are created\n"
     ]
    },
    {
     "name": "stderr",
     "output_type": "stream",
     "text": [
      " 19%|█▉        | 7/36 [01:09<04:27,  9.22s/it]\n",
      "  0%|          | 0/1969 [00:00<?, ?it/s]\u001b[A\n",
      "  2%|▏         | 49/1969 [00:00<00:03, 488.63it/s]\u001b[A"
     ]
    },
    {
     "name": "stdout",
     "output_type": "stream",
     "text": [
      "logloss: 0.2744\n",
      "brierloss:  0.08\n",
      "statistics (0.8917, 0.0331, 0.4545, 0.0617, 11, 0.2744, 0.08)\n"
     ]
    },
    {
     "name": "stderr",
     "output_type": "stream",
     "text": [
      "\n",
      "  5%|▍         | 91/1969 [00:00<00:04, 464.44it/s]\u001b[A\n",
      "  7%|▋         | 145/1969 [00:00<00:03, 482.87it/s]\u001b[A\n",
      " 10%|█         | 199/1969 [00:00<00:03, 498.44it/s]\u001b[A\n",
      " 12%|█▏        | 244/1969 [00:00<00:03, 480.66it/s]\u001b[A\n",
      " 15%|█▌        | 301/1969 [00:00<00:03, 502.33it/s]\u001b[A\n",
      " 18%|█▊        | 350/1969 [00:00<00:03, 496.57it/s]\u001b[A\n",
      " 21%|██        | 407/1969 [00:00<00:03, 515.93it/s]\u001b[A\n",
      " 23%|██▎       | 457/1969 [00:00<00:03, 490.17it/s]\u001b[A\n",
      " 26%|██▌       | 505/1969 [00:01<00:03, 462.00it/s]\u001b[A\n",
      " 28%|██▊       | 559/1969 [00:01<00:02, 475.92it/s]\u001b[A\n",
      " 31%|███▏      | 619/1969 [00:01<00:02, 503.82it/s]\u001b[A\n",
      " 34%|███▍      | 670/1969 [00:01<00:02, 473.34it/s]\u001b[A\n",
      " 36%|███▋      | 718/1969 [00:01<00:02, 427.48it/s]\u001b[A\n",
      " 39%|███▊      | 762/1969 [00:01<00:02, 419.09it/s]\u001b[A\n",
      " 41%|████      | 807/1969 [00:01<00:02, 425.46it/s]\u001b[A\n",
      " 43%|████▎     | 851/1969 [00:01<00:02, 426.58it/s]\u001b[A\n",
      " 46%|████▌     | 905/1969 [00:01<00:02, 453.99it/s]\u001b[A\n",
      " 48%|████▊     | 953/1969 [00:02<00:02, 460.99it/s]\u001b[A\n",
      " 51%|█████▏    | 1010/1969 [00:02<00:01, 488.46it/s]\u001b[A\n",
      " 54%|█████▍    | 1060/1969 [00:02<00:01, 483.53it/s]\u001b[A\n",
      " 56%|█████▋    | 1109/1969 [00:02<00:01, 465.07it/s]\u001b[A\n",
      " 59%|█████▉    | 1168/1969 [00:02<00:01, 495.75it/s]\u001b[A\n",
      " 62%|██████▏   | 1228/1969 [00:02<00:01, 515.35it/s]\u001b[A\n",
      " 65%|██████▌   | 1281/1969 [00:02<00:01, 497.35it/s]\u001b[A\n",
      " 68%|██████▊   | 1332/1969 [00:02<00:01, 468.82it/s]\u001b[A\n",
      " 70%|███████   | 1380/1969 [00:02<00:01, 469.49it/s]\u001b[A\n",
      " 73%|███████▎  | 1433/1969 [00:02<00:01, 484.91it/s]\u001b[A\n",
      " 75%|███████▌  | 1483/1969 [00:03<00:01, 460.50it/s]\u001b[A\n",
      " 78%|███████▊  | 1530/1969 [00:03<00:00, 458.23it/s]\u001b[A\n",
      " 80%|████████  | 1577/1969 [00:03<00:00, 442.90it/s]\u001b[A\n",
      " 82%|████████▏ | 1622/1969 [00:03<00:00, 430.14it/s]\u001b[A\n",
      " 85%|████████▍ | 1669/1969 [00:03<00:00, 440.35it/s]\u001b[A\n",
      " 88%|████████▊ | 1723/1969 [00:03<00:00, 463.84it/s]\u001b[A\n",
      " 90%|████████▉ | 1770/1969 [00:03<00:00, 460.71it/s]\u001b[A\n",
      " 92%|█████████▏| 1817/1969 [00:03<00:00, 455.03it/s]\u001b[A\n",
      " 95%|█████████▌| 1876/1969 [00:03<00:00, 486.98it/s]\u001b[A\n",
      "100%|██████████| 1969/1969 [00:04<00:00, 479.40it/s]\u001b[A\n"
     ]
    },
    {
     "name": "stdout",
     "output_type": "stream",
     "text": [
      "------------------------------------\n",
      "\n",
      "0.0    1958\n",
      "1.0      11\n",
      "Name: CR-10-00-00-00, dtype: int64\n",
      "data set size 1969\n",
      "Checkpoint2 -Normalized Vector for Sentences are created\n"
     ]
    },
    {
     "name": "stderr",
     "output_type": "stream",
     "text": [
      " 22%|██▏       | 8/36 [01:23<05:02, 10.82s/it]\n",
      "  0%|          | 0/1813 [00:00<?, ?it/s]\u001b[A\n",
      "  3%|▎         | 49/1813 [00:00<00:04, 417.90it/s]\u001b[A"
     ]
    },
    {
     "name": "stdout",
     "output_type": "stream",
     "text": [
      "logloss: 0.2691\n",
      "brierloss:  0.0802\n",
      "statistics (0.8913, 0.0144, 0.2727, 0.0273, 11, 0.2691, 0.0802)\n"
     ]
    },
    {
     "name": "stderr",
     "output_type": "stream",
     "text": [
      "\n",
      "  6%|▌         | 109/1813 [00:00<00:03, 459.63it/s]\u001b[A\n",
      "  9%|▉         | 171/1813 [00:00<00:03, 497.00it/s]\u001b[A\n",
      " 12%|█▏        | 222/1813 [00:00<00:03, 500.70it/s]\u001b[A\n",
      " 15%|█▌        | 281/1813 [00:00<00:02, 523.60it/s]\u001b[A\n",
      " 19%|█▊        | 339/1813 [00:00<00:02, 537.63it/s]\u001b[A\n",
      " 22%|██▏       | 399/1813 [00:00<00:02, 554.60it/s]\u001b[A\n",
      " 25%|██▍       | 452/1813 [00:00<00:02, 512.22it/s]\u001b[A\n",
      " 28%|██▊       | 511/1813 [00:00<00:02, 523.57it/s]\u001b[A\n",
      " 32%|███▏      | 572/1813 [00:01<00:02, 546.14it/s]\u001b[A\n",
      " 35%|███▍      | 627/1813 [00:01<00:02, 543.17it/s]\u001b[A\n",
      " 38%|███▊      | 682/1813 [00:01<00:02, 508.14it/s]\u001b[A\n",
      " 40%|████      | 734/1813 [00:01<00:02, 491.33it/s]\u001b[A\n",
      " 43%|████▎     | 784/1813 [00:01<00:02, 482.67it/s]\u001b[A\n",
      " 47%|████▋     | 847/1813 [00:01<00:01, 518.13it/s]\u001b[A\n",
      " 50%|████▉     | 906/1813 [00:01<00:01, 536.15it/s]\u001b[A\n",
      " 53%|█████▎    | 967/1813 [00:01<00:01, 555.84it/s]\u001b[A\n",
      " 56%|█████▋    | 1024/1813 [00:01<00:01, 534.56it/s]\u001b[A\n",
      " 60%|█████▉    | 1079/1813 [00:02<00:01, 508.71it/s]\u001b[A\n",
      " 63%|██████▎   | 1140/1813 [00:02<00:01, 535.37it/s]\u001b[A\n",
      " 66%|██████▌   | 1195/1813 [00:02<00:01, 535.96it/s]\u001b[A\n",
      " 69%|██████▉   | 1250/1813 [00:02<00:01, 498.59it/s]\u001b[A\n",
      " 72%|███████▏  | 1306/1813 [00:02<00:00, 507.69it/s]\u001b[A\n",
      " 75%|███████▌  | 1364/1813 [00:02<00:00, 526.01it/s]\u001b[A\n",
      " 78%|███████▊  | 1418/1813 [00:02<00:00, 503.17it/s]\u001b[A\n",
      " 82%|████████▏ | 1478/1813 [00:02<00:00, 527.63it/s]\u001b[A\n",
      " 85%|████████▍ | 1532/1813 [00:02<00:00, 510.63it/s]\u001b[A\n",
      " 87%|████████▋ | 1584/1813 [00:03<00:00, 489.88it/s]\u001b[A\n",
      " 90%|█████████ | 1634/1813 [00:03<00:00, 437.78it/s]\u001b[A\n",
      " 93%|█████████▎| 1689/1813 [00:03<00:00, 466.23it/s]\u001b[A\n",
      " 96%|█████████▌| 1738/1813 [00:03<00:00, 466.78it/s]\u001b[A\n",
      "100%|██████████| 1813/1813 [00:03<00:00, 516.76it/s]\u001b[A\n"
     ]
    },
    {
     "name": "stdout",
     "output_type": "stream",
     "text": [
      "------------------------------------\n",
      "\n",
      "0.0    1789\n",
      "1.0      24\n",
      "Name: ED-00-00-00-00, dtype: int64\n",
      "data set size 1813\n",
      "Checkpoint2 -Normalized Vector for Sentences are created\n"
     ]
    },
    {
     "name": "stderr",
     "output_type": "stream",
     "text": [
      " 25%|██▌       | 9/36 [01:28<03:59,  8.89s/it]\n",
      "  0%|          | 0/1944 [00:00<?, ?it/s]\u001b[A\n",
      "  3%|▎         | 59/1944 [00:00<00:03, 566.63it/s]\u001b[A"
     ]
    },
    {
     "name": "stdout",
     "output_type": "stream",
     "text": [
      "logloss: 0.2142\n",
      "brierloss:  0.0561\n",
      "statistics (0.9338, 0.1308, 0.7083, 0.2208, 24, 0.2142, 0.0561)\n"
     ]
    },
    {
     "name": "stderr",
     "output_type": "stream",
     "text": [
      "\n",
      "  5%|▌         | 102/1944 [00:00<00:03, 514.35it/s]\u001b[A\n",
      "  8%|▊         | 159/1944 [00:00<00:03, 528.75it/s]\u001b[A\n",
      " 11%|█         | 209/1944 [00:00<00:03, 516.91it/s]\u001b[A\n",
      " 13%|█▎        | 257/1944 [00:00<00:03, 504.68it/s]\u001b[A\n",
      " 16%|█▌        | 315/1944 [00:00<00:03, 522.76it/s]\u001b[A\n",
      " 19%|█▉        | 368/1944 [00:00<00:03, 523.69it/s]\u001b[A\n",
      " 22%|██▏       | 428/1944 [00:00<00:02, 542.43it/s]\u001b[A\n",
      " 25%|██▍       | 480/1944 [00:00<00:02, 531.13it/s]\u001b[A\n",
      " 27%|██▋       | 532/1944 [00:01<00:02, 508.73it/s]\u001b[A\n",
      " 30%|███       | 589/1944 [00:01<00:02, 521.82it/s]\u001b[A\n",
      " 33%|███▎      | 649/1944 [00:01<00:02, 538.03it/s]\u001b[A\n",
      " 36%|███▌      | 703/1944 [00:01<00:02, 492.39it/s]\u001b[A\n",
      " 39%|███▊      | 753/1944 [00:01<00:02, 480.54it/s]\u001b[A\n",
      " 41%|████▏     | 802/1944 [00:01<00:02, 472.99it/s]\u001b[A\n",
      " 44%|████▎     | 850/1944 [00:01<00:02, 474.01it/s]\u001b[A\n",
      " 47%|████▋     | 911/1944 [00:01<00:02, 505.57it/s]\u001b[A\n",
      " 50%|████▉     | 963/1944 [00:01<00:01, 504.50it/s]\u001b[A\n",
      " 53%|█████▎    | 1023/1944 [00:01<00:01, 527.80it/s]\u001b[A\n",
      " 55%|█████▌    | 1077/1944 [00:02<00:01, 524.68it/s]\u001b[A\n",
      " 58%|█████▊    | 1130/1944 [00:02<00:01, 492.85it/s]\u001b[A\n",
      " 61%|██████▏   | 1191/1944 [00:02<00:01, 521.50it/s]\u001b[A\n",
      " 64%|██████▍   | 1245/1944 [00:02<00:01, 503.39it/s]\u001b[A\n",
      " 67%|██████▋   | 1297/1944 [00:02<00:01, 488.29it/s]\u001b[A\n",
      " 69%|██████▉   | 1347/1944 [00:02<00:01, 478.88it/s]\u001b[A\n",
      " 72%|███████▏  | 1396/1944 [00:02<00:01, 475.10it/s]\u001b[A\n",
      " 74%|███████▍  | 1448/1944 [00:02<00:01, 486.83it/s]\u001b[A\n",
      " 77%|███████▋  | 1498/1944 [00:02<00:00, 470.94it/s]\u001b[A\n",
      " 80%|███████▉  | 1550/1944 [00:03<00:00, 472.89it/s]\u001b[A\n",
      " 82%|████████▏ | 1598/1944 [00:03<00:00, 463.43it/s]\u001b[A\n",
      " 85%|████████▍ | 1645/1944 [00:03<00:00, 425.51it/s]\u001b[A\n",
      " 88%|████████▊ | 1704/1944 [00:03<00:00, 463.74it/s]\u001b[A\n",
      " 90%|█████████ | 1752/1944 [00:03<00:00, 461.40it/s]\u001b[A\n",
      " 93%|█████████▎| 1800/1944 [00:03<00:00, 452.18it/s]\u001b[A\n",
      " 96%|█████████▌| 1861/1944 [00:03<00:00, 488.91it/s]\u001b[A\n",
      "100%|██████████| 1944/1944 [00:03<00:00, 498.94it/s]\u001b[A\n"
     ]
    },
    {
     "name": "stdout",
     "output_type": "stream",
     "text": [
      "------------------------------------\n",
      "\n",
      "0.0    1866\n",
      "1.0      78\n",
      "Name: ES-00-00-00-00, dtype: int64\n",
      "data set size 1944\n",
      "Checkpoint2 -Normalized Vector for Sentences are created\n"
     ]
    },
    {
     "name": "stderr",
     "output_type": "stream",
     "text": [
      " 28%|██▊       | 10/36 [01:33<03:20,  7.70s/it]\n",
      "  0%|          | 0/1876 [00:00<?, ?it/s]\u001b[A\n",
      "  3%|▎         | 55/1876 [00:00<00:03, 545.98it/s]\u001b[A"
     ]
    },
    {
     "name": "stdout",
     "output_type": "stream",
     "text": [
      "logloss: 0.2675\n",
      "brierloss:  0.0803\n",
      "statistics (0.8904, 0.2433, 0.8205, 0.3754, 78, 0.2675, 0.0803)\n"
     ]
    },
    {
     "name": "stderr",
     "output_type": "stream",
     "text": [
      "\n",
      "  5%|▍         | 92/1876 [00:00<00:03, 477.77it/s]\u001b[A\n",
      "  8%|▊         | 147/1876 [00:00<00:03, 496.57it/s]\u001b[A\n",
      " 11%|█         | 201/1876 [00:00<00:03, 507.41it/s]\u001b[A\n",
      " 13%|█▎        | 249/1876 [00:00<00:03, 497.09it/s]\u001b[A\n",
      " 17%|█▋        | 310/1876 [00:00<00:02, 523.83it/s]\u001b[A\n",
      " 20%|█▉        | 371/1876 [00:00<00:02, 546.26it/s]\u001b[A\n",
      " 23%|██▎       | 426/1876 [00:00<00:02, 545.97it/s]\u001b[A\n",
      " 26%|██▌       | 479/1876 [00:00<00:02, 503.61it/s]\u001b[A\n",
      " 29%|██▊       | 535/1876 [00:01<00:02, 519.01it/s]\u001b[A\n",
      " 32%|███▏      | 597/1876 [00:01<00:02, 545.35it/s]\u001b[A\n",
      " 35%|███▍      | 652/1876 [00:01<00:02, 513.55it/s]\u001b[A\n",
      " 38%|███▊      | 704/1876 [00:01<00:02, 488.44it/s]\u001b[A\n",
      " 40%|████      | 754/1876 [00:01<00:02, 472.51it/s]\u001b[A\n",
      " 43%|████▎     | 803/1876 [00:01<00:02, 477.43it/s]\u001b[A\n",
      " 46%|████▌     | 858/1876 [00:01<00:02, 496.04it/s]\u001b[A\n",
      " 48%|████▊     | 909/1876 [00:01<00:01, 499.48it/s]\u001b[A\n",
      " 51%|█████▏    | 965/1876 [00:01<00:01, 513.28it/s]\u001b[A\n",
      " 54%|█████▍    | 1017/1876 [00:01<00:01, 503.16it/s]\u001b[A\n",
      " 57%|█████▋    | 1068/1876 [00:02<00:01, 486.69it/s]\u001b[A\n",
      " 60%|█████▉    | 1124/1876 [00:02<00:01, 504.93it/s]\u001b[A\n",
      " 63%|██████▎   | 1184/1876 [00:02<00:01, 526.04it/s]\u001b[A\n",
      " 66%|██████▌   | 1238/1876 [00:02<00:01, 508.89it/s]\u001b[A\n",
      " 69%|██████▉   | 1290/1876 [00:02<00:01, 485.53it/s]\u001b[A\n",
      " 71%|███████▏  | 1340/1876 [00:02<00:01, 482.84it/s]\u001b[A\n",
      " 74%|███████▍  | 1391/1876 [00:02<00:00, 490.16it/s]\u001b[A\n",
      " 77%|███████▋  | 1441/1876 [00:02<00:00, 481.60it/s]\u001b[A\n",
      " 80%|███████▉  | 1493/1876 [00:02<00:00, 491.93it/s]\u001b[A\n",
      " 82%|████████▏ | 1543/1876 [00:03<00:00, 469.46it/s]\u001b[A\n",
      " 85%|████████▍ | 1591/1876 [00:03<00:00, 436.37it/s]\u001b[A\n",
      " 88%|████████▊ | 1651/1876 [00:03<00:00, 474.16it/s]\u001b[A\n",
      " 91%|█████████ | 1700/1876 [00:03<00:00, 461.97it/s]\u001b[A\n",
      " 93%|█████████▎| 1749/1876 [00:03<00:00, 468.63it/s]\u001b[A\n",
      " 96%|█████████▋| 1808/1876 [00:03<00:00, 498.19it/s]\u001b[A\n",
      "100%|██████████| 1876/1876 [00:03<00:00, 502.54it/s]\u001b[A\n"
     ]
    },
    {
     "name": "stdout",
     "output_type": "stream",
     "text": [
      "------------------------------------\n",
      "\n",
      "0.0    1866\n",
      "1.0      10\n",
      "Name: ES-01-00-00-00, dtype: int64\n",
      "data set size 1876\n",
      "Checkpoint2 -Normalized Vector for Sentences are created\n"
     ]
    },
    {
     "name": "stderr",
     "output_type": "stream",
     "text": [
      " 31%|███       | 11/36 [01:41<03:16,  7.86s/it]\n",
      "  0%|          | 0/1992 [00:00<?, ?it/s]\u001b[A\n",
      "  3%|▎         | 54/1992 [00:00<00:03, 537.21it/s]\u001b[A"
     ]
    },
    {
     "name": "stdout",
     "output_type": "stream",
     "text": [
      "logloss: 0.1872\n",
      "brierloss:  0.0549\n",
      "statistics (0.9264, 0.0362, 0.5, 0.0676, 10, 0.1872, 0.0549)\n"
     ]
    },
    {
     "name": "stderr",
     "output_type": "stream",
     "text": [
      "\n",
      "  5%|▍         | 99/1992 [00:00<00:03, 506.28it/s]\u001b[A\n",
      "  8%|▊         | 161/1992 [00:00<00:03, 535.27it/s]\u001b[A\n",
      " 11%|█         | 216/1992 [00:00<00:03, 537.73it/s]\u001b[A\n",
      " 13%|█▎        | 268/1992 [00:00<00:03, 532.24it/s]\u001b[A\n",
      " 16%|█▋        | 327/1992 [00:00<00:03, 544.95it/s]\u001b[A\n",
      " 19%|█▉        | 380/1992 [00:00<00:02, 537.77it/s]\u001b[A\n",
      " 22%|██▏       | 437/1992 [00:00<00:02, 544.59it/s]\u001b[A\n",
      " 25%|██▍       | 490/1992 [00:00<00:02, 534.93it/s]\u001b[A\n",
      " 27%|██▋       | 542/1992 [00:01<00:02, 519.83it/s]\u001b[A\n",
      " 30%|███       | 602/1992 [00:01<00:02, 539.21it/s]\u001b[A\n",
      " 33%|███▎      | 656/1992 [00:01<00:02, 536.47it/s]\u001b[A\n",
      " 36%|███▌      | 710/1992 [00:01<00:02, 507.65it/s]\u001b[A\n",
      " 38%|███▊      | 761/1992 [00:01<00:02, 458.94it/s]\u001b[A\n",
      " 41%|████      | 808/1992 [00:01<00:02, 450.85it/s]\u001b[A\n",
      " 43%|████▎     | 854/1992 [00:01<00:02, 446.08it/s]\u001b[A\n",
      " 46%|████▌     | 916/1992 [00:01<00:02, 485.88it/s]\u001b[A\n",
      " 48%|████▊     | 966/1992 [00:01<00:02, 486.41it/s]\u001b[A\n",
      " 51%|█████     | 1016/1992 [00:02<00:02, 465.15it/s]\u001b[A\n",
      " 53%|█████▎    | 1064/1992 [00:02<00:02, 451.50it/s]\u001b[A\n",
      " 56%|█████▌    | 1110/1992 [00:02<00:01, 442.08it/s]\u001b[A\n",
      " 58%|█████▊    | 1155/1992 [00:02<00:01, 426.23it/s]\u001b[A\n",
      " 61%|██████    | 1209/1992 [00:02<00:01, 453.93it/s]\u001b[A\n",
      " 63%|██████▎   | 1256/1992 [00:02<00:01, 439.93it/s]\u001b[A\n",
      " 65%|██████▌   | 1301/1992 [00:02<00:01, 440.37it/s]\u001b[A\n",
      " 68%|██████▊   | 1346/1992 [00:02<00:01, 438.25it/s]\u001b[A\n",
      " 70%|███████   | 1398/1992 [00:02<00:01, 458.53it/s]\u001b[A\n",
      " 73%|███████▎  | 1451/1992 [00:02<00:01, 473.80it/s]\u001b[A\n",
      " 75%|███████▌  | 1502/1992 [00:03<00:01, 479.51it/s]\u001b[A\n",
      " 78%|███████▊  | 1554/1992 [00:03<00:00, 479.85it/s]\u001b[A\n",
      " 80%|████████  | 1603/1992 [00:03<00:00, 462.97it/s]\u001b[A\n",
      " 83%|████████▎ | 1650/1992 [00:03<00:00, 439.15it/s]\u001b[A\n",
      " 85%|████████▌ | 1695/1992 [00:03<00:00, 436.57it/s]\u001b[A\n",
      " 87%|████████▋ | 1741/1992 [00:03<00:00, 443.00it/s]\u001b[A\n",
      " 90%|████████▉ | 1787/1992 [00:03<00:00, 447.93it/s]\u001b[A\n",
      " 92%|█████████▏| 1833/1992 [00:03<00:00, 451.42it/s]\u001b[A\n",
      " 95%|█████████▍| 1885/1992 [00:03<00:00, 470.00it/s]\u001b[A\n",
      "100%|██████████| 1992/1992 [00:04<00:00, 484.35it/s]\u001b[A\n"
     ]
    },
    {
     "name": "stdout",
     "output_type": "stream",
     "text": [
      "------------------------------------\n",
      "\n",
      "0.0    1979\n",
      "1.0      13\n",
      "Name: ES-03-00-00-00, dtype: int64\n",
      "data set size 1992\n",
      "Checkpoint2 -Normalized Vector for Sentences are created\n"
     ]
    },
    {
     "name": "stderr",
     "output_type": "stream",
     "text": [
      " 33%|███▎      | 12/36 [02:02<04:42, 11.78s/it]\n",
      "  0%|          | 0/2042 [00:00<?, ?it/s]\u001b[A\n",
      "  3%|▎         | 53/2042 [00:00<00:03, 509.49it/s]\u001b[A"
     ]
    },
    {
     "name": "stdout",
     "output_type": "stream",
     "text": [
      "logloss: 0.2653\n",
      "brierloss:  0.0803\n",
      "statistics (0.88, 0.0292, 0.5385, 0.0553, 13, 0.2653, 0.0803)\n"
     ]
    },
    {
     "name": "stderr",
     "output_type": "stream",
     "text": [
      "\n",
      "  5%|▍         | 92/2042 [00:00<00:04, 462.20it/s]\u001b[A\n",
      "  7%|▋         | 146/2042 [00:00<00:03, 482.54it/s]\u001b[A\n",
      " 10%|▉         | 196/2042 [00:00<00:03, 485.87it/s]\u001b[A\n",
      " 12%|█▏        | 246/2042 [00:00<00:03, 482.75it/s]\u001b[A\n",
      " 15%|█▍        | 303/2042 [00:00<00:03, 504.38it/s]\u001b[A\n",
      " 17%|█▋        | 355/2042 [00:00<00:03, 506.77it/s]\u001b[A\n",
      " 20%|██        | 415/2042 [00:00<00:03, 530.46it/s]\u001b[A\n",
      " 23%|██▎       | 466/2042 [00:00<00:03, 511.92it/s]\u001b[A\n",
      " 25%|██▌       | 516/2042 [00:01<00:03, 485.57it/s]\u001b[A\n",
      " 28%|██▊       | 571/2042 [00:01<00:02, 502.34it/s]\u001b[A\n",
      " 31%|███       | 626/2042 [00:01<00:02, 508.94it/s]\u001b[A\n",
      " 33%|███▎      | 677/2042 [00:01<00:02, 501.09it/s]\u001b[A\n",
      " 36%|███▌      | 727/2042 [00:01<00:02, 479.18it/s]\u001b[A\n",
      " 38%|███▊      | 776/2042 [00:01<00:02, 456.93it/s]\u001b[A\n",
      " 40%|████      | 823/2042 [00:01<00:02, 459.91it/s]\u001b[A\n",
      " 43%|████▎     | 879/2042 [00:01<00:02, 483.67it/s]\u001b[A\n",
      " 46%|████▌     | 933/2042 [00:01<00:02, 497.38it/s]\u001b[A\n",
      " 48%|████▊     | 984/2042 [00:01<00:02, 492.90it/s]\u001b[A\n",
      " 51%|█████     | 1040/2042 [00:02<00:01, 505.50it/s]\u001b[A\n",
      " 53%|█████▎    | 1091/2042 [00:02<00:01, 485.57it/s]\u001b[A\n",
      " 56%|█████▌    | 1140/2042 [00:02<00:02, 442.39it/s]\u001b[A\n",
      " 58%|█████▊    | 1192/2042 [00:02<00:01, 462.29it/s]\u001b[A\n",
      " 61%|██████    | 1240/2042 [00:02<00:01, 460.54it/s]\u001b[A\n",
      " 63%|██████▎   | 1289/2042 [00:02<00:01, 466.53it/s]\u001b[A\n",
      " 65%|██████▌   | 1337/2042 [00:02<00:01, 450.66it/s]\u001b[A\n",
      " 68%|██████▊   | 1387/2042 [00:02<00:01, 463.77it/s]\u001b[A\n",
      " 70%|███████   | 1434/2042 [00:02<00:01, 463.56it/s]\u001b[A\n",
      " 73%|███████▎  | 1484/2042 [00:03<00:01, 470.53it/s]\u001b[A\n",
      " 75%|███████▌  | 1533/2042 [00:03<00:01, 470.03it/s]\u001b[A\n",
      " 78%|███████▊  | 1583/2042 [00:03<00:00, 478.45it/s]\u001b[A\n",
      " 80%|███████▉  | 1631/2042 [00:03<00:00, 460.45it/s]\u001b[A\n",
      " 82%|████████▏ | 1678/2042 [00:03<00:00, 419.34it/s]\u001b[A\n",
      " 84%|████████▍ | 1721/2042 [00:03<00:00, 413.11it/s]\u001b[A\n",
      " 86%|████████▋ | 1763/2042 [00:03<00:00, 408.18it/s]\u001b[A\n",
      " 89%|████████▉ | 1819/2042 [00:03<00:00, 442.61it/s]\u001b[A\n",
      " 91%|█████████▏| 1865/2042 [00:03<00:00, 437.45it/s]\u001b[A\n",
      " 94%|█████████▍| 1915/2042 [00:04<00:00, 451.36it/s]\u001b[A\n",
      " 96%|█████████▋| 1970/2042 [00:04<00:00, 475.82it/s]\u001b[A\n",
      "100%|██████████| 2042/2042 [00:04<00:00, 477.45it/s]\u001b[A\n"
     ]
    },
    {
     "name": "stdout",
     "output_type": "stream",
     "text": [
      "------------------------------------\n",
      "\n",
      "0.0    1685\n",
      "1.0     357\n",
      "Name: FA-00-00-00-00, dtype: int64\n",
      "data set size 2042\n",
      "Checkpoint2 -Normalized Vector for Sentences are created\n"
     ]
    },
    {
     "name": "stderr",
     "output_type": "stream",
     "text": [
      " 36%|███▌      | 13/36 [02:09<03:59, 10.40s/it]\n",
      "  0%|          | 0/2011 [00:00<?, ?it/s]\u001b[A\n",
      "  3%|▎         | 52/2011 [00:00<00:03, 511.19it/s]\u001b[A"
     ]
    },
    {
     "name": "stdout",
     "output_type": "stream",
     "text": [
      "logloss: 0.3053\n",
      "brierloss:  0.0893\n",
      "statistics (0.8869, 0.626, 0.8768, 0.7305, 357, 0.3053, 0.0893)\n"
     ]
    },
    {
     "name": "stderr",
     "output_type": "stream",
     "text": [
      "\n",
      "  5%|▍         | 91/2011 [00:00<00:04, 466.73it/s]\u001b[A\n",
      "  7%|▋         | 142/2011 [00:00<00:03, 478.16it/s]\u001b[A\n",
      " 10%|▉         | 199/2011 [00:00<00:03, 499.15it/s]\u001b[A\n",
      " 12%|█▏        | 248/2011 [00:00<00:03, 495.92it/s]\u001b[A\n",
      " 15%|█▌        | 305/2011 [00:00<00:03, 514.75it/s]\u001b[A\n",
      " 18%|█▊        | 362/2011 [00:00<00:03, 529.81it/s]\u001b[A\n",
      " 21%|██        | 419/2011 [00:00<00:02, 534.84it/s]\u001b[A\n",
      " 23%|██▎       | 470/2011 [00:00<00:02, 520.52it/s]\u001b[A\n",
      " 26%|██▌       | 521/2011 [00:01<00:03, 493.74it/s]\u001b[A\n",
      " 29%|██▊       | 577/2011 [00:01<00:02, 511.01it/s]\u001b[A\n",
      " 32%|███▏      | 637/2011 [00:01<00:02, 525.58it/s]\u001b[A\n",
      " 34%|███▍      | 690/2011 [00:01<00:02, 518.54it/s]\u001b[A\n",
      " 37%|███▋      | 742/2011 [00:01<00:02, 494.08it/s]\u001b[A\n",
      " 39%|███▉      | 792/2011 [00:01<00:02, 463.22it/s]\u001b[A\n",
      " 42%|████▏     | 842/2011 [00:01<00:02, 470.57it/s]\u001b[A\n",
      " 45%|████▍     | 900/2011 [00:01<00:02, 497.74it/s]\u001b[A\n",
      " 47%|████▋     | 953/2011 [00:01<00:02, 503.31it/s]\u001b[A\n",
      " 50%|█████     | 1014/2011 [00:01<00:01, 530.92it/s]\u001b[A\n",
      " 53%|█████▎    | 1070/2011 [00:02<00:01, 525.21it/s]\u001b[A\n",
      " 56%|█████▌    | 1124/2011 [00:02<00:01, 506.40it/s]\u001b[A\n",
      " 58%|█████▊    | 1176/2011 [00:02<00:01, 498.52it/s]\u001b[A\n",
      " 61%|██████▏   | 1234/2011 [00:02<00:01, 518.29it/s]\u001b[A\n",
      " 64%|██████▍   | 1287/2011 [00:02<00:01, 517.16it/s]\u001b[A\n",
      " 67%|██████▋   | 1340/2011 [00:02<00:01, 484.96it/s]\u001b[A\n",
      " 69%|██████▉   | 1390/2011 [00:02<00:01, 482.55it/s]\u001b[A\n",
      " 72%|███████▏  | 1439/2011 [00:02<00:01, 477.48it/s]\u001b[A\n",
      " 74%|███████▍  | 1497/2011 [00:02<00:01, 503.78it/s]\u001b[A\n",
      " 77%|███████▋  | 1548/2011 [00:03<00:00, 487.29it/s]\u001b[A\n",
      " 79%|███████▉  | 1598/2011 [00:03<00:00, 479.67it/s]\u001b[A\n",
      " 82%|████████▏ | 1647/2011 [00:03<00:00, 480.03it/s]\u001b[A\n",
      " 84%|████████▍ | 1696/2011 [00:03<00:00, 438.40it/s]\u001b[A\n",
      " 87%|████████▋ | 1741/2011 [00:03<00:00, 440.06it/s]\u001b[A\n",
      " 89%|████████▉ | 1796/2011 [00:03<00:00, 462.31it/s]\u001b[A\n",
      " 92%|█████████▏| 1847/2011 [00:03<00:00, 474.09it/s]\u001b[A\n",
      " 95%|█████████▍| 1907/2011 [00:03<00:00, 505.25it/s]\u001b[A\n",
      "100%|██████████| 2011/2011 [00:03<00:00, 503.20it/s]\u001b[A\n"
     ]
    },
    {
     "name": "stdout",
     "output_type": "stream",
     "text": [
      "------------------------------------\n",
      "\n",
      "0.0    2001\n",
      "1.0      10\n",
      "Name: FA-05-00-00-00, dtype: int64\n",
      "data set size 2011\n",
      "Checkpoint2 -Normalized Vector for Sentences are created\n"
     ]
    },
    {
     "name": "stderr",
     "output_type": "stream",
     "text": [
      " 39%|███▉      | 14/36 [02:23<04:12, 11.47s/it]\n",
      "  0%|          | 0/1791 [00:00<?, ?it/s]\u001b[A\n",
      "  3%|▎         | 46/1791 [00:00<00:03, 457.02it/s]\u001b[A"
     ]
    },
    {
     "name": "stdout",
     "output_type": "stream",
     "text": [
      "logloss: 0.246\n",
      "brierloss:  0.0713\n",
      "statistics (0.9035, 0.0306, 0.6, 0.0583, 10, 0.246, 0.0713)\n"
     ]
    },
    {
     "name": "stderr",
     "output_type": "stream",
     "text": [
      "\n",
      "  5%|▌         | 90/1791 [00:00<00:03, 451.57it/s]\u001b[A\n",
      "  8%|▊         | 141/1791 [00:00<00:03, 463.67it/s]\u001b[A\n",
      " 11%|█         | 197/1791 [00:00<00:03, 488.11it/s]\u001b[A\n",
      " 14%|█▎        | 246/1791 [00:00<00:03, 487.76it/s]\u001b[A\n",
      " 17%|█▋        | 302/1791 [00:00<00:02, 505.82it/s]\u001b[A\n",
      " 20%|██        | 365/1791 [00:00<00:02, 533.12it/s]\u001b[A\n",
      " 23%|██▎       | 419/1791 [00:00<00:02, 534.66it/s]\u001b[A\n",
      " 26%|██▋       | 471/1791 [00:00<00:02, 501.60it/s]\u001b[A\n",
      " 30%|██▉       | 531/1791 [00:01<00:02, 526.02it/s]\u001b[A\n",
      " 33%|███▎      | 586/1791 [00:01<00:02, 531.67it/s]\u001b[A\n",
      " 36%|███▌      | 639/1791 [00:01<00:02, 480.36it/s]\u001b[A\n",
      " 38%|███▊      | 688/1791 [00:01<00:02, 469.05it/s]\u001b[A\n",
      " 41%|████      | 736/1791 [00:01<00:02, 471.89it/s]\u001b[A\n",
      " 44%|████▍     | 795/1791 [00:01<00:01, 501.89it/s]\u001b[A\n",
      " 48%|████▊     | 851/1791 [00:01<00:01, 516.52it/s]\u001b[A\n",
      " 51%|█████     | 906/1791 [00:01<00:01, 524.33it/s]\u001b[A\n",
      " 54%|█████▎    | 959/1791 [00:01<00:01, 514.77it/s]\u001b[A\n",
      " 56%|█████▋    | 1011/1791 [00:02<00:01, 490.19it/s]\u001b[A\n",
      " 60%|██████    | 1076/1791 [00:02<00:01, 527.94it/s]\u001b[A\n",
      " 63%|██████▎   | 1130/1791 [00:02<00:01, 489.10it/s]\u001b[A\n",
      " 66%|██████▌   | 1181/1791 [00:02<00:01, 453.01it/s]\u001b[A\n",
      " 69%|██████▊   | 1228/1791 [00:02<00:01, 428.45it/s]\u001b[A\n",
      " 71%|███████   | 1273/1791 [00:02<00:01, 418.56it/s]\u001b[A\n",
      " 74%|███████▍  | 1327/1791 [00:02<00:01, 446.82it/s]\u001b[A\n",
      " 77%|███████▋  | 1376/1791 [00:02<00:00, 453.10it/s]\u001b[A\n",
      " 80%|███████▉  | 1429/1791 [00:02<00:00, 471.10it/s]\u001b[A\n",
      " 82%|████████▏ | 1477/1791 [00:03<00:00, 451.55it/s]\u001b[A\n",
      " 85%|████████▌ | 1526/1791 [00:03<00:00, 451.53it/s]\u001b[A\n",
      " 88%|████████▊ | 1584/1791 [00:03<00:00, 480.54it/s]\u001b[A\n",
      " 91%|█████████ | 1633/1791 [00:03<00:00, 474.94it/s]\u001b[A\n",
      " 94%|█████████▍| 1685/1791 [00:03<00:00, 485.63it/s]\u001b[A\n",
      "100%|██████████| 1791/1791 [00:03<00:00, 495.68it/s]\u001b[A\n"
     ]
    },
    {
     "name": "stdout",
     "output_type": "stream",
     "text": [
      "------------------------------------\n",
      "\n",
      "0.0    1781\n",
      "1.0      10\n",
      "Name: FA-06-00-00-00, dtype: int64\n",
      "data set size 1791\n",
      "Checkpoint2 -Normalized Vector for Sentences are created\n"
     ]
    },
    {
     "name": "stderr",
     "output_type": "stream",
     "text": [
      " 42%|████▏     | 15/36 [02:28<03:23,  9.68s/it]\n",
      "  0%|          | 0/1968 [00:00<?, ?it/s]\u001b[A\n",
      "  3%|▎         | 53/1968 [00:00<00:03, 517.07it/s]\u001b[A"
     ]
    },
    {
     "name": "stdout",
     "output_type": "stream",
     "text": [
      "logloss: 0.2615\n",
      "brierloss:  0.0765\n",
      "statistics (0.8984, 0.0275, 0.5, 0.0521, 10, 0.2615, 0.0765)\n"
     ]
    },
    {
     "name": "stderr",
     "output_type": "stream",
     "text": [
      "\n",
      "  5%|▌         | 99/1968 [00:00<00:03, 498.37it/s]\u001b[A\n",
      "  8%|▊         | 156/1968 [00:00<00:03, 516.81it/s]\u001b[A\n",
      " 11%|█         | 214/1968 [00:00<00:03, 532.44it/s]\u001b[A\n",
      " 13%|█▎        | 263/1968 [00:00<00:03, 517.93it/s]\u001b[A\n",
      " 16%|█▋        | 322/1968 [00:00<00:03, 536.13it/s]\u001b[A\n",
      " 19%|█▉        | 372/1968 [00:00<00:03, 524.48it/s]\u001b[A\n",
      " 21%|██▏       | 421/1968 [00:00<00:03, 490.46it/s]\u001b[A\n",
      " 24%|██▍       | 468/1968 [00:00<00:03, 480.21it/s]\u001b[A\n",
      " 26%|██▌       | 515/1968 [00:01<00:03, 458.04it/s]\u001b[A\n",
      " 29%|██▊       | 564/1968 [00:01<00:03, 466.77it/s]\u001b[A\n",
      " 31%|███▏      | 617/1968 [00:01<00:02, 476.87it/s]\u001b[A\n",
      " 34%|███▍      | 665/1968 [00:01<00:02, 471.87it/s]\u001b[A\n",
      " 36%|███▌      | 712/1968 [00:01<00:02, 445.36it/s]\u001b[A\n",
      " 38%|███▊      | 757/1968 [00:01<00:02, 431.43it/s]\u001b[A\n",
      " 41%|████      | 805/1968 [00:01<00:02, 437.20it/s]\u001b[A\n",
      " 43%|████▎     | 849/1968 [00:01<00:02, 428.50it/s]\u001b[A\n",
      " 46%|████▌     | 904/1968 [00:01<00:02, 458.84it/s]\u001b[A\n",
      " 49%|████▊     | 956/1968 [00:01<00:02, 472.70it/s]\u001b[A\n",
      " 51%|█████     | 1008/1968 [00:02<00:01, 485.85it/s]\u001b[A\n",
      " 54%|█████▍    | 1058/1968 [00:02<00:01, 485.21it/s]\u001b[A\n",
      " 56%|█████▋    | 1107/1968 [00:02<00:01, 465.14it/s]\u001b[A\n",
      " 59%|█████▉    | 1157/1968 [00:02<00:01, 474.59it/s]\u001b[A\n",
      " 62%|██████▏   | 1217/1968 [00:02<00:01, 506.31it/s]\u001b[A\n",
      " 64%|██████▍   | 1269/1968 [00:02<00:01, 502.04it/s]\u001b[A\n",
      " 67%|██████▋   | 1320/1968 [00:02<00:01, 487.49it/s]\u001b[A\n",
      " 70%|██████▉   | 1370/1968 [00:02<00:01, 468.51it/s]\u001b[A\n",
      " 72%|███████▏  | 1423/1968 [00:02<00:01, 484.58it/s]\u001b[A\n",
      " 75%|███████▍  | 1474/1968 [00:03<00:01, 488.30it/s]\u001b[A\n",
      " 77%|███████▋  | 1524/1968 [00:03<00:00, 480.88it/s]\u001b[A\n",
      " 80%|███████▉  | 1573/1968 [00:03<00:00, 476.86it/s]\u001b[A\n",
      " 82%|████████▏ | 1621/1968 [00:03<00:00, 436.80it/s]\u001b[A\n",
      " 85%|████████▍ | 1670/1968 [00:03<00:00, 449.83it/s]\u001b[A\n",
      " 88%|████████▊ | 1724/1968 [00:03<00:00, 472.85it/s]\u001b[A\n",
      " 90%|█████████ | 1773/1968 [00:03<00:00, 456.93it/s]\u001b[A\n",
      " 92%|█████████▏| 1820/1968 [00:03<00:00, 440.49it/s]\u001b[A\n",
      " 95%|█████████▍| 1869/1968 [00:03<00:00, 453.01it/s]\u001b[A\n",
      "100%|██████████| 1968/1968 [00:04<00:00, 478.35it/s]\u001b[A\n"
     ]
    },
    {
     "name": "stdout",
     "output_type": "stream",
     "text": [
      "------------------------------------\n",
      "\n",
      "0.0    1927\n",
      "1.0      41\n",
      "Name: FA-07-00-00-00, dtype: int64\n",
      "data set size 1968\n",
      "Checkpoint2 -Normalized Vector for Sentences are created\n"
     ]
    },
    {
     "name": "stderr",
     "output_type": "stream",
     "text": [
      " 44%|████▍     | 16/36 [02:57<05:08, 15.43s/it]\n",
      "  0%|          | 0/1517 [00:00<?, ?it/s]\u001b[A\n",
      "  3%|▎         | 42/1517 [00:00<00:03, 417.02it/s]\u001b[A"
     ]
    },
    {
     "name": "stdout",
     "output_type": "stream",
     "text": [
      "logloss: 0.392\n",
      "brierloss:  0.1254\n",
      "statistics (0.8166, 0.0745, 0.6829, 0.1343, 41, 0.392, 0.1254)\n"
     ]
    },
    {
     "name": "stderr",
     "output_type": "stream",
     "text": [
      "\n",
      "  6%|▋         | 98/1517 [00:00<00:03, 451.34it/s]\u001b[A\n",
      " 10%|█         | 153/1517 [00:00<00:02, 474.84it/s]\u001b[A\n",
      " 14%|█▎        | 205/1517 [00:00<00:02, 484.39it/s]\u001b[A\n",
      " 17%|█▋        | 262/1517 [00:00<00:02, 500.34it/s]\u001b[A\n",
      " 21%|██        | 318/1517 [00:00<00:02, 516.62it/s]\u001b[A\n",
      " 24%|██▍       | 366/1517 [00:00<00:02, 503.77it/s]\u001b[A\n",
      " 27%|██▋       | 416/1517 [00:00<00:02, 490.08it/s]\u001b[A\n",
      " 31%|███▏      | 476/1517 [00:00<00:02, 517.64it/s]\u001b[A\n",
      " 35%|███▍      | 527/1517 [00:01<00:01, 503.56it/s]\u001b[A\n",
      " 38%|███▊      | 577/1517 [00:01<00:01, 479.27it/s]\u001b[A\n",
      " 41%|████      | 625/1517 [00:01<00:01, 463.56it/s]\u001b[A\n",
      " 44%|████▍     | 673/1517 [00:01<00:01, 464.66it/s]\u001b[A\n",
      " 48%|████▊     | 732/1517 [00:01<00:01, 495.14it/s]\u001b[A\n",
      " 52%|█████▏    | 789/1517 [00:01<00:01, 514.26it/s]\u001b[A\n",
      " 56%|█████▌    | 846/1517 [00:01<00:01, 526.44it/s]\u001b[A\n",
      " 59%|█████▉    | 900/1517 [00:01<00:01, 521.83it/s]\u001b[A\n",
      " 63%|██████▎   | 953/1517 [00:01<00:01, 494.01it/s]\u001b[A\n",
      " 67%|██████▋   | 1016/1517 [00:01<00:00, 526.42it/s]\u001b[A\n",
      " 71%|███████   | 1070/1517 [00:02<00:00, 495.16it/s]\u001b[A\n",
      " 74%|███████▍  | 1122/1517 [00:02<00:00, 495.59it/s]\u001b[A\n",
      " 77%|███████▋  | 1173/1517 [00:02<00:00, 485.37it/s]\u001b[A\n",
      " 81%|████████  | 1223/1517 [00:02<00:00, 485.92it/s]\u001b[A\n",
      " 84%|████████▍ | 1272/1517 [00:02<00:00, 480.86it/s]\u001b[A\n",
      " 87%|████████▋ | 1321/1517 [00:02<00:00, 470.68it/s]\u001b[A\n",
      " 90%|█████████ | 1369/1517 [00:02<00:00, 436.57it/s]\u001b[A\n",
      " 94%|█████████▍| 1425/1517 [00:02<00:00, 463.25it/s]\u001b[A\n",
      "100%|██████████| 1517/1517 [00:03<00:00, 495.98it/s]\u001b[A\n"
     ]
    },
    {
     "name": "stdout",
     "output_type": "stream",
     "text": [
      "------------------------------------\n",
      "\n",
      "0.0    1504\n",
      "1.0      13\n",
      "Name: GO-00-00-00-00, dtype: int64\n",
      "data set size 1517\n",
      "Checkpoint2 -Normalized Vector for Sentences are created\n"
     ]
    },
    {
     "name": "stderr",
     "output_type": "stream",
     "text": [
      " 47%|████▋     | 17/36 [03:03<03:57, 12.52s/it]\n",
      "  0%|          | 0/1900 [00:00<?, ?it/s]\u001b[A\n",
      "  3%|▎         | 55/1900 [00:00<00:03, 526.76it/s]\u001b[A"
     ]
    },
    {
     "name": "stdout",
     "output_type": "stream",
     "text": [
      "logloss: 0.3374\n",
      "brierloss:  0.1013\n",
      "statistics (0.8662, 0.0103, 0.1538, 0.0193, 13, 0.3374, 0.1013)\n"
     ]
    },
    {
     "name": "stderr",
     "output_type": "stream",
     "text": [
      "\n",
      "  5%|▌         | 96/1900 [00:00<00:03, 478.22it/s]\u001b[A\n",
      "  8%|▊         | 150/1900 [00:00<00:03, 494.97it/s]\u001b[A\n",
      " 11%|█         | 208/1900 [00:00<00:03, 517.30it/s]\u001b[A\n",
      " 13%|█▎        | 255/1900 [00:00<00:03, 501.25it/s]\u001b[A\n",
      " 17%|█▋        | 317/1900 [00:00<00:02, 530.33it/s]\u001b[A\n",
      " 20%|██        | 380/1900 [00:00<00:02, 553.90it/s]\u001b[A\n",
      " 23%|██▎       | 432/1900 [00:00<00:02, 516.25it/s]\u001b[A\n",
      " 25%|██▌       | 482/1900 [00:00<00:02, 496.14it/s]\u001b[A\n",
      " 28%|██▊       | 535/1900 [00:01<00:02, 503.38it/s]\u001b[A\n",
      " 31%|███▏      | 595/1900 [00:01<00:02, 525.99it/s]\u001b[A\n",
      " 34%|███▍      | 648/1900 [00:01<00:02, 498.03it/s]\u001b[A\n",
      " 37%|███▋      | 698/1900 [00:01<00:02, 469.57it/s]\u001b[A\n",
      " 39%|███▉      | 746/1900 [00:01<00:02, 471.53it/s]\u001b[A\n",
      " 42%|████▏     | 794/1900 [00:01<00:02, 465.50it/s]\u001b[A\n",
      " 45%|████▌     | 857/1900 [00:01<00:02, 503.95it/s]\u001b[A\n",
      " 48%|████▊     | 909/1900 [00:01<00:01, 500.19it/s]\u001b[A\n",
      " 51%|█████     | 967/1900 [00:01<00:01, 517.52it/s]\u001b[A\n",
      " 54%|█████▎    | 1020/1900 [00:02<00:01, 520.58it/s]\u001b[A\n",
      " 56%|█████▋    | 1073/1900 [00:02<00:01, 491.73it/s]\u001b[A\n",
      " 60%|█████▉    | 1134/1900 [00:02<00:01, 519.90it/s]\u001b[A\n",
      " 62%|██████▏   | 1187/1900 [00:02<00:01, 501.88it/s]\u001b[A\n",
      " 65%|██████▌   | 1238/1900 [00:02<00:01, 497.03it/s]\u001b[A\n",
      " 68%|██████▊   | 1289/1900 [00:02<00:01, 483.81it/s]\u001b[A\n",
      " 70%|███████   | 1338/1900 [00:02<00:01, 465.22it/s]\u001b[A\n",
      " 73%|███████▎  | 1385/1900 [00:02<00:01, 466.05it/s]\u001b[A\n",
      " 75%|███████▌  | 1432/1900 [00:02<00:01, 466.73it/s]\u001b[A\n",
      " 78%|███████▊  | 1480/1900 [00:02<00:00, 470.11it/s]\u001b[A\n",
      " 80%|████████  | 1528/1900 [00:03<00:00, 465.83it/s]\u001b[A\n",
      " 83%|████████▎ | 1575/1900 [00:03<00:00, 457.54it/s]\u001b[A\n",
      " 85%|████████▌ | 1621/1900 [00:03<00:00, 447.05it/s]\u001b[A\n",
      " 88%|████████▊ | 1678/1900 [00:03<00:00, 477.21it/s]\u001b[A\n",
      " 91%|█████████ | 1727/1900 [00:03<00:00, 476.99it/s]\u001b[A\n",
      " 93%|█████████▎| 1776/1900 [00:03<00:00, 475.06it/s]\u001b[A\n",
      " 96%|█████████▋| 1830/1900 [00:03<00:00, 488.65it/s]\u001b[A\n",
      "100%|██████████| 1900/1900 [00:03<00:00, 496.41it/s]\u001b[A\n"
     ]
    },
    {
     "name": "stdout",
     "output_type": "stream",
     "text": [
      "------------------------------------\n",
      "\n",
      "0.0    1778\n",
      "1.0     122\n",
      "Name: HE-00-00-00-00, dtype: int64\n",
      "data set size 1900\n",
      "Checkpoint2 -Normalized Vector for Sentences are created\n"
     ]
    },
    {
     "name": "stderr",
     "output_type": "stream",
     "text": [
      " 50%|█████     | 18/36 [03:09<03:12, 10.70s/it]\n",
      "  0%|          | 0/2132 [00:00<?, ?it/s]\u001b[A\n",
      "  3%|▎         | 57/2132 [00:00<00:03, 568.35it/s]\u001b[A"
     ]
    },
    {
     "name": "stdout",
     "output_type": "stream",
     "text": [
      "logloss: 0.2289\n",
      "brierloss:  0.0621\n",
      "statistics (0.9316, 0.4825, 0.9016, 0.6286, 122, 0.2289, 0.0621)\n"
     ]
    },
    {
     "name": "stderr",
     "output_type": "stream",
     "text": [
      "\n",
      "  5%|▍         | 102/2132 [00:00<00:03, 521.62it/s]\u001b[A\n",
      "  7%|▋         | 157/2132 [00:00<00:03, 525.55it/s]\u001b[A\n",
      " 10%|█         | 214/2132 [00:00<00:03, 535.63it/s]\u001b[A\n",
      " 12%|█▏        | 261/2132 [00:00<00:03, 510.08it/s]\u001b[A\n",
      " 15%|█▌        | 321/2132 [00:00<00:03, 533.30it/s]\u001b[A\n",
      " 18%|█▊        | 375/2132 [00:00<00:03, 534.38it/s]\u001b[A\n",
      " 20%|██        | 434/2132 [00:00<00:03, 545.24it/s]\u001b[A\n",
      " 23%|██▎       | 486/2132 [00:00<00:03, 507.75it/s]\u001b[A\n",
      " 25%|██▌       | 541/2132 [00:01<00:03, 510.86it/s]\u001b[A\n",
      " 28%|██▊       | 603/2132 [00:01<00:02, 537.39it/s]\u001b[A\n",
      " 31%|███       | 657/2132 [00:01<00:02, 537.12it/s]\u001b[A\n",
      " 33%|███▎      | 711/2132 [00:01<00:02, 501.41it/s]\u001b[A\n",
      " 36%|███▌      | 762/2132 [00:01<00:02, 479.69it/s]\u001b[A\n",
      " 38%|███▊      | 811/2132 [00:01<00:02, 466.27it/s]\u001b[A\n",
      " 40%|████      | 861/2132 [00:01<00:02, 475.62it/s]\u001b[A\n",
      " 43%|████▎     | 924/2132 [00:01<00:02, 513.09it/s]\u001b[A\n",
      " 46%|████▌     | 978/2132 [00:01<00:02, 517.46it/s]\u001b[A\n",
      " 49%|████▊     | 1035/2132 [00:01<00:02, 531.78it/s]\u001b[A\n",
      " 51%|█████     | 1089/2132 [00:02<00:02, 520.39it/s]\u001b[A\n",
      " 54%|█████▎    | 1142/2132 [00:02<00:02, 493.94it/s]\u001b[A\n",
      " 56%|█████▋    | 1202/2132 [00:02<00:01, 520.90it/s]\u001b[A\n",
      " 59%|█████▉    | 1255/2132 [00:02<00:01, 508.69it/s]\u001b[A\n",
      " 61%|██████▏   | 1307/2132 [00:02<00:01, 498.33it/s]\u001b[A\n",
      " 64%|██████▎   | 1358/2132 [00:02<00:01, 485.63it/s]\u001b[A\n",
      " 66%|██████▌   | 1407/2132 [00:02<00:01, 477.93it/s]\u001b[A\n",
      " 68%|██████▊   | 1456/2132 [00:02<00:01, 481.08it/s]\u001b[A\n",
      " 71%|███████   | 1507/2132 [00:02<00:01, 488.34it/s]\u001b[A\n",
      " 73%|███████▎  | 1557/2132 [00:03<00:01, 474.85it/s]\u001b[A\n",
      " 75%|███████▌  | 1606/2132 [00:03<00:01, 469.60it/s]\u001b[A\n",
      " 78%|███████▊  | 1654/2132 [00:03<00:01, 450.48it/s]\u001b[A\n",
      " 80%|███████▉  | 1700/2132 [00:03<00:00, 438.84it/s]\u001b[A\n",
      " 82%|████████▏ | 1745/2132 [00:03<00:00, 433.05it/s]\u001b[A\n",
      " 84%|████████▍ | 1789/2132 [00:03<00:00, 429.75it/s]\u001b[A\n",
      " 86%|████████▌ | 1833/2132 [00:03<00:00, 423.07it/s]\u001b[A\n",
      " 88%|████████▊ | 1885/2132 [00:03<00:00, 446.98it/s]\u001b[A\n",
      " 91%|█████████ | 1931/2132 [00:03<00:00, 438.97it/s]\u001b[A\n",
      " 93%|█████████▎| 1976/2132 [00:04<00:00, 432.45it/s]\u001b[A\n",
      " 95%|█████████▌| 2031/2132 [00:04<00:00, 461.68it/s]\u001b[A\n",
      "100%|██████████| 2132/2132 [00:04<00:00, 492.68it/s]\u001b[A\n"
     ]
    },
    {
     "name": "stdout",
     "output_type": "stream",
     "text": [
      "------------------------------------\n",
      "\n",
      "0.0    1582\n",
      "1.0     550\n",
      "Name: HO-00-00-00-00, dtype: int64\n",
      "data set size 2132\n",
      "Checkpoint2 -Normalized Vector for Sentences are created\n"
     ]
    },
    {
     "name": "stderr",
     "output_type": "stream",
     "text": [
      " 53%|█████▎    | 19/36 [03:24<03:22, 11.90s/it]\n",
      "  0%|          | 0/1662 [00:00<?, ?it/s]\u001b[A\n",
      "  3%|▎         | 56/1662 [00:00<00:02, 543.14it/s]\u001b[A"
     ]
    },
    {
     "name": "stdout",
     "output_type": "stream",
     "text": [
      "logloss: 0.2645\n",
      "brierloss:  0.0745\n",
      "statistics (0.9128, 0.7935, 0.8945, 0.841, 550, 0.2645, 0.0745)\n"
     ]
    },
    {
     "name": "stderr",
     "output_type": "stream",
     "text": [
      "\n",
      "  7%|▋         | 117/1662 [00:00<00:02, 561.49it/s]\u001b[A\n",
      " 10%|█         | 168/1662 [00:00<00:02, 544.79it/s]\u001b[A\n",
      " 13%|█▎        | 217/1662 [00:00<00:02, 525.34it/s]\u001b[A\n",
      " 17%|█▋        | 276/1662 [00:00<00:02, 542.79it/s]\u001b[A\n",
      " 20%|█▉        | 332/1662 [00:00<00:02, 546.49it/s]\u001b[A\n",
      " 23%|██▎       | 381/1662 [00:00<00:02, 517.83it/s]\u001b[A\n",
      " 26%|██▋       | 437/1662 [00:00<00:02, 528.02it/s]\u001b[A\n",
      " 30%|██▉       | 492/1662 [00:00<00:02, 533.84it/s]\u001b[A\n",
      " 33%|███▎      | 544/1662 [00:01<00:02, 520.59it/s]\u001b[A\n",
      " 36%|███▌      | 595/1662 [00:01<00:02, 492.58it/s]\u001b[A\n",
      " 39%|███▉      | 646/1662 [00:01<00:02, 492.88it/s]\u001b[A\n",
      " 42%|████▏     | 699/1662 [00:01<00:01, 501.32it/s]\u001b[A\n",
      " 45%|████▌     | 754/1662 [00:01<00:01, 512.22it/s]\u001b[A\n",
      " 49%|████▉     | 813/1662 [00:01<00:01, 533.11it/s]\u001b[A\n",
      " 52%|█████▏    | 867/1662 [00:01<00:01, 525.68it/s]\u001b[A\n",
      " 55%|█████▌    | 920/1662 [00:01<00:01, 509.23it/s]\u001b[A\n",
      " 59%|█████▉    | 979/1662 [00:01<00:01, 529.63it/s]\u001b[A\n",
      " 62%|██████▏   | 1033/1662 [00:01<00:01, 515.51it/s]\u001b[A\n",
      " 65%|██████▌   | 1085/1662 [00:02<00:01, 485.50it/s]\u001b[A\n",
      " 68%|██████▊   | 1135/1662 [00:02<00:01, 489.22it/s]\u001b[A\n",
      " 72%|███████▏  | 1189/1662 [00:02<00:00, 502.63it/s]\u001b[A\n",
      " 75%|███████▍  | 1240/1662 [00:02<00:00, 484.52it/s]\u001b[A\n",
      " 78%|███████▊  | 1289/1662 [00:02<00:00, 470.19it/s]\u001b[A\n",
      " 80%|████████  | 1337/1662 [00:02<00:00, 436.13it/s]\u001b[A\n",
      " 83%|████████▎ | 1382/1662 [00:02<00:00, 426.57it/s]\u001b[A\n",
      " 87%|████████▋ | 1439/1662 [00:02<00:00, 460.33it/s]\u001b[A\n",
      " 89%|████████▉ | 1487/1662 [00:02<00:00, 451.41it/s]\u001b[A\n",
      " 92%|█████████▏| 1533/1662 [00:03<00:00, 443.84it/s]\u001b[A\n",
      " 96%|█████████▌| 1593/1662 [00:03<00:00, 481.28it/s]\u001b[A\n",
      "100%|██████████| 1662/1662 [00:03<00:00, 504.11it/s]\u001b[A\n"
     ]
    },
    {
     "name": "stdout",
     "output_type": "stream",
     "text": [
      "------------------------------------\n",
      "\n",
      "0.0    1628\n",
      "1.0      34\n",
      "Name: HO-06-00-00-00, dtype: int64\n",
      "data set size 1662\n",
      "Checkpoint2 -Normalized Vector for Sentences are created\n"
     ]
    },
    {
     "name": "stderr",
     "output_type": "stream",
     "text": [
      " 56%|█████▌    | 20/36 [03:29<02:36,  9.80s/it]\n",
      "  0%|          | 0/1653 [00:00<?, ?it/s]\u001b[A\n",
      "  3%|▎         | 55/1653 [00:00<00:02, 542.65it/s]\u001b[A"
     ]
    },
    {
     "name": "stdout",
     "output_type": "stream",
     "text": [
      "logloss: 0.315\n",
      "brierloss:  0.0912\n",
      "statistics (0.8935, 0.1295, 0.7353, 0.2203, 34, 0.315, 0.0912)\n"
     ]
    },
    {
     "name": "stderr",
     "output_type": "stream",
     "text": [
      "\n",
      "  7%|▋         | 116/1653 [00:00<00:02, 560.38it/s]\u001b[A\n",
      " 10%|█         | 168/1653 [00:00<00:02, 543.58it/s]\u001b[A\n",
      " 13%|█▎        | 214/1653 [00:00<00:02, 514.50it/s]\u001b[A\n",
      " 17%|█▋        | 274/1653 [00:00<00:02, 534.89it/s]\u001b[A\n",
      " 20%|██        | 331/1653 [00:00<00:02, 543.96it/s]\u001b[A\n",
      " 23%|██▎       | 380/1653 [00:00<00:02, 517.00it/s]\u001b[A\n",
      " 26%|██▌       | 429/1653 [00:00<00:02, 508.56it/s]\u001b[A\n",
      " 29%|██▉       | 486/1653 [00:00<00:02, 521.92it/s]\u001b[A\n",
      " 32%|███▏      | 537/1653 [00:01<00:02, 510.94it/s]\u001b[A\n",
      " 36%|███▌      | 587/1653 [00:01<00:02, 485.04it/s]\u001b[A\n",
      " 39%|███▊      | 640/1653 [00:01<00:02, 495.14it/s]\u001b[A\n",
      " 42%|████▏     | 691/1653 [00:01<00:01, 499.33it/s]\u001b[A\n",
      " 45%|████▌     | 748/1653 [00:01<00:01, 517.10it/s]\u001b[A\n",
      " 49%|████▉     | 807/1653 [00:01<00:01, 531.38it/s]\u001b[A\n",
      " 52%|█████▏    | 862/1653 [00:01<00:01, 536.74it/s]\u001b[A\n",
      " 55%|█████▌    | 916/1653 [00:01<00:01, 512.60it/s]\u001b[A\n",
      " 59%|█████▉    | 977/1653 [00:01<00:01, 536.42it/s]\u001b[A\n",
      " 62%|██████▏   | 1032/1653 [00:01<00:01, 513.17it/s]\u001b[A\n",
      " 66%|██████▌   | 1084/1653 [00:02<00:01, 484.94it/s]\u001b[A\n",
      " 69%|██████▊   | 1136/1653 [00:02<00:01, 493.25it/s]\u001b[A\n",
      " 72%|███████▏  | 1188/1653 [00:02<00:00, 499.49it/s]\u001b[A\n",
      " 75%|███████▍  | 1239/1653 [00:02<00:00, 500.44it/s]\u001b[A\n",
      " 78%|███████▊  | 1290/1653 [00:02<00:00, 482.44it/s]\u001b[A\n",
      " 81%|████████  | 1339/1653 [00:02<00:00, 441.73it/s]\u001b[A\n",
      " 84%|████████▍ | 1385/1653 [00:02<00:00, 447.04it/s]\u001b[A\n",
      " 87%|████████▋ | 1442/1653 [00:02<00:00, 477.35it/s]\u001b[A\n",
      " 90%|█████████ | 1491/1653 [00:02<00:00, 464.58it/s]\u001b[A\n",
      " 93%|█████████▎| 1541/1653 [00:03<00:00, 470.58it/s]\u001b[A\n",
      "100%|██████████| 1653/1653 [00:03<00:00, 506.16it/s]\u001b[A\n"
     ]
    },
    {
     "name": "stdout",
     "output_type": "stream",
     "text": [
      "------------------------------------\n",
      "\n",
      "0.0    1626\n",
      "1.0      27\n",
      "Name: HO-09-00-00-00, dtype: int64\n",
      "data set size 1653\n",
      "Checkpoint2 -Normalized Vector for Sentences are created\n"
     ]
    },
    {
     "name": "stderr",
     "output_type": "stream",
     "text": [
      " 58%|█████▊    | 21/36 [03:37<02:18,  9.22s/it]\n",
      "  0%|          | 0/1964 [00:00<?, ?it/s]\u001b[A\n",
      "  3%|▎         | 55/1964 [00:00<00:03, 547.95it/s]\u001b[A"
     ]
    },
    {
     "name": "stdout",
     "output_type": "stream",
     "text": [
      "logloss: 0.239\n",
      "brierloss:  0.0665\n",
      "statistics (0.9226, 0.1469, 0.7778, 0.2471, 27, 0.239, 0.0665)\n"
     ]
    },
    {
     "name": "stderr",
     "output_type": "stream",
     "text": [
      "\n",
      "  5%|▍         | 96/1964 [00:00<00:03, 491.84it/s]\u001b[A\n",
      "  8%|▊         | 152/1964 [00:00<00:03, 510.15it/s]\u001b[A\n",
      " 10%|█         | 205/1964 [00:00<00:03, 514.29it/s]\u001b[A\n",
      " 13%|█▎        | 250/1964 [00:00<00:03, 492.99it/s]\u001b[A\n",
      " 16%|█▌        | 309/1964 [00:00<00:03, 516.10it/s]\u001b[A\n",
      " 19%|█▊        | 365/1964 [00:00<00:03, 527.33it/s]\u001b[A\n",
      " 21%|██▏       | 420/1964 [00:00<00:02, 533.59it/s]\u001b[A\n",
      " 24%|██▍       | 471/1964 [00:00<00:02, 512.86it/s]\u001b[A\n",
      " 27%|██▋       | 521/1964 [00:01<00:02, 490.17it/s]\u001b[A\n",
      " 29%|██▉       | 575/1964 [00:01<00:02, 502.37it/s]\u001b[A\n",
      " 32%|███▏      | 631/1964 [00:01<00:02, 516.66it/s]\u001b[A\n",
      " 35%|███▍      | 683/1964 [00:01<00:02, 505.07it/s]\u001b[A\n",
      " 37%|███▋      | 734/1964 [00:01<00:02, 477.10it/s]\u001b[A\n",
      " 40%|███▉      | 782/1964 [00:01<00:02, 463.81it/s]\u001b[A\n",
      " 42%|████▏     | 829/1964 [00:01<00:02, 456.23it/s]\u001b[A\n",
      " 45%|████▌     | 888/1964 [00:01<00:02, 489.47it/s]\u001b[A\n",
      " 48%|████▊     | 939/1964 [00:01<00:02, 487.49it/s]\u001b[A\n",
      " 51%|█████     | 997/1964 [00:01<00:01, 511.53it/s]\u001b[A\n",
      " 53%|█████▎    | 1050/1964 [00:02<00:01, 516.38it/s]\u001b[A\n",
      " 56%|█████▌    | 1103/1964 [00:02<00:01, 502.25it/s]\u001b[A\n",
      " 59%|█████▉    | 1154/1964 [00:02<00:01, 488.21it/s]\u001b[A\n",
      " 62%|██████▏   | 1214/1964 [00:02<00:01, 511.92it/s]\u001b[A\n",
      " 64%|██████▍   | 1266/1964 [00:02<00:01, 503.77it/s]\u001b[A\n",
      " 67%|██████▋   | 1317/1964 [00:02<00:01, 490.43it/s]\u001b[A\n",
      " 70%|██████▉   | 1367/1964 [00:02<00:01, 481.68it/s]\u001b[A\n",
      " 72%|███████▏  | 1416/1964 [00:02<00:01, 467.81it/s]\u001b[A\n",
      " 75%|███████▍  | 1467/1964 [00:02<00:01, 479.27it/s]\u001b[A\n",
      " 77%|███████▋  | 1516/1964 [00:03<00:00, 470.97it/s]\u001b[A\n",
      " 80%|███████▉  | 1564/1964 [00:03<00:00, 460.37it/s]\u001b[A\n",
      " 82%|████████▏ | 1611/1964 [00:03<00:00, 445.72it/s]\u001b[A\n",
      " 84%|████████▍ | 1656/1964 [00:03<00:00, 422.23it/s]\u001b[A\n",
      " 87%|████████▋ | 1707/1964 [00:03<00:00, 444.85it/s]\u001b[A\n",
      " 89%|████████▉ | 1756/1964 [00:03<00:00, 453.99it/s]\u001b[A\n",
      " 92%|█████████▏| 1804/1964 [00:03<00:00, 460.44it/s]\u001b[A\n",
      " 95%|█████████▍| 1857/1964 [00:03<00:00, 478.87it/s]\u001b[A\n",
      "100%|██████████| 1964/1964 [00:03<00:00, 491.68it/s]\u001b[A\n"
     ]
    },
    {
     "name": "stdout",
     "output_type": "stream",
     "text": [
      "------------------------------------\n",
      "\n",
      "0.0    1928\n",
      "1.0      36\n",
      "Name: IM-00-00-00-00, dtype: int64\n",
      "data set size 1964\n",
      "Checkpoint2 -Normalized Vector for Sentences are created\n"
     ]
    },
    {
     "name": "stderr",
     "output_type": "stream",
     "text": [
      " 61%|██████    | 22/36 [03:45<02:04,  8.86s/it]\n",
      "  0%|          | 0/1429 [00:00<?, ?it/s]\u001b[A\n",
      "  3%|▎         | 46/1429 [00:00<00:03, 445.47it/s]\u001b[A"
     ]
    },
    {
     "name": "stdout",
     "output_type": "stream",
     "text": [
      "logloss: 0.2065\n",
      "brierloss:  0.0563\n",
      "statistics (0.9333, 0.1854, 0.7778, 0.2995, 36, 0.2065, 0.0563)\n"
     ]
    },
    {
     "name": "stderr",
     "output_type": "stream",
     "text": [
      "\n",
      "  7%|▋         | 103/1429 [00:00<00:02, 474.62it/s]\u001b[A\n",
      " 11%|█         | 158/1429 [00:00<00:02, 494.29it/s]\u001b[A\n",
      " 14%|█▍        | 206/1429 [00:00<00:02, 488.88it/s]\u001b[A\n",
      " 19%|█▊        | 266/1429 [00:00<00:02, 517.04it/s]\u001b[A\n",
      " 23%|██▎       | 327/1429 [00:00<00:02, 540.98it/s]\u001b[A\n",
      " 26%|██▋       | 377/1429 [00:00<00:02, 501.73it/s]\u001b[A\n",
      " 30%|███       | 434/1429 [00:00<00:01, 519.67it/s]\u001b[A\n",
      " 34%|███▍      | 489/1429 [00:00<00:01, 523.31it/s]\u001b[A\n",
      " 38%|███▊      | 541/1429 [00:01<00:01, 516.30it/s]\u001b[A\n",
      " 41%|████▏     | 592/1429 [00:01<00:01, 499.99it/s]\u001b[A\n",
      " 45%|████▍     | 642/1429 [00:01<00:01, 488.35it/s]\u001b[A\n",
      " 49%|████▉     | 705/1429 [00:01<00:01, 523.02it/s]\u001b[A\n",
      " 53%|█████▎    | 762/1429 [00:01<00:01, 534.94it/s]\u001b[A\n",
      " 57%|█████▋    | 816/1429 [00:01<00:01, 524.15it/s]\u001b[A\n",
      " 61%|██████    | 869/1429 [00:01<00:01, 507.76it/s]\u001b[A\n",
      " 65%|██████▍   | 923/1429 [00:01<00:00, 514.97it/s]\u001b[A\n",
      " 68%|██████▊   | 975/1429 [00:01<00:00, 508.02it/s]\u001b[A\n",
      " 72%|███████▏  | 1027/1429 [00:02<00:00, 479.35it/s]\u001b[A\n",
      " 75%|███████▌  | 1078/1429 [00:02<00:00, 487.53it/s]\u001b[A\n",
      " 79%|███████▉  | 1128/1429 [00:02<00:00, 484.68it/s]\u001b[A\n",
      " 82%|████████▏ | 1178/1429 [00:02<00:00, 485.34it/s]\u001b[A\n",
      " 86%|████████▌ | 1227/1429 [00:02<00:00, 470.76it/s]\u001b[A\n",
      " 90%|████████▉ | 1283/1429 [00:02<00:00, 493.40it/s]\u001b[A\n",
      " 93%|█████████▎| 1333/1429 [00:02<00:00, 455.15it/s]\u001b[A\n",
      "100%|██████████| 1429/1429 [00:02<00:00, 507.51it/s]\u001b[A\n"
     ]
    },
    {
     "name": "stdout",
     "output_type": "stream",
     "text": [
      "------------------------------------\n",
      "\n",
      "0.0    1063\n",
      "1.0     366\n",
      "Name: MO-00-00-00-00, dtype: int64\n",
      "data set size 1429\n",
      "Checkpoint2 -Normalized Vector for Sentences are created\n"
     ]
    },
    {
     "name": "stderr",
     "output_type": "stream",
     "text": [
      " 64%|██████▍   | 23/36 [03:49<01:36,  7.44s/it]\n",
      "  0%|          | 0/1949 [00:00<?, ?it/s]\u001b[A\n",
      "  3%|▎         | 56/1949 [00:00<00:03, 533.19it/s]\u001b[A"
     ]
    },
    {
     "name": "stdout",
     "output_type": "stream",
     "text": [
      "logloss: 0.4226\n",
      "brierloss:  0.1331\n",
      "statistics (0.8258, 0.6206, 0.8224, 0.7074, 366, 0.4226, 0.1331)\n"
     ]
    },
    {
     "name": "stderr",
     "output_type": "stream",
     "text": [
      "\n",
      "  5%|▌         | 98/1949 [00:00<00:03, 492.84it/s]\u001b[A\n",
      "  8%|▊         | 153/1949 [00:00<00:03, 507.48it/s]\u001b[A\n",
      " 11%|█         | 210/1949 [00:00<00:03, 524.60it/s]\u001b[A\n",
      " 13%|█▎        | 255/1949 [00:00<00:03, 498.43it/s]\u001b[A\n",
      " 16%|█▌        | 313/1949 [00:00<00:03, 519.85it/s]\u001b[A\n",
      " 19%|█▉        | 377/1949 [00:00<00:02, 550.35it/s]\u001b[A\n",
      " 22%|██▏       | 429/1949 [00:00<00:02, 540.04it/s]\u001b[A\n",
      " 25%|██▍       | 481/1949 [00:00<00:02, 500.47it/s]\u001b[A\n",
      " 28%|██▊       | 538/1949 [00:01<00:02, 518.18it/s]\u001b[A\n",
      " 31%|███       | 597/1949 [00:01<00:02, 535.51it/s]\u001b[A\n",
      " 33%|███▎      | 651/1949 [00:01<00:02, 513.66it/s]\u001b[A\n",
      " 36%|███▌      | 703/1949 [00:01<00:02, 491.98it/s]\u001b[A\n",
      " 39%|███▊      | 753/1949 [00:01<00:02, 484.47it/s]\u001b[A\n",
      " 41%|████      | 802/1949 [00:01<00:02, 476.90it/s]\u001b[A\n",
      " 44%|████▍     | 858/1949 [00:01<00:02, 498.91it/s]\u001b[A\n",
      " 47%|████▋     | 912/1949 [00:01<00:02, 508.31it/s]\u001b[A\n",
      " 50%|████▉     | 970/1949 [00:01<00:01, 526.30it/s]\u001b[A\n",
      " 53%|█████▎    | 1024/1949 [00:01<00:01, 516.78it/s]\u001b[A\n",
      " 55%|█████▌    | 1076/1949 [00:02<00:01, 498.04it/s]\u001b[A\n",
      " 58%|█████▊    | 1130/1949 [00:02<00:01, 507.94it/s]\u001b[A\n",
      " 61%|██████    | 1185/1949 [00:02<00:01, 519.54it/s]\u001b[A\n",
      " 64%|██████▎   | 1238/1949 [00:02<00:01, 502.48it/s]\u001b[A\n",
      " 66%|██████▌   | 1289/1949 [00:02<00:01, 478.21it/s]\u001b[A\n",
      " 69%|██████▊   | 1338/1949 [00:02<00:01, 460.69it/s]\u001b[A\n",
      " 71%|███████▏  | 1389/1949 [00:02<00:01, 473.37it/s]\u001b[A\n",
      " 74%|███████▍  | 1438/1949 [00:02<00:01, 474.90it/s]\u001b[A\n",
      " 76%|███████▌  | 1486/1949 [00:02<00:00, 471.78it/s]\u001b[A\n",
      " 79%|███████▊  | 1534/1949 [00:03<00:00, 466.06it/s]\u001b[A\n",
      " 81%|████████  | 1581/1949 [00:03<00:00, 461.62it/s]\u001b[A\n",
      " 84%|████████▎ | 1628/1949 [00:03<00:00, 445.65it/s]\u001b[A\n",
      " 86%|████████▌ | 1673/1949 [00:03<00:00, 441.39it/s]\u001b[A\n",
      " 88%|████████▊ | 1723/1949 [00:03<00:00, 457.04it/s]\u001b[A\n",
      " 91%|█████████ | 1769/1949 [00:03<00:00, 453.38it/s]\u001b[A\n",
      " 93%|█████████▎| 1816/1949 [00:03<00:00, 457.31it/s]\u001b[A\n",
      " 96%|█████████▋| 1876/1949 [00:03<00:00, 489.70it/s]\u001b[A\n",
      "100%|██████████| 1949/1949 [00:03<00:00, 496.35it/s]\u001b[A\n"
     ]
    },
    {
     "name": "stdout",
     "output_type": "stream",
     "text": [
      "------------------------------------\n",
      "\n",
      "0.0    1937\n",
      "1.0      12\n",
      "Name: MO-02-00-00-00, dtype: int64\n",
      "data set size 1949\n",
      "Checkpoint2 -Normalized Vector for Sentences are created\n"
     ]
    },
    {
     "name": "stderr",
     "output_type": "stream",
     "text": [
      " 67%|██████▋   | 24/36 [03:54<01:20,  6.68s/it]\n",
      "  0%|          | 0/1129 [00:00<?, ?it/s]\u001b[A\n",
      "  4%|▍         | 49/1129 [00:00<00:02, 487.27it/s]\u001b[A"
     ]
    },
    {
     "name": "stdout",
     "output_type": "stream",
     "text": [
      "logloss: 0.2327\n",
      "brierloss:  0.0639\n",
      "statistics (0.9174, 0.0429, 0.5833, 0.08, 12, 0.2327, 0.0639)\n"
     ]
    },
    {
     "name": "stderr",
     "output_type": "stream",
     "text": [
      "\n",
      "  9%|▉         | 107/1129 [00:00<00:02, 510.85it/s]\u001b[A\n",
      " 14%|█▎        | 155/1129 [00:00<00:01, 501.05it/s]\u001b[A\n",
      " 20%|█▉        | 223/1129 [00:00<00:01, 542.49it/s]\u001b[A\n",
      " 25%|██▌       | 283/1129 [00:00<00:01, 553.93it/s]\u001b[A\n",
      " 30%|██▉       | 334/1129 [00:00<00:01, 539.05it/s]\u001b[A\n",
      " 35%|███▍      | 392/1129 [00:00<00:01, 542.16it/s]\u001b[A\n",
      " 39%|███▉      | 443/1129 [00:00<00:01, 526.89it/s]\u001b[A\n",
      " 44%|████▍     | 494/1129 [00:00<00:01, 505.57it/s]\u001b[A\n",
      " 49%|████▉     | 555/1129 [00:01<00:01, 530.59it/s]\u001b[A\n",
      " 55%|█████▍    | 620/1129 [00:01<00:00, 559.50it/s]\u001b[A\n",
      " 60%|█████▉    | 676/1129 [00:01<00:00, 519.00it/s]\u001b[A\n",
      " 65%|██████▌   | 736/1129 [00:01<00:00, 540.82it/s]\u001b[A\n",
      " 70%|███████   | 791/1129 [00:01<00:00, 514.15it/s]\u001b[A\n",
      " 75%|███████▍  | 844/1129 [00:01<00:00, 513.10it/s]\u001b[A\n",
      " 79%|███████▉  | 896/1129 [00:01<00:00, 508.84it/s]\u001b[A\n",
      " 84%|████████▍ | 951/1129 [00:01<00:00, 515.72it/s]\u001b[A\n",
      " 89%|████████▉ | 1003/1129 [00:01<00:00, 478.33it/s]\u001b[A\n",
      " 94%|█████████▍| 1062/1129 [00:02<00:00, 506.21it/s]\u001b[A\n",
      "100%|██████████| 1129/1129 [00:02<00:00, 530.60it/s]\u001b[A\n"
     ]
    },
    {
     "name": "stdout",
     "output_type": "stream",
     "text": [
      "------------------------------------\n",
      "\n",
      "0.0    1116\n",
      "1.0      13\n",
      "Name: MO-07-00-00-00, dtype: int64\n",
      "data set size 1129\n",
      "Checkpoint2 -Normalized Vector for Sentences are created\n"
     ]
    },
    {
     "name": "stderr",
     "output_type": "stream",
     "text": [
      " 69%|██████▉   | 25/36 [03:57<01:01,  5.55s/it]\n",
      "  0%|          | 0/1106 [00:00<?, ?it/s]\u001b[A\n",
      "  5%|▍         | 50/1106 [00:00<00:02, 494.58it/s]\u001b[A"
     ]
    },
    {
     "name": "stdout",
     "output_type": "stream",
     "text": [
      "logloss: 0.2485\n",
      "brierloss:  0.0699\n",
      "statistics (0.9176, 0.0918, 0.6923, 0.1622, 13, 0.2485, 0.0699)\n"
     ]
    },
    {
     "name": "stderr",
     "output_type": "stream",
     "text": [
      "\n",
      " 10%|▉         | 106/1106 [00:00<00:01, 512.43it/s]\u001b[A\n",
      " 14%|█▎        | 152/1106 [00:00<00:01, 495.28it/s]\u001b[A\n",
      " 20%|█▉        | 219/1106 [00:00<00:01, 537.21it/s]\u001b[A\n",
      " 25%|██▌       | 277/1106 [00:00<00:01, 549.19it/s]\u001b[A\n",
      " 29%|██▉       | 325/1106 [00:00<00:01, 522.13it/s]\u001b[A\n",
      " 35%|███▍      | 384/1106 [00:00<00:01, 533.50it/s]\u001b[A\n",
      " 39%|███▉      | 434/1106 [00:00<00:01, 516.32it/s]\u001b[A\n",
      " 44%|████▍     | 484/1106 [00:00<00:01, 501.80it/s]\u001b[A\n",
      " 49%|████▉     | 541/1106 [00:01<00:01, 519.28it/s]\u001b[A\n",
      " 55%|█████▍    | 603/1106 [00:01<00:00, 545.24it/s]\u001b[A\n",
      " 59%|█████▉    | 658/1106 [00:01<00:00, 522.75it/s]\u001b[A\n",
      " 65%|██████▍   | 718/1106 [00:01<00:00, 539.15it/s]\u001b[A\n",
      " 70%|██████▉   | 773/1106 [00:01<00:00, 515.41it/s]\u001b[A\n",
      " 75%|███████▍  | 825/1106 [00:01<00:00, 510.14it/s]\u001b[A\n",
      " 79%|███████▉  | 878/1106 [00:01<00:00, 514.53it/s]\u001b[A\n",
      " 84%|████████▍ | 932/1106 [00:01<00:00, 520.70it/s]\u001b[A\n",
      " 89%|████████▉ | 985/1106 [00:01<00:00, 518.25it/s]\u001b[A\n",
      " 94%|█████████▍| 1039/1106 [00:01<00:00, 524.01it/s]\u001b[A\n",
      "100%|██████████| 1106/1106 [00:02<00:00, 531.30it/s]\u001b[A\n"
     ]
    },
    {
     "name": "stdout",
     "output_type": "stream",
     "text": [
      "------------------------------------\n",
      "\n",
      "0.0    1095\n",
      "1.0      11\n",
      "Name: MO-10-00-00-00, dtype: int64\n",
      "data set size 1106\n",
      "Checkpoint2 -Normalized Vector for Sentences are created\n"
     ]
    },
    {
     "name": "stderr",
     "output_type": "stream",
     "text": [
      " 72%|███████▏  | 26/36 [04:02<00:52,  5.29s/it]\n",
      "  0%|          | 0/1396 [00:00<?, ?it/s]\u001b[A\n",
      "  3%|▎         | 47/1396 [00:00<00:02, 457.31it/s]\u001b[A"
     ]
    },
    {
     "name": "stdout",
     "output_type": "stream",
     "text": [
      "logloss: 0.3188\n",
      "brierloss:  0.0963\n",
      "statistics (0.8662, 0.021, 0.2727, 0.039, 11, 0.3188, 0.0963)\n"
     ]
    },
    {
     "name": "stderr",
     "output_type": "stream",
     "text": [
      "\n",
      "  7%|▋         | 103/1396 [00:00<00:02, 479.38it/s]\u001b[A\n",
      " 12%|█▏        | 162/1396 [00:00<00:02, 507.05it/s]\u001b[A\n",
      " 16%|█▌        | 218/1396 [00:00<00:02, 517.72it/s]\u001b[A\n",
      " 20%|██        | 280/1396 [00:00<00:02, 543.04it/s]\u001b[A\n",
      " 24%|██▎       | 331/1396 [00:00<00:02, 523.11it/s]\u001b[A\n",
      " 27%|██▋       | 382/1396 [00:00<00:01, 515.60it/s]\u001b[A\n",
      " 32%|███▏      | 440/1396 [00:00<00:01, 532.29it/s]\u001b[A\n",
      " 35%|███▌      | 492/1396 [00:00<00:01, 525.77it/s]\u001b[A\n",
      " 39%|███▉      | 544/1396 [00:01<00:01, 502.91it/s]\u001b[A\n",
      " 43%|████▎     | 594/1396 [00:01<00:01, 479.99it/s]\u001b[A\n",
      " 46%|████▋     | 646/1396 [00:01<00:01, 487.83it/s]\u001b[A\n",
      " 51%|█████     | 708/1396 [00:01<00:01, 518.92it/s]\u001b[A\n",
      " 55%|█████▍    | 764/1396 [00:01<00:01, 529.44it/s]\u001b[A\n",
      " 59%|█████▉    | 822/1396 [00:01<00:01, 535.02it/s]\u001b[A\n",
      " 63%|██████▎   | 876/1396 [00:01<00:01, 506.43it/s]\u001b[A\n",
      " 67%|██████▋   | 929/1396 [00:01<00:00, 512.22it/s]\u001b[A\n",
      " 70%|███████   | 982/1396 [00:01<00:00, 517.32it/s]\u001b[A\n",
      " 74%|███████▍  | 1034/1396 [00:01<00:00, 514.90it/s]\u001b[A\n",
      " 78%|███████▊  | 1086/1396 [00:02<00:00, 503.20it/s]\u001b[A\n",
      " 81%|████████▏ | 1137/1396 [00:02<00:00, 501.11it/s]\u001b[A\n",
      " 85%|████████▌ | 1188/1396 [00:02<00:00, 482.32it/s]\u001b[A\n",
      " 89%|████████▊ | 1237/1396 [00:02<00:00, 435.84it/s]\u001b[A\n",
      " 92%|█████████▏| 1285/1396 [00:02<00:00, 447.59it/s]\u001b[A\n",
      " 95%|█████████▌| 1332/1396 [00:02<00:00, 453.73it/s]\u001b[A\n",
      "100%|██████████| 1396/1396 [00:02<00:00, 506.57it/s]\u001b[A\n"
     ]
    },
    {
     "name": "stdout",
     "output_type": "stream",
     "text": [
      "------------------------------------\n",
      "\n",
      "0.0    1374\n",
      "1.0      22\n",
      "Name: RI-00-00-00-00, dtype: int64\n",
      "data set size 1396\n",
      "Checkpoint2 -Normalized Vector for Sentences are created\n"
     ]
    },
    {
     "name": "stderr",
     "output_type": "stream",
     "text": [
      " 75%|███████▌  | 27/36 [04:05<00:42,  4.72s/it]\n",
      "  0%|          | 0/1257 [00:00<?, ?it/s]\u001b[A\n",
      "  4%|▎         | 47/1257 [00:00<00:02, 467.73it/s]\u001b[A"
     ]
    },
    {
     "name": "stdout",
     "output_type": "stream",
     "text": [
      "logloss: 0.4229\n",
      "brierloss:  0.1365\n",
      "statistics (0.8001, 0.0394, 0.5, 0.0731, 22, 0.4229, 0.1365)\n"
     ]
    },
    {
     "name": "stderr",
     "output_type": "stream",
     "text": [
      "\n",
      "  8%|▊         | 104/1257 [00:00<00:02, 493.93it/s]\u001b[A\n",
      " 13%|█▎        | 163/1257 [00:00<00:02, 517.69it/s]\u001b[A\n",
      " 19%|█▊        | 233/1257 [00:00<00:01, 559.44it/s]\u001b[A\n",
      " 23%|██▎       | 292/1257 [00:00<00:01, 567.00it/s]\u001b[A\n",
      " 28%|██▊       | 347/1257 [00:00<00:01, 561.31it/s]\u001b[A\n",
      " 32%|███▏      | 399/1257 [00:00<00:01, 535.72it/s]\u001b[A\n",
      " 36%|███▌      | 451/1257 [00:00<00:01, 530.49it/s]\u001b[A\n",
      " 40%|███▉      | 502/1257 [00:00<00:01, 512.62it/s]\u001b[A\n",
      " 44%|████▍     | 559/1257 [00:01<00:01, 521.09it/s]\u001b[A\n",
      " 49%|████▉     | 618/1257 [00:01<00:01, 539.02it/s]\u001b[A\n",
      " 54%|█████▍    | 678/1257 [00:01<00:01, 554.63it/s]\u001b[A\n",
      " 58%|█████▊    | 734/1257 [00:01<00:00, 553.89it/s]\u001b[A\n",
      " 63%|██████▎   | 798/1257 [00:01<00:00, 576.52it/s]\u001b[A\n",
      " 69%|██████▊   | 863/1257 [00:01<00:00, 592.51it/s]\u001b[A\n",
      " 73%|███████▎  | 923/1257 [00:01<00:00, 553.85it/s]\u001b[A\n",
      " 78%|███████▊  | 980/1257 [00:01<00:00, 530.73it/s]\u001b[A\n",
      " 82%|████████▏ | 1034/1257 [00:01<00:00, 505.60it/s]\u001b[A\n",
      " 86%|████████▋ | 1086/1257 [00:02<00:00, 479.78it/s]\u001b[A\n",
      " 91%|█████████ | 1138/1257 [00:02<00:00, 490.56it/s]\u001b[A\n",
      "100%|██████████| 1257/1257 [00:02<00:00, 546.84it/s]\u001b[A\n",
      " 78%|███████▊  | 28/36 [04:07<00:32,  4.05s/it]\n",
      "  0%|          | 0/2006 [00:00<?, ?it/s]\u001b[A"
     ]
    },
    {
     "name": "stdout",
     "output_type": "stream",
     "text": [
      "------------------------------------\n",
      "\n",
      "0.0    1027\n",
      "1.0     230\n",
      "Name: TO-00-00-00-00, dtype: int64\n",
      "data set size 1257\n",
      "Checkpoint2 -Normalized Vector for Sentences are created\n",
      "logloss: 0.4034\n",
      "brierloss:  0.1263\n",
      "statistics (0.8218, 0.5083, 0.8, 0.6216, 230, 0.4034, 0.1263)\n"
     ]
    },
    {
     "name": "stderr",
     "output_type": "stream",
     "text": [
      "\n",
      "  3%|▎         | 55/2006 [00:00<00:03, 541.52it/s]\u001b[A\n",
      "  5%|▍         | 98/2006 [00:00<00:03, 499.59it/s]\u001b[A\n",
      "  8%|▊         | 155/2006 [00:00<00:03, 515.54it/s]\u001b[A\n",
      " 11%|█         | 213/2006 [00:00<00:03, 530.18it/s]\u001b[A\n",
      " 13%|█▎        | 266/2006 [00:00<00:03, 528.98it/s]\u001b[A\n",
      " 16%|█▌        | 324/2006 [00:00<00:03, 540.76it/s]\u001b[A\n",
      " 19%|█▊        | 375/2006 [00:00<00:03, 530.01it/s]\u001b[A\n",
      " 21%|██▏       | 430/2006 [00:00<00:02, 530.01it/s]\u001b[A\n",
      " 24%|██▍       | 481/2006 [00:00<00:03, 486.00it/s]\u001b[A\n",
      " 27%|██▋       | 533/2006 [00:01<00:02, 495.69it/s]\u001b[A\n",
      " 30%|██▉       | 593/2006 [00:01<00:02, 521.61it/s]\u001b[A\n",
      " 32%|███▏      | 645/2006 [00:01<00:02, 519.25it/s]\u001b[A\n",
      " 35%|███▍      | 697/2006 [00:01<00:02, 496.33it/s]\u001b[A\n",
      " 37%|███▋      | 747/2006 [00:01<00:02, 465.10it/s]\u001b[A\n",
      " 40%|███▉      | 797/2006 [00:01<00:02, 469.61it/s]\u001b[A\n",
      " 42%|████▏     | 850/2006 [00:01<00:02, 485.97it/s]\u001b[A\n",
      " 45%|████▌     | 907/2006 [00:01<00:02, 506.31it/s]\u001b[A\n",
      " 48%|████▊     | 959/2006 [00:01<00:02, 508.02it/s]\u001b[A\n",
      " 51%|█████     | 1016/2006 [00:01<00:01, 522.37it/s]\u001b[A\n",
      " 53%|█████▎    | 1069/2006 [00:02<00:01, 522.01it/s]\u001b[A\n",
      " 56%|█████▌    | 1122/2006 [00:02<00:01, 491.67it/s]\u001b[A\n",
      " 59%|█████▉    | 1183/2006 [00:02<00:01, 521.90it/s]\u001b[A\n",
      " 62%|██████▏   | 1237/2006 [00:02<00:01, 518.71it/s]\u001b[A\n",
      " 64%|██████▍   | 1290/2006 [00:02<00:01, 508.77it/s]\u001b[A\n",
      " 67%|██████▋   | 1342/2006 [00:02<00:01, 494.13it/s]\u001b[A\n",
      " 69%|██████▉   | 1392/2006 [00:02<00:01, 490.13it/s]\u001b[A\n",
      " 72%|███████▏  | 1442/2006 [00:02<00:01, 492.56it/s]\u001b[A\n",
      " 74%|███████▍  | 1493/2006 [00:02<00:01, 496.51it/s]\u001b[A\n",
      " 77%|███████▋  | 1543/2006 [00:03<00:00, 471.18it/s]\u001b[A\n",
      " 80%|███████▉  | 1596/2006 [00:03<00:00, 487.26it/s]\u001b[A\n",
      " 82%|████████▏ | 1646/2006 [00:03<00:00, 481.18it/s]\u001b[A\n",
      " 84%|████████▍ | 1695/2006 [00:03<00:00, 447.53it/s]\u001b[A\n",
      " 87%|████████▋ | 1743/2006 [00:03<00:00, 444.90it/s]\u001b[A\n",
      " 90%|████████▉ | 1800/2006 [00:03<00:00, 474.21it/s]\u001b[A\n",
      " 92%|█████████▏| 1849/2006 [00:03<00:00, 463.76it/s]\u001b[A\n",
      " 95%|█████████▍| 1903/2006 [00:03<00:00, 482.83it/s]\u001b[A\n",
      "100%|██████████| 2006/2006 [00:04<00:00, 501.27it/s]\u001b[A\n"
     ]
    },
    {
     "name": "stdout",
     "output_type": "stream",
     "text": [
      "------------------------------------\n",
      "\n",
      "0.0    1746\n",
      "1.0     260\n",
      "Name: TR-00-00-00-00, dtype: int64\n",
      "data set size 2006\n",
      "Checkpoint2 -Normalized Vector for Sentences are created\n"
     ]
    },
    {
     "name": "stderr",
     "output_type": "stream",
     "text": [
      " 81%|████████  | 29/36 [04:15<00:35,  5.12s/it]\n",
      "  0%|          | 0/1827 [00:00<?, ?it/s]\u001b[A\n",
      "  3%|▎         | 52/1827 [00:00<00:03, 519.10it/s]\u001b[A"
     ]
    },
    {
     "name": "stdout",
     "output_type": "stream",
     "text": [
      "logloss: 0.2269\n",
      "brierloss:  0.062\n",
      "statistics (0.9297, 0.6695, 0.9038, 0.7692, 260, 0.2269, 0.062)\n"
     ]
    },
    {
     "name": "stderr",
     "output_type": "stream",
     "text": [
      "\n",
      "  5%|▍         | 91/1827 [00:00<00:03, 471.35it/s]\u001b[A\n",
      "  8%|▊         | 148/1827 [00:00<00:03, 492.98it/s]\u001b[A\n",
      " 11%|█         | 205/1827 [00:00<00:03, 512.67it/s]\u001b[A\n",
      " 14%|█▍        | 261/1827 [00:00<00:03, 517.27it/s]\u001b[A\n",
      " 17%|█▋        | 314/1827 [00:00<00:02, 517.96it/s]\u001b[A\n",
      " 20%|██        | 372/1827 [00:00<00:02, 534.02it/s]\u001b[A\n",
      " 23%|██▎       | 423/1827 [00:00<00:02, 521.15it/s]\u001b[A\n",
      " 26%|██▌       | 473/1827 [00:00<00:02, 502.76it/s]\u001b[A\n",
      " 29%|██▉       | 528/1827 [00:01<00:02, 515.86it/s]\u001b[A\n",
      " 32%|███▏      | 582/1827 [00:01<00:02, 522.80it/s]\u001b[A\n",
      " 35%|███▍      | 634/1827 [00:01<00:02, 492.09it/s]\u001b[A\n",
      " 37%|███▋      | 684/1827 [00:01<00:02, 458.96it/s]\u001b[A\n",
      " 40%|████      | 731/1827 [00:01<00:02, 455.39it/s]\u001b[A\n",
      " 43%|████▎     | 789/1827 [00:01<00:02, 485.27it/s]\u001b[A\n",
      " 46%|████▋     | 846/1827 [00:01<00:01, 507.86it/s]\u001b[A\n",
      " 49%|████▉     | 903/1827 [00:01<00:01, 521.93it/s]\u001b[A\n",
      " 53%|█████▎    | 960/1827 [00:01<00:01, 534.38it/s]\u001b[A\n",
      " 56%|█████▌    | 1014/1827 [00:02<00:01, 494.44it/s]\u001b[A\n",
      " 59%|█████▉    | 1075/1827 [00:02<00:01, 523.06it/s]\u001b[A\n",
      " 62%|██████▏   | 1132/1827 [00:02<00:01, 536.01it/s]\u001b[A\n",
      " 65%|██████▍   | 1187/1827 [00:02<00:01, 514.35it/s]\u001b[A\n",
      " 68%|██████▊   | 1240/1827 [00:02<00:01, 512.78it/s]\u001b[A\n",
      " 71%|███████   | 1292/1827 [00:02<00:01, 486.12it/s]\u001b[A\n",
      " 74%|███████▎  | 1345/1827 [00:02<00:00, 494.43it/s]\u001b[A\n",
      " 76%|███████▋  | 1395/1827 [00:02<00:00, 483.77it/s]\u001b[A\n",
      " 79%|███████▉  | 1447/1827 [00:02<00:00, 493.58it/s]\u001b[A\n",
      " 82%|████████▏ | 1497/1827 [00:02<00:00, 483.93it/s]\u001b[A\n",
      " 85%|████████▍ | 1546/1827 [00:03<00:00, 474.79it/s]\u001b[A\n",
      " 87%|████████▋ | 1598/1827 [00:03<00:00, 486.18it/s]\u001b[A\n",
      " 90%|█████████ | 1647/1827 [00:03<00:00, 479.57it/s]\u001b[A\n",
      " 93%|█████████▎| 1696/1827 [00:03<00:00, 473.87it/s]\u001b[A\n",
      " 96%|█████████▋| 1759/1827 [00:03<00:00, 511.20it/s]\u001b[A\n",
      "100%|██████████| 1827/1827 [00:03<00:00, 505.85it/s]\u001b[A\n"
     ]
    },
    {
     "name": "stdout",
     "output_type": "stream",
     "text": [
      "------------------------------------\n",
      "\n",
      "0.0    1805\n",
      "1.0      22\n",
      "Name: TR-01-00-00-00, dtype: int64\n",
      "data set size 1827\n",
      "Checkpoint2 -Normalized Vector for Sentences are created\n"
     ]
    },
    {
     "name": "stderr",
     "output_type": "stream",
     "text": [
      " 83%|████████▎ | 30/36 [04:20<00:30,  5.01s/it]\n",
      "  0%|          | 0/1819 [00:00<?, ?it/s]\u001b[A\n",
      "  3%|▎         | 54/1819 [00:00<00:03, 536.95it/s]\u001b[A"
     ]
    },
    {
     "name": "stdout",
     "output_type": "stream",
     "text": [
      "logloss: 0.2149\n",
      "brierloss:  0.0596\n",
      "statistics (0.9267, 0.1216, 0.8182, 0.2118, 22, 0.2149, 0.0596)\n"
     ]
    },
    {
     "name": "stderr",
     "output_type": "stream",
     "text": [
      "\n",
      "  5%|▌         | 92/1819 [00:00<00:03, 476.03it/s]\u001b[A\n",
      "  8%|▊         | 151/1819 [00:00<00:03, 505.03it/s]\u001b[A\n",
      " 12%|█▏        | 211/1819 [00:00<00:03, 525.01it/s]\u001b[A\n",
      " 14%|█▍        | 263/1819 [00:00<00:02, 523.20it/s]\u001b[A\n",
      " 17%|█▋        | 318/1819 [00:00<00:02, 530.44it/s]\u001b[A\n",
      " 21%|██        | 378/1819 [00:00<00:02, 544.24it/s]\u001b[A\n",
      " 24%|██▎       | 429/1819 [00:00<00:02, 508.07it/s]\u001b[A\n",
      " 26%|██▋       | 478/1819 [00:00<00:02, 493.40it/s]\u001b[A\n",
      " 29%|██▉       | 533/1819 [00:01<00:02, 508.96it/s]\u001b[A\n",
      " 32%|███▏      | 588/1819 [00:01<00:02, 506.80it/s]\u001b[A\n",
      " 35%|███▌      | 639/1819 [00:01<00:02, 487.98it/s]\u001b[A\n",
      " 38%|███▊      | 688/1819 [00:01<00:02, 466.85it/s]\u001b[A\n",
      " 41%|████      | 737/1819 [00:01<00:02, 471.12it/s]\u001b[A\n",
      " 44%|████▍     | 798/1819 [00:01<00:02, 504.82it/s]\u001b[A\n",
      " 47%|████▋     | 851/1819 [00:01<00:01, 510.58it/s]\u001b[A\n",
      " 50%|████▉     | 908/1819 [00:01<00:01, 524.41it/s]\u001b[A\n",
      " 53%|█████▎    | 961/1819 [00:01<00:01, 514.74it/s]\u001b[A\n",
      " 56%|█████▌    | 1013/1819 [00:01<00:01, 496.01it/s]\u001b[A\n",
      " 59%|█████▉    | 1074/1819 [00:02<00:01, 523.93it/s]\u001b[A\n",
      " 62%|██████▏   | 1131/1819 [00:02<00:01, 535.90it/s]\u001b[A\n",
      " 65%|██████▌   | 1186/1819 [00:02<00:01, 508.56it/s]\u001b[A\n",
      " 68%|██████▊   | 1238/1819 [00:02<00:01, 506.95it/s]\u001b[A\n",
      " 71%|███████   | 1290/1819 [00:02<00:01, 498.62it/s]\u001b[A\n",
      " 74%|███████▍  | 1344/1819 [00:02<00:00, 509.25it/s]\u001b[A\n",
      " 77%|███████▋  | 1396/1819 [00:02<00:00, 477.85it/s]\u001b[A\n",
      " 79%|███████▉  | 1446/1819 [00:02<00:00, 483.94it/s]\u001b[A\n",
      " 82%|████████▏ | 1495/1819 [00:02<00:00, 476.16it/s]\u001b[A\n",
      " 85%|████████▍ | 1543/1819 [00:03<00:00, 457.28it/s]\u001b[A\n",
      " 88%|████████▊ | 1597/1819 [00:03<00:00, 476.70it/s]\u001b[A\n",
      " 90%|█████████ | 1646/1819 [00:03<00:00, 468.04it/s]\u001b[A\n",
      " 93%|█████████▎| 1695/1819 [00:03<00:00, 471.77it/s]\u001b[A\n",
      " 96%|█████████▋| 1752/1819 [00:03<00:00, 495.46it/s]\u001b[A\n",
      "100%|██████████| 1819/1819 [00:03<00:00, 504.99it/s]\u001b[A\n"
     ]
    },
    {
     "name": "stdout",
     "output_type": "stream",
     "text": [
      "------------------------------------\n",
      "\n",
      "0.0    1790\n",
      "1.0      29\n",
      "Name: TR-02-00-00-00, dtype: int64\n",
      "data set size 1819\n",
      "Checkpoint2 -Normalized Vector for Sentences are created\n"
     ]
    },
    {
     "name": "stderr",
     "output_type": "stream",
     "text": [
      " 86%|████████▌ | 31/36 [04:26<00:26,  5.30s/it]\n",
      "  0%|          | 0/1821 [00:00<?, ?it/s]\u001b[A\n",
      "  3%|▎         | 53/1821 [00:00<00:03, 507.59it/s]\u001b[A"
     ]
    },
    {
     "name": "stdout",
     "output_type": "stream",
     "text": [
      "logloss: 0.2701\n",
      "brierloss:  0.0769\n",
      "statistics (0.9021, 0.1058, 0.6897, 0.1835, 29, 0.2701, 0.0769)\n"
     ]
    },
    {
     "name": "stderr",
     "output_type": "stream",
     "text": [
      "\n",
      "  5%|▌         | 93/1821 [00:00<00:03, 464.64it/s]\u001b[A\n",
      "  8%|▊         | 150/1821 [00:00<00:03, 491.87it/s]\u001b[A\n",
      " 11%|█▏        | 209/1821 [00:00<00:03, 516.36it/s]\u001b[A\n",
      " 14%|█▍        | 264/1821 [00:00<00:02, 521.85it/s]\u001b[A\n",
      " 17%|█▋        | 317/1821 [00:00<00:02, 522.21it/s]\u001b[A\n",
      " 21%|██        | 379/1821 [00:00<00:02, 548.10it/s]\u001b[A\n",
      " 24%|██▎       | 431/1821 [00:00<00:02, 510.63it/s]\u001b[A\n",
      " 27%|██▋       | 483/1821 [00:00<00:02, 512.67it/s]\u001b[A\n",
      " 30%|██▉       | 538/1821 [00:01<00:02, 521.57it/s]\u001b[A\n",
      " 33%|███▎      | 592/1821 [00:01<00:02, 512.69it/s]\u001b[A\n",
      " 35%|███▌      | 643/1821 [00:01<00:02, 485.50it/s]\u001b[A\n",
      " 38%|███▊      | 692/1821 [00:01<00:02, 463.25it/s]\u001b[A\n",
      " 41%|████      | 740/1821 [00:01<00:02, 467.77it/s]\u001b[A\n",
      " 44%|████▍     | 798/1821 [00:01<00:02, 496.56it/s]\u001b[A\n",
      " 47%|████▋     | 850/1821 [00:01<00:01, 502.94it/s]\u001b[A\n",
      " 50%|████▉     | 908/1821 [00:01<00:01, 522.92it/s]\u001b[A\n",
      " 53%|█████▎    | 961/1821 [00:01<00:01, 510.71it/s]\u001b[A\n",
      " 56%|█████▌    | 1013/1821 [00:02<00:01, 479.35it/s]\u001b[A\n",
      " 59%|█████▉    | 1070/1821 [00:02<00:01, 502.64it/s]\u001b[A\n",
      " 62%|██████▏   | 1129/1821 [00:02<00:01, 524.09it/s]\u001b[A\n",
      " 65%|██████▍   | 1183/1821 [00:02<00:01, 513.40it/s]\u001b[A\n",
      " 68%|██████▊   | 1235/1821 [00:02<00:01, 505.35it/s]\u001b[A\n",
      " 71%|███████   | 1287/1821 [00:02<00:01, 507.41it/s]\u001b[A\n",
      " 74%|███████▎  | 1339/1821 [00:02<00:00, 510.12it/s]\u001b[A\n",
      " 76%|███████▋  | 1391/1821 [00:02<00:00, 500.56it/s]\u001b[A\n",
      " 79%|███████▉  | 1442/1821 [00:02<00:00, 496.13it/s]\u001b[A\n",
      " 82%|████████▏ | 1492/1821 [00:02<00:00, 474.76it/s]\u001b[A\n",
      " 85%|████████▍ | 1540/1821 [00:03<00:00, 467.98it/s]\u001b[A\n",
      " 87%|████████▋ | 1590/1821 [00:03<00:00, 474.19it/s]\u001b[A\n",
      " 90%|████████▉ | 1638/1821 [00:03<00:00, 472.03it/s]\u001b[A\n",
      " 93%|█████████▎| 1686/1821 [00:03<00:00, 462.75it/s]\u001b[A\n",
      " 96%|█████████▌| 1743/1821 [00:03<00:00, 489.82it/s]\u001b[A\n",
      "100%|██████████| 1821/1821 [00:03<00:00, 502.78it/s]\u001b[A\n"
     ]
    },
    {
     "name": "stdout",
     "output_type": "stream",
     "text": [
      "------------------------------------\n",
      "\n",
      "0.0    1804\n",
      "1.0      17\n",
      "Name: TR-03-00-00-00, dtype: int64\n",
      "data set size 1821\n",
      "Checkpoint2 -Normalized Vector for Sentences are created\n"
     ]
    },
    {
     "name": "stderr",
     "output_type": "stream",
     "text": [
      " 89%|████████▉ | 32/36 [04:30<00:20,  5.02s/it]\n",
      "  0%|          | 0/1815 [00:00<?, ?it/s]\u001b[A\n",
      "  3%|▎         | 52/1815 [00:00<00:03, 497.91it/s]\u001b[A"
     ]
    },
    {
     "name": "stdout",
     "output_type": "stream",
     "text": [
      "logloss: 0.2104\n",
      "brierloss:  0.0573\n",
      "statistics (0.9308, 0.084, 0.6471, 0.1486, 17, 0.2104, 0.0573)\n"
     ]
    },
    {
     "name": "stderr",
     "output_type": "stream",
     "text": [
      "\n",
      "  5%|▍         | 90/1815 [00:00<00:03, 455.40it/s]\u001b[A\n",
      "  8%|▊         | 141/1815 [00:00<00:03, 469.07it/s]\u001b[A\n",
      " 11%|█         | 194/1815 [00:00<00:03, 484.18it/s]\u001b[A\n",
      " 14%|█▍        | 250/1815 [00:00<00:03, 503.03it/s]\u001b[A\n",
      " 17%|█▋        | 306/1815 [00:00<00:02, 515.98it/s]\u001b[A\n",
      " 20%|█▉        | 362/1815 [00:00<00:02, 528.08it/s]\u001b[A\n",
      " 23%|██▎       | 412/1815 [00:00<00:02, 503.32it/s]\u001b[A\n",
      " 25%|██▌       | 460/1815 [00:00<00:02, 476.19it/s]\u001b[A\n",
      " 28%|██▊       | 510/1815 [00:01<00:02, 481.02it/s]\u001b[A\n",
      " 31%|███       | 566/1815 [00:01<00:02, 499.33it/s]\u001b[A\n",
      " 34%|███▍      | 616/1815 [00:01<00:02, 485.43it/s]\u001b[A\n",
      " 37%|███▋      | 665/1815 [00:01<00:02, 447.14it/s]\u001b[A\n",
      " 39%|███▉      | 713/1815 [00:01<00:02, 454.09it/s]\u001b[A\n",
      " 42%|████▏     | 760/1815 [00:01<00:02, 458.48it/s]\u001b[A\n",
      " 45%|████▌     | 820/1815 [00:01<00:02, 492.70it/s]\u001b[A\n",
      " 48%|████▊     | 871/1815 [00:01<00:01, 489.18it/s]\u001b[A\n",
      " 51%|█████     | 925/1815 [00:01<00:01, 501.54it/s]\u001b[A\n",
      " 54%|█████▍    | 976/1815 [00:02<00:01, 485.42it/s]\u001b[A\n",
      " 57%|█████▋    | 1026/1815 [00:02<00:01, 468.88it/s]\u001b[A\n",
      " 60%|█████▉    | 1088/1815 [00:02<00:01, 503.25it/s]\u001b[A\n",
      " 63%|██████▎   | 1140/1815 [00:02<00:01, 502.86it/s]\u001b[A\n",
      " 66%|██████▌   | 1192/1815 [00:02<00:01, 498.82it/s]\u001b[A\n",
      " 68%|██████▊   | 1243/1815 [00:02<00:01, 495.24it/s]\u001b[A\n",
      " 71%|███████   | 1293/1815 [00:02<00:01, 484.45it/s]\u001b[A\n",
      " 74%|███████▍  | 1344/1815 [00:02<00:00, 489.37it/s]\u001b[A\n",
      " 77%|███████▋  | 1394/1815 [00:02<00:00, 467.61it/s]\u001b[A\n",
      " 80%|███████▉  | 1445/1815 [00:02<00:00, 478.87it/s]\u001b[A\n",
      " 82%|████████▏ | 1494/1815 [00:03<00:00, 469.09it/s]\u001b[A\n",
      " 85%|████████▍ | 1542/1815 [00:03<00:00, 459.18it/s]\u001b[A\n",
      " 88%|████████▊ | 1590/1815 [00:03<00:00, 462.91it/s]\u001b[A\n",
      " 90%|█████████ | 1637/1815 [00:03<00:00, 462.28it/s]\u001b[A\n",
      " 93%|█████████▎| 1684/1815 [00:03<00:00, 461.88it/s]\u001b[A\n",
      " 96%|█████████▌| 1744/1815 [00:03<00:00, 492.64it/s]\u001b[A\n",
      "100%|██████████| 1815/1815 [00:03<00:00, 488.24it/s]\u001b[A\n"
     ]
    },
    {
     "name": "stdout",
     "output_type": "stream",
     "text": [
      "------------------------------------\n",
      "\n",
      "0.0    1795\n",
      "1.0      20\n",
      "Name: TR-04-00-00-00, dtype: int64\n",
      "data set size 1815\n",
      "Checkpoint2 -Normalized Vector for Sentences are created\n"
     ]
    },
    {
     "name": "stderr",
     "output_type": "stream",
     "text": [
      " 92%|█████████▏| 33/36 [04:35<00:15,  5.12s/it]\n",
      "  0%|          | 0/1816 [00:00<?, ?it/s]\u001b[A\n",
      "  3%|▎         | 53/1816 [00:00<00:03, 527.93it/s]\u001b[A"
     ]
    },
    {
     "name": "stdout",
     "output_type": "stream",
     "text": [
      "logloss: 0.1832\n",
      "brierloss:  0.0477\n",
      "statistics (0.9433, 0.1391, 0.8, 0.237, 20, 0.1832, 0.0477)\n"
     ]
    },
    {
     "name": "stderr",
     "output_type": "stream",
     "text": [
      "\n",
      "  5%|▌         | 91/1816 [00:00<00:03, 471.35it/s]\u001b[A\n",
      "  8%|▊         | 147/1816 [00:00<00:03, 492.73it/s]\u001b[A\n",
      " 11%|█         | 204/1816 [00:00<00:03, 512.36it/s]\u001b[A\n",
      " 14%|█▍        | 259/1816 [00:00<00:03, 514.64it/s]\u001b[A\n",
      " 17%|█▋        | 311/1816 [00:00<00:02, 515.98it/s]\u001b[A\n",
      " 20%|██        | 370/1816 [00:00<00:02, 535.96it/s]\u001b[A\n",
      " 23%|██▎       | 420/1816 [00:00<00:02, 504.76it/s]\u001b[A\n",
      " 26%|██▌       | 469/1816 [00:00<00:02, 486.66it/s]\u001b[A\n",
      " 29%|██▉       | 525/1816 [00:01<00:02, 505.36it/s]\u001b[A\n",
      " 32%|███▏      | 579/1816 [00:01<00:02, 514.84it/s]\u001b[A\n",
      " 35%|███▍      | 630/1816 [00:01<00:02, 485.86it/s]\u001b[A\n",
      " 37%|███▋      | 679/1816 [00:01<00:02, 453.09it/s]\u001b[A\n",
      " 40%|███▉      | 725/1816 [00:01<00:02, 451.16it/s]\u001b[A\n",
      " 43%|████▎     | 780/1816 [00:01<00:02, 475.52it/s]\u001b[A\n",
      " 46%|████▌     | 833/1816 [00:01<00:02, 489.69it/s]\u001b[A\n",
      " 49%|████▊     | 885/1816 [00:01<00:01, 497.22it/s]\u001b[A\n",
      " 52%|█████▏    | 941/1816 [00:01<00:01, 510.30it/s]\u001b[A\n",
      " 55%|█████▍    | 993/1816 [00:01<00:01, 499.05it/s]\u001b[A\n",
      " 57%|█████▋    | 1044/1816 [00:02<00:01, 495.64it/s]\u001b[A\n",
      " 61%|██████    | 1104/1816 [00:02<00:01, 519.03it/s]\u001b[A\n",
      " 64%|██████▎   | 1157/1816 [00:02<00:01, 516.21it/s]\u001b[A\n",
      " 67%|██████▋   | 1209/1816 [00:02<00:01, 506.87it/s]\u001b[A\n",
      " 69%|██████▉   | 1260/1816 [00:02<00:01, 505.58it/s]\u001b[A\n",
      " 72%|███████▏  | 1311/1816 [00:02<00:01, 489.12it/s]\u001b[A\n",
      " 75%|███████▍  | 1361/1816 [00:02<00:00, 483.43it/s]\u001b[A\n",
      " 78%|███████▊  | 1410/1816 [00:02<00:00, 455.90it/s]\u001b[A\n",
      " 80%|████████  | 1461/1816 [00:02<00:00, 470.69it/s]\u001b[A\n",
      " 83%|████████▎ | 1509/1816 [00:03<00:00, 467.41it/s]\u001b[A\n",
      " 86%|████████▌ | 1557/1816 [00:03<00:00, 438.21it/s]\u001b[A\n",
      " 89%|████████▊ | 1610/1816 [00:03<00:00, 461.76it/s]\u001b[A\n",
      " 91%|█████████ | 1657/1816 [00:03<00:00, 458.51it/s]\u001b[A\n",
      " 94%|█████████▍| 1707/1816 [00:03<00:00, 469.63it/s]\u001b[A\n",
      "100%|██████████| 1816/1816 [00:03<00:00, 493.55it/s]\u001b[A\n"
     ]
    },
    {
     "name": "stdout",
     "output_type": "stream",
     "text": [
      "------------------------------------\n",
      "\n",
      "0.0    1785\n",
      "1.0      31\n",
      "Name: TR-05-00-00-00, dtype: int64\n",
      "data set size 1816\n",
      "Checkpoint2 -Normalized Vector for Sentences are created\n"
     ]
    },
    {
     "name": "stderr",
     "output_type": "stream",
     "text": [
      " 94%|█████████▍| 34/36 [04:40<00:10,  5.08s/it]\n",
      "  0%|          | 0/1991 [00:00<?, ?it/s]\u001b[A\n",
      "  3%|▎         | 57/1991 [00:00<00:03, 555.70it/s]\u001b[A"
     ]
    },
    {
     "name": "stdout",
     "output_type": "stream",
     "text": [
      "logloss: 0.1727\n",
      "brierloss:  0.0454\n",
      "statistics (0.9466, 0.2203, 0.8387, 0.349, 31, 0.1727, 0.0454)\n"
     ]
    },
    {
     "name": "stderr",
     "output_type": "stream",
     "text": [
      "\n",
      "  5%|▌         | 101/1991 [00:00<00:03, 513.16it/s]\u001b[A\n",
      "  8%|▊         | 157/1991 [00:00<00:03, 523.76it/s]\u001b[A\n",
      " 11%|█         | 212/1991 [00:00<00:03, 531.36it/s]\u001b[A\n",
      " 13%|█▎        | 259/1991 [00:00<00:03, 510.69it/s]\u001b[A\n",
      " 16%|█▌        | 320/1991 [00:00<00:03, 535.13it/s]\u001b[A\n",
      " 19%|█▊        | 373/1991 [00:00<00:03, 532.05it/s]\u001b[A\n",
      " 21%|██▏       | 428/1991 [00:00<00:02, 537.12it/s]\u001b[A\n",
      " 24%|██▍       | 479/1991 [00:00<00:03, 494.84it/s]\u001b[A\n",
      " 27%|██▋       | 537/1991 [00:01<00:02, 509.48it/s]\u001b[A\n",
      " 30%|██▉       | 593/1991 [00:01<00:02, 519.78it/s]\u001b[A\n",
      " 32%|███▏      | 645/1991 [00:01<00:02, 513.60it/s]\u001b[A\n",
      " 35%|███▍      | 696/1991 [00:01<00:02, 491.75it/s]\u001b[A\n",
      " 37%|███▋      | 746/1991 [00:01<00:02, 474.18it/s]\u001b[A\n",
      " 40%|███▉      | 794/1991 [00:01<00:02, 472.82it/s]\u001b[A\n",
      " 43%|████▎     | 852/1991 [00:01<00:02, 500.00it/s]\u001b[A\n",
      " 45%|████▌     | 903/1991 [00:01<00:02, 502.64it/s]\u001b[A\n",
      " 48%|████▊     | 961/1991 [00:01<00:01, 521.59it/s]\u001b[A\n",
      " 51%|█████     | 1014/1991 [00:01<00:01, 513.80it/s]\u001b[A\n",
      " 54%|█████▎    | 1066/1991 [00:02<00:01, 491.17it/s]\u001b[A\n",
      " 56%|█████▋    | 1120/1991 [00:02<00:01, 503.93it/s]\u001b[A\n",
      " 59%|█████▉    | 1177/1991 [00:02<00:01, 519.13it/s]\u001b[A\n",
      " 62%|██████▏   | 1230/1991 [00:02<00:01, 508.41it/s]\u001b[A\n",
      " 64%|██████▍   | 1282/1991 [00:02<00:01, 475.03it/s]\u001b[A\n",
      " 67%|██████▋   | 1333/1991 [00:02<00:01, 484.83it/s]\u001b[A\n",
      " 70%|██████▉   | 1384/1991 [00:02<00:01, 491.12it/s]\u001b[A\n",
      " 72%|███████▏  | 1434/1991 [00:02<00:01, 474.25it/s]\u001b[A\n",
      " 75%|███████▍  | 1485/1991 [00:02<00:01, 473.50it/s]\u001b[A\n",
      " 77%|███████▋  | 1533/1991 [00:03<00:00, 464.36it/s]\u001b[A\n",
      " 79%|███████▉  | 1580/1991 [00:03<00:00, 423.00it/s]\u001b[A\n",
      " 82%|████████▏ | 1625/1991 [00:03<00:00, 426.82it/s]\u001b[A\n",
      " 84%|████████▍ | 1671/1991 [00:03<00:00, 436.23it/s]\u001b[A\n",
      " 86%|████████▋ | 1718/1991 [00:03<00:00, 444.37it/s]\u001b[A\n",
      " 89%|████████▉ | 1772/1991 [00:03<00:00, 462.74it/s]\u001b[A\n",
      " 91%|█████████▏| 1819/1991 [00:03<00:00, 458.06it/s]\u001b[A\n",
      " 94%|█████████▍| 1871/1991 [00:03<00:00, 473.74it/s]\u001b[A\n",
      " 96%|█████████▋| 1921/1991 [00:03<00:00, 480.40it/s]\u001b[A\n",
      "100%|██████████| 1991/1991 [00:04<00:00, 493.30it/s]\u001b[A\n"
     ]
    },
    {
     "name": "stdout",
     "output_type": "stream",
     "text": [
      "------------------------------------\n",
      "\n",
      "0.0    1604\n",
      "1.0     387\n",
      "Name: WO-00-00-00-00, dtype: int64\n",
      "data set size 1991\n",
      "Checkpoint2 -Normalized Vector for Sentences are created\n"
     ]
    },
    {
     "name": "stderr",
     "output_type": "stream",
     "text": [
      " 97%|█████████▋| 35/36 [05:00<00:09,  9.31s/it]\n",
      "  0%|          | 0/1617 [00:00<?, ?it/s]\u001b[A\n",
      "  3%|▎         | 52/1617 [00:00<00:03, 517.50it/s]\u001b[A"
     ]
    },
    {
     "name": "stdout",
     "output_type": "stream",
     "text": [
      "logloss: 0.3673\n",
      "brierloss:  0.1127\n",
      "statistics (0.8564, 0.5927, 0.8346, 0.6931, 387, 0.3673, 0.1127)\n"
     ]
    },
    {
     "name": "stderr",
     "output_type": "stream",
     "text": [
      "\n",
      "  6%|▌         | 92/1617 [00:00<00:03, 474.47it/s]\u001b[A\n",
      "  9%|▉         | 152/1617 [00:00<00:02, 505.82it/s]\u001b[A\n",
      " 13%|█▎        | 207/1617 [00:00<00:02, 513.94it/s]\u001b[A\n",
      " 16%|█▌        | 260/1617 [00:00<00:02, 517.11it/s]\u001b[A\n",
      " 19%|█▉        | 314/1617 [00:00<00:02, 523.31it/s]\u001b[A\n",
      " 23%|██▎       | 369/1617 [00:00<00:02, 524.97it/s]\u001b[A\n",
      " 26%|██▌       | 418/1617 [00:00<00:02, 492.92it/s]\u001b[A\n",
      " 29%|██▉       | 469/1617 [00:00<00:02, 497.00it/s]\u001b[A\n",
      " 32%|███▏      | 523/1617 [00:01<00:02, 508.12it/s]\u001b[A\n",
      " 35%|███▌      | 574/1617 [00:01<00:02, 505.89it/s]\u001b[A\n",
      " 39%|███▊      | 624/1617 [00:01<00:02, 467.76it/s]\u001b[A\n",
      " 42%|████▏     | 673/1617 [00:01<00:02, 470.79it/s]\u001b[A\n",
      " 45%|████▌     | 733/1617 [00:01<00:01, 502.45it/s]\u001b[A\n",
      " 49%|████▊     | 787/1617 [00:01<00:01, 512.92it/s]\u001b[A\n",
      " 52%|█████▏    | 839/1617 [00:01<00:01, 510.06it/s]\u001b[A\n",
      " 55%|█████▌    | 891/1617 [00:01<00:01, 507.51it/s]\u001b[A\n",
      " 58%|█████▊    | 942/1617 [00:01<00:01, 506.57it/s]\u001b[A\n",
      " 62%|██████▏   | 997/1617 [00:01<00:01, 518.04it/s]\u001b[A\n",
      " 65%|██████▍   | 1049/1617 [00:02<00:01, 507.37it/s]\u001b[A\n",
      " 68%|██████▊   | 1100/1617 [00:02<00:01, 494.20it/s]\u001b[A\n",
      " 71%|███████▏  | 1153/1617 [00:02<00:00, 499.50it/s]\u001b[A\n",
      " 74%|███████▍  | 1204/1617 [00:02<00:00, 494.34it/s]\u001b[A\n",
      " 78%|███████▊  | 1254/1617 [00:02<00:00, 459.03it/s]\u001b[A\n",
      " 80%|████████  | 1301/1617 [00:02<00:00, 432.08it/s]\u001b[A\n",
      " 83%|████████▎ | 1347/1617 [00:02<00:00, 439.11it/s]\u001b[A\n",
      " 86%|████████▋ | 1396/1617 [00:02<00:00, 449.80it/s]\u001b[A\n",
      " 89%|████████▉ | 1445/1617 [00:02<00:00, 460.30it/s]\u001b[A\n",
      " 93%|█████████▎| 1496/1617 [00:03<00:00, 459.47it/s]\u001b[A\n",
      "100%|██████████| 1617/1617 [00:03<00:00, 496.57it/s]\u001b[A\n"
     ]
    },
    {
     "name": "stdout",
     "output_type": "stream",
     "text": [
      "------------------------------------\n",
      "\n",
      "0.0    1607\n",
      "1.0      10\n",
      "Name: WO-03-00-00-00, dtype: int64\n",
      "data set size 1617\n",
      "Checkpoint2 -Normalized Vector for Sentences are created\n"
     ]
    },
    {
     "name": "stderr",
     "output_type": "stream",
     "text": [
      "100%|██████████| 36/36 [05:07<00:00,  8.54s/it]"
     ]
    },
    {
     "name": "stdout",
     "output_type": "stream",
     "text": [
      "logloss: 0.3207\n",
      "brierloss:  0.0996\n",
      "statistics (0.8615, 0.0046, 0.1, 0.0088, 10, 0.3207, 0.0996)\n"
     ]
    },
    {
     "name": "stderr",
     "output_type": "stream",
     "text": [
      "\n"
     ]
    }
   ],
   "source": [
    "import warnings\n",
    "import sklearn.exceptions\n",
    "warnings.filterwarnings(\"ignore\", category=sklearn.exceptions.UndefinedMetricWarning)\n",
    "\n",
    "class_list = df.columns[2:]\n",
    "print(class_list)\n",
    "verbose = False\n",
    "stat_dict = defaultdict() \n",
    "for cls in tqdm(class_list):\n",
    "    preprocessing(dfset, cls)\n",
    "    ret = predict_by_class_glove(dfset, cls)\n",
    "#    ret = predict_by_class_gridcv(dfset, cls)\n",
    "    stat_dict[cls] = ret \n",
    "    print('statistics' , ret)"
   ]
  },
  {
   "cell_type": "markdown",
   "metadata": {
    "janus": {
     "all_versions_showing": false,
     "cell_hidden": false,
     "current_version": 0,
     "id": "1342ba687f607",
     "named_versions": [],
     "output_hidden": false,
     "show_versions": false,
     "source_hidden": false,
     "versions": []
    }
   },
   "source": [
    "## Distribution"
   ]
  },
  {
   "cell_type": "code",
   "execution_count": 29,
   "metadata": {
    "janus": {
     "all_versions_showing": false,
     "cell_hidden": true,
     "current_version": 0,
     "id": "6611849a9aa39",
     "named_versions": [],
     "output_hidden": true,
     "show_versions": false,
     "source_hidden": true,
     "versions": []
    }
   },
   "outputs": [
    {
     "name": "stdout",
     "output_type": "stream",
     "text": [
      "Requirement already satisfied: prettytable in /Users/heeh/.pyenv/versions/3.8.0/lib/python3.8/site-packages (0.7.2)\n",
      "+----------------+----------+-----------+--------+----------+---------+----------+------------+-------------+\n",
      "|     class      | accuracy | precision | recall | F1 score | support | log_loss | brier_loss | |documents| |\n",
      "+----------------+----------+-----------+--------+----------+---------+----------+------------+-------------+\n",
      "| BE-00-00-00-00 |   0.8761 |    0.0861 | 0.7778 |    0.155 |      27 |   0.2951 |     0.0889 |     1848    |\n",
      "| BU-00-00-00-00 |   0.9277 |    0.4421 | 0.9032 |   0.5936 |      93 |   0.2169 |     0.0604 |     1590    |\n",
      "| CO-00-00-00-00 |   0.8703 |    0.3923 | 0.7736 |   0.5206 |     106 |   0.3644 |     0.1087 |     1164    |\n",
      "| CR-00-00-00-00 |   0.8582 |    0.5717 | 0.8444 |   0.6818 |     302 |   0.3465 |     0.1049 |     1679    |\n",
      "| CR-01-00-00-00 |   0.8622 |    0.0161 |   0.25 |   0.0303 |      12 |   0.3339 |     0.1022 |     1393    |\n",
      "| CR-04-00-00-00 |   0.8559 |    0.0299 | 0.4615 |   0.0561 |      13 |   0.3722 |      0.113 |     1402    |\n",
      "| CR-06-00-00-00 |   0.8917 |    0.0331 | 0.4545 |   0.0617 |      11 |   0.2744 |       0.08 |     1404    |\n",
      "| CR-10-00-00-00 |   0.8913 |    0.0144 | 0.2727 |   0.0273 |      11 |   0.2691 |     0.0802 |     1969    |\n",
      "| ED-00-00-00-00 |   0.9338 |    0.1308 | 0.7083 |   0.2208 |      24 |   0.2142 |     0.0561 |     1813    |\n",
      "| ES-00-00-00-00 |   0.8904 |    0.2433 | 0.8205 |   0.3754 |      78 |   0.2675 |     0.0803 |     1944    |\n",
      "| ES-01-00-00-00 |   0.9264 |    0.0362 |    0.5 |   0.0676 |      10 |   0.1872 |     0.0549 |     1876    |\n",
      "| ES-03-00-00-00 |     0.88 |    0.0292 | 0.5385 |   0.0553 |      13 |   0.2653 |     0.0803 |     1992    |\n",
      "| FA-00-00-00-00 |   0.8869 |     0.626 | 0.8768 |   0.7305 |     357 |   0.3053 |     0.0893 |     2042    |\n",
      "| FA-05-00-00-00 |   0.9035 |    0.0306 |    0.6 |   0.0583 |      10 |    0.246 |     0.0713 |     2011    |\n",
      "| FA-06-00-00-00 |   0.8984 |    0.0275 |    0.5 |   0.0521 |      10 |   0.2615 |     0.0765 |     1791    |\n",
      "| FA-07-00-00-00 |   0.8166 |    0.0745 | 0.6829 |   0.1343 |      41 |    0.392 |     0.1254 |     1968    |\n",
      "| GO-00-00-00-00 |   0.8662 |    0.0103 | 0.1538 |   0.0193 |      13 |   0.3374 |     0.1013 |     1517    |\n",
      "| HE-00-00-00-00 |   0.9316 |    0.4825 | 0.9016 |   0.6286 |     122 |   0.2289 |     0.0621 |     1900    |\n",
      "| HO-00-00-00-00 |   0.9128 |    0.7935 | 0.8945 |    0.841 |     550 |   0.2645 |     0.0745 |     2132    |\n",
      "| HO-06-00-00-00 |   0.8935 |    0.1295 | 0.7353 |   0.2203 |      34 |    0.315 |     0.0912 |     1662    |\n",
      "| HO-09-00-00-00 |   0.9226 |    0.1469 | 0.7778 |   0.2471 |      27 |    0.239 |     0.0665 |     1653    |\n",
      "| IM-00-00-00-00 |   0.9333 |    0.1854 | 0.7778 |   0.2995 |      36 |   0.2065 |     0.0563 |     1964    |\n",
      "| MO-00-00-00-00 |   0.8258 |    0.6206 | 0.8224 |   0.7074 |     366 |   0.4226 |     0.1331 |     1429    |\n",
      "| MO-02-00-00-00 |   0.9174 |    0.0429 | 0.5833 |     0.08 |      12 |   0.2327 |     0.0639 |     1949    |\n",
      "| MO-07-00-00-00 |   0.9176 |    0.0918 | 0.6923 |   0.1622 |      13 |   0.2485 |     0.0699 |     1129    |\n",
      "| MO-10-00-00-00 |   0.8662 |     0.021 | 0.2727 |    0.039 |      11 |   0.3188 |     0.0963 |     1106    |\n",
      "| RI-00-00-00-00 |   0.8001 |    0.0394 |    0.5 |   0.0731 |      22 |   0.4229 |     0.1365 |     1396    |\n",
      "| TO-00-00-00-00 |   0.8218 |    0.5083 |    0.8 |   0.6216 |     230 |   0.4034 |     0.1263 |     1257    |\n",
      "| TR-00-00-00-00 |   0.9297 |    0.6695 | 0.9038 |   0.7692 |     260 |   0.2269 |      0.062 |     2006    |\n",
      "| TR-01-00-00-00 |   0.9267 |    0.1216 | 0.8182 |   0.2118 |      22 |   0.2149 |     0.0596 |     1827    |\n",
      "| TR-02-00-00-00 |   0.9021 |    0.1058 | 0.6897 |   0.1835 |      29 |   0.2701 |     0.0769 |     1819    |\n",
      "| TR-03-00-00-00 |   0.9308 |     0.084 | 0.6471 |   0.1486 |      17 |   0.2104 |     0.0573 |     1821    |\n",
      "| TR-04-00-00-00 |   0.9433 |    0.1391 |    0.8 |    0.237 |      20 |   0.1832 |     0.0477 |     1815    |\n",
      "| TR-05-00-00-00 |   0.9466 |    0.2203 | 0.8387 |    0.349 |      31 |   0.1727 |     0.0454 |     1816    |\n",
      "| WO-00-00-00-00 |   0.8564 |    0.5927 | 0.8346 |   0.6931 |     387 |   0.3673 |     0.1127 |     1991    |\n",
      "| WO-03-00-00-00 |   0.8615 |    0.0046 |    0.1 |   0.0088 |      10 |   0.3207 |     0.0996 |     1617    |\n",
      "+----------------+----------+-----------+--------+----------+---------+----------+------------+-------------+\n"
     ]
    }
   ],
   "source": [
    "!python3 -m pip install prettytable\n",
    "from prettytable import PrettyTable\n",
    "t = PrettyTable([\"class\", \"accuracy\", \"precision\", \"recall\", \"F1 score\", \"support\", \"log_loss\", \"brier_loss\", \"|documents|\"])\n",
    "#t.align[\"class\"] = \"r\"\n",
    "t.align[\"accuracy\"] = \"r\"\n",
    "t.align[\"precision\"] = \"r\"\n",
    "t.align[\"recall\"] = \"r\"\n",
    "t.align[\"F1 score\"] = \"r\"\n",
    "t.align[\"support\"] = \"r\"\n",
    "t.align[\"log_loss\"] = \"r\"\n",
    "t.align[\"brier_loss\"] = \"r\"\n",
    "\n",
    "\n",
    "for k,v in stat_dict.items():\n",
    "    t.add_row([k, v[0], v[1], v[2], v[3], v[4], v[5], v[6], numdoc[k]])\n",
    "    \n",
    "print(t)"
   ]
  },
  {
   "cell_type": "markdown",
   "metadata": {
    "colab_type": "text",
    "id": "N1tu4jFOrOaf",
    "janus": {
     "all_versions_showing": false,
     "cell_hidden": false,
     "current_version": 0,
     "id": "ba74459e4e83b",
     "named_versions": [],
     "output_hidden": false,
     "show_versions": false,
     "source_hidden": false,
     "versions": []
    }
   },
   "source": [
    "## Plotting for Top10 classes"
   ]
  },
  {
   "cell_type": "code",
   "execution_count": 23,
   "metadata": {
    "colab": {},
    "colab_type": "code",
    "id": "r4sGK9DsrOhR",
    "janus": {
     "all_versions_showing": false,
     "cell_hidden": true,
     "current_version": 0,
     "id": "120b319cdd3d",
     "named_versions": [],
     "output_hidden": true,
     "show_versions": false,
     "source_hidden": true,
     "versions": []
    }
   },
   "outputs": [
    {
     "data": {
      "image/png": "[encoded data removed]",
      "text/plain": [
       "<Figure size 640x480 with 1 Axes>"
      ]
     },
     "metadata": {},
     "output_type": "display_data"
    }
   ],
   "source": [
    "#for k,v in accuracy_dict.items():\n",
    "#    print(k,v)\n",
    "#sys.exit()\n",
    "import collections\n",
    "import matplotlib.pyplot as plt\n",
    "import numpy as np\n",
    "\n",
    "# Fixing random state for reproducibility\n",
    "np.random.seed(19680801)\n",
    "\n",
    "\n",
    "plt.rcdefaults()\n",
    "fig, ax = plt.subplots()\n",
    "\n",
    "# Example data\n",
    "y_pos = np.arange(10)\n",
    "error = 0 \n",
    "\n",
    "recall_dict = defaultdict()\n",
    "for k,v in stat_dict.items():\n",
    "    recall_dict[k] = v[2]\n",
    "\n",
    "sorted_x = sorted(recall_dict.items(), key=lambda kv: kv[1], reverse=True)\n",
    "topcat_dict = collections.OrderedDict(sorted_x)\n",
    "#print(topcat_dict)\n",
    "\n",
    "keyList = []\n",
    "valList = []\n",
    "for kv in topcat_dict.items():\n",
    "    keyList.append(kv[0])\n",
    "    valList.append(kv[1])\n",
    "\n",
    "ax.barh(y_pos[:10], valList[:10], xerr=error, align='center')\n",
    "ax.set_yticks(y_pos)\n",
    "ax.set_yticklabels(keyList[:10])\n",
    "ax.invert_yaxis()  # labels read top-to-bottom\n",
    "ax.set_xlabel('Recall')\n",
    "ax.set_title('Top10 Recall Scores')\n",
    "\n",
    "plt.show()"
   ]
  },
  {
   "cell_type": "markdown",
   "metadata": {
    "janus": {
     "all_versions_showing": false,
     "cell_hidden": false,
     "current_version": 0,
     "id": "3128d732afee1",
     "named_versions": [],
     "output_hidden": false,
     "show_versions": false,
     "source_hidden": false,
     "versions": []
    }
   },
   "source": [
    "## Bottom 10"
   ]
  },
  {
   "cell_type": "code",
   "execution_count": 24,
   "metadata": {
    "janus": {
     "all_versions_showing": false,
     "cell_hidden": true,
     "current_version": 0,
     "id": "7631c8aa247f3",
     "named_versions": [],
     "output_hidden": true,
     "show_versions": false,
     "source_hidden": true,
     "versions": []
    },
    "scrolled": true
   },
   "outputs": [
    {
     "data": {
      "image/png": "[encoded data removed]",
      "text/plain": [
       "<Figure size 640x480 with 1 Axes>"
      ]
     },
     "metadata": {},
     "output_type": "display_data"
    }
   ],
   "source": [
    "#for k,v in accuracy_dict.items():\n",
    "#    print(k,v)\n",
    "#sys.exit()\n",
    "import collections\n",
    "import matplotlib.pyplot as plt\n",
    "import numpy as np\n",
    "\n",
    "# Fixing random state for reproducibility\n",
    "np.random.seed(19680801)\n",
    "\n",
    "\n",
    "plt.rcdefaults()\n",
    "fig, ax = plt.subplots()\n",
    "\n",
    "# Example data\n",
    "y_pos = np.arange(10)\n",
    "error = 0 \n",
    "\n",
    "recall_dict = defaultdict()\n",
    "for k,v in stat_dict.items():\n",
    "    recall_dict[k] = v[2]\n",
    "    \n",
    "sorted_x = sorted(recall_dict.items(), key=lambda kv: kv[1])\n",
    "topcat_dict = collections.OrderedDict(sorted_x)\n",
    "#print(topcat_dict)\n",
    "\n",
    "keyList = []\n",
    "valList = []\n",
    "for kv in topcat_dict.items():\n",
    "    keyList.append(kv[0])\n",
    "    valList.append(kv[1])\n",
    "\n",
    "\n",
    "\n",
    "\n",
    "ax.barh(y_pos[:10], valList[:10], xerr=error, align='center')\n",
    "ax.set_yticks(y_pos)\n",
    "ax.set_yticklabels(keyList[:10])\n",
    "ax.invert_yaxis()  # labels read top-to-bottom\n",
    "ax.set_xlabel('Recall')\n",
    "ax.set_title('Bottom 10 Recall Scores')\n",
    "\n",
    "plt.show()"
   ]
  },
  {
   "cell_type": "markdown",
   "metadata": {
    "janus": {
     "all_versions_showing": false,
     "cell_hidden": false,
     "current_version": 0,
     "id": "b32f8fe86d67c",
     "named_versions": [],
     "output_hidden": false,
     "show_versions": false,
     "source_hidden": false,
     "versions": []
    }
   },
   "source": [
    "## Recall Distribution"
   ]
  },
  {
   "cell_type": "code",
   "execution_count": 25,
   "metadata": {
    "janus": {
     "all_versions_showing": false,
     "cell_hidden": true,
     "current_version": 0,
     "id": "c55860008c8bc",
     "named_versions": [],
     "output_hidden": true,
     "show_versions": false,
     "source_hidden": true,
     "versions": []
    }
   },
   "outputs": [
    {
     "name": "stdout",
     "output_type": "stream",
     "text": [
      "    Recall\n",
      "0    77.78\n",
      "1    90.32\n",
      "2    77.36\n",
      "3    84.44\n",
      "4    25.00\n",
      "5    46.15\n",
      "6    45.45\n",
      "7    27.27\n",
      "8    70.83\n",
      "9    82.05\n",
      "10   50.00\n",
      "11   53.85\n",
      "12   87.68\n",
      "13   60.00\n",
      "14   50.00\n",
      "15   68.29\n",
      "16   15.38\n",
      "17   90.16\n",
      "18   89.45\n",
      "19   73.53\n",
      "20   77.78\n",
      "21   77.78\n",
      "22   82.24\n",
      "23   58.33\n",
      "24   69.23\n",
      "25   27.27\n",
      "26   50.00\n",
      "27   80.00\n",
      "28   90.38\n",
      "29   81.82\n",
      "30   68.97\n",
      "31   64.71\n",
      "32   80.00\n",
      "33   83.87\n",
      "34   83.46\n",
      "35   10.00\n"
     ]
    },
    {
     "data": {
      "image/png": "[encoded data removed]",
      "text/plain": [
       "<Figure size 640x480 with 1 Axes>"
      ]
     },
     "metadata": {},
     "output_type": "display_data"
    }
   ],
   "source": [
    "import pylab as pl\n",
    "\n",
    "recall_dict = defaultdict()\n",
    "for k,v in stat_dict.items():\n",
    "    recall_dict[k] = v[2]\n",
    "\n",
    "recall_list = []\n",
    "for k,v in recall_dict.items():\n",
    "    recall_list.append(v*100)\n",
    "   \n",
    "d = {'Recall': recall_list}\n",
    "tinydf = pd.DataFrame(data=d)\n",
    "\n",
    "\n",
    "\n",
    "hist = tinydf.hist(edgecolor='black', bins = [0,10,20,30,40,50,60,70,80,90,100])\n",
    "pl.title(\"Recall Distribution\")\n",
    "pl.xlabel(\"Recall Score(%)\")\n",
    "pl.ylabel(\"Number of Classes\")\n",
    "print(tinydf)"
   ]
  },
  {
   "cell_type": "markdown",
   "metadata": {},
   "source": [
    "## log_loss histogram"
   ]
  },
  {
   "cell_type": "code",
   "execution_count": 26,
   "metadata": {},
   "outputs": [
    {
     "name": "stdout",
     "output_type": "stream",
     "text": [
      "    logloss\n",
      "0    0.2951\n",
      "1    0.2169\n",
      "2    0.3644\n",
      "3    0.3465\n",
      "4    0.3339\n",
      "5    0.3722\n",
      "6    0.2744\n",
      "7    0.2691\n",
      "8    0.2142\n",
      "9    0.2675\n",
      "10   0.1872\n",
      "11   0.2653\n",
      "12   0.3053\n",
      "13   0.2460\n",
      "14   0.2615\n",
      "15   0.3920\n",
      "16   0.3374\n",
      "17   0.2289\n",
      "18   0.2645\n",
      "19   0.3150\n",
      "20   0.2390\n",
      "21   0.2065\n",
      "22   0.4226\n",
      "23   0.2327\n",
      "24   0.2485\n",
      "25   0.3188\n",
      "26   0.4229\n",
      "27   0.4034\n",
      "28   0.2269\n",
      "29   0.2149\n",
      "30   0.2701\n",
      "31   0.2104\n",
      "32   0.1832\n",
      "33   0.1727\n",
      "34   0.3673\n",
      "35   0.3207\n"
     ]
    },
    {
     "data": {
      "image/png": "[encoded data removed]",
      "text/plain": [
       "<Figure size 640x480 with 1 Axes>"
      ]
     },
     "metadata": {},
     "output_type": "display_data"
    }
   ],
   "source": [
    "import pylab as pl\n",
    "\n",
    "logloss_dict = defaultdict()\n",
    "for k,v in stat_dict.items():\n",
    "    logloss_dict[k] = v[5]\n",
    "\n",
    "logloss_list = []\n",
    "for k,v in logloss_dict.items():\n",
    "    logloss_list.append(v)\n",
    "   \n",
    "d = {'logloss': logloss_list}\n",
    "tinydf = pd.DataFrame(data=d)\n",
    "\n",
    "hist = tinydf.hist(edgecolor='black', bins = [0.0,0.1,0.2,0.3,0.4,0.5,0.6,0.7,0.8,0.9,1.0])\n",
    "pl.title(\"Log Loss Distribution\")\n",
    "pl.xlabel(\"Log Loss Score\")\n",
    "pl.ylabel(\"Number of Classes\")\n",
    "print(tinydf)"
   ]
  },
  {
   "cell_type": "markdown",
   "metadata": {},
   "source": [
    "## Brier Score Loss"
   ]
  },
  {
   "cell_type": "code",
   "execution_count": 27,
   "metadata": {},
   "outputs": [
    {
     "name": "stdout",
     "output_type": "stream",
     "text": [
      "    brierloss\n",
      "0      0.0889\n",
      "1      0.0604\n",
      "2      0.1087\n",
      "3      0.1049\n",
      "4      0.1022\n",
      "5      0.1130\n",
      "6      0.0800\n",
      "7      0.0802\n",
      "8      0.0561\n",
      "9      0.0803\n",
      "10     0.0549\n",
      "11     0.0803\n",
      "12     0.0893\n",
      "13     0.0713\n",
      "14     0.0765\n",
      "15     0.1254\n",
      "16     0.1013\n",
      "17     0.0621\n",
      "18     0.0745\n",
      "19     0.0912\n",
      "20     0.0665\n",
      "21     0.0563\n",
      "22     0.1331\n",
      "23     0.0639\n",
      "24     0.0699\n",
      "25     0.0963\n",
      "26     0.1365\n",
      "27     0.1263\n",
      "28     0.0620\n",
      "29     0.0596\n",
      "30     0.0769\n",
      "31     0.0573\n",
      "32     0.0477\n",
      "33     0.0454\n",
      "34     0.1127\n",
      "35     0.0996\n"
     ]
    },
    {
     "data": {
      "image/png": "[encoded data removed]",
      "text/plain": [
       "<Figure size 640x480 with 1 Axes>"
      ]
     },
     "metadata": {},
     "output_type": "display_data"
    }
   ],
   "source": [
    "import pylab as pl\n",
    "\n",
    "brierloss_dict = defaultdict()\n",
    "for k,v in stat_dict.items():\n",
    "    brierloss_dict[k] = v[6]\n",
    "\n",
    "brierloss_list = []\n",
    "for k,v in brierloss_dict.items():\n",
    "    brierloss_list.append(v)\n",
    "   \n",
    "d = {'brierloss': brierloss_list}\n",
    "tinydf = pd.DataFrame(data=d)\n",
    "\n",
    "hist = tinydf.hist(edgecolor='black', bins = [0.0,0.1,0.2,0.3,0.4,0.5,0.6,0.7,0.8,0.9,1.0])\n",
    "pl.title(\"Brier Loss Distribution\")\n",
    "pl.xlabel(\"Brier Loss Score\")\n",
    "pl.ylabel(\"Number of Classes\")\n",
    "print(tinydf)"
   ]
  },
  {
   "cell_type": "markdown",
   "metadata": {
    "colab_type": "text",
    "id": "6opsKxImIb5b",
    "janus": {
     "all_versions_showing": false,
     "cell_hidden": false,
     "current_version": 0,
     "id": "4b997c0e2f005",
     "named_versions": [],
     "output_hidden": false,
     "show_versions": false,
     "source_hidden": false,
     "versions": []
    }
   },
   "source": [
    "# Custom Input Prediction"
   ]
  },
  {
   "cell_type": "code",
   "execution_count": 28,
   "metadata": {
    "colab": {},
    "colab_type": "code",
    "id": "Qro-3iB4IiEy",
    "janus": {
     "all_versions_showing": false,
     "cell_hidden": false,
     "current_version": 0,
     "id": "5f2ad812917d3",
     "named_versions": [],
     "output_hidden": false,
     "show_versions": false,
     "source_hidden": false,
     "versions": []
    },
    "scrolled": true
   },
   "outputs": [
    {
     "name": "stdout",
     "output_type": "stream",
     "text": [
      "How do I get my mom's license taken away. My mom is 66, on disability for multiple sclerosis. She's been unable to work for about a decade. She has cataracts. She has neuropathy. She has 0 reaction time. She has had a fender bender on every single corner of her last car, which my brother then totaled. She also has no night vision. She also falls asleep all the time. ALMOST like like narcolepsy. It's mostly her overextending herself, but she will nod off driving or sleep in parking lots til she feels ok. She also has lymphedema in her legs which are swollen enough to impede driving. The last year she was driving she received 19 red light tickets. She agreed not to drive. And the insurance paid for her car. Now she's bought a new one, about 6 months later. Our relationship is terrible. I hate her. But I want her licence taken away before she kills or cripples someone(s). I'm no contact with her, but my brother still tries and he cares about this a lot. I've spoken with the DMV IN MY state, not very helpful. Can i contact her insurance? Do I contact the police? Has this happened to anyone\n",
      "CR-01-00-00-00 [1.] 0.7047\n",
      "CR-04-00-00-00 [1.] 0.8014\n",
      "CR-10-00-00-00 [1.] 0.6478\n",
      "FA-07-00-00-00 [1.] 0.735\n",
      "GO-00-00-00-00 [1.] 0.5066\n",
      "HE-00-00-00-00 [1.] 0.5504\n",
      "RI-00-00-00-00 [1.] 0.5023\n",
      "TO-00-00-00-00 [1.] 0.7125\n",
      "TR-00-00-00-00 [1.] 0.6557\n",
      "TR-01-00-00-00 [1.] 0.6143\n",
      "TR-03-00-00-00 [1.] 0.5042\n"
     ]
    }
   ],
   "source": [
    "text = \"How do I get my mom's license taken away. My mom is 66, on disability for multiple sclerosis. She's been unable to work for about a decade. She has cataracts. She has neuropathy. She has 0 reaction time. She has had a fender bender on every single corner of her last car, which my brother then totaled. She also has no night vision. She also falls asleep all the time. ALMOST like like narcolepsy. It's mostly her overextending herself, but she will nod off driving or sleep in parking lots til she feels ok. She also has lymphedema in her legs which are swollen enough to impede driving. The last year she was driving she received 19 red light tickets. She agreed not to drive. And the insurance paid for her car. Now she's bought a new one, about 6 months later. Our relationship is terrible. I hate her. But I want her licence taken away before she kills or cripples someone(s). I'm no contact with her, but my brother still tries and he cares about this a lot. I've spoken with the DMV IN MY state, not very helpful. Can i contact her insurance? Do I contact the police? Has this happened to anyone\"\n",
    "\n",
    "print(text)\n",
    "input = sent2vec(text)\n",
    "input = np.array(input)\n",
    "\n",
    "predictions = defaultdict() \n",
    "prob = defaultdict()\n",
    "c_logloss = defaultdict()\n",
    "\n",
    "for cls in class_list:\n",
    "    predictions[cls] = classifier[cls].predict([input])\n",
    "    prob[cls] = classifier[cls].predict_proba([input])\n",
    "\n",
    "for k,v in predictions.items():   \n",
    "    if v > 0:\n",
    "        print(k, v, end = ' ')\n",
    "        print(np.round(prob[k][0][1], 4))\n"
   ]
  }
 ],
 "metadata": {
  "accelerator": "GPU",
  "colab": {
   "authorship_tag": "ABX9TyNEs8q1mzt8F3PvZ4WJe7iF",
   "name": "legal_issue_classifier.ipynb",
   "provenance": [],
   "toc_visible": true
  },
  "janus": {
   "filepaths": [
    [
     "ccbc57fe",
     1582755372683,
     1583617048644
    ]
   ],
   "janus_markers": [
    {
     "ids": [
      "fbc1e35bd1c07",
      "b4140f133d1e6"
     ],
     "markerName": "Hidden Cells",
     "showing": false
    },
    {
     "ids": [
      "46f3ebdce3ec5"
     ],
     "markerName": "Hidden Cells",
     "showing": false
    },
    {
     "ids": [
      "da6bfdef8ea13"
     ],
     "markerName": "Hidden Cells",
     "showing": false
    },
    {
     "ids": [
      "455af60adbcad"
     ],
     "markerName": "Hidden Cells",
     "showing": false
    },
    {
     "ids": [
      "11e5448bf4137"
     ],
     "markerName": "Hidden Cells",
     "showing": false
    },
    {
     "ids": [
      "722be740702ee"
     ],
     "markerName": "Hidden Cells",
     "showing": false
    },
    {
     "ids": [
      "dfd2a43208cde"
     ],
     "markerName": "Hidden Cells",
     "showing": false
    },
    {
     "ids": [
      "8dd4a61345312"
     ],
     "markerName": "Hidden Cells",
     "showing": false
    },
    {
     "ids": [
      "381e7a94d7c67"
     ],
     "markerName": "Hidden Cells",
     "showing": false
    },
    {
     "ids": [
      "6611849a9aa39"
     ],
     "markerName": "Hidden Cells",
     "showing": false
    },
    {
     "ids": [
      "120b319cdd3d"
     ],
     "markerName": "Hidden Cells",
     "showing": false
    },
    {
     "ids": [
      "7631c8aa247f3"
     ],
     "markerName": "Hidden Cells",
     "showing": false
    },
    {
     "ids": [
      "c55860008c8bc"
     ],
     "markerName": "Hidden Cells",
     "showing": false
    }
   ],
   "track_history": true
  },
  "kernelspec": {
   "display_name": "Python 3",
   "language": "python",
   "name": "python3"
  },
  "language_info": {
   "codemirror_mode": {
    "name": "ipython",
    "version": 3
   },
   "file_extension": ".py",
   "mimetype": "text/x-python",
   "name": "python",
   "nbconvert_exporter": "python",
   "pygments_lexer": "ipython3",
   "version": "3.8.0"
  }
 },
 "nbformat": 4,
 "nbformat_minor": 1
}
